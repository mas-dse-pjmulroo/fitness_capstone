{
 "cells": [
  {
   "cell_type": "code",
   "execution_count": 95,
   "metadata": {
    "collapsed": false
   },
   "outputs": [
    {
     "name": "stdout",
     "output_type": "stream",
     "text": [
      "Populating the interactive namespace from numpy and matplotlib\n",
      "time: 27.9 ms\n"
     ]
    }
   ],
   "source": [
    "# -*- coding: utf-8 -*-\n",
    "import ujson\n",
    "import json\n",
    "import pprint\n",
    "import glob\n",
    "import matplotlib.pyplot as plt\n",
    "import numpy as np\n",
    "import pandas as pd\n",
    "from operator import itemgetter\n",
    "import multiprocessing\n",
    "from copy import deepcopy\n",
    "import psycopg2\n",
    "\n",
    "from itertools import ifilter\n",
    "\n",
    "pp = pprint.PrettyPrinter(indent=4)\n",
    "%pylab inline"
   ]
  },
  {
   "cell_type": "code",
   "execution_count": 3,
   "metadata": {
    "collapsed": true
   },
   "outputs": [],
   "source": [
    "%load_ext autotime"
   ]
  },
  {
   "cell_type": "code",
   "execution_count": 4,
   "metadata": {
    "collapsed": false
   },
   "outputs": [
    {
     "name": "stdout",
     "output_type": "stream",
     "text": [
      "time: 32.1 ms\n"
     ]
    }
   ],
   "source": [
    "def log_progress(sequence, every=None, size=None):\n",
    "    from ipywidgets import IntProgress, HTML, VBox\n",
    "    from IPython.display import display\n",
    "\n",
    "    is_iterator = False\n",
    "    if size is None:\n",
    "        try:\n",
    "            size = len(sequence)\n",
    "        except TypeError:\n",
    "            is_iterator = True\n",
    "    if size is not None:\n",
    "        if every is None:\n",
    "            if size <= 200:\n",
    "                every = 1\n",
    "            else:\n",
    "                every = int(size / 200)     # every 0.5%\n",
    "    else:\n",
    "        assert every is not None, 'sequence is iterator, set every'\n",
    "\n",
    "    if is_iterator:\n",
    "        progress = IntProgress(min=0, max=1, value=1)\n",
    "        progress.bar_style = 'info'\n",
    "    else:\n",
    "        progress = IntProgress(min=0, max=size, value=0)\n",
    "    label = HTML()\n",
    "    box = VBox(children=[label, progress])\n",
    "    display(box)\n",
    "\n",
    "    index = 0\n",
    "    try:\n",
    "        for index, record in enumerate(sequence, 1):\n",
    "            if index == 1 or index % every == 0:\n",
    "                if is_iterator:\n",
    "                    label.value = '{index} / ?'.format(index=index)\n",
    "                else:\n",
    "                    progress.value = index\n",
    "                    label.value = u'{index} / {size}'.format(\n",
    "                        index=index,\n",
    "                        size=size\n",
    "                    )\n",
    "            yield record\n",
    "    except:\n",
    "        progress.bar_style = 'danger'\n",
    "        raise\n",
    "    else:\n",
    "        progress.bar_style = 'success'\n",
    "        progress.value = index\n",
    "        label.value = str(index or '?')\n"
   ]
  },
  {
   "cell_type": "code",
   "execution_count": 118,
   "metadata": {
    "collapsed": false
   },
   "outputs": [
    {
     "name": "stdout",
     "output_type": "stream",
     "text": [
      "time: 63.5 ms\n"
     ]
    }
   ],
   "source": [
    "sport_lookup = {36: 'handball',\n",
    "           34: 'rugby',\n",
    "           29: 'cricket',\n",
    "           44: 'beach_volleyball',\n",
    "           89: 'skateboarding',\n",
    "           25: 'baseball',\n",
    "           48: 'martial_arts',\n",
    "           45: 'volleyball',\n",
    "           8: 'snowboarding',\n",
    "           37: 'hockey',\n",
    "           94: 'treadmill_walking',\n",
    "           31: 'dancing',\n",
    "           26: 'basketball',\n",
    "           93: 'climbing',\n",
    "           43: 'tennis',\n",
    "           33: 'american_football',\n",
    "           15: 'golf',\n",
    "           27: 'boxing',\n",
    "           10: 'kite_surfing',\n",
    "           91: 'snowshoeing',\n",
    "           28: 'stair_climing',\n",
    "           47: 'yoga',\n",
    "           92: 'wheelchair',\n",
    "           87: 'circuit_training',\n",
    "           38: 'pilates',\n",
    "           7: 'downhill_skiing',\n",
    "           30: 'elliptical',\n",
    "           24: 'badminton',\n",
    "           23: 'aerobics',\n",
    "           5: 'roller_skiing',\n",
    "           50: 'step_counter',\n",
    "           12: 'sailing',\n",
    "           13: 'windsurfing',\n",
    "           88: 'treadmill_running',\n",
    "           49: 'gymnastics',\n",
    "           9: 'kayaking',\n",
    "           17: 'orienteering',\n",
    "           11: 'rowing',\n",
    "           19: 'horseback_riding',\n",
    "           35: 'soccer',\n",
    "           46: 'weight_training',\n",
    "           14: 'fitness_walking',\n",
    "           16: 'hiking',\n",
    "           21: 'indoor_cycling',\n",
    "           22: 'core_stability_training',\n",
    "           20: 'swimming',\n",
    "           4: 'skate',\n",
    "           0: 'run',\n",
    "           40: 'scuba_diving',\n",
    "           1: 'bike_transport',\n",
    "           2: 'bike',\n",
    "           3: 'mountain_bike',\n",
    "           18: 'walk',\n",
    "           41: 'squash',\n",
    "           42: 'table_tennis',\n",
    "           90: 'surfing',\n",
    "           39: 'polo',\n",
    "           32: 'fencing',\n",
    "           86: 'walk_transport',\n",
    "           84: 'weight_lifting',\n",
    "           58: 'circuit_training',\n",
    "           6: 'cross_country_skiing'}"
   ]
  },
  {
   "cell_type": "code",
   "execution_count": 5,
   "metadata": {
    "collapsed": false
   },
   "outputs": [
    {
     "name": "stdout",
     "output_type": "stream",
     "text": [
      "10014612.txt 13619220.txt 2183651.txt  366212.txt   5346596.txt  7723530.txt\n",
      "10027353.txt 1362730.txt  2207788.txt  3664548.txt  535315.txt   7726077.txt\n",
      "10028940.txt 13637398.txt 2209215.txt  3668539.txt  5358123.txt  7734791.txt\n",
      "10051240.txt 13653.txt    221371.txt   3672721.txt  5362316.txt  7737399.txt\n",
      "10057948.txt 13657138.txt 2215571.txt  367324.txt   5378465.txt  7743096.txt\n",
      "10086630.txt 13665835.txt 2218816.txt  3674362.txt  538524.txt   7748686.txt\n",
      "1009668.txt  13668730.txt 22260.txt    3680369.txt  5386323.txt  7752286.txt\n",
      "10099521.txt 1367691.txt  2226932.txt  368603.txt   5395086.txt  775277.txt\n",
      "10099726.txt 1367925.txt  2227649.txt  3688079.txt  5407179.txt  77567.txt\n",
      "10102190.txt 13681075.txt 2228208.txt  3689976.txt  5421474.txt  7761529.txt\n",
      "10112432.txt 13681949.txt 2232554.txt  3691161.txt  5435152.txt  7763998.txt\n",
      "10122140.txt 1368888.txt  2232580.txt  3692720.txt  5453063.txt  776483.txt\n",
      "10132518.txt 13693003.txt 2237368.txt  3700284.txt  5466683.txt  7769983.txt\n",
      "101768.txt   13702299.txt 2246153.txt  3701695.txt  5471064.txt  777141.txt\n",
      "10177904.txt 13705737.txt 2247009.txt  3702346.txt  5481957.txt  7778785.txt\n",
      "10183747.txt 13731670.txt 2248203.txt  3704065.txt  5486878.txt  7780362.txt\n",
      "10198429.txt 13751169.txt 2255294.txt  3709276.txt  5488047.txt  7784382.txt\n",
      "10199343.txt 13758934.txt 2255761.txt  3714939.txt  5507899.txt  7790158.txt\n",
      "10210063.txt 1377236.txt  226851.txt   371523.txt   5511543.txt  7790171.txt\n",
      "10219208.txt 13774949.txt 2275429.txt  3725029.txt  5524863.txt  7795957.txt\n",
      "1023513.txt  13779308.txt 2282039.txt  3736342.txt  5525152.txt  7801809.txt\n",
      "10268952.txt 13784674.txt 229190.txt   3736878.txt  5528505.txt  7822006.txt\n",
      "10277354.txt 13802537.txt 229913.txt   3738748.txt  5539676.txt  7823641.txt\n",
      "1028009.txt  13831483.txt 230058.txt   374116.txt   5547218.txt  7833767.txt\n",
      "10299116.txt 13832621.txt 2306655.txt  3743021.txt  5551642.txt  7837132.txt\n",
      "10305312.txt 13840816.txt 2315790.txt  3748741.txt  5554061.txt  7839953.txt\n",
      "10310716.txt 13842892.txt 2333172.txt  3769844.txt  556109.txt   785283.txt\n",
      "10312573.txt 1384698.txt  233339.txt   3788549.txt  5605316.txt  7892240.txt\n",
      "10332787.txt 1385001.txt  2336853.txt  3799875.txt  5607830.txt  7898832.txt\n",
      "1034368.txt  13854891.txt 2344086.txt  3801140.txt  56291.txt    789985.txt\n",
      "10344170.txt 13859471.txt 2344846.txt  3808.txt     5629523.txt  790873.txt\n",
      "1035156.txt  13894187.txt 2357848.txt  3808596.txt  56331.txt    791908.txt\n",
      "10359033.txt 13913108.txt 2358.txt     3812491.txt  5635059.txt  7925363.txt\n",
      "10367164.txt 13929011.txt 2359422.txt  3820045.txt  5635573.txt  7927251.txt\n",
      "10381161.txt 13935725.txt 2367043.txt  3824420.txt  5641621.txt  7957303.txt\n",
      "1038205.txt  13936431.txt 2368480.txt  3832297.txt  5644961.txt  7958839.txt\n",
      "1040960.txt  139383.txt   236903.txt   3839510.txt  5645980.txt  796485.txt\n",
      "1041230.txt  139442.txt   2369854.txt  3841089.txt  5655936.txt  7965241.txt\n",
      "1042134.txt  13974382.txt 2370292.txt  3846909.txt  5671712.txt  7967148.txt\n",
      "104216.txt   13977163.txt 237441.txt   3867177.txt  5677506.txt  797841.txt\n",
      "10421854.txt 14018941.txt 2390403.txt  386784.txt   5703.txt     7983390.txt\n",
      "10423727.txt 1403077.txt  239106.txt   387286.txt   5727574.txt  7996903.txt\n",
      "1043889.txt  140314.txt   2397772.txt  388522.txt   5745229.txt  7998342.txt\n",
      "10445240.txt 14039377.txt 240120.txt   3895149.txt  5746423.txt  8000584.txt\n",
      "10453856.txt 14052192.txt 2404531.txt  3895601.txt  576041.txt   8006230.txt\n",
      "10477550.txt 14055451.txt 2419254.txt  3897720.txt  576603.txt   80101.txt\n",
      "10481122.txt 14066279.txt 2435099.txt  3903358.txt  5798912.txt  80118.txt\n",
      "1048979.txt  14066703.txt 244128.txt   3905196.txt  5804873.txt  8034530.txt\n",
      "1049894.txt  14066832.txt 2445737.txt  3907530.txt  5836671.txt  804068.txt\n",
      "1050143.txt  14070137.txt 2461936.txt  3908642.txt  5839886.txt  8040877.txt\n",
      "10503628.txt 14083711.txt 2464640.txt  3916526.txt  584087.txt   804189.txt\n",
      "10517573.txt 14086617.txt 2474684.txt  3918301.txt  5844.txt     80466.txt\n",
      "10519916.txt 14087413.txt 2474825.txt  3924315.txt  5850177.txt  8063213.txt\n",
      "1052460.txt  1410151.txt  2479025.txt  3927253.txt  5852978.txt  8065144.txt\n",
      "10536623.txt 14111843.txt 2482049.txt  3937900.txt  58536.txt    8070374.txt\n",
      "1054675.txt  1412034.txt  2484383.txt  3946466.txt  5896828.txt  8107339.txt\n",
      "1055288.txt  14120417.txt 2484395.txt  3950693.txt  5907922.txt  8108550.txt\n",
      "1055977.txt  14122572.txt 2486861.txt  3951504.txt  5910722.txt  8170078.txt\n",
      "10562495.txt 1412615.txt  2487085.txt  3961631.txt  5914538.txt  81753.txt\n",
      "10568980.txt 14126976.txt 2487889.txt  3978343.txt  5929760.txt  8186086.txt\n",
      "1058434.txt  1413935.txt  2497422.txt  3979139.txt  5936849.txt  818925.txt\n",
      "10603980.txt 14160052.txt 2524253.txt  3981080.txt  5943551.txt  820584.txt\n",
      "1060751.txt  1416182.txt  2535101.txt  3987593.txt  5946470.txt  82119.txt\n",
      "10613102.txt 1417260.txt  2540921.txt  3992841.txt  5952543.txt  8221442.txt\n",
      "1063624.txt  14176671.txt 25542.txt    3993407.txt  5960834.txt  8222584.txt\n",
      "10647023.txt 141794.txt   2568526.txt  4003530.txt  5964610.txt  8230690.txt\n",
      "10657573.txt 14185532.txt 2576672.txt  4006330.txt  5971071.txt  824320.txt\n",
      "1066105.txt  14198032.txt 2582984.txt  4007546.txt  5979382.txt  8258450.txt\n",
      "10678033.txt 14200462.txt 2584821.txt  4009109.txt  5981991.txt  8276277.txt\n",
      "10690861.txt 14204020.txt 2587134.txt  401430.txt   5986686.txt  8280058.txt\n",
      "1069797.txt  14214568.txt 2587574.txt  4014699.txt  6000431.txt  8280412.txt\n",
      "10705287.txt 14215655.txt 2594030.txt  4015969.txt  6007730.txt  8281868.txt\n",
      "1071275.txt  1421822.txt  2595849.txt  4025656.txt  6044358.txt  8294504.txt\n",
      "10719156.txt 1423027.txt  2596923.txt  4026257.txt  604703.txt   8299100.txt\n",
      "10726030.txt 14244423.txt 2600099.txt  403148.txt   6048570.txt  8304451.txt\n",
      "1074038.txt  14255438.txt 2606898.txt  4045488.txt  6055485.txt  8306072.txt\n",
      "10755044.txt 14283639.txt 260784.txt   4054786.txt  6064655.txt  8320391.txt\n",
      "1077360.txt  14285755.txt 2612870.txt  4057523.txt  6069440.txt  8323865.txt\n",
      "10778902.txt 1428766.txt  261597.txt   4059417.txt  6080660.txt  8349084.txt\n",
      "10779611.txt 1429328.txt  2617138.txt  4066580.txt  6090906.txt  835236.txt\n",
      "107803.txt   1430565.txt  2618166.txt  4071968.txt  6091689.txt  8353647.txt\n",
      "10803572.txt 14306891.txt 2625706.txt  407769.txt   6097672.txt  8366159.txt\n",
      "10808479.txt 14307096.txt 2636715.txt  4090553.txt  610167.txt   8369655.txt\n",
      "10815918.txt 1430980.txt  2649245.txt  4101.txt     6106910.txt  8372231.txt\n",
      "1081719.txt  14310863.txt 2649716.txt  4101742.txt  6107778.txt  8372595.txt\n",
      "10821441.txt 14320047.txt 2653528.txt  4119409.txt  6113340.txt  8378691.txt\n",
      "10841339.txt 14320131.txt 2661450.txt  4124709.txt  6125990.txt  838899.txt\n",
      "1086745.txt  14334660.txt 2669847.txt  4131540.txt  6142971.txt  843368.txt\n",
      "10874833.txt 14370069.txt 2675116.txt  4133458.txt  6146165.txt  843607.txt\n",
      "10888294.txt 14389288.txt 2692363.txt  4146688.txt  6149672.txt  8438734.txt\n",
      "10917968.txt 14391369.txt 2692384.txt  41528.txt    6162340.txt  8446566.txt\n",
      "10921915.txt 14394432.txt 2699896.txt  4161100.txt  6162923.txt  8453120.txt\n",
      "10927933.txt 1442298.txt  2717503.txt  4161148.txt  6176971.txt  846598.txt\n",
      "10943750.txt 14491937.txt 2719026.txt  4164701.txt  6181060.txt  8467445.txt\n",
      "10981926.txt 1453299.txt  2719148.txt  4170685.txt  6194859.txt  848177.txt\n",
      "10982349.txt 14544270.txt 272557.txt   4176041.txt  6206346.txt  848299.txt\n",
      "10990412.txt 1457349.txt  2726097.txt  4177391.txt  6216280.txt  8484809.txt\n",
      "10990946.txt 1458325.txt  2734298.txt  4182594.txt  6223138.txt  8501164.txt\n",
      "109975.txt   1458980.txt  2735300.txt  419148.txt   6229563.txt  8512241.txt\n",
      "11002376.txt 14671923.txt 2738159.txt  4198916.txt  6242372.txt  851531.txt\n",
      "11007455.txt 1468536.txt  2740323.txt  4200273.txt  6272219.txt  8522417.txt\n",
      "11026632.txt 1470078.txt  2745544.txt  4203888.txt  6275481.txt  852337.txt\n",
      "11183643.txt 14706688.txt 2747937.txt  422397.txt   6286628.txt  8535425.txt\n",
      "11215534.txt 14766560.txt 2748743.txt  4226525.txt  6296204.txt  8543593.txt\n",
      "11255266.txt 1477239.txt  2748745.txt  4232248.txt  6299290.txt  854368.txt\n",
      "11258520.txt 147750.txt   2748894.txt  4233611.txt  6307695.txt  854633.txt\n",
      "11258873.txt 14779650.txt 2756792.txt  4248213.txt  6314346.txt  8548832.txt\n",
      "11259652.txt 1478830.txt  2759262.txt  4253141.txt  632663.txt   8549297.txt\n",
      "11277478.txt 1481127.txt  2767185.txt  4264744.txt  6342136.txt  8557955.txt\n",
      "11314348.txt 1483178.txt  277072.txt   4264913.txt  6361870.txt  857962.txt\n",
      "11326778.txt 1486987.txt  2774168.txt  4274727.txt  6369324.txt  8582302.txt\n",
      "11330346.txt 1491659.txt  2784425.txt  4283690.txt  6394052.txt  8588224.txt\n",
      "11362758.txt 1493217.txt  279317.txt   429155.txt   6396824.txt  8588834.txt\n",
      "11377493.txt 15016943.txt 2794662.txt  4296404.txt  6400833.txt  860533.txt\n",
      "11394885.txt 15039847.txt 2795796.txt  4304926.txt  6422295.txt  8605838.txt\n",
      "114073.txt   150436.txt   2798532.txt  430859.txt   6437370.txt  8608690.txt\n",
      "11421681.txt 151094.txt   279962.txt   4313124.txt  645560.txt   8615989.txt\n",
      "11422353.txt 15125095.txt 280024.txt   431375.txt   6463405.txt  8621055.txt\n",
      "11444169.txt 1517628.txt  2805418.txt  43169.txt    6468697.txt  8627235.txt\n",
      "11457292.txt 1517642.txt  28064.txt    4318337.txt  6479229.txt  863013.txt\n",
      "11472426.txt 1520156.txt  2831390.txt  432096.txt   6480253.txt  8632256.txt\n",
      "11493412.txt 15279967.txt 283321.txt   4321971.txt  6481880.txt  8635507.txt\n",
      "11494889.txt 1530732.txt  2834824.txt  4325326.txt  6493363.txt  864033.txt\n",
      "11507087.txt 15326644.txt 2844791.txt  4328513.txt  6502384.txt  8650351.txt\n",
      "11510590.txt 1534965.txt  284803.txt   4330976.txt  6505421.txt  8662931.txt\n",
      "11555239.txt 1541269.txt  2849785.txt  433157.txt   6514349.txt  866771.txt\n",
      "11599779.txt 1543583.txt  2853238.txt  4341373.txt  651716.txt   8670360.txt\n",
      "11606634.txt 1543833.txt  2856716.txt  434265.txt   6518764.txt  8678367.txt\n",
      "11658913.txt 15470560.txt 2866443.txt  4344878.txt  6532016.txt  8687680.txt\n",
      "11671598.txt 15481421.txt 2868369.txt  43462.txt    6533276.txt  8707000.txt\n",
      "11675398.txt 1560092.txt  2871677.txt  4350897.txt  65350.txt    8710527.txt\n",
      "11709807.txt 157832.txt   2887449.txt  4357738.txt  653747.txt   8747440.txt\n",
      "11718239.txt 1581252.txt  2887587.txt  4362441.txt  6539051.txt  874999.txt\n",
      "11737814.txt 158177.txt   2894788.txt  4363552.txt  6550005.txt  875281.txt\n",
      "11738619.txt 1582750.txt  2894897.txt  4370654.txt  65547.txt    8765371.txt\n",
      "11777131.txt 1586834.txt  2898275.txt  437459.txt   6572322.txt  8767606.txt\n",
      "11782156.txt 1586927.txt  2901641.txt  4386080.txt  6576243.txt  877155.txt\n",
      "11784007.txt 1589193.txt  2909018.txt  4390235.txt  6579857.txt  8785331.txt\n",
      "11791565.txt 1590420.txt  2915343.txt  4399772.txt  6582710.txt  8791704.txt\n",
      "11820290.txt 159106.txt   2924469.txt  4403506.txt  6584414.txt  8799177.txt\n",
      "11822506.txt 1593295.txt  2927285.txt  4419649.txt  6591189.txt  8807629.txt\n",
      "11825035.txt 1593645.txt  2934877.txt  4420869.txt  659522.txt   8830953.txt\n",
      "118377.txt   1597402.txt  2941284.txt  4428422.txt  6601602.txt  885462.txt\n",
      "11884453.txt 1598505.txt  2949162.txt  4433918.txt  6606636.txt  8862481.txt\n",
      "11886052.txt 1599388.txt  2960456.txt  4434.txt     6617597.txt  8865904.txt\n",
      "11889307.txt 1601558.txt  2964036.txt  4437920.txt  6641862.txt  8875079.txt\n",
      "11909062.txt 1603116.txt  2970357.txt  4439016.txt  6657437.txt  8888545.txt\n",
      "11917849.txt 1609501.txt  2974312.txt  4443471.txt  6670535.txt  8891785.txt\n",
      "11925846.txt 1609921.txt  2978342.txt  4446822.txt  6674678.txt  8894561.txt\n",
      "11939019.txt 1616449.txt  2981884.txt  4456323.txt  6676926.txt  8899244.txt\n",
      "11954853.txt 1638160.txt  2989129.txt  4457345.txt  6692748.txt  890789.txt\n",
      "11987263.txt 1640562.txt  2994297.txt  447454.txt   6709731.txt  891479.txt\n",
      "11992223.txt 1653027.txt  2998566.txt  4476375.txt  6716410.txt  8923359.txt\n",
      "12015928.txt 1655221.txt  3021311.txt  4496645.txt  6720993.txt  8936532.txt\n",
      "12049619.txt 1659991.txt  3021842.txt  4518433.txt  6721368.txt  8959190.txt\n",
      "12064359.txt 1663599.txt  3029335.txt  4520360.txt  6724449.txt  8959308.txt\n",
      "12074235.txt 1668573.txt  3041144.txt  4535678.txt  6725147.txt  8963019.txt\n",
      "12080152.txt 1670340.txt  304412.txt   4536750.txt  6725160.txt  8972795.txt\n",
      "12087190.txt 1675394.txt  3055418.txt  4543124.txt  6766202.txt  8974660.txt\n",
      "12089669.txt 1676051.txt  3056680.txt  4564626.txt  6776771.txt  897592.txt\n",
      "12092082.txt 1676449.txt  3060590.txt  4572860.txt  6788906.txt  8993175.txt\n",
      "12137040.txt 16786.txt    3069074.txt  4583265.txt  6793807.txt  8994138.txt\n",
      "12175120.txt 1682336.txt  3074700.txt  4584909.txt  6796415.txt  8994885.txt\n",
      "12200275.txt 1693702.txt  3075171.txt  458903.txt   6797922.txt  9001451.txt\n",
      "12202944.txt 1698488.txt  3082409.txt  4595683.txt  6800874.txt  9008533.txt\n",
      "12218145.txt 1703485.txt  3083502.txt  4615477.txt  68009.txt    9010559.txt\n",
      "12254822.txt 1705167.txt  3083777.txt  4625024.txt  6808627.txt  903587.txt\n",
      "12309239.txt 1706844.txt  3085942.txt  4634912.txt  68129.txt    9051351.txt\n",
      "12309278.txt 1707239.txt  3088466.txt  4654918.txt  6815015.txt  90592.txt\n",
      "12341489.txt 1708694.txt  3089500.txt  4668578.txt  681624.txt   9070035.txt\n",
      "12362801.txt 171814.txt   3091798.txt  4668828.txt  6828710.txt  907015.txt\n",
      "12406103.txt 1721981.txt  3118467.txt  4671209.txt  6873187.txt  907469.txt\n",
      "12420980.txt 1725447.txt  3122949.txt  4675763.txt  6879414.txt  9091497.txt\n",
      "12428041.txt 1731481.txt  3135320.txt  4693937.txt  6882560.txt  9093986.txt\n",
      "12455160.txt 1732973.txt  3157699.txt  4708444.txt  6883061.txt  9107441.txt\n",
      "12466397.txt 1737182.txt  3167841.txt  4710852.txt  6891868.txt  9121329.txt\n",
      "12471801.txt 1737346.txt  3173945.txt  4727641.txt  6892365.txt  9125026.txt\n",
      "12524285.txt 1739586.txt  3178678.txt  4752000.txt  69.txt       9130659.txt\n",
      "12537176.txt 174288.txt   3179516.txt  4774109.txt  6919744.txt  9136335.txt\n",
      "12539957.txt 1742945.txt  3183361.txt  478585.txt   69228.txt    914152.txt\n",
      "12555443.txt 1749538.txt  3191096.txt  4787441.txt  6926799.txt  91471.txt\n",
      "12563086.txt 1760006.txt  3205177.txt  4796418.txt  6936214.txt  914900.txt\n",
      "12601732.txt 1771619.txt  3210780.txt  4806068.txt  6946645.txt  9157551.txt\n",
      "126114.txt   1779490.txt  3227742.txt  4819175.txt  6946869.txt  9198615.txt\n",
      "12615249.txt 1796601.txt  3232375.txt  4822555.txt  6958636.txt  9221677.txt\n",
      "12635957.txt 1812737.txt  3232625.txt  4827567.txt  6961546.txt  9225240.txt\n",
      "12645302.txt 1815650.txt  3235195.txt  4832531.txt  6963583.txt  9228624.txt\n",
      "12649708.txt 1816756.txt  324779.txt   4836713.txt  6966117.txt  9232852.txt\n",
      "126898.txt   1818822.txt  3253658.txt  4845228.txt  6969866.txt  9275291.txt\n",
      "12694193.txt 1818866.txt  3262231.txt  4852170.txt  6984316.txt  9280286.txt\n",
      "127185.txt   1819769.txt  3268225.txt  4853182.txt  7017288.txt  9286593.txt\n",
      "12726303.txt 1820027.txt  3272464.txt  4861891.txt  7022226.txt  9295581.txt\n",
      "12742275.txt 182042.txt   3275003.txt  4868692.txt  7029291.txt  9299466.txt\n",
      "127432.txt   184018.txt   3276737.txt  4873224.txt  7038373.txt  9313150.txt\n",
      "12747276.txt 1842744.txt  3285176.txt  4886757.txt  7040415.txt  9335429.txt\n",
      "12747285.txt 1847703.txt  3288898.txt  4887822.txt  7045897.txt  9336459.txt\n",
      "12751232.txt 185036.txt   3289673.txt  4888910.txt  7072978.txt  9338715.txt\n",
      "12753836.txt 1853801.txt  3295790.txt  4905815.txt  7081767.txt  9345869.txt\n",
      "12768517.txt 185879.txt   3297710.txt  4915057.txt  7083181.txt  9356728.txt\n",
      "12783742.txt 1860957.txt  3298927.txt  4938238.txt  709097.txt   9359950.txt\n",
      "12806667.txt 1861050.txt  3301823.txt  4950883.txt  7099226.txt  9378990.txt\n",
      "12815244.txt 1875839.txt  3303712.txt  4958189.txt  7120364.txt  9416488.txt\n",
      "12830822.txt 1878236.txt  331586.txt   4969375.txt  7122167.txt  941705.txt\n",
      "128405.txt   1880023.txt  3316311.txt  4972213.txt  7123482.txt  9422215.txt\n",
      "12854825.txt 1882312.txt  3317373.txt  497349.txt   7134412.txt  942606.txt\n",
      "1290266.txt  1891382.txt  3320904.txt  4973835.txt  7135109.txt  942798.txt\n",
      "1290773.txt  189488.txt   3321259.txt  4979907.txt  7136731.txt  9437840.txt\n",
      "12908326.txt 1895481.txt  3324472.txt  4982869.txt  7147290.txt  947554.txt\n",
      "12911993.txt 1896530.txt  3325031.txt  498804.txt   715469.txt   9476518.txt\n",
      "12913419.txt 1905237.txt  3327597.txt  4989779.txt  7171109.txt  9481945.txt\n",
      "1295505.txt  1907590.txt  3334434.txt  4997266.txt  7178673.txt  9484057.txt\n",
      "1295675.txt  1912029.txt  3338062.txt  4997910.txt  7178871.txt  9484782.txt\n",
      "1296384.txt  1924007.txt  334217.txt   4998101.txt  7181149.txt  9484963.txt\n",
      "12969729.txt 1925904.txt  3347250.txt  499841.txt   7183572.txt  9508545.txt\n",
      "12974391.txt 1932580.txt  3347692.txt  5000185.txt  7191585.txt  9522694.txt\n",
      "12982703.txt 1939033.txt  3349917.txt  501555.txt   7197226.txt  9525377.txt\n",
      "12988738.txt 195134.txt   3351234.txt  5032597.txt  7197311.txt  9529949.txt\n",
      "13005985.txt 1952038.txt  3362051.txt  5035433.txt  71988.txt    95439.txt\n",
      "13072844.txt 1956196.txt  3365457.txt  50404.txt    722528.txt   954504.txt\n",
      "13075611.txt 1956847.txt  336611.txt   504709.txt   7228559.txt  9571309.txt\n",
      "13088747.txt 1957863.txt  3368986.txt  5063358.txt  7231044.txt  9593654.txt\n",
      "13094344.txt 1958069.txt  337104.txt   5067269.txt  7239166.txt  9613679.txt\n",
      "13099479.txt 1958991.txt  3375182.txt  507129.txt   727294.txt   962169.txt\n",
      "13110384.txt 196185.txt   3377565.txt  5072565.txt  7284222.txt  9622636.txt\n",
      "13119347.txt 196571.txt   3381703.txt  5084894.txt  7285980.txt  9632922.txt\n",
      "1314596.txt  196781.txt   3386110.txt  5086939.txt  7290834.txt  9655659.txt\n",
      "13149722.txt 1972150.txt  338866.txt   508935.txt   7302262.txt  9656255.txt\n",
      "13161306.txt 1986853.txt  3401539.txt  5095069.txt  7303319.txt  96628.txt\n",
      "13165320.txt 1998312.txt  340439.txt   5097670.txt  7313790.txt  968559.txt\n",
      "1320822.txt  2000270.txt  3404661.txt  510054.txt   732008.txt   9691938.txt\n",
      "13210114.txt 2005535.txt  3411439.txt  510296.txt   7324715.txt  9696828.txt\n",
      "13219437.txt 200833.txt   3417701.txt  5106976.txt  7325781.txt  971189.txt\n",
      "13245437.txt 2016429.txt  3421382.txt  5107134.txt  7338443.txt  971350.txt\n",
      "13265402.txt 2020266.txt  34269.txt    5127239.txt  7342285.txt  9722044.txt\n",
      "13276532.txt 203045.txt   342794.txt   5163476.txt  7374244.txt  9723190.txt\n",
      "13279851.txt 2033976.txt  3432842.txt  5164930.txt  7382493.txt  9732499.txt\n",
      "1329120.txt  2046947.txt  3438751.txt  5170013.txt  7387116.txt  9760872.txt\n",
      "13302788.txt 2050878.txt  3439813.txt  5173214.txt  738963.txt   977853.txt\n",
      "13303518.txt 2060912.txt  3445572.txt  517351.txt   7404960.txt  9785939.txt\n",
      "13305991.txt 2068991.txt  3455568.txt  5180550.txt  7425627.txt  979910.txt\n",
      "13310164.txt 2071522.txt  3456373.txt  5180701.txt  7430612.txt  9815069.txt\n",
      "13319741.txt 2075149.txt  3468521.txt  519009.txt   745030.txt   98159.txt\n",
      "1333222.txt  2076057.txt  3469220.txt  519257.txt   7470676.txt  9822299.txt\n",
      "13338915.txt 207868.txt   3469960.txt  5197.txt     7470845.txt  982359.txt\n",
      "13359841.txt 2083091.txt  3471841.txt  5197413.txt  74718.txt    9838072.txt\n",
      "13369299.txt 2102320.txt  3472071.txt  5202682.txt  7482148.txt  983950.txt\n",
      "13372869.txt 2104631.txt  3474653.txt  5204195.txt  7483179.txt  988168.txt\n",
      "13389154.txt 2115539.txt  3477404.txt  5210077.txt  7491183.txt  9882712.txt\n",
      "13397057.txt 2119401.txt  3479937.txt  5212621.txt  74913.txt    9884559.txt\n",
      "13406764.txt 2122136.txt  3497550.txt  5215798.txt  7493049.txt  9889560.txt\n",
      "1340801.txt  212295.txt   3509206.txt  5225023.txt  7513131.txt  9893231.txt\n",
      "1342020.txt  2129382.txt  3517326.txt  5242117.txt  751448.txt   9896935.txt\n",
      "1343759.txt  2131732.txt  3537163.txt  5245234.txt  7516129.txt  9904679.txt\n",
      "13455187.txt 2140747.txt  3545637.txt  525168.txt   753100.txt   9913386.txt\n",
      "13457408.txt 2145516.txt  355088.txt   5252259.txt  7551966.txt  9918949.txt\n",
      "13465705.txt 2145864.txt  3553925.txt  5255745.txt  7555928.txt  993057.txt\n",
      "13468836.txt 2148533.txt  3556695.txt  5268649.txt  757635.txt   9933513.txt\n",
      "13469928.txt 2149070.txt  3558042.txt  5269471.txt  7580364.txt  993718.txt\n",
      "13473363.txt 2155614.txt  3559941.txt  5273972.txt  7619393.txt  9937628.txt\n",
      "13493567.txt 2155974.txt  3575734.txt  5278840.txt  762872.txt   9947212.txt\n",
      "13503753.txt 2159610.txt  3576105.txt  5298016.txt  7629457.txt  9956787.txt\n",
      "13560443.txt 2164708.txt  358670.txt   5306319.txt  764981.txt   9959962.txt\n",
      "1356350.txt  2171282.txt  359613.txt   5318611.txt  7654809.txt  9985340.txt\n",
      "13563591.txt 2171721.txt  3609010.txt  5325166.txt  765825.txt   9991401.txt\n",
      "13564468.txt 217473.txt   3616044.txt  5337796.txt  7696046.txt  9992348.txt\n",
      "13577416.txt 2174810.txt  3630588.txt  5339602.txt  770148.txt\n",
      "13581902.txt 2175400.txt  3646449.txt  5342638.txt  7710890.txt\n",
      "136171.txt   2181290.txt  3655927.txt  5346265.txt  7716949.txt\n",
      "time: 152 ms\n"
     ]
    }
   ],
   "source": [
    "!ls /Users/patrickmulrooney/Downloads/endomondo/individual_users/"
   ]
  },
  {
   "cell_type": "code",
   "execution_count": 91,
   "metadata": {
    "collapsed": false
   },
   "outputs": [
    {
     "name": "stdout",
     "output_type": "stream",
     "text": [
      "time: 26min 50s\n"
     ]
    }
   ],
   "source": []
  },
  {
   "cell_type": "code",
   "execution_count": 92,
   "metadata": {
    "collapsed": false
   },
   "outputs": [
    {
     "name": "stdout",
     "output_type": "stream",
     "text": [
      "1320401\n",
      "234921\n",
      "time: 1.3 ms\n"
     ]
    }
   ],
   "source": [
    "print total_count\n",
    "print weather_count"
   ]
  },
  {
   "cell_type": "code",
   "execution_count": 93,
   "metadata": {
    "collapsed": false
   },
   "outputs": [
    {
     "data": {
      "text/plain": [
       "{u'calories': 2466.0,\n",
       " u'distance': 62.3647,\n",
       " u'duration': 9902.863,\n",
       " u'heart_rate_avg': 141.0,\n",
       " u'heart_rate_max': 177.0,\n",
       " u'id': 189117508,\n",
       " u'speed_avg': 22.67151630796064,\n",
       " u'speed_max': 62.9496,\n",
       " u'sport': 'bike'}"
      ]
     },
     "execution_count": 93,
     "metadata": {},
     "output_type": "execute_result"
    },
    {
     "name": "stdout",
     "output_type": "stream",
     "text": [
      "time: 4.52 ms\n"
     ]
    }
   ],
   "source": [
    "j"
   ]
  },
  {
   "cell_type": "code",
   "execution_count": null,
   "metadata": {
    "collapsed": true
   },
   "outputs": [],
   "source": []
  },
  {
   "cell_type": "code",
   "execution_count": 129,
   "metadata": {
    "collapsed": false
   },
   "outputs": [
    {
     "name": "stdout",
     "output_type": "stream",
     "text": [
      "time: 13.5 ms\n"
     ]
    }
   ],
   "source": [
    "dbname = 'endomondo'\n",
    "conn = psycopg2.connect(\"dbname=endomondo user=patrickmulrooney\")\n",
    "\n",
    "# Open a cursor to perform database operations\n",
    "cur = conn.cursor()\n"
   ]
  },
  {
   "cell_type": "code",
   "execution_count": 97,
   "metadata": {
    "collapsed": false
   },
   "outputs": [
    {
     "name": "stdout",
     "output_type": "stream",
     "text": [
      "time: 35.3 ms\n"
     ]
    }
   ],
   "source": [
    "cur.execute(\"select relname from pg_class where relkind='r' and relname !~ '^(pg_|sql_)';\")\n",
    "series_tables = []\n",
    "workout_tables = []\n",
    "for _i in cur.fetchall():\n",
    "    if 'by_workout' in _i[0]:\n",
    "        workout_tables.append(_i[0])\n",
    "        continue\n",
    "        \n",
    "    series_tables.append(_i[0])"
   ]
  },
  {
   "cell_type": "code",
   "execution_count": 103,
   "metadata": {
    "collapsed": false
   },
   "outputs": [
    {
     "name": "stdout",
     "output_type": "stream",
     "text": [
      "time: 172 ms\n"
     ]
    }
   ],
   "source": [
    "for _table in workout_tables:\n",
    "    query = \"ALTER TABLE {} DROP COLUMN IF EXISTS altitude_max;\".format(_table)\n",
    "    cur.execute(query)\n",
    "    query = \"ALTER TABLE {} DROP COLUMN IF EXISTS altitude_min;\".format(_table)\n",
    "    cur.execute(query)\n",
    "    query = \"ALTER TABLE {} DROP COLUMN IF EXISTS calories;\".format(_table)\n",
    "    cur.execute(query)\n",
    "    query = \"ALTER TABLE {} DROP COLUMN IF EXISTS distance;\".format(_table)\n",
    "    cur.execute(query)\n",
    "    query = \"ALTER TABLE {} DROP COLUMN IF EXISTS duration;\".format(_table)\n",
    "    cur.execute(query)\n",
    "    query = \"ALTER TABLE {} DROP COLUMN IF EXISTS heart_rate_avg;\".format(_table)\n",
    "    cur.execute(query)\n",
    "    query = \"ALTER TABLE {} DROP COLUMN IF EXISTS heart_rate_max;\".format(_table)\n",
    "    cur.execute(query)\n",
    "    query = \"ALTER TABLE {} DROP COLUMN IF EXISTS hydration;\".format(_table)\n",
    "    cur.execute(query)\n",
    "    query = \"ALTER TABLE {} DROP COLUMN IF EXISTS speed_avg;\".format(_table)\n",
    "    cur.execute(query)\n",
    "    query = \"ALTER TABLE {} DROP COLUMN IF EXISTS speed_max;\".format(_table)\n",
    "    cur.execute(query)\n",
    "    query = \"ALTER TABLE {} DROP COLUMN IF EXISTS humidity;\".format(_table)\n",
    "    cur.execute(query)\n",
    "    query = \"ALTER TABLE {} DROP COLUMN IF EXISTS temperature;\".format(_table)\n",
    "    cur.execute(query)\n",
    "    query = \"ALTER TABLE {} DROP COLUMN IF EXISTS wind_speed;\".format(_table)\n",
    "    cur.execute(query)\n",
    "    conn.commit()"
   ]
  },
  {
   "cell_type": "code",
   "execution_count": 104,
   "metadata": {
    "collapsed": false
   },
   "outputs": [
    {
     "name": "stdout",
     "output_type": "stream",
     "text": [
      "time: 146 ms\n"
     ]
    }
   ],
   "source": [
    "for _table in workout_tables:\n",
    "    query = \"ALTER TABLE {} ADD COLUMN altitude_max numeric(20,10);\".format(_table)\n",
    "    cur.execute(query)\n",
    "    query = \"ALTER TABLE {} ADD COLUMN altitude_min numeric(20,10);\".format(_table)\n",
    "    cur.execute(query)\n",
    "    query = \"ALTER TABLE {} ADD COLUMN calories numeric(20,10);\".format(_table)\n",
    "    cur.execute(query)\n",
    "    query = \"ALTER TABLE {} ADD COLUMN distance numeric(20,10);\".format(_table)\n",
    "    cur.execute(query)\n",
    "    query = \"ALTER TABLE {} ADD COLUMN duration numeric(20,10);\".format(_table)\n",
    "    cur.execute(query)\n",
    "    query = \"ALTER TABLE {} ADD COLUMN heart_rate_avg numeric(20,10);\".format(_table)\n",
    "    cur.execute(query)\n",
    "    query = \"ALTER TABLE {} ADD COLUMN heart_rate_max numeric(20,10);\".format(_table)\n",
    "    cur.execute(query)\n",
    "    query = \"ALTER TABLE {} ADD COLUMN hydration numeric(20,10);\".format(_table)\n",
    "    cur.execute(query)\n",
    "    query = \"ALTER TABLE {} ADD COLUMN speed_avg numeric(20,10);\".format(_table)\n",
    "    cur.execute(query)\n",
    "    query = \"ALTER TABLE {} ADD COLUMN speed_max numeric(20,10);\".format(_table)\n",
    "    cur.execute(query)\n",
    "    query = \"ALTER TABLE {} ADD COLUMN humidity integer;\".format(_table)\n",
    "    cur.execute(query)\n",
    "    query = \"ALTER TABLE {} ADD COLUMN temperature integer;\".format(_table)\n",
    "    cur.execute(query)\n",
    "    query = \"ALTER TABLE {} ADD COLUMN wind_speed integer;\".format(_table)\n",
    "    cur.execute(query)\n",
    "    conn.commit()"
   ]
  },
  {
   "cell_type": "code",
   "execution_count": 141,
   "metadata": {
    "collapsed": false
   },
   "outputs": [
    {
     "name": "stdout",
     "output_type": "stream",
     "text": [
      "time: 3min 42s\n"
     ]
    }
   ],
   "source": [
    "dbname = 'endomondo'\n",
    "conn = psycopg2.connect(\"dbname=endomondo user=patrickmulrooney\")\n",
    "\n",
    "# Open a cursor to perform database operations\n",
    "cur = conn.cursor()\n",
    "\n",
    "\n",
    "endoFiles = glob.glob('/Users/patrickmulrooney/Downloads/endomondo/individual_users/*')\n",
    "\n",
    "total_count = 0\n",
    "weather_count = 0\n",
    "count = 0\n",
    "\n",
    "done = False\n",
    "for _file in log_progress(endoFiles, every=1):\n",
    "    count += 1\n",
    "    \n",
    "    if count not in [656, 1035]:\n",
    "        continue\n",
    "            \n",
    "    if done:\n",
    "        break\n",
    "    skipped = False\n",
    "    endo = []\n",
    "    \n",
    "    with open(_file, 'r') as f:\n",
    "        lines = f.readlines()\n",
    "        for _line in lines:\n",
    "            if not skipped:\n",
    "                skipped = True\n",
    "                continue\n",
    "            total_count += 1\n",
    "            _line = _line.replace(\"'\",\"\\\"\")\n",
    "            _line = _line.replace(\" u\\\"\",\" \\\"\")\n",
    "            _line = _line.replace(\"{u\\\"\",\"{\\\"\")\n",
    "            _line = _line.replace(\"None\",\"\\\"None\\\"\")\n",
    "\n",
    "            j = ujson.loads( _line )\n",
    "            \n",
    "            del j['heart_rate_zones']\n",
    "            del j['start_time']\n",
    "            del j['descent']\n",
    "            del j['ascent']\n",
    "            del j['points']\n",
    "            \n",
    "            for _j in j.keys():\n",
    "                if j[_j] == 'None':\n",
    "                    del j[_j]\n",
    "                 \n",
    "            workoutid = j['id']\n",
    "            sport = sport_lookup[j['sport']]\n",
    "            \n",
    "            del j['sport']\n",
    "            del j['id']\n",
    "            \n",
    "            if 'weather' in j.keys():\n",
    "                if j['weather'].keys() != ['type']:\n",
    "                    weather_count += 1\n",
    "                    j['humidity'] = j['weather']['humidity']\n",
    "                    j['temperature'] = j['weather']['temperature']\n",
    "                    j['wind_speed'] = j['weather']['wind_speed']\n",
    "                \n",
    "                del j['weather']\n",
    "                \n",
    "            update_str = []\n",
    "            \n",
    "            try:\n",
    "                if abs(j['altitude_max']) > 10000000000:\n",
    "                    del j['altitude_max']\n",
    "            except:\n",
    "                pass\n",
    "            try:\n",
    "                if abs(j['altitude_min']) > 10000000000:\n",
    "                    del j['altitude_min']\n",
    "            except:\n",
    "                pass\n",
    "            \n",
    "            for _k, _v in j.iteritems():\n",
    "                update_str.append(\"%s = %s\"%(_k,_v))\n",
    "                \n",
    "            update_str = str.join(\", \",update_str)\n",
    "            \n",
    "            if update_str == \"\":\n",
    "                continue\n",
    "            \n",
    "            query = 'update {}_by_workout set {} where workoutid = {}'.format(sport,update_str,workoutid)\n",
    "            cur.execute(query)\n",
    "            conn.commit()"
   ]
  },
  {
   "cell_type": "code",
   "execution_count": 117,
   "metadata": {
    "collapsed": false
   },
   "outputs": [
    {
     "data": {
      "text/plain": [
       "'update cross-country_skiing_by_workout set distance = 15.1450004578,speed_max = 27.1993,calories = 1525.82,speed_avg = 7.03764870204,altitude_max = 378.9,duration = 7747.19,hydration = 0.77,altitude_min = 306.0 where workoutid = 487336203'"
      ]
     },
     "execution_count": 117,
     "metadata": {},
     "output_type": "execute_result"
    },
    {
     "name": "stdout",
     "output_type": "stream",
     "text": [
      "time: 3.45 ms\n"
     ]
    }
   ],
   "source": [
    "#656, 1035"
   ]
  },
  {
   "cell_type": "code",
   "execution_count": 143,
   "metadata": {
    "collapsed": false
   },
   "outputs": [
    {
     "data": {
      "text/plain": [
       "'update run_by_workout set heart_rate_max = 172.0, distance = 12.0789267578, heart_rate_avg = 152.0, calories = 898.0, altitude_max = 102.998, altitude_min = -0.343384 where workoutid = 3620355'"
      ]
     },
     "execution_count": 143,
     "metadata": {},
     "output_type": "execute_result"
    },
    {
     "name": "stdout",
     "output_type": "stream",
     "text": [
      "time: 5.33 ms\n"
     ]
    }
   ],
   "source": [
    "query"
   ]
  },
  {
   "cell_type": "code",
   "execution_count": null,
   "metadata": {
    "collapsed": true
   },
   "outputs": [],
   "source": []
  }
 ],
 "metadata": {
  "kernelspec": {
   "display_name": "Python 2",
   "language": "python",
   "name": "python2"
  },
  "language_info": {
   "codemirror_mode": {
    "name": "ipython",
    "version": 2
   },
   "file_extension": ".py",
   "mimetype": "text/x-python",
   "name": "python",
   "nbconvert_exporter": "python",
   "pygments_lexer": "ipython2",
   "version": "2.7.13"
  },
  "widgets": {
   "state": {
    "3926004deb514988b9dad18bbb0bb36d": {
     "views": [
      {
       "cell_index": 13
      }
     ]
    },
    "3c44b2104f6f4704be52994814e6bab9": {
     "views": [
      {
       "cell_index": 5
      }
     ]
    }
   },
   "version": "1.2.0"
  }
 },
 "nbformat": 4,
 "nbformat_minor": 2
}
