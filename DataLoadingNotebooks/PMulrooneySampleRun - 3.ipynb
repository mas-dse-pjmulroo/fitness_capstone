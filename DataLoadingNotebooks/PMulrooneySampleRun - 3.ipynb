{
 "cells": [
  {
   "cell_type": "code",
   "execution_count": 9,
   "metadata": {},
   "outputs": [
    {
     "name": "stdout",
     "output_type": "stream",
     "text": [
      "Populating the interactive namespace from numpy and matplotlib\n"
     ]
    },
    {
     "name": "stderr",
     "output_type": "stream",
     "text": [
      "/Users/pmulrooney/anaconda2/lib/python2.7/site-packages/IPython/core/magics/pylab.py:161: UserWarning: pylab import has clobbered these variables: ['f']\n",
      "`%matplotlib` prevents importing * from pylab and numpy\n",
      "  \"\\n`%matplotlib` prevents importing * from pylab and numpy\"\n"
     ]
    }
   ],
   "source": [
    "import ujson\n",
    "import pprint\n",
    "import glob\n",
    "import matplotlib.pyplot as plt\n",
    "import numpy as np\n",
    "import pandas as pd\n",
    "from operator import itemgetter\n",
    "import multiprocessing\n",
    "from copy import deepcopy\n",
    "\n",
    "from itertools import ifilter\n",
    "\n",
    "\n",
    "pp = pprint.PrettyPrinter(indent=4)\n",
    "%pylab inline"
   ]
  },
  {
   "cell_type": "code",
   "execution_count": 10,
   "metadata": {
    "collapsed": true
   },
   "outputs": [],
   "source": [
    "def log_progress(sequence, every=None, size=None):\n",
    "    from ipywidgets import IntProgress, HTML, VBox\n",
    "    from IPython.display import display\n",
    "\n",
    "    is_iterator = False\n",
    "    if size is None:\n",
    "        try:\n",
    "            size = len(sequence)\n",
    "        except TypeError:\n",
    "            is_iterator = True\n",
    "    if size is not None:\n",
    "        if every is None:\n",
    "            if size <= 200:\n",
    "                every = 1\n",
    "            else:\n",
    "                every = int(size / 200)     # every 0.5%\n",
    "    else:\n",
    "        assert every is not None, 'sequence is iterator, set every'\n",
    "\n",
    "    if is_iterator:\n",
    "        progress = IntProgress(min=0, max=1, value=1)\n",
    "        progress.bar_style = 'info'\n",
    "    else:\n",
    "        progress = IntProgress(min=0, max=size, value=0)\n",
    "    label = HTML()\n",
    "    box = VBox(children=[label, progress])\n",
    "    display(box)\n",
    "\n",
    "    index = 0\n",
    "    try:\n",
    "        for index, record in enumerate(sequence, 1):\n",
    "            if index == 1 or index % every == 0:\n",
    "                if is_iterator:\n",
    "                    label.value = '{index} / ?'.format(index=index)\n",
    "                else:\n",
    "                    progress.value = index\n",
    "                    label.value = u'{index} / {size}'.format(\n",
    "                        index=index,\n",
    "                        size=size\n",
    "                    )\n",
    "            yield record\n",
    "    except:\n",
    "        progress.bar_style = 'danger'\n",
    "        raise\n",
    "    else:\n",
    "        progress.bar_style = 'success'\n",
    "        progress.value = index\n",
    "        label.value = str(index or '?')"
   ]
  },
  {
   "cell_type": "code",
   "execution_count": 14,
   "metadata": {
    "collapsed": true
   },
   "outputs": [],
   "source": [
    "with open(\"/Users/pmulrooney/class/notebooks/capstone/ReferenceEndomondoWorkouts/pmulrooney_run.json\", 'r') as f:\n",
    "    endo = ujson.load(f)"
   ]
  },
  {
   "cell_type": "code",
   "execution_count": 15,
   "metadata": {},
   "outputs": [
    {
     "name": "stdout",
     "output_type": "stream",
     "text": [
      "admin_rejected : False\n",
      "altitude_max : 6.6\n",
      "altitude_min : -9.7\n",
      "ascent : 0.0\n",
      "author : <type 'dict'>\n",
      "calories : 1231.6\n",
      "can_copy : True\n",
      "descent : 10.0\n",
      "distance : 16.0960006714\n",
      "duration : 4844.59\n",
      "expand : full\n",
      "feed_id : 281475874731619\n",
      "hashtags : <type 'list'>\n",
      "hydration : 0.89\n",
      "id : 871971752\n",
      "include_in_stats : True\n",
      "is_live : False\n",
      "is_peptalk_allowed : False\n",
      "laps : <type 'dict'>\n",
      "local_start_time : 2017-02-12T14:54:49.000-05:00\n",
      "pb_count : 8\n",
      "personal_bests : <type 'list'>\n",
      "pictures : <type 'list'>\n",
      "points : <type 'dict'>\n",
      "records : <type 'list'>\n",
      "show_map : 0\n",
      "show_workout : 0\n",
      "small_encoded_polyline : ch~fEpaijUDiAfDkAxArFdD`l@pNz{ClD|ToBxHoBIcAoE_MdCqIpP_GvD{ExM{RzY|ApDgBnAcEzMpGjFtGmC|KhEhKNxKcDdIiGgAmHyFwA\\uCnCEzDvDjApPYrLwBeAyHtG_TTy@[CsLeGm@uE{CyEvCuBQ_EqD^oEgBgDn\\uh@tE}L|CGxK{Q@qBtLaB`AjE`CCbAy@T}G_CwJi@mWsO}{Bt@wG{Cwm@m@wGsA{Cw@t@\n",
      "speed_avg : 11.96088883\n",
      "speed_max : 16.7816\n",
      "sport : 0\n",
      "start_time : 2017-02-12T19:54:49.000Z\n",
      "tagged_users : <type 'list'>\n",
      "weather : <type 'dict'>\n"
     ]
    }
   ],
   "source": [
    "for _i in sorted(endo.keys()):\n",
    "    if type(endo[_i]) not in (dict, list):\n",
    "        print _i, ':', endo[_i]\n",
    "    else:\n",
    "        print _i, ':', type(endo[_i])"
   ]
  },
  {
   "cell_type": "code",
   "execution_count": 16,
   "metadata": {
    "collapsed": true,
    "scrolled": false
   },
   "outputs": [],
   "source": [
    "cum_dist = 0.0\n",
    "duration = 0.0\n",
    "for _i in endo['points']['points']:\n",
    "    cum_dist += _i['distance']\n",
    "    duration += _i['duration']\n"
   ]
  },
  {
   "cell_type": "code",
   "execution_count": 17,
   "metadata": {},
   "outputs": [
    {
     "name": "stdout",
     "output_type": "stream",
     "text": [
      "4069.987\n",
      "1217768000.0\n"
     ]
    }
   ],
   "source": [
    "print cum_dist\n",
    "print duration"
   ]
  },
  {
   "cell_type": "code",
   "execution_count": 18,
   "metadata": {},
   "outputs": [
    {
     "name": "stdout",
     "output_type": "stream",
     "text": [
      "{u'distance': 0.0, u'sensor_data': {}, u'instruction': 2, u'longitude': -117.1972076, u'duration': 0.0, u'time': u'2017-02-12T19:54:49.000Z', u'latitude': 32.7643452}\n"
     ]
    }
   ],
   "source": [
    "for _i in endo['points']['points']:\n",
    "    print _i\n",
    "    break"
   ]
  },
  {
   "cell_type": "code",
   "execution_count": 19,
   "metadata": {},
   "outputs": [
    {
     "data": {
      "text/plain": [
       "[{u'altitude': -3.7,\n",
       "  u'distance': 6.564,\n",
       "  u'duration': 1953000.0,\n",
       "  u'latitude': 32.767169,\n",
       "  u'longitude': -117.2497195,\n",
       "  u'sensor_data': {u'speed': 13.0414},\n",
       "  u'speed': 13.0414,\n",
       "  u'time': u'2017-02-12T20:27:22.000Z'},\n",
       " {u'altitude': -3.6,\n",
       "  u'distance': 6.583,\n",
       "  u'duration': 1959000.0,\n",
       "  u'latitude': 32.7670118,\n",
       "  u'longitude': -117.2496973,\n",
       "  u'sensor_data': {u'speed': 10.9308},\n",
       "  u'speed': 10.9308,\n",
       "  u'time': u'2017-02-12T20:27:28.000Z'},\n",
       " {u'altitude': -3.6,\n",
       "  u'distance': 6.611,\n",
       "  u'duration': 1967000.0,\n",
       "  u'latitude': 32.7668032,\n",
       "  u'longitude': -117.2498716,\n",
       "  u'sensor_data': {u'speed': 11.0243},\n",
       "  u'speed': 11.0243,\n",
       "  u'time': u'2017-02-12T20:27:36.000Z'}]"
      ]
     },
     "execution_count": 19,
     "metadata": {},
     "output_type": "execute_result"
    }
   ],
   "source": [
    "endo['points']['points'][199:202]"
   ]
  },
  {
   "cell_type": "code",
   "execution_count": 20,
   "metadata": {},
   "outputs": [
    {
     "data": {
      "text/plain": [
       "0.0002718353361952054"
      ]
     },
     "execution_count": 20,
     "metadata": {},
     "output_type": "execute_result"
    }
   ],
   "source": [
    "import math\n",
    "\n",
    "math.sqrt((32.7668032 - 32.7670118)**2 + (-117.2498716+117.2496973)**2)"
   ]
  },
  {
   "cell_type": "code",
   "execution_count": 21,
   "metadata": {},
   "outputs": [
    {
     "data": {
      "text/plain": [
       "[{u'distance': 0.0,\n",
       "  u'duration': 0.0,\n",
       "  u'instruction': 2,\n",
       "  u'latitude': 32.7643452,\n",
       "  u'longitude': -117.1972076,\n",
       "  u'sensor_data': {},\n",
       "  u'time': u'2017-02-12T19:54:49.000Z'},\n",
       " {u'altitude': 2.0,\n",
       "  u'distance': 0.019,\n",
       "  u'duration': 21000.0,\n",
       "  u'latitude': 32.7643371,\n",
       "  u'longitude': -117.1970196,\n",
       "  u'sensor_data': {u'speed': 6.7593},\n",
       "  u'speed': 6.7593,\n",
       "  u'time': u'2017-02-12T19:55:10.000Z'},\n",
       " {u'altitude': 1.9,\n",
       "  u'distance': 0.037,\n",
       "  u'duration': 27000.0,\n",
       "  u'latitude': 32.7643108,\n",
       "  u'longitude': -117.1968344,\n",
       "  u'sensor_data': {u'speed': 11.3106},\n",
       "  u'speed': 11.3106,\n",
       "  u'time': u'2017-02-12T19:55:16.000Z'}]"
      ]
     },
     "execution_count": 21,
     "metadata": {},
     "output_type": "execute_result"
    }
   ],
   "source": [
    "endo['points']['points'][:3]"
   ]
  },
  {
   "cell_type": "code",
   "execution_count": 22,
   "metadata": {},
   "outputs": [
    {
     "data": {
      "text/plain": [
       "500"
      ]
     },
     "execution_count": 22,
     "metadata": {},
     "output_type": "execute_result"
    }
   ],
   "source": [
    "len(endo['points']['points'])"
   ]
  },
  {
   "cell_type": "code",
   "execution_count": 30,
   "metadata": {
    "collapsed": true
   },
   "outputs": [],
   "source": [
    "_prev = (endo['points']['points'][0]['latitude'], endo['points']['points'][0]['longitude'])\n",
    "\n",
    "total_distance = 0.0\n",
    "\n",
    "for _point in endo['points']['points'][1:]:\n",
    "    _current = (_point['latitude'], _point['longitude'])\n",
    "    _tmp_distance = math.sqrt( (_current[0] - _prev[0])**2 + (_current[1] - _prev[1])**2 )\n",
    "    \n",
    "    total_distance += _tmp_distance\n",
    "    \n",
    "    \n",
    "    _prev = _current"
   ]
  },
  {
   "cell_type": "code",
   "execution_count": 31,
   "metadata": {},
   "outputs": [
    {
     "data": {
      "text/plain": [
       "0.1617062428118401"
      ]
     },
     "execution_count": 31,
     "metadata": {},
     "output_type": "execute_result"
    }
   ],
   "source": [
    "total_distance"
   ]
  },
  {
   "cell_type": "code",
   "execution_count": 46,
   "metadata": {},
   "outputs": [
    {
     "name": "stdout",
     "output_type": "stream",
     "text": [
      "workoutid diff_altitude geo_distance\n",
      "871971752 , 16.3 , 0.161706242812\n",
      "\n",
      "heart_rate_avg speed_avg elapsed_time\n",
      "0 , 11.96088883 , 4844.59\n",
      "\n",
      "User: 212295\n"
     ]
    }
   ],
   "source": [
    "print 'workoutid', 'diff_altitude', 'geo_distance'\n",
    "print endo['id'], \",\", endo['altitude_max'] - endo['altitude_min'],\",\",  total_distance\n",
    "print \"\"\n",
    "print 'heart_rate_avg', 'speed_avg', 'elapsed_time'\n",
    "print \"0\",\",\",  endo['speed_avg'],\",\",  endo['duration']\n",
    "print \"\"\n",
    "print \"User:\", 212295"
   ]
  },
  {
   "cell_type": "code",
   "execution_count": 43,
   "metadata": {},
   "outputs": [
    {
     "name": "stdout",
     "output_type": "stream",
     "text": [
      "Unnamed: 0|workoutid|route_prediction|perf_prediction|  userid|     diff_altitude|  geo_distance|heart_rate_avg|    speed_avg|elapsed_time|   user_avg_speed| user_avg_dist|\n"
     ]
    }
   ],
   "source": [
    "print \"Unnamed: 0|workoutid|route_prediction|perf_prediction|  userid|     diff_altitude|  geo_distance|heart_rate_avg|    speed_avg|elapsed_time|   user_avg_speed| user_avg_dist|\""
   ]
  },
  {
   "cell_type": "code",
   "execution_count": 50,
   "metadata": {},
   "outputs": [
    {
     "name": "stdout",
     "output_type": "stream",
     "text": [
      "Unnamed: 0,workoutid,route_prediction,perf_prediction,userid,diff_altitude,geo_distance,heart_rate_avg,speed_avg,elapsed_time,user_avg_speed,user_avg_dist\n",
      "0,871971752,??,??,212295,16.3,0.161706242812,0,11.96088883,4844.59,12.7922508,4845.92074\n"
     ]
    }
   ],
   "source": [
    "print \"Unnamed: 0,workoutid,route_prediction,perf_prediction,userid,diff_altitude,geo_distance,heart_rate_avg,speed_avg,elapsed_time,user_avg_speed,user_avg_dist\"\n",
    "print \"%s,%s,%s,%s,%s,%s,%s,%s,%s,%s,%s,%s\"%(\"0\", endo['id'], \"??\", \"??\", \"212295\", endo['altitude_max'] - endo['altitude_min'], total_distance, \"0\", endo['speed_avg'], endo['duration'], '12.7922508', '4845.92074')"
   ]
  },
  {
   "cell_type": "code",
   "execution_count": null,
   "metadata": {
    "collapsed": true
   },
   "outputs": [],
   "source": []
  },
  {
   "cell_type": "code",
   "execution_count": null,
   "metadata": {
    "collapsed": true
   },
   "outputs": [],
   "source": [
    "+Unnamed          0 \n",
    "+workoutid        871971752\n",
    "+route_prediction ??\n",
    "+perf_prediction  ??\n",
    "+userid           212295\n",
    "+diff_altitude    16.3\n",
    "+geo_distance     0.161706242812\n",
    "+heart_rate_avg   0\n",
    "+speed_avg        11.96088883\n",
    "+elapsed_time     4844.59\n",
    "+user_avg_speed   10.0258328805181818\n",
    "+user_avg_dist    0.14012889348074766355"
   ]
  }
 ],
 "metadata": {
  "kernelspec": {
   "display_name": "Python 2",
   "language": "python",
   "name": "python2"
  },
  "language_info": {
   "codemirror_mode": {
    "name": "ipython",
    "version": 2
   },
   "file_extension": ".py",
   "mimetype": "text/x-python",
   "name": "python",
   "nbconvert_exporter": "python",
   "pygments_lexer": "ipython2",
   "version": "2.7.13"
  }
 },
 "nbformat": 4,
 "nbformat_minor": 2
}
