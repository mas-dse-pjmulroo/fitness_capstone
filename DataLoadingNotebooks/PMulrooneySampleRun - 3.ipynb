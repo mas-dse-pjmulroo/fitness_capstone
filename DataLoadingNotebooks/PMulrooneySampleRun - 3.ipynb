{
 "cells": [
  {
   "cell_type": "code",
   "execution_count": 1,
   "metadata": {
    "collapsed": false
   },
   "outputs": [
    {
     "name": "stdout",
     "output_type": "stream",
     "text": [
      "Populating the interactive namespace from numpy and matplotlib\n"
     ]
    }
   ],
   "source": [
    "import ujson\n",
    "import pprint\n",
    "import glob\n",
    "import matplotlib.pyplot as plt\n",
    "import numpy as np\n",
    "import pandas as pd\n",
    "from operator import itemgetter\n",
    "import multiprocessing\n",
    "from copy import deepcopy\n",
    "\n",
    "from itertools import ifilter\n",
    "\n",
    "\n",
    "pp = pprint.PrettyPrinter(indent=4)\n",
    "%pylab inline"
   ]
  },
  {
   "cell_type": "code",
   "execution_count": 2,
   "metadata": {
    "collapsed": true
   },
   "outputs": [],
   "source": [
    "# Testing auto adding time output to all cells\n",
    "'''\n",
    "#To install...\n",
    "wget https://raw.githubusercontent.com/cpcloud/ipython-autotime/master/autotime.py\n",
    "#Make available via\n",
    "jupyter nbextension install /Users/patrickmulrooney/class/notebooks/pjmulroo/DSECapstone/autotime.py\n",
    "'''\n",
    " \n",
    "%load_ext autotime"
   ]
  },
  {
   "cell_type": "code",
   "execution_count": 3,
   "metadata": {
    "collapsed": false
   },
   "outputs": [
    {
     "name": "stdout",
     "output_type": "stream",
     "text": [
      "time: 49.1 ms\n"
     ]
    }
   ],
   "source": [
    "def log_progress(sequence, every=None, size=None):\n",
    "    from ipywidgets import IntProgress, HTML, VBox\n",
    "    from IPython.display import display\n",
    "\n",
    "    is_iterator = False\n",
    "    if size is None:\n",
    "        try:\n",
    "            size = len(sequence)\n",
    "        except TypeError:\n",
    "            is_iterator = True\n",
    "    if size is not None:\n",
    "        if every is None:\n",
    "            if size <= 200:\n",
    "                every = 1\n",
    "            else:\n",
    "                every = int(size / 200)     # every 0.5%\n",
    "    else:\n",
    "        assert every is not None, 'sequence is iterator, set every'\n",
    "\n",
    "    if is_iterator:\n",
    "        progress = IntProgress(min=0, max=1, value=1)\n",
    "        progress.bar_style = 'info'\n",
    "    else:\n",
    "        progress = IntProgress(min=0, max=size, value=0)\n",
    "    label = HTML()\n",
    "    box = VBox(children=[label, progress])\n",
    "    display(box)\n",
    "\n",
    "    index = 0\n",
    "    try:\n",
    "        for index, record in enumerate(sequence, 1):\n",
    "            if index == 1 or index % every == 0:\n",
    "                if is_iterator:\n",
    "                    label.value = '{index} / ?'.format(index=index)\n",
    "                else:\n",
    "                    progress.value = index\n",
    "                    label.value = u'{index} / {size}'.format(\n",
    "                        index=index,\n",
    "                        size=size\n",
    "                    )\n",
    "            yield record\n",
    "    except:\n",
    "        progress.bar_style = 'danger'\n",
    "        raise\n",
    "    else:\n",
    "        progress.bar_style = 'success'\n",
    "        progress.value = index\n",
    "        label.value = str(index or '?')\n",
    "\n",
    "# for _line in log_progress(lines,every=1):\n",
    "#     _line = _line.strip()"
   ]
  },
  {
   "cell_type": "code",
   "execution_count": 5,
   "metadata": {
    "collapsed": false
   },
   "outputs": [
    {
     "name": "stdout",
     "output_type": "stream",
     "text": [
      "time: 4.94 ms\n"
     ]
    }
   ],
   "source": [
    "with open(\"/Users/patrickmulrooney/Downloads/pmulrooney_run.json\", 'r') as f:\n",
    "    # Just testing the import, runs out of memory\n",
    "    # TODO: Figure out why or how to deal with.\n",
    "    endo = ujson.load(f)"
   ]
  },
  {
   "cell_type": "code",
   "execution_count": 11,
   "metadata": {
    "collapsed": false
   },
   "outputs": [
    {
     "name": "stdout",
     "output_type": "stream",
     "text": [
      "admin_rejected : False\n",
      "altitude_max : 6.6\n",
      "altitude_min : -9.7\n",
      "ascent : 0.0\n",
      "author : <type 'dict'>\n",
      "calories : 1231.6\n",
      "can_copy : True\n",
      "descent : 10.0\n",
      "distance : 16.0960006714\n",
      "duration : 4844.59\n",
      "expand : full\n",
      "feed_id : 281475874731619\n",
      "hashtags : <type 'list'>\n",
      "hydration : 0.89\n",
      "id : 871971752\n",
      "include_in_stats : True\n",
      "is_live : False\n",
      "is_peptalk_allowed : False\n",
      "laps : <type 'dict'>\n",
      "local_start_time : 2017-02-12T14:54:49.000-05:00\n",
      "pb_count : 8\n",
      "personal_bests : <type 'list'>\n",
      "pictures : <type 'list'>\n",
      "points : <type 'dict'>\n",
      "records : <type 'list'>\n",
      "show_map : 0\n",
      "show_workout : 0\n",
      "small_encoded_polyline : ch~fEpaijUDiAfDkAxArFdD`l@pNz{ClD|ToBxHoBIcAoE_MdCqIpP_GvD{ExM{RzY|ApDgBnAcEzMpGjFtGmC|KhEhKNxKcDdIiGgAmHyFwA\\uCnCEzDvDjApPYrLwBeAyHtG_TTy@[CsLeGm@uE{CyEvCuBQ_EqD^oEgBgDn\\uh@tE}L|CGxK{Q@qBtLaB`AjE`CCbAy@T}G_CwJi@mWsO}{Bt@wG{Cwm@m@wGsA{Cw@t@\n",
      "speed_avg : 11.96088883\n",
      "speed_max : 16.7816\n",
      "sport : 0\n",
      "start_time : 2017-02-12T19:54:49.000Z\n",
      "tagged_users : <type 'list'>\n",
      "weather : <type 'dict'>\n",
      "time: 10.3 ms\n"
     ]
    }
   ],
   "source": [
    "for _i in sorted(endo.keys()):\n",
    "    if type(endo[_i]) not in (dict, list):\n",
    "        print _i, ':', endo[_i]\n",
    "    else:\n",
    "        print _i, ':', type(endo[_i])"
   ]
  },
  {
   "cell_type": "code",
   "execution_count": 25,
   "metadata": {
    "collapsed": false,
    "scrolled": false
   },
   "outputs": [
    {
     "name": "stdout",
     "output_type": "stream",
     "text": [
      "time: 3 ms\n"
     ]
    }
   ],
   "source": [
    "cum_dist = 0.0\n",
    "duration = 0.0\n",
    "for _i in endo['points']['points']:\n",
    "    cum_dist += _i['distance']\n",
    "    duration += _i['duration']\n"
   ]
  },
  {
   "cell_type": "code",
   "execution_count": 27,
   "metadata": {
    "collapsed": false
   },
   "outputs": [
    {
     "name": "stdout",
     "output_type": "stream",
     "text": [
      "4069.987\n",
      "1217768000.0\n",
      "time: 2.04 ms\n"
     ]
    }
   ],
   "source": [
    "print cum_dist\n",
    "print duration"
   ]
  },
  {
   "cell_type": "code",
   "execution_count": 24,
   "metadata": {
    "collapsed": false
   },
   "outputs": [
    {
     "name": "stdout",
     "output_type": "stream",
     "text": [
      "{u'distance': 0.0, u'sensor_data': {}, u'instruction': 2, u'longitude': -117.1972076, u'duration': 0.0, u'time': u'2017-02-12T19:54:49.000Z', u'latitude': 32.7643452}\n",
      "time: 3.1 ms\n"
     ]
    }
   ],
   "source": [
    "for _i in endo['points']['points']:\n",
    "    print _i\n",
    "    break"
   ]
  },
  {
   "cell_type": "code",
   "execution_count": 31,
   "metadata": {
    "collapsed": false
   },
   "outputs": [
    {
     "data": {
      "text/plain": [
       "[{u'altitude': -3.7,\n",
       "  u'distance': 6.564,\n",
       "  u'duration': 1953000.0,\n",
       "  u'latitude': 32.767169,\n",
       "  u'longitude': -117.2497195,\n",
       "  u'sensor_data': {u'speed': 13.0414},\n",
       "  u'speed': 13.0414,\n",
       "  u'time': u'2017-02-12T20:27:22.000Z'},\n",
       " {u'altitude': -3.6,\n",
       "  u'distance': 6.583,\n",
       "  u'duration': 1959000.0,\n",
       "  u'latitude': 32.7670118,\n",
       "  u'longitude': -117.2496973,\n",
       "  u'sensor_data': {u'speed': 10.9308},\n",
       "  u'speed': 10.9308,\n",
       "  u'time': u'2017-02-12T20:27:28.000Z'},\n",
       " {u'altitude': -3.6,\n",
       "  u'distance': 6.611,\n",
       "  u'duration': 1967000.0,\n",
       "  u'latitude': 32.7668032,\n",
       "  u'longitude': -117.2498716,\n",
       "  u'sensor_data': {u'speed': 11.0243},\n",
       "  u'speed': 11.0243,\n",
       "  u'time': u'2017-02-12T20:27:36.000Z'}]"
      ]
     },
     "execution_count": 31,
     "metadata": {},
     "output_type": "execute_result"
    },
    {
     "name": "stdout",
     "output_type": "stream",
     "text": [
      "time: 9.15 ms\n"
     ]
    }
   ],
   "source": [
    "endo['points']['points'][199:202]"
   ]
  },
  {
   "cell_type": "code",
   "execution_count": 33,
   "metadata": {
    "collapsed": false
   },
   "outputs": [
    {
     "data": {
      "text/plain": [
       "0.0002718353361952054"
      ]
     },
     "execution_count": 33,
     "metadata": {},
     "output_type": "execute_result"
    },
    {
     "name": "stdout",
     "output_type": "stream",
     "text": [
      "time: 4.94 ms\n"
     ]
    }
   ],
   "source": [
    "import math\n",
    "\n",
    "math.sqrt((32.7668032 - 32.7670118)**2 + (-117.2498716+117.2496973)**2)"
   ]
  },
  {
   "cell_type": "code",
   "execution_count": 37,
   "metadata": {
    "collapsed": false
   },
   "outputs": [
    {
     "data": {
      "text/plain": [
       "[{u'distance': 0.0,\n",
       "  u'duration': 0.0,\n",
       "  u'instruction': 2,\n",
       "  u'latitude': 32.7643452,\n",
       "  u'longitude': -117.1972076,\n",
       "  u'sensor_data': {},\n",
       "  u'time': u'2017-02-12T19:54:49.000Z'},\n",
       " {u'altitude': 2.0,\n",
       "  u'distance': 0.019,\n",
       "  u'duration': 21000.0,\n",
       "  u'latitude': 32.7643371,\n",
       "  u'longitude': -117.1970196,\n",
       "  u'sensor_data': {u'speed': 6.7593},\n",
       "  u'speed': 6.7593,\n",
       "  u'time': u'2017-02-12T19:55:10.000Z'},\n",
       " {u'altitude': 1.9,\n",
       "  u'distance': 0.037,\n",
       "  u'duration': 27000.0,\n",
       "  u'latitude': 32.7643108,\n",
       "  u'longitude': -117.1968344,\n",
       "  u'sensor_data': {u'speed': 11.3106},\n",
       "  u'speed': 11.3106,\n",
       "  u'time': u'2017-02-12T19:55:16.000Z'}]"
      ]
     },
     "execution_count": 37,
     "metadata": {},
     "output_type": "execute_result"
    },
    {
     "name": "stdout",
     "output_type": "stream",
     "text": [
      "time: 4.89 ms\n"
     ]
    }
   ],
   "source": [
    "endo['points']['points'][:3]"
   ]
  },
  {
   "cell_type": "code",
   "execution_count": 38,
   "metadata": {
    "collapsed": false
   },
   "outputs": [
    {
     "data": {
      "text/plain": [
       "500"
      ]
     },
     "execution_count": 38,
     "metadata": {},
     "output_type": "execute_result"
    },
    {
     "name": "stdout",
     "output_type": "stream",
     "text": [
      "time: 3.52 ms\n"
     ]
    }
   ],
   "source": [
    "len(endo['points']['points'])"
   ]
  },
  {
   "cell_type": "markdown",
   "metadata": {},
   "source": [
    "```\n",
    "$ curl https://www.endomondo.com/rest/v1/users/1860957\n",
    "{\"expand\":\"full\",\"id\":1860957,\"first_name\":\"Britt\",\"middle_name\":\"Drud\",\"last_name\":\"Sørensen\",\"picture\":{\"url\":\"https://www.endomondo.com/resources/gfx/image/39389457/eb54be7526bac56b9a64a2d85279f25c/thumbnail.jpg\"},\"gender\":1,\"is_premium\":true,\"height\":168.0,\"hr_zones\":{\"max\":200,\"rest\":60,\"zone1_start\":130,\"zone2_start\":144,\"zone3_start\":158,\"zone4_start\":172,\"zone5_start\":186},\"date_of_birth\":\"1986-02-15T11:00:00.000Z\",\"workout_count\":1806,\"favorite_sport\":0,\"friend_count\":69,\"summary\":{\"count\":1806,\"total_distance\":8764.835977889446,\"total_duration\":6244217.983999999,\"total_calories\":676949.0},\"summary_by_sport\":[{\"sport\":0,\"count\":1358,\"total_distance\":6834.78174495984,\"total_duration\":2775496.0399999986,\"total_calories\":476243.0},{\"sport\":18,\"count\":263,\"total_distance\":1242.4142599254849,\"total_duration\":3033149.0,\"total_calories\":148514.0},{\"sport\":2,\"count\":127,\"total_distance\":533.3600199999998,\"total_duration\":206750.94399999996,\"total_calories\":21217.0},{\"sport\":19,\"count\":41,\"total_distance\":137.27995300412178,\"total_duration\":145122.0,\"total_calories\":19626.5},{\"sport\":22,\"count\":10,\"total_distance\":0.0,\"total_duration\":31200.0,\"total_calories\":4637.66},{\"sport\":87,\"count\":9,\"total_distance\":0.0,\"total_duration\":29400.0,\"total_calories\":4370.1},{\"sport\":9,\"count\":5,\"total_distance\":16.0,\"total_duration\":49500.0,\"total_calories\":6131.52},{\"sport\":20,\"count\":2,\"total_distance\":1.0,\"total_duration\":3000.0,\"total_calories\":578.891},{\"sport\":46,\"count\":1,\"total_distance\":0.0,\"total_duration\":1800.0,\"total_calories\":267.557}],\"created_date\":\"2011-06-26T23:14:14.000Z\",\"has_dismissed_download_box\":true,\"country\":\"DK\",\"personal_bests\":[{\"workout_id\":616209211,\"sport\":0,\"date\":\"2015-10-08T15:33:22.000Z\",\"type\":0,\"value\":3.7456583568978474},{\"workout_id\":519068849,\"sport\":0,\"date\":\"2015-05-09T13:42:37.000Z\",\"type\":1,\"value\":13.304793556531271},{\"workout_id\":112691340,\"sport\":0,\"date\":\"2012-11-30T06:58:34.000Z\",\"type\":6,\"value\":128.46153846153845},{\"workout_id\":616209211,\"sport\":0,\"date\":\"2015-10-08T15:33:22.000Z\",\"type\":9,\"value\":576.6676493658944},{\"workout_id\":616209211,\"sport\":0,\"date\":\"2015-10-08T15:33:22.000Z\",\"type\":10,\"value\":961.1127489431573},{\"workout_id\":519068849,\"sport\":0,\"date\":\"2015-05-09T13:42:37.000Z\",\"type\":11,\"value\":2617.283824524703},{\"workout_id\":519068849,\"sport\":0,\"date\":\"2015-05-09T13:42:37.000Z\",\"type\":14,\"value\":5838.099188565341},{\"workout_id\":816295348,\"sport\":0,\"date\":\"2016-10-02T08:00:17.000Z\",\"type\":17,\"value\":13561.315906179458},{\"workout_id\":112691340,\"sport\":0,\"date\":\"2012-11-30T06:58:34.000Z\",\"type\":20,\"value\":206.73880615384616},{\"workout_id\":616209211,\"sport\":0,\"date\":\"2015-10-08T15:33:22.000Z\",\"type\":22,\"value\":928.056621501106},{\"workout_id\":309007563,\"sport\":2,\"date\":\"2014-02-01T10:40:40.000Z\",\"type\":1,\"value\":11.119920268654823},{\"workout_id\":217614146,\"sport\":9,\"date\":\"2013-07-17T14:30:00.000Z\",\"type\":1,\"value\":1.5},{\"workout_id\":217614146,\"sport\":9,\"date\":\"2013-07-17T14:30:00.000Z\",\"type\":6,\"value\":2400.0},{\"workout_id\":218062152,\"sport\":9,\"date\":\"2013-07-18T14:00:00.000Z\",\"type\":10,\"value\":16500.0},{\"workout_id\":217614146,\"sport\":9,\"date\":\"2013-07-17T14:30:00.000Z\",\"type\":20,\"value\":3862.4256},{\"workout_id\":210309093,\"sport\":18,\"date\":\"2013-07-01T06:20:00.000Z\",\"type\":0,\"value\":1.481142857142857},{\"workout_id\":210761861,\"sport\":18,\"date\":\"2013-07-02T07:05:00.000Z\",\"type\":1,\"value\":2.816},{\"workout_id\":270824758,\"sport\":18,\"date\":\"2013-11-20T07:25:00.000Z\",\"type\":6,\"value\":483.05657211809233},{\"workout_id\":210309093,\"sport\":18,\"date\":\"2013-07-01T06:20:00.000Z\",\"type\":9,\"value\":1458.3333333333333},{\"workout_id\":266883103,\"sport\":18,\"date\":\"2013-11-08T12:00:00.000Z\",\"type\":10,\"value\":11250.0},{\"workout_id\":207470716,\"sport\":18,\"date\":\"2013-06-24T13:52:46.000Z\",\"type\":11,\"value\":24029.234737747203},{\"workout_id\":210309093,\"sport\":18,\"date\":\"2013-07-01T06:20:00.000Z\",\"type\":20,\"value\":782.32},{\"workout_id\":266883103,\"sport\":18,\"date\":\"2013-11-08T12:00:00.000Z\",\"type\":22,\"value\":10863.072},{\"workout_id\":205407373,\"sport\":19,\"date\":\"2013-06-19T07:30:00.000Z\",\"type\":1,\"value\":6.49}],\"name\":\"Britt Drud Sørensen\",\"viewer_friendship\":1}\n",
    "```"
   ]
  },
  {
   "cell_type": "code",
   "execution_count": null,
   "metadata": {
    "collapsed": true
   },
   "outputs": [],
   "source": []
  }
 ],
 "metadata": {
  "kernelspec": {
   "display_name": "Python 2",
   "language": "python",
   "name": "python2"
  },
  "language_info": {
   "codemirror_mode": {
    "name": "ipython",
    "version": 2
   },
   "file_extension": ".py",
   "mimetype": "text/x-python",
   "name": "python",
   "nbconvert_exporter": "python",
   "pygments_lexer": "ipython2",
   "version": "2.7.13"
  }
 },
 "nbformat": 4,
 "nbformat_minor": 2
}
