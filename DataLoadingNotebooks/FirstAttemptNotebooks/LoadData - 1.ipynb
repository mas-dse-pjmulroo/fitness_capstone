{
 "cells": [
  {
   "cell_type": "code",
   "execution_count": 1,
   "metadata": {
    "collapsed": false,
    "deletable": true,
    "editable": true
   },
   "outputs": [
    {
     "name": "stdout",
     "output_type": "stream",
     "text": [
      "Populating the interactive namespace from numpy and matplotlib\n"
     ]
    }
   ],
   "source": [
    "import ujson\n",
    "import pprint\n",
    "import glob\n",
    "import matplotlib.pyplot as plt\n",
    "import numpy as np\n",
    "import pandas as pd\n",
    "from operator import itemgetter\n",
    "import multiprocessing\n",
    "\n",
    "pp = pprint.PrettyPrinter(indent=4)\n",
    "%pylab inline"
   ]
  },
  {
   "cell_type": "code",
   "execution_count": 2,
   "metadata": {
    "collapsed": false,
    "deletable": true,
    "editable": true
   },
   "outputs": [],
   "source": [
    "# Testing auto adding time output to all cells\n",
    "'''\n",
    "#To install...\n",
    "wget https://raw.githubusercontent.com/cpcloud/ipython-autotime/master/autotime.py\n",
    "#Make available via\n",
    "jupyter nbextension install /Users/patrickmulrooney/class/notebooks/pjmulroo/DSECapstone/autotime.py\n",
    "'''\n",
    " \n",
    "%load_ext autotime"
   ]
  },
  {
   "cell_type": "code",
   "execution_count": 3,
   "metadata": {
    "collapsed": false,
    "deletable": true,
    "editable": true
   },
   "outputs": [
    {
     "name": "stdout",
     "output_type": "stream",
     "text": [
      "time: 41.7 ms\n"
     ]
    }
   ],
   "source": [
    "def log_progress(sequence, every=None, size=None):\n",
    "    from ipywidgets import IntProgress, HTML, VBox\n",
    "    from IPython.display import display\n",
    "\n",
    "    is_iterator = False\n",
    "    if size is None:\n",
    "        try:\n",
    "            size = len(sequence)\n",
    "        except TypeError:\n",
    "            is_iterator = True\n",
    "    if size is not None:\n",
    "        if every is None:\n",
    "            if size <= 200:\n",
    "                every = 1\n",
    "            else:\n",
    "                every = int(size / 200)     # every 0.5%\n",
    "    else:\n",
    "        assert every is not None, 'sequence is iterator, set every'\n",
    "\n",
    "    if is_iterator:\n",
    "        progress = IntProgress(min=0, max=1, value=1)\n",
    "        progress.bar_style = 'info'\n",
    "    else:\n",
    "        progress = IntProgress(min=0, max=size, value=0)\n",
    "    label = HTML()\n",
    "    box = VBox(children=[label, progress])\n",
    "    display(box)\n",
    "\n",
    "    index = 0\n",
    "    try:\n",
    "        for index, record in enumerate(sequence, 1):\n",
    "            if index == 1 or index % every == 0:\n",
    "                if is_iterator:\n",
    "                    label.value = '{index} / ?'.format(index=index)\n",
    "                else:\n",
    "                    progress.value = index\n",
    "                    label.value = u'{index} / {size}'.format(\n",
    "                        index=index,\n",
    "                        size=size\n",
    "                    )\n",
    "            yield record\n",
    "    except:\n",
    "        progress.bar_style = 'danger'\n",
    "        raise\n",
    "    else:\n",
    "        progress.bar_style = 'success'\n",
    "        progress.value = index\n",
    "        label.value = str(index or '?')\n",
    "\n",
    "# for _line in log_progress(lines,every=1):\n",
    "#     _line = _line.strip()"
   ]
  },
  {
   "cell_type": "code",
   "execution_count": 4,
   "metadata": {
    "collapsed": false,
    "deletable": true,
    "editable": true
   },
   "outputs": [
    {
     "name": "stdout",
     "output_type": "stream",
     "text": [
      "PIT_commands.pdf    endomondo.json.gz   endomondoHR.json.gz\n",
      "\u001b[34mendomondo\u001b[m\u001b[m           \u001b[34mendomondoHR\u001b[m\u001b[m\n",
      "time: 156 ms\n"
     ]
    }
   ],
   "source": [
    "!ls /Users/patrickmulrooney/Downloads/"
   ]
  },
  {
   "cell_type": "markdown",
   "metadata": {
    "deletable": true,
    "editable": true
   },
   "source": [
    "# Overview\n",
    "\n",
    "-- Data pulled from 'http://jmcauley.ucsd.edu/data/endomondo/endomondo.json.gz' and 'http://jmcauley.ucsd.edu/data/endomondo/endomondoHR.json.gz' on 2016.11.26.\n",
    "\n",
    "-- MD5 of uncompressed files at time or download:\n",
    "\n",
    "```\n",
    "753c9b9afdb9e27076b831985c52bf33  endomondo.json\n",
    "800036c402949822a71cdf69143c56d3  endomondoHR.json\n",
    "```\n"
   ]
  },
  {
   "cell_type": "markdown",
   "metadata": {
    "deletable": true,
    "editable": true
   },
   "source": [
    "# Parse endomondo.json\n",
    "\n",
    "Following commands used to get data in proper format:\n",
    "\n",
    "\n",
    "```\n",
    "cd ~/Downloads/\n",
    "# Replace all the single quotes with double, valid json\n",
    "perl -pe \"s/\\'/\\\"/g\" endomondo.json > endomondo_parsed1.json\n",
    "# Add comma to end of each line, make valid json\n",
    "perl -pe \"s/$/,/\" endomondo_parsed1.json > endomondo_parsed2.json \n",
    "# Remove temp file\n",
    "rm endomondo_parsed1.json\n",
    "# Split file into more managable files\n",
    "mkdir endomondo\n",
    "cd endomondo\n",
    "split -l 100000 ../endomondo_parsed2.json endomondo_parsed\n",
    "# Append [ to beginning of file, and replace last ',' with closing bracket\n",
    "# to make files valid JSON\n",
    "for i in `ls`; do sed \"1s/^/\\[/;$ s/.$/]/\" $i > $i.json;done\n",
    "```"
   ]
  },
  {
   "cell_type": "code",
   "execution_count": 5,
   "metadata": {
    "collapsed": false,
    "deletable": true,
    "editable": true
   },
   "outputs": [
    {
     "name": "stdout",
     "output_type": "stream",
     "text": [
      "time: 2.55 ms\n"
     ]
    }
   ],
   "source": [
    "## Figure out later\n",
    "# # Debugging version, time: 29min 24s\n",
    "# endoFiles = glob.glob(\"/Users/patrickmulrooney/Downloads/endomondo/*json\")\n",
    "\n",
    "# endo = []\n",
    "\n",
    "# for _file in log_progress(endoFiles):\n",
    "\n",
    "#     with open(_file, 'r') as f:\n",
    "#         # Just testing the import, runs out of memory\n",
    "#         # TODO: Figure out why or how to deal with.\n",
    "# #         endo += ujson.load(f)\n",
    "#         endo.append(ujson.load(f))\n"
   ]
  },
  {
   "cell_type": "markdown",
   "metadata": {
    "deletable": true,
    "editable": true
   },
   "source": [
    "# endomondoHR.json\n",
    "## Parse\n",
    "\n",
    "Following commands used to get data in proper format:\n",
    "\n",
    "\n",
    "```\n",
    "cd ~/Downloads/\n",
    "# Replace all the single quotes with double, valid json\n",
    "perl -pe \"s/\\'/\\\"/g\" endomondoHR.json > endomondoHR_parsed1.json\n",
    "# Add comma to end of each line, make valid json\n",
    "perl -pe \"s/$/,/\" endomondoHR_parsed1.json > endomondoHR_parsed2.json \n",
    "# Remove temp file\n",
    "rm endomondoHR_parsed1.json\n",
    "# Split file into more managable files\n",
    "mkdir endomondoHR\n",
    "cd endomondoHR\n",
    "split -l 100000 ../endomondoHR_parsed2.json endomondoHR_parsed\n",
    "# Append [ to beginning of file, and replace last ',' with closing bracket\n",
    "# to make files valid JSON\n",
    "for i in `ls`; do sed \"1s/^/\\[/;$ s/.$/]/\" $i > $i.json;done\n",
    "```"
   ]
  },
  {
   "cell_type": "code",
   "execution_count": 6,
   "metadata": {
    "collapsed": false,
    "deletable": true,
    "editable": true
   },
   "outputs": [
    {
     "name": "stdout",
     "output_type": "stream",
     "text": [
      "gzip: can't stat: /Users/patrickmulrooney/Downloads/endomondoHR/endomondoHR_parseda*json.gz (/Users/patrickmulrooney/Downloads/endomondoHR/endomondoHR_parseda*json.gz.gz): No such file or directory\n",
      "time: 150 ms\n"
     ]
    }
   ],
   "source": [
    "!gzip -vd /Users/patrickmulrooney/Downloads/endomondoHR/endomondoHR_parseda*json.gz"
   ]
  },
  {
   "cell_type": "code",
   "execution_count": 7,
   "metadata": {
    "collapsed": false,
    "deletable": true,
    "editable": true
   },
   "outputs": [
    {
     "name": "stdout",
     "output_type": "stream",
     "text": [
      "time: 3min 47s\n"
     ]
    }
   ],
   "source": [
    "# time: 4min 4s\n",
    "endoHRFiles = glob.glob(\"/Users/patrickmulrooney/Downloads/endomondoHR/*json\")\n",
    "\n",
    "endoHR = []\n",
    "\n",
    "for _file in log_progress(endoHRFiles, every=1):\n",
    "\n",
    "    with open(_file, 'r') as f:\n",
    "        endoHR += ujson.load(f)\n"
   ]
  },
  {
   "cell_type": "code",
   "execution_count": 8,
   "metadata": {
    "collapsed": false,
    "deletable": true,
    "editable": true
   },
   "outputs": [
    {
     "name": "stdout",
     "output_type": "stream",
     "text": [
      "Got 253020 records\n",
      "time: 13 ms\n"
     ]
    }
   ],
   "source": [
    "print \"Got %s records\"%len(endoHR)"
   ]
  },
  {
   "cell_type": "markdown",
   "metadata": {
    "deletable": true,
    "editable": true
   },
   "source": [
    "### Looks like only two variations of the data exist as far as series. Those that include the speed and those that don't.\n",
    "\n",
    "```\n",
    "{   (u'altitude', u'longitude', u'heart_rate', u'timestamp', u'latitude'): 203359,\n",
    "    (u'altitude', u'longitude', u'heart_rate', u'timestamp', u'latitude', u'speed'): 49659}\n",
    "```"
   ]
  },
  {
   "cell_type": "code",
   "execution_count": 9,
   "metadata": {
    "collapsed": false,
    "deletable": true,
    "editable": true
   },
   "outputs": [
    {
     "name": "stdout",
     "output_type": "stream",
     "text": [
      "time: 6.92 ms\n"
     ]
    }
   ],
   "source": [
    "## Not as good as cell below, use it instead.\n",
    "\n",
    "# # time: 55min 4s\n",
    "\n",
    "# # Go through each HR record and find out which keys it contains whose values are a list.\n",
    "# # All list values should be part of a time series which we should combine into a single key value.\n",
    "\n",
    "# endoHRListTypes = ['timestamp', 'heart_rate', 'altitude', 'latitude', 'longitude', 'speed']\n",
    "\n",
    "# seriesLength = []\n",
    "\n",
    "# endoHR2 = []\n",
    "# for _endoHR in log_progress(endoHR, every=1):\n",
    "\n",
    "#     # New dict to store parsed values\n",
    "#     _endoHRtmp = {}\n",
    "\n",
    "#     # Iterate through keys and find those not of type list, we deal with those below\n",
    "#     for j in _endoHR.keys():\n",
    "#         if type(_endoHR[j]) != list:\n",
    "#             _endoHRtmp[j] = _endoHR[j]\n",
    "\n",
    "#     # For debugging purposes, get a record of length of series for histogram\n",
    "#     _seriesLen = len(_endoHR['timestamp'])\n",
    "#     seriesLength.append(_seriesLen)\n",
    "\n",
    "#     # Combine the list types for each record into one.\n",
    "#     # Probably should do more sanity checking of length of lists\n",
    "#     # If data not timestamped pretty useless\n",
    "#     _endoHRtmp['series'] = []\n",
    "#     for j in xrange(_seriesLen):\n",
    "#         # Speed is the only field missing, so deal with it\n",
    "#         try:\n",
    "#             _endoHRtmp['speed_included'] = True\n",
    "#             _endoHRtmp['series'].append( [ _endoHR['timestamp'][j], _endoHR['heart_rate'][j], _endoHR['altitude'][j], \\\n",
    "#                                            _endoHR['latitude'][j], _endoHR['longitude'][j], _endoHR['speed'][j] ] )\n",
    "#         except:\n",
    "#             _endoHRtmp['speed_included'] = False\n",
    "#             _endoHRtmp['series'].append( [ _endoHR['timestamp'][j], _endoHR['heart_rate'][j], _endoHR['altitude'][j], \\\n",
    "#                                            _endoHR['latitude'][j], _endoHR['longitude'][j] ] )            \n",
    "\n",
    "#     endoHR2.append(_endoHRtmp)"
   ]
  },
  {
   "cell_type": "code",
   "execution_count": 10,
   "metadata": {
    "collapsed": false,
    "deletable": true,
    "editable": true
   },
   "outputs": [
    {
     "name": "stdout",
     "output_type": "stream",
     "text": [
      "time: 54min 45s\n"
     ]
    }
   ],
   "source": [
    "## Not as good as cell below, use it instead.\n",
    "\n",
    "# # time: 54min 45s\n",
    "# # Version2 of cell above, inplace instead of new\n",
    "# # Go through each HR record and find out which keys it contains whose values are a list.\n",
    "# # All list values should be part of a time series which we should combine into a single key value.\n",
    "\n",
    "# endoHRListTypes = ['timestamp', 'heart_rate', 'altitude', 'latitude', 'longitude', 'speed']\n",
    "\n",
    "# seriesLength = []\n",
    "\n",
    "# for _endoHR in log_progress(endoHR, every=1):\n",
    "\n",
    "#     # For debugging purposes, get a record of length of series for histogram\n",
    "#     _seriesLen = len(_endoHR['timestamp'])\n",
    "#     seriesLength.append(_seriesLen)\n",
    "\n",
    "#     # Combine the list types for each record into one.\n",
    "#     # Probably should do more sanity checking of length of lists\n",
    "#     # If data not timestamped pretty useless\n",
    "#     _endoHR['series'] = []\n",
    "#     for j in xrange(_seriesLen):\n",
    "#         # Speed is the only field missing, so deal with it\n",
    "#         try:\n",
    "#             _endoHR['speed_included'] = True\n",
    "#             _endoHR['series'].append( [ _endoHR['timestamp'][j], _endoHR['heart_rate'][j], _endoHR['altitude'][j], \\\n",
    "#                                            _endoHR['latitude'][j], _endoHR['longitude'][j], _endoHR['speed'][j] ] )\n",
    "\n",
    "#         except:\n",
    "#             _endoHR['speed_included'] = False\n",
    "#             _endoHR['series'].append( [ _endoHR['timestamp'][j], _endoHR['heart_rate'][j], _endoHR['altitude'][j], \\\n",
    "#                                            _endoHR['latitude'][j], _endoHR['longitude'][j] ] )\n",
    "\n",
    "#     # Remove unused keys\n",
    "#     _endoHR.pop('timestamp', None)\n",
    "#     _endoHR.pop('heart_rate', None)\n",
    "#     _endoHR.pop('altitude', None)\n",
    "#     _endoHR.pop('latitude', None)\n",
    "#     _endoHR.pop('longitude', None)\n",
    "#     if u'speed' in _endoHR.keys():\n",
    "#         _endoHR.pop('speed', None)\n"
   ]
  },
  {
   "cell_type": "code",
   "execution_count": 10,
   "metadata": {
    "collapsed": false,
    "deletable": true,
    "editable": true
   },
   "outputs": [
    {
     "name": "stdout",
     "output_type": "stream",
     "text": [
      "time: 41min 15s\n"
     ]
    }
   ],
   "source": [
    "# time: 41min 15s\n",
    "# Version3 of cell above, inplace instead of new, using del instead of pop.\n",
    "# Go through each HR record and find out which keys it contains whose values are a list.\n",
    "# All list values should be part of a time series which we should combine into a single key value.\n",
    "# Not sure why it is so slow, should be faster.\n",
    "\n",
    "endoHRListTypes = ['timestamp', 'heart_rate', 'altitude', 'latitude', 'longitude', 'speed']\n",
    "\n",
    "seriesLength = []\n",
    "\n",
    "for _endoHR in log_progress(endoHR, every=5):\n",
    "\n",
    "    # For debugging purposes, get a record of length of series for histogram\n",
    "    _seriesLen = len(_endoHR['timestamp'])\n",
    "    seriesLength.append(_seriesLen)\n",
    "\n",
    "    # Combine the list types for each record into one.\n",
    "    # Probably should do more sanity checking of length of lists\n",
    "    # If data not timestamped pretty useless\n",
    "    _endoHR['series'] = []\n",
    "    for j in xrange(_seriesLen):\n",
    "        # Speed is the only field missing, so deal with it\n",
    "        try:\n",
    "            _endoHR['speed_included'] = True\n",
    "            _endoHR['series'].append( [ _endoHR['timestamp'][j], _endoHR['heart_rate'][j], _endoHR['altitude'][j], \\\n",
    "                                           _endoHR['latitude'][j], _endoHR['longitude'][j], _endoHR['speed'][j] ] )\n",
    "\n",
    "        except:\n",
    "            _endoHR['speed_included'] = False\n",
    "            _endoHR['series'].append( [ _endoHR['timestamp'][j], _endoHR['heart_rate'][j], _endoHR['altitude'][j], \\\n",
    "                                           _endoHR['latitude'][j], _endoHR['longitude'][j] ] )\n",
    "\n",
    "    # Remove unused keys\n",
    "    del _endoHR['timestamp']\n",
    "    del _endoHR['heart_rate']\n",
    "    del _endoHR['altitude']\n",
    "    del _endoHR['latitude']\n",
    "    del _endoHR['longitude']\n",
    "    if u'speed' in _endoHR.keys():\n",
    "        del _endoHR['speed']\n"
   ]
  },
  {
   "cell_type": "markdown",
   "metadata": {
    "deletable": true,
    "editable": true
   },
   "source": [
    "## Write parsed data to avoid needing to run this multiple times"
   ]
  },
  {
   "cell_type": "code",
   "execution_count": 12,
   "metadata": {
    "collapsed": false,
    "deletable": true,
    "editable": true
   },
   "outputs": [
    {
     "name": "stdout",
     "output_type": "stream",
     "text": [
      "time: 3min 41s\n"
     ]
    }
   ],
   "source": [
    "# time: 3min 41s\n",
    "\n",
    "with open('/Users/patrickmulrooney/Downloads/endomondoHR/endoHRParsed.json', 'w') as f:\n",
    "     ujson.dump(endoHR, f)"
   ]
  },
  {
   "cell_type": "markdown",
   "metadata": {
    "collapsed": false,
    "deletable": true,
    "editable": true
   },
   "source": [
    "## Move on to notebook 2\n",
    "Link to [ExploreData - 2](ExploreData - 2.ipynb)"
   ]
  },
  {
   "cell_type": "code",
   "execution_count": null,
   "metadata": {
    "collapsed": true,
    "deletable": true,
    "editable": true
   },
   "outputs": [],
   "source": []
  }
 ],
 "metadata": {
  "kernelspec": {
   "display_name": "Python 2",
   "language": "python",
   "name": "python2"
  },
  "language_info": {
   "codemirror_mode": {
    "name": "ipython",
    "version": 2
   },
   "file_extension": ".py",
   "mimetype": "text/x-python",
   "name": "python",
   "nbconvert_exporter": "python",
   "pygments_lexer": "ipython2",
   "version": "2.7.13"
  }
 },
 "nbformat": 4,
 "nbformat_minor": 1
}
