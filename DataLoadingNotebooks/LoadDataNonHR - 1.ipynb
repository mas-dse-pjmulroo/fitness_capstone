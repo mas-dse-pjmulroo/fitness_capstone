{
 "cells": [
  {
   "cell_type": "code",
   "execution_count": 47,
   "metadata": {
    "collapsed": false,
    "deletable": true,
    "editable": true
   },
   "outputs": [
    {
     "name": "stdout",
     "output_type": "stream",
     "text": [
      "Populating the interactive namespace from numpy and matplotlib\n",
      "time: 306 ms\n"
     ]
    },
    {
     "name": "stderr",
     "output_type": "stream",
     "text": [
      "/usr/local/lib/python2.7/site-packages/IPython/core/magics/pylab.py:161: UserWarning: pylab import has clobbered these variables: ['f']\n",
      "`%matplotlib` prevents importing * from pylab and numpy\n",
      "  \"\\n`%matplotlib` prevents importing * from pylab and numpy\"\n"
     ]
    }
   ],
   "source": [
    "import ujson\n",
    "import pprint\n",
    "import glob\n",
    "import matplotlib.pyplot as plt\n",
    "import numpy as np\n",
    "import pandas as pd\n",
    "from operator import itemgetter\n",
    "import multiprocessing\n",
    "from copy import deepcopy\n",
    "\n",
    "from itertools import ifilter\n",
    "\n",
    "\n",
    "pp = pprint.PrettyPrinter(indent=4)\n",
    "%pylab inline"
   ]
  },
  {
   "cell_type": "code",
   "execution_count": 48,
   "metadata": {
    "collapsed": false,
    "deletable": true,
    "editable": true
   },
   "outputs": [
    {
     "name": "stdout",
     "output_type": "stream",
     "text": [
      "The autotime extension is already loaded. To reload it, use:\n",
      "  %reload_ext autotime\n",
      "time: 7.59 ms\n"
     ]
    }
   ],
   "source": [
    "# Testing auto adding time output to all cells\n",
    "'''\n",
    "#To install...\n",
    "wget https://raw.githubusercontent.com/cpcloud/ipython-autotime/master/autotime.py\n",
    "#Make available via\n",
    "jupyter nbextension install /Users/patrickmulrooney/class/notebooks/pjmulroo/DSECapstone/autotime.py\n",
    "'''\n",
    " \n",
    "%load_ext autotime"
   ]
  },
  {
   "cell_type": "code",
   "execution_count": 49,
   "metadata": {
    "collapsed": false,
    "deletable": true,
    "editable": true
   },
   "outputs": [
    {
     "name": "stdout",
     "output_type": "stream",
     "text": [
      "time: 136 ms\n"
     ]
    }
   ],
   "source": [
    "def log_progress(sequence, every=None, size=None):\n",
    "    from ipywidgets import IntProgress, HTML, VBox\n",
    "    from IPython.display import display\n",
    "\n",
    "    is_iterator = False\n",
    "    if size is None:\n",
    "        try:\n",
    "            size = len(sequence)\n",
    "        except TypeError:\n",
    "            is_iterator = True\n",
    "    if size is not None:\n",
    "        if every is None:\n",
    "            if size <= 200:\n",
    "                every = 1\n",
    "            else:\n",
    "                every = int(size / 200)     # every 0.5%\n",
    "    else:\n",
    "        assert every is not None, 'sequence is iterator, set every'\n",
    "\n",
    "    if is_iterator:\n",
    "        progress = IntProgress(min=0, max=1, value=1)\n",
    "        progress.bar_style = 'info'\n",
    "    else:\n",
    "        progress = IntProgress(min=0, max=size, value=0)\n",
    "    label = HTML()\n",
    "    box = VBox(children=[label, progress])\n",
    "    display(box)\n",
    "\n",
    "    index = 0\n",
    "    try:\n",
    "        for index, record in enumerate(sequence, 1):\n",
    "            if index == 1 or index % every == 0:\n",
    "                if is_iterator:\n",
    "                    label.value = '{index} / ?'.format(index=index)\n",
    "                else:\n",
    "                    progress.value = index\n",
    "                    label.value = u'{index} / {size}'.format(\n",
    "                        index=index,\n",
    "                        size=size\n",
    "                    )\n",
    "            yield record\n",
    "    except:\n",
    "        progress.bar_style = 'danger'\n",
    "        raise\n",
    "    else:\n",
    "        progress.bar_style = 'success'\n",
    "        progress.value = index\n",
    "        label.value = str(index or '?')\n",
    "\n",
    "# for _line in log_progress(lines,every=1):\n",
    "#     _line = _line.strip()"
   ]
  },
  {
   "cell_type": "code",
   "execution_count": 50,
   "metadata": {
    "collapsed": false,
    "deletable": true,
    "editable": true
   },
   "outputs": [
    {
     "name": "stdout",
     "output_type": "stream",
     "text": [
      "endomondo_parsedaa.json endomondo_parsedae.json endomondo_parsedai.json\n",
      "endomondo_parsedab.json endomondo_parsedaf.json endomondo_parsedaj.json\n",
      "endomondo_parsedac.json endomondo_parsedag.json\n",
      "endomondo_parsedad.json endomondo_parsedah.json\n",
      "time: 254 ms\n"
     ]
    }
   ],
   "source": [
    "!ls /Users/patrickmulrooney/Downloads/endomondo/"
   ]
  },
  {
   "cell_type": "markdown",
   "metadata": {
    "deletable": true,
    "editable": true
   },
   "source": [
    "# Overview\n",
    "\n",
    "-- Data pulled from 'http://jmcauley.ucsd.edu/data/endomondo/endomondo.json.gz' and 'http://jmcauley.ucsd.edu/data/endomondo/endomondoHR.json.gz' on 2016.11.26.\n",
    "\n",
    "-- MD5 of uncompressed files at time or download:\n",
    "\n",
    "```\n",
    "753c9b9afdb9e27076b831985c52bf33  endomondo.json\n",
    "800036c402949822a71cdf69143c56d3  endomondoHR.json\n",
    "```\n"
   ]
  },
  {
   "cell_type": "markdown",
   "metadata": {
    "deletable": true,
    "editable": true
   },
   "source": [
    "# Parse endomondo.json\n",
    "\n",
    "Following commands used to get data in proper format:\n",
    "\n",
    "\n",
    "```\n",
    "cd ~/Downloads/\n",
    "# Replace all the single quotes with double, valid json\n",
    "perl -pe \"s/\\'/\\\"/g\" endomondo.json > endomondo_parsed1.json\n",
    "# Add comma to end of each line, make valid json\n",
    "perl -pe \"s/$/,/\" endomondo_parsed1.json > endomondo_parsed2.json \n",
    "# Remove temp file\n",
    "rm endomondo_parsed1.json\n",
    "# Split file into more managable files\n",
    "mkdir endomondo\n",
    "cd endomondo\n",
    "split -l 100000 ../endomondo_parsed2.json endomondo_parsed\n",
    "# Append [ to beginning of file, and replace last ',' with closing bracket\n",
    "# to make files valid JSON\n",
    "for i in `ls`; do sed \"1s/^/\\[/;$ s/.$/]/\" $i > $i.json;done\n",
    "```"
   ]
  },
  {
   "cell_type": "code",
   "execution_count": 51,
   "metadata": {
    "collapsed": false
   },
   "outputs": [
    {
     "name": "stdout",
     "output_type": "stream",
     "text": [
      "Got 100000 records\n",
      "Got 100000 records\n",
      "Got 100000 records\n",
      "Got 100000 records\n",
      "Got 100000 records\n",
      "Got 100000 records\n",
      "Got 100000 records\n",
      "Got 100000 records\n",
      "Got 100000 records\n",
      "Got 62190 records\n",
      "time: 14h 10min 41s\n"
     ]
    }
   ],
   "source": [
    "# 8hr 1min\n",
    "import psycopg2\n",
    "from collections import defaultdict\n",
    "\n",
    "dbname = 'endomondo'\n",
    "conn = psycopg2.connect(\"dbname=endomondo user=patrickmulrooney\")\n",
    "\n",
    "# Open a cursor to perform database operations\n",
    "cur = conn.cursor()\n",
    "\n",
    "endoFiles = ['a','b','c','d','e','f','g','h','i','j']\n",
    "\n",
    "problem_queries = []\n",
    "problem_queries2 = []\n",
    "\n",
    "for _file in log_progress(endoFiles, every=1):\n",
    "    \n",
    "    with open(\"/Users/patrickmulrooney/Downloads/endomondo/endomondo_parseda%s.json\"%_file, 'r') as f:\n",
    "        # Just testing the import, runs out of memory\n",
    "        # TODO: Figure out why or how to deal with.\n",
    "        endo = ujson.load(f)\n",
    "        #endo.append(ujson.load(f))\n",
    "\n",
    "        \n",
    "    print \"Got %s records\"%len(endo)\n",
    "\n",
    "    # time: 41min 15s\n",
    "    # Version3 of cell above, inplace instead of new, using del instead of pop.\n",
    "    # Go through each record and find out which keys it contains whose values are a list.\n",
    "    # All list values should be part of a time series which we should combine into a single key value.\n",
    "    # Not sure why it is so slow, should be faster.\n",
    "\n",
    "    endoListTypes = ['timestamp', 'altitude', 'latitude', 'longitude', 'speed']\n",
    "\n",
    "    seriesLength = []\n",
    "\n",
    "    #for _endo in log_progress(endo, every=5):\n",
    "    # Deal with stopped translation.\n",
    "    for _i, _endo in enumerate(endo):\n",
    "\n",
    "        if _endo['sport'] == \"bike (transport)\":\n",
    "            _endo['sport'] = \"bike_transport\"\n",
    "        else:\n",
    "            _endo['sport'] = _endo['sport'].replace(\" \", \"_\")\n",
    "            _endo['sport'] = _endo['sport'].replace(\"-\", \"_\")\n",
    "        \n",
    "        # Combine the list types for each record into one.\n",
    "        # Probably should do more sanity checking of length of lists\n",
    "        # If data not timestamped pretty useless\n",
    "        _endo['series'] = []\n",
    "        \n",
    "        _endo['timestamp_included'] = True\n",
    "        _endo['heart_rate_included'] = True\n",
    "        _endo['altitude_included'] = True\n",
    "        _endo['latitude_included'] = True\n",
    "        _endo['longitude_included'] = True\n",
    "        _endo['speed_included'] = True\n",
    "\n",
    "        \n",
    "        for j in xrange(len(_endo['timestamp'])):\n",
    "            _timestamp = _endo['timestamp'][j]\n",
    "               \n",
    "            try:\n",
    "                _heart_rate =_endo['heart_rate'][j]\n",
    "            except:\n",
    "                _endo['heart_rate_included'] = False\n",
    "                _heart_rate = 'NULL'\n",
    "            \n",
    "            try:\n",
    "                _altitude = _endo['altitude'][j]\n",
    "            except:\n",
    "                _endo['altitude_included'] = False\n",
    "                _altitude = 'NULL'\n",
    "                \n",
    "            try:\n",
    "                _latitude = _endo['latitude'][j]\n",
    "            except:\n",
    "                _endo['latitude_included'] = False\n",
    "                _latitude = 'NULL'\n",
    "                \n",
    "            try:\n",
    "                _longitude = _endo['longitude'][j]\n",
    "            except:\n",
    "                _endo['longitude_included'] = False\n",
    "                _longitude = 'NULL'\n",
    "                \n",
    "            try:\n",
    "                _speed =_endo['speed'][j]\n",
    "            except:\n",
    "                _endo['speed_included'] = False\n",
    "                _speed = 'NULL'\n",
    "                \n",
    "            _endo['series'].append( [ _timestamp, _heart_rate, _altitude, _latitude, _longitude, _speed ] )\n",
    "\n",
    "        # Remove unused keys\n",
    "        if u'timestamp' in _endo.keys():\n",
    "            del _endo['timestamp']\n",
    "        if u'altitude' in _endo.keys():\n",
    "            del _endo['altitude']\n",
    "        if u'latitude' in _endo.keys():\n",
    "            del _endo['latitude']\n",
    "        if u'longitude' in _endo.keys():\n",
    "            del _endo['longitude']\n",
    "        if u'speed' in _endo.keys():\n",
    "            del _endo['speed']\n",
    "    \n",
    "\n",
    "        _dict2 = {}\n",
    "        _dict2[\"table\"] = _endo['sport'] + \"_by_workout\"\n",
    "        _dict2[\"gender\"] = _endo['gender']\n",
    "        _dict2[\"workoutId\"] = _endo['id']\n",
    "        _dict2[\"userId\"] = _endo['userId']\n",
    "\n",
    "        _dict2[\"start_time\"] = _endo['series'][0][0]\n",
    "        _dict2[\"duration\"] = _endo['series'][-1][0] - _endo['series'][0][0]\n",
    "        _dict2[\"start_altitude\"] = _endo['series'][0][2]\n",
    "        _dict2[\"start_latitude\"] = _endo['series'][0][3]\n",
    "        _dict2[\"start_longitude\"] = _endo['series'][0][4]\n",
    "        _dict2[\"series_length\"] = len(_endo['series'])\n",
    "\n",
    "        query2 = \"INSERT INTO {} (gender, workoutid, userid, start_time, duration, start_altitude, start_latitude, start_longitude, series_length ) values ('{}', {}, {}, {}, {}, {}, {}, {}, {});\".format(_dict2['table'], _dict2['gender'], _dict2['workoutId'], _dict2['userId'], _dict2['start_time'], _dict2['duration'], _dict2['start_altitude'], _dict2['start_latitude'], _dict2['start_longitude'], _dict2['series_length'])  \n",
    "        try:\n",
    "            cur.execute(query2)\n",
    "        except:\n",
    "            problem_queries.append(query2)\n",
    "\n",
    "        _dict = defaultdict(lambda: 'NULL', {})\n",
    "\n",
    "        _dict[\"table\"] = _endo['sport']\n",
    "        _dict[\"workoutId\"] = _endo['id']\n",
    "\n",
    "        for _series in _endo['series']:\n",
    "            _dict[\"time\"] = _series[0]\n",
    "\n",
    "            if _endo[\"heart_rate_included\"]:\n",
    "                _dict[\"heart_rate\"] = _series[1]\n",
    "\n",
    "            if _endo[\"altitude_included\"]:\n",
    "                _dict[\"altitude\"] = _series[2]\n",
    "\n",
    "            if _endo[\"latitude_included\"]:\n",
    "                _dict[\"latitude\"] = _series[3]\n",
    "\n",
    "            if _endo['longitude_included']:\n",
    "                _dict[\"longitude\"] = _series[4]\n",
    "\n",
    "            if _endo['speed_included']:\n",
    "                _dict[\"speed\"] = _series[5]\n",
    "\n",
    "\n",
    "            query = \"INSERT INTO {} (time, altitude, heart_rate, latitude, longitude, speed, workoutid) values ({}, {}, {}, {}, {}, {}, {});\".format(_dict['table'], _dict['time'], _dict['altitude'], _dict['heart_rate'], _dict['latitude'], _dict['longitude'],_dict['speed'], _dict['workoutId'])\n",
    "            try:\n",
    "                cur.execute(query)\n",
    "            except:\n",
    "                problem_queries2.append(query)\n",
    "                \n",
    "        conn.commit()\n",
    "        "
   ]
  },
  {
   "cell_type": "code",
   "execution_count": null,
   "metadata": {
    "collapsed": false,
    "deletable": true,
    "editable": true
   },
   "outputs": [],
   "source": [
    "# ## Figure out later\n",
    "# # # Debugging version, time: 29min 24s\n",
    "# endoFiles = glob.glob(\"/Users/patrickmulrooney/Downloads/endomondo/*.json\")\n",
    "\n",
    "# endo = []\n",
    "\n",
    "# for _file in log_progress(endoFiles, every=1):\n",
    "\n",
    "#     with open(_file, 'r') as f:\n",
    "#         # Just testing the import, runs out of memory\n",
    "#         # TODO: Figure out why or how to deal with.\n",
    "#         endo += ujson.load(f)\n",
    "#         #endo.append(ujson.load(f))\n"
   ]
  },
  {
   "cell_type": "code",
   "execution_count": null,
   "metadata": {
    "collapsed": false,
    "deletable": true,
    "editable": true
   },
   "outputs": [],
   "source": [
    "# print \"Got %s records\"%len(endo)"
   ]
  },
  {
   "cell_type": "markdown",
   "metadata": {
    "deletable": true,
    "editable": true
   },
   "source": [
    "### Looks like only two variations of the data exist as far as series. Those that include the speed and those that don't.\n",
    "\n",
    "```\n",
    "{   (u'altitude', u'longitude', u'timestamp', u'latitude'): 203359,\n",
    "    (u'altitude', u'longitude', u'timestamp', u'latitude', u'speed'): 49659}\n",
    "```"
   ]
  },
  {
   "cell_type": "code",
   "execution_count": null,
   "metadata": {
    "collapsed": false,
    "deletable": true,
    "editable": true
   },
   "outputs": [],
   "source": [
    "# problemEndo = []"
   ]
  },
  {
   "cell_type": "code",
   "execution_count": null,
   "metadata": {
    "collapsed": false,
    "deletable": true,
    "editable": true
   },
   "outputs": [],
   "source": [
    "# # time: 41min 15s\n",
    "# # Version3 of cell above, inplace instead of new, using del instead of pop.\n",
    "# # Go through each record and find out which keys it contains whose values are a list.\n",
    "# # All list values should be part of a time series which we should combine into a single key value.\n",
    "# # Not sure why it is so slow, should be faster.\n",
    "\n",
    "# endoListTypes = ['timestamp', 'altitude', 'latitude', 'longitude', 'speed']\n",
    "\n",
    "# seriesLength = []\n",
    "\n",
    "# #for _endo in log_progress(endo, every=5):\n",
    "# # Deal with stopped translation.\n",
    "# for _i, _endo in enumerate(endo):\n",
    "#     if 'timestamp' not in _endo.keys():\n",
    "#         continue\n",
    "        \n",
    "#     if not (set(endoListTypes) < set(_endo.keys())):\n",
    "#         problemEndo.append(deepcopy(_endo))\n",
    "#         endo[_i] = None\n",
    "#         continue\n",
    "\n",
    "\n",
    "#     # For debugging purposes, get a record of length of series for histogram\n",
    "#     _seriesLen = len(_endo['timestamp'])\n",
    "#     seriesLength.append(_seriesLen)\n",
    "\n",
    "#     # Combine the list types for each record into one.\n",
    "#     # Probably should do more sanity checking of length of lists\n",
    "#     # If data not timestamped pretty useless\n",
    "#     _endo['series'] = []\n",
    "#     for j in xrange(_seriesLen):\n",
    "#         # Speed is the only field missing, so deal with it\n",
    "#         try:\n",
    "#             _endo['speed_included'] = True\n",
    "#             _endo['series'].append( [ _endo['timestamp'][j], _endo['altitude'][j], \\\n",
    "#                                            _endo['latitude'][j], _endo['longitude'][j], _endo['speed'][j] ] )\n",
    "\n",
    "#         except:\n",
    "#             _endo['speed_included'] = False\n",
    "#             _endo['series'].append( [ _endo['timestamp'][j], _endo['altitude'][j], \\\n",
    "#                                            _endo['latitude'][j], _endo['longitude'][j] ] )\n",
    "\n",
    "#     # Remove unused keys\n",
    "#     del _endo['timestamp']\n",
    "#     del _endo['altitude']\n",
    "#     del _endo['latitude']\n",
    "#     del _endo['longitude']\n",
    "#     if u'speed' in _endo.keys():\n",
    "#         del _endo['speed']\n"
   ]
  },
  {
   "cell_type": "code",
   "execution_count": null,
   "metadata": {
    "collapsed": false,
    "deletable": true,
    "editable": true
   },
   "outputs": [],
   "source": [
    "# print len(problemEndo)\n",
    "# print len(endo)"
   ]
  },
  {
   "cell_type": "code",
   "execution_count": null,
   "metadata": {
    "collapsed": true,
    "deletable": true,
    "editable": true
   },
   "outputs": [],
   "source": [
    "# endo = list(ifilter(lambda x: x is not None, endo))"
   ]
  },
  {
   "cell_type": "markdown",
   "metadata": {
    "deletable": true,
    "editable": true
   },
   "source": [
    "## Write parsed data to avoid needing to run this multiple times"
   ]
  },
  {
   "cell_type": "code",
   "execution_count": null,
   "metadata": {
    "collapsed": false,
    "deletable": true,
    "editable": true
   },
   "outputs": [],
   "source": [
    "# # time: 3min 41s\n",
    "\n",
    "# with open('/Users/patrickmulrooney/Downloads/endomondo/endoParsed.json', 'w') as f:\n",
    "#      ujson.dump(endo, f)\n",
    "\n",
    "# # Address later\n",
    "# with open('/Users/patrickmulrooney/Downloads/endomondo/endoParsed_problem.json', 'w') as f:\n",
    "#      ujson.dump(problemEndo, f)"
   ]
  },
  {
   "cell_type": "markdown",
   "metadata": {},
   "source": [
    "## Address problem queries\n",
    "\n",
    "### start with those into 'by_workout' tables"
   ]
  },
  {
   "cell_type": "code",
   "execution_count": 52,
   "metadata": {
    "collapsed": false
   },
   "outputs": [
    {
     "name": "stdout",
     "output_type": "stream",
     "text": [
      "15\n",
      "5033\n",
      "time: 5.82 ms\n"
     ]
    }
   ],
   "source": [
    "print len(problem_queries)\n",
    "print len(problem_queries2)"
   ]
  },
  {
   "cell_type": "code",
   "execution_count": 54,
   "metadata": {
    "collapsed": false
   },
   "outputs": [
    {
     "name": "stdout",
     "output_type": "stream",
     "text": [
      "time: 14.7 ms\n"
     ]
    }
   ],
   "source": [
    "# for _i in problem_queries:\n",
    "#     print _i\n",
    "\n",
    "o = open(\"/Users/patrickmulrooney/Desktop/problems2.txt\", 'w')\n",
    "\n",
    "for _i in problem_queries2:\n",
    "    o.write(_i + \"\\n\")\n",
    "    \n",
    "o.close()"
   ]
  },
  {
   "cell_type": "markdown",
   "metadata": {},
   "source": [
    "### Only real problem, others probably timeouts\n",
    "\n",
    "```\n",
    "INSERT INTO indoor_cycling (time, altitude, heart_rate, latitude, longitude, speed, workoutid) values (1343936052, 1e+25, 117, 0.236096, 32.623199, NULL, 77513570);\n",
    "```"
   ]
  },
  {
   "cell_type": "code",
   "execution_count": 46,
   "metadata": {
    "collapsed": false
   },
   "outputs": [
    {
     "name": "stdout",
     "output_type": "stream",
     "text": [
      "INSERT INTO bike (time, altitude, heart_rate, latitude, longitude, speed, workoutid) values (1317918764, 6.6, NULL, 14.6544801258, 121.013972629, 16.38758, 36615563);\n",
      "INSERT INTO bike (time, altitude, heart_rate, latitude, longitude, speed, workoutid) values (1317918804, 10.6, NULL, 14.6554908156, 121.013297634, 15.132809, 36615563);\n",
      "INSERT INTO bike (time, altitude, heart_rate, latitude, longitude, speed, workoutid) values (1317918869, 14.2, NULL, 14.6554200724, 121.011925433, 5.188465, 36615563);\n",
      "INSERT INTO bike (time, altitude, heart_rate, latitude, longitude, speed, workoutid) values (1317918965, 14.6, NULL, 14.6573976986, 121.011953345, 36.533875, 36615563);\n",
      "INSERT INTO bike (time, altitude, heart_rate, latitude, longitude, speed, workoutid) values (1317919010, 12.6, NULL, 14.6575012989, 121.017422285, 52.348995, 36615563);\n",
      "INSERT INTO bike (time, altitude, heart_rate, latitude, longitude, speed, workoutid) values (1317919053, 17.2, NULL, 14.6575150453, 121.020452175, 17.126165, 36615563);\n",
      "INSERT INTO bike (time, altitude, heart_rate, latitude, longitude, speed, workoutid) values (1317919102, 22.4, NULL, 14.6571385302, 121.022587214, 32.122135, 36615563);\n",
      "INSERT INTO bike (time, altitude, heart_rate, latitude, longitude, speed, workoutid) values (1317919145, 28.0, NULL, 14.656308135, 121.026380863, 31.91228, 36615563);\n",
      "INSERT INTO bike (time, altitude, heart_rate, latitude, longitude, speed, workoutid) values (1317919193, 31.8, NULL, 14.6556998603, 121.029185951, 20.040178, 36615563);\n",
      "INSERT INTO bike (time, altitude, heart_rate, latitude, longitude, speed, workoutid) values (1317919264, 31.8, NULL, 14.6550151426, 121.030342067, 8.999225, 36615563);\n",
      "time: 9.28 ms\n"
     ]
    }
   ],
   "source": [
    "for _i in problem_queries2[:10]:\n",
    "    print _i"
   ]
  },
  {
   "cell_type": "code",
   "execution_count": null,
   "metadata": {
    "collapsed": true
   },
   "outputs": [],
   "source": []
  },
  {
   "cell_type": "code",
   "execution_count": null,
   "metadata": {
    "collapsed": true
   },
   "outputs": [],
   "source": []
  },
  {
   "cell_type": "code",
   "execution_count": null,
   "metadata": {
    "collapsed": true
   },
   "outputs": [],
   "source": []
  },
  {
   "cell_type": "code",
   "execution_count": null,
   "metadata": {
    "collapsed": true
   },
   "outputs": [],
   "source": []
  },
  {
   "cell_type": "code",
   "execution_count": null,
   "metadata": {
    "collapsed": true
   },
   "outputs": [],
   "source": []
  },
  {
   "cell_type": "markdown",
   "metadata": {},
   "source": [
    "## Move on to notebook 2\n",
    "Link to [ExploreData - 2](ExploreData - 2.ipynb)"
   ]
  },
  {
   "cell_type": "code",
   "execution_count": null,
   "metadata": {
    "collapsed": true
   },
   "outputs": [],
   "source": []
  },
  {
   "cell_type": "code",
   "execution_count": null,
   "metadata": {
    "collapsed": true
   },
   "outputs": [],
   "source": []
  },
  {
   "cell_type": "code",
   "execution_count": null,
   "metadata": {
    "collapsed": true
   },
   "outputs": [],
   "source": []
  },
  {
   "cell_type": "code",
   "execution_count": null,
   "metadata": {
    "collapsed": true
   },
   "outputs": [],
   "source": []
  },
  {
   "cell_type": "markdown",
   "metadata": {},
   "source": [
    "## Turns out all HR data is in the parent JSON as well. Going to parse and import everything, and remove entries from DB as appropriate.\n",
    "\n",
    "#### Below is attempts before I realized this."
   ]
  },
  {
   "cell_type": "code",
   "execution_count": null,
   "metadata": {
    "collapsed": true
   },
   "outputs": [],
   "source": [
    "# ## Figure out later\n",
    "# # # Debugging version, time: 29min 24s\n",
    "# endoFiles = glob.glob(\"/Users/patrickmulrooney/Downloads/endomondo/endomondo_parseda*.json\")\n",
    "\n",
    "\n",
    "# endoFiles = ['a','b','c','d','e','f','g','h','i','j']\n",
    "\n",
    "# for _file in log_progress(endoFiles, every=1):\n",
    "    \n",
    "#     with open(\"/Users/patrickmulrooney/Downloads/endomondo/endomondo_parseda%s.json\"%_file, 'r') as f:\n",
    "#         # Just testing the import, runs out of memory\n",
    "#         # TODO: Figure out why or how to deal with.\n",
    "#         endo = ujson.load(f)\n",
    "#         #endo.append(ujson.load(f))\n",
    "\n",
    "        \n",
    "#     print \"Got %s records\"%len(endo)\n",
    "\n",
    "#     problemEndo = []\n",
    "\n",
    "#     # time: 41min 15s\n",
    "#     # Version3 of cell above, inplace instead of new, using del instead of pop.\n",
    "#     # Go through each record and find out which keys it contains whose values are a list.\n",
    "#     # All list values should be part of a time series which we should combine into a single key value.\n",
    "#     # Not sure why it is so slow, should be faster.\n",
    "\n",
    "#     endoListTypes = ['timestamp', 'altitude', 'latitude', 'longitude', 'speed']\n",
    "\n",
    "#     seriesLength = []\n",
    "\n",
    "#     #for _endo in log_progress(endo, every=5):\n",
    "#     # Deal with stopped translation.\n",
    "#     for _i, _endo in enumerate(endo):\n",
    "#         if 'timestamp' not in _endo.keys():\n",
    "#             continue\n",
    "\n",
    "#         if not (set(endoListTypes) < set(_endo.keys())):\n",
    "#             problemEndo.append(deepcopy(_endo))\n",
    "#             endo[_i] = None\n",
    "#             continue\n",
    "\n",
    "\n",
    "#         # For debugging purposes, get a record of length of series for histogram\n",
    "#         _seriesLen = len(_endo['timestamp'])\n",
    "#         seriesLength.append(_seriesLen)\n",
    "\n",
    "#         # Combine the list types for each record into one.\n",
    "#         # Probably should do more sanity checking of length of lists\n",
    "#         # If data not timestamped pretty useless\n",
    "#         _endo['series'] = []\n",
    "#         for j in xrange(_seriesLen):\n",
    "#             # Speed is the only field missing, so deal with it\n",
    "#             try:\n",
    "#                 _timestamp = _endo['timestamp'][j]\n",
    "#             except:\n",
    "#                 _timestamp = None\n",
    "                \n",
    "#             try:\n",
    "#                 _altitude = _endo['altitude'][j]\n",
    "#             except:\n",
    "#                 _altitude = None\n",
    "                \n",
    "#             try:\n",
    "#                 _latitude = _endo['latitude'][j]\n",
    "#             except:\n",
    "#                 _latitude = None\n",
    "                \n",
    "#             try:\n",
    "#                 _longitude = _endo['longitude'][j]\n",
    "#             except:\n",
    "#                 _longitude = None\n",
    "                \n",
    "#             try:\n",
    "#                 _endo['speed_included'] = True\n",
    "#                 _speed =_endo['speed'][j]\n",
    "#             except:\n",
    "#                 _endo['speed_included'] = False\n",
    "#                 _speed = None\n",
    "\n",
    "#         # Remove unused keys\n",
    "#         if u'timestamp' in _endo.keys():\n",
    "#             del _endo['timestamp']\n",
    "#         if u'altitude' in _endo.keys():\n",
    "#             del _endo['altitude']\n",
    "#         if u'latitude' in _endo.keys():\n",
    "#             del _endo['latitude']\n",
    "#         if u'longitude' in _endo.keys():\n",
    "#             del _endo['longitude']\n",
    "#         if u'speed' in _endo.keys():\n",
    "#             del _endo['speed']\n",
    "\n",
    "#     print len(problemEndo)\n",
    "#     print len(endo)\n",
    "\n",
    "#     endo = list(ifilter(lambda x: x is not None, endo))\n",
    "\n",
    "#     # time: 3min 41s\n",
    "\n",
    "#     with open('/Users/patrickmulrooney/Downloads/endomondo/endoParsed%s.json'%_file, 'w') as f:\n",
    "#          ujson.dump(endo, f)\n",
    "\n",
    "#     # Address later\n",
    "#     with open('/Users/patrickmulrooney/Downloads/endomondo/endoParsed%s_problem.json'%_file, 'w') as f:\n",
    "#          ujson.dump(problemEndo, f)"
   ]
  },
  {
   "cell_type": "code",
   "execution_count": null,
   "metadata": {
    "collapsed": true
   },
   "outputs": [],
   "source": []
  },
  {
   "cell_type": "markdown",
   "metadata": {
    "collapsed": true,
    "deletable": true,
    "editable": true
   },
   "source": [
    "## Handle Problems"
   ]
  },
  {
   "cell_type": "code",
   "execution_count": 6,
   "metadata": {
    "collapsed": false
   },
   "outputs": [
    {
     "name": "stdout",
     "output_type": "stream",
     "text": [
      "Got 54080 records\n",
      "Got 110664 records\n",
      "Got 169269 records\n",
      "Got 227500 records\n",
      "Got 279363 records\n",
      "Got 336800 records\n",
      "Got 394341 records\n",
      "Got 452815 records\n",
      "Got 511833 records\n",
      "Got 546762 records\n",
      "time: 10min\n"
     ]
    }
   ],
   "source": [
    "# #\"endoParsede_problem.json\"\n",
    "\n",
    "# ## Figure out later\n",
    "# # # Debugging version, time: 29min 24s\n",
    "# #endoFiles = glob.glob(\"/Users/patrickmulrooney/Downloads/endomondo/endoParsed%s_problem.json\")\n",
    "# endo = []\n",
    "\n",
    "# endoFiles = ['a','b','c','d','e','f','g','h','i','j']\n",
    "\n",
    "# for _file in log_progress(endoFiles, every=1):\n",
    "    \n",
    "#     with open(\"/Users/patrickmulrooney/Downloads/endomondo/endoParsed%s_problem.json\"%_file, 'r') as f:\n",
    "#         # Just testing the import, runs out of memory\n",
    "#         # TODO: Figure out why or how to deal with.\n",
    "#         endo += ujson.load(f)\n",
    "#         #endo.append(ujson.load(f))\n",
    "\n",
    "        \n",
    "#     print \"Got %s records\"%len(endo)"
   ]
  },
  {
   "cell_type": "code",
   "execution_count": null,
   "metadata": {
    "collapsed": true
   },
   "outputs": [],
   "source": [
    "\n",
    "\n",
    "# for _endo in log_progress(endo, every=1):"
   ]
  },
  {
   "cell_type": "code",
   "execution_count": 12,
   "metadata": {
    "collapsed": false
   },
   "outputs": [
    {
     "data": {
      "text/plain": [
       "[u'url',\n",
       " u'gender',\n",
       " u'altitude',\n",
       " u'userId',\n",
       " u'longitude',\n",
       " u'heart_rate',\n",
       " u'timestamp',\n",
       " u'latitude',\n",
       " u'sport',\n",
       " u'id']"
      ]
     },
     "execution_count": 12,
     "metadata": {},
     "output_type": "execute_result"
    },
    {
     "name": "stdout",
     "output_type": "stream",
     "text": [
      "time: 4.19 ms\n"
     ]
    }
   ],
   "source": [
    "# endo[0].keys()"
   ]
  },
  {
   "cell_type": "code",
   "execution_count": 16,
   "metadata": {
    "collapsed": false
   },
   "outputs": [
    {
     "name": "stdout",
     "output_type": "stream",
     "text": [
      "time: 21min 48s\n"
     ]
    }
   ],
   "source": [
    "# endo_keys = []\n",
    "\n",
    "# for _endo in log_progress(endo, every=1):\n",
    "#     _keys = _endo.keys()\n",
    "    \n",
    "#     _keys.remove(\"url\")\n",
    "#     _keys.remove(\"gender\")\n",
    "#     _keys.remove(\"userId\")\n",
    "#     _keys.remove(\"sport\")\n",
    "#     _keys.remove(\"id\")\n",
    "\n",
    "    \n",
    "#     endo_keys.append(_keys)"
   ]
  },
  {
   "cell_type": "code",
   "execution_count": 27,
   "metadata": {
    "collapsed": false
   },
   "outputs": [
    {
     "name": "stdout",
     "output_type": "stream",
     "text": [
      "time: 1min 3s\n"
     ]
    }
   ],
   "source": [
    "# for _i, _endo in enumerate(endo):\n",
    "#     _keys = _endo.keys()\n",
    "    \n",
    "#     _keys.remove(\"url\")\n",
    "#     _keys.remove(\"gender\")\n",
    "#     _keys.remove(\"userId\")\n",
    "#     _keys.remove(\"sport\")\n",
    "#     _keys.remove(\"id\")\n",
    "    \n",
    "#     # We should already have all of these...\n",
    "#     if str.join(\",\", sorted(_keys)) == 'altitude,heart_rate,latitude,longitude,timestamp':\n",
    "#         endo[_i] = None"
   ]
  },
  {
   "cell_type": "code",
   "execution_count": 18,
   "metadata": {
    "collapsed": false
   },
   "outputs": [
    {
     "name": "stdout",
     "output_type": "stream",
     "text": [
      "time: 21min 39s\n"
     ]
    }
   ],
   "source": [
    "# key_count = {}\n",
    "\n",
    "# for _keys in log_progress(endo_keys, every=1):\n",
    "#     _keys = str.join(\",\", sorted(_keys))\n",
    "    \n",
    "#     try:\n",
    "#         key_count[_keys] += 1\n",
    "#     except:\n",
    "#         key_count[_keys] = 1"
   ]
  },
  {
   "cell_type": "code",
   "execution_count": 26,
   "metadata": {
    "collapsed": false
   },
   "outputs": [
    {
     "data": {
      "text/plain": [
       "{u'altitude,heart_rate,latitude,longitude,timestamp': 203360,\n",
       " u'altitude,heart_rate,speed,timestamp': 2797,\n",
       " u'altitude,heart_rate,timestamp': 11060,\n",
       " u'altitude,latitude,longitude,timestamp': 48747,\n",
       " u'altitude,speed,timestamp': 1517,\n",
       " u'altitude,timestamp': 1702,\n",
       " u'heart_rate,latitude,longitude,speed,timestamp': 1158,\n",
       " u'heart_rate,latitude,longitude,timestamp': 81564,\n",
       " u'heart_rate,speed,timestamp': 5313,\n",
       " u'heart_rate,timestamp': 22911,\n",
       " u'latitude,longitude,speed,timestamp': 73147,\n",
       " u'latitude,longitude,timestamp': 64386,\n",
       " u'speed,timestamp': 24942,\n",
       " u'timestamp': 4158}"
      ]
     },
     "execution_count": 26,
     "metadata": {},
     "output_type": "execute_result"
    },
    {
     "name": "stdout",
     "output_type": "stream",
     "text": [
      "time: 7.65 ms\n"
     ]
    }
   ],
   "source": [
    "# key_count"
   ]
  },
  {
   "cell_type": "code",
   "execution_count": null,
   "metadata": {
    "collapsed": true
   },
   "outputs": [],
   "source": []
  }
 ],
 "metadata": {
  "kernelspec": {
   "display_name": "Python 2",
   "language": "python",
   "name": "python2"
  },
  "language_info": {
   "codemirror_mode": {
    "name": "ipython",
    "version": 2
   },
   "file_extension": ".py",
   "mimetype": "text/x-python",
   "name": "python",
   "nbconvert_exporter": "python",
   "pygments_lexer": "ipython2",
   "version": "2.7.13"
  },
  "widgets": {
   "state": {
    "2801d79ff926492c8b8cafcb8fa5c4ce": {
     "views": [
      {
       "cell_index": 19
      }
     ]
    },
    "44e5aa1bf7484997bf9db6e9bd24a9a3": {
     "views": [
      {
       "cell_index": 23
      }
     ]
    },
    "8fb1d2613784400487c734ee2e5a58fa": {
     "views": [
      {
       "cell_index": 22
      }
     ]
    },
    "c66478116383432a84a592aef46ef77d": {
     "views": [
      {
       "cell_index": 6
      }
     ]
    }
   },
   "version": "1.2.0"
  }
 },
 "nbformat": 4,
 "nbformat_minor": 1
}
