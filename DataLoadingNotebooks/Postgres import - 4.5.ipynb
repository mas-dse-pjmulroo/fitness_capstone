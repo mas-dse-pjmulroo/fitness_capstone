{
 "cells": [
  {
   "cell_type": "markdown",
   "metadata": {},
   "source": [
    "# Old notebook, ignore. Now done by notebook 1.5"
   ]
  },
  {
   "cell_type": "code",
   "execution_count": 96,
   "metadata": {
    "collapsed": false,
    "deletable": true,
    "editable": true
   },
   "outputs": [
    {
     "name": "stdout",
     "output_type": "stream",
     "text": [
      "Populating the interactive namespace from numpy and matplotlib\n",
      "time: 11.5 ms\n"
     ]
    },
    {
     "name": "stderr",
     "output_type": "stream",
     "text": [
      "/usr/local/lib/python2.7/site-packages/IPython/core/magics/pylab.py:161: UserWarning: pylab import has clobbered these variables: ['copy', 'f']\n",
      "`%matplotlib` prevents importing * from pylab and numpy\n",
      "  \"\\n`%matplotlib` prevents importing * from pylab and numpy\"\n"
     ]
    }
   ],
   "source": [
    "import psycopg2\n",
    "\n",
    "import ujson\n",
    "import copy\n",
    "import numpy as np\n",
    "import scipy.stats\n",
    "import sys\n",
    "\n",
    "%pylab inline"
   ]
  },
  {
   "cell_type": "code",
   "execution_count": 2,
   "metadata": {
    "collapsed": true,
    "deletable": true,
    "editable": true
   },
   "outputs": [],
   "source": [
    "# Testing auto adding time output to all cells\n",
    "'''\n",
    "#To install...\n",
    "wget https://raw.githubusercontent.com/cpcloud/ipython-autotime/master/autotime.py\n",
    "#Make available via\n",
    "jupyter nbextension install /Users/patrickmulrooney/class/notebooks/pjmulroo/DSECapstone/autotime.py\n",
    "'''\n",
    " \n",
    "%load_ext autotime"
   ]
  },
  {
   "cell_type": "code",
   "execution_count": 3,
   "metadata": {
    "collapsed": false,
    "deletable": true,
    "editable": true
   },
   "outputs": [
    {
     "name": "stdout",
     "output_type": "stream",
     "text": [
      "time: 44.8 ms\n"
     ]
    }
   ],
   "source": [
    "def log_progress(sequence, every=None, size=None):\n",
    "    from ipywidgets import IntProgress, HTML, VBox\n",
    "    from IPython.display import display\n",
    "\n",
    "    is_iterator = False\n",
    "    if size is None:\n",
    "        try:\n",
    "            size = len(sequence)\n",
    "        except TypeError:\n",
    "            is_iterator = True\n",
    "    if size is not None:\n",
    "        if every is None:\n",
    "            if size <= 200:\n",
    "                every = 1\n",
    "            else:\n",
    "                every = int(size / 200)     # every 0.5%\n",
    "    else:\n",
    "        assert every is not None, 'sequence is iterator, set every'\n",
    "\n",
    "    if is_iterator:\n",
    "        progress = IntProgress(min=0, max=1, value=1)\n",
    "        progress.bar_style = 'info'\n",
    "    else:\n",
    "        progress = IntProgress(min=0, max=size, value=0)\n",
    "    label = HTML()\n",
    "    box = VBox(children=[label, progress])\n",
    "    display(box)\n",
    "\n",
    "    index = 0\n",
    "    try:\n",
    "        for index, record in enumerate(sequence, 1):\n",
    "            if index == 1 or index % every == 0:\n",
    "                if is_iterator:\n",
    "                    label.value = '{index} / ?'.format(index=index)\n",
    "                else:\n",
    "                    progress.value = index\n",
    "                    label.value = u'{index} / {size}'.format(\n",
    "                        index=index,\n",
    "                        size=size\n",
    "                    )\n",
    "            yield record\n",
    "    except:\n",
    "        progress.bar_style = 'danger'\n",
    "        raise\n",
    "    else:\n",
    "        progress.bar_style = 'success'\n",
    "        progress.value = index\n",
    "        label.value = str(index or '?')\n"
   ]
  },
  {
   "cell_type": "code",
   "execution_count": 4,
   "metadata": {
    "collapsed": false,
    "deletable": true,
    "editable": true
   },
   "outputs": [
    {
     "name": "stdout",
     "output_type": "stream",
     "text": [
      "/Users/patrickmulrooney/Downloads/endomondoHR/endoHRParsed_no_outliers.json\n",
      "time: 4.36 ms\n"
     ]
    }
   ],
   "source": [
    "# Read config from local file\n",
    "GMAP_API_KEY = None\n",
    "\n",
    "sys.path.append('/Users/patrickmulrooney/Desktop/')\n",
    "import capstone_config\n",
    "\n",
    "_file, _ = capstone_config.getkeys()\n",
    "print _file"
   ]
  },
  {
   "cell_type": "code",
   "execution_count": 5,
   "metadata": {
    "collapsed": false,
    "deletable": true,
    "editable": true
   },
   "outputs": [
    {
     "name": "stdout",
     "output_type": "stream",
     "text": [
      "time: 46min 32s\n"
     ]
    }
   ],
   "source": [
    "#time: 12min 44s\n",
    "# Full dataset\n",
    "#_file = \"/Users/patrickmulrooney/Downloads/endomondoHR/endoHRParsed.json\"\n",
    "# Partial dataset\n",
    "#_file = \"/Users/patrickmulrooney/Downloads/endomondoHR/endoHRParsed_10k.json\"\n",
    "\n",
    "endoHR = []\n",
    "\n",
    "with open(_file, 'r') as f:\n",
    "    endoHR += ujson.load(f)"
   ]
  },
  {
   "cell_type": "code",
   "execution_count": 6,
   "metadata": {
    "collapsed": false,
    "deletable": true,
    "editable": true
   },
   "outputs": [
    {
     "name": "stdout",
     "output_type": "stream",
     "text": [
      "time: 1min 41s\n"
     ]
    }
   ],
   "source": [
    "for i in log_progress(endoHR, every=5):\n",
    "    if i['sport'] == \"bike (transport)\":\n",
    "        i['sport'] = \"bike_transport\"\n",
    "        continue\n",
    "    i['sport'] = i['sport'].replace(\" \", \"_\")\n",
    "    i['sport'] = i['sport'].replace(\"-\", \"_\")"
   ]
  },
  {
   "cell_type": "code",
   "execution_count": 24,
   "metadata": {
    "collapsed": false,
    "deletable": true,
    "editable": true
   },
   "outputs": [
    {
     "name": "stdout",
     "output_type": "stream",
     "text": [
      "time: 36.2 ms\n"
     ]
    }
   ],
   "source": [
    "dbname = 'endomondo'\n",
    "conn = psycopg2.connect(\"dbname=endomondo user=patrickmulrooney\")\n",
    "\n",
    "# Open a cursor to perform database operations\n",
    "cur = conn.cursor()\n",
    "\n",
    "# # Make the changes to the database persistent\n",
    "# conn.commit()\n",
    "\n",
    "# # Close communication with the database\n",
    "# cur.close()\n",
    "# conn.close()"
   ]
  },
  {
   "cell_type": "code",
   "execution_count": null,
   "metadata": {
    "collapsed": false,
    "deletable": true,
    "editable": true,
    "scrolled": true
   },
   "outputs": [],
   "source": [
    "# # https://docs.influxdata.com/influxdb/v1.1/concepts/key_concepts/#database\n",
    "# for _endoHR in log_progress(endoHR, every=1):\n",
    "\n",
    "#     _dict = {}\n",
    "#     _dict[\"table\"] = _endoHR['sport']\n",
    "#     #_dict[\"gender\"] = _endoHR['gender']\n",
    "#     _dict[\"workoutId\"] = _endoHR['id']\n",
    "#     #_dict[\"userId\"] = _endoHR['userId']\n",
    "\n",
    "\n",
    "#     #_tags[\"sport\"] = _endoHR['sport']\n",
    "#     #_dict[\"tags\"][\"url\"] = _endoHR['url']\n",
    "    \n",
    "#     for _series in _endoHR['series']:\n",
    "#         _dict[\"time\"] = _series[0]\n",
    "#         _dict[\"heart_rate\"] = _series[1]\n",
    "#         _dict[\"altitude\"] = _series[2]\n",
    "#         _dict[\"latitude\"] = _series[3]\n",
    "#         _dict[\"longitude\"] = _series[4]\n",
    "#         if _endoHR['speed_included']:\n",
    "#             _dict[\"speed\"] = _series[5]\n",
    "#         else:\n",
    "#             _dict[\"speed\"] = \"NULL\"\n",
    "\n",
    "#         #cur.execute(\"INSERT INTO %s values (%s, %s, %s, %s, %s, %s, %s, %s, %s);\",(_dict['table'], _dict['time'], _dict['altitude'], _dict['gender'], _dict['heart_rate'], _dict['latitude'], _dict['longitude'],_dict['speed'],_dict['userId'], _dict['workoutId']))\n",
    "#         query = \"INSERT INTO {} values ({}, {}, '{}', {}, {}, {}, {});\".format(_dict['table'], _dict['time'], _dict['altitude'], _dict['heart_rate'], _dict['latitude'], _dict['longitude'],_dict['speed'], _dict['workoutId'])\n",
    "        \n",
    "#         cur.execute(query)\n",
    "#     conn.commit()\n",
    "            "
   ]
  },
  {
   "cell_type": "code",
   "execution_count": null,
   "metadata": {
    "collapsed": true,
    "deletable": true,
    "editable": true
   },
   "outputs": [],
   "source": [
    "# # https://docs.influxdata.com/influxdb/v1.1/concepts/key_concepts/#database\n",
    "# for _endoHR in log_progress(endoHR, every=1):\n",
    "\n",
    "#     _dict2 = {}\n",
    "#     _dict2[\"table\"] = _endoHR['sport'] + \"_workout\"\n",
    "#     _dict2[\"gender\"] = _endoHR['gender']\n",
    "#     _dict2[\"workoutId\"] = _endoHR['id']\n",
    "#     _dict2[\"userId\"] = _endoHR['userId']\n",
    "\n",
    "#     _dict2[\"start_time\"] = _endoHR['series'][0][0]\n",
    "#     _dict2[\"duration\"] = _endoHR['series'][-1][0] - _endoHR['series'][0][0]\n",
    "#     _dict2[\"start_altitude\"] = _endoHR['series'][0][2]\n",
    "#     _dict2[\"start_latitude\"] = _endoHR['series'][0][3]\n",
    "#     _dict2[\"start_longitude\"] = _endoHR['series'][0][4]\n",
    "#     _dict2[\"series_points\"] = len(_endoHR['series'])\n",
    "\n",
    "    \n",
    "#     query2 = \"INSERT INTO {} values ('{}', {}, {}, {}, {}, {}, {}, {}, {});\".format(_dict2['table'], _dict2['gender'], _dict2['workoutId'], _dict2['userId'], _dict2['start_time'], _dict2['duration'], _dict2['start_altitude'], _dict2['start_latitude'], _dict2['start_longitude'], _dict2['series_length'])    \n",
    "#     cur.execute(query2)\n",
    "#     conn.commit()\n",
    "            "
   ]
  },
  {
   "cell_type": "code",
   "execution_count": 13,
   "metadata": {
    "collapsed": false,
    "deletable": true,
    "editable": true
   },
   "outputs": [
    {
     "name": "stdout",
     "output_type": "stream",
     "text": [
      "time: 2h 49min 55s\n"
     ]
    }
   ],
   "source": [
    "# https://docs.influxdata.com/influxdb/v1.1/concepts/key_concepts/#database\n",
    "for _endoHR in log_progress(endoHR, every=1):\n",
    "\n",
    "    _dict = {}\n",
    "\n",
    "    _dict2 = {}\n",
    "    _dict2[\"table\"] = _endoHR['sport'] + \"_by_workout\"\n",
    "    _dict2[\"gender\"] = _endoHR['gender']\n",
    "    _dict2[\"workoutId\"] = _endoHR['id']\n",
    "    _dict2[\"userId\"] = _endoHR['userId']\n",
    "\n",
    "    _dict2[\"start_time\"] = _endoHR['series'][0][0]\n",
    "    _dict2[\"duration\"] = _endoHR['series'][-1][0] - _endoHR['series'][0][0]\n",
    "    _dict2[\"start_altitude\"] = _endoHR['series'][0][2]\n",
    "    _dict2[\"start_latitude\"] = _endoHR['series'][0][3]\n",
    "    _dict2[\"start_longitude\"] = _endoHR['series'][0][4]\n",
    "    _dict2[\"series_length\"] = len(_endoHR['series'])\n",
    "\n",
    "    query2 = \"INSERT INTO {} values ('{}', {}, {}, {}, {}, {}, {}, {}, {});\".format(_dict2['table'], _dict2['gender'], _dict2['workoutId'], _dict2['userId'], _dict2['start_time'], _dict2['duration'], _dict2['start_altitude'], _dict2['start_latitude'], _dict2['start_longitude'], _dict2['series_length'])    \n",
    "    cur.execute(query2)\n",
    "\n",
    "    _dict[\"table\"] = _endoHR['sport']\n",
    "    _dict[\"workoutId\"] = _endoHR['id']\n",
    "    \n",
    "    for _series in _endoHR['series']:\n",
    "        _dict[\"time\"] = _series[0]\n",
    "        _dict[\"heart_rate\"] = _series[1]\n",
    "        _dict[\"altitude\"] = _series[2]\n",
    "        _dict[\"latitude\"] = _series[3]\n",
    "        _dict[\"longitude\"] = _series[4]\n",
    "        if _endoHR['speed_included']:\n",
    "            _dict[\"speed\"] = _series[5]\n",
    "        else:\n",
    "            _dict[\"speed\"] = \"NULL\"\n",
    "\n",
    "        #cur.execute(\"INSERT INTO %s values (%s, %s, %s, %s, %s, %s, %s, %s, %s);\",(_dict['table'], _dict['time'], _dict['altitude'], _dict['gender'], _dict['heart_rate'], _dict['latitude'], _dict['longitude'],_dict['speed'],_dict['userId'], _dict['workoutId']))\n",
    "        query = \"INSERT INTO {} values ({}, {}, '{}', {}, {}, {}, {});\".format(_dict['table'], _dict['time'], _dict['altitude'], _dict['heart_rate'], _dict['latitude'], _dict['longitude'],_dict['speed'], _dict['workoutId'])\n",
    "        \n",
    "        cur.execute(query)\n",
    "    conn.commit()\n",
    "    \n",
    "    _endoHR = None"
   ]
  },
  {
   "cell_type": "code",
   "execution_count": 16,
   "metadata": {
    "collapsed": false,
    "deletable": true,
    "editable": true
   },
   "outputs": [
    {
     "name": "stdout",
     "output_type": "stream",
     "text": [
      "time: 1min 35s\n"
     ]
    }
   ],
   "source": [
    "del endoHR"
   ]
  },
  {
   "cell_type": "code",
   "execution_count": 57,
   "metadata": {
    "collapsed": false,
    "deletable": true,
    "editable": true
   },
   "outputs": [
    {
     "name": "stdout",
     "output_type": "stream",
     "text": [
      "time: 1.75 ms\n"
     ]
    }
   ],
   "source": [
    "conn.close()"
   ]
  },
  {
   "cell_type": "code",
   "execution_count": 58,
   "metadata": {
    "collapsed": false,
    "deletable": true,
    "editable": true
   },
   "outputs": [
    {
     "name": "stdout",
     "output_type": "stream",
     "text": [
      "time: 14.1 ms\n"
     ]
    }
   ],
   "source": [
    "dbname = 'endomondo'\n",
    "conn = psycopg2.connect(\"dbname=endomondo user=patrickmulrooney\")\n",
    "\n",
    "# Open a cursor to perform database operations\n",
    "cur = conn.cursor()"
   ]
  },
  {
   "cell_type": "code",
   "execution_count": 39,
   "metadata": {
    "collapsed": false,
    "deletable": true,
    "editable": true
   },
   "outputs": [
    {
     "name": "stdout",
     "output_type": "stream",
     "text": [
      "time: 26.5 ms\n"
     ]
    }
   ],
   "source": [
    "series_tables = [\"aerobics\",\"badminton\",\"basketball\",\"beach_volleyball\",\"bike\",\"bike_transport\",\"circuit_training\",\"climbing\",\"core_stability_training\",\"cross_country_skiing\",\"dancing\",\"downhill_skiing\",\"elliptical\",\"fitness_walking\",\"golf\",\"gymnastics\",\"hiking\",\"horseback_riding\",\"indoor_cycling\",\"kayaking\",\"kite_surfing\",\"martial_arts\",\"mountain_bike\",\"orienteering\",\"pilates\",\"roller_skiing\",\"rowing\",\"rugby\",\"run\",\"sailing\",\"scuba_diving\",\"skate\",\"skateboarding\",\"snowboarding\",\"snowshoeing\",\"soccer\",\"squash\",\"stair_climing\",\"step_counter\",\"swimming\",\"table_tennis\",\"tennis\",\"treadmill_running\",\"treadmill_walking\",\"walk\",\"weight_training\",\"wheelchair\",\"windsurfing\",\"yoga\"]\n",
    "workout_tables = [\"aerobics_by_workout\",\"badminton_by_workout\",\"basketball_by_workout\",\"beach_volleyball_by_workout\",\"bike_by_workout\",\"bike_transport_by_workout\",\"circuit_training_by_workout\",\"climbing_by_workout\",\"core_stability_training_by_workout\",\"cross_country_skiing_by_workout\",\"dancing_by_workout\",\"downhill_skiing_by_workout\",\"elliptical_by_workout\",\"fitness_walking_by_workout\",\"golf_by_workout\",\"gymnastics_by_workout\",\"hiking_by_workout\",\"horseback_riding_by_workout\",\"indoor_cycling_by_workout\",\"kayaking_by_workout\",\"kite_surfing_by_workout\",\"martial_arts_by_workout\",\"mountain_bike_by_workout\",\"orienteering_by_workout\",\"pilates_by_workout\",\"roller_skiing_by_workout\",\"rowing_by_workout\",\"rugby_by_workout\",\"run_by_workout\",\"sailing_by_workout\",\"scuba_diving_by_workout\",\"skate_by_workout\",\"skateboarding_by_workout\",\"snowboarding_by_workout\",\"snowshoeing_by_workout\",\"soccer_by_workout\",\"squash_by_workout\",\"stair_climing_by_workout\",\"step_counter_by_workout\",\"swimming_by_workout\",\"table_tennis_by_workout\",\"tennis_by_workout\",\"treadmill_running_by_workout\",\"treadmill_walking_by_workout\",\"walk_by_workout\",\"weight_training_by_workout\",\"wheelchair_by_workout\",\"windsurfing_by_workout\",\"yoga_by_workout\"]"
   ]
  },
  {
   "cell_type": "code",
   "execution_count": null,
   "metadata": {
    "collapsed": true,
    "deletable": true,
    "editable": true
   },
   "outputs": [],
   "source": []
  },
  {
   "cell_type": "code",
   "execution_count": null,
   "metadata": {
    "collapsed": false,
    "deletable": true,
    "editable": true
   },
   "outputs": [],
   "source": []
  },
  {
   "cell_type": "code",
   "execution_count": null,
   "metadata": {
    "collapsed": false,
    "deletable": true,
    "editable": true
   },
   "outputs": [],
   "source": []
  },
  {
   "cell_type": "code",
   "execution_count": null,
   "metadata": {
    "collapsed": false,
    "deletable": true,
    "editable": true
   },
   "outputs": [],
   "source": []
  },
  {
   "cell_type": "code",
   "execution_count": null,
   "metadata": {
    "collapsed": true,
    "deletable": true,
    "editable": true
   },
   "outputs": [],
   "source": []
  },
  {
   "cell_type": "code",
   "execution_count": null,
   "metadata": {
    "collapsed": false,
    "deletable": true,
    "editable": true,
    "scrolled": true
   },
   "outputs": [],
   "source": [
    "# Create indexes\n",
    "# CREATE UNIQUE INDEX title_idx ON films (title);\n",
    "# Add id column,\n",
    "# ALTER TABLE <TABLE> ADD COLUMN id SERIAL PRIMARY KEY;\n",
    "\n",
    "for _table in workout_tables:\n",
    "    query = \"ALTER TABLE {} ADD COLUMN id SERIAL PRIMARY KEY;\".format(_table)\n",
    "    print query\n",
    "    cur.execute(query)\n",
    "    conn.commit()\n"
   ]
  },
  {
   "cell_type": "code",
   "execution_count": null,
   "metadata": {
    "collapsed": false,
    "deletable": true,
    "editable": true,
    "scrolled": true
   },
   "outputs": [],
   "source": [
    "# Add id column,\n",
    "# ALTER TABLE <TABLE> ADD COLUMN id SERIAL PRIMARY KEY;\n",
    "\n",
    "for _table in series_tables:\n",
    "    query = \"ALTER TABLE {} ADD COLUMN id SERIAL PRIMARY KEY;\".format(_table)\n",
    "    print query\n",
    "    cur.execute(query)\n",
    "    conn.commit()\n"
   ]
  },
  {
   "cell_type": "code",
   "execution_count": null,
   "metadata": {
    "collapsed": false,
    "deletable": true,
    "editable": true
   },
   "outputs": [],
   "source": [
    "# Create indexes\n",
    "# CREATE UNIQUE INDEX title_idx ON films (title);\n",
    "workout_columns = [\"gender\", \"workoutid\", \"userid\", \"start_time\", \"duration\", \"start_altitude\", \"start_latitude\", \"start_longitude\", \"series_length\"]\n",
    "for _table in workout_tables:\n",
    "    for _col in workout_columns:\n",
    "        query = \"CREATE INDEX {}_{}_idx ON {} ({});\".format(_table, _col, _table, _col)\n",
    "        print _table, _col\n",
    "        cur.execute(query)\n",
    "        conn.commit()\n",
    "\n",
    "\n",
    "series_columns = [\"time\", \"altitude\", \"heart_rate\", \"latitude\", \"longitude\", \"speed\", \"workoutid\"]\n",
    "for _table in series_tables:\n",
    "    for _col in series_columns:\n",
    "        query = \"CREATE INDEX {}_{}_idx ON {} ({});\".format(_table, _col, _table, _col)\n",
    "        print _table, _col\n",
    "        cur.execute(query)\n",
    "        conn.commit()\n"
   ]
  },
  {
   "cell_type": "code",
   "execution_count": null,
   "metadata": {
    "collapsed": false,
    "deletable": true,
    "editable": true,
    "scrolled": true
   },
   "outputs": [],
   "source": [
    "# Add id column,\n",
    "# alter table {} add column series_time_delta[];\n",
    "\n",
    "for _table in workout_tables:\n",
    "    query = \"alter table {} add column series_time_delta integer[];\".format(_table)\n",
    "    print query\n",
    "    cur.execute(query)\n",
    "    conn.commit()\n"
   ]
  },
  {
   "cell_type": "code",
   "execution_count": 61,
   "metadata": {
    "collapsed": false,
    "deletable": true,
    "editable": true
   },
   "outputs": [
    {
     "name": "stdout",
     "output_type": "stream",
     "text": [
      "time: 6min 37s\n"
     ]
    }
   ],
   "source": [
    "# update {}_by_workout set series_time_delta = (select array_agg(difference) from \n",
    "# (select 1 as dummy, foo.difference from (select time - lag(time) over \n",
    "# (order by time) as difference from {} where workoutid = {}) as foo \n",
    "# where difference is not null order by difference) as bar group by dummy) where workoutId = {};\n",
    "\n",
    "for _table in series_tables:\n",
    "    query = \"select workoutId from {}_by_workout\".format(_table)\n",
    "    cur.execute(query)\n",
    "    workoutIds = [_i[0] for _i in cur.fetchall()]\n",
    "    for _workout in workoutIds:\n",
    "        query = \"update {}_by_workout set series_time_delta = (select array_agg(difference) from (select 1 as dummy, foo.difference from (select time - lag(time) over (order by time) as difference from {} where workoutid = {}) as foo where difference is not null order by difference) as bar group by dummy) where workoutId = {};\".format(_table, _table, _workout, _workout)\n",
    "        cur.execute(query)\n",
    "        conn.commit()\n"
   ]
  },
  {
   "cell_type": "code",
   "execution_count": null,
   "metadata": {
    "collapsed": false,
    "deletable": true,
    "editable": true,
    "scrolled": true
   },
   "outputs": [],
   "source": [
    "# Add id column,\n",
    "# alter table {} add column series_time_delta[];\n",
    "\n",
    "for _table in workout_tables:\n",
    "    query = \"alter table {} add column series_time_delta_average numeric(20,10);\".format(_table)\n",
    "    print query\n",
    "    cur.execute(query)\n",
    "    conn.commit()\n"
   ]
  },
  {
   "cell_type": "code",
   "execution_count": null,
   "metadata": {
    "collapsed": false,
    "deletable": true,
    "editable": true,
    "scrolled": true
   },
   "outputs": [],
   "source": [
    "#select workoutId, array_avg(series_time_delta) from bike_by_workout;\n",
    "for _table in workout_tables:\n",
    "    print _table\n",
    "    query = \"update {} set series_time_delta_average = array_avg(series_time_delta);\".format(_table)\n",
    "    cur.execute(query)\n",
    "    conn.commit()\n",
    "    "
   ]
  },
  {
   "cell_type": "code",
   "execution_count": null,
   "metadata": {
    "collapsed": true,
    "deletable": true,
    "editable": true
   },
   "outputs": [],
   "source": []
  },
  {
   "cell_type": "code",
   "execution_count": 64,
   "metadata": {
    "collapsed": false,
    "deletable": true,
    "editable": true
   },
   "outputs": [
    {
     "name": "stdout",
     "output_type": "stream",
     "text": [
      "time: 76.7 ms\n"
     ]
    }
   ],
   "source": [
    "import datetime\n",
    "import pytz\n",
    "\n",
    "from timezonefinder import TimezoneFinder"
   ]
  },
  {
   "cell_type": "code",
   "execution_count": 65,
   "metadata": {
    "collapsed": false,
    "deletable": true,
    "editable": true
   },
   "outputs": [
    {
     "data": {
      "text/plain": [
       "False"
      ]
     },
     "execution_count": 65,
     "metadata": {},
     "output_type": "execute_result"
    },
    {
     "name": "stdout",
     "output_type": "stream",
     "text": [
      "time: 7.23 ms\n"
     ]
    }
   ],
   "source": [
    "tf = TimezoneFinder()\n",
    "\n",
    "TimezoneFinder.using_numba() "
   ]
  },
  {
   "cell_type": "code",
   "execution_count": 69,
   "metadata": {
    "collapsed": false,
    "deletable": true,
    "editable": true
   },
   "outputs": [
    {
     "name": "stdout",
     "output_type": "stream",
     "text": [
      "time: 57.3 ms\n"
     ]
    }
   ],
   "source": [
    "# Add id column,\n",
    "# alter table {} add column series_time_delta[];\n",
    "\n",
    "for _table in workout_tables:\n",
    "    query = \"alter table {} add column timezone varchar;\".format(_table)\n",
    "    cur.execute(query)\n",
    "    conn.commit()\n"
   ]
  },
  {
   "cell_type": "code",
   "execution_count": null,
   "metadata": {
    "collapsed": false,
    "deletable": true,
    "editable": true
   },
   "outputs": [],
   "source": [
    "# add timezone\n",
    "for _table in workout_tables:\n",
    "    print _table\n",
    "    query = \"select start_latitude, start_longitude, workoutId from {}\".format(_table)\n",
    "    cur.execute(query)\n",
    "    workoutIds = [[_i[2], tf.timezone_at(lat=_i[0], lng=_i[1])] for _i in cur.fetchall()]\n",
    "\n",
    "    for _workout in workoutIds:\n",
    "        if _workout[1] == None:\n",
    "            continue\n",
    "        query = \"update {} set timezone = '{}' where workoutId = {};\".format(_table, _workout[1], _workout[0])\n",
    "        \n",
    "        cur.execute(query)\n",
    "        conn.commit()\n"
   ]
  },
  {
   "cell_type": "code",
   "execution_count": null,
   "metadata": {
    "collapsed": true,
    "deletable": true,
    "editable": true
   },
   "outputs": [],
   "source": [
    "# update run set altitude = NULL, latitude = NULL, longitude = NULL where altitude = -500.0 and latitude = 0.0 and longitude =\n",
    "0.0;"
   ]
  },
  {
   "cell_type": "code",
   "execution_count": 106,
   "metadata": {
    "collapsed": false,
    "deletable": true,
    "editable": true
   },
   "outputs": [
    {
     "name": "stdout",
     "output_type": "stream",
     "text": [
      "time: 197 ms\n"
     ]
    }
   ],
   "source": [
    "#select workoutId, array_avg(series_time_delta) from bike_by_workout;\n",
    "workout = []\n",
    "for _table in workout_tables:\n",
    "    query = \"select series_length from {};\".format(_table)\n",
    "    cur.execute(query)\n",
    "    workout.append([_table, [_i[0] for _i in cur.fetchall()]])\n",
    "\n",
    "workout = sorted(workout, key=lambda x: len(x[1]), reverse=True)"
   ]
  },
  {
   "cell_type": "code",
   "execution_count": 107,
   "metadata": {
    "collapsed": false,
    "deletable": true,
    "editable": true,
    "scrolled": false
   },
   "outputs": [
    {
     "name": "stdout",
     "output_type": "stream",
     "text": [
      "run_by_workout 117293\n"
     ]
    },
    {
     "data": {
      "image/png": "[encoded data removed]",
      "text/plain": [
       "<matplotlib.figure.Figure at 0x9577c8f90>"
      ]
     },
     "metadata": {},
     "output_type": "display_data"
    },
    {
     "name": "stdout",
     "output_type": "stream",
     "text": [
      "bike_by_workout 97562\n"
     ]
    },
    {
     "data": {
      "image/png": "[encoded data removed]",
      "text/plain": [
       "<matplotlib.figure.Figure at 0x9693d0450>"
      ]
     },
     "metadata": {},
     "output_type": "display_data"
    },
    {
     "name": "stdout",
     "output_type": "stream",
     "text": [
      "mountain_bike_by_workout 13491\n"
     ]
    },
    {
     "data": {
      "image/png": "[encoded data removed]",
      "text/plain": [
       "<matplotlib.figure.Figure at 0x966efe690>"
      ]
     },
     "metadata": {},
     "output_type": "display_data"
    },
    {
     "name": "stdout",
     "output_type": "stream",
     "text": [
      "bike_transport_by_workout 10347\n"
     ]
    },
    {
     "data": {
      "image/png": "[encoded data removed]",
      "text/plain": [
       "<matplotlib.figure.Figure at 0x96cd0c210>"
      ]
     },
     "metadata": {},
     "output_type": "display_data"
    },
    {
     "name": "stdout",
     "output_type": "stream",
     "text": [
      "walk_by_workout 3787\n"
     ]
    },
    {
     "data": {
      "image/png": "[encoded data removed]",
      "text/plain": [
       "<matplotlib.figure.Figure at 0x10e9b0350>"
      ]
     },
     "metadata": {},
     "output_type": "display_data"
    },
    {
     "name": "stdout",
     "output_type": "stream",
     "text": [
      "indoor_cycling_by_workout 2600\n"
     ]
    },
    {
     "data": {
      "image/png": "[encoded data removed]",
      "text/plain": [
       "<matplotlib.figure.Figure at 0x10ebc0e90>"
      ]
     },
     "metadata": {},
     "output_type": "display_data"
    },
    {
     "name": "stdout",
     "output_type": "stream",
     "text": [
      "core_stability_training_by_workout 1250\n"
     ]
    },
    {
     "data": {
      "image/png": "[encoded data removed]",
      "text/plain": [
       "<matplotlib.figure.Figure at 0x10ecdccd0>"
      ]
     },
     "metadata": {},
     "output_type": "display_data"
    },
    {
     "name": "stdout",
     "output_type": "stream",
     "text": [
      "orienteering_by_workout 1197\n"
     ]
    },
    {
     "data": {
      "image/png": "[encoded data removed]",
      "text/plain": [
       "<matplotlib.figure.Figure at 0x10ee0d090>"
      ]
     },
     "metadata": {},
     "output_type": "display_data"
    },
    {
     "name": "stdout",
     "output_type": "stream",
     "text": [
      "cross_country_skiing_by_workout 948\n"
     ]
    },
    {
     "data": {
      "image/png": "[encoded data removed]",
      "text/plain": [
       "<matplotlib.figure.Figure at 0x10ef48750>"
      ]
     },
     "metadata": {},
     "output_type": "display_data"
    },
    {
     "name": "stdout",
     "output_type": "stream",
     "text": [
      "skate_by_workout 501\n"
     ]
    },
    {
     "data": {
      "image/png": "[encoded data removed]",
      "text/plain": [
       "<matplotlib.figure.Figure at 0x10ee2f690>"
      ]
     },
     "metadata": {},
     "output_type": "display_data"
    },
    {
     "name": "stdout",
     "output_type": "stream",
     "text": [
      "roller_skiing_by_workout 408\n"
     ]
    },
    {
     "data": {
      "image/png": "[encoded data removed]",
      "text/plain": [
       "<matplotlib.figure.Figure at 0x10ef66090>"
      ]
     },
     "metadata": {},
     "output_type": "display_data"
    },
    {
     "name": "stdout",
     "output_type": "stream",
     "text": [
      "fitness_walking_by_workout 402\n"
     ]
    },
    {
     "data": {
      "image/png": "[encoded data removed]",
      "text/plain": [
       "<matplotlib.figure.Figure at 0x10f2f8e10>"
      ]
     },
     "metadata": {},
     "output_type": "display_data"
    },
    {
     "name": "stdout",
     "output_type": "stream",
     "text": [
      "hiking_by_workout 356\n"
     ]
    },
    {
     "data": {
      "image/png": "[encoded data removed]",
      "text/plain": [
       "<matplotlib.figure.Figure at 0x10f1de410>"
      ]
     },
     "metadata": {},
     "output_type": "display_data"
    },
    {
     "name": "stdout",
     "output_type": "stream",
     "text": [
      "kayaking_by_workout 255\n"
     ]
    },
    {
     "data": {
      "image/png": "[encoded data removed]",
      "text/plain": [
       "<matplotlib.figure.Figure at 0x10f58ded0>"
      ]
     },
     "metadata": {},
     "output_type": "display_data"
    },
    {
     "name": "stdout",
     "output_type": "stream",
     "text": [
      "weight_training_by_workout 237\n"
     ]
    },
    {
     "data": {
      "image/png": "[encoded data removed]",
      "text/plain": [
       "<matplotlib.figure.Figure at 0x10f1be790>"
      ]
     },
     "metadata": {},
     "output_type": "display_data"
    },
    {
     "name": "stdout",
     "output_type": "stream",
     "text": [
      "circuit_training_by_workout 218\n"
     ]
    },
    {
     "data": {
      "image/png": "[encoded data removed]",
      "text/plain": [
       "<matplotlib.figure.Figure at 0x10f82d210>"
      ]
     },
     "metadata": {},
     "output_type": "display_data"
    },
    {
     "name": "stdout",
     "output_type": "stream",
     "text": [
      "gymnastics_by_workout 162\n"
     ]
    },
    {
     "data": {
      "image/png": "[encoded data removed]",
      "text/plain": [
       "<matplotlib.figure.Figure at 0x10f95c4d0>"
      ]
     },
     "metadata": {},
     "output_type": "display_data"
    },
    {
     "name": "stdout",
     "output_type": "stream",
     "text": [
      "downhill_skiing_by_workout 138\n"
     ]
    },
    {
     "data": {
      "image/png": "[encoded data removed]",
      "text/plain": [
       "<matplotlib.figure.Figure at 0x10faac950>"
      ]
     },
     "metadata": {},
     "output_type": "display_data"
    },
    {
     "name": "stdout",
     "output_type": "stream",
     "text": [
      "rowing_by_workout 127\n"
     ]
    },
    {
     "data": {
      "image/png": "[encoded data removed]",
      "text/plain": [
       "<matplotlib.figure.Figure at 0x10fc28990>"
      ]
     },
     "metadata": {},
     "output_type": "display_data"
    },
    {
     "name": "stdout",
     "output_type": "stream",
     "text": [
      "elliptical_by_workout 83\n"
     ]
    },
    {
     "data": {
      "image/png": "[encoded data removed]",
      "text/plain": [
       "<matplotlib.figure.Figure at 0x10fd564d0>"
      ]
     },
     "metadata": {},
     "output_type": "display_data"
    },
    {
     "name": "stdout",
     "output_type": "stream",
     "text": [
      "soccer_by_workout 71\n"
     ]
    },
    {
     "data": {
      "image/png": "[encoded data removed]",
      "text/plain": [
       "<matplotlib.figure.Figure at 0x10fea6590>"
      ]
     },
     "metadata": {},
     "output_type": "display_data"
    },
    {
     "name": "stdout",
     "output_type": "stream",
     "text": [
      "treadmill_running_by_workout 70\n"
     ]
    },
    {
     "data": {
      "image/png": "[encoded data removed]",
      "text/plain": [
       "<matplotlib.figure.Figure at 0x10ffca8d0>"
      ]
     },
     "metadata": {},
     "output_type": "display_data"
    },
    {
     "name": "stdout",
     "output_type": "stream",
     "text": [
      "aerobics_by_workout 46\n"
     ]
    },
    {
     "data": {
      "image/png": "[encoded data removed]",
      "text/plain": [
       "<matplotlib.figure.Figure at 0x10fe9ef50>"
      ]
     },
     "metadata": {},
     "output_type": "display_data"
    },
    {
     "name": "stdout",
     "output_type": "stream",
     "text": [
      "swimming_by_workout 41\n"
     ]
    },
    {
     "data": {
      "image/png": "[encoded data removed]",
      "text/plain": [
       "<matplotlib.figure.Figure at 0x110252c10>"
      ]
     },
     "metadata": {},
     "output_type": "display_data"
    },
    {
     "name": "stdout",
     "output_type": "stream",
     "text": [
      "snowshoeing_by_workout 32\n"
     ]
    },
    {
     "data": {
      "image/png": "[encoded data removed]",
      "text/plain": [
       "<matplotlib.figure.Figure at 0x1103bfcd0>"
      ]
     },
     "metadata": {},
     "output_type": "display_data"
    },
    {
     "name": "stdout",
     "output_type": "stream",
     "text": [
      "yoga_by_workout 22\n"
     ]
    },
    {
     "data": {
      "image/png": "[encoded data removed]",
      "text/plain": [
       "<matplotlib.figure.Figure at 0x1104ef210>"
      ]
     },
     "metadata": {},
     "output_type": "display_data"
    },
    {
     "name": "stdout",
     "output_type": "stream",
     "text": [
      "badminton_by_workout 17\n"
     ]
    },
    {
     "data": {
      "image/png": "[encoded data removed]",
      "text/plain": [
       "<matplotlib.figure.Figure at 0x11063b2d0>"
      ]
     },
     "metadata": {},
     "output_type": "display_data"
    },
    {
     "name": "stdout",
     "output_type": "stream",
     "text": [
      "horseback_riding_by_workout 16\n"
     ]
    },
    {
     "data": {
      "image/png": "[encoded data removed]",
      "text/plain": [
       "<matplotlib.figure.Figure at 0x110780090>"
      ]
     },
     "metadata": {},
     "output_type": "display_data"
    },
    {
     "name": "stdout",
     "output_type": "stream",
     "text": [
      "basketball_by_workout 14\n"
     ]
    },
    {
     "data": {
      "image/png": "[encoded data removed]",
      "text/plain": [
       "<matplotlib.figure.Figure at 0x1108d7f10>"
      ]
     },
     "metadata": {},
     "output_type": "display_data"
    },
    {
     "name": "stdout",
     "output_type": "stream",
     "text": [
      "stair_climing_by_workout 13\n"
     ]
    },
    {
     "data": {
      "image/png": "[encoded data removed]",
      "text/plain": [
       "<matplotlib.figure.Figure at 0x1109fa850>"
      ]
     },
     "metadata": {},
     "output_type": "display_data"
    },
    {
     "name": "stdout",
     "output_type": "stream",
     "text": [
      "golf_by_workout 12\n"
     ]
    },
    {
     "data": {
      "image/png": "[encoded data removed]",
      "text/plain": [
       "<matplotlib.figure.Figure at 0x110b3eed0>"
      ]
     },
     "metadata": {},
     "output_type": "display_data"
    },
    {
     "name": "stdout",
     "output_type": "stream",
     "text": [
      "tennis_by_workout 8\n"
     ]
    },
    {
     "data": {
      "image/png": "[encoded data removed]",
      "text/plain": [
       "<matplotlib.figure.Figure at 0x110c95f90>"
      ]
     },
     "metadata": {},
     "output_type": "display_data"
    },
    {
     "name": "stdout",
     "output_type": "stream",
     "text": [
      "pilates_by_workout 7\n"
     ]
    },
    {
     "data": {
      "image/png": "[encoded data removed]",
      "text/plain": [
       "<matplotlib.figure.Figure at 0x110dd84d0>"
      ]
     },
     "metadata": {},
     "output_type": "display_data"
    },
    {
     "name": "stdout",
     "output_type": "stream",
     "text": [
      "rugby_by_workout 7\n"
     ]
    },
    {
     "data": {
      "image/png": "[encoded data removed]",
      "text/plain": [
       "<matplotlib.figure.Figure at 0x110f30f10>"
      ]
     },
     "metadata": {},
     "output_type": "display_data"
    },
    {
     "name": "stdout",
     "output_type": "stream",
     "text": [
      "climbing_by_workout 6\n"
     ]
    },
    {
     "data": {
      "image/png": "[encoded data removed]",
      "text/plain": [
       "<matplotlib.figure.Figure at 0x11106c2d0>"
      ]
     },
     "metadata": {},
     "output_type": "display_data"
    },
    {
     "name": "stdout",
     "output_type": "stream",
     "text": [
      "martial_arts_by_workout 5\n"
     ]
    },
    {
     "data": {
      "image/png": "[encoded data removed]",
      "text/plain": [
       "<matplotlib.figure.Figure at 0x1111a7b90>"
      ]
     },
     "metadata": {},
     "output_type": "display_data"
    },
    {
     "name": "stdout",
     "output_type": "stream",
     "text": [
      "snowboarding_by_workout 5\n"
     ]
    },
    {
     "data": {
      "image/png": "[encoded data removed]",
      "text/plain": [
       "<matplotlib.figure.Figure at 0x1113089d0>"
      ]
     },
     "metadata": {},
     "output_type": "display_data"
    },
    {
     "name": "stdout",
     "output_type": "stream",
     "text": [
      "table_tennis_by_workout 5\n"
     ]
    },
    {
     "data": {
      "image/png": "[encoded data removed]",
      "text/plain": [
       "<matplotlib.figure.Figure at 0x1114425d0>"
      ]
     },
     "metadata": {},
     "output_type": "display_data"
    },
    {
     "name": "stdout",
     "output_type": "stream",
     "text": [
      "beach_volleyball_by_workout 2\n"
     ]
    },
    {
     "data": {
      "image/png": "[encoded data removed]",
      "text/plain": [
       "<matplotlib.figure.Figure at 0x111591cd0>"
      ]
     },
     "metadata": {},
     "output_type": "display_data"
    },
    {
     "name": "stdout",
     "output_type": "stream",
     "text": [
      "sailing_by_workout 2\n"
     ]
    },
    {
     "data": {
      "image/png": "[encoded data removed]",
      "text/plain": [
       "<matplotlib.figure.Figure at 0x1116dfd10>"
      ]
     },
     "metadata": {},
     "output_type": "display_data"
    },
    {
     "name": "stdout",
     "output_type": "stream",
     "text": [
      "step_counter_by_workout 2\n"
     ]
    },
    {
     "data": {
      "image/png": "[encoded data removed]",
      "text/plain": [
       "<matplotlib.figure.Figure at 0x11153fb50>"
      ]
     },
     "metadata": {},
     "output_type": "display_data"
    },
    {
     "name": "stdout",
     "output_type": "stream",
     "text": [
      "treadmill_walking_by_workout 2\n"
     ]
    },
    {
     "data": {
      "image/png": "[encoded data removed]",
      "text/plain": [
       "<matplotlib.figure.Figure at 0x111961fd0>"
      ]
     },
     "metadata": {},
     "output_type": "display_data"
    },
    {
     "name": "stdout",
     "output_type": "stream",
     "text": [
      "dancing_by_workout 1\n"
     ]
    },
    {
     "data": {
      "image/png": "[encoded data removed]",
      "text/plain": [
       "<matplotlib.figure.Figure at 0x111a932d0>"
      ]
     },
     "metadata": {},
     "output_type": "display_data"
    },
    {
     "name": "stdout",
     "output_type": "stream",
     "text": [
      "kite_surfing_by_workout 1\n"
     ]
    },
    {
     "data": {
      "image/png": "[encoded data removed]",
      "text/plain": [
       "<matplotlib.figure.Figure at 0x111ae7250>"
      ]
     },
     "metadata": {},
     "output_type": "display_data"
    },
    {
     "name": "stdout",
     "output_type": "stream",
     "text": [
      "scuba_diving_by_workout 1\n"
     ]
    },
    {
     "data": {
      "image/png": "[encoded data removed]",
      "text/plain": [
       "<matplotlib.figure.Figure at 0x111d25350>"
      ]
     },
     "metadata": {},
     "output_type": "display_data"
    },
    {
     "name": "stdout",
     "output_type": "stream",
     "text": [
      "skateboarding_by_workout 1\n"
     ]
    },
    {
     "data": {
      "image/png": "[encoded data removed]",
      "text/plain": [
       "<matplotlib.figure.Figure at 0x111e55550>"
      ]
     },
     "metadata": {},
     "output_type": "display_data"
    },
    {
     "name": "stdout",
     "output_type": "stream",
     "text": [
      "squash_by_workout 1\n"
     ]
    },
    {
     "data": {
      "image/png": "[encoded data removed]",
      "text/plain": [
       "<matplotlib.figure.Figure at 0x111f9bc90>"
      ]
     },
     "metadata": {},
     "output_type": "display_data"
    },
    {
     "name": "stdout",
     "output_type": "stream",
     "text": [
      "wheelchair_by_workout 1\n"
     ]
    },
    {
     "data": {
      "image/png": "[encoded data removed]",
      "text/plain": [
       "<matplotlib.figure.Figure at 0x1120d40d0>"
      ]
     },
     "metadata": {},
     "output_type": "display_data"
    },
    {
     "name": "stdout",
     "output_type": "stream",
     "text": [
      "windsurfing_by_workout 1\n"
     ]
    },
    {
     "data": {
      "image/png": "[encoded data removed]",
      "text/plain": [
       "<matplotlib.figure.Figure at 0x111fa6a90>"
      ]
     },
     "metadata": {},
     "output_type": "display_data"
    },
    {
     "name": "stdout",
     "output_type": "stream",
     "text": [
      "time: 9.32 s\n"
     ]
    }
   ],
   "source": [
    "for _workout in workout:\n",
    "    print _workout[0], len(_workout[1])\n",
    "    plt.hist(_workout[1])\n",
    "    plt.show()"
   ]
  },
  {
   "cell_type": "code",
   "execution_count": null,
   "metadata": {
    "collapsed": true,
    "deletable": true,
    "editable": true
   },
   "outputs": [],
   "source": []
  },
  {
   "cell_type": "code",
   "execution_count": null,
   "metadata": {
    "collapsed": true,
    "deletable": true,
    "editable": true
   },
   "outputs": [],
   "source": []
  }
 ],
 "metadata": {
  "kernelspec": {
   "display_name": "Python 2",
   "language": "python",
   "name": "python2"
  },
  "language_info": {
   "codemirror_mode": {
    "name": "ipython",
    "version": 2
   },
   "file_extension": ".py",
   "mimetype": "text/x-python",
   "name": "python",
   "nbconvert_exporter": "python",
   "pygments_lexer": "ipython2",
   "version": "2.7.13"
  }
 },
 "nbformat": 4,
 "nbformat_minor": 1
}
