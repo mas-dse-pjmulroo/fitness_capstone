{
 "cells": [
  {
   "cell_type": "code",
   "execution_count": 1,
   "metadata": {
    "collapsed": true,
    "deletable": true,
    "editable": true
   },
   "outputs": [],
   "source": [
    "from pyspark.sql import DataFrameReader"
   ]
  },
  {
   "cell_type": "code",
   "execution_count": 2,
   "metadata": {
    "collapsed": false,
    "deletable": true,
    "editable": true
   },
   "outputs": [
    {
     "data": {
      "text/plain": [
       "<pyspark.context.SparkContext at 0x102935d50>"
      ]
     },
     "execution_count": 2,
     "metadata": {},
     "output_type": "execute_result"
    }
   ],
   "source": [
    "sc"
   ]
  },
  {
   "cell_type": "code",
   "execution_count": 5,
   "metadata": {
    "collapsed": true,
    "deletable": true,
    "editable": true
   },
   "outputs": [],
   "source": [
    "url = 'postgresql://localhost:5432/endomondo'\n",
    "\n",
    "properties = {'user':'patrickmulrooney'}"
   ]
  },
  {
   "cell_type": "code",
   "execution_count": 7,
   "metadata": {
    "collapsed": false,
    "deletable": true,
    "editable": true
   },
   "outputs": [],
   "source": [
    "df = DataFrameReader(sqlContext).jdbc(url='jdbc:%s' % url, table='yoga', properties=properties)"
   ]
  },
  {
   "cell_type": "code",
   "execution_count": 8,
   "metadata": {
    "collapsed": false,
    "deletable": true,
    "editable": true
   },
   "outputs": [
    {
     "name": "stdout",
     "output_type": "stream",
     "text": [
      "+----------+-------------+----------+-------------+-------------+-----+---------+---+\n",
      "|      time|     altitude|heart_rate|     latitude|    longitude|speed|workoutid| id|\n",
      "+----------+-------------+----------+-------------+-------------+-----+---------+---+\n",
      "|1389457782|19.4000000000|  85.00000|50.8795603272|-1.3537757657| null|285662713|  1|\n",
      "|1389457783|19.4000000000|  83.00000|50.8795273863|-1.3537436631| null|285662713|  2|\n",
      "|1389457866|19.4000000000|  80.00000|50.8768787049|-1.3490778767| null|285662713|  3|\n",
      "|1389457867|19.4000000000|  80.00000|50.8768783696|-1.3490743563| null|285662713|  4|\n",
      "|1389457877|19.4000000000|  86.00000|50.8768776152|-1.3490838278| null|285662713|  5|\n",
      "|1389457880|19.4000000000|  89.00000|50.8768776152|-1.3490838278| null|285662713|  6|\n",
      "|1389457885|19.4000000000|  86.00000|50.8768776152|-1.3490838278| null|285662713|  7|\n",
      "|1389457893|19.4000000000|  84.00000|50.8768776152|-1.3490838278| null|285662713|  8|\n",
      "|1389457909|19.4000000000|  78.00000|50.8768776152|-1.3490838278| null|285662713|  9|\n",
      "|1389457922|19.4000000000|  74.00000|50.8768776152|-1.3490838278| null|285662713| 10|\n",
      "|1389457931|19.4000000000|  72.00000|50.8768776152|-1.3490838278| null|285662713| 11|\n",
      "|1389457940|19.4000000000|  75.00000|50.8768776152|-1.3490838278| null|285662713| 12|\n",
      "|1389457949|19.4000000000|  75.00000|50.8768776152|-1.3490838278| null|285662713| 13|\n",
      "|1389457964|19.4000000000|  72.00000|50.8768776152|-1.3490838278| null|285662713| 14|\n",
      "|1389457993|19.4000000000|  73.00000|50.8768776152|-1.3490838278| null|285662713| 15|\n",
      "|1389458004|19.4000000000|  70.00000|50.8768776152|-1.3490838278| null|285662713| 16|\n",
      "|1389458018|19.4000000000|  70.00000|50.8768776152|-1.3490838278| null|285662713| 17|\n",
      "|1389458024|19.4000000000|  73.00000|50.8768776152|-1.3490838278| null|285662713| 18|\n",
      "|1389458037|19.4000000000|  78.00000|50.8768776152|-1.3490838278| null|285662713| 19|\n",
      "|1389458038|19.4000000000|  81.00000|50.8768776152|-1.3490838278| null|285662713| 20|\n",
      "+----------+-------------+----------+-------------+-------------+-----+---------+---+\n",
      "only showing top 20 rows\n",
      "\n"
     ]
    }
   ],
   "source": [
    "df.show()"
   ]
  },
  {
   "cell_type": "code",
   "execution_count": 9,
   "metadata": {
    "collapsed": false,
    "deletable": true,
    "editable": true
   },
   "outputs": [
    {
     "data": {
      "text/plain": [
       "pyspark.sql.dataframe.DataFrame"
      ]
     },
     "execution_count": 9,
     "metadata": {},
     "output_type": "execute_result"
    }
   ],
   "source": [
    "type(df)"
   ]
  },
  {
   "cell_type": "code",
   "execution_count": null,
   "metadata": {
    "collapsed": true,
    "deletable": true,
    "editable": true
   },
   "outputs": [],
   "source": []
  }
 ],
 "metadata": {
  "kernelspec": {
   "display_name": "Python 2",
   "language": "python",
   "name": "python2"
  },
  "language_info": {
   "codemirror_mode": {
    "name": "ipython",
    "version": 2
   },
   "file_extension": ".py",
   "mimetype": "text/x-python",
   "name": "python",
   "nbconvert_exporter": "python",
   "pygments_lexer": "ipython2",
   "version": "2.7.13"
  }
 },
 "nbformat": 4,
 "nbformat_minor": 1
}
