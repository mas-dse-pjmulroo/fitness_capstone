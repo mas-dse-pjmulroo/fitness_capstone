{
 "cells": [
  {
   "cell_type": "code",
   "execution_count": 2,
   "metadata": {
    "collapsed": false,
    "deletable": true,
    "editable": true
   },
   "outputs": [
    {
     "name": "stdout",
     "output_type": "stream",
     "text": [
      "Populating the interactive namespace from numpy and matplotlib\n"
     ]
    },
    {
     "name": "stderr",
     "output_type": "stream",
     "text": [
      "/usr/local/lib/python2.7/site-packages/IPython/core/magics/pylab.py:161: UserWarning: pylab import has clobbered these variables: ['copy']\n",
      "`%matplotlib` prevents importing * from pylab and numpy\n",
      "  \"\\n`%matplotlib` prevents importing * from pylab and numpy\"\n"
     ]
    }
   ],
   "source": [
    "import psycopg2\n",
    "\n",
    "import ujson\n",
    "import copy\n",
    "import numpy as np\n",
    "import scipy.stats\n",
    "import sys\n",
    "\n",
    "%pylab inline"
   ]
  },
  {
   "cell_type": "code",
   "execution_count": 3,
   "metadata": {
    "collapsed": true,
    "deletable": true,
    "editable": true
   },
   "outputs": [],
   "source": [
    "# Testing auto adding time output to all cells\n",
    "'''\n",
    "#To install...\n",
    "wget https://raw.githubusercontent.com/cpcloud/ipython-autotime/master/autotime.py\n",
    "#Make available via\n",
    "jupyter nbextension install /Users/patrickmulrooney/class/notebooks/pjmulroo/DSECapstone/autotime.py\n",
    "'''\n",
    " \n",
    "%load_ext autotime"
   ]
  },
  {
   "cell_type": "code",
   "execution_count": 4,
   "metadata": {
    "collapsed": false,
    "deletable": true,
    "editable": true
   },
   "outputs": [
    {
     "name": "stdout",
     "output_type": "stream",
     "text": [
      "time: 44.2 ms\n"
     ]
    }
   ],
   "source": [
    "def log_progress(sequence, every=None, size=None):\n",
    "    from ipywidgets import IntProgress, HTML, VBox\n",
    "    from IPython.display import display\n",
    "\n",
    "    is_iterator = False\n",
    "    if size is None:\n",
    "        try:\n",
    "            size = len(sequence)\n",
    "        except TypeError:\n",
    "            is_iterator = True\n",
    "    if size is not None:\n",
    "        if every is None:\n",
    "            if size <= 200:\n",
    "                every = 1\n",
    "            else:\n",
    "                every = int(size / 200)     # every 0.5%\n",
    "    else:\n",
    "        assert every is not None, 'sequence is iterator, set every'\n",
    "\n",
    "    if is_iterator:\n",
    "        progress = IntProgress(min=0, max=1, value=1)\n",
    "        progress.bar_style = 'info'\n",
    "    else:\n",
    "        progress = IntProgress(min=0, max=size, value=0)\n",
    "    label = HTML()\n",
    "    box = VBox(children=[label, progress])\n",
    "    display(box)\n",
    "\n",
    "    index = 0\n",
    "    try:\n",
    "        for index, record in enumerate(sequence, 1):\n",
    "            if index == 1 or index % every == 0:\n",
    "                if is_iterator:\n",
    "                    label.value = '{index} / ?'.format(index=index)\n",
    "                else:\n",
    "                    progress.value = index\n",
    "                    label.value = u'{index} / {size}'.format(\n",
    "                        index=index,\n",
    "                        size=size\n",
    "                    )\n",
    "            yield record\n",
    "    except:\n",
    "        progress.bar_style = 'danger'\n",
    "        raise\n",
    "    else:\n",
    "        progress.bar_style = 'success'\n",
    "        progress.value = index\n",
    "        label.value = str(index or '?')\n"
   ]
  },
  {
   "cell_type": "code",
   "execution_count": 5,
   "metadata": {
    "collapsed": false,
    "deletable": true,
    "editable": true
   },
   "outputs": [
    {
     "name": "stdout",
     "output_type": "stream",
     "text": [
      "time: 7.1 ms\n"
     ]
    }
   ],
   "source": [
    "dbname = 'endomondo'\n",
    "conn = psycopg2.connect(\"dbname=endomondo user=patrickmulrooney\")\n",
    "\n",
    "# Open a cursor to perform database operations\n",
    "cur = conn.cursor()\n"
   ]
  },
  {
   "cell_type": "code",
   "execution_count": 10,
   "metadata": {
    "collapsed": false,
    "deletable": true,
    "editable": true
   },
   "outputs": [
    {
     "name": "stdout",
     "output_type": "stream",
     "text": [
      "time: 24.6 ms\n"
     ]
    }
   ],
   "source": [
    "cur.execute(\"select relname from pg_class where relkind='r' and relname !~ '^(pg_|sql_)';\")\n",
    "series_tables = []\n",
    "workout_tables = []\n",
    "for _i in cur.fetchall():\n",
    "    if 'user_workout_counts' in _i[0]:\n",
    "        continue\n",
    "    \n",
    "    if 'by_workout' in _i[0]:\n",
    "        workout_tables.append(_i[0])\n",
    "        continue\n",
    "        \n",
    "    series_tables.append(_i[0])"
   ]
  },
  {
   "cell_type": "code",
   "execution_count": 11,
   "metadata": {
    "collapsed": false,
    "deletable": true,
    "editable": true
   },
   "outputs": [
    {
     "data": {
      "text/plain": [
       "['volleyball',\n",
       " 'soccer',\n",
       " 'run',\n",
       " 'beach_volleyball',\n",
       " 'martial_arts',\n",
       " 'bike',\n",
       " 'orienteering',\n",
       " 'kite_surfing',\n",
       " 'roller_skiing',\n",
       " 'mountain_bike',\n",
       " 'rugby',\n",
       " 'pilates',\n",
       " 'rowing',\n",
       " 'sailing',\n",
       " 'scuba_diving',\n",
       " 'skate',\n",
       " 'snowshoeing',\n",
       " 'hiking',\n",
       " 'skateboarding',\n",
       " 'basketball',\n",
       " 'cricket',\n",
       " 'hockey',\n",
       " 'american_football',\n",
       " 'baseball',\n",
       " 'boxing',\n",
       " 'handball',\n",
       " 'surfing',\n",
       " 'cross_country_skiing',\n",
       " 'horseback_riding',\n",
       " 'windsurfing',\n",
       " 'yoga',\n",
       " 'polo',\n",
       " 'swimming',\n",
       " 'step_counter',\n",
       " 'table_tennis',\n",
       " 'tennis',\n",
       " 'treadmill_running',\n",
       " 'kayaking',\n",
       " 'fencing',\n",
       " 'treadmill_walking',\n",
       " 'walk_transport',\n",
       " 'walk',\n",
       " 'weight_training',\n",
       " 'snowboarding',\n",
       " 'aerobics',\n",
       " 'golf',\n",
       " 'gymnastics',\n",
       " 'indoor_cycling',\n",
       " 'wheelchair',\n",
       " 'core_stability_training',\n",
       " 'squash',\n",
       " 'stair_climing',\n",
       " 'dancing',\n",
       " 'bike_transport',\n",
       " 'circuit_training',\n",
       " 'downhill_skiing',\n",
       " 'climbing',\n",
       " 'badminton',\n",
       " 'elliptical',\n",
       " 'fitness_walking',\n",
       " 'weight_lifting']"
      ]
     },
     "execution_count": 11,
     "metadata": {},
     "output_type": "execute_result"
    },
    {
     "name": "stdout",
     "output_type": "stream",
     "text": [
      "time: 5.53 ms\n"
     ]
    }
   ],
   "source": [
    "series_tables"
   ]
  },
  {
   "cell_type": "code",
   "execution_count": 12,
   "metadata": {
    "collapsed": false,
    "deletable": true,
    "editable": true
   },
   "outputs": [
    {
     "data": {
      "text/plain": [
       "['american_football_by_workout',\n",
       " 'core_stability_training_by_workout',\n",
       " 'baseball_by_workout',\n",
       " 'handball_by_workout',\n",
       " 'surfing_by_workout',\n",
       " 'golf_by_workout',\n",
       " 'circuit_training_by_workout',\n",
       " 'horseback_riding_by_workout',\n",
       " 'pilates_by_workout',\n",
       " 'skateboarding_by_workout',\n",
       " 'orienteering_by_workout',\n",
       " 'sailing_by_workout',\n",
       " 'dancing_by_workout',\n",
       " 'mountain_bike_by_workout',\n",
       " 'scuba_diving_by_workout',\n",
       " 'fitness_walking_by_workout',\n",
       " 'snowboarding_by_workout',\n",
       " 'beach_volleyball_by_workout',\n",
       " 'kite_surfing_by_workout',\n",
       " 'kayaking_by_workout',\n",
       " 'basketball_by_workout',\n",
       " 'aerobics_by_workout',\n",
       " 'rowing_by_workout',\n",
       " 'rugby_by_workout',\n",
       " 'swimming_by_workout',\n",
       " 'treadmill_running_by_workout',\n",
       " 'table_tennis_by_workout',\n",
       " 'bike_transport_by_workout',\n",
       " 'tennis_by_workout',\n",
       " 'downhill_skiing_by_workout',\n",
       " 'elliptical_by_workout',\n",
       " 'cricket_by_workout',\n",
       " 'windsurfing_by_workout',\n",
       " 'yoga_by_workout',\n",
       " 'badminton_by_workout',\n",
       " 'roller_skiing_by_workout',\n",
       " 'hiking_by_workout',\n",
       " 'cross_country_skiing_by_workout',\n",
       " 'martial_arts_by_workout',\n",
       " 'fencing_by_workout',\n",
       " 'stair_climing_by_workout',\n",
       " 'volleyball_by_workout',\n",
       " 'squash_by_workout',\n",
       " 'step_counter_by_workout',\n",
       " 'soccer_by_workout',\n",
       " 'weight_training_by_workout',\n",
       " 'indoor_cycling_by_workout',\n",
       " 'snowshoeing_by_workout',\n",
       " 'walk_by_workout',\n",
       " 'run_by_workout',\n",
       " 'treadmill_walking_by_workout',\n",
       " 'wheelchair_by_workout',\n",
       " 'hockey_by_workout',\n",
       " 'skate_by_workout',\n",
       " 'climbing_by_workout',\n",
       " 'bike_by_workout',\n",
       " 'boxing_by_workout',\n",
       " 'gymnastics_by_workout',\n",
       " 'walk_transport_by_workout',\n",
       " 'polo_by_workout',\n",
       " 'weight_lifting_by_workout']"
      ]
     },
     "execution_count": 12,
     "metadata": {},
     "output_type": "execute_result"
    },
    {
     "name": "stdout",
     "output_type": "stream",
     "text": [
      "time: 5.27 ms\n"
     ]
    }
   ],
   "source": [
    "workout_tables"
   ]
  },
  {
   "cell_type": "code",
   "execution_count": 15,
   "metadata": {
    "collapsed": false,
    "deletable": true,
    "editable": true
   },
   "outputs": [
    {
     "name": "stdout",
     "output_type": "stream",
     "text": [
      "ALTER TABLE snowboarding_by_workout DROP COLUMN IF EXISTS id;\n",
      "ALTER TABLE fitness_walking_by_workout DROP COLUMN IF EXISTS id;\n",
      "ALTER TABLE scuba_diving_by_workout DROP COLUMN IF EXISTS id;\n",
      "ALTER TABLE aerobics_by_workout DROP COLUMN IF EXISTS id;\n",
      "ALTER TABLE kayaking_by_workout DROP COLUMN IF EXISTS id;\n",
      "ALTER TABLE basketball_by_workout DROP COLUMN IF EXISTS id;\n",
      "ALTER TABLE kite_surfing_by_workout DROP COLUMN IF EXISTS id;\n",
      "ALTER TABLE beach_volleyball_by_workout DROP COLUMN IF EXISTS id;\n",
      "ALTER TABLE swimming_by_workout DROP COLUMN IF EXISTS id;\n",
      "ALTER TABLE elliptical_by_workout DROP COLUMN IF EXISTS id;\n",
      "ALTER TABLE table_tennis_by_workout DROP COLUMN IF EXISTS id;\n",
      "ALTER TABLE treadmill_running_by_workout DROP COLUMN IF EXISTS id;\n",
      "ALTER TABLE wheelchair_by_workout DROP COLUMN IF EXISTS id;\n",
      "ALTER TABLE tennis_by_workout DROP COLUMN IF EXISTS id;\n",
      "ALTER TABLE windsurfing_by_workout DROP COLUMN IF EXISTS id;\n",
      "ALTER TABLE skate_by_workout DROP COLUMN IF EXISTS id;\n",
      "ALTER TABLE yoga_by_workout DROP COLUMN IF EXISTS id;\n",
      "ALTER TABLE cricket_by_workout DROP COLUMN IF EXISTS id;\n",
      "ALTER TABLE hockey_by_workout DROP COLUMN IF EXISTS id;\n",
      "ALTER TABLE climbing_by_workout DROP COLUMN IF EXISTS id;\n",
      "ALTER TABLE cross_country_skiing_by_workout DROP COLUMN IF EXISTS id;\n",
      "ALTER TABLE downhill_skiing_by_workout DROP COLUMN IF EXISTS id;\n",
      "ALTER TABLE badminton_by_workout DROP COLUMN IF EXISTS id;\n",
      "ALTER TABLE american_football_by_workout DROP COLUMN IF EXISTS id;\n",
      "ALTER TABLE baseball_by_workout DROP COLUMN IF EXISTS id;\n",
      "ALTER TABLE boxing_by_workout DROP COLUMN IF EXISTS id;\n",
      "ALTER TABLE bike_by_workout DROP COLUMN IF EXISTS id;\n",
      "ALTER TABLE bike_transport_by_workout DROP COLUMN IF EXISTS id;\n",
      "ALTER TABLE core_stability_training_by_workout DROP COLUMN IF EXISTS id;\n",
      "ALTER TABLE handball_by_workout DROP COLUMN IF EXISTS id;\n",
      "ALTER TABLE surfing_by_workout DROP COLUMN IF EXISTS id;\n",
      "ALTER TABLE golf_by_workout DROP COLUMN IF EXISTS id;\n",
      "ALTER TABLE horseback_riding_by_workout DROP COLUMN IF EXISTS id;\n",
      "ALTER TABLE circuit_training_by_workout DROP COLUMN IF EXISTS id;\n",
      "ALTER TABLE dancing_by_workout DROP COLUMN IF EXISTS id;\n",
      "ALTER TABLE sailing_by_workout DROP COLUMN IF EXISTS id;\n",
      "ALTER TABLE skateboarding_by_workout DROP COLUMN IF EXISTS id;\n",
      "ALTER TABLE mountain_bike_by_workout DROP COLUMN IF EXISTS id;\n",
      "ALTER TABLE orienteering_by_workout DROP COLUMN IF EXISTS id;\n",
      "ALTER TABLE pilates_by_workout DROP COLUMN IF EXISTS id;\n",
      "ALTER TABLE roller_skiing_by_workout DROP COLUMN IF EXISTS id;\n",
      "ALTER TABLE rowing_by_workout DROP COLUMN IF EXISTS id;\n",
      "ALTER TABLE rugby_by_workout DROP COLUMN IF EXISTS id;\n",
      "ALTER TABLE gymnastics_by_workout DROP COLUMN IF EXISTS id;\n",
      "ALTER TABLE hiking_by_workout DROP COLUMN IF EXISTS id;\n",
      "ALTER TABLE indoor_cycling_by_workout DROP COLUMN IF EXISTS id;\n",
      "ALTER TABLE martial_arts_by_workout DROP COLUMN IF EXISTS id;\n",
      "ALTER TABLE fencing_by_workout DROP COLUMN IF EXISTS id;\n",
      "ALTER TABLE stair_climing_by_workout DROP COLUMN IF EXISTS id;\n",
      "ALTER TABLE polo_by_workout DROP COLUMN IF EXISTS id;\n",
      "ALTER TABLE walk_transport_by_workout DROP COLUMN IF EXISTS id;\n",
      "ALTER TABLE weight_lifting_by_workout DROP COLUMN IF EXISTS id;\n",
      "ALTER TABLE squash_by_workout DROP COLUMN IF EXISTS id;\n",
      "ALTER TABLE step_counter_by_workout DROP COLUMN IF EXISTS id;\n",
      "ALTER TABLE snowshoeing_by_workout DROP COLUMN IF EXISTS id;\n",
      "ALTER TABLE soccer_by_workout DROP COLUMN IF EXISTS id;\n",
      "ALTER TABLE walk_by_workout DROP COLUMN IF EXISTS id;\n",
      "ALTER TABLE volleyball_by_workout DROP COLUMN IF EXISTS id;\n",
      "ALTER TABLE weight_training_by_workout DROP COLUMN IF EXISTS id;\n",
      "ALTER TABLE treadmill_walking_by_workout DROP COLUMN IF EXISTS id;\n",
      "ALTER TABLE run_by_workout DROP COLUMN IF EXISTS id;\n",
      "ALTER TABLE volleyball DROP COLUMN IF EXISTS id;\n",
      "ALTER TABLE soccer DROP COLUMN IF EXISTS id;\n",
      "ALTER TABLE run DROP COLUMN IF EXISTS id;\n",
      "ALTER TABLE beach_volleyball DROP COLUMN IF EXISTS id;\n",
      "ALTER TABLE bike DROP COLUMN IF EXISTS id;\n",
      "ALTER TABLE kite_surfing DROP COLUMN IF EXISTS id;\n",
      "ALTER TABLE martial_arts DROP COLUMN IF EXISTS id;\n",
      "ALTER TABLE mountain_bike DROP COLUMN IF EXISTS id;\n",
      "ALTER TABLE orienteering DROP COLUMN IF EXISTS id;\n",
      "ALTER TABLE pilates DROP COLUMN IF EXISTS id;\n",
      "ALTER TABLE roller_skiing DROP COLUMN IF EXISTS id;\n",
      "ALTER TABLE rowing DROP COLUMN IF EXISTS id;\n",
      "ALTER TABLE rugby DROP COLUMN IF EXISTS id;\n",
      "ALTER TABLE sailing DROP COLUMN IF EXISTS id;\n",
      "ALTER TABLE scuba_diving DROP COLUMN IF EXISTS id;\n",
      "ALTER TABLE skate DROP COLUMN IF EXISTS id;\n",
      "ALTER TABLE snowshoeing DROP COLUMN IF EXISTS id;\n",
      "ALTER TABLE hiking DROP COLUMN IF EXISTS id;\n",
      "ALTER TABLE skateboarding DROP COLUMN IF EXISTS id;\n",
      "ALTER TABLE basketball DROP COLUMN IF EXISTS id;\n",
      "ALTER TABLE cricket DROP COLUMN IF EXISTS id;\n",
      "ALTER TABLE hockey DROP COLUMN IF EXISTS id;\n",
      "ALTER TABLE american_football DROP COLUMN IF EXISTS id;\n",
      "ALTER TABLE baseball DROP COLUMN IF EXISTS id;\n",
      "ALTER TABLE boxing DROP COLUMN IF EXISTS id;\n",
      "ALTER TABLE handball DROP COLUMN IF EXISTS id;\n",
      "ALTER TABLE surfing DROP COLUMN IF EXISTS id;\n",
      "ALTER TABLE cross_country_skiing DROP COLUMN IF EXISTS id;\n",
      "ALTER TABLE horseback_riding DROP COLUMN IF EXISTS id;\n",
      "ALTER TABLE windsurfing DROP COLUMN IF EXISTS id;\n",
      "ALTER TABLE yoga DROP COLUMN IF EXISTS id;\n",
      "ALTER TABLE polo DROP COLUMN IF EXISTS id;\n",
      "ALTER TABLE swimming DROP COLUMN IF EXISTS id;\n",
      "ALTER TABLE step_counter DROP COLUMN IF EXISTS id;\n",
      "ALTER TABLE table_tennis DROP COLUMN IF EXISTS id;\n",
      "ALTER TABLE tennis DROP COLUMN IF EXISTS id;\n",
      "ALTER TABLE treadmill_running DROP COLUMN IF EXISTS id;\n",
      "ALTER TABLE kayaking DROP COLUMN IF EXISTS id;\n",
      "ALTER TABLE fencing DROP COLUMN IF EXISTS id;\n",
      "ALTER TABLE treadmill_walking DROP COLUMN IF EXISTS id;\n",
      "ALTER TABLE walk_transport DROP COLUMN IF EXISTS id;\n",
      "ALTER TABLE walk DROP COLUMN IF EXISTS id;\n",
      "ALTER TABLE weight_training DROP COLUMN IF EXISTS id;\n",
      "ALTER TABLE snowboarding DROP COLUMN IF EXISTS id;\n",
      "ALTER TABLE aerobics DROP COLUMN IF EXISTS id;\n",
      "ALTER TABLE golf DROP COLUMN IF EXISTS id;\n",
      "ALTER TABLE gymnastics DROP COLUMN IF EXISTS id;\n",
      "ALTER TABLE indoor_cycling DROP COLUMN IF EXISTS id;\n",
      "ALTER TABLE wheelchair DROP COLUMN IF EXISTS id;\n",
      "ALTER TABLE squash DROP COLUMN IF EXISTS id;\n",
      "ALTER TABLE stair_climing DROP COLUMN IF EXISTS id;\n",
      "ALTER TABLE bike_transport DROP COLUMN IF EXISTS id;\n",
      "ALTER TABLE circuit_training DROP COLUMN IF EXISTS id;\n",
      "ALTER TABLE climbing DROP COLUMN IF EXISTS id;\n",
      "ALTER TABLE badminton DROP COLUMN IF EXISTS id;\n",
      "ALTER TABLE core_stability_training DROP COLUMN IF EXISTS id;\n",
      "ALTER TABLE dancing DROP COLUMN IF EXISTS id;\n",
      "ALTER TABLE downhill_skiing DROP COLUMN IF EXISTS id;\n",
      "ALTER TABLE elliptical DROP COLUMN IF EXISTS id;\n",
      "ALTER TABLE fitness_walking DROP COLUMN IF EXISTS id;\n",
      "ALTER TABLE weight_lifting DROP COLUMN IF EXISTS id;\n",
      "time: 515 ms\n"
     ]
    }
   ],
   "source": [
    "# Remove primary key if exists, and recreate\n",
    "\n",
    "for _table in workout_tables + series_tables:\n",
    "    query = \"ALTER TABLE {} DROP COLUMN IF EXISTS id;\".format(_table)\n",
    "    print query\n",
    "    cur.execute(query)\n",
    "    conn.commit()\n"
   ]
  },
  {
   "cell_type": "code",
   "execution_count": 16,
   "metadata": {
    "collapsed": false,
    "deletable": true,
    "editable": true,
    "scrolled": false
   },
   "outputs": [
    {
     "name": "stdout",
     "output_type": "stream",
     "text": [
      "ALTER TABLE snowboarding_by_workout ADD COLUMN id SERIAL PRIMARY KEY;\n",
      "ALTER TABLE fitness_walking_by_workout ADD COLUMN id SERIAL PRIMARY KEY;\n",
      "ALTER TABLE scuba_diving_by_workout ADD COLUMN id SERIAL PRIMARY KEY;\n",
      "ALTER TABLE aerobics_by_workout ADD COLUMN id SERIAL PRIMARY KEY;\n",
      "ALTER TABLE kayaking_by_workout ADD COLUMN id SERIAL PRIMARY KEY;\n",
      "ALTER TABLE basketball_by_workout ADD COLUMN id SERIAL PRIMARY KEY;\n",
      "ALTER TABLE kite_surfing_by_workout ADD COLUMN id SERIAL PRIMARY KEY;\n",
      "ALTER TABLE beach_volleyball_by_workout ADD COLUMN id SERIAL PRIMARY KEY;\n",
      "ALTER TABLE swimming_by_workout ADD COLUMN id SERIAL PRIMARY KEY;\n",
      "ALTER TABLE elliptical_by_workout ADD COLUMN id SERIAL PRIMARY KEY;\n",
      "ALTER TABLE table_tennis_by_workout ADD COLUMN id SERIAL PRIMARY KEY;\n",
      "ALTER TABLE treadmill_running_by_workout ADD COLUMN id SERIAL PRIMARY KEY;\n",
      "ALTER TABLE wheelchair_by_workout ADD COLUMN id SERIAL PRIMARY KEY;\n",
      "ALTER TABLE tennis_by_workout ADD COLUMN id SERIAL PRIMARY KEY;\n",
      "ALTER TABLE windsurfing_by_workout ADD COLUMN id SERIAL PRIMARY KEY;\n",
      "ALTER TABLE skate_by_workout ADD COLUMN id SERIAL PRIMARY KEY;\n",
      "ALTER TABLE yoga_by_workout ADD COLUMN id SERIAL PRIMARY KEY;\n",
      "ALTER TABLE cricket_by_workout ADD COLUMN id SERIAL PRIMARY KEY;\n",
      "ALTER TABLE hockey_by_workout ADD COLUMN id SERIAL PRIMARY KEY;\n",
      "ALTER TABLE climbing_by_workout ADD COLUMN id SERIAL PRIMARY KEY;\n",
      "ALTER TABLE cross_country_skiing_by_workout ADD COLUMN id SERIAL PRIMARY KEY;\n",
      "ALTER TABLE downhill_skiing_by_workout ADD COLUMN id SERIAL PRIMARY KEY;\n",
      "ALTER TABLE badminton_by_workout ADD COLUMN id SERIAL PRIMARY KEY;\n",
      "ALTER TABLE american_football_by_workout ADD COLUMN id SERIAL PRIMARY KEY;\n",
      "ALTER TABLE baseball_by_workout ADD COLUMN id SERIAL PRIMARY KEY;\n",
      "ALTER TABLE boxing_by_workout ADD COLUMN id SERIAL PRIMARY KEY;\n",
      "ALTER TABLE bike_by_workout ADD COLUMN id SERIAL PRIMARY KEY;\n",
      "ALTER TABLE bike_transport_by_workout ADD COLUMN id SERIAL PRIMARY KEY;\n",
      "ALTER TABLE core_stability_training_by_workout ADD COLUMN id SERIAL PRIMARY KEY;\n",
      "ALTER TABLE handball_by_workout ADD COLUMN id SERIAL PRIMARY KEY;\n",
      "ALTER TABLE surfing_by_workout ADD COLUMN id SERIAL PRIMARY KEY;\n",
      "ALTER TABLE golf_by_workout ADD COLUMN id SERIAL PRIMARY KEY;\n",
      "ALTER TABLE horseback_riding_by_workout ADD COLUMN id SERIAL PRIMARY KEY;\n",
      "ALTER TABLE circuit_training_by_workout ADD COLUMN id SERIAL PRIMARY KEY;\n",
      "ALTER TABLE dancing_by_workout ADD COLUMN id SERIAL PRIMARY KEY;\n",
      "ALTER TABLE sailing_by_workout ADD COLUMN id SERIAL PRIMARY KEY;\n",
      "ALTER TABLE skateboarding_by_workout ADD COLUMN id SERIAL PRIMARY KEY;\n",
      "ALTER TABLE mountain_bike_by_workout ADD COLUMN id SERIAL PRIMARY KEY;\n",
      "ALTER TABLE orienteering_by_workout ADD COLUMN id SERIAL PRIMARY KEY;\n",
      "ALTER TABLE pilates_by_workout ADD COLUMN id SERIAL PRIMARY KEY;\n",
      "ALTER TABLE roller_skiing_by_workout ADD COLUMN id SERIAL PRIMARY KEY;\n",
      "ALTER TABLE rowing_by_workout ADD COLUMN id SERIAL PRIMARY KEY;\n",
      "ALTER TABLE rugby_by_workout ADD COLUMN id SERIAL PRIMARY KEY;\n",
      "ALTER TABLE gymnastics_by_workout ADD COLUMN id SERIAL PRIMARY KEY;\n",
      "ALTER TABLE hiking_by_workout ADD COLUMN id SERIAL PRIMARY KEY;\n",
      "ALTER TABLE indoor_cycling_by_workout ADD COLUMN id SERIAL PRIMARY KEY;\n",
      "ALTER TABLE martial_arts_by_workout ADD COLUMN id SERIAL PRIMARY KEY;\n",
      "ALTER TABLE fencing_by_workout ADD COLUMN id SERIAL PRIMARY KEY;\n",
      "ALTER TABLE stair_climing_by_workout ADD COLUMN id SERIAL PRIMARY KEY;\n",
      "ALTER TABLE polo_by_workout ADD COLUMN id SERIAL PRIMARY KEY;\n",
      "ALTER TABLE walk_transport_by_workout ADD COLUMN id SERIAL PRIMARY KEY;\n",
      "ALTER TABLE weight_lifting_by_workout ADD COLUMN id SERIAL PRIMARY KEY;\n",
      "ALTER TABLE squash_by_workout ADD COLUMN id SERIAL PRIMARY KEY;\n",
      "ALTER TABLE step_counter_by_workout ADD COLUMN id SERIAL PRIMARY KEY;\n",
      "ALTER TABLE snowshoeing_by_workout ADD COLUMN id SERIAL PRIMARY KEY;\n",
      "ALTER TABLE soccer_by_workout ADD COLUMN id SERIAL PRIMARY KEY;\n",
      "ALTER TABLE walk_by_workout ADD COLUMN id SERIAL PRIMARY KEY;\n",
      "ALTER TABLE volleyball_by_workout ADD COLUMN id SERIAL PRIMARY KEY;\n",
      "ALTER TABLE weight_training_by_workout ADD COLUMN id SERIAL PRIMARY KEY;\n",
      "ALTER TABLE treadmill_walking_by_workout ADD COLUMN id SERIAL PRIMARY KEY;\n",
      "ALTER TABLE run_by_workout ADD COLUMN id SERIAL PRIMARY KEY;\n",
      "ALTER TABLE volleyball ADD COLUMN id SERIAL PRIMARY KEY;\n",
      "ALTER TABLE soccer ADD COLUMN id SERIAL PRIMARY KEY;\n",
      "ALTER TABLE run ADD COLUMN id SERIAL PRIMARY KEY;\n",
      "ALTER TABLE beach_volleyball ADD COLUMN id SERIAL PRIMARY KEY;\n",
      "ALTER TABLE bike ADD COLUMN id SERIAL PRIMARY KEY;\n",
      "ALTER TABLE kite_surfing ADD COLUMN id SERIAL PRIMARY KEY;\n",
      "ALTER TABLE martial_arts ADD COLUMN id SERIAL PRIMARY KEY;\n",
      "ALTER TABLE mountain_bike ADD COLUMN id SERIAL PRIMARY KEY;\n",
      "ALTER TABLE orienteering ADD COLUMN id SERIAL PRIMARY KEY;\n",
      "ALTER TABLE pilates ADD COLUMN id SERIAL PRIMARY KEY;\n",
      "ALTER TABLE roller_skiing ADD COLUMN id SERIAL PRIMARY KEY;\n",
      "ALTER TABLE rowing ADD COLUMN id SERIAL PRIMARY KEY;\n",
      "ALTER TABLE rugby ADD COLUMN id SERIAL PRIMARY KEY;\n",
      "ALTER TABLE sailing ADD COLUMN id SERIAL PRIMARY KEY;\n",
      "ALTER TABLE scuba_diving ADD COLUMN id SERIAL PRIMARY KEY;\n",
      "ALTER TABLE skate ADD COLUMN id SERIAL PRIMARY KEY;\n",
      "ALTER TABLE snowshoeing ADD COLUMN id SERIAL PRIMARY KEY;\n",
      "ALTER TABLE hiking ADD COLUMN id SERIAL PRIMARY KEY;\n",
      "ALTER TABLE skateboarding ADD COLUMN id SERIAL PRIMARY KEY;\n",
      "ALTER TABLE basketball ADD COLUMN id SERIAL PRIMARY KEY;\n",
      "ALTER TABLE cricket ADD COLUMN id SERIAL PRIMARY KEY;\n",
      "ALTER TABLE hockey ADD COLUMN id SERIAL PRIMARY KEY;\n",
      "ALTER TABLE american_football ADD COLUMN id SERIAL PRIMARY KEY;\n",
      "ALTER TABLE baseball ADD COLUMN id SERIAL PRIMARY KEY;\n",
      "ALTER TABLE boxing ADD COLUMN id SERIAL PRIMARY KEY;\n",
      "ALTER TABLE handball ADD COLUMN id SERIAL PRIMARY KEY;\n",
      "ALTER TABLE surfing ADD COLUMN id SERIAL PRIMARY KEY;\n",
      "ALTER TABLE cross_country_skiing ADD COLUMN id SERIAL PRIMARY KEY;\n",
      "ALTER TABLE horseback_riding ADD COLUMN id SERIAL PRIMARY KEY;\n",
      "ALTER TABLE windsurfing ADD COLUMN id SERIAL PRIMARY KEY;\n",
      "ALTER TABLE yoga ADD COLUMN id SERIAL PRIMARY KEY;\n",
      "ALTER TABLE polo ADD COLUMN id SERIAL PRIMARY KEY;\n",
      "ALTER TABLE swimming ADD COLUMN id SERIAL PRIMARY KEY;\n",
      "ALTER TABLE step_counter ADD COLUMN id SERIAL PRIMARY KEY;\n",
      "ALTER TABLE table_tennis ADD COLUMN id SERIAL PRIMARY KEY;\n",
      "ALTER TABLE tennis ADD COLUMN id SERIAL PRIMARY KEY;\n",
      "ALTER TABLE treadmill_running ADD COLUMN id SERIAL PRIMARY KEY;\n",
      "ALTER TABLE kayaking ADD COLUMN id SERIAL PRIMARY KEY;\n",
      "ALTER TABLE fencing ADD COLUMN id SERIAL PRIMARY KEY;\n",
      "ALTER TABLE treadmill_walking ADD COLUMN id SERIAL PRIMARY KEY;\n",
      "ALTER TABLE walk_transport ADD COLUMN id SERIAL PRIMARY KEY;\n",
      "ALTER TABLE walk ADD COLUMN id SERIAL PRIMARY KEY;\n",
      "ALTER TABLE weight_training ADD COLUMN id SERIAL PRIMARY KEY;\n",
      "ALTER TABLE snowboarding ADD COLUMN id SERIAL PRIMARY KEY;\n",
      "ALTER TABLE aerobics ADD COLUMN id SERIAL PRIMARY KEY;\n",
      "ALTER TABLE golf ADD COLUMN id SERIAL PRIMARY KEY;\n",
      "ALTER TABLE gymnastics ADD COLUMN id SERIAL PRIMARY KEY;\n",
      "ALTER TABLE indoor_cycling ADD COLUMN id SERIAL PRIMARY KEY;\n",
      "ALTER TABLE wheelchair ADD COLUMN id SERIAL PRIMARY KEY;\n",
      "ALTER TABLE squash ADD COLUMN id SERIAL PRIMARY KEY;\n",
      "ALTER TABLE stair_climing ADD COLUMN id SERIAL PRIMARY KEY;\n",
      "ALTER TABLE bike_transport ADD COLUMN id SERIAL PRIMARY KEY;\n",
      "ALTER TABLE circuit_training ADD COLUMN id SERIAL PRIMARY KEY;\n",
      "ALTER TABLE climbing ADD COLUMN id SERIAL PRIMARY KEY;\n",
      "ALTER TABLE badminton ADD COLUMN id SERIAL PRIMARY KEY;\n",
      "ALTER TABLE core_stability_training ADD COLUMN id SERIAL PRIMARY KEY;\n",
      "ALTER TABLE dancing ADD COLUMN id SERIAL PRIMARY KEY;\n",
      "ALTER TABLE downhill_skiing ADD COLUMN id SERIAL PRIMARY KEY;\n",
      "ALTER TABLE elliptical ADD COLUMN id SERIAL PRIMARY KEY;\n",
      "ALTER TABLE fitness_walking ADD COLUMN id SERIAL PRIMARY KEY;\n",
      "ALTER TABLE weight_lifting ADD COLUMN id SERIAL PRIMARY KEY;\n",
      "time: 19min 24s\n"
     ]
    }
   ],
   "source": [
    "# Create indexes\n",
    "# CREATE UNIQUE INDEX title_idx ON films (title);\n",
    "# Add id column,\n",
    "# ALTER TABLE <TABLE> ADD COLUMN id SERIAL PRIMARY KEY;\n",
    "\n",
    "for _table in workout_tables + series_tables:\n",
    "    query = \"ALTER TABLE {} ADD COLUMN id SERIAL PRIMARY KEY;\".format(_table)\n",
    "    print query\n",
    "    cur.execute(query)\n",
    "    conn.commit()\n"
   ]
  },
  {
   "cell_type": "code",
   "execution_count": null,
   "metadata": {
    "collapsed": false,
    "deletable": true,
    "editable": true
   },
   "outputs": [],
   "source": [
    "# Create indexes\n",
    "# CREATE UNIQUE INDEX title_idx ON films (title);\n",
    "workout_columns = [\"gender\", \"workoutid\", \"userid\", \"start_time\", \"duration\", \"start_altitude\", \"start_latitude\", \"start_longitude\", \"series_length\"]\n",
    "for _table in workout_tables:\n",
    "    for _col in workout_columns:\n",
    "        query = \"CREATE INDEX {}_{}_idx ON {} ({});\".format(_table, _col, _table, _col)\n",
    "        print _table, _col\n",
    "        cur.execute(query)\n",
    "        conn.commit()\n",
    "\n",
    "\n",
    "series_columns = [\"time\", \"altitude\", \"heart_rate\", \"latitude\", \"longitude\", \"speed\", \"workoutid\"]\n",
    "for _table in series_tables:\n",
    "    for _col in series_columns:\n",
    "        query = \"CREATE INDEX {}_{}_idx ON {} ({});\".format(_table, _col, _table, _col)\n",
    "        print _table, _col\n",
    "        cur.execute(query)\n",
    "        conn.commit()\n"
   ]
  },
  {
   "cell_type": "code",
   "execution_count": null,
   "metadata": {
    "collapsed": false,
    "deletable": true,
    "editable": true,
    "scrolled": true
   },
   "outputs": [],
   "source": [
    "# # Add id column,\n",
    "# # alter table {} add column series_time_delta[];\n",
    "\n",
    "# for _table in workout_tables:\n",
    "#     query = \"alter table {} add column series_time_delta integer[];\".format(_table)\n",
    "#     print query\n",
    "#     cur.execute(query)\n",
    "#     conn.commit()\n"
   ]
  },
  {
   "cell_type": "code",
   "execution_count": 13,
   "metadata": {
    "collapsed": false,
    "deletable": true,
    "editable": true
   },
   "outputs": [
    {
     "name": "stdout",
     "output_type": "stream",
     "text": [
      "aerobics\n",
      "american_football\n",
      "badminton\n",
      "baseball\n",
      "basketball\n",
      "beach_volleyball\n",
      "bike\n",
      "bike_transport\n",
      "boxing\n",
      "circuit_training\n",
      "climbing\n",
      "core_stability_training\n",
      "cricket\n",
      "cross_country_skiing\n",
      "dancing\n",
      "downhill_skiing\n",
      "elliptical\n",
      "fencing\n",
      "fitness_walking\n",
      "golf\n",
      "gymnastics\n",
      "handball\n",
      "hiking\n",
      "hockey\n",
      "horseback_riding\n",
      "indoor_cycling\n",
      "kayaking\n",
      "kite_surfing\n",
      "martial_arts\n",
      "mountain_bike\n",
      "orienteering\n",
      "pilates\n",
      "polo\n",
      "roller_skiing\n",
      "rowing\n",
      "rugby\n",
      "run\n",
      "sailing\n",
      "scuba_diving\n",
      "skate\n",
      "skateboarding\n",
      "snowboarding\n",
      "snowshoeing\n",
      "soccer\n",
      "squash\n",
      "stair_climing\n",
      "step_counter\n",
      "surfing\n",
      "swimming\n",
      "table_tennis\n",
      "tennis\n",
      "treadmill_running\n",
      "treadmill_walking\n",
      "user_workout_counts\n",
      "volleyball\n",
      "walk\n",
      "walk_transport\n",
      "weight_lifting\n",
      "weight_training\n",
      "wheelchair\n",
      "windsurfing\n",
      "yoga\n",
      "time: 57min 50s\n"
     ]
    }
   ],
   "source": [
    "# update {}_by_workout set series_time_delta = (select array_agg(difference) from \n",
    "# (select 1 as dummy, foo.difference from (select time - lag(time) over \n",
    "# (order by time) as difference from {} where workoutid = {}) as foo \n",
    "# where difference is not null order by difference) as bar group by dummy) where workoutId = {};\n",
    "\n",
    "skip = True\n",
    "\n",
    "for _table in sorted(series_tables):\n",
    "    print _table\n",
    "    \n",
    "    if _table == \"user_workout_counts\":\n",
    "        skip = False\n",
    "        continue\n",
    "        \n",
    "    if skip:\n",
    "        continue\n",
    "    \n",
    "    query = \"select workoutId from {}_by_workout\".format(_table)\n",
    "    cur.execute(query)\n",
    "    workoutIds = [_i[0] for _i in cur.fetchall()]\n",
    "    for _workout in workoutIds:\n",
    "        #query = \"update {}_by_workout set series_time_delta = (select array_agg(difference) from (select 1 as dummy, foo.difference from (select time - lag(time) over (order by time) as difference from {} where workoutid = {} order by time) as foo where difference is not null order by difference) as bar group by dummy) where workoutId = {};\".format(_table, _table, _workout, _workout)\n",
    "        query = \"update {}_by_workout set series_time_delta = (select array_agg(difference) from (select 1 as dummy, foo.difference from (select time - lag(time) over (order by time) as difference from {} where workoutid = {} order by time) as foo where difference is not null) as bar group by dummy) where workoutId = {};\".format(_table, _table, _workout, _workout)\n",
    "\n",
    "        cur.execute(query)\n",
    "        conn.commit()\n"
   ]
  },
  {
   "cell_type": "code",
   "execution_count": 18,
   "metadata": {
    "collapsed": false,
    "deletable": true,
    "editable": true,
    "scrolled": true
   },
   "outputs": [
    {
     "name": "stdout",
     "output_type": "stream",
     "text": [
      "time: 1.72 ms\n"
     ]
    }
   ],
   "source": [
    "# # Add id column,\n",
    "# # alter table {} add column series_time_delta[];\n",
    "\n",
    "# for _table in workout_tables:\n",
    "#     query = \"alter table {} add column series_time_delta_average numeric(20,10);\".format(_table)\n",
    "#     print query\n",
    "#     cur.execute(query)\n",
    "#     conn.commit()\n"
   ]
  },
  {
   "cell_type": "code",
   "execution_count": 19,
   "metadata": {
    "collapsed": false,
    "deletable": true,
    "editable": true,
    "scrolled": false
   },
   "outputs": [
    {
     "name": "stdout",
     "output_type": "stream",
     "text": [
      "aerobics_by_workout\n",
      "american_football_by_workout\n",
      "badminton_by_workout\n",
      "baseball_by_workout\n",
      "basketball_by_workout\n",
      "beach_volleyball_by_workout\n",
      "bike_by_workout\n",
      "bike_transport_by_workout\n",
      "boxing_by_workout\n",
      "circuit_training_by_workout\n",
      "climbing_by_workout\n",
      "core_stability_training_by_workout\n",
      "cricket_by_workout\n",
      "cross_country_skiing_by_workout\n",
      "dancing_by_workout\n",
      "downhill_skiing_by_workout\n",
      "elliptical_by_workout\n",
      "fencing_by_workout\n",
      "fitness_walking_by_workout\n",
      "golf_by_workout\n",
      "gymnastics_by_workout\n",
      "handball_by_workout\n",
      "hiking_by_workout\n",
      "hockey_by_workout\n",
      "horseback_riding_by_workout\n",
      "indoor_cycling_by_workout\n",
      "kayaking_by_workout\n",
      "kite_surfing_by_workout\n",
      "martial_arts_by_workout\n",
      "mountain_bike_by_workout\n",
      "orienteering_by_workout\n",
      "pilates_by_workout\n",
      "polo_by_workout\n",
      "roller_skiing_by_workout\n",
      "rowing_by_workout\n",
      "rugby_by_workout\n",
      "run_by_workout\n",
      "sailing_by_workout\n",
      "scuba_diving_by_workout\n",
      "skate_by_workout\n",
      "skateboarding_by_workout\n",
      "snowboarding_by_workout\n",
      "snowshoeing_by_workout\n",
      "soccer_by_workout\n",
      "squash_by_workout\n",
      "stair_climing_by_workout\n",
      "step_counter_by_workout\n",
      "surfing_by_workout\n",
      "swimming_by_workout\n",
      "table_tennis_by_workout\n",
      "tennis_by_workout\n",
      "treadmill_running_by_workout\n",
      "treadmill_walking_by_workout\n",
      "volleyball_by_workout\n",
      "walk_by_workout\n",
      "walk_transport_by_workout\n",
      "weight_lifting_by_workout\n",
      "weight_training_by_workout\n",
      "wheelchair_by_workout\n",
      "windsurfing_by_workout\n",
      "yoga_by_workout\n",
      "time: 1min 43s\n"
     ]
    }
   ],
   "source": [
    "#select workoutId, array_avg(series_time_delta) from bike_by_workout;\n",
    "for _table in sorted(workout_tables):\n",
    "    print _table\n",
    "    query = \"update {} set series_time_delta_average = array_avg(series_time_delta);\".format(_table)\n",
    "    cur.execute(query)\n",
    "    conn.commit()\n",
    "    "
   ]
  },
  {
   "cell_type": "code",
   "execution_count": 27,
   "metadata": {
    "collapsed": false,
    "deletable": true,
    "editable": true
   },
   "outputs": [
    {
     "name": "stdout",
     "output_type": "stream",
     "text": [
      "time: 1.02 s\n"
     ]
    }
   ],
   "source": [
    "users = []\n",
    "\n",
    "for _table in sorted(series_tables):\n",
    "    query = \"select userid from {}_by_workout\".format(_table)\n",
    "    cur.execute(query)\n",
    "    users += [_i[0] for _i in cur.fetchall()]\n",
    "\n",
    "# Unique\n",
    "users = set(users)"
   ]
  },
  {
   "cell_type": "code",
   "execution_count": 32,
   "metadata": {
    "collapsed": false,
    "deletable": true,
    "editable": true
   },
   "outputs": [
    {
     "name": "stdout",
     "output_type": "stream",
     "text": [
      "create table user_workout_counts (id SERIAL PRIMARY KEY, userid integer, volleyball integer,soccer integer,run integer,beach_volleyball integer,bike integer,kite_surfing integer,martial_arts integer,mountain_bike integer,orienteering integer,pilates integer,roller_skiing integer,rowing integer,rugby integer,sailing integer,scuba_diving integer,skate integer,snowshoeing integer,hiking integer,skateboarding integer,basketball integer,cricket integer,hockey integer,american_football integer,baseball integer,boxing integer,handball integer,surfing integer,cross_country_skiing integer,horseback_riding integer,windsurfing integer,yoga integer,polo integer,swimming integer,step_counter integer,table_tennis integer,tennis integer,treadmill_running integer,kayaking integer,fencing integer,treadmill_walking integer,walk_transport integer,walk integer,weight_training integer,snowboarding integer,aerobics integer,golf integer,gymnastics integer,indoor_cycling integer,wheelchair integer,squash integer,stair_climing integer,bike_transport integer,circuit_training integer,climbing integer,badminton integer,core_stability_training integer,dancing integer,downhill_skiing integer,elliptical integer,fitness_walking integer,weight_lifting integer );\n",
      "time: 32.8 ms\n"
     ]
    }
   ],
   "source": [
    "workout_fields = str.join(\",\",[ _i + ' integer' for _i in series_tables])\n",
    "\n",
    "query = \"create table user_workout_counts (id SERIAL PRIMARY KEY, userid integer, {} );\".format(workout_fields)\n",
    "print query\n",
    "cur.execute(query)\n",
    "conn.commit()"
   ]
  },
  {
   "cell_type": "code",
   "execution_count": 53,
   "metadata": {
    "collapsed": false,
    "deletable": true,
    "editable": true
   },
   "outputs": [
    {
     "name": "stdout",
     "output_type": "stream",
     "text": [
      "time: 10min 36s\n"
     ]
    }
   ],
   "source": [
    "for _user in users:\n",
    "    workout_counts = []\n",
    "    for _workout in series_tables:\n",
    "        query = \"select count(*) from {}_by_workout where userid = {}\".format(_workout, _user)\n",
    "        cur.execute(query)\n",
    "        workout_counts.append(str(int(cur.fetchone()[0])))\n",
    "    \n",
    "    query = \"insert into user_workout_counts values (DEFAULT, {}, {});\".format(_user, str.join(\",\", workout_counts))\n",
    "    cur.execute(query)\n",
    "    conn.commit()"
   ]
  },
  {
   "cell_type": "code",
   "execution_count": null,
   "metadata": {
    "collapsed": true,
    "deletable": true,
    "editable": true
   },
   "outputs": [],
   "source": []
  },
  {
   "cell_type": "code",
   "execution_count": null,
   "metadata": {
    "collapsed": true,
    "deletable": true,
    "editable": true
   },
   "outputs": [],
   "source": []
  },
  {
   "cell_type": "code",
   "execution_count": 31,
   "metadata": {
    "collapsed": false,
    "deletable": true,
    "editable": true
   },
   "outputs": [
    {
     "name": "stdout",
     "output_type": "stream",
     "text": [
      "time: 3.35 ms\n"
     ]
    }
   ],
   "source": [
    "import datetime\n",
    "import pytz\n",
    "\n",
    "from decimal import Decimal\n",
    "\n",
    "from timezonefinder import TimezoneFinder"
   ]
  },
  {
   "cell_type": "code",
   "execution_count": 14,
   "metadata": {
    "collapsed": false,
    "deletable": true,
    "editable": true
   },
   "outputs": [
    {
     "data": {
      "text/plain": [
       "True"
      ]
     },
     "execution_count": 14,
     "metadata": {},
     "output_type": "execute_result"
    },
    {
     "name": "stdout",
     "output_type": "stream",
     "text": [
      "time: 4.92 ms\n"
     ]
    }
   ],
   "source": [
    "tf = TimezoneFinder()\n",
    "\n",
    "TimezoneFinder.using_numba() "
   ]
  },
  {
   "cell_type": "code",
   "execution_count": null,
   "metadata": {
    "collapsed": false,
    "deletable": true,
    "editable": true
   },
   "outputs": [],
   "source": [
    "# # Add id column,\n",
    "# # alter table {} add column series_time_delta[];\n",
    "\n",
    "# for _table in workout_tables:\n",
    "#     query = \"alter table {} add column timezone varchar;\".format(_table)\n",
    "#     cur.execute(query)\n",
    "#     conn.commit()\n"
   ]
  },
  {
   "cell_type": "code",
   "execution_count": 51,
   "metadata": {
    "collapsed": false,
    "deletable": true,
    "editable": true
   },
   "outputs": [
    {
     "name": "stdout",
     "output_type": "stream",
     "text": [
      "american_football_by_workout\n",
      "core_stability_training_by_workout\n",
      "baseball_by_workout\n",
      "handball_by_workout\n",
      "surfing_by_workout\n",
      "golf_by_workout\n",
      "circuit_training_by_workout\n",
      "horseback_riding_by_workout\n",
      "pilates_by_workout\n",
      "skateboarding_by_workout\n",
      "orienteering_by_workout\n",
      "sailing_by_workout\n",
      "dancing_by_workout\n",
      "mountain_bike_by_workout\n",
      "scuba_diving_by_workout\n",
      "fitness_walking_by_workout\n",
      "snowboarding_by_workout\n",
      "beach_volleyball_by_workout\n",
      "kite_surfing_by_workout\n",
      "kayaking_by_workout\n",
      "basketball_by_workout\n",
      "aerobics_by_workout\n",
      "rowing_by_workout\n",
      "rugby_by_workout\n",
      "swimming_by_workout\n",
      "treadmill_running_by_workout\n",
      "table_tennis_by_workout\n",
      "bike_transport_by_workout\n",
      "tennis_by_workout\n",
      "downhill_skiing_by_workout\n",
      "elliptical_by_workout\n",
      "cricket_by_workout\n",
      "windsurfing_by_workout\n",
      "yoga_by_workout\n",
      "badminton_by_workout\n",
      "roller_skiing_by_workout\n",
      "hiking_by_workout\n",
      "cross_country_skiing_by_workout\n",
      "martial_arts_by_workout\n",
      "fencing_by_workout\n",
      "stair_climing_by_workout\n",
      "volleyball_by_workout\n",
      "squash_by_workout\n",
      "step_counter_by_workout\n",
      "soccer_by_workout\n",
      "weight_training_by_workout\n",
      "indoor_cycling_by_workout\n",
      "snowshoeing_by_workout\n",
      "walk_by_workout\n",
      "run_by_workout\n",
      "treadmill_walking_by_workout\n",
      "wheelchair_by_workout\n",
      "hockey_by_workout\n",
      "skate_by_workout\n",
      "climbing_by_workout\n",
      "bike_by_workout\n",
      "boxing_by_workout\n",
      "gymnastics_by_workout\n",
      "walk_transport_by_workout\n",
      "polo_by_workout\n",
      "weight_lifting_by_workout\n",
      "time: 21.5 s\n"
     ]
    }
   ],
   "source": [
    "# add timezone\n",
    "for _table in workout_tables:\n",
    "    print _table\n",
    "    query = \"select start_latitude, start_longitude, workoutId from {}\".format(_table)\n",
    "    cur.execute(query)\n",
    "    _tmp = cur.fetchall()\n",
    "    workoutIds = []\n",
    "    for _i in _tmp:\n",
    "        if _i[0] == None or _i[1] == None:\n",
    "            continue\n",
    "        if _i[0] < -180 or _i >= 180:\n",
    "            continue\n",
    "            \n",
    "        workoutIds.append([_i[2], tf.timezone_at(lat=float(str(_i[0])), lng=float(str(_i[1])))])\n",
    "\n",
    "    for _workout in workoutIds:\n",
    "        if _workout[1] == None:\n",
    "            continue\n",
    "        query = \"update {} set timezone = '{}' where workoutId = {};\".format(_table, _workout[1], _workout[0])\n",
    "        \n",
    "        cur.execute(query)\n",
    "        conn.commit()\n"
   ]
  },
  {
   "cell_type": "code",
   "execution_count": 47,
   "metadata": {
    "collapsed": false
   },
   "outputs": [
    {
     "data": {
      "text/plain": [
       "u'Europe/Copenhagen'"
      ]
     },
     "execution_count": 47,
     "metadata": {},
     "output_type": "execute_result"
    },
    {
     "name": "stdout",
     "output_type": "stream",
     "text": [
      "time: 5.48 ms\n"
     ]
    }
   ],
   "source": [
    "tf.timezone_at(lat=float(str(Decimal('55.5177833000'))), lng=float(str(Decimal('8.9868187000'))))"
   ]
  },
  {
   "cell_type": "code",
   "execution_count": 39,
   "metadata": {
    "collapsed": false,
    "deletable": true,
    "editable": true
   },
   "outputs": [
    {
     "data": {
      "text/plain": [
       "Decimal('55.5177833000')"
      ]
     },
     "execution_count": 39,
     "metadata": {},
     "output_type": "execute_result"
    },
    {
     "name": "stdout",
     "output_type": "stream",
     "text": [
      "time: 3.98 ms\n"
     ]
    }
   ],
   "source": [
    "_tmp[0][0]"
   ]
  },
  {
   "cell_type": "code",
   "execution_count": 30,
   "metadata": {
    "collapsed": false
   },
   "outputs": [
    {
     "data": {
      "text/plain": [
       "12.616222"
      ]
     },
     "execution_count": 30,
     "metadata": {},
     "output_type": "execute_result"
    },
    {
     "name": "stdout",
     "output_type": "stream",
     "text": [
      "time: 3.54 ms\n"
     ]
    }
   ],
   "source": [
    "float(a)"
   ]
  },
  {
   "cell_type": "code",
   "execution_count": null,
   "metadata": {
    "collapsed": false,
    "deletable": true,
    "editable": true
   },
   "outputs": [],
   "source": [
    "#select workoutId, array_avg(series_time_delta) from bike_by_workout;\n",
    "workout = []\n",
    "for _table in workout_tables:\n",
    "    query = \"select series_length from {};\".format(_table)\n",
    "    cur.execute(query)\n",
    "    workout.append([_table, [_i[0] for _i in cur.fetchall()]])\n",
    "\n",
    "workout = sorted(workout, key=lambda x: len(x[1]), reverse=True)"
   ]
  },
  {
   "cell_type": "code",
   "execution_count": null,
   "metadata": {
    "collapsed": false,
    "deletable": true,
    "editable": true,
    "scrolled": false
   },
   "outputs": [],
   "source": [
    "for _workout in workout:\n",
    "    print _workout[0], len(_workout[1])\n",
    "    plt.hist(_workout[1])\n",
    "    plt.show()"
   ]
  },
  {
   "cell_type": "code",
   "execution_count": null,
   "metadata": {
    "collapsed": true,
    "deletable": true,
    "editable": true
   },
   "outputs": [],
   "source": []
  },
  {
   "cell_type": "code",
   "execution_count": null,
   "metadata": {
    "collapsed": true,
    "deletable": true,
    "editable": true
   },
   "outputs": [],
   "source": []
  }
 ],
 "metadata": {
  "kernelspec": {
   "display_name": "Python 2",
   "language": "python",
   "name": "python2"
  },
  "language_info": {
   "codemirror_mode": {
    "name": "ipython",
    "version": 2
   },
   "file_extension": ".py",
   "mimetype": "text/x-python",
   "name": "python",
   "nbconvert_exporter": "python",
   "pygments_lexer": "ipython2",
   "version": "2.7.13"
  }
 },
 "nbformat": 4,
 "nbformat_minor": 1
}
