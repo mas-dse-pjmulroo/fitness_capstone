{
 "cells": [
  {
   "cell_type": "code",
   "execution_count": 43,
   "metadata": {
    "collapsed": false
   },
   "outputs": [
    {
     "name": "stdout",
     "output_type": "stream",
     "text": [
      "time: 12.3 ms\n"
     ]
    }
   ],
   "source": [
    "from influxdb import InfluxDBClient\n",
    "\n",
    "import ujson\n",
    "import copy\n",
    "import numpy as np\n",
    "import scipy.stats\n",
    "import sys"
   ]
  },
  {
   "cell_type": "code",
   "execution_count": 2,
   "metadata": {
    "collapsed": true
   },
   "outputs": [],
   "source": [
    "# Testing auto adding time output to all cells\n",
    "'''\n",
    "#To install...\n",
    "wget https://raw.githubusercontent.com/cpcloud/ipython-autotime/master/autotime.py\n",
    "#Make available via\n",
    "jupyter nbextension install /Users/patrickmulrooney/class/notebooks/pjmulroo/DSECapstone/autotime.py\n",
    "'''\n",
    " \n",
    "%load_ext autotime"
   ]
  },
  {
   "cell_type": "code",
   "execution_count": 3,
   "metadata": {
    "collapsed": false
   },
   "outputs": [
    {
     "name": "stdout",
     "output_type": "stream",
     "text": [
      "time: 29.5 ms\n"
     ]
    }
   ],
   "source": [
    "def log_progress(sequence, every=None, size=None):\n",
    "    from ipywidgets import IntProgress, HTML, VBox\n",
    "    from IPython.display import display\n",
    "\n",
    "    is_iterator = False\n",
    "    if size is None:\n",
    "        try:\n",
    "            size = len(sequence)\n",
    "        except TypeError:\n",
    "            is_iterator = True\n",
    "    if size is not None:\n",
    "        if every is None:\n",
    "            if size <= 200:\n",
    "                every = 1\n",
    "            else:\n",
    "                every = int(size / 200)     # every 0.5%\n",
    "    else:\n",
    "        assert every is not None, 'sequence is iterator, set every'\n",
    "\n",
    "    if is_iterator:\n",
    "        progress = IntProgress(min=0, max=1, value=1)\n",
    "        progress.bar_style = 'info'\n",
    "    else:\n",
    "        progress = IntProgress(min=0, max=size, value=0)\n",
    "    label = HTML()\n",
    "    box = VBox(children=[label, progress])\n",
    "    display(box)\n",
    "\n",
    "    index = 0\n",
    "    try:\n",
    "        for index, record in enumerate(sequence, 1):\n",
    "            if index == 1 or index % every == 0:\n",
    "                if is_iterator:\n",
    "                    label.value = '{index} / ?'.format(index=index)\n",
    "                else:\n",
    "                    progress.value = index\n",
    "                    label.value = u'{index} / {size}'.format(\n",
    "                        index=index,\n",
    "                        size=size\n",
    "                    )\n",
    "            yield record\n",
    "    except:\n",
    "        progress.bar_style = 'danger'\n",
    "        raise\n",
    "    else:\n",
    "        progress.bar_style = 'success'\n",
    "        progress.value = index\n",
    "        label.value = str(index or '?')\n"
   ]
  },
  {
   "cell_type": "code",
   "execution_count": 4,
   "metadata": {
    "collapsed": false
   },
   "outputs": [
    {
     "name": "stdout",
     "output_type": "stream",
     "text": [
      "/Users/patrickmulrooney/Downloads/endomondoHR/endoHRParsed_no_outliers.json\n",
      "time: 4.89 ms\n"
     ]
    }
   ],
   "source": [
    "# Read config from local file\n",
    "GMAP_API_KEY = None\n",
    "\n",
    "sys.path.append('/Users/patrickmulrooney/Desktop/')\n",
    "import capstone_config\n",
    "\n",
    "_file, _ = capstone_config.getkeys()\n",
    "print _file"
   ]
  },
  {
   "cell_type": "code",
   "execution_count": 6,
   "metadata": {
    "collapsed": false
   },
   "outputs": [
    {
     "name": "stdout",
     "output_type": "stream",
     "text": [
      "time: 14min 50s\n"
     ]
    }
   ],
   "source": [
    "#time: 12min 44s\n",
    "# Full dataset\n",
    "#_file = \"/Users/patrickmulrooney/Downloads/endomondoHR/endoHRParsed.json\"\n",
    "# Partial dataset\n",
    "#_file = \"/Users/patrickmulrooney/Downloads/endomondoHR/endoHRParsed_10k.json\"\n",
    "\n",
    "endoHR = []\n",
    "\n",
    "with open(_file, 'r') as f:\n",
    "    endoHR += ujson.load(f)"
   ]
  },
  {
   "cell_type": "code",
   "execution_count": 46,
   "metadata": {
    "collapsed": false
   },
   "outputs": [
    {
     "name": "stdout",
     "output_type": "stream",
     "text": [
      "time: 115 ms\n"
     ]
    }
   ],
   "source": [
    "dbname = 'endomondo2'\n",
    "client = InfluxDBClient('127.0.0.1', 8086, 'root', 'root', dbname)"
   ]
  },
  {
   "cell_type": "code",
   "execution_count": 21,
   "metadata": {
    "collapsed": false
   },
   "outputs": [
    {
     "name": "stdout",
     "output_type": "stream",
     "text": [
      "Drop database: endomondo2\n",
      "Create database: endomondo2\n",
      "Create a retention policy\n",
      "time: 34.1 ms\n"
     ]
    }
   ],
   "source": [
    "try:\n",
    "    print(\"Drop database: \" + dbname)\n",
    "    client.drop_database(dbname)\n",
    "except:\n",
    "    pass\n",
    "\n",
    "print(\"Create database: \" + dbname)\n",
    "client.create_database(dbname)\n",
    "\n",
    "print(\"Create a retention policy\")\n",
    "client.create_retention_policy('awesome_policy', 'INF', 1, default=True)"
   ]
  },
  {
   "cell_type": "code",
   "execution_count": 9,
   "metadata": {
    "collapsed": false,
    "scrolled": false
   },
   "outputs": [
    {
     "name": "stdout",
     "output_type": "stream",
     "text": [
      "time: 5.74 ms\n"
     ]
    }
   ],
   "source": [
    "# # https://docs.influxdata.com/influxdb/v1.1/concepts/key_concepts/#database\n",
    "# for _endoHR in log_progress(endoHR, every=1):\n",
    "#     _points = []\n",
    "\n",
    "#     _dict = {}\n",
    "#     #_dict[\"measurement\"] = \"exercise\"\n",
    "#     _dict[\"measurement\"] = _endoHR['sport']\n",
    "#     _tags = {}\n",
    "#     _tags[\"gender\"] = _endoHR['gender']\n",
    "#     _tags[\"workoutId\"] = _endoHR['id']\n",
    "\n",
    "#     #_tags[\"sport\"] = _endoHR['sport']\n",
    "#     #_dict[\"tags\"][\"url\"] = _endoHR['url']\n",
    "    \n",
    "#     for _series in _endoHR['series']:\n",
    "#         _dict[\"time\"] = _series[0]\n",
    "#         _dict[\"fields\"] = {}\n",
    "#         _dict[\"fields\"][\"userId\"] = _endoHR['userId']\n",
    "#         _dict[\"fields\"][\"ts\"] = _series[0]\n",
    "\n",
    "#         _dict[\"fields\"][\"heart_rate\"] = _series[1]\n",
    "#         _dict[\"fields\"][\"altitude\"] = _series[2]\n",
    "#         _dict[\"fields\"][\"latitude\"] = _series[3]\n",
    "#         _dict[\"fields\"][\"longitude\"] = _series[4]\n",
    "#         if _endoHR['speed_included']:\n",
    "#             _dict[\"fields\"][\"speed\"] = _series[5]\n",
    "\n",
    "#         _points.append(copy.deepcopy(_dict))\n",
    "    \n",
    "#     client.write_points(_points, time_precision='s', tags=_tags)"
   ]
  },
  {
   "cell_type": "code",
   "execution_count": null,
   "metadata": {
    "collapsed": false
   },
   "outputs": [],
   "source": [
    "# https://docs.influxdata.com/influxdb/v1.1/concepts/key_concepts/#database\n",
    "for _endoHR in log_progress(endoHR, every=1):\n",
    "    _points = []\n",
    "\n",
    "    _dict = {}\n",
    "    #_dict[\"measurement\"] = \"exercise\"\n",
    "    _dict[\"measurement\"] = _endoHR['sport']\n",
    "    _tags = {}\n",
    "    _tags[\"gender\"] = _endoHR['gender']\n",
    "    _tags[\"workoutId\"] = _endoHR['id']\n",
    "    _tags[\"userId\"] = _endoHR['userId']\n",
    "\n",
    "\n",
    "    #_tags[\"sport\"] = _endoHR['sport']\n",
    "    #_dict[\"tags\"][\"url\"] = _endoHR['url']\n",
    "    \n",
    "    for _series in _endoHR['series']:\n",
    "        _dict[\"time\"] = _series[0]\n",
    "        _dict[\"fields\"] = {}\n",
    "        #_dict[\"fields\"][\"ts\"] = _series[0]\n",
    "\n",
    "        _dict[\"fields\"][\"heart_rate\"] = _series[1]\n",
    "        _tags[\"altitude\"] = _series[2]\n",
    "        _tags[\"latitude\"] = _series[3]\n",
    "        _tags[\"longitude\"] = _series[4]\n",
    "        if _endoHR['speed_included']:\n",
    "            _dict[\"fields\"][\"speed\"] = _series[5]\n",
    "\n",
    "        #_points.append(copy.deepcopy(_dict))\n",
    "    \n",
    "        client.write_points([_dict], time_precision='s', tags=_tags)"
   ]
  },
  {
   "cell_type": "code",
   "execution_count": 47,
   "metadata": {
    "collapsed": false
   },
   "outputs": [
    {
     "ename": "ConnectionError",
     "evalue": "('Connection aborted.', BadStatusLine(\"''\",))",
     "output_type": "error",
     "traceback": [
      "\u001b[0;31m---------------------------------------------------------------------------\u001b[0m",
      "\u001b[0;31mConnectionError\u001b[0m                           Traceback (most recent call last)",
      "\u001b[0;32m<ipython-input-47-4826b46b3c41>\u001b[0m in \u001b[0;36m<module>\u001b[0;34m()\u001b[0m\n\u001b[1;32m     39\u001b[0m             \u001b[0mclient\u001b[0m\u001b[0;34m.\u001b[0m\u001b[0mwrite_points\u001b[0m\u001b[0;34m(\u001b[0m\u001b[0m_points\u001b[0m\u001b[0;34m,\u001b[0m \u001b[0mtime_precision\u001b[0m\u001b[0;34m=\u001b[0m\u001b[0;34m's'\u001b[0m\u001b[0;34m)\u001b[0m\u001b[0;34m\u001b[0m\u001b[0m\n\u001b[1;32m     40\u001b[0m         \u001b[0;32mexcept\u001b[0m\u001b[0;34m:\u001b[0m\u001b[0;34m\u001b[0m\u001b[0m\n\u001b[0;32m---> 41\u001b[0;31m             \u001b[0mclient\u001b[0m\u001b[0;34m.\u001b[0m\u001b[0mwrite_points\u001b[0m\u001b[0;34m(\u001b[0m\u001b[0m_points\u001b[0m\u001b[0;34m,\u001b[0m \u001b[0mtime_precision\u001b[0m\u001b[0;34m=\u001b[0m\u001b[0;34m's'\u001b[0m\u001b[0;34m)\u001b[0m\u001b[0;34m\u001b[0m\u001b[0m\n\u001b[0m\u001b[1;32m     42\u001b[0m \u001b[0;34m\u001b[0m\u001b[0m\n\u001b[1;32m     43\u001b[0m         \u001b[0mcount\u001b[0m \u001b[0;34m=\u001b[0m \u001b[0;36m1\u001b[0m\u001b[0;34m\u001b[0m\u001b[0m\n",
      "\u001b[0;32m/usr/local/lib/python2.7/site-packages/influxdb/client.pyc\u001b[0m in \u001b[0;36mwrite_points\u001b[0;34m(self, points, time_precision, database, retention_policy, tags, batch_size, protocol)\u001b[0m\n\u001b[1;32m    410\u001b[0m                                       \u001b[0mdatabase\u001b[0m\u001b[0;34m=\u001b[0m\u001b[0mdatabase\u001b[0m\u001b[0;34m,\u001b[0m\u001b[0;34m\u001b[0m\u001b[0m\n\u001b[1;32m    411\u001b[0m                                       \u001b[0mretention_policy\u001b[0m\u001b[0;34m=\u001b[0m\u001b[0mretention_policy\u001b[0m\u001b[0;34m,\u001b[0m\u001b[0;34m\u001b[0m\u001b[0m\n\u001b[0;32m--> 412\u001b[0;31m                                       tags=tags, protocol=protocol)\n\u001b[0m\u001b[1;32m    413\u001b[0m \u001b[0;34m\u001b[0m\u001b[0m\n\u001b[1;32m    414\u001b[0m     \u001b[0;32mdef\u001b[0m \u001b[0m_batches\u001b[0m\u001b[0;34m(\u001b[0m\u001b[0mself\u001b[0m\u001b[0;34m,\u001b[0m \u001b[0miterable\u001b[0m\u001b[0;34m,\u001b[0m \u001b[0msize\u001b[0m\u001b[0;34m)\u001b[0m\u001b[0;34m:\u001b[0m\u001b[0;34m\u001b[0m\u001b[0m\n",
      "\u001b[0;32m/usr/local/lib/python2.7/site-packages/influxdb/client.pyc\u001b[0m in \u001b[0;36m_write_points\u001b[0;34m(self, points, time_precision, database, retention_policy, tags, protocol)\u001b[0m\n\u001b[1;32m    460\u001b[0m                 \u001b[0mparams\u001b[0m\u001b[0;34m=\u001b[0m\u001b[0mparams\u001b[0m\u001b[0;34m,\u001b[0m\u001b[0;34m\u001b[0m\u001b[0m\n\u001b[1;32m    461\u001b[0m                 \u001b[0mexpected_response_code\u001b[0m\u001b[0;34m=\u001b[0m\u001b[0;36m204\u001b[0m\u001b[0;34m,\u001b[0m\u001b[0;34m\u001b[0m\u001b[0m\n\u001b[0;32m--> 462\u001b[0;31m                 \u001b[0mprotocol\u001b[0m\u001b[0;34m=\u001b[0m\u001b[0mprotocol\u001b[0m\u001b[0;34m\u001b[0m\u001b[0m\n\u001b[0m\u001b[1;32m    463\u001b[0m             )\n\u001b[1;32m    464\u001b[0m \u001b[0;34m\u001b[0m\u001b[0m\n",
      "\u001b[0;32m/usr/local/lib/python2.7/site-packages/influxdb/client.pyc\u001b[0m in \u001b[0;36mwrite\u001b[0;34m(self, data, params, expected_response_code, protocol)\u001b[0m\n\u001b[1;32m    290\u001b[0m             \u001b[0mdata\u001b[0m\u001b[0;34m=\u001b[0m\u001b[0mdata\u001b[0m\u001b[0;34m,\u001b[0m\u001b[0;34m\u001b[0m\u001b[0m\n\u001b[1;32m    291\u001b[0m             \u001b[0mexpected_response_code\u001b[0m\u001b[0;34m=\u001b[0m\u001b[0mexpected_response_code\u001b[0m\u001b[0;34m,\u001b[0m\u001b[0;34m\u001b[0m\u001b[0m\n\u001b[0;32m--> 292\u001b[0;31m             \u001b[0mheaders\u001b[0m\u001b[0;34m=\u001b[0m\u001b[0mheaders\u001b[0m\u001b[0;34m\u001b[0m\u001b[0m\n\u001b[0m\u001b[1;32m    293\u001b[0m         )\n\u001b[1;32m    294\u001b[0m         \u001b[0;32mreturn\u001b[0m \u001b[0mTrue\u001b[0m\u001b[0;34m\u001b[0m\u001b[0m\n",
      "\u001b[0;32m/usr/local/lib/python2.7/site-packages/influxdb/client.pyc\u001b[0m in \u001b[0;36mrequest\u001b[0;34m(self, url, method, params, data, expected_response_code, headers)\u001b[0m\n\u001b[1;32m    244\u001b[0m                     \u001b[0;32mcontinue\u001b[0m\u001b[0;34m\u001b[0m\u001b[0m\n\u001b[1;32m    245\u001b[0m                 \u001b[0;32melse\u001b[0m\u001b[0;34m:\u001b[0m\u001b[0;34m\u001b[0m\u001b[0m\n\u001b[0;32m--> 246\u001b[0;31m                     \u001b[0;32mraise\u001b[0m \u001b[0me\u001b[0m\u001b[0;34m\u001b[0m\u001b[0m\n\u001b[0m\u001b[1;32m    247\u001b[0m \u001b[0;34m\u001b[0m\u001b[0m\n\u001b[1;32m    248\u001b[0m         \u001b[0;32mif\u001b[0m \u001b[0mresponse\u001b[0m\u001b[0;34m.\u001b[0m\u001b[0mstatus_code\u001b[0m \u001b[0;34m>=\u001b[0m \u001b[0;36m500\u001b[0m \u001b[0;32mand\u001b[0m \u001b[0mresponse\u001b[0m\u001b[0;34m.\u001b[0m\u001b[0mstatus_code\u001b[0m \u001b[0;34m<\u001b[0m \u001b[0;36m600\u001b[0m\u001b[0;34m:\u001b[0m\u001b[0;34m\u001b[0m\u001b[0m\n",
      "\u001b[0;31mConnectionError\u001b[0m: ('Connection aborted.', BadStatusLine(\"''\",))"
     ]
    },
    {
     "name": "stdout",
     "output_type": "stream",
     "text": [
      "time: 1.22 s\n"
     ]
    }
   ],
   "source": [
    "# https://docs.influxdata.com/influxdb/v1.1/concepts/key_concepts/#database\n",
    "count = 1\n",
    "_points = []\n",
    "count2 = 18000\n",
    "restart = 18000\n",
    "for _endoHR in log_progress(endoHR[restart-150:], every=1):\n",
    "\n",
    "    count2 += 1\n",
    "    #if count2 < (restart-100):\n",
    "    #    continue\n",
    "    _dict = {}\n",
    "    #_dict[\"measurement\"] = \"exercise\"\n",
    "    _dict[\"measurement\"] = _endoHR['sport']\n",
    "    _dict['tags'] = {}\n",
    "    _dict['tags'][\"gender\"] = _endoHR['gender']\n",
    "    _dict['tags'][\"workoutId\"] = _endoHR['id']\n",
    "    _dict['tags'][\"userId\"] = _endoHR['userId']\n",
    "\n",
    "\n",
    "    #_tags[\"sport\"] = _endoHR['sport']\n",
    "    #_dict[\"tags\"][\"url\"] = _endoHR['url']\n",
    "    \n",
    "    for _series in _endoHR['series']:\n",
    "        _dict[\"time\"] = _series[0]\n",
    "        _dict[\"fields\"] = {}\n",
    "        #_dict[\"fields\"][\"ts\"] = _series[0]\n",
    "\n",
    "        _dict[\"fields\"][\"heart_rate\"] = _series[1]\n",
    "        _dict['tags'][\"altitude\"] = _series[2]\n",
    "        _dict['tags'][\"latitude\"] = _series[3]\n",
    "        _dict['tags'][\"longitude\"] = _series[4]\n",
    "        if _endoHR['speed_included']:\n",
    "            _dict[\"fields\"][\"speed\"] = _series[5]\n",
    "\n",
    "        _points.append(copy.deepcopy(_dict))\n",
    "    count += 1\n",
    "    if count%6 == 0:\n",
    "        try:\n",
    "            client.write_points(_points, time_precision='s')\n",
    "        except:\n",
    "            client.write_points(_points, time_precision='s')\n",
    "\n",
    "        count = 1\n",
    "        _points = []\n",
    "        restart = count2"
   ]
  },
  {
   "cell_type": "code",
   "execution_count": null,
   "metadata": {
    "collapsed": false
   },
   "outputs": [],
   "source": [
    "result = client.query('select count(*) from /.*/;')"
   ]
  },
  {
   "cell_type": "code",
   "execution_count": 63,
   "metadata": {
    "collapsed": false
   },
   "outputs": [
    {
     "data": {
      "text/plain": [
       "[u'1970-01-01T00:00:00Z',\n",
       " 48607938,\n",
       " 48607938,\n",
       " 48607938,\n",
       " 48607938,\n",
       " 8740130,\n",
       " 48607938,\n",
       " 48607938]"
      ]
     },
     "execution_count": 63,
     "metadata": {},
     "output_type": "execute_result"
    },
    {
     "name": "stdout",
     "output_type": "stream",
     "text": [
      "time: 65.4 ms\n"
     ]
    }
   ],
   "source": [
    "result.raw['series'][0]['values'][0]"
   ]
  },
  {
   "cell_type": "code",
   "execution_count": 55,
   "metadata": {
    "collapsed": false
   },
   "outputs": [
    {
     "name": "stdout",
     "output_type": "stream",
     "text": [
      "time: 8min 5s\n"
     ]
    }
   ],
   "source": [
    "sport_count = {}\n",
    "\n",
    "for _endo in log_progress(endoHR, every=1):\n",
    "    sport = _endo['sport']\n",
    "    try:\n",
    "        sport_count[sport] += len(_endo['series'])\n",
    "    except:\n",
    "        sport_count[sport] = len(_endo['series'])"
   ]
  },
  {
   "cell_type": "code",
   "execution_count": 57,
   "metadata": {
    "collapsed": false
   },
   "outputs": [
    {
     "data": {
      "text/plain": [
       "48659759"
      ]
     },
     "execution_count": 57,
     "metadata": {},
     "output_type": "execute_result"
    },
    {
     "name": "stdout",
     "output_type": "stream",
     "text": [
      "time: 2.93 ms\n"
     ]
    }
   ],
   "source": [
    "sport_count['run']"
   ]
  },
  {
   "cell_type": "code",
   "execution_count": null,
   "metadata": {
    "collapsed": true
   },
   "outputs": [],
   "source": []
  }
 ],
 "metadata": {
  "kernelspec": {
   "display_name": "Python 2",
   "language": "python",
   "name": "python2"
  },
  "language_info": {
   "codemirror_mode": {
    "name": "ipython",
    "version": 2
   },
   "file_extension": ".py",
   "mimetype": "text/x-python",
   "name": "python",
   "nbconvert_exporter": "python",
   "pygments_lexer": "ipython2",
   "version": "2.7.13"
  },
  "widgets": {
   "state": {
    "8e96f5096bdf476a88af0da4a736ad1c": {
     "views": [
      {
       "cell_index": 9
      }
     ]
    }
   },
   "version": "1.2.0"
  }
 },
 "nbformat": 4,
 "nbformat_minor": 1
}
