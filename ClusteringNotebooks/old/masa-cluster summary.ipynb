{
 "cells": [
  {
   "cell_type": "code",
   "execution_count": 2,
   "metadata": {
    "collapsed": false,
    "deletable": true,
    "editable": true
   },
   "outputs": [],
   "source": [
    "import time\n",
    "from datetime import datetime\n",
    "sc = SparkContext.getOrCreate()\n",
    "#traces\n",
    "import pandas as pd\n",
    "import numpy as np\n",
    "import re\n",
    "import sys\n",
    "import math\n",
    "#for ordered dict for traces implementation\n",
    "from collections import OrderedDict\n",
    "\n",
    "from datetime import datetime\n",
    "from datetime import timedelta\n",
    "#import sources.endomondolib as endo\n",
    "#import sources.pysparkconvenience as ps\n",
    "from numpy import array\n",
    "from math import sqrt\n",
    "from pyspark.sql.types import DoubleType\n",
    "#for timedelta manipulation\n",
    "from math import fabs\n",
    "\n",
    "from pyspark.sql import Row\n",
    "\n",
    "#kmeans\n",
    "#from pyspark.mllib.clustering import KMeans, KMeansModel\n",
    "#from pyspark.mllib.linalg import Vectors\n",
    "#from pyspark.ml.linalg import Vectors\n",
    "from pyspark.ml.feature import VectorAssembler\n",
    "\n",
    "from  pyspark.ml.feature import MinMaxScaler\n",
    "from pyspark.ml.linalg import Vectors, VectorUDT\n",
    "\n",
    "\n",
    "from pyspark.sql.functions import *\n",
    "#from pyspark.mllib.clustering import KMeans, KMeansModel\n",
    "from pyspark.ml.clustering import KMeans, KMeansModel\n",
    "from pyspark.ml.clustering import BisectingKMeans\n",
    "from pyspark.sql import DataFrameReader\n",
    "from pyspark.sql import DataFrame\n",
    "from pyspark.sql.functions import count\n",
    "from pyspark.sql.window import Window\n",
    "from pyspark.sql import SQLContext\n",
    "from IPython.display import display, HTML\n",
    "from pyspark.sql.functions import col\n",
    "#from pyspark.mllib.linalg import Vectors\n",
    "from pyspark.sql import HiveContext\n",
    "from pyspark.ml.feature import VectorAssembler\n",
    "\n",
    "# Disable warnings, set Matplotlib inline plotting and load Pandas package\n",
    "import warnings\n",
    "warnings.filterwarnings('ignore')\n",
    "\n",
    "%matplotlib inline\n",
    "pd.options.display.mpl_style = 'default'\n",
    "\n",
    "\n",
    "\n",
    "from pyspark import SparkContext\n",
    "#sc =SparkContext()\n",
    "\n",
    "\n",
    "pyspark_submit_args = os.environ.get(\"PYSPARK_SUBMIT_ARGS\", \"\")\n",
    "if not \"pyspark-shell\" in pyspark_submit_args: pyspark_submit_args += \" pyspark-shell\"\n",
    "os.environ[\"PYSPARK_SUBMIT_ARGS\"] = pyspark_submit_args\n",
    "\n",
    "#%load_ext autotime\n",
    "from pyspark.sql import SQLContext\n",
    "sqlContext = SQLContext(sc)\n",
    "\n",
    "#del min\n",
    "#del max\n",
    "\n",
    "data_users='/Users/momori/dse/maomori/thesis/git/fitness_capstone/data/run_with_hr_users.csv'\n",
    "\n",
    "sqlContext = HiveContext(sc)\n",
    "\n"
   ]
  },
  {
   "cell_type": "code",
   "execution_count": 22,
   "metadata": {
    "collapsed": false,
    "deletable": true,
    "editable": true
   },
   "outputs": [],
   "source": [
    "%run /home/ubuntu/mmscaler_wrapper.py\n",
    "sc.addPyFile('/home/ubuntu/mmscaler_wrapper.py')"
   ]
  },
  {
   "cell_type": "code",
   "execution_count": 1,
   "metadata": {
    "collapsed": false,
    "deletable": true,
    "editable": true
   },
   "outputs": [
    {
     "data": {
      "text/plain": [
       "<pyspark.context.SparkContext at 0x7fa3bf6b5210>"
      ]
     },
     "execution_count": 1,
     "metadata": {},
     "output_type": "execute_result"
    }
   ],
   "source": [
    "sc"
   ]
  },
  {
   "cell_type": "code",
   "execution_count": null,
   "metadata": {
    "collapsed": true
   },
   "outputs": [],
   "source": []
  },
  {
   "cell_type": "code",
   "execution_count": 23,
   "metadata": {
    "collapsed": false,
    "deletable": true,
    "editable": true
   },
   "outputs": [],
   "source": [
    "%load_ext autotime"
   ]
  },
  {
   "cell_type": "code",
   "execution_count": 24,
   "metadata": {
    "collapsed": false,
    "deletable": true,
    "editable": true
   },
   "outputs": [
    {
     "name": "stdout",
     "output_type": "stream",
     "text": [
      "/home/ubuntu\n",
      "autotime.py\n",
      "autotime.pyc\n",
      "cluster_centers.csv\n",
      "cluster_centers_gt10.csv\n",
      "dave2.csv\n",
      "dave.csv\n",
      "derby.log\n",
      "import_influx.py\n",
      "Jason-Loading-Visualizing-Endomondo.ipynb\n",
      "masa-cluster series.ipynb\n",
      "masa-cluster summary-Copy1.ipynb\n",
      "masa-cluster summary-Copy2.ipynb\n",
      "masa-cluster summary.ipynb\n",
      "metastore_db.old\n",
      "mmscaler_wrapper.ipynb\n",
      "mmscaler_wrapper.py\n",
      "mmscaler_wrapper.pyc\n",
      "mycert.pem\n",
      "mykey.key\n",
      "new_run2.csv\n",
      "notebooks\n",
      "pat_alt_metastoredb.ipynb\n",
      "pypy\n",
      "README.md\n",
      "Regression Coefficient Evaluator.ipynb\n",
      "Regression.ipynb\n",
      "Regression (Linear) Coefficient Evaluator.ipynb\n",
      "route_perf_clusters.csv\n",
      "run_data_with_hr_spd.csv\n",
      "run_with_hr_users.csv\n",
      "save-package-versions\n",
      "sc_test.ipynb\n",
      "sql_scripts\n",
      "test.csv\n",
      "time: 227 ms\n"
     ]
    }
   ],
   "source": [
    "!pwd\n",
    "!ls /home/ubuntu"
   ]
  },
  {
   "cell_type": "code",
   "execution_count": 3,
   "metadata": {
    "collapsed": false,
    "deletable": true,
    "editable": true
   },
   "outputs": [],
   "source": [
    "#create pyspark dataframe from csv\n",
    "def df_from_csv(csv_file):\n",
    "    text = sc.textFile(csv_file)\\\n",
    "        .map(lambda line: line.split(\",\"))\n",
    "    #didn't work with take(1). believe returns \n",
    "    #different object then first()\n",
    "    schema = text.first()\n",
    "    data = text.filter(lambda x: x != schema)\n",
    "    df = sqlContext.createDataFrame(data, schema)\n",
    "    return df\n",
    "\n",
    "def fix_df(df):\n",
    "    return df.rdd.toDF(df.schema.names)\n",
    "\n",
    "\n",
    "def change_column_names(df, old_names, new_names):\n",
    "    pass\n",
    "    return df;\n",
    "\n",
    "##input\n",
    "##   string: 2013-02-22 21:38:45\n",
    "##output: \n",
    "##   list: [u'2013', u'02', u'22', u'21', u'38', u'45']\n",
    "def datetime_to_trace_time(timestamp):\n",
    "    #strip double quotes\n",
    "    timestamp = timestamp.replace('\"', '')\n",
    "    r_list = re.split('[- :]', timestamp)\n",
    "    return [int(x) for x in r_list]"
   ]
  },
  {
   "cell_type": "code",
   "execution_count": 4,
   "metadata": {
    "collapsed": false
   },
   "outputs": [
    {
     "ename": "ValueError",
     "evalue": "RDD is empty",
     "output_type": "error",
     "traceback": [
      "\u001b[0;31m---------------------------------------------------------------------------\u001b[0m",
      "\u001b[0;31mValueError\u001b[0m                                Traceback (most recent call last)",
      "\u001b[0;32m<ipython-input-4-4ca864ce895b>\u001b[0m in \u001b[0;36m<module>\u001b[0;34m()\u001b[0m\n\u001b[0;32m----> 1\u001b[0;31m \u001b[0mdf_from_csv\u001b[0m\u001b[0;34m(\u001b[0m\u001b[0;34m'route_perf_clusters.csv'\u001b[0m\u001b[0;34m)\u001b[0m\u001b[0;34m\u001b[0m\u001b[0m\n\u001b[0m",
      "\u001b[0;32m<ipython-input-3-25becd37faa3>\u001b[0m in \u001b[0;36mdf_from_csv\u001b[0;34m(csv_file)\u001b[0m\n\u001b[1;32m      4\u001b[0m     \u001b[0;31m#didn't work with take(1). believe returns\u001b[0m\u001b[0;34m\u001b[0m\u001b[0;34m\u001b[0m\u001b[0m\n\u001b[1;32m      5\u001b[0m     \u001b[0;31m#different object then first()\u001b[0m\u001b[0;34m\u001b[0m\u001b[0;34m\u001b[0m\u001b[0m\n\u001b[0;32m----> 6\u001b[0;31m     \u001b[0mschema\u001b[0m \u001b[0;34m=\u001b[0m \u001b[0mtext\u001b[0m\u001b[0;34m.\u001b[0m\u001b[0mfirst\u001b[0m\u001b[0;34m(\u001b[0m\u001b[0;34m)\u001b[0m\u001b[0;34m\u001b[0m\u001b[0m\n\u001b[0m\u001b[1;32m      7\u001b[0m     \u001b[0mdata\u001b[0m \u001b[0;34m=\u001b[0m \u001b[0mtext\u001b[0m\u001b[0;34m.\u001b[0m\u001b[0mfilter\u001b[0m\u001b[0;34m(\u001b[0m\u001b[0;32mlambda\u001b[0m \u001b[0mx\u001b[0m\u001b[0;34m:\u001b[0m \u001b[0mx\u001b[0m \u001b[0;34m!=\u001b[0m \u001b[0mschema\u001b[0m\u001b[0;34m)\u001b[0m\u001b[0;34m\u001b[0m\u001b[0m\n\u001b[1;32m      8\u001b[0m     \u001b[0mdf\u001b[0m \u001b[0;34m=\u001b[0m \u001b[0msqlContext\u001b[0m\u001b[0;34m.\u001b[0m\u001b[0mcreateDataFrame\u001b[0m\u001b[0;34m(\u001b[0m\u001b[0mdata\u001b[0m\u001b[0;34m,\u001b[0m \u001b[0mschema\u001b[0m\u001b[0;34m)\u001b[0m\u001b[0;34m\u001b[0m\u001b[0m\n",
      "\u001b[0;32m/opt/spark/spark-2.1.0-bin-hadoop2.7/python/pyspark/rdd.pyc\u001b[0m in \u001b[0;36mfirst\u001b[0;34m(self)\u001b[0m\n\u001b[1;32m   1362\u001b[0m         \u001b[0;32mif\u001b[0m \u001b[0mrs\u001b[0m\u001b[0;34m:\u001b[0m\u001b[0;34m\u001b[0m\u001b[0m\n\u001b[1;32m   1363\u001b[0m             \u001b[0;32mreturn\u001b[0m \u001b[0mrs\u001b[0m\u001b[0;34m[\u001b[0m\u001b[0;36m0\u001b[0m\u001b[0;34m]\u001b[0m\u001b[0;34m\u001b[0m\u001b[0m\n\u001b[0;32m-> 1364\u001b[0;31m         \u001b[0;32mraise\u001b[0m \u001b[0mValueError\u001b[0m\u001b[0;34m(\u001b[0m\u001b[0;34m\"RDD is empty\"\u001b[0m\u001b[0;34m)\u001b[0m\u001b[0;34m\u001b[0m\u001b[0m\n\u001b[0m\u001b[1;32m   1365\u001b[0m \u001b[0;34m\u001b[0m\u001b[0m\n\u001b[1;32m   1366\u001b[0m     \u001b[0;32mdef\u001b[0m \u001b[0misEmpty\u001b[0m\u001b[0;34m(\u001b[0m\u001b[0mself\u001b[0m\u001b[0;34m)\u001b[0m\u001b[0;34m:\u001b[0m\u001b[0;34m\u001b[0m\u001b[0m\n",
      "\u001b[0;31mValueError\u001b[0m: RDD is empty"
     ]
    }
   ],
   "source": [
    "df_from_csv('route_perf_clusters.csv')"
   ]
  },
  {
   "cell_type": "code",
   "execution_count": 26,
   "metadata": {
    "collapsed": false,
    "deletable": true,
    "editable": true
   },
   "outputs": [
    {
     "name": "stdout",
     "output_type": "stream",
     "text": [
      "time: 1.68 ms\n"
     ]
    }
   ],
   "source": [
    "#get data cell\n",
    "\n",
    "data_run='new_run2.csv'\n",
    "data_users='/home/ubuntu/run_with_hr_users.csv'\n",
    "#df_runs = df_from_csv(data_run)\n",
    "#print type(df_runs)\n",
    "#df_runs.count()"
   ]
  },
  {
   "cell_type": "code",
   "execution_count": 73,
   "metadata": {
    "collapsed": false,
    "deletable": true,
    "editable": true
   },
   "outputs": [
    {
     "data": {
      "text/plain": [
       "DataFrame[altitude: decimal(20,10), heart_rate: decimal(10,5), latitude: decimal(20,10), longitude: decimal(20,10), speed: decimal(20,10), workoutid: int, time: int, altitude_first: decimal(10,5), altitude_second: decimal(10,5), speed_first: decimal(10,5), elapsed_distance: decimal(15,10), elapsed_time: int, heart_rate_ma_25: decimal(8,5), speed_ma_50: decimal(8,5), speed_ma_100: decimal(8,5)]"
      ]
     },
     "execution_count": 73,
     "metadata": {},
     "output_type": "execute_result"
    },
    {
     "name": "stdout",
     "output_type": "stream",
     "text": [
      "time: 31.8 ms\n"
     ]
    }
   ],
   "source": [
    "from pyspark.sql import DataFrameReader\n",
    "\n",
    "url = 'postgresql://172.31.29.1:5432/endomondo'\n",
    "\n",
    "properties = {'user':'endomondo', 'password': 'End0m0ndo'}\n",
    "\n",
    "df_runs = DataFrameReader(sqlContext).jdbc(url='jdbc:%s' % url, table='run', properties=properties)\n",
    "\n",
    "df_users = DataFrameReader(sqlContext).jdbc(url='jdbc:%s' % url, table='run_by_workout', properties=properties)\n",
    "\n",
    "df_runs"
   ]
  },
  {
   "cell_type": "code",
   "execution_count": 79,
   "metadata": {
    "collapsed": false,
    "deletable": true,
    "editable": true
   },
   "outputs": [
    {
     "data": {
      "text/plain": [
       "['altitude',\n",
       " 'heart_rate',\n",
       " 'latitude',\n",
       " 'longitude',\n",
       " 'speed',\n",
       " 'workoutid',\n",
       " 'time',\n",
       " 'altitude_first',\n",
       " 'altitude_second',\n",
       " 'speed_first',\n",
       " 'elapsed_distance',\n",
       " 'elapsed_time',\n",
       " 'heart_rate_ma_25',\n",
       " 'speed_ma_50',\n",
       " 'speed_ma_100']"
      ]
     },
     "execution_count": 79,
     "metadata": {},
     "output_type": "execute_result"
    },
    {
     "name": "stdout",
     "output_type": "stream",
     "text": [
      "time: 3.16 ms\n"
     ]
    }
   ],
   "source": [
    "df_runs.schema.names"
   ]
  },
  {
   "cell_type": "code",
   "execution_count": 74,
   "metadata": {
    "collapsed": false,
    "deletable": true,
    "editable": true
   },
   "outputs": [
    {
     "name": "stdout",
     "output_type": "stream",
     "text": [
      "time: 73.2 ms\n"
     ]
    }
   ],
   "source": [
    "#clean up df_users\n",
    "#list of common columns:{'altitude_max',\n",
    "#  'altitude_min',\n",
    "#  'calories',\n",
    "#  'distance',\n",
    "#  'duration',\n",
    "#  'elapsed_time',\n",
    "#  'gender',\n",
    "#  'geo_distance',\n",
    "#  'heart_rate_avg',\n",
    "#  'heart_rate_max',\n",
    "#  'humidity',\n",
    "#  'hydration',\n",
    "#  'id',\n",
    "#  'series_length',\n",
    "#  'series_time_delta',\n",
    "#  'series_time_delta_average',\n",
    "#  'speed_avg',\n",
    "#  'speed_max',\n",
    "#  'start_altitude',\n",
    "#  'start_latitude',\n",
    "#  'start_longitude',\n",
    "#  'start_time',\n",
    "#  'temperature',\n",
    "#  'timezone',\n",
    "#  'userid',\n",
    "#  'wind_speed',\n",
    "#  'workoutid'}\n",
    "df.select([c for c in df.columns if c not in {'GpuName','GPU1_TwoPartHwID'}])\n",
    "df_users = df_users.select([c for c in df_users.columns if c not in ['elapsed_time']])"
   ]
  },
  {
   "cell_type": "code",
   "execution_count": 61,
   "metadata": {
    "collapsed": false,
    "deletable": true,
    "editable": true
   },
   "outputs": [
    {
     "data": {
      "text/plain": [
       "['gender',\n",
       " 'workoutid',\n",
       " 'userid',\n",
       " 'start_time',\n",
       " 'start_altitude',\n",
       " 'start_latitude',\n",
       " 'start_longitude',\n",
       " 'series_length',\n",
       " 'series_time_delta',\n",
       " 'series_time_delta_average',\n",
       " 'timezone',\n",
       " 'id',\n",
       " 'altitude_max',\n",
       " 'altitude_min',\n",
       " 'calories',\n",
       " 'distance',\n",
       " 'duration',\n",
       " 'heart_rate_avg',\n",
       " 'heart_rate_max',\n",
       " 'hydration',\n",
       " 'speed_avg',\n",
       " 'speed_max',\n",
       " 'humidity',\n",
       " 'temperature',\n",
       " 'wind_speed',\n",
       " 'geo_distance']"
      ]
     },
     "execution_count": 61,
     "metadata": {},
     "output_type": "execute_result"
    },
    {
     "name": "stdout",
     "output_type": "stream",
     "text": [
      "time: 4.24 ms\n"
     ]
    }
   ],
   "source": [
    "df_users.schema.names"
   ]
  },
  {
   "cell_type": "code",
   "execution_count": 57,
   "metadata": {
    "collapsed": false,
    "deletable": true,
    "editable": true,
    "scrolled": false
   },
   "outputs": [
    {
     "data": {
      "text/plain": [
       "['altitude',\n",
       " 'heart_rate',\n",
       " 'latitude',\n",
       " 'longitude',\n",
       " 'speed',\n",
       " 'workoutid',\n",
       " 'time',\n",
       " 'altitude_first',\n",
       " 'altitude_second',\n",
       " 'speed_first',\n",
       " 'elapsed_distance',\n",
       " 'elapsed_time',\n",
       " 'heart_rate_ma_25',\n",
       " 'speed_ma_50',\n",
       " 'speed_ma_100']"
      ]
     },
     "execution_count": 57,
     "metadata": {},
     "output_type": "execute_result"
    },
    {
     "name": "stdout",
     "output_type": "stream",
     "text": [
      "time: 2.91 ms\n"
     ]
    }
   ],
   "source": [
    "df_runs.schema.names#df_users['workoutid','userid']"
   ]
  },
  {
   "cell_type": "code",
   "execution_count": 29,
   "metadata": {
    "collapsed": false,
    "deletable": true,
    "editable": true
   },
   "outputs": [
    {
     "name": "stdout",
     "output_type": "stream",
     "text": [
      "time: 803 µs\n"
     ]
    }
   ],
   "source": [
    "#df_users.count()"
   ]
  },
  {
   "cell_type": "code",
   "execution_count": 31,
   "metadata": {
    "collapsed": false,
    "deletable": true,
    "editable": true
   },
   "outputs": [
    {
     "name": "stdout",
     "output_type": "stream",
     "text": [
      "time: 1.22 ms\n"
     ]
    }
   ],
   "source": [
    "def replacerUDF(value):\n",
    "    return udf(lambda x: value)"
   ]
  },
  {
   "cell_type": "code",
   "execution_count": 52,
   "metadata": {
    "collapsed": false,
    "deletable": true,
    "editable": true
   },
   "outputs": [
    {
     "name": "stdout",
     "output_type": "stream",
     "text": [
      "time: 155 ms\n"
     ]
    }
   ],
   "source": [
    "#class to create summary stats of workouts\n",
    "class SummaryStat():\n",
    "    data_points = ''\n",
    "    new_col_names = []\n",
    "    #list of tuples. \n",
    "    #   key: column name\n",
    "    #   value: metric (sum/avg/etc)\n",
    "    summary_conf = ''\n",
    "    partition_name = ''\n",
    "    def __init__(self, sql_df, summary_conf = [], \\\n",
    "                partition_name = ''):\n",
    "        if partition_name:\n",
    "            self.partition_name = partition_name\n",
    "        else:\n",
    "            self.partition_name = 'workoutid'\n",
    "        self.data_points = sql_df\n",
    "        if not isinstance(sql_df, DataFrame):\n",
    "            print 'please enter spark dataframe object'\n",
    "            return\n",
    "        #if summary_conf not defined, default to sum for all columns\n",
    "        if not summary_conf:\n",
    "            col_names = self.data_points.schema.names\n",
    "            for i in col_names:\n",
    "                summary_conf.append((i, 'sum'))\n",
    "        else:\n",
    "            if not isinstance(summary_conf, list):\n",
    "                print 'check summary_conf type'\n",
    "                return\n",
    "            for element in summary_conf:\n",
    "                if not isinstance(element, dict):\n",
    "                    print 'check summary_conf type 2'\n",
    "                    return\n",
    "            self.summary_conf = summary_conf\n",
    "        \n",
    "    def describe(self):\n",
    "        print self.data_points.limit(2)\n",
    "\n",
    "    def show(self):\n",
    "        print self.data_points.show()\n",
    "        \n",
    "    def get_new_col_names(self):\n",
    "        return self.new_col_names\n",
    "        \n",
    "    def generate_summary(self, debug=False):\n",
    "        #rewnew new_col_names\n",
    "        self.new_col_names = []\n",
    "        #windows function test\n",
    "        r_df = ''\n",
    "        r_list_cols = []\n",
    "        for dic in self.summary_conf:\n",
    "            a = datetime.now()\n",
    "            col_name = dic.keys()[0] #should only have 1 key per dictionary\n",
    "            print col_name\n",
    "            aggregation_type = dic[col_name]\n",
    "            w = Window.partitionBy(self.partition_name)\n",
    "            if aggregation_type == 'avg':\n",
    "                new_col_name = aggregation_type + '_' + col_name\n",
    "                tmp = self.data_points.select(col_name, self.partition_name,\\\n",
    "                                        avg(col_name).over(w).alias(new_col_name)\\\n",
    "                                            )\n",
    "                r_list_cols.append(tmp[[new_col_name, self.partition_name]].distinct())\n",
    "                self.new_col_names.append(new_col_name)\n",
    "\n",
    "            if aggregation_type == 'sum':\n",
    "                new_col_name = aggregation_type + '_' + col_name\n",
    "                tmp = self.data_points.select(col_name, self.partition_name,\\\n",
    "                                        sum(col_name).over(w).alias(new_col_name)\\\n",
    "                                            )\n",
    "                r_list_cols.append(tmp[[new_col_name, self.partition_name]].distinct())   \n",
    "                self.new_col_names.append(new_col_name)\n",
    "\n",
    "                \n",
    "            if aggregation_type == 'max':\n",
    "                #print self.data_points.schema.names\n",
    "                new_col_name = aggregation_type + '_' + col_name\n",
    "                tmp = self.data_points.select(col_name, self.partition_name,\\\n",
    "                                        max(col_name).over(w).alias(new_col_name)\\\n",
    "                                            )\n",
    "                r_list_cols.append(tmp[[new_col_name, self.partition_name]].distinct())    \n",
    "                self.new_col_names.append(new_col_name)\n",
    "                \n",
    "            if aggregation_type == 'min':\n",
    "                new_col_name = aggregation_type + '_' + col_name\n",
    "                tmp = self.data_points.select(col_name, self.partition_name,\\\n",
    "                                        min(col_name).over(w).alias(new_col_name)\\\n",
    "                                            )\n",
    "                r_list_cols.append(tmp[[new_col_name, self.partition_name]].distinct()) \n",
    "                self.new_col_names.append(new_col_name)\n",
    "            \n",
    "            if aggregation_type == 'diff':\n",
    "                new_col_name = aggregation_type + '_' + col_name\n",
    "                max_col_name = 'max'+col_name\n",
    "                min_col_name = 'min'+col_name\n",
    "                tmp_max = self.data_points.select(col_name, self.partition_name,\\\n",
    "                                                 max(col_name).over(w).alias(max_col_name))\n",
    "                \n",
    "                tmp_min = self.data_points.select(col_name, self.partition_name,\\\n",
    "                                        min(col_name).over(w).alias(min_col_name)\\\n",
    "                                            )\n",
    "                \n",
    "                min_max_df = tmp_max.join(tmp_min, (tmp_max[self.partition_name]==tmp_min[self.partition_name]),\\\n",
    "                                         'inner').drop(tmp_max[self.partition_name])\n",
    "                \n",
    "                min_max_df = min_max_df.withColumn(new_col_name, min_max_df[max_col_name]-min_max_df[min_col_name])\n",
    "                #print min_max_df[new_col_name, self.partition_name].distinct().show()\n",
    "                \n",
    "                r_list_cols.append(min_max_df[[new_col_name, self.partition_name]].distinct())\n",
    "                self.new_col_names.append(new_col_name)          \n",
    "                \n",
    "#                 print min_max_df[[max_col_name, min_col_name, self.partition_name]].show()\n",
    "#                 #print tmp_max.show(), tmp_min\n",
    "#                 #tmp_max.select(col_name).subtract(tmp_min.select(col_name)).show()\n",
    "#                 tmp_max = change_type_col_double(tmp_max, new_col_name)\n",
    "#                 tmp_min = change_type_col_double(tmp_min, new_col_name)\n",
    "#                 min_value = tmp_min.select(new_col_name).collect()[0][new_col_name]\n",
    "#                 max_value = tmp_max.select(new_col_name).collect()[0][new_col_name]\n",
    "#                 diff = max_value - min_value\n",
    "#                 workout_id = tmp_max.select(self.partition_name).collect()[0][self.partition_name]\n",
    "#                 p_name = self.partition_name\n",
    "\n",
    "#                 #make new dataframe from rdd\n",
    "#                 k = [(diff, workout_id)]\n",
    "#                 rdd = sc.parallelize(k)\n",
    "#                 rdd = rdd.map(lambda x: Row(a=x[0], b=x[1]))\n",
    "#                 new_df = sqlContext.createDataFrame(rdd)\n",
    "                \n",
    "                \n",
    "#                 #rename column\n",
    "#                 new_df = new_df.select(col('a').alias(new_col_name), col('b').alias(p_name))\n",
    "                \n",
    "#                 r_list_cols.append(new_df)\n",
    "#                 self.new_col_names.append(new_col_name)   \n",
    "            b = datetime.now()\n",
    "            if debug:\n",
    "                print 'generate stat for ', col_name , ' took ', b-a \n",
    "        for df in r_list_cols:\n",
    "            if not r_df:\n",
    "                r_df = df\n",
    "            else:\n",
    "                r_df = r_df.join(df, (r_df[self.partition_name]==df[self.partition_name]), 'inner')\\\n",
    "                    .drop(df[self.partition_name])\n",
    "        return r_df\n",
    "    \n"
   ]
  },
  {
   "cell_type": "code",
   "execution_count": 33,
   "metadata": {
    "collapsed": false,
    "deletable": true,
    "editable": true
   },
   "outputs": [
    {
     "name": "stdout",
     "output_type": "stream",
     "text": [
      "time: 25.2 ms\n"
     ]
    }
   ],
   "source": [
    "#minMaxScaler wrapper since originalMin/Max is only implemented in 2.0\n",
    "class scaler_wrapper():\n",
    "    mmModel = ''\n",
    "    originalMin = ''\n",
    "    originalMax = ''   \n",
    "    \n",
    "    def __init__(self, inputCol, outputCol, s_min = 0, s_max = 0):\n",
    "        self.mmModel = MinMaxScaler(inputCol=inputCol, outputCol=outputCol)\n",
    "        self.mmModel.setMin(s_min)\n",
    "        self.mmModel.setMax(s_max)\n",
    "        self.in_column = inputCol\n",
    "        \n",
    "    def get_input_col_name(self):\n",
    "        return self.mmModel.getInputCol()\n",
    "\n",
    "    def getMax(self):\n",
    "        return self.mmModel.getMax()\n",
    "        \n",
    "    def getMin(self):\n",
    "        return self.mmModel.getMin()\n",
    "    \n",
    "    def describe(self):\n",
    "        print 'describe'\n",
    "    \n",
    "    def fit(self, df):\n",
    "        col = self.mmModel.getInputCol()\n",
    "        self.originalMin = df.select(col).rdd.flatMap(lambda x: x[0]).min()\n",
    "        self.originalMax = df.select(col).rdd.flatMap(lambda x: x[0]).max()\n",
    "        return self.mmModel.fit(df)\n",
    "    \n",
    "    #denormalize the value\n",
    "    def denormalize(self, value):\n",
    "        v = (value-self.getMin())*\\\n",
    "            (self.originalMax - self.originalMin)*\\\n",
    "            (self.getMax()-self.getMin()) + self.originalMin\n",
    "        if v or v == 0:\n",
    "            return v\n",
    "        else:\n",
    "            return -999\n",
    "        \n",
    "    def denormalize_df(self, df):\n",
    "        col = self.mmModel.getInputCol()\n",
    "        \n",
    "        \n",
    "    def normalize(self, value):\n",
    "        pass"
   ]
  },
  {
   "cell_type": "code",
   "execution_count": 34,
   "metadata": {
    "collapsed": false,
    "deletable": true,
    "editable": true
   },
   "outputs": [
    {
     "name": "stdout",
     "output_type": "stream",
     "text": [
      "time: 659 ms\n"
     ]
    }
   ],
   "source": [
    "#calculate sse\n",
    "def compute_sse(a,b):\n",
    "    total = 0\n",
    "    if len(a) != len(b):\n",
    "        print 'bad input'\n",
    "        return 99999\n",
    "    else:\n",
    "        for i in range(len(a)):\n",
    "            total += math.pow(float(a[i])-float(b[i]),2)\n",
    "    return math.sqrt(total)\n",
    "\n",
    "def change_type_col_double(df, col):\n",
    "    df = df.withColumn(col, df[col].cast(\"double\"))\n",
    "    return df.na.fill(0)\n",
    "\n",
    "#change column type\n",
    "def change_type_cols_double(df, list_cols):\n",
    "    for col_name in list_cols:\n",
    "        df = df.withColumn(col_name, df[col_name].cast(\"double\"))\n",
    "    return df.na.fill(0)\n",
    "\n",
    "def normalize_vectorize_df(df, list_cols, scale_dict={}):\n",
    "    n_df = vectorize_columns(df, list_cols)\n",
    "    n_df, scalerModels = normalize_df(n_df, list_cols, scale_dict)\n",
    "    return n_df, scalerModels\n",
    "#vectorize the column\n",
    "#keeps the original name\n",
    "def vectorize_columns(df, list_cols, debug=False):\n",
    "    a = datetime.now()\n",
    "    tmp_col_name = 'temp'\n",
    "    for col_name in list_cols:\n",
    "        vectorize = udf(lambda vs: Vectors.dense(vs), VectorUDT())\n",
    "        df = df.withColumn(tmp_col_name, vectorize(df[col_name])).drop(col_name)\\\n",
    "            .withColumnRenamed(tmp_col_name, col_name)\n",
    "    b = datetime.now()\n",
    "    print 'vectorize done in', b-a\n",
    "    return df\n",
    "\n",
    "##scaler wrapper usage\n",
    "#generate normalized dataframe\n",
    "#keep the original column names\n",
    "#returns:\n",
    "#   (df, {col_name:scalerModel, col_name:scalerModel,....})\n",
    "def normalize_df_old(df, list_cols, scale_dict = {}, debug=False):\n",
    "    tmp_col_name = 'temp'\n",
    "    r_dict = {}\n",
    "    index = 0\n",
    "    for col_name in list_cols:\n",
    "        if debug:\n",
    "            print '------- normalize ', col_name,'-------'\n",
    "        a = datetime.now()\n",
    "        scale_value = 1\n",
    "        if col_name in scale_dict:\n",
    "            scale_value = scale_dict[col_name]\n",
    "            print scale_value\n",
    "        #scaler is the wrapper instance\n",
    "        scaler = scaler_wrapper(inputCol=col_name, outputCol=tmp_col_name, s_max = scale_value)\n",
    "        scalerModel = scaler.fit(df)\n",
    "        b = datetime.now()\n",
    "        if debug:\n",
    "            print b-a\n",
    "        df = scalerModel.transform(df).drop(col_name)\\\n",
    "            .withColumnRenamed(tmp_col_name, col_name)\n",
    "        #r_dict[col_name] = scaler\n",
    "        r_dict[index] = scaler\n",
    "        c =datetime.now()\n",
    "        if debug:\n",
    "            print c-b\n",
    "        index+=1\n",
    "    return df, r_dict\n",
    "\n",
    "\n",
    "#   (df, {col_name:scalerModel, col_name:scalerModel,....})\n",
    "def normalize_df(df, list_cols, scale_dict = {}, debug=False):\n",
    "    tmp_col_name = 'temp'\n",
    "    r_dict = {}\n",
    "    index = 0\n",
    "    for col_name in list_cols:\n",
    "        if debug:\n",
    "            print '------- normalize ', col_name,'-------'\n",
    "        a = datetime.now()\n",
    "        scale_value = 1\n",
    "        if col_name in scale_dict:\n",
    "            scale_value = scale_dict[col_name]\n",
    "            print scale_value\n",
    "        #scaler is the wrapper instance\n",
    "        scaler = scaler_wrapper(inputCol=col_name, outputCol=tmp_col_name, s_max = scale_value)\n",
    "        scalerModel = scaler.fit(df)\n",
    "        b = datetime.now()\n",
    "        if debug:\n",
    "            print b-a\n",
    "        df = scalerModel.transform(df).drop(col_name)\\\n",
    "            .withColumnRenamed(tmp_col_name, col_name)\n",
    "        #r_dict[col_name] = scaler\n",
    "        r_dict[index] = scaler\n",
    "        c =datetime.now()\n",
    "        if debug:\n",
    "            print c-b\n",
    "        index+=1\n",
    "    return df, r_dict\n",
    "\n",
    "\n",
    "# MinMaxScaler doesn't have originalMin(only supported in 2.0). made one above cell with wrapper class\n",
    "# #generate normalized dataframe\n",
    "# #keep the original column names\n",
    "# #returns:\n",
    "# #   (df, {col_name:scalerModel, col_name:scalerModel,....})\n",
    "# def normalize_df(df, list_cols):\n",
    "#     tmp_col_name = 'temp'\n",
    "#     r_dict = {}\n",
    "#     for col_name in list_cols:\n",
    "#         scaler = MinMaxScaler(inputCol=col_name, outputCol=tmp_col_name)\n",
    "#         scalerModel = scaler.fit(df)\n",
    "#         df = scalerModel.transform(df).drop(col_name)\\\n",
    "#             .withColumnRenamed(tmp_col_name, col_name)\n",
    "#         r_dict[col_name] = [scaler, scalerModel]\n",
    "#     return df, r_dict\n",
    "\n",
    "#input: (MLLIB KMEANS)\n",
    "#   cols_to_cluster: list of column names to cluster\n",
    "# def cluster_summary_df(df, cols_to_cluster, num_clusters = 2):\n",
    "#     vecAssembler = VectorAssembler(inputCols=cols_to_cluster,\\\n",
    "#         outputCol='features')\n",
    "#     df_to_cluster = vecAssembler.transform(df.na.fill(0))\n",
    "#     df_to_cluster = df_to_cluster.select('features')\n",
    "#     df_to_cluster = df_to_cluster.rdd\\\n",
    "#         .map(lambda row : Vectors.dense([item for item in row]))\n",
    "#     clusters = KMeans.train(df_to_cluster, num_clusters,\\\n",
    "#                            maxIterations = 10,\\\n",
    "#                         initializationMode=\"random\")\n",
    "    \n",
    "#     return clusters\n",
    "\n",
    "\n",
    "#create feature column from list of cols\n",
    "def create_feature_column(df, cols_to_cluster):\n",
    "    #make dup columns of the ones that will be vectorized\n",
    "    normalized_names = [i+'_n' for i in cols_to_cluster]\n",
    "    \n",
    "    norm_and_woutid = [i+'_n' for i in cols_to_cluster]\n",
    "    norm_and_woutid.append('workoutid')\n",
    "\n",
    "    normalized_df = df\n",
    "    \n",
    "    for c in range(len(cols_to_cluster)):\n",
    "        normalized_df = normalized_df.withColumnRenamed(\\\n",
    "                        cols_to_cluster[c], normalized_names[c])\n",
    "    normalized_df = normalized_df.select(norm_and_woutid)\n",
    "\n",
    "    \n",
    "    df = df.join(normalized_df, (df['workoutid']==normalized_df['workoutid']),\\\n",
    "                'inner').drop(normalized_df['workoutid'])\n",
    "    #df = df.crossJoin(normalized_df)\n",
    "    vecAssembler = VectorAssembler(inputCols=normalized_names,\\\n",
    "        outputCol='features')\n",
    "\n",
    "    df_to_cluster = vecAssembler.transform(df.na.fill(0))\n",
    "\n",
    "    #normed_df = df_to_cluster.select(normalized_names)\n",
    "    return df_to_cluster   \n",
    "    \n",
    "    \n",
    "#ML KMEANS\n",
    "#returns KMeanModel, df_to_cluster\n",
    "def cluster_summary_df(df, cols_to_cluster, num_clusters = 2, init_var=True, bisectingKMean = True,\\\n",
    "                      debug = False):\n",
    "    a = datetime.now()\n",
    "\n",
    "#     #make dup columns of the ones that will be vectorized\n",
    "#     normalized_names = [i+'_n' for i in cols_to_cluster]\n",
    "    \n",
    "#     norm_and_woutid = [i+'_n' for i in cols_to_cluster]\n",
    "#     norm_and_woutid.append('workoutid')\n",
    "#     #make copy\n",
    "#     a = datetime.now()\n",
    "#     normalized_df = df\n",
    "    \n",
    "#     b = datetime.now()\n",
    "#     print b-a , 'df copy'\n",
    "    \n",
    "#     for c in range(len(cols_to_cluster)):\n",
    "#         normalized_df = normalized_df.withColumnRenamed(\\\n",
    "#                         cols_to_cluster[c], normalized_names[c])\n",
    "#     normalized_df = normalized_df.select(norm_and_woutid)\n",
    "\n",
    "    \n",
    "#     df = df.join(normalized_df, (df['workoutid']==normalized_df['workoutid']),\\\n",
    "#                 'inner').drop(normalized_df['workoutid'])\n",
    "#     #df = df.crossJoin(normalized_df)\n",
    "#     vecAssembler = VectorAssembler(inputCols=normalized_names,\\\n",
    "#         outputCol='features')\n",
    "\n",
    "#     df_to_cluster = vecAssembler.transform(df.na.fill(0))\n",
    "\n",
    "#     normed_df = df_to_cluster.select(normalized_names)\n",
    "    \n",
    "    \n",
    "#    df_to_cluster = df_to_cluster.select(['workoutid','features'])\n",
    "    #df_to_cluster = df_to_cluster.rdd\\\n",
    "     #   .map(lambda row : Vectors.dense([item for item in row]))\n",
    "    df_to_cluster = create_feature_column(df, cols_to_cluster)\n",
    "    \n",
    "        \n",
    "        \n",
    "    if not bisectingKMean:\n",
    "        if not init_var:\n",
    "            kmeans = KMeans(k=num_clusters, seed=1, initMode=\"random\",\\\n",
    "                           featuresCol=cols_to_cluster)\n",
    "        else:\n",
    "            kmeans = KMeans(k=num_clusters, seed=1, initMode=\"k-means||\")\n",
    "    else:\n",
    "\n",
    "        kmeans = BisectingKMeans().setK(num_clusters).setSeed(1).setMinDivisibleClusterSize(10)\n",
    "    \n",
    "    \n",
    "    model = kmeans.fit(df_to_cluster)\n",
    "    \n",
    "    b = datetime.now()\n",
    "    if debug:\n",
    "        print 'clustering in ', b-a\n",
    "    return model, df_to_cluster\n",
    "\n",
    "\n",
    "\n",
    "# def cluster_summary_df(df, cols_to_cluster, num_clusters = 2, init_var=False):\n",
    "#     #make dup columns of the ones that will be vectorized\n",
    "#     normalized_names = [i+'_n' for i in cols_to_cluster]\n",
    "    \n",
    "#     norm_and_woutid = [i+'_n' for i in cols_to_cluster]\n",
    "#     norm_and_woutid.append('workoutid')\n",
    "#     #make copy\n",
    "#     a = datetime.now()\n",
    "#     normalized_df = df.copy()\n",
    "    \n",
    "#     b = datetime.now()\n",
    "#     print b-a , 'df copy'\n",
    "    \n",
    "#     for c in range(len(cols_to_cluster)):\n",
    "#         normalized_df = normalized_df.withColumnRenamed(\\\n",
    "#                         cols_to_cluster[c], normalized_names[c])\n",
    "#     normalized_df = normalized_df.select(norm_and_woutid)\n",
    "\n",
    "    \n",
    "#     df = df.join(normalized_df, (df['workoutid']==normalized_df['workoutid']),\\\n",
    "#                 'inner').drop(normalized_df['workoutid'])\n",
    "#     #df = df.crossJoin(normalized_df)\n",
    "#     vecAssembler = VectorAssembler(inputCols=normalized_names,\\\n",
    "#         outputCol='features')\n",
    "\n",
    "#     df_to_cluster = vecAssembler.transform(df.na.fill(0))\n",
    "\n",
    "#     normed_df = df_to_cluster.select(normalized_names)\n",
    "    \n",
    "    \n",
    "# #    df_to_cluster = df_to_cluster.select(['workoutid','features'])\n",
    "#     #df_to_cluster = df_to_cluster.rdd\\\n",
    "#      #   .map(lambda row : Vectors.dense([item for item in row]))\n",
    "        \n",
    "#     print 'clustering times'\n",
    "#     a = datetime.now()\n",
    "#     if not init_var:\n",
    "#         kmeans = KMeans(k=num_clusters, seed=1, initMode=\"random\",\\\n",
    "#                        featuresCol=cols_to_cluster)\n",
    "#     else:\n",
    "#         kmeans = KMeans(k=num_clusters, seed=1, initMode=\"k-means||\")\n",
    "#     b = datetime.now()\n",
    "#     print b - a\n",
    "    \n",
    "#     model = kmeans.fit(df_to_cluster)\n",
    "    \n",
    "#     c = datetime.now()\n",
    "#     print c - b\n",
    "#     return model, df_to_cluster\n",
    "\n",
    "    \n",
    "#returns clusters. show cluster centerse by clusters.clusterCenters.\n",
    "#output:\n",
    "#   [0]: KMeanModel\n",
    "#   [1]: DF that was clustered (normalized)\n",
    "#   [2]: ScalerModels\n",
    "#   [3]: error\n",
    "def cluster_df(df, cols_to_normalize, num_clusters = 2, return_sse = False, cols_to_cluster = [], init_var=True,\\\n",
    "              scale_dict = {}, bisectingKMean = True, debug = False):\n",
    "    if not cols_to_cluster:\n",
    "        cols_to_cluster = cols_to_normalize\n",
    "    df = change_type_cols_double(df, cols_to_normalize)\n",
    "    df = vectorize_columns(df, cols_to_normalize, debug)\n",
    "    df, scalerModels = normalize_df(df, cols_to_cluster, scale_dict, debug)\n",
    "    r_obj = cluster_summary_df(df, cols_to_cluster, num_clusters, init_var, bisectingKMean, \\\n",
    "                              debug)\n",
    "    sse = 'none'\n",
    "    if return_sse:\n",
    "        #calculate SSE for this kmean model\n",
    "        kmodel = r_obj[0]\n",
    "        df_to_cluster = r_obj[1]\n",
    "        centers = kmodel.clusterCenters()\n",
    "        prediction_df = kmodel.transform(df_to_cluster)\n",
    "\n",
    "        #set up rdd\n",
    "        rdd = prediction_df.rdd.map(lambda (a,b):\\\n",
    "                                   (a, centers[b]))\n",
    "        sse = rdd.map(lambda (a,b): compute_sse(a,b)).sum()\n",
    "    \n",
    "    return r_obj[0], r_obj[1], scalerModels, sse\n",
    "\n",
    "def denormalize_centers(list_centers, scaler_models):\n",
    "    new_centers = []\n",
    "    for center in list_centers:\n",
    "        n_center = []\n",
    "        for c in range(len(center)):\n",
    "            n_center.append(scaler_models[c].denormalize(center[c]))\n",
    "        new_centers.append(n_center)\n",
    "    return new_centers\n",
    "\n",
    "\n",
    "\n",
    "def denormalize_cluster(cluster_centers, list_scaler_models):\n",
    "    r_centers = []\n",
    "    for center in cluster_centers:\n",
    "        r_center = []\n",
    "        for index in range(len(center)):\n",
    "            s_model = list_scaler_models[index]\n",
    "            r_center.append(s_model.denormalize(center[index]))\n",
    "        r_centers.append(r_center)\n",
    "    return r_centers\n",
    "\n",
    "def get_distribution_of_workouts(transformed_df):\n",
    "    #count of predictions\n",
    "    return transformed_df.groupBy('prediction').count().orderBy('prediction')\n",
    "\n",
    "#transform (add prediction column) to the dataframe based on the kmeamodel input\n",
    "def transform_df_with_kmeamodel(kmeanModel, df, cols_to_cluster, scale_dict={}):\n",
    "    #need to vectorize and normalize the df\n",
    "    df_to_transform, scalerModels = normalize_vectorize_df(big_sumstats, cols_to_cluster, scale_dict)\n",
    "    df_to_transform = create_feature_column(df_to_transform, cols_to_cluster)\n",
    "    return kmeanModel.transform(df_to_transform), scalerModels\n",
    "\n",
    "\n",
    "\n",
    "#\n",
    "def vectorizeData(data):\n",
    "    return data.rdd.map(lambda r: [r[0], r[1], r[2], Vectors.dense(r[3:6]), r[7]]).toDF([\\\n",
    "            'prediction', 'userid', 'workoutid', 'label', 'max_elapsed_time'])\n",
    "\n",
    "# total_df= fix_df(sumstats.join(prediction_df.select('workoutid','prediction'), \\\n",
    "#                                sumstats['workoutid']==prediction_df['workoutid'],'inner').\\\n",
    "#                             drop(prediction_df['workoutid']))\n",
    "\n",
    "\n"
   ]
  },
  {
   "cell_type": "markdown",
   "metadata": {
    "deletable": true,
    "editable": true
   },
   "source": [
    "# work on speeding up clustering\n"
   ]
  },
  {
   "cell_type": "code",
   "execution_count": 64,
   "metadata": {
    "collapsed": false,
    "deletable": true,
    "editable": true
   },
   "outputs": [
    {
     "name": "stdout",
     "output_type": "stream",
     "text": [
      "time: 10.9 ms\n"
     ]
    }
   ],
   "source": [
    "sub_df = df_runs.limit(2000)\n",
    "big_df_to_fit = df_runs.limit(30000)\n",
    "route_only_df = df_runs.limit(1000)"
   ]
  },
  {
   "cell_type": "code",
   "execution_count": 65,
   "metadata": {
    "collapsed": false,
    "deletable": true,
    "editable": true
   },
   "outputs": [
    {
     "name": "stdout",
     "output_type": "stream",
     "text": [
      "time: 51.1 ms\n"
     ]
    }
   ],
   "source": [
    "sub_df = sub_df.join(df_users,[sub_df['workoutid']==df_users['workoutid']], 'inner').drop(df_users['workoutid'])\n",
    "big_df_to_fit = big_df_to_fit.join(df_users,[big_df_to_fit['workoutid']==df_users['workoutid']],\\\n",
    "                                   'inner').drop(df_users['workoutid'])\n"
   ]
  },
  {
   "cell_type": "code",
   "execution_count": 68,
   "metadata": {
    "collapsed": false,
    "deletable": true,
    "editable": true
   },
   "outputs": [
    {
     "data": {
      "text/plain": [
       "DataFrame[max_elapsed_time: int, sum_geo_distance: decimal(25,10), workoutid: int, avg_heart_rate: decimal(14,9), avg_speed: decimal(24,14), diff_altitude: decimal(21,10), gender: string, userid: int, start_time: int, start_altitude: decimal(20,10), start_latitude: decimal(20,10), start_longitude: decimal(20,10), series_length: int, series_time_delta: array<int>, series_time_delta_average: decimal(20,10), timezone: string, id: int, altitude_max: decimal(20,10), altitude_min: decimal(20,10), calories: decimal(20,10), distance: decimal(20,10), duration: decimal(20,10), heart_rate_avg: decimal(20,10), heart_rate_max: decimal(20,10), hydration: decimal(20,10), speed_avg: decimal(20,10), speed_max: decimal(20,10), humidity: int, temperature: int, wind_speed: int, geo_distance: decimal(15,10)]"
      ]
     },
     "execution_count": 68,
     "metadata": {},
     "output_type": "execute_result"
    },
    {
     "name": "stdout",
     "output_type": "stream",
     "text": [
      "time: 14.7 ms\n"
     ]
    }
   ],
   "source": [
    "big_sumstats.limit(2)"
   ]
  },
  {
   "cell_type": "code",
   "execution_count": 69,
   "metadata": {
    "collapsed": false,
    "deletable": true,
    "editable": true
   },
   "outputs": [
    {
     "name": "stdout",
     "output_type": "stream",
     "text": [
      "elapsed_time\n",
      "geo_distance\n",
      "heart_rate\n",
      "speed\n",
      "altitude\n",
      "['max_elapsed_time', 'sum_geo_distance', 'avg_heart_rate', 'avg_speed', 'diff_altitude']\n",
      "time: 282 ms\n"
     ]
    }
   ],
   "source": [
    "#create big sumstats to fit in to kmodel later\n",
    "\n",
    "#if False:\n",
    "if True:\n",
    "    s_conf = [{'elapsed_time': 'max'}, {'geo_distance': 'sum'}, {'heart_rate':'avg'},\\\n",
    "          {'speed':'avg'}, {'altitude': 'diff'}]\n",
    "\n",
    "    obj = SummaryStat(big_df_to_fit, summary_conf=s_conf)\n",
    "    #obj = SummaryStat(sub_df, summary_conf=s_conf)\n",
    "\n",
    "    #obj.describe()\n",
    "    big_sumstats = obj.generate_summary()\n",
    "    cols_to_cluster = obj.get_new_col_names()\n",
    "    print cols_to_cluster\n",
    "    #clusters = cluster_df(sumstats, cols_to_cluster, 5)\n",
    "    #clusters.clusterCenters\n",
    "\n",
    "    #rid nulls\n",
    "    big_sumstats = big_sumstats.na.drop()\n",
    "\n",
    "    #attach df_users\n",
    "    big_sumstats = big_sumstats.join(df_users, [big_sumstats['workoutid']==df_users['workoutid']], 'inner')\\\n",
    "        .drop(df_users['workoutid'])\n",
    "    #big_sumstats.show()"
   ]
  },
  {
   "cell_type": "code",
   "execution_count": 70,
   "metadata": {
    "collapsed": false,
    "deletable": true,
    "editable": true
   },
   "outputs": [
    {
     "name": "stdout",
     "output_type": "stream",
     "text": [
      "elapsed_time\n",
      "geo_distance\n",
      "heart_rate\n",
      "speed\n",
      "altitude\n",
      "['max_elapsed_time', 'sum_geo_distance', 'avg_heart_rate', 'avg_speed', 'diff_altitude']\n",
      "time: 272 ms\n"
     ]
    }
   ],
   "source": [
    "#define columns to cluster on (they will be normalized)\n",
    "#cols_to_cluster = ['avg_\"heart_rate\"', 'avg_\"speed\"', 'avg_\"altitude\"']\n",
    "#create summary stats for workouts\n",
    "\n",
    "s_conf = [{'elapsed_time': 'max'}, {'geo_distance': 'sum'}, {'heart_rate':'avg'},\\\n",
    "          {'speed':'avg'}, {'altitude': 'diff'}]\n",
    "\n",
    "obj = SummaryStat(sub_df, summary_conf=s_conf)\n",
    "#obj = SummaryStat(sub_df, summary_conf=s_conf)\n",
    "\n",
    "#obj.describe()\n",
    "sumstats = obj.generate_summary()\n",
    "cols_to_cluster = obj.get_new_col_names()\n",
    "print cols_to_cluster\n",
    "#clusters = cluster_df(sumstats, cols_to_cluster, 5)\n",
    "#clusters.clusterCenters\n",
    "\n",
    "#rid nulls\n",
    "sumstats = sumstats.na.drop()\n",
    "\n",
    "#attach df_users\n",
    "sumstats = sumstats.join(df_users, [sumstats['workoutid']==df_users['workoutid']], 'inner')\\\n",
    "    .drop(df_users['workoutid'])\n",
    "#sumstats.show()"
   ]
  },
  {
   "cell_type": "code",
   "execution_count": 168,
   "metadata": {
    "collapsed": false,
    "deletable": true,
    "editable": true
   },
   "outputs": [
    {
     "name": "stdout",
     "output_type": "stream",
     "text": [
      "time: 54.9 ms\n"
     ]
    }
   ],
   "source": [
    "df = change_type_cols_double(sumstats, cols_to_cluster)\n",
    "big_sumstats = change_type_cols_double(big_sumstats, cols_to_cluster)\n",
    "\n"
   ]
  },
  {
   "cell_type": "code",
   "execution_count": null,
   "metadata": {
    "collapsed": true,
    "deletable": true,
    "editable": true
   },
   "outputs": [],
   "source": [
    "###################go to next################"
   ]
  },
  {
   "cell_type": "code",
   "execution_count": null,
   "metadata": {
    "collapsed": true,
    "deletable": true,
    "editable": true
   },
   "outputs": [],
   "source": []
  },
  {
   "cell_type": "code",
   "execution_count": 169,
   "metadata": {
    "collapsed": false,
    "deletable": true,
    "editable": true
   },
   "outputs": [
    {
     "name": "stdout",
     "output_type": "stream",
     "text": [
      "vectorize done in 0:00:00.113043\n",
      "time: 114 ms\n"
     ]
    }
   ],
   "source": [
    "df2 = vectorize_columns(df, cols_to_cluster)"
   ]
  },
  {
   "cell_type": "code",
   "execution_count": 194,
   "metadata": {
    "collapsed": false,
    "deletable": true,
    "editable": true
   },
   "outputs": [
    {
     "name": "stdout",
     "output_type": "stream",
     "text": [
      "time: 2.97 ms\n"
     ]
    }
   ],
   "source": [
    "from multiprocessing.pool import ThreadPool\n",
    "tpool = ThreadPool(processes=6)"
   ]
  },
  {
   "cell_type": "code",
   "execution_count": 190,
   "metadata": {
    "collapsed": false,
    "deletable": true,
    "editable": true
   },
   "outputs": [
    {
     "name": "stdout",
     "output_type": "stream",
     "text": [
      "------- normalize  max_elapsed_time -------\n",
      "0:00:11.574995\n",
      "0:00:00.033739\n",
      "------- normalize  avg_heart_rate -------\n",
      "0:00:12.414017\n",
      "0:00:00.034486\n",
      "------- normalize  avg_speed -------\n",
      "0:00:11.597243\n",
      "0:00:00.035230\n",
      "------- normalize  diff_altitude -------\n",
      "0:00:12.340202\n",
      "0:00:00.038561\n",
      "time: 48.1 s\n"
     ]
    }
   ],
   "source": [
    "cols_to_cluster = ['max_elapsed_time', 'avg_heart_rate', 'avg_speed', 'diff_altitude']\n",
    "df3, scalerModels = normalize_df(df2, cols_to_cluster,debug= True)\n",
    "#df3.show()"
   ]
  },
  {
   "cell_type": "code",
   "execution_count": 196,
   "metadata": {
    "collapsed": false,
    "deletable": true,
    "editable": true
   },
   "outputs": [
    {
     "name": "stdout",
     "output_type": "stream",
     "text": [
      "time: 7.51 ms\n"
     ]
    }
   ],
   "source": [
    "cols_to_cluster = ['max_elapsed_time', 'avg_heart_rate', 'avg_speed', 'diff_altitude']\n",
    "#art = normalize_df2(df2, cols_to_cluster,debug= True)\n",
    "#df3.show()"
   ]
  },
  {
   "cell_type": "code",
   "execution_count": 188,
   "metadata": {
    "collapsed": false,
    "deletable": true,
    "editable": true
   },
   "outputs": [
    {
     "name": "stdout",
     "output_type": "stream",
     "text": [
      "time: 22.9 ms\n"
     ]
    }
   ],
   "source": [
    "def normalize_col(obj):\n",
    "    col_name = obj[0]\n",
    "    print col_name\n",
    "    df = obj[1]\n",
    "    tmp_col_name = 'tmp'\n",
    "    scaler = scaler_wrapper(inputCol=col_name,outputCol=tmp_col_name,\\\n",
    "                           s_max=1)\n",
    "    scalerModel = scaler.fit(df)\n",
    "    df = scalerModel.transform(df).drop(col_name)\\\n",
    "        .withColumnRenamed(tmp_col_name, col_name)\n",
    "    return df, scaler\n",
    "\n",
    "#   (df, {col_name:scalerModel, col_name:scalerModel,....})\n",
    "def normalize_df2(df, list_cols, scale_dict = {}, debug=False):\n",
    "    tmp_col_name = 'temp'\n",
    "    r_dict = {}\n",
    "    index = 0\n",
    "    arg = zip([d for d in list_cols], [df for i in range(len(list_cols))])\n",
    "    re = tpool.map(normalize_col, arg)\n",
    "    print re\n",
    "#     for col_name in list_cols:\n",
    "#         if debug:\n",
    "#             print '------- normalize ', col_name,'-------'\n",
    "#         a = datetime.now()\n",
    "#         scale_value = 1\n",
    "#         if col_name in scale_dict:\n",
    "#             scale_value = scale_dict[col_name]\n",
    "#             print scale_value\n",
    "#         #scaler is the wrapper instance\n",
    "#         scaler = scaler_wrapper(inputCol=col_name, outputCol=tmp_col_name, s_max = scale_value)\n",
    "#         scalerModel = scaler.fit(df)\n",
    "#         b = datetime.now()\n",
    "#         if debug:\n",
    "#             print b-a\n",
    "#         df = scalerModel.transform(df).drop(col_name)\\\n",
    "#             .withColumnRenamed(tmp_col_name, col_name)\n",
    "#         #r_dict[col_name] = scaler\n",
    "#         r_dict[index] = scaler\n",
    "#         c =datetime.now()\n",
    "#         if debug:\n",
    "#             print c-b\n",
    "#         index+=1\n",
    "#     return df, r_dict"
   ]
  },
  {
   "cell_type": "code",
   "execution_count": 183,
   "metadata": {
    "collapsed": false,
    "deletable": true,
    "editable": true
   },
   "outputs": [
    {
     "ename": "NameError",
     "evalue": "name 'list_cols' is not defined",
     "output_type": "error",
     "traceback": [
      "\u001b[0;31m---------------------------------------------------------------------------\u001b[0m",
      "\u001b[0;31mNameError\u001b[0m                                 Traceback (most recent call last)",
      "\u001b[0;32m<ipython-input-183-0f9a1803bd55>\u001b[0m in \u001b[0;36m<module>\u001b[0;34m()\u001b[0m\n\u001b[0;32m----> 1\u001b[0;31m \u001b[0;32mfor\u001b[0m \u001b[0md\u001b[0m \u001b[0;32min\u001b[0m \u001b[0mlist_cols\u001b[0m\u001b[0;34m:\u001b[0m\u001b[0;34m\u001b[0m\u001b[0m\n\u001b[0m\u001b[1;32m      2\u001b[0m     \u001b[0;32mprint\u001b[0m \u001b[0md\u001b[0m\u001b[0;34m\u001b[0m\u001b[0m\n",
      "\u001b[0;31mNameError\u001b[0m: name 'list_cols' is not defined"
     ]
    },
    {
     "name": "stdout",
     "output_type": "stream",
     "text": [
      "time: 10.4 ms\n"
     ]
    }
   ],
   "source": []
  },
  {
   "cell_type": "code",
   "execution_count": 171,
   "metadata": {
    "collapsed": false,
    "deletable": true,
    "editable": true
   },
   "outputs": [
    {
     "data": {
      "text/plain": [
       "159"
      ]
     },
     "execution_count": 171,
     "metadata": {},
     "output_type": "execute_result"
    },
    {
     "name": "stdout",
     "output_type": "stream",
     "text": [
      "time: 4.87 s\n"
     ]
    }
   ],
   "source": [
    "len(df3.collect())"
   ]
  },
  {
   "cell_type": "code",
   "execution_count": 172,
   "metadata": {
    "collapsed": false,
    "deletable": true,
    "editable": true,
    "scrolled": false
   },
   "outputs": [
    {
     "ename": "KeyboardInterrupt",
     "evalue": "",
     "output_type": "error",
     "traceback": [
      "\u001b[0;31m---------------------------------------------------------------------------\u001b[0m",
      "\u001b[0;31mKeyboardInterrupt\u001b[0m                         Traceback (most recent call last)",
      "\u001b[0;32m<ipython-input-172-2aafada68261>\u001b[0m in \u001b[0;36m<module>\u001b[0;34m()\u001b[0m\n\u001b[0;32m----> 1\u001b[0;31m \u001b[0mr_obj\u001b[0m \u001b[0;34m=\u001b[0m \u001b[0mcluster_summary_df\u001b[0m\u001b[0;34m(\u001b[0m\u001b[0mdf3\u001b[0m\u001b[0;34m,\u001b[0m \u001b[0mcols_to_cluster\u001b[0m\u001b[0;34m,\u001b[0m \u001b[0;36m5\u001b[0m\u001b[0;34m,\u001b[0m \u001b[0minit_var\u001b[0m\u001b[0;34m=\u001b[0m\u001b[0mTrue\u001b[0m\u001b[0;34m)\u001b[0m\u001b[0;34m\u001b[0m\u001b[0m\n\u001b[0m",
      "\u001b[0;32m<ipython-input-94-0932dcfc422e>\u001b[0m in \u001b[0;36mcluster_summary_df\u001b[0;34m(df, cols_to_cluster, num_clusters, init_var, bisectingKMean, debug)\u001b[0m\n\u001b[1;32m    206\u001b[0m \u001b[0;34m\u001b[0m\u001b[0m\n\u001b[1;32m    207\u001b[0m \u001b[0;34m\u001b[0m\u001b[0m\n\u001b[0;32m--> 208\u001b[0;31m     \u001b[0mmodel\u001b[0m \u001b[0;34m=\u001b[0m \u001b[0mkmeans\u001b[0m\u001b[0;34m.\u001b[0m\u001b[0mfit\u001b[0m\u001b[0;34m(\u001b[0m\u001b[0mdf_to_cluster\u001b[0m\u001b[0;34m)\u001b[0m\u001b[0;34m\u001b[0m\u001b[0m\n\u001b[0m\u001b[1;32m    209\u001b[0m \u001b[0;34m\u001b[0m\u001b[0m\n\u001b[1;32m    210\u001b[0m     \u001b[0mb\u001b[0m \u001b[0;34m=\u001b[0m \u001b[0mdatetime\u001b[0m\u001b[0;34m.\u001b[0m\u001b[0mnow\u001b[0m\u001b[0;34m(\u001b[0m\u001b[0;34m)\u001b[0m\u001b[0;34m\u001b[0m\u001b[0m\n",
      "\u001b[0;32m/opt/spark/spark-2.1.0-bin-hadoop2.7/python/pyspark/ml/base.pyc\u001b[0m in \u001b[0;36mfit\u001b[0;34m(self, dataset, params)\u001b[0m\n\u001b[1;32m     62\u001b[0m                 \u001b[0;32mreturn\u001b[0m \u001b[0mself\u001b[0m\u001b[0;34m.\u001b[0m\u001b[0mcopy\u001b[0m\u001b[0;34m(\u001b[0m\u001b[0mparams\u001b[0m\u001b[0;34m)\u001b[0m\u001b[0;34m.\u001b[0m\u001b[0m_fit\u001b[0m\u001b[0;34m(\u001b[0m\u001b[0mdataset\u001b[0m\u001b[0;34m)\u001b[0m\u001b[0;34m\u001b[0m\u001b[0m\n\u001b[1;32m     63\u001b[0m             \u001b[0;32melse\u001b[0m\u001b[0;34m:\u001b[0m\u001b[0;34m\u001b[0m\u001b[0m\n\u001b[0;32m---> 64\u001b[0;31m                 \u001b[0;32mreturn\u001b[0m \u001b[0mself\u001b[0m\u001b[0;34m.\u001b[0m\u001b[0m_fit\u001b[0m\u001b[0;34m(\u001b[0m\u001b[0mdataset\u001b[0m\u001b[0;34m)\u001b[0m\u001b[0;34m\u001b[0m\u001b[0m\n\u001b[0m\u001b[1;32m     65\u001b[0m         \u001b[0;32melse\u001b[0m\u001b[0;34m:\u001b[0m\u001b[0;34m\u001b[0m\u001b[0m\n\u001b[1;32m     66\u001b[0m             raise ValueError(\"Params must be either a param map or a list/tuple of param maps, \"\n",
      "\u001b[0;32m/opt/spark/spark-2.1.0-bin-hadoop2.7/python/pyspark/ml/wrapper.pyc\u001b[0m in \u001b[0;36m_fit\u001b[0;34m(self, dataset)\u001b[0m\n\u001b[1;32m    234\u001b[0m \u001b[0;34m\u001b[0m\u001b[0m\n\u001b[1;32m    235\u001b[0m     \u001b[0;32mdef\u001b[0m \u001b[0m_fit\u001b[0m\u001b[0;34m(\u001b[0m\u001b[0mself\u001b[0m\u001b[0;34m,\u001b[0m \u001b[0mdataset\u001b[0m\u001b[0;34m)\u001b[0m\u001b[0;34m:\u001b[0m\u001b[0;34m\u001b[0m\u001b[0m\n\u001b[0;32m--> 236\u001b[0;31m         \u001b[0mjava_model\u001b[0m \u001b[0;34m=\u001b[0m \u001b[0mself\u001b[0m\u001b[0;34m.\u001b[0m\u001b[0m_fit_java\u001b[0m\u001b[0;34m(\u001b[0m\u001b[0mdataset\u001b[0m\u001b[0;34m)\u001b[0m\u001b[0;34m\u001b[0m\u001b[0m\n\u001b[0m\u001b[1;32m    237\u001b[0m         \u001b[0;32mreturn\u001b[0m \u001b[0mself\u001b[0m\u001b[0;34m.\u001b[0m\u001b[0m_create_model\u001b[0m\u001b[0;34m(\u001b[0m\u001b[0mjava_model\u001b[0m\u001b[0;34m)\u001b[0m\u001b[0;34m\u001b[0m\u001b[0m\n\u001b[1;32m    238\u001b[0m \u001b[0;34m\u001b[0m\u001b[0m\n",
      "\u001b[0;32m/opt/spark/spark-2.1.0-bin-hadoop2.7/python/pyspark/ml/wrapper.pyc\u001b[0m in \u001b[0;36m_fit_java\u001b[0;34m(self, dataset)\u001b[0m\n\u001b[1;32m    231\u001b[0m         \"\"\"\n\u001b[1;32m    232\u001b[0m         \u001b[0mself\u001b[0m\u001b[0;34m.\u001b[0m\u001b[0m_transfer_params_to_java\u001b[0m\u001b[0;34m(\u001b[0m\u001b[0;34m)\u001b[0m\u001b[0;34m\u001b[0m\u001b[0m\n\u001b[0;32m--> 233\u001b[0;31m         \u001b[0;32mreturn\u001b[0m \u001b[0mself\u001b[0m\u001b[0;34m.\u001b[0m\u001b[0m_java_obj\u001b[0m\u001b[0;34m.\u001b[0m\u001b[0mfit\u001b[0m\u001b[0;34m(\u001b[0m\u001b[0mdataset\u001b[0m\u001b[0;34m.\u001b[0m\u001b[0m_jdf\u001b[0m\u001b[0;34m)\u001b[0m\u001b[0;34m\u001b[0m\u001b[0m\n\u001b[0m\u001b[1;32m    234\u001b[0m \u001b[0;34m\u001b[0m\u001b[0m\n\u001b[1;32m    235\u001b[0m     \u001b[0;32mdef\u001b[0m \u001b[0m_fit\u001b[0m\u001b[0;34m(\u001b[0m\u001b[0mself\u001b[0m\u001b[0;34m,\u001b[0m \u001b[0mdataset\u001b[0m\u001b[0;34m)\u001b[0m\u001b[0;34m:\u001b[0m\u001b[0;34m\u001b[0m\u001b[0m\n",
      "\u001b[0;32m/opt/spark/spark-2.1.0-bin-hadoop2.7/python/lib/py4j-0.10.4-src.zip/py4j/java_gateway.py\u001b[0m in \u001b[0;36m__call__\u001b[0;34m(self, *args)\u001b[0m\n\u001b[1;32m   1129\u001b[0m             \u001b[0mproto\u001b[0m\u001b[0;34m.\u001b[0m\u001b[0mEND_COMMAND_PART\u001b[0m\u001b[0;34m\u001b[0m\u001b[0m\n\u001b[1;32m   1130\u001b[0m \u001b[0;34m\u001b[0m\u001b[0m\n\u001b[0;32m-> 1131\u001b[0;31m         \u001b[0manswer\u001b[0m \u001b[0;34m=\u001b[0m \u001b[0mself\u001b[0m\u001b[0;34m.\u001b[0m\u001b[0mgateway_client\u001b[0m\u001b[0;34m.\u001b[0m\u001b[0msend_command\u001b[0m\u001b[0;34m(\u001b[0m\u001b[0mcommand\u001b[0m\u001b[0;34m)\u001b[0m\u001b[0;34m\u001b[0m\u001b[0m\n\u001b[0m\u001b[1;32m   1132\u001b[0m         return_value = get_return_value(\n\u001b[1;32m   1133\u001b[0m             answer, self.gateway_client, self.target_id, self.name)\n",
      "\u001b[0;32m/opt/spark/spark-2.1.0-bin-hadoop2.7/python/lib/py4j-0.10.4-src.zip/py4j/java_gateway.py\u001b[0m in \u001b[0;36msend_command\u001b[0;34m(self, command, retry, binary)\u001b[0m\n\u001b[1;32m    881\u001b[0m         \u001b[0mconnection\u001b[0m \u001b[0;34m=\u001b[0m \u001b[0mself\u001b[0m\u001b[0;34m.\u001b[0m\u001b[0m_get_connection\u001b[0m\u001b[0;34m(\u001b[0m\u001b[0;34m)\u001b[0m\u001b[0;34m\u001b[0m\u001b[0m\n\u001b[1;32m    882\u001b[0m         \u001b[0;32mtry\u001b[0m\u001b[0;34m:\u001b[0m\u001b[0;34m\u001b[0m\u001b[0m\n\u001b[0;32m--> 883\u001b[0;31m             \u001b[0mresponse\u001b[0m \u001b[0;34m=\u001b[0m \u001b[0mconnection\u001b[0m\u001b[0;34m.\u001b[0m\u001b[0msend_command\u001b[0m\u001b[0;34m(\u001b[0m\u001b[0mcommand\u001b[0m\u001b[0;34m)\u001b[0m\u001b[0;34m\u001b[0m\u001b[0m\n\u001b[0m\u001b[1;32m    884\u001b[0m             \u001b[0;32mif\u001b[0m \u001b[0mbinary\u001b[0m\u001b[0;34m:\u001b[0m\u001b[0;34m\u001b[0m\u001b[0m\n\u001b[1;32m    885\u001b[0m                 \u001b[0;32mreturn\u001b[0m \u001b[0mresponse\u001b[0m\u001b[0;34m,\u001b[0m \u001b[0mself\u001b[0m\u001b[0;34m.\u001b[0m\u001b[0m_create_connection_guard\u001b[0m\u001b[0;34m(\u001b[0m\u001b[0mconnection\u001b[0m\u001b[0;34m)\u001b[0m\u001b[0;34m\u001b[0m\u001b[0m\n",
      "\u001b[0;32m/opt/spark/spark-2.1.0-bin-hadoop2.7/python/lib/py4j-0.10.4-src.zip/py4j/java_gateway.py\u001b[0m in \u001b[0;36msend_command\u001b[0;34m(self, command)\u001b[0m\n\u001b[1;32m   1026\u001b[0m \u001b[0;34m\u001b[0m\u001b[0m\n\u001b[1;32m   1027\u001b[0m         \u001b[0;32mtry\u001b[0m\u001b[0;34m:\u001b[0m\u001b[0;34m\u001b[0m\u001b[0m\n\u001b[0;32m-> 1028\u001b[0;31m             \u001b[0manswer\u001b[0m \u001b[0;34m=\u001b[0m \u001b[0msmart_decode\u001b[0m\u001b[0;34m(\u001b[0m\u001b[0mself\u001b[0m\u001b[0;34m.\u001b[0m\u001b[0mstream\u001b[0m\u001b[0;34m.\u001b[0m\u001b[0mreadline\u001b[0m\u001b[0;34m(\u001b[0m\u001b[0;34m)\u001b[0m\u001b[0;34m[\u001b[0m\u001b[0;34m:\u001b[0m\u001b[0;34m-\u001b[0m\u001b[0;36m1\u001b[0m\u001b[0;34m]\u001b[0m\u001b[0;34m)\u001b[0m\u001b[0;34m\u001b[0m\u001b[0m\n\u001b[0m\u001b[1;32m   1029\u001b[0m             \u001b[0mlogger\u001b[0m\u001b[0;34m.\u001b[0m\u001b[0mdebug\u001b[0m\u001b[0;34m(\u001b[0m\u001b[0;34m\"Answer received: {0}\"\u001b[0m\u001b[0;34m.\u001b[0m\u001b[0mformat\u001b[0m\u001b[0;34m(\u001b[0m\u001b[0manswer\u001b[0m\u001b[0;34m)\u001b[0m\u001b[0;34m)\u001b[0m\u001b[0;34m\u001b[0m\u001b[0m\n\u001b[1;32m   1030\u001b[0m             \u001b[0;32mif\u001b[0m \u001b[0manswer\u001b[0m\u001b[0;34m.\u001b[0m\u001b[0mstartswith\u001b[0m\u001b[0;34m(\u001b[0m\u001b[0mproto\u001b[0m\u001b[0;34m.\u001b[0m\u001b[0mRETURN_MESSAGE\u001b[0m\u001b[0;34m)\u001b[0m\u001b[0;34m:\u001b[0m\u001b[0;34m\u001b[0m\u001b[0m\n",
      "\u001b[0;32m/usr/lib/python2.7/socket.pyc\u001b[0m in \u001b[0;36mreadline\u001b[0;34m(self, size)\u001b[0m\n\u001b[1;32m    449\u001b[0m             \u001b[0;32mwhile\u001b[0m \u001b[0mTrue\u001b[0m\u001b[0;34m:\u001b[0m\u001b[0;34m\u001b[0m\u001b[0m\n\u001b[1;32m    450\u001b[0m                 \u001b[0;32mtry\u001b[0m\u001b[0;34m:\u001b[0m\u001b[0;34m\u001b[0m\u001b[0m\n\u001b[0;32m--> 451\u001b[0;31m                     \u001b[0mdata\u001b[0m \u001b[0;34m=\u001b[0m \u001b[0mself\u001b[0m\u001b[0;34m.\u001b[0m\u001b[0m_sock\u001b[0m\u001b[0;34m.\u001b[0m\u001b[0mrecv\u001b[0m\u001b[0;34m(\u001b[0m\u001b[0mself\u001b[0m\u001b[0;34m.\u001b[0m\u001b[0m_rbufsize\u001b[0m\u001b[0;34m)\u001b[0m\u001b[0;34m\u001b[0m\u001b[0m\n\u001b[0m\u001b[1;32m    452\u001b[0m                 \u001b[0;32mexcept\u001b[0m \u001b[0merror\u001b[0m\u001b[0;34m,\u001b[0m \u001b[0me\u001b[0m\u001b[0;34m:\u001b[0m\u001b[0;34m\u001b[0m\u001b[0m\n\u001b[1;32m    453\u001b[0m                     \u001b[0;32mif\u001b[0m \u001b[0me\u001b[0m\u001b[0;34m.\u001b[0m\u001b[0margs\u001b[0m\u001b[0;34m[\u001b[0m\u001b[0;36m0\u001b[0m\u001b[0;34m]\u001b[0m \u001b[0;34m==\u001b[0m \u001b[0mEINTR\u001b[0m\u001b[0;34m:\u001b[0m\u001b[0;34m\u001b[0m\u001b[0m\n",
      "\u001b[0;31mKeyboardInterrupt\u001b[0m: "
     ]
    },
    {
     "name": "stdout",
     "output_type": "stream",
     "text": [
      "time: 41 s\n"
     ]
    }
   ],
   "source": [
    "r_obj = cluster_summary_df(df3, cols_to_cluster, 5, init_var=True)"
   ]
  },
  {
   "cell_type": "code",
   "execution_count": 143,
   "metadata": {
    "collapsed": false,
    "deletable": true,
    "editable": true
   },
   "outputs": [
    {
     "data": {
      "text/plain": [
       "36"
      ]
     },
     "execution_count": 143,
     "metadata": {},
     "output_type": "execute_result"
    },
    {
     "name": "stdout",
     "output_type": "stream",
     "text": [
      "time: 1.59 s\n"
     ]
    }
   ],
   "source": [
    "len(r_obj[1].collect())"
   ]
  },
  {
   "cell_type": "code",
   "execution_count": 49,
   "metadata": {
    "collapsed": false,
    "deletable": true,
    "editable": true
   },
   "outputs": [
    {
     "name": "stdout",
     "output_type": "stream",
     "text": [
      "clustering times\n",
      "0:00:00.003325\n",
      "0:00:10.230032\n",
      "time: 11.5 s\n"
     ]
    }
   ],
   "source": [
    "##output:\n",
    "#   [0]: KMeanModel\n",
    "#   [1]: DF that was clustered (normalized)\n",
    "#   [2]: ScalerModels\n",
    "#   [3]: error\n",
    "#r_obj = cluster_summary_df(df3, cols_to_cluster, 10, init_var=True)"
   ]
  },
  {
   "cell_type": "markdown",
   "metadata": {
    "deletable": true,
    "editable": true
   },
   "source": [
    "# clustering based on route info, then in those clusters, cluster based on performance metrics"
   ]
  },
  {
   "cell_type": "code",
   "execution_count": 75,
   "metadata": {
    "collapsed": false,
    "deletable": true,
    "editable": true
   },
   "outputs": [
    {
     "name": "stdout",
     "output_type": "stream",
     "text": [
      "time: 3.8 ms\n"
     ]
    }
   ],
   "source": [
    "#sub_df = df_runs.limit(1000)\n",
    "sub_df = df_runs.limit(100000)"
   ]
  },
  {
   "cell_type": "code",
   "execution_count": 77,
   "metadata": {
    "collapsed": false,
    "deletable": true,
    "editable": true
   },
   "outputs": [
    {
     "data": {
      "text/plain": [
       "['altitude',\n",
       " 'heart_rate',\n",
       " 'latitude',\n",
       " 'longitude',\n",
       " 'speed',\n",
       " 'workoutid',\n",
       " 'time',\n",
       " 'altitude_first',\n",
       " 'altitude_second',\n",
       " 'speed_first',\n",
       " 'elapsed_distance',\n",
       " 'elapsed_time',\n",
       " 'heart_rate_ma_25',\n",
       " 'speed_ma_50',\n",
       " 'speed_ma_100']"
      ]
     },
     "execution_count": 77,
     "metadata": {},
     "output_type": "execute_result"
    },
    {
     "name": "stdout",
     "output_type": "stream",
     "text": [
      "time: 3.46 ms\n"
     ]
    }
   ],
   "source": [
    "sub_df.schema.names"
   ]
  },
  {
   "cell_type": "code",
   "execution_count": 78,
   "metadata": {
    "collapsed": false,
    "deletable": true,
    "editable": true
   },
   "outputs": [
    {
     "data": {
      "text/plain": [
       "['gender',\n",
       " 'workoutid',\n",
       " 'userid',\n",
       " 'start_time',\n",
       " 'start_altitude',\n",
       " 'start_latitude',\n",
       " 'start_longitude',\n",
       " 'series_length',\n",
       " 'series_time_delta',\n",
       " 'series_time_delta_average',\n",
       " 'timezone',\n",
       " 'id',\n",
       " 'altitude_max',\n",
       " 'altitude_min',\n",
       " 'calories',\n",
       " 'distance',\n",
       " 'duration',\n",
       " 'heart_rate_avg',\n",
       " 'heart_rate_max',\n",
       " 'hydration',\n",
       " 'speed_avg',\n",
       " 'speed_max',\n",
       " 'humidity',\n",
       " 'temperature',\n",
       " 'wind_speed',\n",
       " 'geo_distance']"
      ]
     },
     "execution_count": 78,
     "metadata": {},
     "output_type": "execute_result"
    },
    {
     "name": "stdout",
     "output_type": "stream",
     "text": [
      "time: 8.85 ms\n"
     ]
    }
   ],
   "source": [
    "df_users.schema.names"
   ]
  },
  {
   "cell_type": "code",
   "execution_count": 76,
   "metadata": {
    "collapsed": false,
    "deletable": true,
    "editable": true
   },
   "outputs": [
    {
     "name": "stdout",
     "output_type": "stream",
     "text": [
      "elapsed_time\n",
      "generate stat for  elapsed_time  took  0:00:00.019971\n",
      "geo_distance\n"
     ]
    },
    {
     "ename": "AnalysisException",
     "evalue": "u\"cannot resolve '`geo_distance`' given input columns: [elapsed_time, altitude_first, latitude, speed_ma_50, time, longitude, altitude, heart_rate, speed, workoutid, speed_ma_100, speed_first, altitude_second, elapsed_distance, heart_rate_ma_25];;\\n'Project ['geo_distance, workoutid#3657, sum('geo_distance) windowspecdefinition(workoutid#3657, UnspecifiedFrame) AS sum_geo_distance#3793]\\n+- GlobalLimit 100000\\n   +- LocalLimit 100000\\n      +- Relation[altitude#3652,heart_rate#3653,latitude#3654,longitude#3655,speed#3656,workoutid#3657,time#3658,altitude_first#3659,altitude_second#3660,speed_first#3661,elapsed_distance#3662,elapsed_time#3663,heart_rate_ma_25#3664,speed_ma_50#3665,speed_ma_100#3666] JDBCRelation(run) [numPartitions=1]\\n\"",
     "output_type": "error",
     "traceback": [
      "\u001b[0;31m---------------------------------------------------------------------------\u001b[0m",
      "\u001b[0;31mAnalysisException\u001b[0m                         Traceback (most recent call last)",
      "\u001b[0;32m<ipython-input-76-d2a998028f39>\u001b[0m in \u001b[0;36m<module>\u001b[0;34m()\u001b[0m\n\u001b[1;32m      8\u001b[0m \u001b[0;34m\u001b[0m\u001b[0m\n\u001b[1;32m      9\u001b[0m \u001b[0;31m#obj.describe()\u001b[0m\u001b[0;34m\u001b[0m\u001b[0;34m\u001b[0m\u001b[0m\n\u001b[0;32m---> 10\u001b[0;31m \u001b[0mrout_stats\u001b[0m \u001b[0;34m=\u001b[0m \u001b[0mobj\u001b[0m\u001b[0;34m.\u001b[0m\u001b[0mgenerate_summary\u001b[0m\u001b[0;34m(\u001b[0m\u001b[0mdebug\u001b[0m\u001b[0;34m=\u001b[0m\u001b[0mTrue\u001b[0m\u001b[0;34m)\u001b[0m\u001b[0;34m\u001b[0m\u001b[0m\n\u001b[0m\u001b[1;32m     11\u001b[0m \u001b[0mcols_to_cluster\u001b[0m \u001b[0;34m=\u001b[0m \u001b[0mobj\u001b[0m\u001b[0;34m.\u001b[0m\u001b[0mget_new_col_names\u001b[0m\u001b[0;34m(\u001b[0m\u001b[0;34m)\u001b[0m\u001b[0;34m\u001b[0m\u001b[0m\n\u001b[1;32m     12\u001b[0m \u001b[0;32mprint\u001b[0m \u001b[0mcols_to_cluster\u001b[0m\u001b[0;34m\u001b[0m\u001b[0m\n",
      "\u001b[0;32m<ipython-input-52-8bfc688f86d4>\u001b[0m in \u001b[0;36mgenerate_summary\u001b[0;34m(self, debug)\u001b[0m\n\u001b[1;32m     61\u001b[0m             \u001b[0;32mif\u001b[0m \u001b[0maggregation_type\u001b[0m \u001b[0;34m==\u001b[0m \u001b[0;34m'sum'\u001b[0m\u001b[0;34m:\u001b[0m\u001b[0;34m\u001b[0m\u001b[0m\n\u001b[1;32m     62\u001b[0m                 \u001b[0mnew_col_name\u001b[0m \u001b[0;34m=\u001b[0m \u001b[0maggregation_type\u001b[0m \u001b[0;34m+\u001b[0m \u001b[0;34m'_'\u001b[0m \u001b[0;34m+\u001b[0m \u001b[0mcol_name\u001b[0m\u001b[0;34m\u001b[0m\u001b[0m\n\u001b[0;32m---> 63\u001b[0;31m                 \u001b[0mtmp\u001b[0m \u001b[0;34m=\u001b[0m \u001b[0mself\u001b[0m\u001b[0;34m.\u001b[0m\u001b[0mdata_points\u001b[0m\u001b[0;34m.\u001b[0m\u001b[0mselect\u001b[0m\u001b[0;34m(\u001b[0m\u001b[0mcol_name\u001b[0m\u001b[0;34m,\u001b[0m \u001b[0mself\u001b[0m\u001b[0;34m.\u001b[0m\u001b[0mpartition_name\u001b[0m\u001b[0;34m,\u001b[0m                                        \u001b[0msum\u001b[0m\u001b[0;34m(\u001b[0m\u001b[0mcol_name\u001b[0m\u001b[0;34m)\u001b[0m\u001b[0;34m.\u001b[0m\u001b[0mover\u001b[0m\u001b[0;34m(\u001b[0m\u001b[0mw\u001b[0m\u001b[0;34m)\u001b[0m\u001b[0;34m.\u001b[0m\u001b[0malias\u001b[0m\u001b[0;34m(\u001b[0m\u001b[0mnew_col_name\u001b[0m\u001b[0;34m)\u001b[0m                                            \u001b[0;34m)\u001b[0m\u001b[0;34m\u001b[0m\u001b[0m\n\u001b[0m\u001b[1;32m     64\u001b[0m                 \u001b[0mr_list_cols\u001b[0m\u001b[0;34m.\u001b[0m\u001b[0mappend\u001b[0m\u001b[0;34m(\u001b[0m\u001b[0mtmp\u001b[0m\u001b[0;34m[\u001b[0m\u001b[0;34m[\u001b[0m\u001b[0mnew_col_name\u001b[0m\u001b[0;34m,\u001b[0m \u001b[0mself\u001b[0m\u001b[0;34m.\u001b[0m\u001b[0mpartition_name\u001b[0m\u001b[0;34m]\u001b[0m\u001b[0;34m]\u001b[0m\u001b[0;34m.\u001b[0m\u001b[0mdistinct\u001b[0m\u001b[0;34m(\u001b[0m\u001b[0;34m)\u001b[0m\u001b[0;34m)\u001b[0m\u001b[0;34m\u001b[0m\u001b[0m\n\u001b[1;32m     65\u001b[0m                 \u001b[0mself\u001b[0m\u001b[0;34m.\u001b[0m\u001b[0mnew_col_names\u001b[0m\u001b[0;34m.\u001b[0m\u001b[0mappend\u001b[0m\u001b[0;34m(\u001b[0m\u001b[0mnew_col_name\u001b[0m\u001b[0;34m)\u001b[0m\u001b[0;34m\u001b[0m\u001b[0m\n",
      "\u001b[0;32m/opt/spark/spark-2.1.0-bin-hadoop2.7/python/pyspark/sql/dataframe.pyc\u001b[0m in \u001b[0;36mselect\u001b[0;34m(self, *cols)\u001b[0m\n\u001b[1;32m    982\u001b[0m         \u001b[0;34m[\u001b[0m\u001b[0mRow\u001b[0m\u001b[0;34m(\u001b[0m\u001b[0mname\u001b[0m\u001b[0;34m=\u001b[0m\u001b[0;34mu'Alice'\u001b[0m\u001b[0;34m,\u001b[0m \u001b[0mage\u001b[0m\u001b[0;34m=\u001b[0m\u001b[0;36m12\u001b[0m\u001b[0;34m)\u001b[0m\u001b[0;34m,\u001b[0m \u001b[0mRow\u001b[0m\u001b[0;34m(\u001b[0m\u001b[0mname\u001b[0m\u001b[0;34m=\u001b[0m\u001b[0;34mu'Bob'\u001b[0m\u001b[0;34m,\u001b[0m \u001b[0mage\u001b[0m\u001b[0;34m=\u001b[0m\u001b[0;36m15\u001b[0m\u001b[0;34m)\u001b[0m\u001b[0;34m]\u001b[0m\u001b[0;34m\u001b[0m\u001b[0m\n\u001b[1;32m    983\u001b[0m         \"\"\"\n\u001b[0;32m--> 984\u001b[0;31m         \u001b[0mjdf\u001b[0m \u001b[0;34m=\u001b[0m \u001b[0mself\u001b[0m\u001b[0;34m.\u001b[0m\u001b[0m_jdf\u001b[0m\u001b[0;34m.\u001b[0m\u001b[0mselect\u001b[0m\u001b[0;34m(\u001b[0m\u001b[0mself\u001b[0m\u001b[0;34m.\u001b[0m\u001b[0m_jcols\u001b[0m\u001b[0;34m(\u001b[0m\u001b[0;34m*\u001b[0m\u001b[0mcols\u001b[0m\u001b[0;34m)\u001b[0m\u001b[0;34m)\u001b[0m\u001b[0;34m\u001b[0m\u001b[0m\n\u001b[0m\u001b[1;32m    985\u001b[0m         \u001b[0;32mreturn\u001b[0m \u001b[0mDataFrame\u001b[0m\u001b[0;34m(\u001b[0m\u001b[0mjdf\u001b[0m\u001b[0;34m,\u001b[0m \u001b[0mself\u001b[0m\u001b[0;34m.\u001b[0m\u001b[0msql_ctx\u001b[0m\u001b[0;34m)\u001b[0m\u001b[0;34m\u001b[0m\u001b[0m\n\u001b[1;32m    986\u001b[0m \u001b[0;34m\u001b[0m\u001b[0m\n",
      "\u001b[0;32m/opt/spark/spark-2.1.0-bin-hadoop2.7/python/lib/py4j-0.10.4-src.zip/py4j/java_gateway.py\u001b[0m in \u001b[0;36m__call__\u001b[0;34m(self, *args)\u001b[0m\n\u001b[1;32m   1131\u001b[0m         \u001b[0manswer\u001b[0m \u001b[0;34m=\u001b[0m \u001b[0mself\u001b[0m\u001b[0;34m.\u001b[0m\u001b[0mgateway_client\u001b[0m\u001b[0;34m.\u001b[0m\u001b[0msend_command\u001b[0m\u001b[0;34m(\u001b[0m\u001b[0mcommand\u001b[0m\u001b[0;34m)\u001b[0m\u001b[0;34m\u001b[0m\u001b[0m\n\u001b[1;32m   1132\u001b[0m         return_value = get_return_value(\n\u001b[0;32m-> 1133\u001b[0;31m             answer, self.gateway_client, self.target_id, self.name)\n\u001b[0m\u001b[1;32m   1134\u001b[0m \u001b[0;34m\u001b[0m\u001b[0m\n\u001b[1;32m   1135\u001b[0m         \u001b[0;32mfor\u001b[0m \u001b[0mtemp_arg\u001b[0m \u001b[0;32min\u001b[0m \u001b[0mtemp_args\u001b[0m\u001b[0;34m:\u001b[0m\u001b[0;34m\u001b[0m\u001b[0m\n",
      "\u001b[0;32m/opt/spark/spark-2.1.0-bin-hadoop2.7/python/pyspark/sql/utils.pyc\u001b[0m in \u001b[0;36mdeco\u001b[0;34m(*a, **kw)\u001b[0m\n\u001b[1;32m     67\u001b[0m                                              e.java_exception.getStackTrace()))\n\u001b[1;32m     68\u001b[0m             \u001b[0;32mif\u001b[0m \u001b[0ms\u001b[0m\u001b[0;34m.\u001b[0m\u001b[0mstartswith\u001b[0m\u001b[0;34m(\u001b[0m\u001b[0;34m'org.apache.spark.sql.AnalysisException: '\u001b[0m\u001b[0;34m)\u001b[0m\u001b[0;34m:\u001b[0m\u001b[0;34m\u001b[0m\u001b[0m\n\u001b[0;32m---> 69\u001b[0;31m                 \u001b[0;32mraise\u001b[0m \u001b[0mAnalysisException\u001b[0m\u001b[0;34m(\u001b[0m\u001b[0ms\u001b[0m\u001b[0;34m.\u001b[0m\u001b[0msplit\u001b[0m\u001b[0;34m(\u001b[0m\u001b[0;34m': '\u001b[0m\u001b[0;34m,\u001b[0m \u001b[0;36m1\u001b[0m\u001b[0;34m)\u001b[0m\u001b[0;34m[\u001b[0m\u001b[0;36m1\u001b[0m\u001b[0;34m]\u001b[0m\u001b[0;34m,\u001b[0m \u001b[0mstackTrace\u001b[0m\u001b[0;34m)\u001b[0m\u001b[0;34m\u001b[0m\u001b[0m\n\u001b[0m\u001b[1;32m     70\u001b[0m             \u001b[0;32mif\u001b[0m \u001b[0ms\u001b[0m\u001b[0;34m.\u001b[0m\u001b[0mstartswith\u001b[0m\u001b[0;34m(\u001b[0m\u001b[0;34m'org.apache.spark.sql.catalyst.analysis'\u001b[0m\u001b[0;34m)\u001b[0m\u001b[0;34m:\u001b[0m\u001b[0;34m\u001b[0m\u001b[0m\n\u001b[1;32m     71\u001b[0m                 \u001b[0;32mraise\u001b[0m \u001b[0mAnalysisException\u001b[0m\u001b[0;34m(\u001b[0m\u001b[0ms\u001b[0m\u001b[0;34m.\u001b[0m\u001b[0msplit\u001b[0m\u001b[0;34m(\u001b[0m\u001b[0;34m': '\u001b[0m\u001b[0;34m,\u001b[0m \u001b[0;36m1\u001b[0m\u001b[0;34m)\u001b[0m\u001b[0;34m[\u001b[0m\u001b[0;36m1\u001b[0m\u001b[0;34m]\u001b[0m\u001b[0;34m,\u001b[0m \u001b[0mstackTrace\u001b[0m\u001b[0;34m)\u001b[0m\u001b[0;34m\u001b[0m\u001b[0m\n",
      "\u001b[0;31mAnalysisException\u001b[0m: u\"cannot resolve '`geo_distance`' given input columns: [elapsed_time, altitude_first, latitude, speed_ma_50, time, longitude, altitude, heart_rate, speed, workoutid, speed_ma_100, speed_first, altitude_second, elapsed_distance, heart_rate_ma_25];;\\n'Project ['geo_distance, workoutid#3657, sum('geo_distance) windowspecdefinition(workoutid#3657, UnspecifiedFrame) AS sum_geo_distance#3793]\\n+- GlobalLimit 100000\\n   +- LocalLimit 100000\\n      +- Relation[altitude#3652,heart_rate#3653,latitude#3654,longitude#3655,speed#3656,workoutid#3657,time#3658,altitude_first#3659,altitude_second#3660,speed_first#3661,elapsed_distance#3662,elapsed_time#3663,heart_rate_ma_25#3664,speed_ma_50#3665,speed_ma_100#3666] JDBCRelation(run) [numPartitions=1]\\n\""
     ]
    },
    {
     "name": "stdout",
     "output_type": "stream",
     "text": [
      "time: 74.7 ms\n"
     ]
    }
   ],
   "source": [
    "#create summary stat as usual\n",
    "\n",
    "s_conf = [{'elapsed_time': 'max'}, {'geo_distance': 'sum'}, {'heart_rate':'avg'},\\\n",
    "           {'speed':'avg'}, {'altitude': 'diff'}]\n",
    "\n",
    "\n",
    "#s_conf = [{'geo_distance': 'sum'}, {'altitude': 'diff'}]\n",
    "obj = SummaryStat(sub_df, summary_conf=s_conf)\n",
    "#obj = SummaryStat(sub_df, summary_conf=s_conf)\n",
    "\n",
    "#obj.describe()\n",
    "rout_stats = obj.generate_summary(debug=True)\n",
    "cols_to_cluster = obj.get_new_col_names()\n",
    "print cols_to_cluster\n",
    "#clusters = cluster_df(sumstats, cols_to_cluster, 5)\n",
    "#clusters.clusterCenters\n",
    "\n",
    "#rid nulls\n",
    "rout_stats = rout_stats.na.drop()\n",
    "\n",
    "#attach df_users\n",
    "a = datetime.now()\n",
    "rout_stats = rout_stats.join(df_users, [rout_stats['workoutid']==df_users['workoutid']], 'inner')\\\n",
    "    .drop(df_users['workoutid'])\n",
    "b = datetime.now()\n",
    "print b-a ,'join time'\n",
    "#rout_stats.show()"
   ]
  },
  {
   "cell_type": "code",
   "execution_count": 97,
   "metadata": {
    "collapsed": false,
    "deletable": true,
    "editable": true
   },
   "outputs": [
    {
     "name": "stdout",
     "output_type": "stream",
     "text": [
      "vectorize done in 0:00:00.034810\n",
      "time: 50.5 ms\n"
     ]
    }
   ],
   "source": [
    "#test\n",
    "route_cols = ['diff_altitude', 'sum_geo_distance']\n",
    "\n",
    "df = change_type_cols_double(rout_stats, route_cols)\n",
    "df = vectorize_columns(df, route_cols, debug=True)"
   ]
  },
  {
   "cell_type": "code",
   "execution_count": 98,
   "metadata": {
    "collapsed": false,
    "deletable": true,
    "editable": true
   },
   "outputs": [
    {
     "name": "stdout",
     "output_type": "stream",
     "text": [
      "time: 9.14 ms\n"
     ]
    }
   ],
   "source": [
    "# def normalize_df2(df, list_cols, scale_dict = {}, debug=False):\n",
    "#     tmp_col_name = 'temp'\n",
    "#     r_dict = {}\n",
    "#     index = 0\n",
    "#     for col_name in list_cols:\n",
    "#         if debug:\n",
    "#             print '------- normalize ', col_name,'-------'\n",
    "#         a = datetime.now()\n",
    "#         scale_value = 1\n",
    "#         if col_name in scale_dict:\n",
    "#             scale_value = scale_dict[col_name]\n",
    "#             print scale_value\n",
    "#         #scaler is the wrapper instance\n",
    "#         scaler = scaler_wrapper(inputCol=col_name, outputCol=tmp_col_name, s_max = scale_value)\n",
    "#         scalerModel = scaler.fit(df)\n",
    "#         b = datetime.now()\n",
    "#         if debug:\n",
    "#             print b-a\n",
    "#         df = scalerModel.transform(df).drop(col_name)\\\n",
    "#             .withColumnRenamed(tmp_col_name, col_name)\n",
    "#         #r_dict[col_name] = scaler\n",
    "#         r_dict[index] = scaler\n",
    "#         c =datetime.now()\n",
    "#         if debug:\n",
    "#             print c-b\n",
    "#         index+=1\n",
    "#     return df, r_dict\n",
    "\n",
    "\n",
    "# def normalize_df3(df, list_cols, scale_dict = {}, debug=False):\n",
    "#     tmp_col_name = 'temp'\n",
    "#     r_dict = {}\n",
    "#     index = 0\n",
    "#     list_sw = []\n",
    "#     for col_name in list_cols:\n",
    "#         if debug:\n",
    "#             print '------- normalize ', col_name,'-------'\n",
    "#         a = datetime.now()\n",
    "#         scale_value = 1\n",
    "#         if col_name in scale_dict:\n",
    "#             scale_value = scale_dict[col_name]\n",
    "#             print scale_value\n",
    "#         #scaler is the wrapper instance\n",
    "#         scaler = mmscaler_wrapper(inputCol=col_name, outputCol=tmp_col_name, s_max = scale_value)\n",
    "#         list_sw.append(scaler)\n",
    "    \n",
    "#     sw_rdd2 = sc.parallelize(list_cols)\n",
    "#     print sw_rdd2.map(lambda r: apply_function(df, r)).collect()\n",
    "    \n",
    "\n",
    "        \n",
    "        \n",
    "        \n",
    "# #         #do the fit part in rdd\n",
    "# #         scalerModel = scaler.fit(df)\n",
    "# #         b = datetime.now()\n",
    "# #         if debug:\n",
    "# #             print b-a\n",
    "# #         df = scalerModel.transform(df).drop(col_name)\\\n",
    "# #             .withColumnRenamed(tmp_col_name, col_name)\n",
    "# #         #r_dict[col_name] = scaler\n",
    "# #         r_dict[index] = scaler\n",
    "# #         c =datetime.now()\n",
    "# #         if debug:\n",
    "# #             print c-b\n",
    "# #         index+=1\n",
    "#     return df, r_dict\n",
    "\n",
    "\n",
    "# def apply_function(df, col_name):\n",
    "#     scaler = mmscaler_wrapper(inputCol=col_name, outputCol='tmp', s_max = 1.0)\n",
    "#     scalerModel = scaler.fit(df)\n",
    "    "
   ]
  },
  {
   "cell_type": "code",
   "execution_count": 99,
   "metadata": {
    "collapsed": false,
    "deletable": true,
    "editable": true
   },
   "outputs": [
    {
     "name": "stdout",
     "output_type": "stream",
     "text": [
      "time: 19.2 ms\n"
     ]
    }
   ],
   "source": [
    "\n",
    "# df, scalerModels = normalize_df3(df, route_cols, debug=True)\n",
    "\n",
    "\n"
   ]
  },
  {
   "cell_type": "code",
   "execution_count": 101,
   "metadata": {
    "collapsed": false,
    "deletable": true,
    "editable": true
   },
   "outputs": [
    {
     "name": "stdout",
     "output_type": "stream",
     "text": [
      "vectorize done in 0:00:00.041481\n",
      "------- normalize  diff_altitude -------\n",
      "0:00:57.329570\n",
      "0:00:00.033138\n",
      "------- normalize  sum_geo_distance -------\n",
      "0:00:41.308670\n",
      "0:00:00.033781\n",
      "clustering in  0:09:34.817818\n",
      "done ['diff_altitude', 'sum_geo_distance']\n",
      "time: 11min 13s\n"
     ]
    }
   ],
   "source": [
    "#cluster here, with twice the emphasis on speed\n",
    "scale_dict = {}\n",
    "route_cols = ['diff_altitude', 'sum_geo_distance']\n",
    "#scale_dict['avg_speed']=2\n",
    "r_obj = cluster_df(rout_stats, route_cols, 5, init_var=True, scale_dict = scale_dict, bisectingKMean=True,\\\n",
    "                  debug=True)\n",
    "print 'done', route_cols"
   ]
  },
  {
   "cell_type": "code",
   "execution_count": 102,
   "metadata": {
    "collapsed": false,
    "deletable": true,
    "editable": true
   },
   "outputs": [
    {
     "name": "stdout",
     "output_type": "stream",
     "text": [
      "time: 2.24 ms\n"
     ]
    }
   ],
   "source": [
    "route_kmodel = r_obj[0]\n",
    "route_df = r_obj[1]\n",
    "route_scalerModels = r_obj[2]"
   ]
  },
  {
   "cell_type": "code",
   "execution_count": null,
   "metadata": {
    "collapsed": true,
    "deletable": true,
    "editable": true
   },
   "outputs": [],
   "source": [
    "#######################check if routes make sense"
   ]
  },
  {
   "cell_type": "code",
   "execution_count": 157,
   "metadata": {
    "collapsed": false,
    "deletable": true,
    "editable": true
   },
   "outputs": [
    {
     "name": "stdout",
     "output_type": "stream",
     "text": [
      "time: 20.1 s\n"
     ]
    }
   ],
   "source": [
    "route_prediction_df = route_kmodel.transform(route_df)\n",
    "distinct_clusters = route_prediction_df.select('prediction').distinct().collect()\n",
    "route_prediction_df = route_prediction_df.withColumnRenamed('prediction', 'route_prediction')\n",
    "route_prediction_df = route_prediction_df.withColumnRenamed('features', 'route_features')\n",
    "\n"
   ]
  },
  {
   "cell_type": "code",
   "execution_count": 158,
   "metadata": {
    "collapsed": false,
    "deletable": true,
    "editable": true
   },
   "outputs": [
    {
     "name": "stdout",
     "output_type": "stream",
     "text": [
      "+----------------+-----+\n",
      "|route_prediction|count|\n",
      "+----------------+-----+\n",
      "|               1|  255|\n",
      "|               3|   98|\n",
      "|               4|   14|\n",
      "|               2|  173|\n",
      "|               0|  801|\n",
      "+----------------+-----+\n",
      "\n",
      "time: 39.3 s\n"
     ]
    }
   ],
   "source": [
    "route_prediction_df.groupBy('route_prediction').count().show()\n",
    "route_prediction_df = fix_df(route_prediction_df)"
   ]
  },
  {
   "cell_type": "code",
   "execution_count": 159,
   "metadata": {
    "collapsed": false,
    "deletable": true,
    "editable": true
   },
   "outputs": [
    {
     "data": {
      "text/plain": [
       "[array([ 0.03647154,  0.00633203]),\n",
       " array([ 0.03775015,  0.02866293]),\n",
       " array([ 0.04249181,  0.08136524]),\n",
       " array([ 0.04030573,  0.2396205 ]),\n",
       " array([ 0.03707351,  0.56071872])]"
      ]
     },
     "execution_count": 159,
     "metadata": {},
     "output_type": "execute_result"
    },
    {
     "name": "stdout",
     "output_type": "stream",
     "text": [
      "time: 17.6 ms\n"
     ]
    }
   ],
   "source": [
    "route_kmodel.clusterCenters()"
   ]
  },
  {
   "cell_type": "code",
   "execution_count": 160,
   "metadata": {
    "collapsed": false,
    "deletable": true,
    "editable": true
   },
   "outputs": [
    {
     "data": {
      "text/plain": [
       "[[17.370037453183556, 0.0033895760563046181],\n",
       " [34.638431372549292, 0.015343436932156869],\n",
       " [98.677456647398799, 0.043555301443352588],\n",
       " [69.153061224489761, 0.12827029226020409],\n",
       " [25.5, 0.30015610317857139]]"
      ]
     },
     "execution_count": 160,
     "metadata": {},
     "output_type": "execute_result"
    },
    {
     "name": "stdout",
     "output_type": "stream",
     "text": [
      "time: 8.09 ms\n"
     ]
    }
   ],
   "source": [
    "denormalize_cluster(route_kmodel.clusterCenters(),  route_scalerModels)"
   ]
  },
  {
   "cell_type": "code",
   "execution_count": 162,
   "metadata": {
    "collapsed": false,
    "deletable": true,
    "editable": true
   },
   "outputs": [
    {
     "name": "stdout",
     "output_type": "stream",
     "text": [
      "+----------+-----+\n",
      "|prediction|count|\n",
      "+----------+-----+\n",
      "|         0|  801|\n",
      "|         1|  255|\n",
      "|         2|  173|\n",
      "|         3|   98|\n",
      "|         4|   14|\n",
      "+----------+-----+\n",
      "\n",
      "time: 19.8 s\n"
     ]
    }
   ],
   "source": [
    "distribution_df = get_distribution_of_workouts(route_kmodel.transform(route_df))\n",
    "distribution_df.show()"
   ]
  },
  {
   "cell_type": "code",
   "execution_count": null,
   "metadata": {
    "collapsed": true,
    "deletable": true,
    "editable": true
   },
   "outputs": [],
   "source": [
    "#use jason's visualization to ensure it looks ok"
   ]
  },
  {
   "cell_type": "code",
   "execution_count": null,
   "metadata": {
    "collapsed": true,
    "deletable": true,
    "editable": true
   },
   "outputs": [],
   "source": []
  },
  {
   "cell_type": "code",
   "execution_count": null,
   "metadata": {
    "collapsed": true,
    "deletable": true,
    "editable": true
   },
   "outputs": [],
   "source": [
    "#######################end route checker"
   ]
  },
  {
   "cell_type": "code",
   "execution_count": null,
   "metadata": {
    "collapsed": true,
    "deletable": true,
    "editable": true
   },
   "outputs": [],
   "source": []
  },
  {
   "cell_type": "code",
   "execution_count": null,
   "metadata": {
    "collapsed": true,
    "deletable": true,
    "editable": true
   },
   "outputs": [],
   "source": []
  },
  {
   "cell_type": "code",
   "execution_count": null,
   "metadata": {
    "collapsed": true,
    "deletable": true,
    "editable": true
   },
   "outputs": [],
   "source": []
  },
  {
   "cell_type": "code",
   "execution_count": 103,
   "metadata": {
    "collapsed": false,
    "deletable": true,
    "editable": true
   },
   "outputs": [
    {
     "name": "stdout",
     "output_type": "stream",
     "text": [
      "time: 904 µs\n"
     ]
    }
   ],
   "source": [
    "#distinct_clusters = reg_df.select('cluster').distinct().collect()\n",
    "\n",
    "#cluster_numbers = [int(distinct_clusters[i][0]) for i in range(len(distinct_clusters))]"
   ]
  },
  {
   "cell_type": "code",
   "execution_count": 104,
   "metadata": {
    "collapsed": false,
    "deletable": true,
    "editable": true
   },
   "outputs": [
    {
     "data": {
      "text/plain": [
       "[1, 3, 4, 2, 0]"
      ]
     },
     "execution_count": 104,
     "metadata": {},
     "output_type": "execute_result"
    },
    {
     "name": "stdout",
     "output_type": "stream",
     "text": [
      "time: 19.8 s\n"
     ]
    }
   ],
   "source": [
    "#get clusters of routes\n",
    "\n",
    "route_prediction_df = route_kmodel.transform(route_df)\n",
    "distinct_clusters = route_prediction_df.select('prediction').distinct().collect()\n",
    "route_prediction_df = route_prediction_df.withColumnRenamed('prediction', 'route_prediction')\n",
    "route_prediction_df = route_prediction_df.withColumnRenamed('features', 'route_features')\n",
    "\n",
    "\n",
    "\n",
    "#get cluster numbers\n",
    "cluster_numbers = [int(distinct_clusters[i][0]) for i in range(len(distinct_clusters))]\n",
    "cluster_numbers"
   ]
  },
  {
   "cell_type": "code",
   "execution_count": 105,
   "metadata": {
    "collapsed": false,
    "deletable": true,
    "editable": true
   },
   "outputs": [
    {
     "name": "stdout",
     "output_type": "stream",
     "text": [
      "+----------------+-----+\n",
      "|route_prediction|count|\n",
      "+----------------+-----+\n",
      "|               1|  255|\n",
      "|               3|   98|\n",
      "|               4|   14|\n",
      "|               2|  173|\n",
      "|               0|  801|\n",
      "+----------------+-----+\n",
      "\n",
      "time: 39.4 s\n"
     ]
    }
   ],
   "source": [
    "route_prediction_df.groupBy('route_prediction').count().show()\n",
    "route_prediction_df = fix_df(route_prediction_df)"
   ]
  },
  {
   "cell_type": "code",
   "execution_count": 106,
   "metadata": {
    "collapsed": false,
    "deletable": true,
    "editable": true
   },
   "outputs": [
    {
     "name": "stdout",
     "output_type": "stream",
     "text": [
      "time: 839 µs\n"
     ]
    }
   ],
   "source": [
    "# route_prediction_df.schema\n",
    "# route_prediction_df.where(route_prediction_df['route_prediction']==3)"
   ]
  },
  {
   "cell_type": "code",
   "execution_count": 107,
   "metadata": {
    "collapsed": false,
    "deletable": true,
    "editable": true
   },
   "outputs": [
    {
     "name": "stdout",
     "output_type": "stream",
     "text": [
      "time: 12.4 ms\n"
     ]
    }
   ],
   "source": [
    "#create list of dataframes for each route_prediction value\n",
    "list_route_clusters = [route_prediction_df.where(route_prediction_df['route_prediction']==i) \\\n",
    "                      for i in cluster_numbers]"
   ]
  },
  {
   "cell_type": "code",
   "execution_count": 108,
   "metadata": {
    "collapsed": false,
    "deletable": true,
    "editable": true
   },
   "outputs": [
    {
     "data": {
      "text/plain": [
       "DataFrame[max_elapsed_time: string, avg_heart_rate: double, avg_speed: double, userid: string, diff_altitude: vector, sum_geo_distance: vector, diff_altitude_n: vector, sum_geo_distance_n: vector, workoutid: string, route_features: vector, route_prediction: bigint]"
      ]
     },
     "execution_count": 108,
     "metadata": {},
     "output_type": "execute_result"
    },
    {
     "name": "stdout",
     "output_type": "stream",
     "text": [
      "time: 3.19 ms\n"
     ]
    }
   ],
   "source": [
    "list_route_clusters[0]"
   ]
  },
  {
   "cell_type": "code",
   "execution_count": 109,
   "metadata": {
    "collapsed": false,
    "deletable": true,
    "editable": true
   },
   "outputs": [
    {
     "name": "stdout",
     "output_type": "stream",
     "text": [
      "0 vectorize done in 0:00:00.051490\n",
      "transforming\n",
      "\n",
      "\n",
      "1 vectorize done in 0:00:00.044230\n",
      "transforming\n",
      "\n",
      "\n",
      "2 vectorize done in 0:00:00.047432\n",
      "transforming\n",
      "\n",
      "\n",
      "3 vectorize done in 0:00:00.042685\n",
      "transforming\n",
      "\n",
      "\n",
      "4 vectorize done in 0:00:00.050179\n",
      "transforming\n",
      "\n",
      "\n",
      "time: 4min 31s\n"
     ]
    }
   ],
   "source": [
    "#got list of dataframes by route cluster. for each of them, create new clusters \n",
    "#add a new column 'performance_prediction' for each cluster\n",
    "\n",
    "performance_cols_to_cluster = ['avg_heart_rate', 'avg_speed', 'max_elapsed_time']\n",
    "\n",
    "dict_cluster_to_objs = {}\n",
    "\n",
    "dv_to_dave = ''\n",
    "\n",
    "for i in range(len(list_route_clusters)):\n",
    "    print i, \n",
    "#     #cluster\n",
    "#     c_df = list_route_clusters[i]\n",
    "#     r_obj = cluster_df(c_df, performance_cols_to_cluster, 5, init_var=True, \\\n",
    "#                       scale_dict = scale_dict, bisectingKMean=True,\\\n",
    "#                       debug=False)\n",
    "#     dict_cluster_to_objs[i] = r_obj\n",
    "\n",
    "#     #transform the dataset\n",
    "#     p_kmodel = r_obj[0]\n",
    "#     p_df_to_transform = r_obj[1]\n",
    "#     p_scalerModels = r_obj[2]\n",
    "    \n",
    "#     p_kmodel.transform(p_df_to_transform)\n",
    "    c_df = list_route_clusters[i]\n",
    "    #cluster within the route cluster dataframe\n",
    "    r_obj = cluster_df(c_df, performance_cols_to_cluster, 3, init_var=True, \\\n",
    "                      scale_dict = scale_dict, bisectingKMean=True,\\\n",
    "                      debug=False)\n",
    "    dict_cluster_to_objs[i] = r_obj\n",
    "\n",
    "    #transform the dataset\n",
    "    p_kmodel = r_obj[0]\n",
    "    p_df_to_transform = r_obj[1]\n",
    "    p_scalerModels = r_obj[2]\n",
    "    print 'transforming'\n",
    "    temp_df = p_kmodel.transform(p_df_to_transform)\n",
    "    temp_df = temp_df.withColumnRenamed('features', 'perf_features')\n",
    "    temp_df = temp_df.withColumnRenamed('prediction', 'perf_prediction')\n",
    "    #print c_df.schema\n",
    "    print '\\n'\n",
    "    #transform\n",
    "    c_df = c_df.drop('perf_features')\n",
    "    c_df = c_df.drop('perf_prediction')\n",
    "    list_route_clusters[i] = c_df.join(temp_df.select('workoutid','perf_prediction', 'perf_features'),\\\n",
    "                                      temp_df['workoutid']==c_df['workoutid'], 'inner')\\\n",
    "                                        .drop(temp_df['workoutid'])\n",
    "    #list_route_clusters[i].show()\n",
    "    #break\n",
    "    \n"
   ]
  },
  {
   "cell_type": "code",
   "execution_count": 110,
   "metadata": {
    "collapsed": false,
    "deletable": true,
    "editable": true
   },
   "outputs": [
    {
     "name": "stdout",
     "output_type": "stream",
     "text": [
      "time: 1.69 ms\n"
     ]
    }
   ],
   "source": [
    "prediction_columns = ['route_predictin', 'perf_prediction']\n",
    "first = list_route_clusters[0]\n",
    "sec = list_route_clusters[1]"
   ]
  },
  {
   "cell_type": "code",
   "execution_count": 111,
   "metadata": {
    "collapsed": false,
    "deletable": true,
    "editable": true
   },
   "outputs": [
    {
     "name": "stdout",
     "output_type": "stream",
     "text": [
      "time: 28.9 s\n"
     ]
    }
   ],
   "source": [
    "frames = [df.toPandas() for df in list_route_clusters]"
   ]
  },
  {
   "cell_type": "code",
   "execution_count": 112,
   "metadata": {
    "collapsed": false,
    "deletable": true,
    "editable": true
   },
   "outputs": [
    {
     "name": "stdout",
     "output_type": "stream",
     "text": [
      "time: 242 ms\n"
     ]
    }
   ],
   "source": [
    "new_concat_df = sqlContext.createDataFrame(pd.concat(frames))"
   ]
  },
  {
   "cell_type": "code",
   "execution_count": 113,
   "metadata": {
    "collapsed": false,
    "deletable": true,
    "editable": true
   },
   "outputs": [
    {
     "name": "stdout",
     "output_type": "stream",
     "text": [
      "+----------------+---------------+-----+\n",
      "|route_prediction|perf_prediction|count|\n",
      "+----------------+---------------+-----+\n",
      "|               0|              0|  302|\n",
      "|               0|              1|   75|\n",
      "|               0|              2|  424|\n",
      "|               1|              0|  141|\n",
      "|               1|              1|   88|\n",
      "|               1|              2|   26|\n",
      "|               2|              0|   66|\n",
      "|               2|              1|   16|\n",
      "|               2|              2|   91|\n",
      "|               3|              0|    2|\n",
      "|               3|              1|   51|\n",
      "|               3|              2|   45|\n",
      "|               4|              0|    9|\n",
      "|               4|              1|    5|\n",
      "+----------------+---------------+-----+\n",
      "\n",
      "time: 295 ms\n"
     ]
    }
   ],
   "source": [
    "new_concat_df.groupBy(['route_prediction','perf_prediction']).count()\\\n",
    ".orderBy(['route_prediction', 'perf_prediction']).show()"
   ]
  },
  {
   "cell_type": "code",
   "execution_count": 115,
   "metadata": {
    "collapsed": false,
    "deletable": true,
    "editable": true
   },
   "outputs": [
    {
     "name": "stdout",
     "output_type": "stream",
     "text": [
      "time: 8.24 ms\n"
     ]
    }
   ],
   "source": [
    "#remove small clusters, might be outliers\n",
    "new_concat_df = new_concat_df.where(\n",
    "    ((new_concat_df['route_prediction']!= 3) | (new_concat_df['perf_prediction']!= 0))&\\\n",
    "    ((new_concat_df['route_prediction']!= 4) | (new_concat_df['perf_prediction']!= 0))&\\\n",
    "    ((new_concat_df['route_prediction']!= 4) | (new_concat_df['perf_prediction']!= 1))\\\n",
    ")\n"
   ]
  },
  {
   "cell_type": "code",
   "execution_count": 139,
   "metadata": {
    "collapsed": false,
    "deletable": true,
    "editable": true,
    "scrolled": true
   },
   "outputs": [
    {
     "name": "stdout",
     "output_type": "stream",
     "text": [
      "time: 22.7 ms\n"
     ]
    }
   ],
   "source": [
    "#since its got a lot of vectors, get the necessary columns and join with original sumstats\n",
    "select_columns = ['workoutid', 'route_prediction', 'perf_prediction']\n",
    "\n",
    "df_to_dave = rout_stats.join(new_concat_df[select_columns], rout_stats['workoutid']==new_concat_df['workoutid'],\n",
    "                            'inner').drop(new_concat_df['workoutid'])\n"
   ]
  },
  {
   "cell_type": "code",
   "execution_count": 140,
   "metadata": {
    "collapsed": false,
    "deletable": true,
    "editable": true
   },
   "outputs": [
    {
     "name": "stdout",
     "output_type": "stream",
     "text": [
      "time: 12.7 s\n"
     ]
    }
   ],
   "source": [
    "df_to_dave.write.csv('route_perf_clusters.csv')\n"
   ]
  },
  {
   "cell_type": "code",
   "execution_count": null,
   "metadata": {
    "collapsed": true,
    "deletable": true,
    "editable": true
   },
   "outputs": [],
   "source": [
    "def vectorizeData(data):\n",
    "    return data.rdd.map(lambda r: [r[0], r[1], r[2], Vectors.dense(r[3:6]), float(r[7])]).toDF([\\\n",
    "          'cluster', 'userid', 'workoutid', 'features', 'label'])"
   ]
  },
  {
   "cell_type": "code",
   "execution_count": 141,
   "metadata": {
    "collapsed": false,
    "deletable": true,
    "editable": true
   },
   "outputs": [
    {
     "data": {
      "text/plain": [
       "['max_elapsed_time',\n",
       " 'sum_geo_distance',\n",
       " 'workoutid',\n",
       " 'avg_heart_rate',\n",
       " 'avg_speed',\n",
       " 'diff_altitude',\n",
       " 'userid',\n",
       " 'route_prediction',\n",
       " 'perf_prediction']"
      ]
     },
     "execution_count": 141,
     "metadata": {},
     "output_type": "execute_result"
    },
    {
     "name": "stdout",
     "output_type": "stream",
     "text": [
      "time: 9.25 ms\n"
     ]
    }
   ],
   "source": [
    "df_to_dave.schema.names"
   ]
  },
  {
   "cell_type": "code",
   "execution_count": null,
   "metadata": {
    "collapsed": true,
    "deletable": true,
    "editable": true
   },
   "outputs": [],
   "source": []
  },
  {
   "cell_type": "code",
   "execution_count": null,
   "metadata": {
    "collapsed": true,
    "deletable": true,
    "editable": true
   },
   "outputs": [],
   "source": []
  },
  {
   "cell_type": "code",
   "execution_count": null,
   "metadata": {
    "collapsed": true,
    "deletable": true,
    "editable": true
   },
   "outputs": [],
   "source": [
    "#trying to add a new column based on mapping from route/perf_prediction"
   ]
  },
  {
   "cell_type": "code",
   "execution_count": 117,
   "metadata": {
    "collapsed": false,
    "deletable": true,
    "editable": true
   },
   "outputs": [
    {
     "name": "stdout",
     "output_type": "stream",
     "text": [
      "time: 440 ms\n"
     ]
    }
   ],
   "source": [
    "route_perf_combo = new_concat_df.select(['route_prediction','perf_prediction']).distinct()\\\n",
    ".orderBy(['route_prediction','perf_prediction']).collect()"
   ]
  },
  {
   "cell_type": "code",
   "execution_count": 122,
   "metadata": {
    "collapsed": false,
    "deletable": true,
    "editable": true
   },
   "outputs": [
    {
     "name": "stdout",
     "output_type": "stream",
     "text": [
      "time: 1.88 ms\n"
     ]
    }
   ],
   "source": [
    "route_perf_to_key = {}\n",
    "for k in route_perf_combo:\n",
    "    index = 0\n",
    "    route_perf_to_key[k] = index\n",
    "    index += 1"
   ]
  },
  {
   "cell_type": "code",
   "execution_count": 123,
   "metadata": {
    "collapsed": false,
    "deletable": true,
    "editable": true,
    "scrolled": true
   },
   "outputs": [
    {
     "name": "stdout",
     "output_type": "stream",
     "text": [
      "+----------------+------------------+------------------+--------+--------------------+--------------------+--------------------+--------------------+---------+--------------------+----------------+---------------+--------------------+\n",
      "|max_elapsed_time|    avg_heart_rate|         avg_speed|  userid|       diff_altitude|    sum_geo_distance|     diff_altitude_n|  sum_geo_distance_n|workoutid|      route_features|route_prediction|perf_prediction|       perf_features|\n",
      "+----------------+------------------+------------------+--------+--------------------+--------------------+--------------------+--------------------+---------+--------------------+----------------+---------------+--------------------+\n",
      "|            7322|136.75862068965517| 9.519641379310347| 2974312|[0.03607392489041...|[0.02313031109904...|[0.03607392489041...|[0.02313031109904...|573619302|[0.03607392489041...|               1|              2|[0.28404369667164...|\n",
      "|             934|156.91256830601094| 9.199239344262292| 4357738|[0.03595545551474...|[0.04606459899347...|[0.03595545551474...|[0.04606459899347...|289705954|[0.03595545551474...|               1|              0|[0.46698534931727...|\n",
      "|             521|144.27722772277227| 9.803049504950497|  432096|[0.03605911621845...|[0.0324499600184203]|[0.03605911621845...|[0.0324499600184203]|284208290|[0.03605911621845...|               1|              0|[0.35229168572145...|\n",
      "|             983|            138.56|10.546271999999997| 8446566|[0.03632567231370...|[0.04581376639138...|[0.03632567231370...|[0.04581376639138...|476859292|[0.03632567231370...|               1|              0|[0.30039519834016...|\n",
      "|               8|116.33333333333333| 9.276505263157897| 1907590|[0.03873948584290...|[0.02817317823946...|[0.03873948584290...|[0.02817317823946...|476667412|[0.03873948584290...|               1|              0|[0.09863903571604...|\n",
      "|              46|             135.4| 10.29865846153846| 2164708|[0.03816194763653...|[0.02663840993690...|[0.03816194763653...|[0.02663840993690...|580564403|[0.03816194763653...|               1|              0|[0.27171120881292...|\n",
      "|              89|207.22222222222223|10.881233333333338| 7178673|[0.04198258500177...|[0.03236584084367...|[0.04198258500177...|[0.03236584084367...|589268093|[0.04198258500177...|               1|              1|[0.92365673730837...|\n",
      "|              91|117.45161290322581|12.393638709677422|13165320|[0.04084231726098...|[0.02517318783621...|[0.04084231726098...|[0.02517318783621...|493956305|[0.04084231726098...|               1|              0|[0.10878989630824...|\n",
      "|             703| 215.6326530612245|11.508097959183678| 7178673|[0.26889586541878...|[0.01476101802887...|[0.26889586541878...|[0.01476101802887...|589267428|[0.26889586541878...|               1|              1|[1.0,0.2629810081...|\n",
      "|             964| 160.3875968992248| 12.78792558139535|10815918|[0.0364145243454567]|[0.04483168121427...|[0.0364145243454567]|[0.04483168121427...|367982882|[0.03641452434545...|               1|              1|[0.49852892013202...|\n",
      "|             731|150.17307692307693|13.180500000000002|  745030|[0.03570370809145...|[0.03297174997319...|[0.03570370809145...|[0.03297174997319...|470505829|[0.03570370809145...|               1|              1|[0.40580955809985...|\n",
      "|              98|150.83098591549296|10.911194366197181| 3655927|[0.04273782727165...|[0.03003935922166...|[0.04273782727165...|[0.03003935922166...|509506670|[0.04273782727165...|               1|              0|[0.41178153741895...|\n",
      "|             766|         149.46875|            8.7039| 8294504|[0.03491884847766...|[0.02433345469369...|[0.03491884847766...|[0.02433345469369...|526304526|[0.03491884847766...|               1|              0|[0.39941623338931...|\n",
      "|             992|125.77777777777777|12.093199999999998| 1063624|[0.04498874540931...|[0.02395808435347...|[0.04498874540931...|[0.02395808435347...|588436790|[0.04498874540931...|               1|              0|[0.18436825898664...|\n",
      "|            8600|154.58461538461538|  7.57019076923077| 2174810|[0.03669588911266...|[0.04332850512179...|[0.03669588911266...|[0.04332850512179...|610271083|[0.03669588911266...|               1|              2|[0.44585402741308...|\n",
      "+----------------+------------------+------------------+--------+--------------------+--------------------+--------------------+--------------------+---------+--------------------+----------------+---------------+--------------------+\n",
      "\n",
      "time: 48.6 ms\n"
     ]
    }
   ],
   "source": [
    "test = new_concat_df.limit(15)\n"
   ]
  },
  {
   "cell_type": "code",
   "execution_count": 127,
   "metadata": {
    "collapsed": false,
    "deletable": true,
    "editable": true
   },
   "outputs": [
    {
     "name": "stdout",
     "output_type": "stream",
     "text": [
      "time: 1.85 ms\n"
     ]
    }
   ],
   "source": [
    "dd = {}\n",
    "dd[0]='a'\n",
    "dd[1]='b'\n",
    "dd[2]='c'\n",
    "dd[3]='d'"
   ]
  },
  {
   "cell_type": "code",
   "execution_count": 129,
   "metadata": {
    "collapsed": false,
    "deletable": true,
    "editable": true
   },
   "outputs": [
    {
     "data": {
      "text/plain": [
       "'a'"
      ]
     },
     "execution_count": 129,
     "metadata": {},
     "output_type": "execute_result"
    },
    {
     "name": "stdout",
     "output_type": "stream",
     "text": [
      "time: 2.3 ms\n"
     ]
    }
   ],
   "source": [
    "dd[0]"
   ]
  },
  {
   "cell_type": "code",
   "execution_count": null,
   "metadata": {
    "collapsed": true,
    "deletable": true,
    "editable": true
   },
   "outputs": [],
   "source": []
  },
  {
   "cell_type": "code",
   "execution_count": null,
   "metadata": {
    "collapsed": true,
    "deletable": true,
    "editable": true
   },
   "outputs": [],
   "source": []
  },
  {
   "cell_type": "code",
   "execution_count": null,
   "metadata": {
    "collapsed": true,
    "deletable": true,
    "editable": true
   },
   "outputs": [],
   "source": []
  },
  {
   "cell_type": "code",
   "execution_count": null,
   "metadata": {
    "collapsed": true,
    "deletable": true,
    "editable": true
   },
   "outputs": [],
   "source": []
  },
  {
   "cell_type": "code",
   "execution_count": null,
   "metadata": {
    "collapsed": true,
    "deletable": true,
    "editable": true
   },
   "outputs": [],
   "source": []
  },
  {
   "cell_type": "code",
   "execution_count": null,
   "metadata": {
    "collapsed": true,
    "deletable": true,
    "editable": true
   },
   "outputs": [],
   "source": []
  },
  {
   "cell_type": "code",
   "execution_count": null,
   "metadata": {
    "collapsed": true,
    "deletable": true,
    "editable": true
   },
   "outputs": [],
   "source": []
  },
  {
   "cell_type": "code",
   "execution_count": null,
   "metadata": {
    "collapsed": true,
    "deletable": true,
    "editable": true
   },
   "outputs": [],
   "source": []
  },
  {
   "cell_type": "code",
   "execution_count": null,
   "metadata": {
    "collapsed": true,
    "deletable": true,
    "editable": true
   },
   "outputs": [],
   "source": []
  },
  {
   "cell_type": "code",
   "execution_count": null,
   "metadata": {
    "collapsed": true,
    "deletable": true,
    "editable": true
   },
   "outputs": [],
   "source": []
  },
  {
   "cell_type": "code",
   "execution_count": null,
   "metadata": {
    "collapsed": true,
    "deletable": true,
    "editable": true
   },
   "outputs": [],
   "source": []
  },
  {
   "cell_type": "code",
   "execution_count": null,
   "metadata": {
    "collapsed": true,
    "deletable": true,
    "editable": true
   },
   "outputs": [],
   "source": []
  },
  {
   "cell_type": "code",
   "execution_count": null,
   "metadata": {
    "collapsed": true,
    "deletable": true,
    "editable": true
   },
   "outputs": [],
   "source": []
  },
  {
   "cell_type": "markdown",
   "metadata": {
    "deletable": true,
    "editable": true
   },
   "source": [
    "# Meaningful clustering/distribution\n",
    "#dataframe creation for dave's regression"
   ]
  },
  {
   "cell_type": "code",
   "execution_count": 44,
   "metadata": {
    "collapsed": false,
    "deletable": true,
    "editable": true,
    "scrolled": true
   },
   "outputs": [
    {
     "name": "stdout",
     "output_type": "stream",
     "text": [
      "['max_elapsed_time', 'sum_geo_distance', 'avg_heart_rate', 'avg_speed', 'diff_altitude']\n",
      "------- max_elapsed_time -------\n",
      "0:00:10.875038\n",
      "0:00:00.040240\n",
      "------- sum_geo_distance -------\n",
      "0:00:10.802654\n",
      "0:00:00.042621\n",
      "------- avg_heart_rate -------\n",
      "0:00:10.769024\n",
      "0:00:00.045855\n",
      "------- avg_speed -------\n",
      "0:00:10.629080\n",
      "0:00:00.043338\n",
      "------- diff_altitude -------\n",
      "0:00:10.884188\n",
      "0:00:00.043645\n",
      "clustering times\n",
      "-- bisecting --\n",
      "0:00:00.002955\n",
      "0:01:34.395306\n",
      "done ['max_elapsed_time', 'sum_geo_distance', 'avg_heart_rate', 'avg_speed', 'diff_altitude']\n",
      "time: 2min 34s\n"
     ]
    }
   ],
   "source": [
    "#cluster here, with twice the emphasis on speed\n",
    "scale_dict = {}\n",
    "#scale_dict['avg_speed']=2\n",
    "print cols_to_cluster\n",
    "r_obj = cluster_df(sumstats, cols_to_cluster, 10, init_var=True, scale_dict = scale_dict, bisectingKMean=True)\n",
    "print 'done', cols_to_cluster"
   ]
  },
  {
   "cell_type": "code",
   "execution_count": 45,
   "metadata": {
    "collapsed": false,
    "deletable": true,
    "editable": true
   },
   "outputs": [
    {
     "name": "stdout",
     "output_type": "stream",
     "text": [
      "time: 2.2 ms\n"
     ]
    }
   ],
   "source": [
    "kmodel = r_obj[0]\n",
    "df = r_obj[1]\n",
    "scalerModels = r_obj[2]"
   ]
  },
  {
   "cell_type": "code",
   "execution_count": 38,
   "metadata": {
    "collapsed": false,
    "deletable": true,
    "editable": true
   },
   "outputs": [
    {
     "data": {
      "text/plain": [
       "['max_elapsed_time',\n",
       " 'sum_geo_distance',\n",
       " 'avg_heart_rate',\n",
       " 'avg_speed',\n",
       " 'diff_altitude']"
      ]
     },
     "execution_count": 38,
     "metadata": {},
     "output_type": "execute_result"
    },
    {
     "name": "stdout",
     "output_type": "stream",
     "text": [
      "time: 2.45 ms\n"
     ]
    }
   ],
   "source": [
    "cols_to_cluster"
   ]
  },
  {
   "cell_type": "code",
   "execution_count": 53,
   "metadata": {
    "collapsed": false,
    "deletable": true,
    "editable": true
   },
   "outputs": [
    {
     "name": "stdout",
     "output_type": "stream",
     "text": [
      "------- max_elapsed_time -------\n",
      "0:00:12.582850\n",
      "0:00:00.042509\n",
      "------- sum_geo_distance -------\n",
      "0:00:12.156996\n",
      "0:00:00.041474\n",
      "------- avg_heart_rate -------\n",
      "0:00:12.052505\n",
      "0:00:00.045938\n",
      "------- avg_speed -------\n",
      "0:00:12.163653\n",
      "0:00:00.049960\n",
      "------- diff_altitude -------\n",
      "0:00:12.199930\n",
      "0:00:00.045493\n",
      "time: 1min 7s\n"
     ]
    }
   ],
   "source": [
    "big_prediction_df, big_scalermodels = transform_df_with_kmeamodel(kmodel, big_sumstats, cols_to_cluster)\n"
   ]
  },
  {
   "cell_type": "code",
   "execution_count": 57,
   "metadata": {
    "collapsed": false,
    "deletable": true,
    "editable": true,
    "scrolled": true
   },
   "outputs": [
    {
     "name": "stdout",
     "output_type": "stream",
     "text": [
      "+-------+--------------------+--------------------+--------------------+--------------------+--------------------+--------------------+--------------------+--------------------+--------------------+--------------------+---------+--------------------+----------+\n",
      "| userid|    max_elapsed_time|    sum_geo_distance|      avg_heart_rate|           avg_speed|       diff_altitude|  max_elapsed_time_n|  sum_geo_distance_n|    avg_heart_rate_n|         avg_speed_n|     diff_altitude_n|workoutid|            features|prediction|\n",
      "+-------+--------------------+--------------------+--------------------+--------------------+--------------------+--------------------+--------------------+--------------------+--------------------+--------------------+---------+--------------------+----------+\n",
      "|4318337|[0.09376563594516...|[0.01381856875191...|[0.45000483045116...|[0.17856427532448...|[0.3137344970142397]|[0.09376563594516...|[0.01381856875191...|[0.45000483045116...|[0.17856427532448...|[0.3137344970142397]|321490112|[0.09376563594516...|         2|\n",
      "| 993057|[0.09976983888722...|[0.27441922910352...|[0.48294148127980...|[0.2249207268858762]|[0.3523197060174551]|[0.09976983888722...|[0.27441922910352...|[0.48294148127980...|[0.2249207268858762]|[0.3523197060174551]|585097278|[0.09976983888722...|         7|\n",
      "+-------+--------------------+--------------------+--------------------+--------------------+--------------------+--------------------+--------------------+--------------------+--------------------+--------------------+---------+--------------------+----------+\n",
      "only showing top 2 rows\n",
      "\n",
      "time: 5.92 s\n"
     ]
    }
   ],
   "source": [
    "big_prediction_df.show(2)"
   ]
  },
  {
   "cell_type": "code",
   "execution_count": 69,
   "metadata": {
    "collapsed": false,
    "deletable": true,
    "editable": true
   },
   "outputs": [
    {
     "name": "stdout",
     "output_type": "stream",
     "text": [
      "time: 4.29 s\n"
     ]
    }
   ],
   "source": [
    "##join big_prediction_df with the original big_sumstats, to append prediction ID to the original dataframe\n",
    "big_total_df= fix_df(big_sumstats.join(big_prediction_df.select('workoutid','prediction'), \\\n",
    "                               big_sumstats['workoutid']==big_prediction_df['workoutid'],'inner').\\\n",
    "                               drop(big_prediction_df['workoutid']))\n",
    "\n",
    "\n"
   ]
  },
  {
   "cell_type": "code",
   "execution_count": 99,
   "metadata": {
    "collapsed": false,
    "deletable": true,
    "editable": true,
    "scrolled": true
   },
   "outputs": [
    {
     "name": "stdout",
     "output_type": "stream",
     "text": [
      "time: 7.53 ms\n"
     ]
    }
   ],
   "source": [
    "#big_total_df.groupBy('prediction').count().show()\n",
    "#count < 10 is in cluster 9, 1, 4\n",
    "df_to_dave = big_total_df[(big_total_df['prediction']!=9) | (big_total_df['prediction']!=1)\\\n",
    "            | (big_total_df['prediction']!=4)]\n",
    "\n"
   ]
  },
  {
   "cell_type": "code",
   "execution_count": 100,
   "metadata": {
    "collapsed": false,
    "deletable": true,
    "editable": true
   },
   "outputs": [
    {
     "name": "stdout",
     "output_type": "stream",
     "text": [
      "+------------------+--------+----------+--------------------+\n",
      "|     new_avg_speed|  userid|prediction|        new_avg_dist|\n",
      "+------------------+--------+----------+--------------------+\n",
      "|11.233365517241381| 6873187|         5|0.029164849300000007|\n",
      "| 6.273719999999999| 7996903|         0|5.826658000000001E-5|\n",
      "|13.598578723404257| 7178673|         5|0.009407718899999999|\n",
      "|12.033633262260144| 7404960|         7| 0.10647507740000003|\n",
      "|11.038550943396226| 4226525|         2|0.010548355799999996|\n",
      "|11.414899999999998| 2934877|         2|0.003433941699999...|\n",
      "|  9.77390679082444| 4164701|         2|0.006474015600000001|\n",
      "|14.191199999999998| 8484809|         0|          8.29646E-5|\n",
      "|10.781941515837103| 7178673|         6|0.006682765250000002|\n",
      "| 8.134559999999999| 3324472|         0|0.006826462700000002|\n",
      "| 9.513321428571428|12406103|         8|0.001905090050000...|\n",
      "|          8.318265| 7996903|         2|      0.003830854375|\n",
      "|10.341771428571429| 3191096|         0|0.001653894299999...|\n",
      "| 5.840999999999999| 4572860|         0|          5.31514E-5|\n",
      "| 10.41191020408163| 4057523|         5|0.043932086200000005|\n",
      "|           50.6646|13560443|         1|          6.49588E-5|\n",
      "|          11.82384| 2155614|         2|0.012929188599999999|\n",
      "| 9.642000000000001| 8767606|         2|         8.364415E-4|\n",
      "|         11.856965| 1377236|         2|        0.0020110992|\n",
      "|10.703845341380612| 4146688|         0| 0.03356326026666669|\n",
      "+------------------+--------+----------+--------------------+\n",
      "only showing top 20 rows\n",
      "\n",
      "time: 7.91 s\n"
     ]
    }
   ],
   "source": [
    "#use total_df to find avg_spd/avg_dist for each user in each cluster\n",
    "# from the predictions, group by userid/clusterid and calculate avg speed and avg distance for each user\n",
    "\n",
    "w = Window.partitionBy('userid', 'prediction')\n",
    "\n",
    "new_speed = 'new_avg_speed'\n",
    "new_dist = 'new_avg_dist'\n",
    "df_speed = df_to_dave.select('userid', 'prediction',\\\n",
    "                          avg('avg_speed').over(w).alias(new_speed)).distinct()\n",
    "df_dist = df_to_dave.select('userid', 'prediction',\\\n",
    "                          avg('sum_geo_distance').over(w).alias(new_dist)).distinct()\n",
    "# total = df_speed.join(df_dist, (df_speed['userid']==df_dist['userid']) & \\\n",
    "#                                (df_speed['prediction']==df_dist['prediction']),\\\n",
    "#                      'inner')\n",
    "total = df_speed.join(df_dist,(df_speed.prediction==df_dist.prediction) & (df_speed.userid==df_dist.userid),\\\n",
    "                     'inner').drop(df_speed.prediction).drop(df_speed.userid)\n",
    "total.show()"
   ]
  },
  {
   "cell_type": "code",
   "execution_count": 101,
   "metadata": {
    "collapsed": false,
    "deletable": true,
    "editable": true
   },
   "outputs": [
    {
     "name": "stdout",
     "output_type": "stream",
     "text": [
      "time: 20.7 ms\n"
     ]
    }
   ],
   "source": [
    "#join dave df to total\n",
    "df_to_dave = df_to_dave.join(total,(df_to_dave.prediction==total.prediction) & (df_to_dave.userid==total.userid),\\\n",
    "             'inner').drop(total.prediction).drop(total.userid)\n"
   ]
  },
  {
   "cell_type": "code",
   "execution_count": 102,
   "metadata": {
    "collapsed": false,
    "deletable": true,
    "editable": true
   },
   "outputs": [
    {
     "name": "stdout",
     "output_type": "stream",
     "text": [
      "time: 17.1 ms\n"
     ]
    }
   ],
   "source": [
    "select_columns = ['prediction', 'userid', 'workoutid', 'sum_geo_distance', 'diff_altitude', \\\n",
    "                 'new_avg_speed', 'new_avg_dist', 'max_elapsed_time']\n",
    "last_df = df_to_dave.select(select_columns)\n"
   ]
  },
  {
   "cell_type": "code",
   "execution_count": 112,
   "metadata": {
    "collapsed": false,
    "deletable": true,
    "editable": true
   },
   "outputs": [
    {
     "name": "stdout",
     "output_type": "stream",
     "text": [
      "writing csv\n",
      "time: 1min 37s\n"
     ]
    }
   ],
   "source": [
    "#df_to_dave = vectorizeData(last_df)\n",
    "df_to_dave = df_to_dave[(df_to_dave['prediction']!=9) & (df_to_dave['prediction']!=1)\\\n",
    "            & (df_to_dave['prediction']!=4)]\n",
    "print 'writing csv'\n",
    "df_to_dave.write.csv('dave2.csv', header=True)"
   ]
  },
  {
   "cell_type": "code",
   "execution_count": 114,
   "metadata": {
    "collapsed": false,
    "deletable": true,
    "editable": true
   },
   "outputs": [
    {
     "name": "stdout",
     "output_type": "stream",
     "text": [
      "+----------+-----+\n",
      "|prediction|count|\n",
      "+----------+-----+\n",
      "|         0|   44|\n",
      "|         7|   23|\n",
      "|         6|   12|\n",
      "|         5|   47|\n",
      "|         3|    6|\n",
      "|         8|   13|\n",
      "|         2|   93|\n",
      "+----------+-----+\n",
      "\n",
      "time: 2min 8s\n"
     ]
    }
   ],
   "source": [
    "df_to_dave.groupBy('prediction').count().show()"
   ]
  },
  {
   "cell_type": "code",
   "execution_count": null,
   "metadata": {
    "collapsed": true,
    "deletable": true,
    "editable": true
   },
   "outputs": [],
   "source": []
  },
  {
   "cell_type": "code",
   "execution_count": null,
   "metadata": {
    "collapsed": true,
    "deletable": true,
    "editable": true
   },
   "outputs": [],
   "source": []
  },
  {
   "cell_type": "code",
   "execution_count": null,
   "metadata": {
    "collapsed": true,
    "deletable": true,
    "editable": true
   },
   "outputs": [],
   "source": []
  },
  {
   "cell_type": "markdown",
   "metadata": {
    "deletable": true,
    "editable": true
   },
   "source": [
    "# centroid creation for Jason's viz"
   ]
  },
  {
   "cell_type": "code",
   "execution_count": 62,
   "metadata": {
    "collapsed": false,
    "deletable": true,
    "editable": true
   },
   "outputs": [
    {
     "name": "stdout",
     "output_type": "stream",
     "text": [
      "['max_elapsed_time', 'sum_geo_distance', 'avg_heart_rate', 'avg_speed', 'diff_altitude']\n",
      "[[208.66666666666669, 0.0070680080708333303, 111.3868282249326, 9.0792079453780286, 4.1083333333333201], [1.0, 6.4958799999999999e-05, 76.0, 50.6646, 3.4000000000000057], [150.15789473684211, 0.0035405021421052625, 134.07917128411185, 10.365930244194519, -6.3263157894736821], [418.85185185185168, 0.0047028594555555562, 145.03624249932204, 10.854931197599797, 6.6222222222222342], [422.03999999999996, 0.014430503424000003, 132.76387073068204, 12.599862303706898, 24.935999999999979], [978.1785714285711, 0.012965297724999998, 156.26848625130913, 11.245726143927582, 6.2642857142857054], [444.58333333333326, 0.010984836750000001, 179.9280348124058, 12.250907544768904, 16.549999999999983], [824.72727272727275, 0.090364553954545457, 159.01416333635436, 12.09374483162426, 15.0], [4655.818181818182, 0.0081534862727272745, 154.95885821495577, 9.5465033909992467, 20.200000000000017], [9980.0, 0.29104273909999978, 134.84972677595627, 10.195170491803278, -1.4000000000000057]]\n",
      "time: 6.08 ms\n"
     ]
    }
   ],
   "source": [
    "denormed_centers = denormalize_cluster(kmodel.clusterCenters(), scalerModels)\n",
    "print cols_to_cluster\n",
    "print denormed_centers"
   ]
  },
  {
   "cell_type": "code",
   "execution_count": 63,
   "metadata": {
    "collapsed": false,
    "deletable": true,
    "editable": true
   },
   "outputs": [
    {
     "data": {
      "text/plain": [
       "Row(prediction=0, count=24)"
      ]
     },
     "execution_count": 63,
     "metadata": {},
     "output_type": "execute_result"
    },
    {
     "name": "stdout",
     "output_type": "stream",
     "text": [
      "time: 4.81 s\n"
     ]
    }
   ],
   "source": [
    "distribution_df = get_distribution_of_workouts(kmodel.transform(df))\n",
    "#distribution_df.toPandas()\n",
    "distribution_df.first()"
   ]
  },
  {
   "cell_type": "code",
   "execution_count": 66,
   "metadata": {
    "collapsed": false,
    "deletable": true,
    "editable": true
   },
   "outputs": [
    {
     "name": "stdout",
     "output_type": "stream",
     "text": [
      "time: 81.2 ms\n"
     ]
    }
   ],
   "source": [
    "df_centroids = pd.DataFrame(denormed_centers, columns=cols_to_cluster).join(distribution_df.toPandas()['count'])#\\\n",
    "#.to_csv('cluster_centers.csv')\n",
    "df_centroids = df_centroids[df_centroids['count'] > 10]\n",
    "#df_centroids.to_csv('cluster_centers_gt10.csv')"
   ]
  },
  {
   "cell_type": "code",
   "execution_count": 23,
   "metadata": {
    "collapsed": false,
    "deletable": true,
    "editable": true
   },
   "outputs": [
    {
     "name": "stdout",
     "output_type": "stream",
     "text": [
      "time: 27.8 ms\n"
     ]
    }
   ],
   "source": [
    "norm_cols = [i+'_n' for i in cols_to_cluster]\n",
    "reg_cols = [i for i in cols_to_cluster]\n",
    "reg_cols.append('workoutid')\n",
    "reg_cols.append('features')\n",
    "reg_cols.append('userid')\n",
    "n_df = df.select(norm_cols)"
   ]
  },
  {
   "cell_type": "code",
   "execution_count": 24,
   "metadata": {
    "collapsed": false,
    "deletable": true,
    "editable": true
   },
   "outputs": [
    {
     "data": {
      "text/plain": [
       "StructType(List(StructField(max_elapsed_time,VectorUDT,true),StructField(sum_geo_distance,VectorUDT,true),StructField(avg_heart_rate,VectorUDT,true),StructField(avg_speed,VectorUDT,true),StructField(diff_altitude,VectorUDT,true),StructField(workoutid,StringType,true),StructField(features,VectorUDT,true),StructField(userid,StringType,true)))"
      ]
     },
     "execution_count": 24,
     "metadata": {},
     "output_type": "execute_result"
    },
    {
     "name": "stdout",
     "output_type": "stream",
     "text": [
      "time: 33.4 ms\n"
     ]
    }
   ],
   "source": [
    "n_df = df.select(reg_cols)\n",
    "n_df.schema"
   ]
  },
  {
   "cell_type": "code",
   "execution_count": 25,
   "metadata": {
    "collapsed": false,
    "deletable": true,
    "editable": true
   },
   "outputs": [
    {
     "name": "stdout",
     "output_type": "stream",
     "text": [
      "time: 59.8 ms\n"
     ]
    }
   ],
   "source": [
    "prediction_df = kmodel.transform(n_df)\n"
   ]
  },
  {
   "cell_type": "code",
   "execution_count": 26,
   "metadata": {
    "collapsed": false,
    "deletable": true,
    "editable": true
   },
   "outputs": [
    {
     "name": "stdout",
     "output_type": "stream",
     "text": [
      "time: 3.55 s\n"
     ]
    }
   ],
   "source": [
    "#join from original dataframe. Adds 'prediction' column to the original sumstats dataframe\n",
    "\n",
    "total_df= fix_df(sumstats.join(prediction_df.select('workoutid','prediction'), sumstats['workoutid']==prediction_df['workoutid'],'inner').\\\n",
    "    drop(prediction_df['workoutid']))"
   ]
  },
  {
   "cell_type": "code",
   "execution_count": 27,
   "metadata": {
    "collapsed": false,
    "deletable": true,
    "editable": true
   },
   "outputs": [
    {
     "data": {
      "text/plain": [
       "['max_elapsed_time',\n",
       " 'sum_geo_distance',\n",
       " 'workoutid',\n",
       " 'avg_heart_rate',\n",
       " 'avg_speed',\n",
       " 'diff_altitude',\n",
       " 'userid',\n",
       " 'prediction']"
      ]
     },
     "execution_count": 27,
     "metadata": {},
     "output_type": "execute_result"
    },
    {
     "name": "stdout",
     "output_type": "stream",
     "text": [
      "time: 2.54 ms\n"
     ]
    }
   ],
   "source": [
    "total_df.schema.names"
   ]
  },
  {
   "cell_type": "code",
   "execution_count": 28,
   "metadata": {
    "collapsed": false,
    "deletable": true,
    "editable": true,
    "scrolled": true
   },
   "outputs": [
    {
     "name": "stdout",
     "output_type": "stream",
     "text": [
      "+------------------+--------+----------+--------------------+\n",
      "|     new_avg_speed|  userid|prediction|        new_avg_dist|\n",
      "+------------------+--------+----------+--------------------+\n",
      "|13.719277130044839|   56331|         1| 0.09948985020000001|\n",
      "|  9.04588370221328| 7996903|         0| 0.00688404242857143|\n",
      "|  7.57019076923077| 2174810|         4|        0.0231940093|\n",
      "|            6.4539| 7996903|         2|2.395346833333333...|\n",
      "|15.158117647058823|  745030|         0|0.005403330800000001|\n",
      "| 11.16260689655172| 1812737|         0|        0.0109394422|\n",
      "|10.341771428571429| 3191096|         2|0.001653894299999...|\n",
      "| 10.41191020408163| 4057523|         0|0.043932086200000005|\n",
      "| 7.924976470588236| 3082409|         2|0.013092680100000002|\n",
      "|           46.2708| 7996903|         3|           2.3708E-6|\n",
      "|13.366384615384616| 3411439|         0|        0.0059227269|\n",
      "|10.345069565217395|   80118|         0|0.008080359799999999|\n",
      "|10.387329230769227| 4362441|         4|0.023242534400000004|\n",
      "| 7.910799999999999| 7996903|         4|         0.001151307|\n",
      "|11.232000000000001| 5964610|         0|        0.0068375543|\n",
      "|           12.4368| 7516129|         0|0.008571358999999997|\n",
      "| 9.326250000000003| 2119401|         0|        0.0041011599|\n",
      "|10.422614103540154| 2207788|         1| 0.08851185050000002|\n",
      "|             9.846| 7425627|         0|         5.163008E-4|\n",
      "| 9.795673469387758|13406764|         0|0.004678078799999999|\n",
      "+------------------+--------+----------+--------------------+\n",
      "only showing top 20 rows\n",
      "\n",
      "time: 5.02 s\n"
     ]
    }
   ],
   "source": [
    "#use total_df to find avg_spd/avg_dist for each user in each cluster\n",
    "# from the predictions, group by userid/clusterid and calculate avg speed and avg distance for each user\n",
    "\n",
    "w = Window.partitionBy('userid', 'prediction')\n",
    "\n",
    "new_speed = 'new_avg_speed'\n",
    "new_dist = 'new_avg_dist'\n",
    "df_speed = total_df.select('userid', 'prediction',\\\n",
    "                          avg('avg_speed').over(w).alias(new_speed)).distinct()\n",
    "df_dist = total_df.select('userid', 'prediction',\\\n",
    "                          avg('sum_geo_distance').over(w).alias(new_dist)).distinct()\n",
    "# total = df_speed.join(df_dist, (df_speed['userid']==df_dist['userid']) & \\\n",
    "#                                (df_speed['prediction']==df_dist['prediction']),\\\n",
    "#                      'inner')\n",
    "total = df_speed.join(df_dist,(df_speed.prediction==df_dist.prediction) & (df_speed.userid==df_dist.userid),\\\n",
    "                     'inner').drop(df_speed.prediction).drop(df_speed.userid)\n",
    "total.show()"
   ]
  },
  {
   "cell_type": "code",
   "execution_count": 29,
   "metadata": {
    "collapsed": false,
    "deletable": true,
    "editable": true
   },
   "outputs": [
    {
     "name": "stdout",
     "output_type": "stream",
     "text": [
      "time: 21 ms\n"
     ]
    }
   ],
   "source": [
    "#join total and total_df\n",
    "total_df = total_df.join(total,(total_df.prediction==total.prediction) & (total_df.userid==total.userid),\\\n",
    "             'inner').drop(total.prediction).drop(total.userid)"
   ]
  },
  {
   "cell_type": "code",
   "execution_count": 46,
   "metadata": {
    "collapsed": false,
    "deletable": true,
    "editable": true
   },
   "outputs": [
    {
     "name": "stdout",
     "output_type": "stream",
     "text": [
      "time: 1.99 ms\n"
     ]
    }
   ],
   "source": [
    "def vectorizeData(data):\n",
    "    return data.rdd.map(lambda r: [r[0], r[1], r[2], Vectors.dense(r[3:6]), r[7]]).toDF([\\\n",
    "            'prediction', 'userid', 'workoutid', 'label', 'max_elapsed_time'])"
   ]
  },
  {
   "cell_type": "code",
   "execution_count": 44,
   "metadata": {
    "collapsed": false,
    "deletable": true,
    "editable": true
   },
   "outputs": [
    {
     "name": "stdout",
     "output_type": "stream",
     "text": [
      "time: 17.5 ms\n"
     ]
    }
   ],
   "source": [
    "#select the necessary colmns in order\n",
    "\n",
    "select_columns = ['prediction', 'userid', 'workoutid', 'sum_geo_distance', 'diff_altitude', \\\n",
    "                 'new_avg_speed', 'new_avg_dist', 'max_elapsed_time']\n",
    "last_df = total_df.select(select_columns)\n"
   ]
  },
  {
   "cell_type": "code",
   "execution_count": 50,
   "metadata": {
    "collapsed": false,
    "deletable": true,
    "editable": true
   },
   "outputs": [
    {
     "name": "stdout",
     "output_type": "stream",
     "text": [
      "time: 9.4 s\n"
     ]
    }
   ],
   "source": [
    "df_to_dave = vectorizeData(last_df)\n",
    "last_df.write.csv('dave.csv', header=True)"
   ]
  },
  {
   "cell_type": "code",
   "execution_count": 51,
   "metadata": {
    "collapsed": false,
    "deletable": true,
    "editable": true
   },
   "outputs": [
    {
     "name": "stdout",
     "output_type": "stream",
     "text": [
      "+----------+-------+---------+--------------------+--------------------+------------------+--------------------+----------------+\n",
      "|prediction| userid|workoutid|    sum_geo_distance|       diff_altitude|     new_avg_speed|        new_avg_dist|max_elapsed_time|\n",
      "+----------+-------+---------+--------------------+--------------------+------------------+--------------------+----------------+\n",
      "|         0|1812737|287717418|        0.0109394422|                 8.6| 11.16260689655172|        0.0109394422|            2607|\n",
      "|         0|4318337|483910800|0.005144956800000001|   5.399999999999999| 8.933478260869565|0.005144956800000001|             289|\n",
      "|         4|4362441|586875290|0.023242534400000004|  14.200000000000045|10.387329230769227|0.023242534400000004|            5427|\n",
      "|         4|2174810|610271083|        0.0231940093|  20.400000000000034|  7.57019076923077|        0.0231940093|            8600|\n",
      "|         0|4057523|631503257|0.043932086200000005|                15.6| 10.41191020408163|0.043932086200000005|             954|\n",
      "|         0| 126898|531794436|0.008990285099999997|   4.399999999999999|10.535970731707318|0.008990285099999997|             856|\n",
      "|         0| 745030|470504639|0.005403330800000001|                 6.4|15.158117647058823|0.005403330800000001|             784|\n",
      "|         1|  56331| 62593681| 0.09948985020000001|-0.20000000000000284|13.719277130044839| 0.09948985020000001|             909|\n",
      "|         0|3411439|530740947|        0.0059227269|                14.6|13.366384615384616|        0.0059227269|             702|\n",
      "|         4|7996903|323717077|         0.001151307|               133.2| 7.910799999999999|         0.001151307|            2605|\n",
      "|         0|  80118|299866442|0.008080359799999999|  18.600000000000023|10.345069565217395|0.008080359799999999|              95|\n",
      "|         2|3191096|525828966|0.001653894299999...|   5.200000000000003|10.341771428571429|0.001653894299999...|              47|\n",
      "|         2|7996903|610820640|           4.6052E-5|                 0.0|            6.4539|2.395346833333333...|               4|\n",
      "|         2|7996903|402592287|         1.899457E-4|                 0.0|            6.4539|2.395346833333333...|               6|\n",
      "|         2|7996903|305322511|          1.40226E-5|                 0.0|            6.4539|2.395346833333333...|               0|\n",
      "|         2|7996903|366407534|        0.0011458752|                38.0|            6.4539|2.395346833333333...|               8|\n",
      "|         2|7996903|323716970|                 0.0|                 0.0|            6.4539|2.395346833333333...|               1|\n",
      "|         2|7996903|236736452|          4.13126E-5|                 0.0|            6.4539|2.395346833333333...|               3|\n",
      "|         0|5964610|559261979|        0.0068375543|                12.2|11.232000000000001|        0.0068375543|             465|\n",
      "|         0|7516129|284139880|0.008571358999999997| -1.3999999999999986|           12.4368|0.008571358999999997|               9|\n",
      "+----------+-------+---------+--------------------+--------------------+------------------+--------------------+----------------+\n",
      "only showing top 20 rows\n",
      "\n",
      "time: 1.44 s\n"
     ]
    }
   ],
   "source": [
    "df_from_csv('dave.csv').show()"
   ]
  },
  {
   "cell_type": "code",
   "execution_count": null,
   "metadata": {
    "collapsed": true,
    "deletable": true,
    "editable": true
   },
   "outputs": [],
   "source": []
  },
  {
   "cell_type": "code",
   "execution_count": null,
   "metadata": {
    "collapsed": true,
    "deletable": true,
    "editable": true
   },
   "outputs": [],
   "source": []
  },
  {
   "cell_type": "code",
   "execution_count": null,
   "metadata": {
    "collapsed": true,
    "deletable": true,
    "editable": true
   },
   "outputs": [],
   "source": []
  },
  {
   "cell_type": "code",
   "execution_count": null,
   "metadata": {
    "collapsed": true,
    "deletable": true,
    "editable": true
   },
   "outputs": [],
   "source": []
  },
  {
   "cell_type": "code",
   "execution_count": null,
   "metadata": {
    "collapsed": true,
    "deletable": true,
    "editable": true
   },
   "outputs": [],
   "source": []
  },
  {
   "cell_type": "code",
   "execution_count": null,
   "metadata": {
    "collapsed": true,
    "deletable": true,
    "editable": true
   },
   "outputs": [],
   "source": []
  },
  {
   "cell_type": "code",
   "execution_count": null,
   "metadata": {
    "collapsed": true,
    "deletable": true,
    "editable": true
   },
   "outputs": [],
   "source": []
  },
  {
   "cell_type": "code",
   "execution_count": null,
   "metadata": {
    "collapsed": true,
    "deletable": true,
    "editable": true
   },
   "outputs": [],
   "source": []
  },
  {
   "cell_type": "code",
   "execution_count": null,
   "metadata": {
    "collapsed": true,
    "deletable": true,
    "editable": true
   },
   "outputs": [],
   "source": []
  },
  {
   "cell_type": "code",
   "execution_count": null,
   "metadata": {
    "collapsed": true,
    "deletable": true,
    "editable": true
   },
   "outputs": [],
   "source": []
  },
  {
   "cell_type": "code",
   "execution_count": null,
   "metadata": {
    "collapsed": true,
    "deletable": true,
    "editable": true
   },
   "outputs": [],
   "source": []
  },
  {
   "cell_type": "markdown",
   "metadata": {
    "collapsed": true,
    "deletable": true,
    "editable": true
   },
   "source": [
    "# old testing stuff"
   ]
  },
  {
   "cell_type": "code",
   "execution_count": 30,
   "metadata": {
    "collapsed": false,
    "deletable": true,
    "editable": true
   },
   "outputs": [
    {
     "ename": "NameError",
     "evalue": "name 'df_speed' is not defined",
     "output_type": "error",
     "traceback": [
      "\u001b[0;31m---------------------------------------------------------------------------\u001b[0m",
      "\u001b[0;31mNameError\u001b[0m                                 Traceback (most recent call last)",
      "\u001b[0;32m<ipython-input-30-aaac3b9a9b1c>\u001b[0m in \u001b[0;36m<module>\u001b[0;34m()\u001b[0m\n\u001b[0;32m----> 1\u001b[0;31m \u001b[0mcond\u001b[0m \u001b[0;34m=\u001b[0m \u001b[0;34m[\u001b[0m\u001b[0mdf_speed\u001b[0m\u001b[0;34m.\u001b[0m\u001b[0muserid\u001b[0m\u001b[0;34m==\u001b[0m\u001b[0mtotal_df\u001b[0m\u001b[0;34m.\u001b[0m\u001b[0muserid\u001b[0m\u001b[0;34m,\u001b[0m \u001b[0mdf_speed\u001b[0m\u001b[0;34m.\u001b[0m\u001b[0mprediction\u001b[0m\u001b[0;34m==\u001b[0m\u001b[0mtotal_df\u001b[0m\u001b[0;34m.\u001b[0m\u001b[0mprediction\u001b[0m\u001b[0;34m]\u001b[0m\u001b[0;34m\u001b[0m\u001b[0m\n\u001b[0m\u001b[1;32m      2\u001b[0m \u001b[0;34m\u001b[0m\u001b[0m\n\u001b[1;32m      3\u001b[0m \u001b[0;34m\u001b[0m\u001b[0m\n\u001b[1;32m      4\u001b[0m \u001b[0mmm\u001b[0m \u001b[0;34m=\u001b[0m \u001b[0mtotal_df\u001b[0m\u001b[0;34m.\u001b[0m\u001b[0mjoin\u001b[0m\u001b[0;34m(\u001b[0m\u001b[0mdf_dist\u001b[0m\u001b[0;34m,\u001b[0m \u001b[0mcond\u001b[0m \u001b[0;34m,\u001b[0m\u001b[0;34m'inner'\u001b[0m\u001b[0;34m)\u001b[0m\u001b[0;34m.\u001b[0m\u001b[0mdrop\u001b[0m\u001b[0;34m(\u001b[0m\u001b[0mdf_speed\u001b[0m\u001b[0;34m.\u001b[0m\u001b[0muserid\u001b[0m\u001b[0;34m)\u001b[0m\u001b[0;34m.\u001b[0m\u001b[0mdrop\u001b[0m\u001b[0;34m(\u001b[0m\u001b[0mdf_speed\u001b[0m\u001b[0;34m.\u001b[0m\u001b[0mprediction\u001b[0m\u001b[0;34m)\u001b[0m\u001b[0;34m\u001b[0m\u001b[0m\n\u001b[1;32m      5\u001b[0m \u001b[0mmm\u001b[0m\u001b[0;34m.\u001b[0m\u001b[0mschema\u001b[0m\u001b[0;34m\u001b[0m\u001b[0m\n",
      "\u001b[0;31mNameError\u001b[0m: name 'df_speed' is not defined"
     ]
    },
    {
     "name": "stdout",
     "output_type": "stream",
     "text": [
      "time: 11.4 ms\n"
     ]
    }
   ],
   "source": [
    "cond = [df_speed.userid==total_df.userid, df_speed.prediction==total_df.prediction]\n",
    "\n",
    "\n",
    "mm = total_df.join(df_dist, cond ,'inner').drop(df_speed.userid).drop(df_speed.prediction)\n",
    "mm.schema"
   ]
  },
  {
   "cell_type": "code",
   "execution_count": 34,
   "metadata": {
    "collapsed": false,
    "deletable": true,
    "editable": true
   },
   "outputs": [
    {
     "name": "stdout",
     "output_type": "stream",
     "text": [
      "time: 25.7 ms\n"
     ]
    }
   ],
   "source": [
    "sub_df_dist = df_dist.limit(3)\n",
    "sub_df_dist2 = df_dist.limit(3)\n"
   ]
  },
  {
   "cell_type": "code",
   "execution_count": 48,
   "metadata": {
    "collapsed": false,
    "deletable": true,
    "editable": true
   },
   "outputs": [
    {
     "name": "stdout",
     "output_type": "stream",
     "text": [
      "time: 1.44 s\n"
     ]
    }
   ],
   "source": [
    "sliced = sqlContext.createDataFrame(total_df.toPandas())\n",
    "#sliced.show()"
   ]
  },
  {
   "cell_type": "code",
   "execution_count": 32,
   "metadata": {
    "collapsed": true,
    "deletable": true,
    "editable": true
   },
   "outputs": [
    {
     "name": "stdout",
     "output_type": "stream",
     "text": [
      "+----------------+--------------------+---------+------------------+------------------+--------------------+-------+----------+\n",
      "|max_elapsed_time|    sum_geo_distance|workoutid|    avg_heart_rate|         avg_speed|       diff_altitude| userid|prediction|\n",
      "+----------------+--------------------+---------+------------------+------------------+--------------------+-------+----------+\n",
      "|            8600|        0.0231940093|610271083|154.58461538461538|  7.57019076923077|  20.400000000000034|2174810|         4|\n",
      "|              26|0.001163178299999...|366407436|             150.2|           9.48456|                 0.0|7996903|         0|\n",
      "|               9|0.008571358999999997|284139880| 150.0793650793651|           12.4368| -1.3999999999999986|7516129|         0|\n",
      "|             909| 0.09948985020000001| 62593681| 176.5605381165919|13.719277130044839|-0.20000000000000284|  56331|         1|\n",
      "|               8|        0.0041011599|442113709|         133.90625| 9.326250000000003|               -22.0|2119401|         0|\n",
      "|               4|           4.6052E-5|610820640|             120.0|            4.6152|                 0.0|7996903|         2|\n",
      "|            2890|4.319887000000000...|610818734|             142.5|            6.6231|   9.200000000000003|7996903|         0|\n",
      "|             289|0.005144956800000001|483910800|139.65217391304347| 8.933478260869565|   5.399999999999999|4318337|         0|\n",
      "|             996| 0.03865762390000001|323717755| 147.7605633802817| 9.046985915492955| -0.6000000000000085|7996903|         0|\n",
      "|               6|         1.899457E-4|402592287|              95.0|            5.1354|                 0.0|7996903|         2|\n",
      "|              36|         7.082217E-4|379855770|111.33333333333333|            10.548|  0.6000000000000005|7425627|         2|\n",
      "|            5427|0.023242534400000004|586875290|137.03076923076924|10.387329230769227|  14.200000000000045|4362441|         4|\n",
      "|               0|          1.40226E-5|305322511|             101.0|           11.8332|                 0.0|7996903|         2|\n",
      "|               9|        0.0051709727|467522271|128.05555555555554|             9.249|                10.2| 126898|         2|\n",
      "|             702|        0.0059227269|530740947|150.26923076923077|13.366384615384616|                14.6|3411439|         0|\n",
      "|               9|        0.0020339246|323717705|147.83333333333334|            8.1729|   4.200000000000003|7996903|         0|\n",
      "|             856|0.008990285099999997|531794436|155.41463414634146|10.535970731707318|   4.399999999999999| 126898|         0|\n",
      "|             465|        0.0068375543|559261979| 174.5483870967742|11.232000000000001|                12.2|5964610|         0|\n",
      "|             954|0.043932086200000005|631503257|166.87074829931973| 10.41191020408163|                15.6|4057523|         0|\n",
      "|               8|        0.0011458752|366407534|134.88888888888889| 7.354800000000001|                38.0|7996903|         2|\n",
      "+----------------+--------------------+---------+------------------+------------------+--------------------+-------+----------+\n",
      "\n",
      "time: 3.6 s\n"
     ]
    }
   ],
   "source": [
    "ss = total_df.limit(20)\n",
    "ss.show()"
   ]
  },
  {
   "cell_type": "code",
   "execution_count": 62,
   "metadata": {
    "collapsed": false,
    "deletable": true,
    "editable": true
   },
   "outputs": [
    {
     "name": "stdout",
     "output_type": "stream",
     "text": [
      "time: 4.98 s\n"
     ]
    }
   ],
   "source": [
    "total_df.write.csv('bad3.csv', header=True)"
   ]
  },
  {
   "cell_type": "code",
   "execution_count": 64,
   "metadata": {
    "collapsed": false,
    "deletable": true,
    "editable": true
   },
   "outputs": [
    {
     "name": "stdout",
     "output_type": "stream",
     "text": [
      "+----------------+--------------------+---------+------------------+------------------+------------------+--------+----------+\n",
      "|max_elapsed_time|    sum_geo_distance|workoutid|    avg_heart_rate|         avg_speed|     diff_altitude|  userid|prediction|\n",
      "+----------------+--------------------+---------+------------------+------------------+------------------+--------+----------+\n",
      "|             702|        0.0059227269|530740947|150.26923076923077|13.366384615384616|              14.6| 3411439|         0|\n",
      "|              36|         7.082217E-4|379855770|111.33333333333333|            10.548|0.6000000000000005| 7425627|         2|\n",
      "|               0|          1.40226E-5|305322511|             101.0|           11.8332|               0.0| 7996903|         2|\n",
      "|              87|0.004678078799999999|492108158| 162.9795918367347| 9.795673469387758|3.6000000000000005|13406764|         0|\n",
      "|               1|                 0.0|323716970|              89.5|            6.6384|               0.0| 7996903|         2|\n",
      "|             993| 0.08534906859999998| 90306301| 140.8450704225352|10.394695774647888|10.200000000000001| 2207788|         1|\n",
      "|               4|           4.6052E-5|610820640|             120.0|            4.6152|               0.0| 7996903|         2|\n",
      "|            8600|        0.0231940093|610271083|154.58461538461538|  7.57019076923077|20.400000000000034| 2174810|         4|\n",
      "|               8|        0.0011458752|366407534|134.88888888888889| 7.354800000000001|              38.0| 7996903|         2|\n",
      "|             954|0.043932086200000005|631503257|166.87074829931973| 10.41191020408163|              15.6| 4057523|         0|\n",
      "|             465|        0.0068375543|559261979| 174.5483870967742|11.232000000000001|              12.2| 5964610|         0|\n",
      "|               9|        0.0051709727|467522271|128.05555555555554|             9.249|              10.2|  126898|         2|\n",
      "|             760|         5.163008E-4|379856002|            157.25|             9.846|0.1999999999999993| 7425627|         0|\n",
      "|               3|          4.13126E-5|236736452|              99.5|            3.1464|               0.0| 7996903|         2|\n",
      "|              82|        0.0031643553|610819840|160.33333333333334|10.999199999999998|               0.0| 7996903|         0|\n",
      "|               0|           2.3708E-6|323717026|             122.0|           46.2708|               0.0| 7996903|         3|\n",
      "|               8|        0.0041011599|442113709|         133.90625| 9.326250000000003|             -22.0| 2119401|         0|\n",
      "|              95|0.008080359799999999|299866442|143.17391304347825|10.345069565217395|18.600000000000023|   80118|         0|\n",
      "|            2607|        0.0109394422|287717418|156.89655172413794| 11.16260689655172|               8.6| 1812737|         0|\n",
      "|              61|0.013092680100000002|611346021|122.48529411764706| 7.924976470588236|              24.4| 3082409|         2|\n",
      "+----------------+--------------------+---------+------------------+------------------+------------------+--------+----------+\n",
      "only showing top 20 rows\n",
      "\n",
      "time: 1.55 s\n"
     ]
    }
   ],
   "source": [
    "mydf = df_from_csv('bad3.csv')\n",
    "mydf.show()"
   ]
  },
  {
   "cell_type": "code",
   "execution_count": 65,
   "metadata": {
    "collapsed": false,
    "deletable": true,
    "editable": true
   },
   "outputs": [
    {
     "name": "stdout",
     "output_type": "stream",
     "text": [
      "+----------------+--------------------+---------+------------------+------------------+------------------+--------+----------+--------+----------+--------------------+\n",
      "|max_elapsed_time|    sum_geo_distance|workoutid|    avg_heart_rate|         avg_speed|     diff_altitude|  userid|prediction|  userid|prediction|        new_avg_dist|\n",
      "+----------------+--------------------+---------+------------------+------------------+------------------+--------+----------+--------+----------+--------------------+\n",
      "|             702|        0.0059227269|530740947|150.26923076923077|13.366384615384616|              14.6| 3411439|         0|13406764|         0|0.004678078799999999|\n",
      "|             702|        0.0059227269|530740947|150.26923076923077|13.366384615384616|              14.6| 3411439|         0|  126898|         0|0.008990285099999997|\n",
      "|             702|        0.0059227269|530740947|150.26923076923077|13.366384615384616|              14.6| 3411439|         0| 7996903|         0| 0.00688404242857143|\n",
      "|              87|0.004678078799999999|492108158| 162.9795918367347| 9.795673469387758|3.6000000000000005|13406764|         0|13406764|         0|0.004678078799999999|\n",
      "|              87|0.004678078799999999|492108158| 162.9795918367347| 9.795673469387758|3.6000000000000005|13406764|         0|  126898|         0|0.008990285099999997|\n",
      "|              87|0.004678078799999999|492108158| 162.9795918367347| 9.795673469387758|3.6000000000000005|13406764|         0| 7996903|         0| 0.00688404242857143|\n",
      "|             954|0.043932086200000005|631503257|166.87074829931973| 10.41191020408163|              15.6| 4057523|         0|13406764|         0|0.004678078799999999|\n",
      "|             954|0.043932086200000005|631503257|166.87074829931973| 10.41191020408163|              15.6| 4057523|         0|  126898|         0|0.008990285099999997|\n",
      "|             954|0.043932086200000005|631503257|166.87074829931973| 10.41191020408163|              15.6| 4057523|         0| 7996903|         0| 0.00688404242857143|\n",
      "|             465|        0.0068375543|559261979| 174.5483870967742|11.232000000000001|              12.2| 5964610|         0|13406764|         0|0.004678078799999999|\n",
      "|             465|        0.0068375543|559261979| 174.5483870967742|11.232000000000001|              12.2| 5964610|         0|  126898|         0|0.008990285099999997|\n",
      "|             465|        0.0068375543|559261979| 174.5483870967742|11.232000000000001|              12.2| 5964610|         0| 7996903|         0| 0.00688404242857143|\n",
      "|             760|         5.163008E-4|379856002|            157.25|             9.846|0.1999999999999993| 7425627|         0|13406764|         0|0.004678078799999999|\n",
      "|             760|         5.163008E-4|379856002|            157.25|             9.846|0.1999999999999993| 7425627|         0|  126898|         0|0.008990285099999997|\n",
      "|             760|         5.163008E-4|379856002|            157.25|             9.846|0.1999999999999993| 7425627|         0| 7996903|         0| 0.00688404242857143|\n",
      "|              82|        0.0031643553|610819840|160.33333333333334|10.999199999999998|               0.0| 7996903|         0|13406764|         0|0.004678078799999999|\n",
      "|              82|        0.0031643553|610819840|160.33333333333334|10.999199999999998|               0.0| 7996903|         0|  126898|         0|0.008990285099999997|\n",
      "|              82|        0.0031643553|610819840|160.33333333333334|10.999199999999998|               0.0| 7996903|         0| 7996903|         0| 0.00688404242857143|\n",
      "|               8|        0.0041011599|442113709|         133.90625| 9.326250000000003|             -22.0| 2119401|         0|13406764|         0|0.004678078799999999|\n",
      "|               8|        0.0041011599|442113709|         133.90625| 9.326250000000003|             -22.0| 2119401|         0|  126898|         0|0.008990285099999997|\n",
      "+----------------+--------------------+---------+------------------+------------------+------------------+--------+----------+--------+----------+--------------------+\n",
      "only showing top 20 rows\n",
      "\n",
      "time: 5.04 s\n"
     ]
    }
   ],
   "source": [
    "mydf.join(sub_df_dist, (sub_df_dist.prediction==mydf.prediction), 'inner').show()"
   ]
  },
  {
   "cell_type": "code",
   "execution_count": 66,
   "metadata": {
    "collapsed": false,
    "deletable": true,
    "editable": true
   },
   "outputs": [
    {
     "name": "stdout",
     "output_type": "stream",
     "text": [
      "+----------------+--------------------+---------+------------------+------------------+--------------------+-------+----------+\n",
      "|max_elapsed_time|    sum_geo_distance|workoutid|    avg_heart_rate|         avg_speed|       diff_altitude| userid|prediction|\n",
      "+----------------+--------------------+---------+------------------+------------------+--------------------+-------+----------+\n",
      "|            8600|        0.0231940093|610271083|154.58461538461538|  7.57019076923077|  20.400000000000034|2174810|         4|\n",
      "|              26|0.001163178299999...|366407436|             150.2|           9.48456|                 0.0|7996903|         0|\n",
      "|               9|0.008571358999999997|284139880| 150.0793650793651|           12.4368| -1.3999999999999986|7516129|         0|\n",
      "|             909| 0.09948985020000001| 62593681| 176.5605381165919|13.719277130044839|-0.20000000000000284|  56331|         1|\n",
      "|               8|        0.0041011599|442113709|         133.90625| 9.326250000000003|               -22.0|2119401|         0|\n",
      "|               4|           4.6052E-5|610820640|             120.0|            4.6152|                 0.0|7996903|         2|\n",
      "|            2890|4.319887000000000...|610818734|             142.5|            6.6231|   9.200000000000003|7996903|         0|\n",
      "|             289|0.005144956800000001|483910800|139.65217391304347| 8.933478260869565|   5.399999999999999|4318337|         0|\n",
      "|             996| 0.03865762390000001|323717755| 147.7605633802817| 9.046985915492955| -0.6000000000000085|7996903|         0|\n",
      "|               6|         1.899457E-4|402592287|              95.0|            5.1354|                 0.0|7996903|         2|\n",
      "|              36|         7.082217E-4|379855770|111.33333333333333|            10.548|  0.6000000000000005|7425627|         2|\n",
      "|            5427|0.023242534400000004|586875290|137.03076923076924|10.387329230769227|  14.200000000000045|4362441|         4|\n",
      "|               0|          1.40226E-5|305322511|             101.0|           11.8332|                 0.0|7996903|         2|\n",
      "|               9|        0.0051709727|467522271|128.05555555555554|             9.249|                10.2| 126898|         2|\n",
      "|             702|        0.0059227269|530740947|150.26923076923077|13.366384615384616|                14.6|3411439|         0|\n",
      "|               9|        0.0020339246|323717705|147.83333333333334|            8.1729|   4.200000000000003|7996903|         0|\n",
      "|             856|0.008990285099999997|531794436|155.41463414634146|10.535970731707318|   4.399999999999999| 126898|         0|\n",
      "|             465|        0.0068375543|559261979| 174.5483870967742|11.232000000000001|                12.2|5964610|         0|\n",
      "|             954|0.043932086200000005|631503257|166.87074829931973| 10.41191020408163|                15.6|4057523|         0|\n",
      "|               8|        0.0011458752|366407534|134.88888888888889| 7.354800000000001|                38.0|7996903|         2|\n",
      "+----------------+--------------------+---------+------------------+------------------+--------------------+-------+----------+\n",
      "only showing top 20 rows\n",
      "\n",
      "time: 6.5 s\n"
     ]
    }
   ],
   "source": [
    "columns = total_df.schema.names\n",
    "mydf = total_df.rdd.toDF(columns)\n",
    "mydf.show()"
   ]
  },
  {
   "cell_type": "code",
   "execution_count": 67,
   "metadata": {
    "collapsed": false,
    "deletable": true,
    "editable": true
   },
   "outputs": [
    {
     "name": "stdout",
     "output_type": "stream",
     "text": [
      "+----------------+--------------------+---------+------------------+------------------+-------------------+-------+----------+--------+----------+--------------------+\n",
      "|max_elapsed_time|    sum_geo_distance|workoutid|    avg_heart_rate|         avg_speed|      diff_altitude| userid|prediction|  userid|prediction|        new_avg_dist|\n",
      "+----------------+--------------------+---------+------------------+------------------+-------------------+-------+----------+--------+----------+--------------------+\n",
      "|              26|0.001163178299999...|366407436|             150.2|           9.48456|                0.0|7996903|         0|13406764|         0|0.004678078799999999|\n",
      "|              26|0.001163178299999...|366407436|             150.2|           9.48456|                0.0|7996903|         0|  126898|         0|0.008990285099999997|\n",
      "|              26|0.001163178299999...|366407436|             150.2|           9.48456|                0.0|7996903|         0| 7996903|         0| 0.00688404242857143|\n",
      "|               9|0.008571358999999997|284139880| 150.0793650793651|           12.4368|-1.3999999999999986|7516129|         0|13406764|         0|0.004678078799999999|\n",
      "|               9|0.008571358999999997|284139880| 150.0793650793651|           12.4368|-1.3999999999999986|7516129|         0|  126898|         0|0.008990285099999997|\n",
      "|               9|0.008571358999999997|284139880| 150.0793650793651|           12.4368|-1.3999999999999986|7516129|         0| 7996903|         0| 0.00688404242857143|\n",
      "|               8|        0.0041011599|442113709|         133.90625| 9.326250000000003|              -22.0|2119401|         0|13406764|         0|0.004678078799999999|\n",
      "|               8|        0.0041011599|442113709|         133.90625| 9.326250000000003|              -22.0|2119401|         0|  126898|         0|0.008990285099999997|\n",
      "|               8|        0.0041011599|442113709|         133.90625| 9.326250000000003|              -22.0|2119401|         0| 7996903|         0| 0.00688404242857143|\n",
      "|            2890|4.319887000000000...|610818734|             142.5|            6.6231|  9.200000000000003|7996903|         0|13406764|         0|0.004678078799999999|\n",
      "|            2890|4.319887000000000...|610818734|             142.5|            6.6231|  9.200000000000003|7996903|         0|  126898|         0|0.008990285099999997|\n",
      "|            2890|4.319887000000000...|610818734|             142.5|            6.6231|  9.200000000000003|7996903|         0| 7996903|         0| 0.00688404242857143|\n",
      "|             289|0.005144956800000001|483910800|139.65217391304347| 8.933478260869565|  5.399999999999999|4318337|         0|13406764|         0|0.004678078799999999|\n",
      "|             289|0.005144956800000001|483910800|139.65217391304347| 8.933478260869565|  5.399999999999999|4318337|         0|  126898|         0|0.008990285099999997|\n",
      "|             289|0.005144956800000001|483910800|139.65217391304347| 8.933478260869565|  5.399999999999999|4318337|         0| 7996903|         0| 0.00688404242857143|\n",
      "|             996| 0.03865762390000001|323717755| 147.7605633802817| 9.046985915492955|-0.6000000000000085|7996903|         0|13406764|         0|0.004678078799999999|\n",
      "|             996| 0.03865762390000001|323717755| 147.7605633802817| 9.046985915492955|-0.6000000000000085|7996903|         0|  126898|         0|0.008990285099999997|\n",
      "|             996| 0.03865762390000001|323717755| 147.7605633802817| 9.046985915492955|-0.6000000000000085|7996903|         0| 7996903|         0| 0.00688404242857143|\n",
      "|             702|        0.0059227269|530740947|150.26923076923077|13.366384615384616|               14.6|3411439|         0|13406764|         0|0.004678078799999999|\n",
      "|             702|        0.0059227269|530740947|150.26923076923077|13.366384615384616|               14.6|3411439|         0|  126898|         0|0.008990285099999997|\n",
      "+----------------+--------------------+---------+------------------+------------------+-------------------+-------+----------+--------+----------+--------------------+\n",
      "only showing top 20 rows\n",
      "\n",
      "time: 5.99 s\n"
     ]
    }
   ],
   "source": [
    "mydf.join(sub_df_dist, (sub_df_dist.prediction==mydf.prediction), 'inner').show()"
   ]
  },
  {
   "cell_type": "code",
   "execution_count": 35,
   "metadata": {
    "collapsed": false,
    "deletable": true,
    "editable": true
   },
   "outputs": [
    {
     "name": "stdout",
     "output_type": "stream",
     "text": [
      "+----------------+--------------------+---------+------------------+------------------+-------------------+-------+----------+--------+----------+--------------------+\n",
      "|max_elapsed_time|    sum_geo_distance|workoutid|    avg_heart_rate|         avg_speed|      diff_altitude| userid|prediction|  userid|prediction|        new_avg_dist|\n",
      "+----------------+--------------------+---------+------------------+------------------+-------------------+-------+----------+--------+----------+--------------------+\n",
      "|              26|0.001163178299999...|366407436|             150.2|           9.48456|                0.0|7996903|         0|13406764|         0|0.004678078799999999|\n",
      "|              26|0.001163178299999...|366407436|             150.2|           9.48456|                0.0|7996903|         0|  126898|         0|0.008990285099999997|\n",
      "|              26|0.001163178299999...|366407436|             150.2|           9.48456|                0.0|7996903|         0| 7996903|         0| 0.00688404242857143|\n",
      "|               9|0.008571358999999997|284139880| 150.0793650793651|           12.4368|-1.3999999999999986|7516129|         0|13406764|         0|0.004678078799999999|\n",
      "|               9|0.008571358999999997|284139880| 150.0793650793651|           12.4368|-1.3999999999999986|7516129|         0|  126898|         0|0.008990285099999997|\n",
      "|               9|0.008571358999999997|284139880| 150.0793650793651|           12.4368|-1.3999999999999986|7516129|         0| 7996903|         0| 0.00688404242857143|\n",
      "|               8|        0.0041011599|442113709|         133.90625| 9.326250000000003|              -22.0|2119401|         0|13406764|         0|0.004678078799999999|\n",
      "|               8|        0.0041011599|442113709|         133.90625| 9.326250000000003|              -22.0|2119401|         0|  126898|         0|0.008990285099999997|\n",
      "|               8|        0.0041011599|442113709|         133.90625| 9.326250000000003|              -22.0|2119401|         0| 7996903|         0| 0.00688404242857143|\n",
      "|            2890|4.319887000000000...|610818734|             142.5|            6.6231|  9.200000000000003|7996903|         0|13406764|         0|0.004678078799999999|\n",
      "|            2890|4.319887000000000...|610818734|             142.5|            6.6231|  9.200000000000003|7996903|         0|  126898|         0|0.008990285099999997|\n",
      "|            2890|4.319887000000000...|610818734|             142.5|            6.6231|  9.200000000000003|7996903|         0| 7996903|         0| 0.00688404242857143|\n",
      "|             289|0.005144956800000001|483910800|139.65217391304347| 8.933478260869565|  5.399999999999999|4318337|         0|13406764|         0|0.004678078799999999|\n",
      "|             289|0.005144956800000001|483910800|139.65217391304347| 8.933478260869565|  5.399999999999999|4318337|         0|  126898|         0|0.008990285099999997|\n",
      "|             289|0.005144956800000001|483910800|139.65217391304347| 8.933478260869565|  5.399999999999999|4318337|         0| 7996903|         0| 0.00688404242857143|\n",
      "|             996| 0.03865762390000001|323717755| 147.7605633802817| 9.046985915492955|-0.6000000000000085|7996903|         0|13406764|         0|0.004678078799999999|\n",
      "|             996| 0.03865762390000001|323717755| 147.7605633802817| 9.046985915492955|-0.6000000000000085|7996903|         0|  126898|         0|0.008990285099999997|\n",
      "|             996| 0.03865762390000001|323717755| 147.7605633802817| 9.046985915492955|-0.6000000000000085|7996903|         0| 7996903|         0| 0.00688404242857143|\n",
      "|             702|        0.0059227269|530740947|150.26923076923077|13.366384615384616|               14.6|3411439|         0|13406764|         0|0.004678078799999999|\n",
      "|             702|        0.0059227269|530740947|150.26923076923077|13.366384615384616|               14.6|3411439|         0|  126898|         0|0.008990285099999997|\n",
      "+----------------+--------------------+---------+------------------+------------------+-------------------+-------+----------+--------+----------+--------------------+\n",
      "only showing top 20 rows\n",
      "\n",
      "time: 7.79 s\n"
     ]
    }
   ],
   "source": [
    "ss.join(sub_df_dist, (sub_df_dist.prediction==ss.prediction), 'inner').show()"
   ]
  },
  {
   "cell_type": "code",
   "execution_count": 217,
   "metadata": {
    "collapsed": false,
    "deletable": true,
    "editable": true
   },
   "outputs": [
    {
     "name": "stdout",
     "output_type": "stream",
     "text": [
      "+--------+----------+--------------------+--------+----------+--------------------+\n",
      "|  userid|prediction|        new_avg_dist|  userid|prediction|        new_avg_dist|\n",
      "+--------+----------+--------------------+--------+----------+--------------------+\n",
      "| 7996903|         0| 0.00688404242857143| 7996903|         0| 0.00688404242857143|\n",
      "|  126898|         0|0.008990285099999997|  126898|         0|0.008990285099999997|\n",
      "|13406764|         0|0.004678078799999999|13406764|         0|0.004678078799999999|\n",
      "+--------+----------+--------------------+--------+----------+--------------------+\n",
      "\n",
      "time: 12 s\n"
     ]
    }
   ],
   "source": [
    "sub_df_dist.join(sub_df_dist2, (sub_df_dist.prediction==sub_df_dist2.prediction) &\\\n",
    "                 (sub_df_dist.userid==sub_df_dist2.userid),'inner').show()"
   ]
  },
  {
   "cell_type": "code",
   "execution_count": 31,
   "metadata": {
    "collapsed": false,
    "deletable": true,
    "editable": true
   },
   "outputs": [
    {
     "ename": "Py4JJavaError",
     "evalue": "An error occurred while calling o717.showString.\n: org.apache.spark.SparkException: Job aborted due to stage failure: Task 11 in stage 680.0 failed 1 times, most recent failure: Lost task 11.0 in stage 680.0 (TID 9190, localhost, executor driver): java.lang.ArrayIndexOutOfBoundsException: 1\n\tat org.apache.spark.sql.catalyst.expressions.GenericInternalRow.genericGet(rows.scala:200)\n\tat org.apache.spark.sql.catalyst.expressions.BaseGenericInternalRow$class.getAs(rows.scala:35)\n\tat org.apache.spark.sql.catalyst.expressions.BaseGenericInternalRow$class.isNullAt(rows.scala:36)\n\tat org.apache.spark.sql.catalyst.expressions.GenericInternalRow.isNullAt(rows.scala:194)\n\tat org.apache.spark.sql.catalyst.expressions.JoinedRow.isNullAt(JoinedRow.scala:70)\n\tat org.apache.spark.sql.catalyst.expressions.GeneratedClass$SpecificUnsafeProjection.apply5_1$(Unknown Source)\n\tat org.apache.spark.sql.catalyst.expressions.GeneratedClass$SpecificUnsafeProjection.apply(Unknown Source)\n\tat org.apache.spark.sql.execution.python.BatchEvalPythonExec$$anonfun$doExecute$1$$anonfun$apply$7.apply(BatchEvalPythonExec.scala:166)\n\tat org.apache.spark.sql.execution.python.BatchEvalPythonExec$$anonfun$doExecute$1$$anonfun$apply$7.apply(BatchEvalPythonExec.scala:158)\n\tat scala.collection.Iterator$$anon$11.next(Iterator.scala:409)\n\tat scala.collection.Iterator$$anon$11.next(Iterator.scala:409)\n\tat org.apache.spark.shuffle.sort.BypassMergeSortShuffleWriter.write(BypassMergeSortShuffleWriter.java:150)\n\tat org.apache.spark.scheduler.ShuffleMapTask.runTask(ShuffleMapTask.scala:96)\n\tat org.apache.spark.scheduler.ShuffleMapTask.runTask(ShuffleMapTask.scala:53)\n\tat org.apache.spark.scheduler.Task.run(Task.scala:99)\n\tat org.apache.spark.executor.Executor$TaskRunner.run(Executor.scala:282)\n\tat java.util.concurrent.ThreadPoolExecutor.runWorker(ThreadPoolExecutor.java:1142)\n\tat java.util.concurrent.ThreadPoolExecutor$Worker.run(ThreadPoolExecutor.java:617)\n\tat java.lang.Thread.run(Thread.java:745)\n\nDriver stacktrace:\n\tat org.apache.spark.scheduler.DAGScheduler.org$apache$spark$scheduler$DAGScheduler$$failJobAndIndependentStages(DAGScheduler.scala:1435)\n\tat org.apache.spark.scheduler.DAGScheduler$$anonfun$abortStage$1.apply(DAGScheduler.scala:1423)\n\tat org.apache.spark.scheduler.DAGScheduler$$anonfun$abortStage$1.apply(DAGScheduler.scala:1422)\n\tat scala.collection.mutable.ResizableArray$class.foreach(ResizableArray.scala:59)\n\tat scala.collection.mutable.ArrayBuffer.foreach(ArrayBuffer.scala:48)\n\tat org.apache.spark.scheduler.DAGScheduler.abortStage(DAGScheduler.scala:1422)\n\tat org.apache.spark.scheduler.DAGScheduler$$anonfun$handleTaskSetFailed$1.apply(DAGScheduler.scala:802)\n\tat org.apache.spark.scheduler.DAGScheduler$$anonfun$handleTaskSetFailed$1.apply(DAGScheduler.scala:802)\n\tat scala.Option.foreach(Option.scala:257)\n\tat org.apache.spark.scheduler.DAGScheduler.handleTaskSetFailed(DAGScheduler.scala:802)\n\tat org.apache.spark.scheduler.DAGSchedulerEventProcessLoop.doOnReceive(DAGScheduler.scala:1650)\n\tat org.apache.spark.scheduler.DAGSchedulerEventProcessLoop.onReceive(DAGScheduler.scala:1605)\n\tat org.apache.spark.scheduler.DAGSchedulerEventProcessLoop.onReceive(DAGScheduler.scala:1594)\n\tat org.apache.spark.util.EventLoop$$anon$1.run(EventLoop.scala:48)\n\tat org.apache.spark.scheduler.DAGScheduler.runJob(DAGScheduler.scala:628)\n\tat org.apache.spark.SparkContext.runJob(SparkContext.scala:1918)\n\tat org.apache.spark.SparkContext.runJob(SparkContext.scala:1931)\n\tat org.apache.spark.SparkContext.runJob(SparkContext.scala:1944)\n\tat org.apache.spark.sql.execution.SparkPlan.executeTake(SparkPlan.scala:333)\n\tat org.apache.spark.sql.execution.CollectLimitExec.executeCollect(limit.scala:38)\n\tat org.apache.spark.sql.Dataset$$anonfun$org$apache$spark$sql$Dataset$$execute$1$1.apply(Dataset.scala:2371)\n\tat org.apache.spark.sql.execution.SQLExecution$.withNewExecutionId(SQLExecution.scala:57)\n\tat org.apache.spark.sql.Dataset.withNewExecutionId(Dataset.scala:2765)\n\tat org.apache.spark.sql.Dataset.org$apache$spark$sql$Dataset$$execute$1(Dataset.scala:2370)\n\tat org.apache.spark.sql.Dataset.org$apache$spark$sql$Dataset$$collect(Dataset.scala:2377)\n\tat org.apache.spark.sql.Dataset$$anonfun$head$1.apply(Dataset.scala:2113)\n\tat org.apache.spark.sql.Dataset$$anonfun$head$1.apply(Dataset.scala:2112)\n\tat org.apache.spark.sql.Dataset.withTypedCallback(Dataset.scala:2795)\n\tat org.apache.spark.sql.Dataset.head(Dataset.scala:2112)\n\tat org.apache.spark.sql.Dataset.take(Dataset.scala:2327)\n\tat org.apache.spark.sql.Dataset.showString(Dataset.scala:248)\n\tat sun.reflect.NativeMethodAccessorImpl.invoke0(Native Method)\n\tat sun.reflect.NativeMethodAccessorImpl.invoke(NativeMethodAccessorImpl.java:62)\n\tat sun.reflect.DelegatingMethodAccessorImpl.invoke(DelegatingMethodAccessorImpl.java:43)\n\tat java.lang.reflect.Method.invoke(Method.java:498)\n\tat py4j.reflection.MethodInvoker.invoke(MethodInvoker.java:244)\n\tat py4j.reflection.ReflectionEngine.invoke(ReflectionEngine.java:357)\n\tat py4j.Gateway.invoke(Gateway.java:280)\n\tat py4j.commands.AbstractCommand.invokeMethod(AbstractCommand.java:132)\n\tat py4j.commands.CallCommand.execute(CallCommand.java:79)\n\tat py4j.GatewayConnection.run(GatewayConnection.java:214)\n\tat java.lang.Thread.run(Thread.java:745)\nCaused by: java.lang.ArrayIndexOutOfBoundsException: 1\n\tat org.apache.spark.sql.catalyst.expressions.GenericInternalRow.genericGet(rows.scala:200)\n\tat org.apache.spark.sql.catalyst.expressions.BaseGenericInternalRow$class.getAs(rows.scala:35)\n\tat org.apache.spark.sql.catalyst.expressions.BaseGenericInternalRow$class.isNullAt(rows.scala:36)\n\tat org.apache.spark.sql.catalyst.expressions.GenericInternalRow.isNullAt(rows.scala:194)\n\tat org.apache.spark.sql.catalyst.expressions.JoinedRow.isNullAt(JoinedRow.scala:70)\n\tat org.apache.spark.sql.catalyst.expressions.GeneratedClass$SpecificUnsafeProjection.apply5_1$(Unknown Source)\n\tat org.apache.spark.sql.catalyst.expressions.GeneratedClass$SpecificUnsafeProjection.apply(Unknown Source)\n\tat org.apache.spark.sql.execution.python.BatchEvalPythonExec$$anonfun$doExecute$1$$anonfun$apply$7.apply(BatchEvalPythonExec.scala:166)\n\tat org.apache.spark.sql.execution.python.BatchEvalPythonExec$$anonfun$doExecute$1$$anonfun$apply$7.apply(BatchEvalPythonExec.scala:158)\n\tat scala.collection.Iterator$$anon$11.next(Iterator.scala:409)\n\tat scala.collection.Iterator$$anon$11.next(Iterator.scala:409)\n\tat org.apache.spark.shuffle.sort.BypassMergeSortShuffleWriter.write(BypassMergeSortShuffleWriter.java:150)\n\tat org.apache.spark.scheduler.ShuffleMapTask.runTask(ShuffleMapTask.scala:96)\n\tat org.apache.spark.scheduler.ShuffleMapTask.runTask(ShuffleMapTask.scala:53)\n\tat org.apache.spark.scheduler.Task.run(Task.scala:99)\n\tat org.apache.spark.executor.Executor$TaskRunner.run(Executor.scala:282)\n\tat java.util.concurrent.ThreadPoolExecutor.runWorker(ThreadPoolExecutor.java:1142)\n\tat java.util.concurrent.ThreadPoolExecutor$Worker.run(ThreadPoolExecutor.java:617)\n\t... 1 more\n",
     "output_type": "error",
     "traceback": [
      "\u001b[0;31m---------------------------------------------------------------------------\u001b[0m",
      "\u001b[0;31mPy4JJavaError\u001b[0m                             Traceback (most recent call last)",
      "\u001b[0;32m<ipython-input-31-c2cf1f205b2a>\u001b[0m in \u001b[0;36m<module>\u001b[0;34m()\u001b[0m\n\u001b[1;32m     12\u001b[0m \u001b[0;31m#                      'inner')\u001b[0m\u001b[0;34m\u001b[0m\u001b[0;34m\u001b[0m\u001b[0m\n\u001b[1;32m     13\u001b[0m \u001b[0mtotal\u001b[0m \u001b[0;34m=\u001b[0m \u001b[0mdf_speed\u001b[0m\u001b[0;34m.\u001b[0m\u001b[0mjoin\u001b[0m\u001b[0;34m(\u001b[0m\u001b[0mdf_dist\u001b[0m\u001b[0;34m,\u001b[0m\u001b[0;34m(\u001b[0m\u001b[0mdf_speed\u001b[0m\u001b[0;34m.\u001b[0m\u001b[0mprediction\u001b[0m\u001b[0;34m==\u001b[0m\u001b[0mdf_dist\u001b[0m\u001b[0;34m.\u001b[0m\u001b[0mprediction\u001b[0m\u001b[0;34m)\u001b[0m\u001b[0;34m,\u001b[0m                     \u001b[0;34m'inner'\u001b[0m\u001b[0;34m)\u001b[0m\u001b[0;34m.\u001b[0m\u001b[0mdrop\u001b[0m\u001b[0;34m(\u001b[0m\u001b[0mdf_speed\u001b[0m\u001b[0;34m.\u001b[0m\u001b[0mprediction\u001b[0m\u001b[0;34m)\u001b[0m\u001b[0;34m\u001b[0m\u001b[0m\n\u001b[0;32m---> 14\u001b[0;31m \u001b[0mtotal\u001b[0m\u001b[0;34m.\u001b[0m\u001b[0mshow\u001b[0m\u001b[0;34m(\u001b[0m\u001b[0;34m)\u001b[0m\u001b[0;34m\u001b[0m\u001b[0m\n\u001b[0m\u001b[1;32m     15\u001b[0m \u001b[0;34m\u001b[0m\u001b[0m\n\u001b[1;32m     16\u001b[0m \u001b[0;31m#             if aggregation_type == 'avg':\u001b[0m\u001b[0;34m\u001b[0m\u001b[0;34m\u001b[0m\u001b[0m\n",
      "\u001b[0;32m/opt/spark/spark-2.1.0-bin-hadoop2.7/python/pyspark/sql/dataframe.pyc\u001b[0m in \u001b[0;36mshow\u001b[0;34m(self, n, truncate)\u001b[0m\n\u001b[1;32m    316\u001b[0m         \"\"\"\n\u001b[1;32m    317\u001b[0m         \u001b[0;32mif\u001b[0m \u001b[0misinstance\u001b[0m\u001b[0;34m(\u001b[0m\u001b[0mtruncate\u001b[0m\u001b[0;34m,\u001b[0m \u001b[0mbool\u001b[0m\u001b[0;34m)\u001b[0m \u001b[0;32mand\u001b[0m \u001b[0mtruncate\u001b[0m\u001b[0;34m:\u001b[0m\u001b[0;34m\u001b[0m\u001b[0m\n\u001b[0;32m--> 318\u001b[0;31m             \u001b[0;32mprint\u001b[0m\u001b[0;34m(\u001b[0m\u001b[0mself\u001b[0m\u001b[0;34m.\u001b[0m\u001b[0m_jdf\u001b[0m\u001b[0;34m.\u001b[0m\u001b[0mshowString\u001b[0m\u001b[0;34m(\u001b[0m\u001b[0mn\u001b[0m\u001b[0;34m,\u001b[0m \u001b[0;36m20\u001b[0m\u001b[0;34m)\u001b[0m\u001b[0;34m)\u001b[0m\u001b[0;34m\u001b[0m\u001b[0m\n\u001b[0m\u001b[1;32m    319\u001b[0m         \u001b[0;32melse\u001b[0m\u001b[0;34m:\u001b[0m\u001b[0;34m\u001b[0m\u001b[0m\n\u001b[1;32m    320\u001b[0m             \u001b[0;32mprint\u001b[0m\u001b[0;34m(\u001b[0m\u001b[0mself\u001b[0m\u001b[0;34m.\u001b[0m\u001b[0m_jdf\u001b[0m\u001b[0;34m.\u001b[0m\u001b[0mshowString\u001b[0m\u001b[0;34m(\u001b[0m\u001b[0mn\u001b[0m\u001b[0;34m,\u001b[0m \u001b[0mint\u001b[0m\u001b[0;34m(\u001b[0m\u001b[0mtruncate\u001b[0m\u001b[0;34m)\u001b[0m\u001b[0;34m)\u001b[0m\u001b[0;34m)\u001b[0m\u001b[0;34m\u001b[0m\u001b[0m\n",
      "\u001b[0;32m/opt/spark/spark-2.1.0-bin-hadoop2.7/python/lib/py4j-0.10.4-src.zip/py4j/java_gateway.py\u001b[0m in \u001b[0;36m__call__\u001b[0;34m(self, *args)\u001b[0m\n\u001b[1;32m   1131\u001b[0m         \u001b[0manswer\u001b[0m \u001b[0;34m=\u001b[0m \u001b[0mself\u001b[0m\u001b[0;34m.\u001b[0m\u001b[0mgateway_client\u001b[0m\u001b[0;34m.\u001b[0m\u001b[0msend_command\u001b[0m\u001b[0;34m(\u001b[0m\u001b[0mcommand\u001b[0m\u001b[0;34m)\u001b[0m\u001b[0;34m\u001b[0m\u001b[0m\n\u001b[1;32m   1132\u001b[0m         return_value = get_return_value(\n\u001b[0;32m-> 1133\u001b[0;31m             answer, self.gateway_client, self.target_id, self.name)\n\u001b[0m\u001b[1;32m   1134\u001b[0m \u001b[0;34m\u001b[0m\u001b[0m\n\u001b[1;32m   1135\u001b[0m         \u001b[0;32mfor\u001b[0m \u001b[0mtemp_arg\u001b[0m \u001b[0;32min\u001b[0m \u001b[0mtemp_args\u001b[0m\u001b[0;34m:\u001b[0m\u001b[0;34m\u001b[0m\u001b[0m\n",
      "\u001b[0;32m/opt/spark/spark-2.1.0-bin-hadoop2.7/python/pyspark/sql/utils.pyc\u001b[0m in \u001b[0;36mdeco\u001b[0;34m(*a, **kw)\u001b[0m\n\u001b[1;32m     61\u001b[0m     \u001b[0;32mdef\u001b[0m \u001b[0mdeco\u001b[0m\u001b[0;34m(\u001b[0m\u001b[0;34m*\u001b[0m\u001b[0ma\u001b[0m\u001b[0;34m,\u001b[0m \u001b[0;34m**\u001b[0m\u001b[0mkw\u001b[0m\u001b[0;34m)\u001b[0m\u001b[0;34m:\u001b[0m\u001b[0;34m\u001b[0m\u001b[0m\n\u001b[1;32m     62\u001b[0m         \u001b[0;32mtry\u001b[0m\u001b[0;34m:\u001b[0m\u001b[0;34m\u001b[0m\u001b[0m\n\u001b[0;32m---> 63\u001b[0;31m             \u001b[0;32mreturn\u001b[0m \u001b[0mf\u001b[0m\u001b[0;34m(\u001b[0m\u001b[0;34m*\u001b[0m\u001b[0ma\u001b[0m\u001b[0;34m,\u001b[0m \u001b[0;34m**\u001b[0m\u001b[0mkw\u001b[0m\u001b[0;34m)\u001b[0m\u001b[0;34m\u001b[0m\u001b[0m\n\u001b[0m\u001b[1;32m     64\u001b[0m         \u001b[0;32mexcept\u001b[0m \u001b[0mpy4j\u001b[0m\u001b[0;34m.\u001b[0m\u001b[0mprotocol\u001b[0m\u001b[0;34m.\u001b[0m\u001b[0mPy4JJavaError\u001b[0m \u001b[0;32mas\u001b[0m \u001b[0me\u001b[0m\u001b[0;34m:\u001b[0m\u001b[0;34m\u001b[0m\u001b[0m\n\u001b[1;32m     65\u001b[0m             \u001b[0ms\u001b[0m \u001b[0;34m=\u001b[0m \u001b[0me\u001b[0m\u001b[0;34m.\u001b[0m\u001b[0mjava_exception\u001b[0m\u001b[0;34m.\u001b[0m\u001b[0mtoString\u001b[0m\u001b[0;34m(\u001b[0m\u001b[0;34m)\u001b[0m\u001b[0;34m\u001b[0m\u001b[0m\n",
      "\u001b[0;32m/opt/spark/spark-2.1.0-bin-hadoop2.7/python/lib/py4j-0.10.4-src.zip/py4j/protocol.py\u001b[0m in \u001b[0;36mget_return_value\u001b[0;34m(answer, gateway_client, target_id, name)\u001b[0m\n\u001b[1;32m    317\u001b[0m                 raise Py4JJavaError(\n\u001b[1;32m    318\u001b[0m                     \u001b[0;34m\"An error occurred while calling {0}{1}{2}.\\n\"\u001b[0m\u001b[0;34m.\u001b[0m\u001b[0;34m\u001b[0m\u001b[0m\n\u001b[0;32m--> 319\u001b[0;31m                     format(target_id, \".\", name), value)\n\u001b[0m\u001b[1;32m    320\u001b[0m             \u001b[0;32melse\u001b[0m\u001b[0;34m:\u001b[0m\u001b[0;34m\u001b[0m\u001b[0m\n\u001b[1;32m    321\u001b[0m                 raise Py4JError(\n",
      "\u001b[0;31mPy4JJavaError\u001b[0m: An error occurred while calling o717.showString.\n: org.apache.spark.SparkException: Job aborted due to stage failure: Task 11 in stage 680.0 failed 1 times, most recent failure: Lost task 11.0 in stage 680.0 (TID 9190, localhost, executor driver): java.lang.ArrayIndexOutOfBoundsException: 1\n\tat org.apache.spark.sql.catalyst.expressions.GenericInternalRow.genericGet(rows.scala:200)\n\tat org.apache.spark.sql.catalyst.expressions.BaseGenericInternalRow$class.getAs(rows.scala:35)\n\tat org.apache.spark.sql.catalyst.expressions.BaseGenericInternalRow$class.isNullAt(rows.scala:36)\n\tat org.apache.spark.sql.catalyst.expressions.GenericInternalRow.isNullAt(rows.scala:194)\n\tat org.apache.spark.sql.catalyst.expressions.JoinedRow.isNullAt(JoinedRow.scala:70)\n\tat org.apache.spark.sql.catalyst.expressions.GeneratedClass$SpecificUnsafeProjection.apply5_1$(Unknown Source)\n\tat org.apache.spark.sql.catalyst.expressions.GeneratedClass$SpecificUnsafeProjection.apply(Unknown Source)\n\tat org.apache.spark.sql.execution.python.BatchEvalPythonExec$$anonfun$doExecute$1$$anonfun$apply$7.apply(BatchEvalPythonExec.scala:166)\n\tat org.apache.spark.sql.execution.python.BatchEvalPythonExec$$anonfun$doExecute$1$$anonfun$apply$7.apply(BatchEvalPythonExec.scala:158)\n\tat scala.collection.Iterator$$anon$11.next(Iterator.scala:409)\n\tat scala.collection.Iterator$$anon$11.next(Iterator.scala:409)\n\tat org.apache.spark.shuffle.sort.BypassMergeSortShuffleWriter.write(BypassMergeSortShuffleWriter.java:150)\n\tat org.apache.spark.scheduler.ShuffleMapTask.runTask(ShuffleMapTask.scala:96)\n\tat org.apache.spark.scheduler.ShuffleMapTask.runTask(ShuffleMapTask.scala:53)\n\tat org.apache.spark.scheduler.Task.run(Task.scala:99)\n\tat org.apache.spark.executor.Executor$TaskRunner.run(Executor.scala:282)\n\tat java.util.concurrent.ThreadPoolExecutor.runWorker(ThreadPoolExecutor.java:1142)\n\tat java.util.concurrent.ThreadPoolExecutor$Worker.run(ThreadPoolExecutor.java:617)\n\tat java.lang.Thread.run(Thread.java:745)\n\nDriver stacktrace:\n\tat org.apache.spark.scheduler.DAGScheduler.org$apache$spark$scheduler$DAGScheduler$$failJobAndIndependentStages(DAGScheduler.scala:1435)\n\tat org.apache.spark.scheduler.DAGScheduler$$anonfun$abortStage$1.apply(DAGScheduler.scala:1423)\n\tat org.apache.spark.scheduler.DAGScheduler$$anonfun$abortStage$1.apply(DAGScheduler.scala:1422)\n\tat scala.collection.mutable.ResizableArray$class.foreach(ResizableArray.scala:59)\n\tat scala.collection.mutable.ArrayBuffer.foreach(ArrayBuffer.scala:48)\n\tat org.apache.spark.scheduler.DAGScheduler.abortStage(DAGScheduler.scala:1422)\n\tat org.apache.spark.scheduler.DAGScheduler$$anonfun$handleTaskSetFailed$1.apply(DAGScheduler.scala:802)\n\tat org.apache.spark.scheduler.DAGScheduler$$anonfun$handleTaskSetFailed$1.apply(DAGScheduler.scala:802)\n\tat scala.Option.foreach(Option.scala:257)\n\tat org.apache.spark.scheduler.DAGScheduler.handleTaskSetFailed(DAGScheduler.scala:802)\n\tat org.apache.spark.scheduler.DAGSchedulerEventProcessLoop.doOnReceive(DAGScheduler.scala:1650)\n\tat org.apache.spark.scheduler.DAGSchedulerEventProcessLoop.onReceive(DAGScheduler.scala:1605)\n\tat org.apache.spark.scheduler.DAGSchedulerEventProcessLoop.onReceive(DAGScheduler.scala:1594)\n\tat org.apache.spark.util.EventLoop$$anon$1.run(EventLoop.scala:48)\n\tat org.apache.spark.scheduler.DAGScheduler.runJob(DAGScheduler.scala:628)\n\tat org.apache.spark.SparkContext.runJob(SparkContext.scala:1918)\n\tat org.apache.spark.SparkContext.runJob(SparkContext.scala:1931)\n\tat org.apache.spark.SparkContext.runJob(SparkContext.scala:1944)\n\tat org.apache.spark.sql.execution.SparkPlan.executeTake(SparkPlan.scala:333)\n\tat org.apache.spark.sql.execution.CollectLimitExec.executeCollect(limit.scala:38)\n\tat org.apache.spark.sql.Dataset$$anonfun$org$apache$spark$sql$Dataset$$execute$1$1.apply(Dataset.scala:2371)\n\tat org.apache.spark.sql.execution.SQLExecution$.withNewExecutionId(SQLExecution.scala:57)\n\tat org.apache.spark.sql.Dataset.withNewExecutionId(Dataset.scala:2765)\n\tat org.apache.spark.sql.Dataset.org$apache$spark$sql$Dataset$$execute$1(Dataset.scala:2370)\n\tat org.apache.spark.sql.Dataset.org$apache$spark$sql$Dataset$$collect(Dataset.scala:2377)\n\tat org.apache.spark.sql.Dataset$$anonfun$head$1.apply(Dataset.scala:2113)\n\tat org.apache.spark.sql.Dataset$$anonfun$head$1.apply(Dataset.scala:2112)\n\tat org.apache.spark.sql.Dataset.withTypedCallback(Dataset.scala:2795)\n\tat org.apache.spark.sql.Dataset.head(Dataset.scala:2112)\n\tat org.apache.spark.sql.Dataset.take(Dataset.scala:2327)\n\tat org.apache.spark.sql.Dataset.showString(Dataset.scala:248)\n\tat sun.reflect.NativeMethodAccessorImpl.invoke0(Native Method)\n\tat sun.reflect.NativeMethodAccessorImpl.invoke(NativeMethodAccessorImpl.java:62)\n\tat sun.reflect.DelegatingMethodAccessorImpl.invoke(DelegatingMethodAccessorImpl.java:43)\n\tat java.lang.reflect.Method.invoke(Method.java:498)\n\tat py4j.reflection.MethodInvoker.invoke(MethodInvoker.java:244)\n\tat py4j.reflection.ReflectionEngine.invoke(ReflectionEngine.java:357)\n\tat py4j.Gateway.invoke(Gateway.java:280)\n\tat py4j.commands.AbstractCommand.invokeMethod(AbstractCommand.java:132)\n\tat py4j.commands.CallCommand.execute(CallCommand.java:79)\n\tat py4j.GatewayConnection.run(GatewayConnection.java:214)\n\tat java.lang.Thread.run(Thread.java:745)\nCaused by: java.lang.ArrayIndexOutOfBoundsException: 1\n\tat org.apache.spark.sql.catalyst.expressions.GenericInternalRow.genericGet(rows.scala:200)\n\tat org.apache.spark.sql.catalyst.expressions.BaseGenericInternalRow$class.getAs(rows.scala:35)\n\tat org.apache.spark.sql.catalyst.expressions.BaseGenericInternalRow$class.isNullAt(rows.scala:36)\n\tat org.apache.spark.sql.catalyst.expressions.GenericInternalRow.isNullAt(rows.scala:194)\n\tat org.apache.spark.sql.catalyst.expressions.JoinedRow.isNullAt(JoinedRow.scala:70)\n\tat org.apache.spark.sql.catalyst.expressions.GeneratedClass$SpecificUnsafeProjection.apply5_1$(Unknown Source)\n\tat org.apache.spark.sql.catalyst.expressions.GeneratedClass$SpecificUnsafeProjection.apply(Unknown Source)\n\tat org.apache.spark.sql.execution.python.BatchEvalPythonExec$$anonfun$doExecute$1$$anonfun$apply$7.apply(BatchEvalPythonExec.scala:166)\n\tat org.apache.spark.sql.execution.python.BatchEvalPythonExec$$anonfun$doExecute$1$$anonfun$apply$7.apply(BatchEvalPythonExec.scala:158)\n\tat scala.collection.Iterator$$anon$11.next(Iterator.scala:409)\n\tat scala.collection.Iterator$$anon$11.next(Iterator.scala:409)\n\tat org.apache.spark.shuffle.sort.BypassMergeSortShuffleWriter.write(BypassMergeSortShuffleWriter.java:150)\n\tat org.apache.spark.scheduler.ShuffleMapTask.runTask(ShuffleMapTask.scala:96)\n\tat org.apache.spark.scheduler.ShuffleMapTask.runTask(ShuffleMapTask.scala:53)\n\tat org.apache.spark.scheduler.Task.run(Task.scala:99)\n\tat org.apache.spark.executor.Executor$TaskRunner.run(Executor.scala:282)\n\tat java.util.concurrent.ThreadPoolExecutor.runWorker(ThreadPoolExecutor.java:1142)\n\tat java.util.concurrent.ThreadPoolExecutor$Worker.run(ThreadPoolExecutor.java:617)\n\t... 1 more\n"
     ]
    },
    {
     "name": "stdout",
     "output_type": "stream",
     "text": [
      "time: 3.9 s\n"
     ]
    }
   ],
   "source": [
    "#use total_df to find avg_spd/avg_dist for each user in each cluster\n",
    "# from the predictions, group by userid/clusterid and calculate avg speed and avg distance for each user\n",
    "\n",
    "w = Window.partitionBy('userid', 'prediction')\n",
    "\n",
    "new_speed = 'new_avg_speed'\n",
    "new_dist = 'new_avg_dist'\n",
    "df_speed = total_df.select('userid', 'prediction',\\\n",
    "                          avg('avg_speed').over(w).alias(new_speed)).distinct()\n",
    "df_dist = total_df.select('userid', 'prediction',\\\n",
    "                          avg('sum_geo_distance').over(w).alias(new_dist)).distinct()\n",
    "# total = df_speed.join(df_dist, (df_speed['userid']==df_dist['userid']) & \\\n",
    "#                                (df_speed['prediction']==df_dist['prediction']),\\\n",
    "#                      'inner')\n",
    "total = df_speed.join(df_dist,(df_speed.prediction==df_dist.prediction),\\\n",
    "                     'inner').drop(df_speed.prediction)\n",
    "total.show()\n",
    "\n",
    "#             if aggregation_type == 'avg':\n",
    "#                 new_col_name = aggregation_type + '_' + col_name\n",
    "#                 tmp = self.data_points.select(col_name, self.partition_name,\\\n",
    "#                                         avg(col_name).over(w).alias(new_col_name)\\\n",
    "#                                             )\n",
    "#                 r_list_cols.append(tmp[[new_col_name, self.partition_name]].distinct())\n",
    "#                 self.new_col_names.append(new_col_name)\n",
    "\n",
    "\n"
   ]
  },
  {
   "cell_type": "code",
   "execution_count": null,
   "metadata": {
    "collapsed": true,
    "deletable": true,
    "editable": true
   },
   "outputs": [],
   "source": [
    "cols_dave = ['workoutid', 'userid', 'prediction', 'max_elapsed_time', ]"
   ]
  },
  {
   "cell_type": "code",
   "execution_count": null,
   "metadata": {
    "collapsed": true,
    "deletable": true,
    "editable": true
   },
   "outputs": [],
   "source": []
  },
  {
   "cell_type": "code",
   "execution_count": null,
   "metadata": {
    "collapsed": true,
    "deletable": true,
    "editable": true
   },
   "outputs": [],
   "source": []
  },
  {
   "cell_type": "code",
   "execution_count": null,
   "metadata": {
    "collapsed": true,
    "deletable": true,
    "editable": true
   },
   "outputs": [],
   "source": []
  },
  {
   "cell_type": "code",
   "execution_count": null,
   "metadata": {
    "collapsed": true,
    "deletable": true,
    "editable": true
   },
   "outputs": [],
   "source": []
  },
  {
   "cell_type": "code",
   "execution_count": null,
   "metadata": {
    "collapsed": true,
    "deletable": true,
    "editable": true
   },
   "outputs": [],
   "source": []
  },
  {
   "cell_type": "code",
   "execution_count": null,
   "metadata": {
    "collapsed": true,
    "deletable": true,
    "editable": true
   },
   "outputs": [],
   "source": []
  },
  {
   "cell_type": "code",
   "execution_count": null,
   "metadata": {
    "collapsed": true,
    "deletable": true,
    "editable": true
   },
   "outputs": [],
   "source": []
  },
  {
   "cell_type": "code",
   "execution_count": null,
   "metadata": {
    "collapsed": true,
    "deletable": true,
    "editable": true
   },
   "outputs": [],
   "source": []
  },
  {
   "cell_type": "code",
   "execution_count": null,
   "metadata": {
    "collapsed": true,
    "deletable": true,
    "editable": true
   },
   "outputs": [],
   "source": []
  },
  {
   "cell_type": "code",
   "execution_count": null,
   "metadata": {
    "collapsed": true,
    "deletable": true,
    "editable": true
   },
   "outputs": [],
   "source": []
  },
  {
   "cell_type": "code",
   "execution_count": null,
   "metadata": {
    "collapsed": true,
    "deletable": true,
    "editable": true
   },
   "outputs": [],
   "source": []
  },
  {
   "cell_type": "code",
   "execution_count": null,
   "metadata": {
    "collapsed": true,
    "deletable": true,
    "editable": true
   },
   "outputs": [],
   "source": []
  },
  {
   "cell_type": "code",
   "execution_count": null,
   "metadata": {
    "collapsed": true,
    "deletable": true,
    "editable": true
   },
   "outputs": [],
   "source": []
  },
  {
   "cell_type": "code",
   "execution_count": 96,
   "metadata": {
    "collapsed": false,
    "deletable": true,
    "editable": true
   },
   "outputs": [
    {
     "ename": "AnalysisException",
     "evalue": "u\"Can't extract value from avg_speed#25883;\"",
     "output_type": "error",
     "traceback": [
      "\u001b[0;31m---------------------------------------------------------------------------\u001b[0m",
      "\u001b[0;31mAnalysisException\u001b[0m                         Traceback (most recent call last)",
      "\u001b[0;32m<ipython-input-96-20be5705b910>\u001b[0m in \u001b[0;36m<module>\u001b[0;34m()\u001b[0m\n\u001b[0;32m----> 1\u001b[0;31m \u001b[0mprediction_df\u001b[0m\u001b[0;34m.\u001b[0m\u001b[0mwithColumn\u001b[0m\u001b[0;34m(\u001b[0m\u001b[0;34m'avg_speed'\u001b[0m\u001b[0;34m,\u001b[0m             \u001b[0mprediction_df\u001b[0m\u001b[0;34m[\u001b[0m\u001b[0;34m'avg_speed'\u001b[0m\u001b[0;34m]\u001b[0m\u001b[0;34m[\u001b[0m\u001b[0;36m0\u001b[0m\u001b[0;34m]\u001b[0m\u001b[0;34m)\u001b[0m\u001b[0;34m.\u001b[0m\u001b[0mshow\u001b[0m\u001b[0;34m(\u001b[0m\u001b[0;34m)\u001b[0m\u001b[0;34m\u001b[0m\u001b[0m\n\u001b[0m",
      "\u001b[0;32m/opt/spark/spark-2.1.0-bin-hadoop2.7/python/pyspark/sql/dataframe.pyc\u001b[0m in \u001b[0;36mwithColumn\u001b[0;34m(self, colName, col)\u001b[0m\n\u001b[1;32m   1491\u001b[0m         \"\"\"\n\u001b[1;32m   1492\u001b[0m         \u001b[0;32massert\u001b[0m \u001b[0misinstance\u001b[0m\u001b[0;34m(\u001b[0m\u001b[0mcol\u001b[0m\u001b[0;34m,\u001b[0m \u001b[0mColumn\u001b[0m\u001b[0;34m)\u001b[0m\u001b[0;34m,\u001b[0m \u001b[0;34m\"col should be Column\"\u001b[0m\u001b[0;34m\u001b[0m\u001b[0m\n\u001b[0;32m-> 1493\u001b[0;31m         \u001b[0;32mreturn\u001b[0m \u001b[0mDataFrame\u001b[0m\u001b[0;34m(\u001b[0m\u001b[0mself\u001b[0m\u001b[0;34m.\u001b[0m\u001b[0m_jdf\u001b[0m\u001b[0;34m.\u001b[0m\u001b[0mwithColumn\u001b[0m\u001b[0;34m(\u001b[0m\u001b[0mcolName\u001b[0m\u001b[0;34m,\u001b[0m \u001b[0mcol\u001b[0m\u001b[0;34m.\u001b[0m\u001b[0m_jc\u001b[0m\u001b[0;34m)\u001b[0m\u001b[0;34m,\u001b[0m \u001b[0mself\u001b[0m\u001b[0;34m.\u001b[0m\u001b[0msql_ctx\u001b[0m\u001b[0;34m)\u001b[0m\u001b[0;34m\u001b[0m\u001b[0m\n\u001b[0m\u001b[1;32m   1494\u001b[0m \u001b[0;34m\u001b[0m\u001b[0m\n\u001b[1;32m   1495\u001b[0m     \u001b[0;34m@\u001b[0m\u001b[0mignore_unicode_prefix\u001b[0m\u001b[0;34m\u001b[0m\u001b[0m\n",
      "\u001b[0;32m/opt/spark/spark-2.1.0-bin-hadoop2.7/python/lib/py4j-0.10.4-src.zip/py4j/java_gateway.py\u001b[0m in \u001b[0;36m__call__\u001b[0;34m(self, *args)\u001b[0m\n\u001b[1;32m   1131\u001b[0m         \u001b[0manswer\u001b[0m \u001b[0;34m=\u001b[0m \u001b[0mself\u001b[0m\u001b[0;34m.\u001b[0m\u001b[0mgateway_client\u001b[0m\u001b[0;34m.\u001b[0m\u001b[0msend_command\u001b[0m\u001b[0;34m(\u001b[0m\u001b[0mcommand\u001b[0m\u001b[0;34m)\u001b[0m\u001b[0;34m\u001b[0m\u001b[0m\n\u001b[1;32m   1132\u001b[0m         return_value = get_return_value(\n\u001b[0;32m-> 1133\u001b[0;31m             answer, self.gateway_client, self.target_id, self.name)\n\u001b[0m\u001b[1;32m   1134\u001b[0m \u001b[0;34m\u001b[0m\u001b[0m\n\u001b[1;32m   1135\u001b[0m         \u001b[0;32mfor\u001b[0m \u001b[0mtemp_arg\u001b[0m \u001b[0;32min\u001b[0m \u001b[0mtemp_args\u001b[0m\u001b[0;34m:\u001b[0m\u001b[0;34m\u001b[0m\u001b[0m\n",
      "\u001b[0;32m/opt/spark/spark-2.1.0-bin-hadoop2.7/python/pyspark/sql/utils.pyc\u001b[0m in \u001b[0;36mdeco\u001b[0;34m(*a, **kw)\u001b[0m\n\u001b[1;32m     67\u001b[0m                                              e.java_exception.getStackTrace()))\n\u001b[1;32m     68\u001b[0m             \u001b[0;32mif\u001b[0m \u001b[0ms\u001b[0m\u001b[0;34m.\u001b[0m\u001b[0mstartswith\u001b[0m\u001b[0;34m(\u001b[0m\u001b[0;34m'org.apache.spark.sql.AnalysisException: '\u001b[0m\u001b[0;34m)\u001b[0m\u001b[0;34m:\u001b[0m\u001b[0;34m\u001b[0m\u001b[0m\n\u001b[0;32m---> 69\u001b[0;31m                 \u001b[0;32mraise\u001b[0m \u001b[0mAnalysisException\u001b[0m\u001b[0;34m(\u001b[0m\u001b[0ms\u001b[0m\u001b[0;34m.\u001b[0m\u001b[0msplit\u001b[0m\u001b[0;34m(\u001b[0m\u001b[0;34m': '\u001b[0m\u001b[0;34m,\u001b[0m \u001b[0;36m1\u001b[0m\u001b[0;34m)\u001b[0m\u001b[0;34m[\u001b[0m\u001b[0;36m1\u001b[0m\u001b[0;34m]\u001b[0m\u001b[0;34m,\u001b[0m \u001b[0mstackTrace\u001b[0m\u001b[0;34m)\u001b[0m\u001b[0;34m\u001b[0m\u001b[0m\n\u001b[0m\u001b[1;32m     70\u001b[0m             \u001b[0;32mif\u001b[0m \u001b[0ms\u001b[0m\u001b[0;34m.\u001b[0m\u001b[0mstartswith\u001b[0m\u001b[0;34m(\u001b[0m\u001b[0;34m'org.apache.spark.sql.catalyst.analysis'\u001b[0m\u001b[0;34m)\u001b[0m\u001b[0;34m:\u001b[0m\u001b[0;34m\u001b[0m\u001b[0m\n\u001b[1;32m     71\u001b[0m                 \u001b[0;32mraise\u001b[0m \u001b[0mAnalysisException\u001b[0m\u001b[0;34m(\u001b[0m\u001b[0ms\u001b[0m\u001b[0;34m.\u001b[0m\u001b[0msplit\u001b[0m\u001b[0;34m(\u001b[0m\u001b[0;34m': '\u001b[0m\u001b[0;34m,\u001b[0m \u001b[0;36m1\u001b[0m\u001b[0;34m)\u001b[0m\u001b[0;34m[\u001b[0m\u001b[0;36m1\u001b[0m\u001b[0;34m]\u001b[0m\u001b[0;34m,\u001b[0m \u001b[0mstackTrace\u001b[0m\u001b[0;34m)\u001b[0m\u001b[0;34m\u001b[0m\u001b[0m\n",
      "\u001b[0;31mAnalysisException\u001b[0m: u\"Can't extract value from avg_speed#25883;\""
     ]
    },
    {
     "name": "stdout",
     "output_type": "stream",
     "text": [
      "time: 44.1 ms\n"
     ]
    }
   ],
   "source": [
    "prediction_df.withColumn('avg_speed', \\\n",
    "            prediction_df['avg_speed'].stringify).show()"
   ]
  },
  {
   "cell_type": "code",
   "execution_count": 75,
   "metadata": {
    "collapsed": false,
    "deletable": true,
    "editable": true
   },
   "outputs": [
    {
     "ename": "SyntaxError",
     "evalue": "invalid syntax (<ipython-input-75-d41e7f17bf1f>, line 1)",
     "output_type": "error",
     "traceback": [
      "\u001b[0;36m  File \u001b[0;32m\"<ipython-input-75-d41e7f17bf1f>\"\u001b[0;36m, line \u001b[0;32m1\u001b[0m\n\u001b[0;31m    prediction_df.select(*)\u001b[0m\n\u001b[0m                          ^\u001b[0m\n\u001b[0;31mSyntaxError\u001b[0m\u001b[0;31m:\u001b[0m invalid syntax\n"
     ]
    }
   ],
   "source": [
    "prediction_df.select(*)"
   ]
  },
  {
   "cell_type": "code",
   "execution_count": 62,
   "metadata": {
    "collapsed": false,
    "deletable": true,
    "editable": true
   },
   "outputs": [
    {
     "ename": "AnalysisException",
     "evalue": "u\"cannot resolve 'avg(`avg_speed`)' due to data type mismatch: function average requires numeric types, not org.apache.spark.ml.linalg.VectorUDT@3bfc3ba7;;\\n'Project [avg_speed#25883, userid#1891, prediction#72750, avg(avg_speed#25883) windowspecdefinition(userid#1891, prediction#72750, UnspecifiedFrame) AS new_avg_speed#72771]\\n+- Project [max_elapsed_time#11372, sum_geo_distance#16209, avg_heart_rate#21046, avg_speed#25883, diff_altitude#30720, workoutid#30786, userid#1891, prediction#72750]\\n   +- Project [max_elapsed_time#11372, sum_geo_distance#16209, avg_heart_rate#21046, avg_speed#25883, diff_altitude#30720, workoutid#30786, features#34114, userid#1891, UDF(features#34114) AS prediction#72750]\\n      +- Project [max_elapsed_time#11372, sum_geo_distance#16209, avg_heart_rate#21046, avg_speed#25883, diff_altitude#30720, workoutid#30786, features#34114, userid#1891]\\n         +- Project [userid#1891, max_elapsed_time#11372, sum_geo_distance#16209, avg_heart_rate#21046, avg_speed#25883, diff_altitude#30720, max_elapsed_time_n#30729, sum_geo_distance_n#30738, avg_heart_rate_n#30747, avg_speed_n#30756, diff_altitude_n#30765, workoutid#30786, UDF(named_struct(max_elapsed_time_n, max_elapsed_time_n#30729, sum_geo_distance_n, sum_geo_distance_n#30738, avg_heart_rate_n, avg_heart_rate_n#30747, avg_speed_n, avg_speed_n#30756, diff_altitude_n, diff_altitude_n#30765)) AS features#34114]\\n            +- Project [userid#1891, max_elapsed_time#11372, sum_geo_distance#16209, avg_heart_rate#21046, avg_speed#25883, diff_altitude#30720, max_elapsed_time_n#30729, sum_geo_distance_n#30738, avg_heart_rate_n#30747, avg_speed_n#30756, diff_altitude_n#30765, workoutid#30786]\\n               +- Project [userid#1891, max_elapsed_time#11372, sum_geo_distance#16209, avg_heart_rate#21046, avg_speed#25883, diff_altitude#30720, max_elapsed_time_n#30729, sum_geo_distance_n#30738, avg_heart_rate_n#30747, avg_speed_n#30756, diff_altitude_n#30765, workoutid#30786]\\n                  +- Join Inner, (workoutid#4605 = workoutid#30786)\\n                     :- Project [workoutid#4605, userid#1891, max_elapsed_time#11372, sum_geo_distance#16209, avg_heart_rate#21046, avg_speed#25883, temp#30702 AS diff_altitude#30720]\\n                     :  +- Project [workoutid#4605, userid#1891, max_elapsed_time#11372, sum_geo_distance#16209, avg_heart_rate#21046, avg_speed#25883, temp#30702]\\n                     :     +- Project [workoutid#4605, userid#1891, diff_altitude#6535, max_elapsed_time#11372, sum_geo_distance#16209, avg_heart_rate#21046, avg_speed#25883, UDF(diff_altitude#6535) AS temp#30702]\\n                     :        +- Project [workoutid#4605, userid#1891, diff_altitude#6535, max_elapsed_time#11372, sum_geo_distance#16209, avg_heart_rate#21046, temp#25865 AS avg_speed#25883]\\n                     :           +- Project [workoutid#4605, userid#1891, diff_altitude#6535, max_elapsed_time#11372, sum_geo_distance#16209, avg_heart_rate#21046, temp#25865]\\n                     :              +- Project [workoutid#4605, userid#1891, avg_speed#6508, diff_altitude#6535, max_elapsed_time#11372, sum_geo_distance#16209, avg_heart_rate#21046, UDF(avg_speed#6508) AS temp#25865]\\n                     :                 +- Project [workoutid#4605, userid#1891, avg_speed#6508, diff_altitude#6535, max_elapsed_time#11372, sum_geo_distance#16209, temp#21028 AS avg_heart_rate#21046]\\n                     :                    +- Project [workoutid#4605, userid#1891, avg_speed#6508, diff_altitude#6535, max_elapsed_time#11372, sum_geo_distance#16209, temp#21028]\\n                     :                       +- Project [workoutid#4605, userid#1891, avg_heart_rate#6481, avg_speed#6508, diff_altitude#6535, max_elapsed_time#11372, sum_geo_distance#16209, UDF(avg_heart_rate#6481) AS temp#21028]\\n                     :                          +- Project [workoutid#4605, userid#1891, avg_heart_rate#6481, avg_speed#6508, diff_altitude#6535, max_elapsed_time#11372, temp#16191 AS sum_geo_distance#16209]\\n                     :                             +- Project [workoutid#4605, userid#1891, avg_heart_rate#6481, avg_speed#6508, diff_altitude#6535, max_elapsed_time#11372, temp#16191]\\n                     :                                +- Project [workoutid#4605, userid#1891, sum_geo_distance#6454, avg_heart_rate#6481, avg_speed#6508, diff_altitude#6535, max_elapsed_time#11372, UDF(sum_geo_distance#6454) AS temp#16191]\\n                     :                                   +- Project [workoutid#4605, userid#1891, sum_geo_distance#6454, avg_heart_rate#6481, avg_speed#6508, diff_altitude#6535, temp#11354 AS max_elapsed_time#11372]\\n                     :                                      +- Project [workoutid#4605, userid#1891, sum_geo_distance#6454, avg_heart_rate#6481, avg_speed#6508, diff_altitude#6535, temp#11354]\\n                     :                                         +- Project [workoutid#4605, userid#1891, max_elapsed_time#6427, sum_geo_distance#6454, avg_heart_rate#6481, avg_speed#6508, diff_altitude#6535, UDF(max_elapsed_time#6427) AS temp#11354]\\n                     :                                            +- Project [workoutid#4605, userid#1891, max_elapsed_time#6427, sum_geo_distance#6454, avg_heart_rate#6481, avg_speed#6508, temp#6517 AS diff_altitude#6535]\\n                     :                                               +- Project [workoutid#4605, userid#1891, max_elapsed_time#6427, sum_geo_distance#6454, avg_heart_rate#6481, avg_speed#6508, temp#6517]\\n                     :                                                  +- Project [workoutid#4605, diff_altitude#6400, userid#1891, max_elapsed_time#6427, sum_geo_distance#6454, avg_heart_rate#6481, avg_speed#6508, <lambda>(diff_altitude#6400) AS temp#6517]\\n                     :                                                     +- Project [workoutid#4605, diff_altitude#6400, userid#1891, max_elapsed_time#6427, sum_geo_distance#6454, avg_heart_rate#6481, temp#6490 AS avg_speed#6508]\\n                     :                                                        +- Project [workoutid#4605, diff_altitude#6400, userid#1891, max_elapsed_time#6427, sum_geo_distance#6454, avg_heart_rate#6481, temp#6490]\\n                     :                                                           +- Project [workoutid#4605, avg_speed#6399, diff_altitude#6400, userid#1891, max_elapsed_time#6427, sum_geo_distance#6454, avg_heart_rate#6481, <lambda>(avg_speed#6399) AS temp#6490]\\n                     :                                                              +- Project [workoutid#4605, avg_speed#6399, diff_altitude#6400, userid#1891, max_elapsed_time#6427, sum_geo_distance#6454, temp#6463 AS avg_heart_rate#6481]\\n                     :                                                                 +- Project [workoutid#4605, avg_speed#6399, diff_altitude#6400, userid#1891, max_elapsed_time#6427, sum_geo_distance#6454, temp#6463]\\n                     :                                                                    +- Project [workoutid#4605, avg_heart_rate#6398, avg_speed#6399, diff_altitude#6400, userid#1891, max_elapsed_time#6427, sum_geo_distance#6454, <lambda>(avg_heart_rate#6398) AS temp#6463]\\n                     :                                                                       +- Project [workoutid#4605, avg_heart_rate#6398, avg_speed#6399, diff_altitude#6400, userid#1891, max_elapsed_time#6427, temp#6436 AS sum_geo_distance#6454]\\n                     :                                                                          +- Project [workoutid#4605, avg_heart_rate#6398, avg_speed#6399, diff_altitude#6400, userid#1891, max_elapsed_time#6427, temp#6436]\\n                     :                                                                             +- Project [sum_geo_distance#6397, workoutid#4605, avg_heart_rate#6398, avg_speed#6399, diff_altitude#6400, userid#1891, max_elapsed_time#6427, <lambda>(sum_geo_distance#6397) AS temp#6436]\\n                     :                                                                                +- Project [sum_geo_distance#6397, workoutid#4605, avg_heart_rate#6398, avg_speed#6399, diff_altitude#6400, userid#1891, temp#6409 AS max_elapsed_time#6427]\\n                     :                                                                                   +- Project [sum_geo_distance#6397, workoutid#4605, avg_heart_rate#6398, avg_speed#6399, diff_altitude#6400, userid#1891, temp#6409]\\n                     :                                                                                      +- Project [max_elapsed_time#6396, sum_geo_distance#6397, workoutid#4605, avg_heart_rate#6398, avg_speed#6399, diff_altitude#6400, userid#1891, <lambda>(max_elapsed_time#6396) AS temp#6409]\\n                     :                                                                                         +- Project [cast(coalesce(nanvl(max_elapsed_time#6343, cast(null as double)), 0.0) as double) AS max_elapsed_time#6396, cast(coalesce(nanvl(sum_geo_distance#6352, cast(null as double)), 0.0) as double) AS sum_geo_distance#6397, workoutid#4605, cast(coalesce(nanvl(avg_heart_rate#6361, cast(null as double)), 0.0) as double) AS avg_heart_rate#6398, cast(coalesce(nanvl(avg_speed#6370, cast(null as double)), 0.0) as double) AS avg_speed#6399, cast(coalesce(nanvl(diff_altitude#6379, cast(null as double)), 0.0) as double) AS diff_altitude#6400, userid#1891]\\n                     :                                                                                            +- Project [max_elapsed_time#6343, sum_geo_distance#6352, workoutid#4605, avg_heart_rate#6361, avg_speed#6370, cast(diff_altitude#4588 as double) AS diff_altitude#6379, userid#1891]\\n                     :                                                                                               +- Project [max_elapsed_time#6343, sum_geo_distance#6352, workoutid#4605, avg_heart_rate#6361, cast(avg_speed#4518 as double) AS avg_speed#6370, diff_altitude#4588, userid#1891]\\n                     :                                                                                                  +- Project [max_elapsed_time#6343, sum_geo_distance#6352, workoutid#4605, cast(avg_heart_rate#4507 as double) AS avg_heart_rate#6361, avg_speed#4518, diff_altitude#4588, userid#1891]\\n                     :                                                                                                     +- Project [max_elapsed_time#6343, cast(sum_geo_distance#4496 as double) AS sum_geo_distance#6352, workoutid#4605, avg_heart_rate#4507, avg_speed#4518, diff_altitude#4588, userid#1891]\\n                     :                                                                                                        +- Project [cast(max_elapsed_time#4486 as double) AS max_elapsed_time#6343, sum_geo_distance#4496, workoutid#4605, avg_heart_rate#4507, avg_speed#4518, diff_altitude#4588, userid#1891]\\n                     :                                                                                                           +- Project [max_elapsed_time#4486, sum_geo_distance#4496, workoutid#4605, avg_heart_rate#4507, avg_speed#4518, diff_altitude#4588, userid#1891]\\n                     :                                                                                                              +- Join Inner, (workoutid#4605 = workoutid#1892)\\n                     :                                                                                                                 :- Filter AtLeastNNulls(n, max_elapsed_time#4486,sum_geo_distance#4496,workoutid#4605,avg_heart_rate#4507,avg_speed#4518,diff_altitude#4588)\\n                     :                                                                                                                 :  +- Project [max_elapsed_time#4486, sum_geo_distance#4496, workoutid#4605, avg_heart_rate#4507, avg_speed#4518, diff_altitude#4588]\\n                     :                                                                                                                 :     +- Join Inner, (workoutid#4605 = workoutid#4545)\\n                     :                                                                                                                 :        :- Project [max_elapsed_time#4486, sum_geo_distance#4496, workoutid#4605, avg_heart_rate#4507, avg_speed#4518]\\n                     :                                                                                                                 :        :  +- Join Inner, (workoutid#4605 = workoutid#5)\\n                     :                                                                                                                 :        :     :- Project [max_elapsed_time#4486, sum_geo_distance#4496, workoutid#4605, avg_heart_rate#4507]\\n                     :                                                                                                                 :        :     :  +- Join Inner, (workoutid#4605 = workoutid#5)\\n                     :                                                                                                                 :        :     :     :- Project [max_elapsed_time#4486, sum_geo_distance#4496, workoutid#4605]\\n                     :                                                                                                                 :        :     :     :  +- Join Inner, (workoutid#5 = workoutid#4605)\\n                     :                                                                                                                 :        :     :     :     :- Aggregate [max_elapsed_time#4486, workoutid#5], [max_elapsed_time#4486, workoutid#5]\\n                     :                                                                                                                 :        :     :     :     :  +- Project [max_elapsed_time#4486, workoutid#5]\\n                     :                                                                                                                 :        :     :     :     :     +- Project [elapsed_time#9, workoutid#5, max_elapsed_time#4486]\\n                     :                                                                                                                 :        :     :     :     :        +- Project [elapsed_time#9, workoutid#5, max_elapsed_time#4486, max_elapsed_time#4486]\\n                     :                                                                                                                 :        :     :     :     :           +- Window [max(elapsed_time#9) windowspecdefinition(workoutid#5, ROWS BETWEEN UNBOUNDED PRECEDING AND UNBOUNDED FOLLOWING) AS max_elapsed_time#4486], [workoutid#5]\\n                     :                                                                                                                 :        :     :     :     :              +- Project [elapsed_time#9, workoutid#5]\\n                     :                                                                                                                 :        :     :     :     :                 +- Project [altitude#0, heart_rate#1, latitude#2, longitude#3, speed#4, workoutid#5, time#6, altitude_first#7, altitude_second#8, elapsed_time#9, speed_first#10, geo_distance#11, userid#1891]\\n                     :                                                                                                                 :        :     :     :     :                    +- Join Inner, (workoutid#5 = workoutid#1892)\\n                     :                                                                                                                 :        :     :     :     :                       :- GlobalLimit 5000\\n                     :                                                                                                                 :        :     :     :     :                       :  +- LocalLimit 5000\\n                     :                                                                                                                 :        :     :     :     :                       :     +- LogicalRDD [altitude#0, heart_rate#1, latitude#2, longitude#3, speed#4, workoutid#5, time#6, altitude_first#7, altitude_second#8, elapsed_time#9, speed_first#10, geo_distance#11]\\n                     :                                                                                                                 :        :     :     :     :                       +- LogicalRDD [userid#1891, workoutid#1892]\\n                     :                                                                                                                 :        :     :     :     +- Aggregate [sum_geo_distance#4496, workoutid#4605], [sum_geo_distance#4496, workoutid#4605]\\n                     :                                                                                                                 :        :     :     :        +- Project [sum_geo_distance#4496, workoutid#4605]\\n                     :                                                                                                                 :        :     :     :           +- Project [geo_distance#4611, workoutid#4605, sum_geo_distance#4496]\\n                     :                                                                                                                 :        :     :     :              +- Project [geo_distance#4611, workoutid#4605, _w0#4497, sum_geo_distance#4496, sum_geo_distance#4496]\\n                     :                                                                                                                 :        :     :     :                 +- Window [sum(_w0#4497) windowspecdefinition(workoutid#4605, ROWS BETWEEN UNBOUNDED PRECEDING AND UNBOUNDED FOLLOWING) AS sum_geo_distance#4496], [workoutid#4605]\\n                     :                                                                                                                 :        :     :     :                    +- Project [geo_distance#4611, workoutid#4605, cast(geo_distance#4611 as double) AS _w0#4497]\\n                     :                                                                                                                 :        :     :     :                       +- Project [altitude#4600, heart_rate#4601, latitude#4602, longitude#4603, speed#4604, workoutid#4605, time#4606, altitude_first#4607, altitude_second#4608, elapsed_time#4609, speed_first#4610, geo_distance#4611, userid#1891]\\n                     :                                                                                                                 :        :     :     :                          +- Join Inner, (workoutid#4605 = workoutid#1892)\\n                     :                                                                                                                 :        :     :     :                             :- GlobalLimit 5000\\n                     :                                                                                                                 :        :     :     :                             :  +- LocalLimit 5000\\n                     :                                                                                                                 :        :     :     :                             :     +- LogicalRDD [altitude#4600, heart_rate#4601, latitude#4602, longitude#4603, speed#4604, workoutid#4605, time#4606, altitude_first#4607, altitude_second#4608, elapsed_time#4609, speed_first#4610, geo_distance#4611]\\n                     :                                                                                                                 :        :     :     :                             +- LogicalRDD [userid#1891, workoutid#1892]\\n                     :                                                                                                                 :        :     :     +- Aggregate [avg_heart_rate#4507, workoutid#5], [avg_heart_rate#4507, workoutid#5]\\n                     :                                                                                                                 :        :     :        +- Project [avg_heart_rate#4507, workoutid#5]\\n                     :                                                                                                                 :        :     :           +- Project [heart_rate#1, workoutid#5, avg_heart_rate#4507]\\n                     :                                                                                                                 :        :     :              +- Project [heart_rate#1, workoutid#5, _w0#4508, avg_heart_rate#4507, avg_heart_rate#4507]\\n                     :                                                                                                                 :        :     :                 +- Window [avg(_w0#4508) windowspecdefinition(workoutid#5, ROWS BETWEEN UNBOUNDED PRECEDING AND UNBOUNDED FOLLOWING) AS avg_heart_rate#4507], [workoutid#5]\\n                     :                                                                                                                 :        :     :                    +- Project [heart_rate#1, workoutid#5, cast(heart_rate#1 as double) AS _w0#4508]\\n                     :                                                                                                                 :        :     :                       +- Project [altitude#0, heart_rate#1, latitude#2, longitude#3, speed#4, workoutid#5, time#6, altitude_first#7, altitude_second#8, elapsed_time#9, speed_first#10, geo_distance#11, userid#1891]\\n                     :                                                                                                                 :        :     :                          +- Join Inner, (workoutid#5 = workoutid#1892)\\n                     :                                                                                                                 :        :     :                             :- GlobalLimit 5000\\n                     :                                                                                                                 :        :     :                             :  +- LocalLimit 5000\\n                     :                                                                                                                 :        :     :                             :     +- LogicalRDD [altitude#0, heart_rate#1, latitude#2, longitude#3, speed#4, workoutid#5, time#6, altitude_first#7, altitude_second#8, elapsed_time#9, speed_first#10, geo_distance#11]\\n                     :                                                                                                                 :        :     :                             +- LogicalRDD [userid#1891, workoutid#1892]\\n                     :                                                                                                                 :        :     +- Aggregate [avg_speed#4518, workoutid#5], [avg_speed#4518, workoutid#5]\\n                     :                                                                                                                 :        :        +- Project [avg_speed#4518, workoutid#5]\\n                     :                                                                                                                 :        :           +- Project [speed#4, workoutid#5, avg_speed#4518]\\n                     :                                                                                                                 :        :              +- Project [speed#4, workoutid#5, _w0#4519, avg_speed#4518, avg_speed#4518]\\n                     :                                                                                                                 :        :                 +- Window [avg(_w0#4519) windowspecdefinition(workoutid#5, ROWS BETWEEN UNBOUNDED PRECEDING AND UNBOUNDED FOLLOWING) AS avg_speed#4518], [workoutid#5]\\n                     :                                                                                                                 :        :                    +- Project [speed#4, workoutid#5, cast(speed#4 as double) AS _w0#4519]\\n                     :                                                                                                                 :        :                       +- Project [altitude#0, heart_rate#1, latitude#2, longitude#3, speed#4, workoutid#5, time#6, altitude_first#7, altitude_second#8, elapsed_time#9, speed_first#10, geo_distance#11, userid#1891]\\n                     :                                                                                                                 :        :                          +- Join Inner, (workoutid#5 = workoutid#1892)\\n                     :                                                                                                                 :        :                             :- GlobalLimit 5000\\n                     :                                                                                                                 :        :                             :  +- LocalLimit 5000\\n                     :                                                                                                                 :        :                             :     +- LogicalRDD [altitude#0, heart_rate#1, latitude#2, longitude#3, speed#4, workoutid#5, time#6, altitude_first#7, altitude_second#8, elapsed_time#9, speed_first#10, geo_distance#11]\\n                     :                                                                                                                 :        :                             +- LogicalRDD [userid#1891, workoutid#1892]\\n                     :                                                                                                                 :        +- Aggregate [diff_altitude#4588, workoutid#4545], [diff_altitude#4588, workoutid#4545]\\n                     :                                                                                                                 :           +- Project [diff_altitude#4588, workoutid#4545]\\n                     :                                                                                                                 :              +- Project [altitude#0, maxaltitude#4529, altitude#4540, workoutid#4545, minaltitude#4535, (cast(maxaltitude#4529 as double) - cast(minaltitude#4535 as double)) AS diff_altitude#4588]\\n                     :                                                                                                                 :                 +- Project [altitude#0, maxaltitude#4529, altitude#4540, workoutid#4545, minaltitude#4535]\\n                     :                                                                                                                 :                    +- Join Inner, (workoutid#5 = workoutid#4545)\\n                     :                                                                                                                 :                       :- Project [altitude#0, workoutid#5, maxaltitude#4529]\\n                     :                                                                                                                 :                       :  +- Project [altitude#0, workoutid#5, maxaltitude#4529, maxaltitude#4529]\\n                     :                                                                                                                 :                       :     +- Window [max(altitude#0) windowspecdefinition(workoutid#5, ROWS BETWEEN UNBOUNDED PRECEDING AND UNBOUNDED FOLLOWING) AS maxaltitude#4529], [workoutid#5]\\n                     :                                                                                                                 :                       :        +- Project [altitude#0, workoutid#5]\\n                     :                                                                                                                 :                       :           +- Project [altitude#0, heart_rate#1, latitude#2, longitude#3, speed#4, workoutid#5, time#6, altitude_first#7, altitude_second#8, elapsed_time#9, speed_first#10, geo_distance#11, userid#1891]\\n                     :                                                                                                                 :                       :              +- Join Inner, (workoutid#5 = workoutid#1892)\\n                     :                                                                                                                 :                       :                 :- GlobalLimit 5000\\n                     :                                                                                                                 :                       :                 :  +- LocalLimit 5000\\n                     :                                                                                                                 :                       :                 :     +- LogicalRDD [altitude#0, heart_rate#1, latitude#2, longitude#3, speed#4, workoutid#5, time#6, altitude_first#7, altitude_second#8, elapsed_time#9, speed_first#10, geo_distance#11]\\n                     :                                                                                                                 :                       :                 +- LogicalRDD [userid#1891, workoutid#1892]\\n                     :                                                                                                                 :                       +- Project [altitude#4540, workoutid#4545, minaltitude#4535]\\n                     :                                                                                                                 :                          +- Project [altitude#4540, workoutid#4545, minaltitude#4535, minaltitude#4535]\\n                     :                                                                                                                 :                             +- Window [min(altitude#4540) windowspecdefinition(workoutid#4545, ROWS BETWEEN UNBOUNDED PRECEDING AND UNBOUNDED FOLLOWING) AS minaltitude#4535], [workoutid#4545]\\n                     :                                                                                                                 :                                +- Project [altitude#4540, workoutid#4545]\\n                     :                                                                                                                 :                                   +- Project [altitude#4540, heart_rate#4541, latitude#4542, longitude#4543, speed#4544, workoutid#4545, time#4546, altitude_first#4547, altitude_second#4548, elapsed_time#4549, speed_first#4550, geo_distance#4551, userid#1891]\\n                     :                                                                                                                 :                                      +- Join Inner, (workoutid#4545 = workoutid#1892)\\n                     :                                                                                                                 :                                         :- GlobalLimit 5000\\n                     :                                                                                                                 :                                         :  +- LocalLimit 5000\\n                     :                                                                                                                 :                                         :     +- LogicalRDD [altitude#4540, heart_rate#4541, latitude#4542, longitude#4543, speed#4544, workoutid#4545, time#4546, altitude_first#4547, altitude_second#4548, elapsed_time#4549, speed_first#4550, geo_distance#4551]\\n                     :                                                                                                                 :                                         +- LogicalRDD [userid#1891, workoutid#1892]\\n                     :                                                                                                                 +- LogicalRDD [userid#1891, workoutid#1892]\\n                     +- Project [max_elapsed_time_n#30729, sum_geo_distance_n#30738, avg_heart_rate_n#30747, avg_speed_n#30756, diff_altitude_n#30765, workoutid#30786]\\n                        +- Project [workoutid#30786, userid#1891, max_elapsed_time_n#30729, sum_geo_distance_n#30738, avg_heart_rate_n#30747, avg_speed_n#30756, diff_altitude#30720 AS diff_altitude_n#30765]\\n                           +- Project [workoutid#30786, userid#1891, max_elapsed_time_n#30729, sum_geo_distance_n#30738, avg_heart_rate_n#30747, avg_speed#25883 AS avg_speed_n#30756, diff_altitude#30720]\\n                              +- Project [workoutid#30786, userid#1891, max_elapsed_time_n#30729, sum_geo_distance_n#30738, avg_heart_rate#21046 AS avg_heart_rate_n#30747, avg_speed#25883, diff_altitude#30720]\\n                                 +- Project [workoutid#30786, userid#1891, max_elapsed_time_n#30729, sum_geo_distance#16209 AS sum_geo_distance_n#30738, avg_heart_rate#21046, avg_speed#25883, diff_altitude#30720]\\n                                    +- Project [workoutid#30786, userid#1891, max_elapsed_time#11372 AS max_elapsed_time_n#30729, sum_geo_distance#16209, avg_heart_rate#21046, avg_speed#25883, diff_altitude#30720]\\n                                       +- Project [workoutid#30786, userid#1891, max_elapsed_time#11372, sum_geo_distance#16209, avg_heart_rate#21046, avg_speed#25883, temp#30702 AS diff_altitude#30720]\\n                                          +- Project [workoutid#30786, userid#1891, max_elapsed_time#11372, sum_geo_distance#16209, avg_heart_rate#21046, avg_speed#25883, temp#30702]\\n                                             +- Project [workoutid#30786, userid#1891, diff_altitude#6535, max_elapsed_time#11372, sum_geo_distance#16209, avg_heart_rate#21046, avg_speed#25883, UDF(diff_altitude#6535) AS temp#30702]\\n                                                +- Project [workoutid#30786, userid#1891, diff_altitude#6535, max_elapsed_time#11372, sum_geo_distance#16209, avg_heart_rate#21046, temp#25865 AS avg_speed#25883]\\n                                                   +- Project [workoutid#30786, userid#1891, diff_altitude#6535, max_elapsed_time#11372, sum_geo_distance#16209, avg_heart_rate#21046, temp#25865]\\n                                                      +- Project [workoutid#30786, userid#1891, avg_speed#6508, diff_altitude#6535, max_elapsed_time#11372, sum_geo_distance#16209, avg_heart_rate#21046, UDF(avg_speed#6508) AS temp#25865]\\n                                                         +- Project [workoutid#30786, userid#1891, avg_speed#6508, diff_altitude#6535, max_elapsed_time#11372, sum_geo_distance#16209, temp#21028 AS avg_heart_rate#21046]\\n                                                            +- Project [workoutid#30786, userid#1891, avg_speed#6508, diff_altitude#6535, max_elapsed_time#11372, sum_geo_distance#16209, temp#21028]\\n                                                               +- Project [workoutid#30786, userid#1891, avg_heart_rate#6481, avg_speed#6508, diff_altitude#6535, max_elapsed_time#11372, sum_geo_distance#16209, UDF(avg_heart_rate#6481) AS temp#21028]\\n                                                                  +- Project [workoutid#30786, userid#1891, avg_heart_rate#6481, avg_speed#6508, diff_altitude#6535, max_elapsed_time#11372, temp#16191 AS sum_geo_distance#16209]\\n                                                                     +- Project [workoutid#30786, userid#1891, avg_heart_rate#6481, avg_speed#6508, diff_altitude#6535, max_elapsed_time#11372, temp#16191]\\n                                                                        +- Project [workoutid#30786, userid#1891, sum_geo_distance#6454, avg_heart_rate#6481, avg_speed#6508, diff_altitude#6535, max_elapsed_time#11372, UDF(sum_geo_distance#6454) AS temp#16191]\\n                                                                           +- Project [workoutid#30786, userid#1891, sum_geo_distance#6454, avg_heart_rate#6481, avg_speed#6508, diff_altitude#6535, temp#11354 AS max_elapsed_time#11372]\\n                                                                              +- Project [workoutid#30786, userid#1891, sum_geo_distance#6454, avg_heart_rate#6481, avg_speed#6508, diff_altitude#6535, temp#11354]\\n                                                                                 +- Project [workoutid#30786, userid#1891, max_elapsed_time#6427, sum_geo_distance#6454, avg_heart_rate#6481, avg_speed#6508, diff_altitude#6535, UDF(max_elapsed_time#6427) AS temp#11354]\\n                                                                                    +- Project [workoutid#30786, userid#1891, max_elapsed_time#6427, sum_geo_distance#6454, avg_heart_rate#6481, avg_speed#6508, temp#6517 AS diff_altitude#6535]\\n                                                                                       +- Project [workoutid#30786, userid#1891, max_elapsed_time#6427, sum_geo_distance#6454, avg_heart_rate#6481, avg_speed#6508, temp#6517]\\n                                                                                          +- Project [workoutid#30786, diff_altitude#6400, userid#1891, max_elapsed_time#6427, sum_geo_distance#6454, avg_heart_rate#6481, avg_speed#6508, <lambda>(diff_altitude#6400) AS temp#6517]\\n                                                                                             +- Project [workoutid#30786, diff_altitude#6400, userid#1891, max_elapsed_time#6427, sum_geo_distance#6454, avg_heart_rate#6481, temp#6490 AS avg_speed#6508]\\n                                                                                                +- Project [workoutid#30786, diff_altitude#6400, userid#1891, max_elapsed_time#6427, sum_geo_distance#6454, avg_heart_rate#6481, temp#6490]\\n                                                                                                   +- Project [workoutid#30786, avg_speed#6399, diff_altitude#6400, userid#1891, max_elapsed_time#6427, sum_geo_distance#6454, avg_heart_rate#6481, <lambda>(avg_speed#6399) AS temp#6490]\\n                                                                                                      +- Project [workoutid#30786, avg_speed#6399, diff_altitude#6400, userid#1891, max_elapsed_time#6427, sum_geo_distance#6454, temp#6463 AS avg_heart_rate#6481]\\n                                                                                                         +- Project [workoutid#30786, avg_speed#6399, diff_altitude#6400, userid#1891, max_elapsed_time#6427, sum_geo_distance#6454, temp#6463]\\n                                                                                                            +- Project [workoutid#30786, avg_heart_rate#6398, avg_speed#6399, diff_altitude#6400, userid#1891, max_elapsed_time#6427, sum_geo_distance#6454, <lambda>(avg_heart_rate#6398) AS temp#6463]\\n                                                                                                               +- Project [workoutid#30786, avg_heart_rate#6398, avg_speed#6399, diff_altitude#6400, userid#1891, max_elapsed_time#6427, temp#6436 AS sum_geo_distance#6454]\\n                                                                                                                  +- Project [workoutid#30786, avg_heart_rate#6398, avg_speed#6399, diff_altitude#6400, userid#1891, max_elapsed_time#6427, temp#6436]\\n                                                                                                                     +- Project [sum_geo_distance#6397, workoutid#30786, avg_heart_rate#6398, avg_speed#6399, diff_altitude#6400, userid#1891, max_elapsed_time#6427, <lambda>(sum_geo_distance#6397) AS temp#6436]\\n                                                                                                                        +- Project [sum_geo_distance#6397, workoutid#30786, avg_heart_rate#6398, avg_speed#6399, diff_altitude#6400, userid#1891, temp#6409 AS max_elapsed_time#6427]\\n                                                                                                                           +- Project [sum_geo_distance#6397, workoutid#30786, avg_heart_rate#6398, avg_speed#6399, diff_altitude#6400, userid#1891, temp#6409]\\n                                                                                                                              +- Project [max_elapsed_time#6396, sum_geo_distance#6397, workoutid#30786, avg_heart_rate#6398, avg_speed#6399, diff_altitude#6400, userid#1891, <lambda>(max_elapsed_time#6396) AS temp#6409]\\n                                                                                                                                 +- Project [cast(coalesce(nanvl(max_elapsed_time#6343, cast(null as double)), 0.0) as double) AS max_elapsed_time#6396, cast(coalesce(nanvl(sum_geo_distance#6352, cast(null as double)), 0.0) as double) AS sum_geo_distance#6397, workoutid#30786, cast(coalesce(nanvl(avg_heart_rate#6361, cast(null as double)), 0.0) as double) AS avg_heart_rate#6398, cast(coalesce(nanvl(avg_speed#6370, cast(null as double)), 0.0) as double) AS avg_speed#6399, cast(coalesce(nanvl(diff_altitude#6379, cast(null as double)), 0.0) as double) AS diff_altitude#6400, userid#1891]\\n                                                                                                                                    +- Project [max_elapsed_time#6343, sum_geo_distance#6352, workoutid#30786, avg_heart_rate#6361, avg_speed#6370, cast(diff_altitude#4588 as double) AS diff_altitude#6379, userid#1891]\\n                                                                                                                                       +- Project [max_elapsed_time#6343, sum_geo_distance#6352, workoutid#30786, avg_heart_rate#6361, cast(avg_speed#4518 as double) AS avg_speed#6370, diff_altitude#4588, userid#1891]\\n                                                                                                                                          +- Project [max_elapsed_time#6343, sum_geo_distance#6352, workoutid#30786, cast(avg_heart_rate#4507 as double) AS avg_heart_rate#6361, avg_speed#4518, diff_altitude#4588, userid#1891]\\n                                                                                                                                             +- Project [max_elapsed_time#6343, cast(sum_geo_distance#4496 as double) AS sum_geo_distance#6352, workoutid#30786, avg_heart_rate#4507, avg_speed#4518, diff_altitude#4588, userid#1891]\\n                                                                                                                                                +- Project [cast(max_elapsed_time#4486 as double) AS max_elapsed_time#6343, sum_geo_distance#4496, workoutid#30786, avg_heart_rate#4507, avg_speed#4518, diff_altitude#4588, userid#1891]\\n                                                                                                                                                   +- Project [max_elapsed_time#4486, sum_geo_distance#4496, workoutid#30786, avg_heart_rate#4507, avg_speed#4518, diff_altitude#4588, userid#1891]\\n                                                                                                                                                      +- Join Inner, (workoutid#30786 = workoutid#1892)\\n                                                                                                                                                         :- Filter AtLeastNNulls(n, max_elapsed_time#4486,sum_geo_distance#4496,workoutid#30786,avg_heart_rate#4507,avg_speed#4518,diff_altitude#4588)\\n                                                                                                                                                         :  +- Project [max_elapsed_time#4486, sum_geo_distance#4496, workoutid#30786, avg_heart_rate#4507, avg_speed#4518, diff_altitude#4588]\\n                                                                                                                                                         :     +- Join Inner, (workoutid#30786 = workoutid#4545)\\n                                                                                                                                                         :        :- Project [max_elapsed_time#4486, sum_geo_distance#4496, workoutid#30786, avg_heart_rate#4507, avg_speed#4518]\\n                                                                                                                                                         :        :  +- Join Inner, (workoutid#30786 = workoutid#5)\\n                                                                                                                                                         :        :     :- Project [max_elapsed_time#4486, sum_geo_distance#4496, workoutid#30786, avg_heart_rate#4507]\\n                                                                                                                                                         :        :     :  +- Join Inner, (workoutid#30786 = workoutid#5)\\n                                                                                                                                                         :        :     :     :- Project [max_elapsed_time#4486, sum_geo_distance#4496, workoutid#30786]\\n                                                                                                                                                         :        :     :     :  +- Join Inner, (workoutid#5 = workoutid#30786)\\n                                                                                                                                                         :        :     :     :     :- Aggregate [max_elapsed_time#4486, workoutid#5], [max_elapsed_time#4486, workoutid#5]\\n                                                                                                                                                         :        :     :     :     :  +- Project [max_elapsed_time#4486, workoutid#5]\\n                                                                                                                                                         :        :     :     :     :     +- Project [elapsed_time#9, workoutid#5, max_elapsed_time#4486]\\n                                                                                                                                                         :        :     :     :     :        +- Project [elapsed_time#9, workoutid#5, max_elapsed_time#4486, max_elapsed_time#4486]\\n                                                                                                                                                         :        :     :     :     :           +- Window [max(elapsed_time#9) windowspecdefinition(workoutid#5, ROWS BETWEEN UNBOUNDED PRECEDING AND UNBOUNDED FOLLOWING) AS max_elapsed_time#4486], [workoutid#5]\\n                                                                                                                                                         :        :     :     :     :              +- Project [elapsed_time#9, workoutid#5]\\n                                                                                                                                                         :        :     :     :     :                 +- Project [altitude#0, heart_rate#1, latitude#2, longitude#3, speed#4, workoutid#5, time#6, altitude_first#7, altitude_second#8, elapsed_time#9, speed_first#10, geo_distance#11, userid#1891]\\n                                                                                                                                                         :        :     :     :     :                    +- Join Inner, (workoutid#5 = workoutid#1892)\\n                                                                                                                                                         :        :     :     :     :                       :- GlobalLimit 5000\\n                                                                                                                                                         :        :     :     :     :                       :  +- LocalLimit 5000\\n                                                                                                                                                         :        :     :     :     :                       :     +- LogicalRDD [altitude#0, heart_rate#1, latitude#2, longitude#3, speed#4, workoutid#5, time#6, altitude_first#7, altitude_second#8, elapsed_time#9, speed_first#10, geo_distance#11]\\n                                                                                                                                                         :        :     :     :     :                       +- LogicalRDD [userid#1891, workoutid#1892]\\n                                                                                                                                                         :        :     :     :     +- Aggregate [sum_geo_distance#4496, workoutid#30786], [sum_geo_distance#4496, workoutid#30786]\\n                                                                                                                                                         :        :     :     :        +- Project [sum_geo_distance#4496, workoutid#30786]\\n                                                                                                                                                         :        :     :     :           +- Project [geo_distance#30792, workoutid#30786, sum_geo_distance#4496]\\n                                                                                                                                                         :        :     :     :              +- Project [geo_distance#30792, workoutid#30786, _w0#4497, sum_geo_distance#4496, sum_geo_distance#4496]\\n                                                                                                                                                         :        :     :     :                 +- Window [sum(_w0#4497) windowspecdefinition(workoutid#30786, ROWS BETWEEN UNBOUNDED PRECEDING AND UNBOUNDED FOLLOWING) AS sum_geo_distance#4496], [workoutid#30786]\\n                                                                                                                                                         :        :     :     :                    +- Project [geo_distance#30792, workoutid#30786, cast(geo_distance#30792 as double) AS _w0#4497]\\n                                                                                                                                                         :        :     :     :                       +- Project [altitude#30781, heart_rate#30782, latitude#30783, longitude#30784, speed#30785, workoutid#30786, time#30787, altitude_first#30788, altitude_second#30789, elapsed_time#30790, speed_first#30791, geo_distance#30792, userid#1891]\\n                                                                                                                                                         :        :     :     :                          +- Join Inner, (workoutid#30786 = workoutid#1892)\\n                                                                                                                                                         :        :     :     :                             :- GlobalLimit 5000\\n                                                                                                                                                         :        :     :     :                             :  +- LocalLimit 5000\\n                                                                                                                                                         :        :     :     :                             :     +- LogicalRDD [altitude#30781, heart_rate#30782, latitude#30783, longitude#30784, speed#30785, workoutid#30786, time#30787, altitude_first#30788, altitude_second#30789, elapsed_time#30790, speed_first#30791, geo_distance#30792]\\n                                                                                                                                                         :        :     :     :                             +- LogicalRDD [userid#1891, workoutid#1892]\\n                                                                                                                                                         :        :     :     +- Aggregate [avg_heart_rate#4507, workoutid#5], [avg_heart_rate#4507, workoutid#5]\\n                                                                                                                                                         :        :     :        +- Project [avg_heart_rate#4507, workoutid#5]\\n                                                                                                                                                         :        :     :           +- Project [heart_rate#1, workoutid#5, avg_heart_rate#4507]\\n                                                                                                                                                         :        :     :              +- Project [heart_rate#1, workoutid#5, _w0#4508, avg_heart_rate#4507, avg_heart_rate#4507]\\n                                                                                                                                                         :        :     :                 +- Window [avg(_w0#4508) windowspecdefinition(workoutid#5, ROWS BETWEEN UNBOUNDED PRECEDING AND UNBOUNDED FOLLOWING) AS avg_heart_rate#4507], [workoutid#5]\\n                                                                                                                                                         :        :     :                    +- Project [heart_rate#1, workoutid#5, cast(heart_rate#1 as double) AS _w0#4508]\\n                                                                                                                                                         :        :     :                       +- Project [altitude#0, heart_rate#1, latitude#2, longitude#3, speed#4, workoutid#5, time#6, altitude_first#7, altitude_second#8, elapsed_time#9, speed_first#10, geo_distance#11, userid#1891]\\n                                                                                                                                                         :        :     :                          +- Join Inner, (workoutid#5 = workoutid#1892)\\n                                                                                                                                                         :        :     :                             :- GlobalLimit 5000\\n                                                                                                                                                         :        :     :                             :  +- LocalLimit 5000\\n                                                                                                                                                         :        :     :                             :     +- LogicalRDD [altitude#0, heart_rate#1, latitude#2, longitude#3, speed#4, workoutid#5, time#6, altitude_first#7, altitude_second#8, elapsed_time#9, speed_first#10, geo_distance#11]\\n                                                                                                                                                         :        :     :                             +- LogicalRDD [userid#1891, workoutid#1892]\\n                                                                                                                                                         :        :     +- Aggregate [avg_speed#4518, workoutid#5], [avg_speed#4518, workoutid#5]\\n                                                                                                                                                         :        :        +- Project [avg_speed#4518, workoutid#5]\\n                                                                                                                                                         :        :           +- Project [speed#4, workoutid#5, avg_speed#4518]\\n                                                                                                                                                         :        :              +- Project [speed#4, workoutid#5, _w0#4519, avg_speed#4518, avg_speed#4518]\\n                                                                                                                                                         :        :                 +- Window [avg(_w0#4519) windowspecdefinition(workoutid#5, ROWS BETWEEN UNBOUNDED PRECEDING AND UNBOUNDED FOLLOWING) AS avg_speed#4518], [workoutid#5]\\n                                                                                                                                                         :        :                    +- Project [speed#4, workoutid#5, cast(speed#4 as double) AS _w0#4519]\\n                                                                                                                                                         :        :                       +- Project [altitude#0, heart_rate#1, latitude#2, longitude#3, speed#4, workoutid#5, time#6, altitude_first#7, altitude_second#8, elapsed_time#9, speed_first#10, geo_distance#11, userid#1891]\\n                                                                                                                                                         :        :                          +- Join Inner, (workoutid#5 = workoutid#1892)\\n                                                                                                                                                         :        :                             :- GlobalLimit 5000\\n                                                                                                                                                         :        :                             :  +- LocalLimit 5000\\n                                                                                                                                                         :        :                             :     +- LogicalRDD [altitude#0, heart_rate#1, latitude#2, longitude#3, speed#4, workoutid#5, time#6, altitude_first#7, altitude_second#8, elapsed_time#9, speed_first#10, geo_distance#11]\\n                                                                                                                                                         :        :                             +- LogicalRDD [userid#1891, workoutid#1892]\\n                                                                                                                                                         :        +- Aggregate [diff_altitude#4588, workoutid#4545], [diff_altitude#4588, workoutid#4545]\\n                                                                                                                                                         :           +- Project [diff_altitude#4588, workoutid#4545]\\n                                                                                                                                                         :              +- Project [altitude#0, maxaltitude#4529, altitude#4540, workoutid#4545, minaltitude#4535, (cast(maxaltitude#4529 as double) - cast(minaltitude#4535 as double)) AS diff_altitude#4588]\\n                                                                                                                                                         :                 +- Project [altitude#0, maxaltitude#4529, altitude#4540, workoutid#4545, minaltitude#4535]\\n                                                                                                                                                         :                    +- Join Inner, (workoutid#5 = workoutid#4545)\\n                                                                                                                                                         :                       :- Project [altitude#0, workoutid#5, maxaltitude#4529]\\n                                                                                                                                                         :                       :  +- Project [altitude#0, workoutid#5, maxaltitude#4529, maxaltitude#4529]\\n                                                                                                                                                         :                       :     +- Window [max(altitude#0) windowspecdefinition(workoutid#5, ROWS BETWEEN UNBOUNDED PRECEDING AND UNBOUNDED FOLLOWING) AS maxaltitude#4529], [workoutid#5]\\n                                                                                                                                                         :                       :        +- Project [altitude#0, workoutid#5]\\n                                                                                                                                                         :                       :           +- Project [altitude#0, heart_rate#1, latitude#2, longitude#3, speed#4, workoutid#5, time#6, altitude_first#7, altitude_second#8, elapsed_time#9, speed_first#10, geo_distance#11, userid#1891]\\n                                                                                                                                                         :                       :              +- Join Inner, (workoutid#5 = workoutid#1892)\\n                                                                                                                                                         :                       :                 :- GlobalLimit 5000\\n                                                                                                                                                         :                       :                 :  +- LocalLimit 5000\\n                                                                                                                                                         :                       :                 :     +- LogicalRDD [altitude#0, heart_rate#1, latitude#2, longitude#3, speed#4, workoutid#5, time#6, altitude_first#7, altitude_second#8, elapsed_time#9, speed_first#10, geo_distance#11]\\n                                                                                                                                                         :                       :                 +- LogicalRDD [userid#1891, workoutid#1892]\\n                                                                                                                                                         :                       +- Project [altitude#4540, workoutid#4545, minaltitude#4535]\\n                                                                                                                                                         :                          +- Project [altitude#4540, workoutid#4545, minaltitude#4535, minaltitude#4535]\\n                                                                                                                                                         :                             +- Window [min(altitude#4540) windowspecdefinition(workoutid#4545, ROWS BETWEEN UNBOUNDED PRECEDING AND UNBOUNDED FOLLOWING) AS minaltitude#4535], [workoutid#4545]\\n                                                                                                                                                         :                                +- Project [altitude#4540, workoutid#4545]\\n                                                                                                                                                         :                                   +- Project [altitude#4540, heart_rate#4541, latitude#4542, longitude#4543, speed#4544, workoutid#4545, time#4546, altitude_first#4547, altitude_second#4548, elapsed_time#4549, speed_first#4550, geo_distance#4551, userid#1891]\\n                                                                                                                                                         :                                      +- Join Inner, (workoutid#4545 = workoutid#1892)\\n                                                                                                                                                         :                                         :- GlobalLimit 5000\\n                                                                                                                                                         :                                         :  +- LocalLimit 5000\\n                                                                                                                                                         :                                         :     +- LogicalRDD [altitude#4540, heart_rate#4541, latitude#4542, longitude#4543, speed#4544, workoutid#4545, time#4546, altitude_first#4547, altitude_second#4548, elapsed_time#4549, speed_first#4550, geo_distance#4551]\\n                                                                                                                                                         :                                         +- LogicalRDD [userid#1891, workoutid#1892]\\n                                                                                                                                                         +- LogicalRDD [userid#1891, workoutid#1892]\\n\"",
     "output_type": "error",
     "traceback": [
      "\u001b[0;31m---------------------------------------------------------------------------\u001b[0m",
      "\u001b[0;31mAnalysisException\u001b[0m                         Traceback (most recent call last)",
      "\u001b[0;32m<ipython-input-62-4d5c5c761b85>\u001b[0m in \u001b[0;36m<module>\u001b[0;34m()\u001b[0m\n\u001b[1;32m      5\u001b[0m \u001b[0mnew_speed\u001b[0m \u001b[0;34m=\u001b[0m \u001b[0;34m'new_avg_speed'\u001b[0m\u001b[0;34m\u001b[0m\u001b[0m\n\u001b[1;32m      6\u001b[0m \u001b[0mnew_dist\u001b[0m \u001b[0;34m=\u001b[0m \u001b[0;34m'new_avg_dist'\u001b[0m\u001b[0;34m\u001b[0m\u001b[0m\n\u001b[0;32m----> 7\u001b[0;31m \u001b[0mtmp\u001b[0m \u001b[0;34m=\u001b[0m \u001b[0mprediction_df\u001b[0m\u001b[0;34m.\u001b[0m\u001b[0mselect\u001b[0m\u001b[0;34m(\u001b[0m\u001b[0;34m'avg_speed'\u001b[0m\u001b[0;34m,\u001b[0m \u001b[0;34m'userid'\u001b[0m\u001b[0;34m,\u001b[0m \u001b[0;34m'prediction'\u001b[0m\u001b[0;34m,\u001b[0m                          \u001b[0mavg\u001b[0m\u001b[0;34m(\u001b[0m\u001b[0;34m'avg_speed'\u001b[0m\u001b[0;34m)\u001b[0m\u001b[0;34m.\u001b[0m\u001b[0mover\u001b[0m\u001b[0;34m(\u001b[0m\u001b[0mw\u001b[0m\u001b[0;34m)\u001b[0m\u001b[0;34m.\u001b[0m\u001b[0malias\u001b[0m\u001b[0;34m(\u001b[0m\u001b[0mnew_speed\u001b[0m\u001b[0;34m)\u001b[0m\u001b[0;34m)\u001b[0m\u001b[0;34m\u001b[0m\u001b[0m\n\u001b[0m\u001b[1;32m      8\u001b[0m \u001b[0;34m\u001b[0m\u001b[0m\n\u001b[1;32m      9\u001b[0m \u001b[0mtmp\u001b[0m\u001b[0;34m.\u001b[0m\u001b[0mshow\u001b[0m\u001b[0;34m(\u001b[0m\u001b[0;34m)\u001b[0m\u001b[0;34m\u001b[0m\u001b[0m\n",
      "\u001b[0;32m/opt/spark/spark-2.1.0-bin-hadoop2.7/python/pyspark/sql/dataframe.pyc\u001b[0m in \u001b[0;36mselect\u001b[0;34m(self, *cols)\u001b[0m\n\u001b[1;32m    982\u001b[0m         \u001b[0;34m[\u001b[0m\u001b[0mRow\u001b[0m\u001b[0;34m(\u001b[0m\u001b[0mname\u001b[0m\u001b[0;34m=\u001b[0m\u001b[0;34mu'Alice'\u001b[0m\u001b[0;34m,\u001b[0m \u001b[0mage\u001b[0m\u001b[0;34m=\u001b[0m\u001b[0;36m12\u001b[0m\u001b[0;34m)\u001b[0m\u001b[0;34m,\u001b[0m \u001b[0mRow\u001b[0m\u001b[0;34m(\u001b[0m\u001b[0mname\u001b[0m\u001b[0;34m=\u001b[0m\u001b[0;34mu'Bob'\u001b[0m\u001b[0;34m,\u001b[0m \u001b[0mage\u001b[0m\u001b[0;34m=\u001b[0m\u001b[0;36m15\u001b[0m\u001b[0;34m)\u001b[0m\u001b[0;34m]\u001b[0m\u001b[0;34m\u001b[0m\u001b[0m\n\u001b[1;32m    983\u001b[0m         \"\"\"\n\u001b[0;32m--> 984\u001b[0;31m         \u001b[0mjdf\u001b[0m \u001b[0;34m=\u001b[0m \u001b[0mself\u001b[0m\u001b[0;34m.\u001b[0m\u001b[0m_jdf\u001b[0m\u001b[0;34m.\u001b[0m\u001b[0mselect\u001b[0m\u001b[0;34m(\u001b[0m\u001b[0mself\u001b[0m\u001b[0;34m.\u001b[0m\u001b[0m_jcols\u001b[0m\u001b[0;34m(\u001b[0m\u001b[0;34m*\u001b[0m\u001b[0mcols\u001b[0m\u001b[0;34m)\u001b[0m\u001b[0;34m)\u001b[0m\u001b[0;34m\u001b[0m\u001b[0m\n\u001b[0m\u001b[1;32m    985\u001b[0m         \u001b[0;32mreturn\u001b[0m \u001b[0mDataFrame\u001b[0m\u001b[0;34m(\u001b[0m\u001b[0mjdf\u001b[0m\u001b[0;34m,\u001b[0m \u001b[0mself\u001b[0m\u001b[0;34m.\u001b[0m\u001b[0msql_ctx\u001b[0m\u001b[0;34m)\u001b[0m\u001b[0;34m\u001b[0m\u001b[0m\n\u001b[1;32m    986\u001b[0m \u001b[0;34m\u001b[0m\u001b[0m\n",
      "\u001b[0;32m/opt/spark/spark-2.1.0-bin-hadoop2.7/python/lib/py4j-0.10.4-src.zip/py4j/java_gateway.py\u001b[0m in \u001b[0;36m__call__\u001b[0;34m(self, *args)\u001b[0m\n\u001b[1;32m   1131\u001b[0m         \u001b[0manswer\u001b[0m \u001b[0;34m=\u001b[0m \u001b[0mself\u001b[0m\u001b[0;34m.\u001b[0m\u001b[0mgateway_client\u001b[0m\u001b[0;34m.\u001b[0m\u001b[0msend_command\u001b[0m\u001b[0;34m(\u001b[0m\u001b[0mcommand\u001b[0m\u001b[0;34m)\u001b[0m\u001b[0;34m\u001b[0m\u001b[0m\n\u001b[1;32m   1132\u001b[0m         return_value = get_return_value(\n\u001b[0;32m-> 1133\u001b[0;31m             answer, self.gateway_client, self.target_id, self.name)\n\u001b[0m\u001b[1;32m   1134\u001b[0m \u001b[0;34m\u001b[0m\u001b[0m\n\u001b[1;32m   1135\u001b[0m         \u001b[0;32mfor\u001b[0m \u001b[0mtemp_arg\u001b[0m \u001b[0;32min\u001b[0m \u001b[0mtemp_args\u001b[0m\u001b[0;34m:\u001b[0m\u001b[0;34m\u001b[0m\u001b[0m\n",
      "\u001b[0;32m/opt/spark/spark-2.1.0-bin-hadoop2.7/python/pyspark/sql/utils.pyc\u001b[0m in \u001b[0;36mdeco\u001b[0;34m(*a, **kw)\u001b[0m\n\u001b[1;32m     67\u001b[0m                                              e.java_exception.getStackTrace()))\n\u001b[1;32m     68\u001b[0m             \u001b[0;32mif\u001b[0m \u001b[0ms\u001b[0m\u001b[0;34m.\u001b[0m\u001b[0mstartswith\u001b[0m\u001b[0;34m(\u001b[0m\u001b[0;34m'org.apache.spark.sql.AnalysisException: '\u001b[0m\u001b[0;34m)\u001b[0m\u001b[0;34m:\u001b[0m\u001b[0;34m\u001b[0m\u001b[0m\n\u001b[0;32m---> 69\u001b[0;31m                 \u001b[0;32mraise\u001b[0m \u001b[0mAnalysisException\u001b[0m\u001b[0;34m(\u001b[0m\u001b[0ms\u001b[0m\u001b[0;34m.\u001b[0m\u001b[0msplit\u001b[0m\u001b[0;34m(\u001b[0m\u001b[0;34m': '\u001b[0m\u001b[0;34m,\u001b[0m \u001b[0;36m1\u001b[0m\u001b[0;34m)\u001b[0m\u001b[0;34m[\u001b[0m\u001b[0;36m1\u001b[0m\u001b[0;34m]\u001b[0m\u001b[0;34m,\u001b[0m \u001b[0mstackTrace\u001b[0m\u001b[0;34m)\u001b[0m\u001b[0;34m\u001b[0m\u001b[0m\n\u001b[0m\u001b[1;32m     70\u001b[0m             \u001b[0;32mif\u001b[0m \u001b[0ms\u001b[0m\u001b[0;34m.\u001b[0m\u001b[0mstartswith\u001b[0m\u001b[0;34m(\u001b[0m\u001b[0;34m'org.apache.spark.sql.catalyst.analysis'\u001b[0m\u001b[0;34m)\u001b[0m\u001b[0;34m:\u001b[0m\u001b[0;34m\u001b[0m\u001b[0m\n\u001b[1;32m     71\u001b[0m                 \u001b[0;32mraise\u001b[0m \u001b[0mAnalysisException\u001b[0m\u001b[0;34m(\u001b[0m\u001b[0ms\u001b[0m\u001b[0;34m.\u001b[0m\u001b[0msplit\u001b[0m\u001b[0;34m(\u001b[0m\u001b[0;34m': '\u001b[0m\u001b[0;34m,\u001b[0m \u001b[0;36m1\u001b[0m\u001b[0;34m)\u001b[0m\u001b[0;34m[\u001b[0m\u001b[0;36m1\u001b[0m\u001b[0;34m]\u001b[0m\u001b[0;34m,\u001b[0m \u001b[0mstackTrace\u001b[0m\u001b[0;34m)\u001b[0m\u001b[0;34m\u001b[0m\u001b[0m\n",
      "\u001b[0;31mAnalysisException\u001b[0m: u\"cannot resolve 'avg(`avg_speed`)' due to data type mismatch: function average requires numeric types, not org.apache.spark.ml.linalg.VectorUDT@3bfc3ba7;;\\n'Project [avg_speed#25883, userid#1891, prediction#72750, avg(avg_speed#25883) windowspecdefinition(userid#1891, prediction#72750, UnspecifiedFrame) AS new_avg_speed#72771]\\n+- Project [max_elapsed_time#11372, sum_geo_distance#16209, avg_heart_rate#21046, avg_speed#25883, diff_altitude#30720, workoutid#30786, userid#1891, prediction#72750]\\n   +- Project [max_elapsed_time#11372, sum_geo_distance#16209, avg_heart_rate#21046, avg_speed#25883, diff_altitude#30720, workoutid#30786, features#34114, userid#1891, UDF(features#34114) AS prediction#72750]\\n      +- Project [max_elapsed_time#11372, sum_geo_distance#16209, avg_heart_rate#21046, avg_speed#25883, diff_altitude#30720, workoutid#30786, features#34114, userid#1891]\\n         +- Project [userid#1891, max_elapsed_time#11372, sum_geo_distance#16209, avg_heart_rate#21046, avg_speed#25883, diff_altitude#30720, max_elapsed_time_n#30729, sum_geo_distance_n#30738, avg_heart_rate_n#30747, avg_speed_n#30756, diff_altitude_n#30765, workoutid#30786, UDF(named_struct(max_elapsed_time_n, max_elapsed_time_n#30729, sum_geo_distance_n, sum_geo_distance_n#30738, avg_heart_rate_n, avg_heart_rate_n#30747, avg_speed_n, avg_speed_n#30756, diff_altitude_n, diff_altitude_n#30765)) AS features#34114]\\n            +- Project [userid#1891, max_elapsed_time#11372, sum_geo_distance#16209, avg_heart_rate#21046, avg_speed#25883, diff_altitude#30720, max_elapsed_time_n#30729, sum_geo_distance_n#30738, avg_heart_rate_n#30747, avg_speed_n#30756, diff_altitude_n#30765, workoutid#30786]\\n               +- Project [userid#1891, max_elapsed_time#11372, sum_geo_distance#16209, avg_heart_rate#21046, avg_speed#25883, diff_altitude#30720, max_elapsed_time_n#30729, sum_geo_distance_n#30738, avg_heart_rate_n#30747, avg_speed_n#30756, diff_altitude_n#30765, workoutid#30786]\\n                  +- Join Inner, (workoutid#4605 = workoutid#30786)\\n                     :- Project [workoutid#4605, userid#1891, max_elapsed_time#11372, sum_geo_distance#16209, avg_heart_rate#21046, avg_speed#25883, temp#30702 AS diff_altitude#30720]\\n                     :  +- Project [workoutid#4605, userid#1891, max_elapsed_time#11372, sum_geo_distance#16209, avg_heart_rate#21046, avg_speed#25883, temp#30702]\\n                     :     +- Project [workoutid#4605, userid#1891, diff_altitude#6535, max_elapsed_time#11372, sum_geo_distance#16209, avg_heart_rate#21046, avg_speed#25883, UDF(diff_altitude#6535) AS temp#30702]\\n                     :        +- Project [workoutid#4605, userid#1891, diff_altitude#6535, max_elapsed_time#11372, sum_geo_distance#16209, avg_heart_rate#21046, temp#25865 AS avg_speed#25883]\\n                     :           +- Project [workoutid#4605, userid#1891, diff_altitude#6535, max_elapsed_time#11372, sum_geo_distance#16209, avg_heart_rate#21046, temp#25865]\\n                     :              +- Project [workoutid#4605, userid#1891, avg_speed#6508, diff_altitude#6535, max_elapsed_time#11372, sum_geo_distance#16209, avg_heart_rate#21046, UDF(avg_speed#6508) AS temp#25865]\\n                     :                 +- Project [workoutid#4605, userid#1891, avg_speed#6508, diff_altitude#6535, max_elapsed_time#11372, sum_geo_distance#16209, temp#21028 AS avg_heart_rate#21046]\\n                     :                    +- Project [workoutid#4605, userid#1891, avg_speed#6508, diff_altitude#6535, max_elapsed_time#11372, sum_geo_distance#16209, temp#21028]\\n                     :                       +- Project [workoutid#4605, userid#1891, avg_heart_rate#6481, avg_speed#6508, diff_altitude#6535, max_elapsed_time#11372, sum_geo_distance#16209, UDF(avg_heart_rate#6481) AS temp#21028]\\n                     :                          +- Project [workoutid#4605, userid#1891, avg_heart_rate#6481, avg_speed#6508, diff_altitude#6535, max_elapsed_time#11372, temp#16191 AS sum_geo_distance#16209]\\n                     :                             +- Project [workoutid#4605, userid#1891, avg_heart_rate#6481, avg_speed#6508, diff_altitude#6535, max_elapsed_time#11372, temp#16191]\\n                     :                                +- Project [workoutid#4605, userid#1891, sum_geo_distance#6454, avg_heart_rate#6481, avg_speed#6508, diff_altitude#6535, max_elapsed_time#11372, UDF(sum_geo_distance#6454) AS temp#16191]\\n                     :                                   +- Project [workoutid#4605, userid#1891, sum_geo_distance#6454, avg_heart_rate#6481, avg_speed#6508, diff_altitude#6535, temp#11354 AS max_elapsed_time#11372]\\n                     :                                      +- Project [workoutid#4605, userid#1891, sum_geo_distance#6454, avg_heart_rate#6481, avg_speed#6508, diff_altitude#6535, temp#11354]\\n                     :                                         +- Project [workoutid#4605, userid#1891, max_elapsed_time#6427, sum_geo_distance#6454, avg_heart_rate#6481, avg_speed#6508, diff_altitude#6535, UDF(max_elapsed_time#6427) AS temp#11354]\\n                     :                                            +- Project [workoutid#4605, userid#1891, max_elapsed_time#6427, sum_geo_distance#6454, avg_heart_rate#6481, avg_speed#6508, temp#6517 AS diff_altitude#6535]\\n                     :                                               +- Project [workoutid#4605, userid#1891, max_elapsed_time#6427, sum_geo_distance#6454, avg_heart_rate#6481, avg_speed#6508, temp#6517]\\n                     :                                                  +- Project [workoutid#4605, diff_altitude#6400, userid#1891, max_elapsed_time#6427, sum_geo_distance#6454, avg_heart_rate#6481, avg_speed#6508, <lambda>(diff_altitude#6400) AS temp#6517]\\n                     :                                                     +- Project [workoutid#4605, diff_altitude#6400, userid#1891, max_elapsed_time#6427, sum_geo_distance#6454, avg_heart_rate#6481, temp#6490 AS avg_speed#6508]\\n                     :                                                        +- Project [workoutid#4605, diff_altitude#6400, userid#1891, max_elapsed_time#6427, sum_geo_distance#6454, avg_heart_rate#6481, temp#6490]\\n                     :                                                           +- Project [workoutid#4605, avg_speed#6399, diff_altitude#6400, userid#1891, max_elapsed_time#6427, sum_geo_distance#6454, avg_heart_rate#6481, <lambda>(avg_speed#6399) AS temp#6490]\\n                     :                                                              +- Project [workoutid#4605, avg_speed#6399, diff_altitude#6400, userid#1891, max_elapsed_time#6427, sum_geo_distance#6454, temp#6463 AS avg_heart_rate#6481]\\n                     :                                                                 +- Project [workoutid#4605, avg_speed#6399, diff_altitude#6400, userid#1891, max_elapsed_time#6427, sum_geo_distance#6454, temp#6463]\\n                     :                                                                    +- Project [workoutid#4605, avg_heart_rate#6398, avg_speed#6399, diff_altitude#6400, userid#1891, max_elapsed_time#6427, sum_geo_distance#6454, <lambda>(avg_heart_rate#6398) AS temp#6463]\\n                     :                                                                       +- Project [workoutid#4605, avg_heart_rate#6398, avg_speed#6399, diff_altitude#6400, userid#1891, max_elapsed_time#6427, temp#6436 AS sum_geo_distance#6454]\\n                     :                                                                          +- Project [workoutid#4605, avg_heart_rate#6398, avg_speed#6399, diff_altitude#6400, userid#1891, max_elapsed_time#6427, temp#6436]\\n                     :                                                                             +- Project [sum_geo_distance#6397, workoutid#4605, avg_heart_rate#6398, avg_speed#6399, diff_altitude#6400, userid#1891, max_elapsed_time#6427, <lambda>(sum_geo_distance#6397) AS temp#6436]\\n                     :                                                                                +- Project [sum_geo_distance#6397, workoutid#4605, avg_heart_rate#6398, avg_speed#6399, diff_altitude#6400, userid#1891, temp#6409 AS max_elapsed_time#6427]\\n                     :                                                                                   +- Project [sum_geo_distance#6397, workoutid#4605, avg_heart_rate#6398, avg_speed#6399, diff_altitude#6400, userid#1891, temp#6409]\\n                     :                                                                                      +- Project [max_elapsed_time#6396, sum_geo_distance#6397, workoutid#4605, avg_heart_rate#6398, avg_speed#6399, diff_altitude#6400, userid#1891, <lambda>(max_elapsed_time#6396) AS temp#6409]\\n                     :                                                                                         +- Project [cast(coalesce(nanvl(max_elapsed_time#6343, cast(null as double)), 0.0) as double) AS max_elapsed_time#6396, cast(coalesce(nanvl(sum_geo_distance#6352, cast(null as double)), 0.0) as double) AS sum_geo_distance#6397, workoutid#4605, cast(coalesce(nanvl(avg_heart_rate#6361, cast(null as double)), 0.0) as double) AS avg_heart_rate#6398, cast(coalesce(nanvl(avg_speed#6370, cast(null as double)), 0.0) as double) AS avg_speed#6399, cast(coalesce(nanvl(diff_altitude#6379, cast(null as double)), 0.0) as double) AS diff_altitude#6400, userid#1891]\\n                     :                                                                                            +- Project [max_elapsed_time#6343, sum_geo_distance#6352, workoutid#4605, avg_heart_rate#6361, avg_speed#6370, cast(diff_altitude#4588 as double) AS diff_altitude#6379, userid#1891]\\n                     :                                                                                               +- Project [max_elapsed_time#6343, sum_geo_distance#6352, workoutid#4605, avg_heart_rate#6361, cast(avg_speed#4518 as double) AS avg_speed#6370, diff_altitude#4588, userid#1891]\\n                     :                                                                                                  +- Project [max_elapsed_time#6343, sum_geo_distance#6352, workoutid#4605, cast(avg_heart_rate#4507 as double) AS avg_heart_rate#6361, avg_speed#4518, diff_altitude#4588, userid#1891]\\n                     :                                                                                                     +- Project [max_elapsed_time#6343, cast(sum_geo_distance#4496 as double) AS sum_geo_distance#6352, workoutid#4605, avg_heart_rate#4507, avg_speed#4518, diff_altitude#4588, userid#1891]\\n                     :                                                                                                        +- Project [cast(max_elapsed_time#4486 as double) AS max_elapsed_time#6343, sum_geo_distance#4496, workoutid#4605, avg_heart_rate#4507, avg_speed#4518, diff_altitude#4588, userid#1891]\\n                     :                                                                                                           +- Project [max_elapsed_time#4486, sum_geo_distance#4496, workoutid#4605, avg_heart_rate#4507, avg_speed#4518, diff_altitude#4588, userid#1891]\\n                     :                                                                                                              +- Join Inner, (workoutid#4605 = workoutid#1892)\\n                     :                                                                                                                 :- Filter AtLeastNNulls(n, max_elapsed_time#4486,sum_geo_distance#4496,workoutid#4605,avg_heart_rate#4507,avg_speed#4518,diff_altitude#4588)\\n                     :                                                                                                                 :  +- Project [max_elapsed_time#4486, sum_geo_distance#4496, workoutid#4605, avg_heart_rate#4507, avg_speed#4518, diff_altitude#4588]\\n                     :                                                                                                                 :     +- Join Inner, (workoutid#4605 = workoutid#4545)\\n                     :                                                                                                                 :        :- Project [max_elapsed_time#4486, sum_geo_distance#4496, workoutid#4605, avg_heart_rate#4507, avg_speed#4518]\\n                     :                                                                                                                 :        :  +- Join Inner, (workoutid#4605 = workoutid#5)\\n                     :                                                                                                                 :        :     :- Project [max_elapsed_time#4486, sum_geo_distance#4496, workoutid#4605, avg_heart_rate#4507]\\n                     :                                                                                                                 :        :     :  +- Join Inner, (workoutid#4605 = workoutid#5)\\n                     :                                                                                                                 :        :     :     :- Project [max_elapsed_time#4486, sum_geo_distance#4496, workoutid#4605]\\n                     :                                                                                                                 :        :     :     :  +- Join Inner, (workoutid#5 = workoutid#4605)\\n                     :                                                                                                                 :        :     :     :     :- Aggregate [max_elapsed_time#4486, workoutid#5], [max_elapsed_time#4486, workoutid#5]\\n                     :                                                                                                                 :        :     :     :     :  +- Project [max_elapsed_time#4486, workoutid#5]\\n                     :                                                                                                                 :        :     :     :     :     +- Project [elapsed_time#9, workoutid#5, max_elapsed_time#4486]\\n                     :                                                                                                                 :        :     :     :     :        +- Project [elapsed_time#9, workoutid#5, max_elapsed_time#4486, max_elapsed_time#4486]\\n                     :                                                                                                                 :        :     :     :     :           +- Window [max(elapsed_time#9) windowspecdefinition(workoutid#5, ROWS BETWEEN UNBOUNDED PRECEDING AND UNBOUNDED FOLLOWING) AS max_elapsed_time#4486], [workoutid#5]\\n                     :                                                                                                                 :        :     :     :     :              +- Project [elapsed_time#9, workoutid#5]\\n                     :                                                                                                                 :        :     :     :     :                 +- Project [altitude#0, heart_rate#1, latitude#2, longitude#3, speed#4, workoutid#5, time#6, altitude_first#7, altitude_second#8, elapsed_time#9, speed_first#10, geo_distance#11, userid#1891]\\n                     :                                                                                                                 :        :     :     :     :                    +- Join Inner, (workoutid#5 = workoutid#1892)\\n                     :                                                                                                                 :        :     :     :     :                       :- GlobalLimit 5000\\n                     :                                                                                                                 :        :     :     :     :                       :  +- LocalLimit 5000\\n                     :                                                                                                                 :        :     :     :     :                       :     +- LogicalRDD [altitude#0, heart_rate#1, latitude#2, longitude#3, speed#4, workoutid#5, time#6, altitude_first#7, altitude_second#8, elapsed_time#9, speed_first#10, geo_distance#11]\\n                     :                                                                                                                 :        :     :     :     :                       +- LogicalRDD [userid#1891, workoutid#1892]\\n                     :                                                                                                                 :        :     :     :     +- Aggregate [sum_geo_distance#4496, workoutid#4605], [sum_geo_distance#4496, workoutid#4605]\\n                     :                                                                                                                 :        :     :     :        +- Project [sum_geo_distance#4496, workoutid#4605]\\n                     :                                                                                                                 :        :     :     :           +- Project [geo_distance#4611, workoutid#4605, sum_geo_distance#4496]\\n                     :                                                                                                                 :        :     :     :              +- Project [geo_distance#4611, workoutid#4605, _w0#4497, sum_geo_distance#4496, sum_geo_distance#4496]\\n                     :                                                                                                                 :        :     :     :                 +- Window [sum(_w0#4497) windowspecdefinition(workoutid#4605, ROWS BETWEEN UNBOUNDED PRECEDING AND UNBOUNDED FOLLOWING) AS sum_geo_distance#4496], [workoutid#4605]\\n                     :                                                                                                                 :        :     :     :                    +- Project [geo_distance#4611, workoutid#4605, cast(geo_distance#4611 as double) AS _w0#4497]\\n                     :                                                                                                                 :        :     :     :                       +- Project [altitude#4600, heart_rate#4601, latitude#4602, longitude#4603, speed#4604, workoutid#4605, time#4606, altitude_first#4607, altitude_second#4608, elapsed_time#4609, speed_first#4610, geo_distance#4611, userid#1891]\\n                     :                                                                                                                 :        :     :     :                          +- Join Inner, (workoutid#4605 = workoutid#1892)\\n                     :                                                                                                                 :        :     :     :                             :- GlobalLimit 5000\\n                     :                                                                                                                 :        :     :     :                             :  +- LocalLimit 5000\\n                     :                                                                                                                 :        :     :     :                             :     +- LogicalRDD [altitude#4600, heart_rate#4601, latitude#4602, longitude#4603, speed#4604, workoutid#4605, time#4606, altitude_first#4607, altitude_second#4608, elapsed_time#4609, speed_first#4610, geo_distance#4611]\\n                     :                                                                                                                 :        :     :     :                             +- LogicalRDD [userid#1891, workoutid#1892]\\n                     :                                                                                                                 :        :     :     +- Aggregate [avg_heart_rate#4507, workoutid#5], [avg_heart_rate#4507, workoutid#5]\\n                     :                                                                                                                 :        :     :        +- Project [avg_heart_rate#4507, workoutid#5]\\n                     :                                                                                                                 :        :     :           +- Project [heart_rate#1, workoutid#5, avg_heart_rate#4507]\\n                     :                                                                                                                 :        :     :              +- Project [heart_rate#1, workoutid#5, _w0#4508, avg_heart_rate#4507, avg_heart_rate#4507]\\n                     :                                                                                                                 :        :     :                 +- Window [avg(_w0#4508) windowspecdefinition(workoutid#5, ROWS BETWEEN UNBOUNDED PRECEDING AND UNBOUNDED FOLLOWING) AS avg_heart_rate#4507], [workoutid#5]\\n                     :                                                                                                                 :        :     :                    +- Project [heart_rate#1, workoutid#5, cast(heart_rate#1 as double) AS _w0#4508]\\n                     :                                                                                                                 :        :     :                       +- Project [altitude#0, heart_rate#1, latitude#2, longitude#3, speed#4, workoutid#5, time#6, altitude_first#7, altitude_second#8, elapsed_time#9, speed_first#10, geo_distance#11, userid#1891]\\n                     :                                                                                                                 :        :     :                          +- Join Inner, (workoutid#5 = workoutid#1892)\\n                     :                                                                                                                 :        :     :                             :- GlobalLimit 5000\\n                     :                                                                                                                 :        :     :                             :  +- LocalLimit 5000\\n                     :                                                                                                                 :        :     :                             :     +- LogicalRDD [altitude#0, heart_rate#1, latitude#2, longitude#3, speed#4, workoutid#5, time#6, altitude_first#7, altitude_second#8, elapsed_time#9, speed_first#10, geo_distance#11]\\n                     :                                                                                                                 :        :     :                             +- LogicalRDD [userid#1891, workoutid#1892]\\n                     :                                                                                                                 :        :     +- Aggregate [avg_speed#4518, workoutid#5], [avg_speed#4518, workoutid#5]\\n                     :                                                                                                                 :        :        +- Project [avg_speed#4518, workoutid#5]\\n                     :                                                                                                                 :        :           +- Project [speed#4, workoutid#5, avg_speed#4518]\\n                     :                                                                                                                 :        :              +- Project [speed#4, workoutid#5, _w0#4519, avg_speed#4518, avg_speed#4518]\\n                     :                                                                                                                 :        :                 +- Window [avg(_w0#4519) windowspecdefinition(workoutid#5, ROWS BETWEEN UNBOUNDED PRECEDING AND UNBOUNDED FOLLOWING) AS avg_speed#4518], [workoutid#5]\\n                     :                                                                                                                 :        :                    +- Project [speed#4, workoutid#5, cast(speed#4 as double) AS _w0#4519]\\n                     :                                                                                                                 :        :                       +- Project [altitude#0, heart_rate#1, latitude#2, longitude#3, speed#4, workoutid#5, time#6, altitude_first#7, altitude_second#8, elapsed_time#9, speed_first#10, geo_distance#11, userid#1891]\\n                     :                                                                                                                 :        :                          +- Join Inner, (workoutid#5 = workoutid#1892)\\n                     :                                                                                                                 :        :                             :- GlobalLimit 5000\\n                     :                                                                                                                 :        :                             :  +- LocalLimit 5000\\n                     :                                                                                                                 :        :                             :     +- LogicalRDD [altitude#0, heart_rate#1, latitude#2, longitude#3, speed#4, workoutid#5, time#6, altitude_first#7, altitude_second#8, elapsed_time#9, speed_first#10, geo_distance#11]\\n                     :                                                                                                                 :        :                             +- LogicalRDD [userid#1891, workoutid#1892]\\n                     :                                                                                                                 :        +- Aggregate [diff_altitude#4588, workoutid#4545], [diff_altitude#4588, workoutid#4545]\\n                     :                                                                                                                 :           +- Project [diff_altitude#4588, workoutid#4545]\\n                     :                                                                                                                 :              +- Project [altitude#0, maxaltitude#4529, altitude#4540, workoutid#4545, minaltitude#4535, (cast(maxaltitude#4529 as double) - cast(minaltitude#4535 as double)) AS diff_altitude#4588]\\n                     :                                                                                                                 :                 +- Project [altitude#0, maxaltitude#4529, altitude#4540, workoutid#4545, minaltitude#4535]\\n                     :                                                                                                                 :                    +- Join Inner, (workoutid#5 = workoutid#4545)\\n                     :                                                                                                                 :                       :- Project [altitude#0, workoutid#5, maxaltitude#4529]\\n                     :                                                                                                                 :                       :  +- Project [altitude#0, workoutid#5, maxaltitude#4529, maxaltitude#4529]\\n                     :                                                                                                                 :                       :     +- Window [max(altitude#0) windowspecdefinition(workoutid#5, ROWS BETWEEN UNBOUNDED PRECEDING AND UNBOUNDED FOLLOWING) AS maxaltitude#4529], [workoutid#5]\\n                     :                                                                                                                 :                       :        +- Project [altitude#0, workoutid#5]\\n                     :                                                                                                                 :                       :           +- Project [altitude#0, heart_rate#1, latitude#2, longitude#3, speed#4, workoutid#5, time#6, altitude_first#7, altitude_second#8, elapsed_time#9, speed_first#10, geo_distance#11, userid#1891]\\n                     :                                                                                                                 :                       :              +- Join Inner, (workoutid#5 = workoutid#1892)\\n                     :                                                                                                                 :                       :                 :- GlobalLimit 5000\\n                     :                                                                                                                 :                       :                 :  +- LocalLimit 5000\\n                     :                                                                                                                 :                       :                 :     +- LogicalRDD [altitude#0, heart_rate#1, latitude#2, longitude#3, speed#4, workoutid#5, time#6, altitude_first#7, altitude_second#8, elapsed_time#9, speed_first#10, geo_distance#11]\\n                     :                                                                                                                 :                       :                 +- LogicalRDD [userid#1891, workoutid#1892]\\n                     :                                                                                                                 :                       +- Project [altitude#4540, workoutid#4545, minaltitude#4535]\\n                     :                                                                                                                 :                          +- Project [altitude#4540, workoutid#4545, minaltitude#4535, minaltitude#4535]\\n                     :                                                                                                                 :                             +- Window [min(altitude#4540) windowspecdefinition(workoutid#4545, ROWS BETWEEN UNBOUNDED PRECEDING AND UNBOUNDED FOLLOWING) AS minaltitude#4535], [workoutid#4545]\\n                     :                                                                                                                 :                                +- Project [altitude#4540, workoutid#4545]\\n                     :                                                                                                                 :                                   +- Project [altitude#4540, heart_rate#4541, latitude#4542, longitude#4543, speed#4544, workoutid#4545, time#4546, altitude_first#4547, altitude_second#4548, elapsed_time#4549, speed_first#4550, geo_distance#4551, userid#1891]\\n                     :                                                                                                                 :                                      +- Join Inner, (workoutid#4545 = workoutid#1892)\\n                     :                                                                                                                 :                                         :- GlobalLimit 5000\\n                     :                                                                                                                 :                                         :  +- LocalLimit 5000\\n                     :                                                                                                                 :                                         :     +- LogicalRDD [altitude#4540, heart_rate#4541, latitude#4542, longitude#4543, speed#4544, workoutid#4545, time#4546, altitude_first#4547, altitude_second#4548, elapsed_time#4549, speed_first#4550, geo_distance#4551]\\n                     :                                                                                                                 :                                         +- LogicalRDD [userid#1891, workoutid#1892]\\n                     :                                                                                                                 +- LogicalRDD [userid#1891, workoutid#1892]\\n                     +- Project [max_elapsed_time_n#30729, sum_geo_distance_n#30738, avg_heart_rate_n#30747, avg_speed_n#30756, diff_altitude_n#30765, workoutid#30786]\\n                        +- Project [workoutid#30786, userid#1891, max_elapsed_time_n#30729, sum_geo_distance_n#30738, avg_heart_rate_n#30747, avg_speed_n#30756, diff_altitude#30720 AS diff_altitude_n#30765]\\n                           +- Project [workoutid#30786, userid#1891, max_elapsed_time_n#30729, sum_geo_distance_n#30738, avg_heart_rate_n#30747, avg_speed#25883 AS avg_speed_n#30756, diff_altitude#30720]\\n                              +- Project [workoutid#30786, userid#1891, max_elapsed_time_n#30729, sum_geo_distance_n#30738, avg_heart_rate#21046 AS avg_heart_rate_n#30747, avg_speed#25883, diff_altitude#30720]\\n                                 +- Project [workoutid#30786, userid#1891, max_elapsed_time_n#30729, sum_geo_distance#16209 AS sum_geo_distance_n#30738, avg_heart_rate#21046, avg_speed#25883, diff_altitude#30720]\\n                                    +- Project [workoutid#30786, userid#1891, max_elapsed_time#11372 AS max_elapsed_time_n#30729, sum_geo_distance#16209, avg_heart_rate#21046, avg_speed#25883, diff_altitude#30720]\\n                                       +- Project [workoutid#30786, userid#1891, max_elapsed_time#11372, sum_geo_distance#16209, avg_heart_rate#21046, avg_speed#25883, temp#30702 AS diff_altitude#30720]\\n                                          +- Project [workoutid#30786, userid#1891, max_elapsed_time#11372, sum_geo_distance#16209, avg_heart_rate#21046, avg_speed#25883, temp#30702]\\n                                             +- Project [workoutid#30786, userid#1891, diff_altitude#6535, max_elapsed_time#11372, sum_geo_distance#16209, avg_heart_rate#21046, avg_speed#25883, UDF(diff_altitude#6535) AS temp#30702]\\n                                                +- Project [workoutid#30786, userid#1891, diff_altitude#6535, max_elapsed_time#11372, sum_geo_distance#16209, avg_heart_rate#21046, temp#25865 AS avg_speed#25883]\\n                                                   +- Project [workoutid#30786, userid#1891, diff_altitude#6535, max_elapsed_time#11372, sum_geo_distance#16209, avg_heart_rate#21046, temp#25865]\\n                                                      +- Project [workoutid#30786, userid#1891, avg_speed#6508, diff_altitude#6535, max_elapsed_time#11372, sum_geo_distance#16209, avg_heart_rate#21046, UDF(avg_speed#6508) AS temp#25865]\\n                                                         +- Project [workoutid#30786, userid#1891, avg_speed#6508, diff_altitude#6535, max_elapsed_time#11372, sum_geo_distance#16209, temp#21028 AS avg_heart_rate#21046]\\n                                                            +- Project [workoutid#30786, userid#1891, avg_speed#6508, diff_altitude#6535, max_elapsed_time#11372, sum_geo_distance#16209, temp#21028]\\n                                                               +- Project [workoutid#30786, userid#1891, avg_heart_rate#6481, avg_speed#6508, diff_altitude#6535, max_elapsed_time#11372, sum_geo_distance#16209, UDF(avg_heart_rate#6481) AS temp#21028]\\n                                                                  +- Project [workoutid#30786, userid#1891, avg_heart_rate#6481, avg_speed#6508, diff_altitude#6535, max_elapsed_time#11372, temp#16191 AS sum_geo_distance#16209]\\n                                                                     +- Project [workoutid#30786, userid#1891, avg_heart_rate#6481, avg_speed#6508, diff_altitude#6535, max_elapsed_time#11372, temp#16191]\\n                                                                        +- Project [workoutid#30786, userid#1891, sum_geo_distance#6454, avg_heart_rate#6481, avg_speed#6508, diff_altitude#6535, max_elapsed_time#11372, UDF(sum_geo_distance#6454) AS temp#16191]\\n                                                                           +- Project [workoutid#30786, userid#1891, sum_geo_distance#6454, avg_heart_rate#6481, avg_speed#6508, diff_altitude#6535, temp#11354 AS max_elapsed_time#11372]\\n                                                                              +- Project [workoutid#30786, userid#1891, sum_geo_distance#6454, avg_heart_rate#6481, avg_speed#6508, diff_altitude#6535, temp#11354]\\n                                                                                 +- Project [workoutid#30786, userid#1891, max_elapsed_time#6427, sum_geo_distance#6454, avg_heart_rate#6481, avg_speed#6508, diff_altitude#6535, UDF(max_elapsed_time#6427) AS temp#11354]\\n                                                                                    +- Project [workoutid#30786, userid#1891, max_elapsed_time#6427, sum_geo_distance#6454, avg_heart_rate#6481, avg_speed#6508, temp#6517 AS diff_altitude#6535]\\n                                                                                       +- Project [workoutid#30786, userid#1891, max_elapsed_time#6427, sum_geo_distance#6454, avg_heart_rate#6481, avg_speed#6508, temp#6517]\\n                                                                                          +- Project [workoutid#30786, diff_altitude#6400, userid#1891, max_elapsed_time#6427, sum_geo_distance#6454, avg_heart_rate#6481, avg_speed#6508, <lambda>(diff_altitude#6400) AS temp#6517]\\n                                                                                             +- Project [workoutid#30786, diff_altitude#6400, userid#1891, max_elapsed_time#6427, sum_geo_distance#6454, avg_heart_rate#6481, temp#6490 AS avg_speed#6508]\\n                                                                                                +- Project [workoutid#30786, diff_altitude#6400, userid#1891, max_elapsed_time#6427, sum_geo_distance#6454, avg_heart_rate#6481, temp#6490]\\n                                                                                                   +- Project [workoutid#30786, avg_speed#6399, diff_altitude#6400, userid#1891, max_elapsed_time#6427, sum_geo_distance#6454, avg_heart_rate#6481, <lambda>(avg_speed#6399) AS temp#6490]\\n                                                                                                      +- Project [workoutid#30786, avg_speed#6399, diff_altitude#6400, userid#1891, max_elapsed_time#6427, sum_geo_distance#6454, temp#6463 AS avg_heart_rate#6481]\\n                                                                                                         +- Project [workoutid#30786, avg_speed#6399, diff_altitude#6400, userid#1891, max_elapsed_time#6427, sum_geo_distance#6454, temp#6463]\\n                                                                                                            +- Project [workoutid#30786, avg_heart_rate#6398, avg_speed#6399, diff_altitude#6400, userid#1891, max_elapsed_time#6427, sum_geo_distance#6454, <lambda>(avg_heart_rate#6398) AS temp#6463]\\n                                                                                                               +- Project [workoutid#30786, avg_heart_rate#6398, avg_speed#6399, diff_altitude#6400, userid#1891, max_elapsed_time#6427, temp#6436 AS sum_geo_distance#6454]\\n                                                                                                                  +- Project [workoutid#30786, avg_heart_rate#6398, avg_speed#6399, diff_altitude#6400, userid#1891, max_elapsed_time#6427, temp#6436]\\n                                                                                                                     +- Project [sum_geo_distance#6397, workoutid#30786, avg_heart_rate#6398, avg_speed#6399, diff_altitude#6400, userid#1891, max_elapsed_time#6427, <lambda>(sum_geo_distance#6397) AS temp#6436]\\n                                                                                                                        +- Project [sum_geo_distance#6397, workoutid#30786, avg_heart_rate#6398, avg_speed#6399, diff_altitude#6400, userid#1891, temp#6409 AS max_elapsed_time#6427]\\n                                                                                                                           +- Project [sum_geo_distance#6397, workoutid#30786, avg_heart_rate#6398, avg_speed#6399, diff_altitude#6400, userid#1891, temp#6409]\\n                                                                                                                              +- Project [max_elapsed_time#6396, sum_geo_distance#6397, workoutid#30786, avg_heart_rate#6398, avg_speed#6399, diff_altitude#6400, userid#1891, <lambda>(max_elapsed_time#6396) AS temp#6409]\\n                                                                                                                                 +- Project [cast(coalesce(nanvl(max_elapsed_time#6343, cast(null as double)), 0.0) as double) AS max_elapsed_time#6396, cast(coalesce(nanvl(sum_geo_distance#6352, cast(null as double)), 0.0) as double) AS sum_geo_distance#6397, workoutid#30786, cast(coalesce(nanvl(avg_heart_rate#6361, cast(null as double)), 0.0) as double) AS avg_heart_rate#6398, cast(coalesce(nanvl(avg_speed#6370, cast(null as double)), 0.0) as double) AS avg_speed#6399, cast(coalesce(nanvl(diff_altitude#6379, cast(null as double)), 0.0) as double) AS diff_altitude#6400, userid#1891]\\n                                                                                                                                    +- Project [max_elapsed_time#6343, sum_geo_distance#6352, workoutid#30786, avg_heart_rate#6361, avg_speed#6370, cast(diff_altitude#4588 as double) AS diff_altitude#6379, userid#1891]\\n                                                                                                                                       +- Project [max_elapsed_time#6343, sum_geo_distance#6352, workoutid#30786, avg_heart_rate#6361, cast(avg_speed#4518 as double) AS avg_speed#6370, diff_altitude#4588, userid#1891]\\n                                                                                                                                          +- Project [max_elapsed_time#6343, sum_geo_distance#6352, workoutid#30786, cast(avg_heart_rate#4507 as double) AS avg_heart_rate#6361, avg_speed#4518, diff_altitude#4588, userid#1891]\\n                                                                                                                                             +- Project [max_elapsed_time#6343, cast(sum_geo_distance#4496 as double) AS sum_geo_distance#6352, workoutid#30786, avg_heart_rate#4507, avg_speed#4518, diff_altitude#4588, userid#1891]\\n                                                                                                                                                +- Project [cast(max_elapsed_time#4486 as double) AS max_elapsed_time#6343, sum_geo_distance#4496, workoutid#30786, avg_heart_rate#4507, avg_speed#4518, diff_altitude#4588, userid#1891]\\n                                                                                                                                                   +- Project [max_elapsed_time#4486, sum_geo_distance#4496, workoutid#30786, avg_heart_rate#4507, avg_speed#4518, diff_altitude#4588, userid#1891]\\n                                                                                                                                                      +- Join Inner, (workoutid#30786 = workoutid#1892)\\n                                                                                                                                                         :- Filter AtLeastNNulls(n, max_elapsed_time#4486,sum_geo_distance#4496,workoutid#30786,avg_heart_rate#4507,avg_speed#4518,diff_altitude#4588)\\n                                                                                                                                                         :  +- Project [max_elapsed_time#4486, sum_geo_distance#4496, workoutid#30786, avg_heart_rate#4507, avg_speed#4518, diff_altitude#4588]\\n                                                                                                                                                         :     +- Join Inner, (workoutid#30786 = workoutid#4545)\\n                                                                                                                                                         :        :- Project [max_elapsed_time#4486, sum_geo_distance#4496, workoutid#30786, avg_heart_rate#4507, avg_speed#4518]\\n                                                                                                                                                         :        :  +- Join Inner, (workoutid#30786 = workoutid#5)\\n                                                                                                                                                         :        :     :- Project [max_elapsed_time#4486, sum_geo_distance#4496, workoutid#30786, avg_heart_rate#4507]\\n                                                                                                                                                         :        :     :  +- Join Inner, (workoutid#30786 = workoutid#5)\\n                                                                                                                                                         :        :     :     :- Project [max_elapsed_time#4486, sum_geo_distance#4496, workoutid#30786]\\n                                                                                                                                                         :        :     :     :  +- Join Inner, (workoutid#5 = workoutid#30786)\\n                                                                                                                                                         :        :     :     :     :- Aggregate [max_elapsed_time#4486, workoutid#5], [max_elapsed_time#4486, workoutid#5]\\n                                                                                                                                                         :        :     :     :     :  +- Project [max_elapsed_time#4486, workoutid#5]\\n                                                                                                                                                         :        :     :     :     :     +- Project [elapsed_time#9, workoutid#5, max_elapsed_time#4486]\\n                                                                                                                                                         :        :     :     :     :        +- Project [elapsed_time#9, workoutid#5, max_elapsed_time#4486, max_elapsed_time#4486]\\n                                                                                                                                                         :        :     :     :     :           +- Window [max(elapsed_time#9) windowspecdefinition(workoutid#5, ROWS BETWEEN UNBOUNDED PRECEDING AND UNBOUNDED FOLLOWING) AS max_elapsed_time#4486], [workoutid#5]\\n                                                                                                                                                         :        :     :     :     :              +- Project [elapsed_time#9, workoutid#5]\\n                                                                                                                                                         :        :     :     :     :                 +- Project [altitude#0, heart_rate#1, latitude#2, longitude#3, speed#4, workoutid#5, time#6, altitude_first#7, altitude_second#8, elapsed_time#9, speed_first#10, geo_distance#11, userid#1891]\\n                                                                                                                                                         :        :     :     :     :                    +- Join Inner, (workoutid#5 = workoutid#1892)\\n                                                                                                                                                         :        :     :     :     :                       :- GlobalLimit 5000\\n                                                                                                                                                         :        :     :     :     :                       :  +- LocalLimit 5000\\n                                                                                                                                                         :        :     :     :     :                       :     +- LogicalRDD [altitude#0, heart_rate#1, latitude#2, longitude#3, speed#4, workoutid#5, time#6, altitude_first#7, altitude_second#8, elapsed_time#9, speed_first#10, geo_distance#11]\\n                                                                                                                                                         :        :     :     :     :                       +- LogicalRDD [userid#1891, workoutid#1892]\\n                                                                                                                                                         :        :     :     :     +- Aggregate [sum_geo_distance#4496, workoutid#30786], [sum_geo_distance#4496, workoutid#30786]\\n                                                                                                                                                         :        :     :     :        +- Project [sum_geo_distance#4496, workoutid#30786]\\n                                                                                                                                                         :        :     :     :           +- Project [geo_distance#30792, workoutid#30786, sum_geo_distance#4496]\\n                                                                                                                                                         :        :     :     :              +- Project [geo_distance#30792, workoutid#30786, _w0#4497, sum_geo_distance#4496, sum_geo_distance#4496]\\n                                                                                                                                                         :        :     :     :                 +- Window [sum(_w0#4497) windowspecdefinition(workoutid#30786, ROWS BETWEEN UNBOUNDED PRECEDING AND UNBOUNDED FOLLOWING) AS sum_geo_distance#4496], [workoutid#30786]\\n                                                                                                                                                         :        :     :     :                    +- Project [geo_distance#30792, workoutid#30786, cast(geo_distance#30792 as double) AS _w0#4497]\\n                                                                                                                                                         :        :     :     :                       +- Project [altitude#30781, heart_rate#30782, latitude#30783, longitude#30784, speed#30785, workoutid#30786, time#30787, altitude_first#30788, altitude_second#30789, elapsed_time#30790, speed_first#30791, geo_distance#30792, userid#1891]\\n                                                                                                                                                         :        :     :     :                          +- Join Inner, (workoutid#30786 = workoutid#1892)\\n                                                                                                                                                         :        :     :     :                             :- GlobalLimit 5000\\n                                                                                                                                                         :        :     :     :                             :  +- LocalLimit 5000\\n                                                                                                                                                         :        :     :     :                             :     +- LogicalRDD [altitude#30781, heart_rate#30782, latitude#30783, longitude#30784, speed#30785, workoutid#30786, time#30787, altitude_first#30788, altitude_second#30789, elapsed_time#30790, speed_first#30791, geo_distance#30792]\\n                                                                                                                                                         :        :     :     :                             +- LogicalRDD [userid#1891, workoutid#1892]\\n                                                                                                                                                         :        :     :     +- Aggregate [avg_heart_rate#4507, workoutid#5], [avg_heart_rate#4507, workoutid#5]\\n                                                                                                                                                         :        :     :        +- Project [avg_heart_rate#4507, workoutid#5]\\n                                                                                                                                                         :        :     :           +- Project [heart_rate#1, workoutid#5, avg_heart_rate#4507]\\n                                                                                                                                                         :        :     :              +- Project [heart_rate#1, workoutid#5, _w0#4508, avg_heart_rate#4507, avg_heart_rate#4507]\\n                                                                                                                                                         :        :     :                 +- Window [avg(_w0#4508) windowspecdefinition(workoutid#5, ROWS BETWEEN UNBOUNDED PRECEDING AND UNBOUNDED FOLLOWING) AS avg_heart_rate#4507], [workoutid#5]\\n                                                                                                                                                         :        :     :                    +- Project [heart_rate#1, workoutid#5, cast(heart_rate#1 as double) AS _w0#4508]\\n                                                                                                                                                         :        :     :                       +- Project [altitude#0, heart_rate#1, latitude#2, longitude#3, speed#4, workoutid#5, time#6, altitude_first#7, altitude_second#8, elapsed_time#9, speed_first#10, geo_distance#11, userid#1891]\\n                                                                                                                                                         :        :     :                          +- Join Inner, (workoutid#5 = workoutid#1892)\\n                                                                                                                                                         :        :     :                             :- GlobalLimit 5000\\n                                                                                                                                                         :        :     :                             :  +- LocalLimit 5000\\n                                                                                                                                                         :        :     :                             :     +- LogicalRDD [altitude#0, heart_rate#1, latitude#2, longitude#3, speed#4, workoutid#5, time#6, altitude_first#7, altitude_second#8, elapsed_time#9, speed_first#10, geo_distance#11]\\n                                                                                                                                                         :        :     :                             +- LogicalRDD [userid#1891, workoutid#1892]\\n                                                                                                                                                         :        :     +- Aggregate [avg_speed#4518, workoutid#5], [avg_speed#4518, workoutid#5]\\n                                                                                                                                                         :        :        +- Project [avg_speed#4518, workoutid#5]\\n                                                                                                                                                         :        :           +- Project [speed#4, workoutid#5, avg_speed#4518]\\n                                                                                                                                                         :        :              +- Project [speed#4, workoutid#5, _w0#4519, avg_speed#4518, avg_speed#4518]\\n                                                                                                                                                         :        :                 +- Window [avg(_w0#4519) windowspecdefinition(workoutid#5, ROWS BETWEEN UNBOUNDED PRECEDING AND UNBOUNDED FOLLOWING) AS avg_speed#4518], [workoutid#5]\\n                                                                                                                                                         :        :                    +- Project [speed#4, workoutid#5, cast(speed#4 as double) AS _w0#4519]\\n                                                                                                                                                         :        :                       +- Project [altitude#0, heart_rate#1, latitude#2, longitude#3, speed#4, workoutid#5, time#6, altitude_first#7, altitude_second#8, elapsed_time#9, speed_first#10, geo_distance#11, userid#1891]\\n                                                                                                                                                         :        :                          +- Join Inner, (workoutid#5 = workoutid#1892)\\n                                                                                                                                                         :        :                             :- GlobalLimit 5000\\n                                                                                                                                                         :        :                             :  +- LocalLimit 5000\\n                                                                                                                                                         :        :                             :     +- LogicalRDD [altitude#0, heart_rate#1, latitude#2, longitude#3, speed#4, workoutid#5, time#6, altitude_first#7, altitude_second#8, elapsed_time#9, speed_first#10, geo_distance#11]\\n                                                                                                                                                         :        :                             +- LogicalRDD [userid#1891, workoutid#1892]\\n                                                                                                                                                         :        +- Aggregate [diff_altitude#4588, workoutid#4545], [diff_altitude#4588, workoutid#4545]\\n                                                                                                                                                         :           +- Project [diff_altitude#4588, workoutid#4545]\\n                                                                                                                                                         :              +- Project [altitude#0, maxaltitude#4529, altitude#4540, workoutid#4545, minaltitude#4535, (cast(maxaltitude#4529 as double) - cast(minaltitude#4535 as double)) AS diff_altitude#4588]\\n                                                                                                                                                         :                 +- Project [altitude#0, maxaltitude#4529, altitude#4540, workoutid#4545, minaltitude#4535]\\n                                                                                                                                                         :                    +- Join Inner, (workoutid#5 = workoutid#4545)\\n                                                                                                                                                         :                       :- Project [altitude#0, workoutid#5, maxaltitude#4529]\\n                                                                                                                                                         :                       :  +- Project [altitude#0, workoutid#5, maxaltitude#4529, maxaltitude#4529]\\n                                                                                                                                                         :                       :     +- Window [max(altitude#0) windowspecdefinition(workoutid#5, ROWS BETWEEN UNBOUNDED PRECEDING AND UNBOUNDED FOLLOWING) AS maxaltitude#4529], [workoutid#5]\\n                                                                                                                                                         :                       :        +- Project [altitude#0, workoutid#5]\\n                                                                                                                                                         :                       :           +- Project [altitude#0, heart_rate#1, latitude#2, longitude#3, speed#4, workoutid#5, time#6, altitude_first#7, altitude_second#8, elapsed_time#9, speed_first#10, geo_distance#11, userid#1891]\\n                                                                                                                                                         :                       :              +- Join Inner, (workoutid#5 = workoutid#1892)\\n                                                                                                                                                         :                       :                 :- GlobalLimit 5000\\n                                                                                                                                                         :                       :                 :  +- LocalLimit 5000\\n                                                                                                                                                         :                       :                 :     +- LogicalRDD [altitude#0, heart_rate#1, latitude#2, longitude#3, speed#4, workoutid#5, time#6, altitude_first#7, altitude_second#8, elapsed_time#9, speed_first#10, geo_distance#11]\\n                                                                                                                                                         :                       :                 +- LogicalRDD [userid#1891, workoutid#1892]\\n                                                                                                                                                         :                       +- Project [altitude#4540, workoutid#4545, minaltitude#4535]\\n                                                                                                                                                         :                          +- Project [altitude#4540, workoutid#4545, minaltitude#4535, minaltitude#4535]\\n                                                                                                                                                         :                             +- Window [min(altitude#4540) windowspecdefinition(workoutid#4545, ROWS BETWEEN UNBOUNDED PRECEDING AND UNBOUNDED FOLLOWING) AS minaltitude#4535], [workoutid#4545]\\n                                                                                                                                                         :                                +- Project [altitude#4540, workoutid#4545]\\n                                                                                                                                                         :                                   +- Project [altitude#4540, heart_rate#4541, latitude#4542, longitude#4543, speed#4544, workoutid#4545, time#4546, altitude_first#4547, altitude_second#4548, elapsed_time#4549, speed_first#4550, geo_distance#4551, userid#1891]\\n                                                                                                                                                         :                                      +- Join Inner, (workoutid#4545 = workoutid#1892)\\n                                                                                                                                                         :                                         :- GlobalLimit 5000\\n                                                                                                                                                         :                                         :  +- LocalLimit 5000\\n                                                                                                                                                         :                                         :     +- LogicalRDD [altitude#4540, heart_rate#4541, latitude#4542, longitude#4543, speed#4544, workoutid#4545, time#4546, altitude_first#4547, altitude_second#4548, elapsed_time#4549, speed_first#4550, geo_distance#4551]\\n                                                                                                                                                         :                                         +- LogicalRDD [userid#1891, workoutid#1892]\\n                                                                                                                                                         +- LogicalRDD [userid#1891, workoutid#1892]\\n\""
     ]
    },
    {
     "name": "stdout",
     "output_type": "stream",
     "text": [
      "time: 137 ms\n"
     ]
    }
   ],
   "source": []
  },
  {
   "cell_type": "code",
   "execution_count": 43,
   "metadata": {
    "collapsed": false,
    "deletable": true,
    "editable": true
   },
   "outputs": [
    {
     "name": "stdout",
     "output_type": "stream",
     "text": [
      "time: 1.76 ms\n"
     ]
    }
   ],
   "source": [
    "#label: time (name of column)\n",
    "#features: list of feature column names (route info)\n",
    "def vectorizeData(data):\n",
    "    return data.rdd.map(lambda r: [r[-1], Vectors.dense(r[1:4])]).toDF(['label','features'])"
   ]
  },
  {
   "cell_type": "code",
   "execution_count": 32,
   "metadata": {
    "collapsed": false,
    "deletable": true,
    "editable": true
   },
   "outputs": [
    {
     "data": {
      "text/plain": [
       "['max_elapsed_time',\n",
       " 'sum_geo_distance',\n",
       " 'avg_heart_rate',\n",
       " 'avg_speed',\n",
       " 'diff_altitude']"
      ]
     },
     "execution_count": 32,
     "metadata": {},
     "output_type": "execute_result"
    },
    {
     "name": "stdout",
     "output_type": "stream",
     "text": [
      "time: 2.53 ms\n"
     ]
    }
   ],
   "source": [
    "cols_to_cluster"
   ]
  },
  {
   "cell_type": "code",
   "execution_count": null,
   "metadata": {
    "collapsed": true,
    "deletable": true,
    "editable": true
   },
   "outputs": [],
   "source": [
    "new_col_order = ['workoutid', 'userid', 'prediction', ]"
   ]
  },
  {
   "cell_type": "code",
   "execution_count": 50,
   "metadata": {
    "collapsed": false,
    "deletable": true,
    "editable": true
   },
   "outputs": [
    {
     "data": {
      "text/plain": [
       "StructType(List(StructField(max_elapsed_time,VectorUDT,true),StructField(sum_geo_distance,VectorUDT,true),StructField(avg_heart_rate,VectorUDT,true),StructField(avg_speed,VectorUDT,true),StructField(diff_altitude,VectorUDT,true),StructField(workoutid,StringType,true),StructField(prediction,IntegerType,true)))"
      ]
     },
     "execution_count": 50,
     "metadata": {},
     "output_type": "execute_result"
    },
    {
     "name": "stdout",
     "output_type": "stream",
     "text": [
      "time: 3.4 ms\n"
     ]
    }
   ],
   "source": [
    "# output of cluster pipe:\n",
    "# * data frame of\n",
    "#     * workoutID, userID, clusterID, time it took\n",
    "#     * column[4] = vector of features (dist/altitude/etc)\n",
    "#         * also, avg speed/avg dist for this user in this cluster\n",
    "# change order of columns by selecting columns in the wanted order\n",
    "df_to_dave = prediction_df\n",
    "df_to_dave.schema\n"
   ]
  },
  {
   "cell_type": "code",
   "execution_count": 45,
   "metadata": {
    "collapsed": false,
    "deletable": true,
    "editable": true,
    "scrolled": false
   },
   "outputs": [
    {
     "name": "stdout",
     "output_type": "stream",
     "text": [
      "+-----+--------------------+\n",
      "|label|            features|\n",
      "+-----+--------------------+\n",
      "|    4|[0.23312940217895...|\n",
      "|    0|[0.01169142679038...|\n",
      "|    0|[0.08615309986666...|\n",
      "|    1|[1.0,0.8959918159...|\n",
      "|    0|[0.04122189240164...|\n",
      "|    2|[4.62881388477555...|\n",
      "|    0|[0.00434203789765...|\n",
      "|    0|[0.05171338372363...|\n",
      "|    0|[0.38855846925378...|\n",
      "|    2|[0.00190919676347...|\n",
      "|    2|[0.00711853217766...|\n",
      "|    4|[0.23361714137951...|\n",
      "|    2|[1.40945030792698...|\n",
      "|    2|[0.05197487672968...|\n",
      "|    0|[0.05953096610452...|\n",
      "|    0|[0.02044353867164...|\n",
      "|    0|[0.09036384195902...|\n",
      "|    0|[0.06872614931326...|\n",
      "|    0|[0.44157354857490...|\n",
      "|    2|[0.01151750854681...|\n",
      "+-----+--------------------+\n",
      "only showing top 20 rows\n",
      "\n",
      "time: 1.7 s\n"
     ]
    }
   ],
   "source": [
    "vectorizeData(prediction_df).show()"
   ]
  },
  {
   "cell_type": "code",
   "execution_count": 35,
   "metadata": {
    "collapsed": false,
    "deletable": true,
    "editable": true
   },
   "outputs": [
    {
     "ename": "AttributeError",
     "evalue": "'DataFrame' object has no attribute 'map'",
     "output_type": "error",
     "traceback": [
      "\u001b[0;31m---------------------------------------------------------------------------\u001b[0m",
      "\u001b[0;31mAttributeError\u001b[0m                            Traceback (most recent call last)",
      "\u001b[0;32m<ipython-input-35-70d800ef7525>\u001b[0m in \u001b[0;36m<module>\u001b[0;34m()\u001b[0m\n\u001b[0;32m----> 1\u001b[0;31m \u001b[0mvectorizeData\u001b[0m\u001b[0;34m(\u001b[0m\u001b[0mprediction_df\u001b[0m\u001b[0;34m,\u001b[0m \u001b[0;34m'max_elapsed_time'\u001b[0m\u001b[0;34m,\u001b[0m \u001b[0;34m[\u001b[0m\u001b[0;34m'sum_geo_distance'\u001b[0m\u001b[0;34m,\u001b[0m \u001b[0;34m'diff_altitude'\u001b[0m\u001b[0;34m]\u001b[0m\u001b[0;34m)\u001b[0m\u001b[0;34m\u001b[0m\u001b[0m\n\u001b[0m",
      "\u001b[0;32m<ipython-input-33-4575aa961d35>\u001b[0m in \u001b[0;36mvectorizeData\u001b[0;34m(data, label, features)\u001b[0m\n\u001b[1;32m      2\u001b[0m \u001b[0;31m#features: list of feature column names\u001b[0m\u001b[0;34m\u001b[0m\u001b[0;34m\u001b[0m\u001b[0m\n\u001b[1;32m      3\u001b[0m \u001b[0;32mdef\u001b[0m \u001b[0mvectorizeData\u001b[0m\u001b[0;34m(\u001b[0m\u001b[0mdata\u001b[0m\u001b[0;34m,\u001b[0m\u001b[0mlabel\u001b[0m\u001b[0;34m,\u001b[0m\u001b[0mfeatures\u001b[0m\u001b[0;34m)\u001b[0m\u001b[0;34m:\u001b[0m\u001b[0;34m\u001b[0m\u001b[0m\n\u001b[0;32m----> 4\u001b[0;31m     \u001b[0;32mreturn\u001b[0m \u001b[0mdata\u001b[0m\u001b[0;34m.\u001b[0m\u001b[0mmap\u001b[0m\u001b[0;34m(\u001b[0m\u001b[0;32mlambda\u001b[0m \u001b[0mr\u001b[0m\u001b[0;34m:\u001b[0m \u001b[0;34m[\u001b[0m\u001b[0mr\u001b[0m\u001b[0;34m[\u001b[0m\u001b[0mlabel\u001b[0m\u001b[0;34m]\u001b[0m\u001b[0;34m,\u001b[0m \u001b[0mVectors\u001b[0m\u001b[0;34m.\u001b[0m\u001b[0mdense\u001b[0m\u001b[0;34m(\u001b[0m\u001b[0mr\u001b[0m\u001b[0;34m[\u001b[0m\u001b[0mfeatures\u001b[0m\u001b[0;34m]\u001b[0m\u001b[0;34m)\u001b[0m\u001b[0;34m]\u001b[0m\u001b[0;34m)\u001b[0m\u001b[0;34m.\u001b[0m\u001b[0mtoDF\u001b[0m\u001b[0;34m(\u001b[0m\u001b[0;34m[\u001b[0m\u001b[0;34m'label'\u001b[0m\u001b[0;34m,\u001b[0m\u001b[0;34m'features'\u001b[0m\u001b[0;34m]\u001b[0m\u001b[0;34m)\u001b[0m\u001b[0;34m\u001b[0m\u001b[0m\n\u001b[0m",
      "\u001b[0;32m/opt/spark/spark-2.1.0-bin-hadoop2.7/python/pyspark/sql/dataframe.pyc\u001b[0m in \u001b[0;36m__getattr__\u001b[0;34m(self, name)\u001b[0m\n\u001b[1;32m    962\u001b[0m         \u001b[0;32mif\u001b[0m \u001b[0mname\u001b[0m \u001b[0;32mnot\u001b[0m \u001b[0;32min\u001b[0m \u001b[0mself\u001b[0m\u001b[0;34m.\u001b[0m\u001b[0mcolumns\u001b[0m\u001b[0;34m:\u001b[0m\u001b[0;34m\u001b[0m\u001b[0m\n\u001b[1;32m    963\u001b[0m             raise AttributeError(\n\u001b[0;32m--> 964\u001b[0;31m                 \"'%s' object has no attribute '%s'\" % (self.__class__.__name__, name))\n\u001b[0m\u001b[1;32m    965\u001b[0m         \u001b[0mjc\u001b[0m \u001b[0;34m=\u001b[0m \u001b[0mself\u001b[0m\u001b[0;34m.\u001b[0m\u001b[0m_jdf\u001b[0m\u001b[0;34m.\u001b[0m\u001b[0mapply\u001b[0m\u001b[0;34m(\u001b[0m\u001b[0mname\u001b[0m\u001b[0;34m)\u001b[0m\u001b[0;34m\u001b[0m\u001b[0m\n\u001b[1;32m    966\u001b[0m         \u001b[0;32mreturn\u001b[0m \u001b[0mColumn\u001b[0m\u001b[0;34m(\u001b[0m\u001b[0mjc\u001b[0m\u001b[0;34m)\u001b[0m\u001b[0;34m\u001b[0m\u001b[0m\n",
      "\u001b[0;31mAttributeError\u001b[0m: 'DataFrame' object has no attribute 'map'"
     ]
    },
    {
     "name": "stdout",
     "output_type": "stream",
     "text": [
      "time: 19 ms\n"
     ]
    }
   ],
   "source": [
    "vectorizeData(prediction_df, 'max_elapsed_time', ['sum_geo_distance', 'diff_altitude'])"
   ]
  },
  {
   "cell_type": "code",
   "execution_count": 31,
   "metadata": {
    "collapsed": false,
    "deletable": true,
    "editable": true
   },
   "outputs": [
    {
     "name": "stdout",
     "output_type": "stream",
     "text": [
      "+--------------------+--------------------+--------------------+--------------------+--------------------+---------+----------+\n",
      "|    max_elapsed_time|    sum_geo_distance|      avg_heart_rate|           avg_speed|       diff_altitude|workoutid|prediction|\n",
      "+--------------------+--------------------+--------------------+--------------------+--------------------+---------+----------+\n",
      "|               [1.0]|[0.23312940217895...|[0.6698245151075339]|[0.20516416549474...|[0.27319587628866...|610271083|         4|\n",
      "|[0.00302325581395...|[0.01169142679038...|[0.6246998284734133]|[0.2939477418816262]|[0.14175257731958...|366407436|         0|\n",
      "|[0.00104651162790...|[0.08615309986666...|[0.6234583027035859]|[0.43086512508000...|[0.13273195876288...|284139880|         0|\n",
      "|[0.10569767441860...|               [1.0]|[0.8959918159512034]|[0.49034315283435...|[0.1404639175257732]| 62593681|         1|\n",
      "|[9.30232558139534...|[0.0412218924016432]|[0.4570111492281304]|[0.2866057266883713]|               [0.0]|442113709|         0|\n",
      "|[4.65116279069767...|[4.62881388477555...|[0.31389365351629...|[0.06811920861507...|[0.14175257731958...|610820640|         2|\n",
      "| [0.336046511627907]|[0.00434203789765...|[0.5454545454545455]|[0.16124050421571...|[0.20103092783505...|610818734|         0|\n",
      "|[0.0336046511627907]|[0.05171338372363...|[0.5161458721754045]|[0.26838997230660...|[0.17654639175257...|483910800|         0|\n",
      "|[0.11581395348837...|[0.3885584692537815]|[0.5995941342739112]|[0.2736541686605709]|[0.13788659793814...|323717755|         0|\n",
      "|[6.97674418604651...|[0.00190919676347...|[0.05660377358490...|[0.09224476166624...|[0.14175257731958...|402592287|         2|\n",
      "|[0.00418604651162...|[0.00711853217766...|[0.22469982847341...|[0.34326738458969...|[0.14561855670103...|379855770|         2|\n",
      "|[0.6310465116279069]|[0.23361714137951...|[0.4891674363372478]|[0.3358158829233209]|[0.23324742268041...|586875290|         4|\n",
      "|               [0.0]|[1.40945030792698...|[0.11835334476843...|[0.4028716921278905]|[0.14175257731958...|305322511|         2|\n",
      "|[0.00104651162790...|[0.05197487672968...|[0.39679817038307...|[0.2830230681470351]|[0.20747422680412...|467522271|         2|\n",
      "|[0.08162790697674...|[0.05953096610452...|[0.6254123235255312]|[0.4739768954644987]|[0.23582474226804...|530740947|         0|\n",
      "|[0.00104651162790...|[0.02044353867164...| [0.600343053173242]|[0.23311628683529...|[0.16881443298969...|323717705|         0|\n",
      "|[0.09953488372093...|[0.09036384195902...|[0.6783667322093461]|[0.3427094977185684]|[0.17010309278350...|531794436|         0|\n",
      "|[0.05406976744186...|[0.06872614931326...|[0.8752835721794945]|[0.3749895650722096]|[0.22036082474226...|559261979|         0|\n",
      "|[0.11093023255813...| [0.441573548574908]|[0.7962684216053489]|[0.3369558859523438]|[0.24226804123711...|631503257|         0|\n",
      "|[9.30232558139534...|[0.01151750854681...|[0.46712407089765...|[0.19517488938976...|[0.3865979381443299]|366407534|         2|\n",
      "+--------------------+--------------------+--------------------+--------------------+--------------------+---------+----------+\n",
      "only showing top 20 rows\n",
      "\n",
      "time: 1.86 s\n"
     ]
    }
   ],
   "source": [
    "prediction_df.show()"
   ]
  },
  {
   "cell_type": "code",
   "execution_count": 179,
   "metadata": {
    "collapsed": false,
    "deletable": true,
    "editable": true
   },
   "outputs": [
    {
     "name": "stdout",
     "output_type": "stream",
     "text": [
      "+----------------+--------------------+--------------------+---------+--------------------+---------+\n",
      "|max_elapsed_time|    sum_geo_distance|      avg_heart_rate|avg_speed|       diff_altitude|workoutid|\n",
      "+----------------+--------------------+--------------------+---------+--------------------+---------+\n",
      "|           [0.0]|[2.38295664857680...|[0.33447684391080...|    [2.0]|[0.14175257731958...|323717026|\n",
      "+----------------+--------------------+--------------------+---------+--------------------+---------+\n",
      "\n",
      "time: 940 ms\n"
     ]
    }
   ],
   "source": [
    "df.select(reg_cols).where(df['workoutid']==323717026).show()"
   ]
  },
  {
   "cell_type": "code",
   "execution_count": 173,
   "metadata": {
    "collapsed": false,
    "deletable": true,
    "editable": true
   },
   "outputs": [
    {
     "ename": "Py4JJavaError",
     "evalue": "An error occurred while calling o6080.count.\n: org.apache.spark.SparkException: Job aborted due to stage failure: Task 0 in stage 3076.0 failed 1 times, most recent failure: Lost task 0.0 in stage 3076.0 (TID 13448, localhost, executor driver): java.lang.ArrayIndexOutOfBoundsException\n\nDriver stacktrace:\n\tat org.apache.spark.scheduler.DAGScheduler.org$apache$spark$scheduler$DAGScheduler$$failJobAndIndependentStages(DAGScheduler.scala:1435)\n\tat org.apache.spark.scheduler.DAGScheduler$$anonfun$abortStage$1.apply(DAGScheduler.scala:1423)\n\tat org.apache.spark.scheduler.DAGScheduler$$anonfun$abortStage$1.apply(DAGScheduler.scala:1422)\n\tat scala.collection.mutable.ResizableArray$class.foreach(ResizableArray.scala:59)\n\tat scala.collection.mutable.ArrayBuffer.foreach(ArrayBuffer.scala:48)\n\tat org.apache.spark.scheduler.DAGScheduler.abortStage(DAGScheduler.scala:1422)\n\tat org.apache.spark.scheduler.DAGScheduler$$anonfun$handleTaskSetFailed$1.apply(DAGScheduler.scala:802)\n\tat org.apache.spark.scheduler.DAGScheduler$$anonfun$handleTaskSetFailed$1.apply(DAGScheduler.scala:802)\n\tat scala.Option.foreach(Option.scala:257)\n\tat org.apache.spark.scheduler.DAGScheduler.handleTaskSetFailed(DAGScheduler.scala:802)\n\tat org.apache.spark.scheduler.DAGSchedulerEventProcessLoop.doOnReceive(DAGScheduler.scala:1650)\n\tat org.apache.spark.scheduler.DAGSchedulerEventProcessLoop.onReceive(DAGScheduler.scala:1605)\n\tat org.apache.spark.scheduler.DAGSchedulerEventProcessLoop.onReceive(DAGScheduler.scala:1594)\n\tat org.apache.spark.util.EventLoop$$anon$1.run(EventLoop.scala:48)\n\tat org.apache.spark.scheduler.DAGScheduler.runJob(DAGScheduler.scala:628)\n\tat org.apache.spark.SparkContext.runJob(SparkContext.scala:1918)\n\tat org.apache.spark.SparkContext.runJob(SparkContext.scala:1931)\n\tat org.apache.spark.SparkContext.runJob(SparkContext.scala:1944)\n\tat org.apache.spark.SparkContext.runJob(SparkContext.scala:1958)\n\tat org.apache.spark.rdd.RDD$$anonfun$collect$1.apply(RDD.scala:935)\n\tat org.apache.spark.rdd.RDDOperationScope$.withScope(RDDOperationScope.scala:151)\n\tat org.apache.spark.rdd.RDDOperationScope$.withScope(RDDOperationScope.scala:112)\n\tat org.apache.spark.rdd.RDD.withScope(RDD.scala:362)\n\tat org.apache.spark.rdd.RDD.collect(RDD.scala:934)\n\tat org.apache.spark.sql.execution.SparkPlan.executeCollect(SparkPlan.scala:275)\n\tat org.apache.spark.sql.Dataset$$anonfun$org$apache$spark$sql$Dataset$$execute$1$1.apply(Dataset.scala:2371)\n\tat org.apache.spark.sql.execution.SQLExecution$.withNewExecutionId(SQLExecution.scala:57)\n\tat org.apache.spark.sql.Dataset.withNewExecutionId(Dataset.scala:2765)\n\tat org.apache.spark.sql.Dataset.org$apache$spark$sql$Dataset$$execute$1(Dataset.scala:2370)\n\tat org.apache.spark.sql.Dataset.org$apache$spark$sql$Dataset$$collect(Dataset.scala:2377)\n\tat org.apache.spark.sql.Dataset$$anonfun$count$1.apply(Dataset.scala:2405)\n\tat org.apache.spark.sql.Dataset$$anonfun$count$1.apply(Dataset.scala:2404)\n\tat org.apache.spark.sql.Dataset.withCallback(Dataset.scala:2778)\n\tat org.apache.spark.sql.Dataset.count(Dataset.scala:2404)\n\tat sun.reflect.NativeMethodAccessorImpl.invoke0(Native Method)\n\tat sun.reflect.NativeMethodAccessorImpl.invoke(NativeMethodAccessorImpl.java:62)\n\tat sun.reflect.DelegatingMethodAccessorImpl.invoke(DelegatingMethodAccessorImpl.java:43)\n\tat java.lang.reflect.Method.invoke(Method.java:498)\n\tat py4j.reflection.MethodInvoker.invoke(MethodInvoker.java:244)\n\tat py4j.reflection.ReflectionEngine.invoke(ReflectionEngine.java:357)\n\tat py4j.Gateway.invoke(Gateway.java:280)\n\tat py4j.commands.AbstractCommand.invokeMethod(AbstractCommand.java:132)\n\tat py4j.commands.CallCommand.execute(CallCommand.java:79)\n\tat py4j.GatewayConnection.run(GatewayConnection.java:214)\n\tat java.lang.Thread.run(Thread.java:745)\nCaused by: java.lang.ArrayIndexOutOfBoundsException\n",
     "output_type": "error",
     "traceback": [
      "\u001b[0;31m---------------------------------------------------------------------------\u001b[0m",
      "\u001b[0;31mPy4JJavaError\u001b[0m                             Traceback (most recent call last)",
      "\u001b[0;32m<ipython-input-173-8086484861b4>\u001b[0m in \u001b[0;36m<module>\u001b[0;34m()\u001b[0m\n\u001b[0;32m----> 1\u001b[0;31m \u001b[0mprediction_df\u001b[0m\u001b[0;34m.\u001b[0m\u001b[0mwhere\u001b[0m\u001b[0;34m(\u001b[0m\u001b[0mprediction_df\u001b[0m\u001b[0;34m[\u001b[0m\u001b[0;34m'prediction'\u001b[0m\u001b[0;34m]\u001b[0m\u001b[0;34m==\u001b[0m\u001b[0;36m1\u001b[0m\u001b[0;34m)\u001b[0m\u001b[0;34m.\u001b[0m\u001b[0mcount\u001b[0m\u001b[0;34m(\u001b[0m\u001b[0;34m)\u001b[0m\u001b[0;34m\u001b[0m\u001b[0m\n\u001b[0m",
      "\u001b[0;32m/opt/spark/spark-2.1.0-bin-hadoop2.7/python/pyspark/sql/dataframe.pyc\u001b[0m in \u001b[0;36mcount\u001b[0;34m(self)\u001b[0m\n\u001b[1;32m    378\u001b[0m         \u001b[0;36m2\u001b[0m\u001b[0;34m\u001b[0m\u001b[0m\n\u001b[1;32m    379\u001b[0m         \"\"\"\n\u001b[0;32m--> 380\u001b[0;31m         \u001b[0;32mreturn\u001b[0m \u001b[0mint\u001b[0m\u001b[0;34m(\u001b[0m\u001b[0mself\u001b[0m\u001b[0;34m.\u001b[0m\u001b[0m_jdf\u001b[0m\u001b[0;34m.\u001b[0m\u001b[0mcount\u001b[0m\u001b[0;34m(\u001b[0m\u001b[0;34m)\u001b[0m\u001b[0;34m)\u001b[0m\u001b[0;34m\u001b[0m\u001b[0m\n\u001b[0m\u001b[1;32m    381\u001b[0m \u001b[0;34m\u001b[0m\u001b[0m\n\u001b[1;32m    382\u001b[0m     \u001b[0;34m@\u001b[0m\u001b[0mignore_unicode_prefix\u001b[0m\u001b[0;34m\u001b[0m\u001b[0m\n",
      "\u001b[0;32m/opt/spark/spark-2.1.0-bin-hadoop2.7/python/lib/py4j-0.10.4-src.zip/py4j/java_gateway.py\u001b[0m in \u001b[0;36m__call__\u001b[0;34m(self, *args)\u001b[0m\n\u001b[1;32m   1131\u001b[0m         \u001b[0manswer\u001b[0m \u001b[0;34m=\u001b[0m \u001b[0mself\u001b[0m\u001b[0;34m.\u001b[0m\u001b[0mgateway_client\u001b[0m\u001b[0;34m.\u001b[0m\u001b[0msend_command\u001b[0m\u001b[0;34m(\u001b[0m\u001b[0mcommand\u001b[0m\u001b[0;34m)\u001b[0m\u001b[0;34m\u001b[0m\u001b[0m\n\u001b[1;32m   1132\u001b[0m         return_value = get_return_value(\n\u001b[0;32m-> 1133\u001b[0;31m             answer, self.gateway_client, self.target_id, self.name)\n\u001b[0m\u001b[1;32m   1134\u001b[0m \u001b[0;34m\u001b[0m\u001b[0m\n\u001b[1;32m   1135\u001b[0m         \u001b[0;32mfor\u001b[0m \u001b[0mtemp_arg\u001b[0m \u001b[0;32min\u001b[0m \u001b[0mtemp_args\u001b[0m\u001b[0;34m:\u001b[0m\u001b[0;34m\u001b[0m\u001b[0m\n",
      "\u001b[0;32m/opt/spark/spark-2.1.0-bin-hadoop2.7/python/pyspark/sql/utils.pyc\u001b[0m in \u001b[0;36mdeco\u001b[0;34m(*a, **kw)\u001b[0m\n\u001b[1;32m     61\u001b[0m     \u001b[0;32mdef\u001b[0m \u001b[0mdeco\u001b[0m\u001b[0;34m(\u001b[0m\u001b[0;34m*\u001b[0m\u001b[0ma\u001b[0m\u001b[0;34m,\u001b[0m \u001b[0;34m**\u001b[0m\u001b[0mkw\u001b[0m\u001b[0;34m)\u001b[0m\u001b[0;34m:\u001b[0m\u001b[0;34m\u001b[0m\u001b[0m\n\u001b[1;32m     62\u001b[0m         \u001b[0;32mtry\u001b[0m\u001b[0;34m:\u001b[0m\u001b[0;34m\u001b[0m\u001b[0m\n\u001b[0;32m---> 63\u001b[0;31m             \u001b[0;32mreturn\u001b[0m \u001b[0mf\u001b[0m\u001b[0;34m(\u001b[0m\u001b[0;34m*\u001b[0m\u001b[0ma\u001b[0m\u001b[0;34m,\u001b[0m \u001b[0;34m**\u001b[0m\u001b[0mkw\u001b[0m\u001b[0;34m)\u001b[0m\u001b[0;34m\u001b[0m\u001b[0m\n\u001b[0m\u001b[1;32m     64\u001b[0m         \u001b[0;32mexcept\u001b[0m \u001b[0mpy4j\u001b[0m\u001b[0;34m.\u001b[0m\u001b[0mprotocol\u001b[0m\u001b[0;34m.\u001b[0m\u001b[0mPy4JJavaError\u001b[0m \u001b[0;32mas\u001b[0m \u001b[0me\u001b[0m\u001b[0;34m:\u001b[0m\u001b[0;34m\u001b[0m\u001b[0m\n\u001b[1;32m     65\u001b[0m             \u001b[0ms\u001b[0m \u001b[0;34m=\u001b[0m \u001b[0me\u001b[0m\u001b[0;34m.\u001b[0m\u001b[0mjava_exception\u001b[0m\u001b[0;34m.\u001b[0m\u001b[0mtoString\u001b[0m\u001b[0;34m(\u001b[0m\u001b[0;34m)\u001b[0m\u001b[0;34m\u001b[0m\u001b[0m\n",
      "\u001b[0;32m/opt/spark/spark-2.1.0-bin-hadoop2.7/python/lib/py4j-0.10.4-src.zip/py4j/protocol.py\u001b[0m in \u001b[0;36mget_return_value\u001b[0;34m(answer, gateway_client, target_id, name)\u001b[0m\n\u001b[1;32m    317\u001b[0m                 raise Py4JJavaError(\n\u001b[1;32m    318\u001b[0m                     \u001b[0;34m\"An error occurred while calling {0}{1}{2}.\\n\"\u001b[0m\u001b[0;34m.\u001b[0m\u001b[0;34m\u001b[0m\u001b[0m\n\u001b[0;32m--> 319\u001b[0;31m                     format(target_id, \".\", name), value)\n\u001b[0m\u001b[1;32m    320\u001b[0m             \u001b[0;32melse\u001b[0m\u001b[0;34m:\u001b[0m\u001b[0;34m\u001b[0m\u001b[0m\n\u001b[1;32m    321\u001b[0m                 raise Py4JError(\n",
      "\u001b[0;31mPy4JJavaError\u001b[0m: An error occurred while calling o6080.count.\n: org.apache.spark.SparkException: Job aborted due to stage failure: Task 0 in stage 3076.0 failed 1 times, most recent failure: Lost task 0.0 in stage 3076.0 (TID 13448, localhost, executor driver): java.lang.ArrayIndexOutOfBoundsException\n\nDriver stacktrace:\n\tat org.apache.spark.scheduler.DAGScheduler.org$apache$spark$scheduler$DAGScheduler$$failJobAndIndependentStages(DAGScheduler.scala:1435)\n\tat org.apache.spark.scheduler.DAGScheduler$$anonfun$abortStage$1.apply(DAGScheduler.scala:1423)\n\tat org.apache.spark.scheduler.DAGScheduler$$anonfun$abortStage$1.apply(DAGScheduler.scala:1422)\n\tat scala.collection.mutable.ResizableArray$class.foreach(ResizableArray.scala:59)\n\tat scala.collection.mutable.ArrayBuffer.foreach(ArrayBuffer.scala:48)\n\tat org.apache.spark.scheduler.DAGScheduler.abortStage(DAGScheduler.scala:1422)\n\tat org.apache.spark.scheduler.DAGScheduler$$anonfun$handleTaskSetFailed$1.apply(DAGScheduler.scala:802)\n\tat org.apache.spark.scheduler.DAGScheduler$$anonfun$handleTaskSetFailed$1.apply(DAGScheduler.scala:802)\n\tat scala.Option.foreach(Option.scala:257)\n\tat org.apache.spark.scheduler.DAGScheduler.handleTaskSetFailed(DAGScheduler.scala:802)\n\tat org.apache.spark.scheduler.DAGSchedulerEventProcessLoop.doOnReceive(DAGScheduler.scala:1650)\n\tat org.apache.spark.scheduler.DAGSchedulerEventProcessLoop.onReceive(DAGScheduler.scala:1605)\n\tat org.apache.spark.scheduler.DAGSchedulerEventProcessLoop.onReceive(DAGScheduler.scala:1594)\n\tat org.apache.spark.util.EventLoop$$anon$1.run(EventLoop.scala:48)\n\tat org.apache.spark.scheduler.DAGScheduler.runJob(DAGScheduler.scala:628)\n\tat org.apache.spark.SparkContext.runJob(SparkContext.scala:1918)\n\tat org.apache.spark.SparkContext.runJob(SparkContext.scala:1931)\n\tat org.apache.spark.SparkContext.runJob(SparkContext.scala:1944)\n\tat org.apache.spark.SparkContext.runJob(SparkContext.scala:1958)\n\tat org.apache.spark.rdd.RDD$$anonfun$collect$1.apply(RDD.scala:935)\n\tat org.apache.spark.rdd.RDDOperationScope$.withScope(RDDOperationScope.scala:151)\n\tat org.apache.spark.rdd.RDDOperationScope$.withScope(RDDOperationScope.scala:112)\n\tat org.apache.spark.rdd.RDD.withScope(RDD.scala:362)\n\tat org.apache.spark.rdd.RDD.collect(RDD.scala:934)\n\tat org.apache.spark.sql.execution.SparkPlan.executeCollect(SparkPlan.scala:275)\n\tat org.apache.spark.sql.Dataset$$anonfun$org$apache$spark$sql$Dataset$$execute$1$1.apply(Dataset.scala:2371)\n\tat org.apache.spark.sql.execution.SQLExecution$.withNewExecutionId(SQLExecution.scala:57)\n\tat org.apache.spark.sql.Dataset.withNewExecutionId(Dataset.scala:2765)\n\tat org.apache.spark.sql.Dataset.org$apache$spark$sql$Dataset$$execute$1(Dataset.scala:2370)\n\tat org.apache.spark.sql.Dataset.org$apache$spark$sql$Dataset$$collect(Dataset.scala:2377)\n\tat org.apache.spark.sql.Dataset$$anonfun$count$1.apply(Dataset.scala:2405)\n\tat org.apache.spark.sql.Dataset$$anonfun$count$1.apply(Dataset.scala:2404)\n\tat org.apache.spark.sql.Dataset.withCallback(Dataset.scala:2778)\n\tat org.apache.spark.sql.Dataset.count(Dataset.scala:2404)\n\tat sun.reflect.NativeMethodAccessorImpl.invoke0(Native Method)\n\tat sun.reflect.NativeMethodAccessorImpl.invoke(NativeMethodAccessorImpl.java:62)\n\tat sun.reflect.DelegatingMethodAccessorImpl.invoke(DelegatingMethodAccessorImpl.java:43)\n\tat java.lang.reflect.Method.invoke(Method.java:498)\n\tat py4j.reflection.MethodInvoker.invoke(MethodInvoker.java:244)\n\tat py4j.reflection.ReflectionEngine.invoke(ReflectionEngine.java:357)\n\tat py4j.Gateway.invoke(Gateway.java:280)\n\tat py4j.commands.AbstractCommand.invokeMethod(AbstractCommand.java:132)\n\tat py4j.commands.CallCommand.execute(CallCommand.java:79)\n\tat py4j.GatewayConnection.run(GatewayConnection.java:214)\n\tat java.lang.Thread.run(Thread.java:745)\nCaused by: java.lang.ArrayIndexOutOfBoundsException\n"
     ]
    },
    {
     "name": "stdout",
     "output_type": "stream",
     "text": [
      "time: 660 ms\n"
     ]
    }
   ],
   "source": []
  },
  {
   "cell_type": "code",
   "execution_count": 45,
   "metadata": {
    "collapsed": false,
    "deletable": true,
    "editable": true
   },
   "outputs": [
    {
     "name": "stdout",
     "output_type": "stream",
     "text": [
      "<type 'dict'>\n",
      "time: 1.11 ms\n"
     ]
    }
   ],
   "source": [
    "def denormalize_cluster(cluster_centers, list_scaler_models):\n",
    "    r_centers = []\n",
    "    for center in cluster_centers:\n",
    "        r_center = []\n",
    "        for index in range(len(center)):\n",
    "            s_model = list_scaler_models[index]\n",
    "            r_center.append(s_model.denormalize(center[index]))\n",
    "        r_centers.append(r_center)\n",
    "    return r_centers"
   ]
  },
  {
   "cell_type": "code",
   "execution_count": 52,
   "metadata": {
    "collapsed": false,
    "deletable": true,
    "editable": true
   },
   "outputs": [
    {
     "name": "stdout",
     "output_type": "stream",
     "text": [
      "time: 2.78 ms\n"
     ]
    }
   ],
   "source": [
    "def denormalize_prediction_df(df_workouts, scaler_models):\n",
    "    r_df = ''\n",
    "    for k,v in scaler_models.iteritems():\n",
    "        print k,v.get_input_col_name()\n",
    "    \n",
    "    \n",
    "    for row in df_workouts:\n",
    "        print row"
   ]
  },
  {
   "cell_type": "code",
   "execution_count": 53,
   "metadata": {
    "collapsed": false,
    "deletable": true,
    "editable": true
   },
   "outputs": [
    {
     "name": "stdout",
     "output_type": "stream",
     "text": [
      "0 max_elapsed_time\n",
      "1 sum_geo_distance\n",
      "2 avg_heart_rate\n",
      "3 avg_speed\n",
      "4 diff_altitude\n",
      "Column<workoutid>\n",
      "Column<max_elapsed_time>\n",
      "Column<sum_geo_distance>\n",
      "Column<avg_heart_rate>\n",
      "Column<avg_speed>\n",
      "Column<diff_altitude>\n",
      "Column<prediction>\n",
      "time: 5.7 ms\n"
     ]
    }
   ],
   "source": [
    "denormalize_prediction_df(prediction_df, scalerModels)"
   ]
  },
  {
   "cell_type": "code",
   "execution_count": 34,
   "metadata": {
    "collapsed": false,
    "deletable": true,
    "editable": true
   },
   "outputs": [
    {
     "data": {
      "text/html": [
       "<div>\n",
       "<table border=\"1\" class=\"dataframe\">\n",
       "  <thead>\n",
       "    <tr style=\"text-align: right;\">\n",
       "      <th></th>\n",
       "      <th>workoutid</th>\n",
       "      <th>max_elapsed_time</th>\n",
       "      <th>sum_geo_distance</th>\n",
       "      <th>avg_heart_rate</th>\n",
       "      <th>avg_speed</th>\n",
       "      <th>diff_altitude</th>\n",
       "      <th>features</th>\n",
       "      <th>prediction</th>\n",
       "    </tr>\n",
       "  </thead>\n",
       "  <tbody>\n",
       "    <tr>\n",
       "      <th>0</th>\n",
       "      <td>236736452</td>\n",
       "      <td>[0.000348837209302]</td>\n",
       "      <td>[0.000415244368314]</td>\n",
       "      <td>[0.102915951973]</td>\n",
       "      <td>[0.0]</td>\n",
       "      <td>[0.14175257732]</td>\n",
       "      <td>[0.000348837209302, 0.000415244368314, 0.10291...</td>\n",
       "      <td>7</td>\n",
       "    </tr>\n",
       "    <tr>\n",
       "      <th>1</th>\n",
       "      <td>284139880</td>\n",
       "      <td>[0.00104651162791]</td>\n",
       "      <td>[0.0861530998667]</td>\n",
       "      <td>[0.623458302704]</td>\n",
       "      <td>[0.43086512508]</td>\n",
       "      <td>[0.132731958763]</td>\n",
       "      <td>[0.00104651162791, 0.0861530998667, 0.62345830...</td>\n",
       "      <td>6</td>\n",
       "    </tr>\n",
       "    <tr>\n",
       "      <th>2</th>\n",
       "      <td>287717418</td>\n",
       "      <td>[0.303139534884]</td>\n",
       "      <td>[0.109955359044]</td>\n",
       "      <td>[0.693618028036]</td>\n",
       "      <td>[0.371771289412]</td>\n",
       "      <td>[0.197164948454]</td>\n",
       "      <td>[0.303139534884, 0.109955359044, 0.69361802803...</td>\n",
       "      <td>9</td>\n",
       "    </tr>\n",
       "    <tr>\n",
       "      <th>3</th>\n",
       "      <td>299866442</td>\n",
       "      <td>[0.0110465116279]</td>\n",
       "      <td>[0.0812179311131]</td>\n",
       "      <td>[0.552390185696]</td>\n",
       "      <td>[0.333855987108]</td>\n",
       "      <td>[0.261597938144]</td>\n",
       "      <td>[0.0110465116279, 0.0812179311131, 0.552390185...</td>\n",
       "      <td>6</td>\n",
       "    </tr>\n",
       "    <tr>\n",
       "      <th>4</th>\n",
       "      <td>305322511</td>\n",
       "      <td>[0.0]</td>\n",
       "      <td>[0.000140945030793]</td>\n",
       "      <td>[0.118353344768]</td>\n",
       "      <td>[0.402871692128]</td>\n",
       "      <td>[0.14175257732]</td>\n",
       "      <td>[0.0, 0.000140945030793, 0.118353344768, 0.402...</td>\n",
       "      <td>0</td>\n",
       "    </tr>\n",
       "    <tr>\n",
       "      <th>5</th>\n",
       "      <td>323716970</td>\n",
       "      <td>[0.000116279069767]</td>\n",
       "      <td>[0.0]</td>\n",
       "      <td>[0.0]</td>\n",
       "      <td>[0.161950079305]</td>\n",
       "      <td>[0.14175257732]</td>\n",
       "      <td>[0.000116279069767, 0.0, 0.0, 0.161950079305, ...</td>\n",
       "      <td>7</td>\n",
       "    </tr>\n",
       "    <tr>\n",
       "      <th>6</th>\n",
       "      <td>323717026</td>\n",
       "      <td>[0.0]</td>\n",
       "      <td>[2.38295664858e-05]</td>\n",
       "      <td>[0.334476843911]</td>\n",
       "      <td>[2.0]</td>\n",
       "      <td>[0.14175257732]</td>\n",
       "      <td>[0.0, 2.38295664858e-05, 0.334476843911, 2.0, ...</td>\n",
       "      <td>1</td>\n",
       "    </tr>\n",
       "    <tr>\n",
       "      <th>7</th>\n",
       "      <td>323717077</td>\n",
       "      <td>[0.302906976744]</td>\n",
       "      <td>[0.0115721050709]</td>\n",
       "      <td>[0.646655231561]</td>\n",
       "      <td>[0.220960755396]</td>\n",
       "      <td>[1.0]</td>\n",
       "      <td>[0.302906976744, 0.0115721050709, 0.6466552315...</td>\n",
       "      <td>5</td>\n",
       "    </tr>\n",
       "    <tr>\n",
       "      <th>8</th>\n",
       "      <td>323717705</td>\n",
       "      <td>[0.00104651162791]</td>\n",
       "      <td>[0.0204435386716]</td>\n",
       "      <td>[0.600343053173]</td>\n",
       "      <td>[0.233116286835]</td>\n",
       "      <td>[0.16881443299]</td>\n",
       "      <td>[0.00104651162791, 0.0204435386716, 0.60034305...</td>\n",
       "      <td>6</td>\n",
       "    </tr>\n",
       "    <tr>\n",
       "      <th>9</th>\n",
       "      <td>323717755</td>\n",
       "      <td>[0.115813953488]</td>\n",
       "      <td>[0.388558469254]</td>\n",
       "      <td>[0.599594134274]</td>\n",
       "      <td>[0.273654168661]</td>\n",
       "      <td>[0.137886597938]</td>\n",
       "      <td>[0.115813953488, 0.388558469254, 0.59959413427...</td>\n",
       "      <td>4</td>\n",
       "    </tr>\n",
       "    <tr>\n",
       "      <th>10</th>\n",
       "      <td>366407436</td>\n",
       "      <td>[0.00302325581395]</td>\n",
       "      <td>[0.0116914267904]</td>\n",
       "      <td>[0.624699828473]</td>\n",
       "      <td>[0.293947741882]</td>\n",
       "      <td>[0.14175257732]</td>\n",
       "      <td>[0.00302325581395, 0.0116914267904, 0.62469982...</td>\n",
       "      <td>6</td>\n",
       "    </tr>\n",
       "    <tr>\n",
       "      <th>11</th>\n",
       "      <td>366407534</td>\n",
       "      <td>[0.00093023255814]</td>\n",
       "      <td>[0.0115175085468]</td>\n",
       "      <td>[0.467124070898]</td>\n",
       "      <td>[0.19517488939]</td>\n",
       "      <td>[0.386597938144]</td>\n",
       "      <td>[0.00093023255814, 0.0115175085468, 0.46712407...</td>\n",
       "      <td>0</td>\n",
       "    </tr>\n",
       "    <tr>\n",
       "      <th>12</th>\n",
       "      <td>379855770</td>\n",
       "      <td>[0.00418604651163]</td>\n",
       "      <td>[0.00711853217767]</td>\n",
       "      <td>[0.224699828473]</td>\n",
       "      <td>[0.34326738459]</td>\n",
       "      <td>[0.145618556701]</td>\n",
       "      <td>[0.00418604651163, 0.00711853217767, 0.2246998...</td>\n",
       "      <td>0</td>\n",
       "    </tr>\n",
       "    <tr>\n",
       "      <th>13</th>\n",
       "      <td>379856002</td>\n",
       "      <td>[0.0883720930233]</td>\n",
       "      <td>[0.00518948213272]</td>\n",
       "      <td>[0.697255574614]</td>\n",
       "      <td>[0.310710409884]</td>\n",
       "      <td>[0.143041237113]</td>\n",
       "      <td>[0.0883720930233, 0.00518948213272, 0.69725557...</td>\n",
       "      <td>6</td>\n",
       "    </tr>\n",
       "    <tr>\n",
       "      <th>14</th>\n",
       "      <td>402592287</td>\n",
       "      <td>[0.000697674418605]</td>\n",
       "      <td>[0.00190919676347]</td>\n",
       "      <td>[0.0566037735849]</td>\n",
       "      <td>[0.0922447616662]</td>\n",
       "      <td>[0.14175257732]</td>\n",
       "      <td>[0.000697674418605, 0.00190919676347, 0.056603...</td>\n",
       "      <td>7</td>\n",
       "    </tr>\n",
       "    <tr>\n",
       "      <th>15</th>\n",
       "      <td>442113709</td>\n",
       "      <td>[0.00093023255814]</td>\n",
       "      <td>[0.0412218924016]</td>\n",
       "      <td>[0.457011149228]</td>\n",
       "      <td>[0.286605726688]</td>\n",
       "      <td>[0.0]</td>\n",
       "      <td>[0.00093023255814, 0.0412218924016, 0.45701114...</td>\n",
       "      <td>0</td>\n",
       "    </tr>\n",
       "    <tr>\n",
       "      <th>16</th>\n",
       "      <td>467522271</td>\n",
       "      <td>[0.00104651162791]</td>\n",
       "      <td>[0.0519748767297]</td>\n",
       "      <td>[0.396798170383]</td>\n",
       "      <td>[0.283023068147]</td>\n",
       "      <td>[0.207474226804]</td>\n",
       "      <td>[0.00104651162791, 0.0519748767297, 0.39679817...</td>\n",
       "      <td>0</td>\n",
       "    </tr>\n",
       "    <tr>\n",
       "      <th>17</th>\n",
       "      <td>470504639</td>\n",
       "      <td>[0.0911627906977]</td>\n",
       "      <td>[0.0543103722554]</td>\n",
       "      <td>[0.729189789123]</td>\n",
       "      <td>[0.55707291682]</td>\n",
       "      <td>[0.182989690722]</td>\n",
       "      <td>[0.0911627906977, 0.0543103722554, 0.729189789...</td>\n",
       "      <td>6</td>\n",
       "    </tr>\n",
       "    <tr>\n",
       "      <th>18</th>\n",
       "      <td>483910800</td>\n",
       "      <td>[0.0336046511628]</td>\n",
       "      <td>[0.0517133837236]</td>\n",
       "      <td>[0.516145872175]</td>\n",
       "      <td>[0.268389972307]</td>\n",
       "      <td>[0.176546391753]</td>\n",
       "      <td>[0.0336046511628, 0.0517133837236, 0.516145872...</td>\n",
       "      <td>6</td>\n",
       "    </tr>\n",
       "    <tr>\n",
       "      <th>19</th>\n",
       "      <td>492108158</td>\n",
       "      <td>[0.0101162790698]</td>\n",
       "      <td>[0.0470206638224]</td>\n",
       "      <td>[0.756222214443]</td>\n",
       "      <td>[0.308376393382]</td>\n",
       "      <td>[0.164948453608]</td>\n",
       "      <td>[0.0101162790698, 0.0470206638224, 0.756222214...</td>\n",
       "      <td>6</td>\n",
       "    </tr>\n",
       "    <tr>\n",
       "      <th>20</th>\n",
       "      <td>525828966</td>\n",
       "      <td>[0.00546511627907]</td>\n",
       "      <td>[0.0166237490224]</td>\n",
       "      <td>[0.184513599608]</td>\n",
       "      <td>[0.333703027918]</td>\n",
       "      <td>[0.175257731959]</td>\n",
       "      <td>[0.00546511627907, 0.0166237490224, 0.18451359...</td>\n",
       "      <td>0</td>\n",
       "    </tr>\n",
       "    <tr>\n",
       "      <th>21</th>\n",
       "      <td>530740947</td>\n",
       "      <td>[0.0816279069767]</td>\n",
       "      <td>[0.0595309661045]</td>\n",
       "      <td>[0.625412323526]</td>\n",
       "      <td>[0.473976895464]</td>\n",
       "      <td>[0.235824742268]</td>\n",
       "      <td>[0.0816279069767, 0.0595309661045, 0.625412323...</td>\n",
       "      <td>6</td>\n",
       "    </tr>\n",
       "    <tr>\n",
       "      <th>22</th>\n",
       "      <td>531794436</td>\n",
       "      <td>[0.0995348837209]</td>\n",
       "      <td>[0.090363841959]</td>\n",
       "      <td>[0.678366732209]</td>\n",
       "      <td>[0.342709497719]</td>\n",
       "      <td>[0.170103092784]</td>\n",
       "      <td>[0.0995348837209, 0.090363841959, 0.6783667322...</td>\n",
       "      <td>6</td>\n",
       "    </tr>\n",
       "    <tr>\n",
       "      <th>23</th>\n",
       "      <td>559261979</td>\n",
       "      <td>[0.0540697674419]</td>\n",
       "      <td>[0.0687261493133]</td>\n",
       "      <td>[0.875283572179]</td>\n",
       "      <td>[0.374989565072]</td>\n",
       "      <td>[0.220360824742]</td>\n",
       "      <td>[0.0540697674419, 0.0687261493133, 0.875283572...</td>\n",
       "      <td>6</td>\n",
       "    </tr>\n",
       "    <tr>\n",
       "      <th>24</th>\n",
       "      <td>586875290</td>\n",
       "      <td>[0.631046511628]</td>\n",
       "      <td>[0.23361714138]</td>\n",
       "      <td>[0.489167436337]</td>\n",
       "      <td>[0.335815882923]</td>\n",
       "      <td>[0.23324742268]</td>\n",
       "      <td>[0.631046511628, 0.23361714138, 0.489167436337...</td>\n",
       "      <td>9</td>\n",
       "    </tr>\n",
       "    <tr>\n",
       "      <th>25</th>\n",
       "      <td>610271083</td>\n",
       "      <td>[1.0]</td>\n",
       "      <td>[0.233129402179]</td>\n",
       "      <td>[0.669824515108]</td>\n",
       "      <td>[0.205164165495]</td>\n",
       "      <td>[0.273195876289]</td>\n",
       "      <td>[1.0, 0.233129402179, 0.669824515108, 0.205164...</td>\n",
       "      <td>3</td>\n",
       "    </tr>\n",
       "    <tr>\n",
       "      <th>26</th>\n",
       "      <td>610818394</td>\n",
       "      <td>[0.408139534884]</td>\n",
       "      <td>[0.00959064063401]</td>\n",
       "      <td>[1.0]</td>\n",
       "      <td>[0.354008403595]</td>\n",
       "      <td>[0.162371134021]</td>\n",
       "      <td>[0.408139534884, 0.00959064063401, 1.0, 0.3540...</td>\n",
       "      <td>8</td>\n",
       "    </tr>\n",
       "    <tr>\n",
       "      <th>27</th>\n",
       "      <td>610818734</td>\n",
       "      <td>[0.336046511628]</td>\n",
       "      <td>[0.00434203789765]</td>\n",
       "      <td>[0.545454545455]</td>\n",
       "      <td>[0.161240504216]</td>\n",
       "      <td>[0.201030927835]</td>\n",
       "      <td>[0.336046511628, 0.00434203789765, 0.545454545...</td>\n",
       "      <td>9</td>\n",
       "    </tr>\n",
       "    <tr>\n",
       "      <th>28</th>\n",
       "      <td>610818776</td>\n",
       "      <td>[0.245465116279]</td>\n",
       "      <td>[0.0179219769295]</td>\n",
       "      <td>[0.616466552316]</td>\n",
       "      <td>[0.235061357375]</td>\n",
       "      <td>[0.14175257732]</td>\n",
       "      <td>[0.245465116279, 0.0179219769295, 0.6164665523...</td>\n",
       "      <td>9</td>\n",
       "    </tr>\n",
       "    <tr>\n",
       "      <th>29</th>\n",
       "      <td>610819840</td>\n",
       "      <td>[0.00953488372093]</td>\n",
       "      <td>[0.0318058102775]</td>\n",
       "      <td>[0.728987993139]</td>\n",
       "      <td>[0.364192893119]</td>\n",
       "      <td>[0.14175257732]</td>\n",
       "      <td>[0.00953488372093, 0.0318058102775, 0.72898799...</td>\n",
       "      <td>6</td>\n",
       "    </tr>\n",
       "    <tr>\n",
       "      <th>30</th>\n",
       "      <td>610820640</td>\n",
       "      <td>[0.00046511627907]</td>\n",
       "      <td>[0.000462881388478]</td>\n",
       "      <td>[0.313893653516]</td>\n",
       "      <td>[0.0681192086151]</td>\n",
       "      <td>[0.14175257732]</td>\n",
       "      <td>[0.00046511627907, 0.000462881388478, 0.313893...</td>\n",
       "      <td>7</td>\n",
       "    </tr>\n",
       "    <tr>\n",
       "      <th>31</th>\n",
       "      <td>611346021</td>\n",
       "      <td>[0.00709302325581]</td>\n",
       "      <td>[0.131598148692]</td>\n",
       "      <td>[0.339471294521]</td>\n",
       "      <td>[0.221618224049]</td>\n",
       "      <td>[0.298969072165]</td>\n",
       "      <td>[0.00709302325581, 0.131598148692, 0.339471294...</td>\n",
       "      <td>0</td>\n",
       "    </tr>\n",
       "    <tr>\n",
       "      <th>32</th>\n",
       "      <td>62593681</td>\n",
       "      <td>[0.105697674419]</td>\n",
       "      <td>[1.0]</td>\n",
       "      <td>[0.895991815951]</td>\n",
       "      <td>[0.490343152834]</td>\n",
       "      <td>[0.140463917526]</td>\n",
       "      <td>[0.105697674419, 1.0, 0.895991815951, 0.490343...</td>\n",
       "      <td>2</td>\n",
       "    </tr>\n",
       "    <tr>\n",
       "      <th>33</th>\n",
       "      <td>631503257</td>\n",
       "      <td>[0.110930232558]</td>\n",
       "      <td>[0.441573548575]</td>\n",
       "      <td>[0.796268421605]</td>\n",
       "      <td>[0.336955885952]</td>\n",
       "      <td>[0.242268041237]</td>\n",
       "      <td>[0.110930232558, 0.441573548575, 0.79626842160...</td>\n",
       "      <td>4</td>\n",
       "    </tr>\n",
       "    <tr>\n",
       "      <th>34</th>\n",
       "      <td>80893124</td>\n",
       "      <td>[0.011511627907]</td>\n",
       "      <td>[0.921447084458]</td>\n",
       "      <td>[0.682200639748]</td>\n",
       "      <td>[0.338747086681]</td>\n",
       "      <td>[0.591494845361]</td>\n",
       "      <td>[0.011511627907, 0.921447084458, 0.68220063974...</td>\n",
       "      <td>2</td>\n",
       "    </tr>\n",
       "    <tr>\n",
       "      <th>35</th>\n",
       "      <td>90306301</td>\n",
       "      <td>[0.115465116279]</td>\n",
       "      <td>[0.857867093261]</td>\n",
       "      <td>[0.528422680163]</td>\n",
       "      <td>[0.336157524494]</td>\n",
       "      <td>[0.207474226804]</td>\n",
       "      <td>[0.115465116279, 0.857867093261, 0.52842268016...</td>\n",
       "      <td>2</td>\n",
       "    </tr>\n",
       "  </tbody>\n",
       "</table>\n",
       "</div>"
      ],
      "text/plain": [
       "    workoutid     max_elapsed_time     sum_geo_distance     avg_heart_rate  \\\n",
       "0   236736452  [0.000348837209302]  [0.000415244368314]   [0.102915951973]   \n",
       "1   284139880   [0.00104651162791]    [0.0861530998667]   [0.623458302704]   \n",
       "2   287717418     [0.303139534884]     [0.109955359044]   [0.693618028036]   \n",
       "3   299866442    [0.0110465116279]    [0.0812179311131]   [0.552390185696]   \n",
       "4   305322511                [0.0]  [0.000140945030793]   [0.118353344768]   \n",
       "5   323716970  [0.000116279069767]                [0.0]              [0.0]   \n",
       "6   323717026                [0.0]  [2.38295664858e-05]   [0.334476843911]   \n",
       "7   323717077     [0.302906976744]    [0.0115721050709]   [0.646655231561]   \n",
       "8   323717705   [0.00104651162791]    [0.0204435386716]   [0.600343053173]   \n",
       "9   323717755     [0.115813953488]     [0.388558469254]   [0.599594134274]   \n",
       "10  366407436   [0.00302325581395]    [0.0116914267904]   [0.624699828473]   \n",
       "11  366407534   [0.00093023255814]    [0.0115175085468]   [0.467124070898]   \n",
       "12  379855770   [0.00418604651163]   [0.00711853217767]   [0.224699828473]   \n",
       "13  379856002    [0.0883720930233]   [0.00518948213272]   [0.697255574614]   \n",
       "14  402592287  [0.000697674418605]   [0.00190919676347]  [0.0566037735849]   \n",
       "15  442113709   [0.00093023255814]    [0.0412218924016]   [0.457011149228]   \n",
       "16  467522271   [0.00104651162791]    [0.0519748767297]   [0.396798170383]   \n",
       "17  470504639    [0.0911627906977]    [0.0543103722554]   [0.729189789123]   \n",
       "18  483910800    [0.0336046511628]    [0.0517133837236]   [0.516145872175]   \n",
       "19  492108158    [0.0101162790698]    [0.0470206638224]   [0.756222214443]   \n",
       "20  525828966   [0.00546511627907]    [0.0166237490224]   [0.184513599608]   \n",
       "21  530740947    [0.0816279069767]    [0.0595309661045]   [0.625412323526]   \n",
       "22  531794436    [0.0995348837209]     [0.090363841959]   [0.678366732209]   \n",
       "23  559261979    [0.0540697674419]    [0.0687261493133]   [0.875283572179]   \n",
       "24  586875290     [0.631046511628]      [0.23361714138]   [0.489167436337]   \n",
       "25  610271083                [1.0]     [0.233129402179]   [0.669824515108]   \n",
       "26  610818394     [0.408139534884]   [0.00959064063401]              [1.0]   \n",
       "27  610818734     [0.336046511628]   [0.00434203789765]   [0.545454545455]   \n",
       "28  610818776     [0.245465116279]    [0.0179219769295]   [0.616466552316]   \n",
       "29  610819840   [0.00953488372093]    [0.0318058102775]   [0.728987993139]   \n",
       "30  610820640   [0.00046511627907]  [0.000462881388478]   [0.313893653516]   \n",
       "31  611346021   [0.00709302325581]     [0.131598148692]   [0.339471294521]   \n",
       "32   62593681     [0.105697674419]                [1.0]   [0.895991815951]   \n",
       "33  631503257     [0.110930232558]     [0.441573548575]   [0.796268421605]   \n",
       "34   80893124     [0.011511627907]     [0.921447084458]   [0.682200639748]   \n",
       "35   90306301     [0.115465116279]     [0.857867093261]   [0.528422680163]   \n",
       "\n",
       "            avg_speed     diff_altitude  \\\n",
       "0               [0.0]   [0.14175257732]   \n",
       "1     [0.43086512508]  [0.132731958763]   \n",
       "2    [0.371771289412]  [0.197164948454]   \n",
       "3    [0.333855987108]  [0.261597938144]   \n",
       "4    [0.402871692128]   [0.14175257732]   \n",
       "5    [0.161950079305]   [0.14175257732]   \n",
       "6               [2.0]   [0.14175257732]   \n",
       "7    [0.220960755396]             [1.0]   \n",
       "8    [0.233116286835]   [0.16881443299]   \n",
       "9    [0.273654168661]  [0.137886597938]   \n",
       "10   [0.293947741882]   [0.14175257732]   \n",
       "11    [0.19517488939]  [0.386597938144]   \n",
       "12    [0.34326738459]  [0.145618556701]   \n",
       "13   [0.310710409884]  [0.143041237113]   \n",
       "14  [0.0922447616662]   [0.14175257732]   \n",
       "15   [0.286605726688]             [0.0]   \n",
       "16   [0.283023068147]  [0.207474226804]   \n",
       "17    [0.55707291682]  [0.182989690722]   \n",
       "18   [0.268389972307]  [0.176546391753]   \n",
       "19   [0.308376393382]  [0.164948453608]   \n",
       "20   [0.333703027918]  [0.175257731959]   \n",
       "21   [0.473976895464]  [0.235824742268]   \n",
       "22   [0.342709497719]  [0.170103092784]   \n",
       "23   [0.374989565072]  [0.220360824742]   \n",
       "24   [0.335815882923]   [0.23324742268]   \n",
       "25   [0.205164165495]  [0.273195876289]   \n",
       "26   [0.354008403595]  [0.162371134021]   \n",
       "27   [0.161240504216]  [0.201030927835]   \n",
       "28   [0.235061357375]   [0.14175257732]   \n",
       "29   [0.364192893119]   [0.14175257732]   \n",
       "30  [0.0681192086151]   [0.14175257732]   \n",
       "31   [0.221618224049]  [0.298969072165]   \n",
       "32   [0.490343152834]  [0.140463917526]   \n",
       "33   [0.336955885952]  [0.242268041237]   \n",
       "34   [0.338747086681]  [0.591494845361]   \n",
       "35   [0.336157524494]  [0.207474226804]   \n",
       "\n",
       "                                             features  prediction  \n",
       "0   [0.000348837209302, 0.000415244368314, 0.10291...           7  \n",
       "1   [0.00104651162791, 0.0861530998667, 0.62345830...           6  \n",
       "2   [0.303139534884, 0.109955359044, 0.69361802803...           9  \n",
       "3   [0.0110465116279, 0.0812179311131, 0.552390185...           6  \n",
       "4   [0.0, 0.000140945030793, 0.118353344768, 0.402...           0  \n",
       "5   [0.000116279069767, 0.0, 0.0, 0.161950079305, ...           7  \n",
       "6   [0.0, 2.38295664858e-05, 0.334476843911, 2.0, ...           1  \n",
       "7   [0.302906976744, 0.0115721050709, 0.6466552315...           5  \n",
       "8   [0.00104651162791, 0.0204435386716, 0.60034305...           6  \n",
       "9   [0.115813953488, 0.388558469254, 0.59959413427...           4  \n",
       "10  [0.00302325581395, 0.0116914267904, 0.62469982...           6  \n",
       "11  [0.00093023255814, 0.0115175085468, 0.46712407...           0  \n",
       "12  [0.00418604651163, 0.00711853217767, 0.2246998...           0  \n",
       "13  [0.0883720930233, 0.00518948213272, 0.69725557...           6  \n",
       "14  [0.000697674418605, 0.00190919676347, 0.056603...           7  \n",
       "15  [0.00093023255814, 0.0412218924016, 0.45701114...           0  \n",
       "16  [0.00104651162791, 0.0519748767297, 0.39679817...           0  \n",
       "17  [0.0911627906977, 0.0543103722554, 0.729189789...           6  \n",
       "18  [0.0336046511628, 0.0517133837236, 0.516145872...           6  \n",
       "19  [0.0101162790698, 0.0470206638224, 0.756222214...           6  \n",
       "20  [0.00546511627907, 0.0166237490224, 0.18451359...           0  \n",
       "21  [0.0816279069767, 0.0595309661045, 0.625412323...           6  \n",
       "22  [0.0995348837209, 0.090363841959, 0.6783667322...           6  \n",
       "23  [0.0540697674419, 0.0687261493133, 0.875283572...           6  \n",
       "24  [0.631046511628, 0.23361714138, 0.489167436337...           9  \n",
       "25  [1.0, 0.233129402179, 0.669824515108, 0.205164...           3  \n",
       "26  [0.408139534884, 0.00959064063401, 1.0, 0.3540...           8  \n",
       "27  [0.336046511628, 0.00434203789765, 0.545454545...           9  \n",
       "28  [0.245465116279, 0.0179219769295, 0.6164665523...           9  \n",
       "29  [0.00953488372093, 0.0318058102775, 0.72898799...           6  \n",
       "30  [0.00046511627907, 0.000462881388478, 0.313893...           7  \n",
       "31  [0.00709302325581, 0.131598148692, 0.339471294...           0  \n",
       "32  [0.105697674419, 1.0, 0.895991815951, 0.490343...           2  \n",
       "33  [0.110930232558, 0.441573548575, 0.79626842160...           4  \n",
       "34  [0.011511627907, 0.921447084458, 0.68220063974...           2  \n",
       "35  [0.115465116279, 0.857867093261, 0.52842268016...           2  "
      ]
     },
     "execution_count": 34,
     "metadata": {},
     "output_type": "execute_result"
    },
    {
     "name": "stdout",
     "output_type": "stream",
     "text": [
      "time: 1.47 s\n"
     ]
    }
   ],
   "source": [
    "prediction_df.toPandas()"
   ]
  },
  {
   "cell_type": "code",
   "execution_count": 52,
   "metadata": {
    "collapsed": false,
    "deletable": true,
    "editable": true
   },
   "outputs": [
    {
     "name": "stdout",
     "output_type": "stream",
     "text": [
      "+--------------------+----------+\n",
      "|            features|prediction|\n",
      "+--------------------+----------+\n",
      "|[3.48837209302325...|         7|\n",
      "|[0.00104651162790...|         6|\n",
      "|[0.30313953488372...|         9|\n",
      "|[0.01104651162790...|         6|\n",
      "|[0.0,1.4094503079...|         0|\n",
      "|[1.16279069767441...|         7|\n",
      "|[0.0,2.3829566485...|         1|\n",
      "|[0.30290697674418...|         5|\n",
      "|[0.00104651162790...|         6|\n",
      "|[0.11581395348837...|         4|\n",
      "|[0.00302325581395...|         6|\n",
      "|[9.30232558139534...|         0|\n",
      "|[0.00418604651162...|         0|\n",
      "|[0.08837209302325...|         6|\n",
      "|[6.97674418604651...|         7|\n",
      "|[9.30232558139534...|         0|\n",
      "|[0.00104651162790...|         0|\n",
      "|[0.09116279069767...|         6|\n",
      "|[0.03360465116279...|         6|\n",
      "|[0.01011627906976...|         6|\n",
      "+--------------------+----------+\n",
      "only showing top 20 rows\n",
      "\n",
      "time: 1.44 s\n"
     ]
    }
   ],
   "source": [
    "prediction_df.show()"
   ]
  },
  {
   "cell_type": "code",
   "execution_count": 41,
   "metadata": {
    "collapsed": false,
    "deletable": true,
    "editable": true
   },
   "outputs": [
    {
     "ename": "TypeError",
     "evalue": "object of type 'Column' has no len()",
     "output_type": "error",
     "traceback": [
      "\u001b[0;31m---------------------------------------------------------------------------\u001b[0m",
      "\u001b[0;31mTypeError\u001b[0m                                 Traceback (most recent call last)",
      "\u001b[0;32m<ipython-input-41-f9bfccc6e6cc>\u001b[0m in \u001b[0;36m<module>\u001b[0;34m()\u001b[0m\n\u001b[0;32m----> 1\u001b[0;31m \u001b[0mdenormalize_cluster\u001b[0m\u001b[0;34m(\u001b[0m\u001b[0mprediction_df\u001b[0m\u001b[0;34m,\u001b[0m \u001b[0mscalerModels\u001b[0m\u001b[0;34m)\u001b[0m\u001b[0;34m\u001b[0m\u001b[0m\n\u001b[0m",
      "\u001b[0;32m<ipython-input-14-6fc861b04a20>\u001b[0m in \u001b[0;36mdenormalize_cluster\u001b[0;34m(cluster_centers, list_scaler_models)\u001b[0m\n\u001b[1;32m    161\u001b[0m     \u001b[0;32mfor\u001b[0m \u001b[0mcenter\u001b[0m \u001b[0;32min\u001b[0m \u001b[0mcluster_centers\u001b[0m\u001b[0;34m:\u001b[0m\u001b[0;34m\u001b[0m\u001b[0m\n\u001b[1;32m    162\u001b[0m         \u001b[0mr_center\u001b[0m \u001b[0;34m=\u001b[0m \u001b[0;34m[\u001b[0m\u001b[0;34m]\u001b[0m\u001b[0;34m\u001b[0m\u001b[0m\n\u001b[0;32m--> 163\u001b[0;31m         \u001b[0;32mfor\u001b[0m \u001b[0mindex\u001b[0m \u001b[0;32min\u001b[0m \u001b[0mrange\u001b[0m\u001b[0;34m(\u001b[0m\u001b[0mlen\u001b[0m\u001b[0;34m(\u001b[0m\u001b[0mcenter\u001b[0m\u001b[0;34m)\u001b[0m\u001b[0;34m)\u001b[0m\u001b[0;34m:\u001b[0m\u001b[0;34m\u001b[0m\u001b[0m\n\u001b[0m\u001b[1;32m    164\u001b[0m             \u001b[0ms_model\u001b[0m \u001b[0;34m=\u001b[0m \u001b[0mlist_scaler_models\u001b[0m\u001b[0;34m[\u001b[0m\u001b[0mindex\u001b[0m\u001b[0;34m]\u001b[0m\u001b[0;34m\u001b[0m\u001b[0m\n\u001b[1;32m    165\u001b[0m             \u001b[0mr_center\u001b[0m\u001b[0;34m.\u001b[0m\u001b[0mappend\u001b[0m\u001b[0;34m(\u001b[0m\u001b[0ms_model\u001b[0m\u001b[0;34m.\u001b[0m\u001b[0mdenormalize\u001b[0m\u001b[0;34m(\u001b[0m\u001b[0mcenter\u001b[0m\u001b[0;34m[\u001b[0m\u001b[0mindex\u001b[0m\u001b[0;34m]\u001b[0m\u001b[0;34m)\u001b[0m\u001b[0;34m)\u001b[0m\u001b[0;34m\u001b[0m\u001b[0m\n",
      "\u001b[0;31mTypeError\u001b[0m: object of type 'Column' has no len()"
     ]
    },
    {
     "name": "stdout",
     "output_type": "stream",
     "text": [
      "time: 13.2 ms\n"
     ]
    }
   ],
   "source": [
    "denormalize_cluster(prediction_df, scalerModels)"
   ]
  },
  {
   "cell_type": "code",
   "execution_count": 40,
   "metadata": {
    "collapsed": false,
    "deletable": true,
    "editable": true
   },
   "outputs": [
    {
     "data": {
      "text/plain": [
       "[Row(features=DenseVector([0.0003, 0.0004, 0.1029, 0.0, 0.1418]), prediction=7),\n",
       " Row(features=DenseVector([0.001, 0.0862, 0.6235, 0.4309, 0.1327]), prediction=6),\n",
       " Row(features=DenseVector([0.3031, 0.11, 0.6936, 0.3718, 0.1972]), prediction=9),\n",
       " Row(features=DenseVector([0.011, 0.0812, 0.5524, 0.3339, 0.2616]), prediction=6),\n",
       " Row(features=DenseVector([0.0, 0.0001, 0.1184, 0.4029, 0.1418]), prediction=0),\n",
       " Row(features=DenseVector([0.0001, 0.0, 0.0, 0.162, 0.1418]), prediction=7),\n",
       " Row(features=DenseVector([0.0, 0.0, 0.3345, 2.0, 0.1418]), prediction=1),\n",
       " Row(features=DenseVector([0.3029, 0.0116, 0.6467, 0.221, 1.0]), prediction=5),\n",
       " Row(features=DenseVector([0.001, 0.0204, 0.6003, 0.2331, 0.1688]), prediction=6),\n",
       " Row(features=DenseVector([0.1158, 0.3886, 0.5996, 0.2737, 0.1379]), prediction=4),\n",
       " Row(features=DenseVector([0.003, 0.0117, 0.6247, 0.2939, 0.1418]), prediction=6),\n",
       " Row(features=DenseVector([0.0009, 0.0115, 0.4671, 0.1952, 0.3866]), prediction=0),\n",
       " Row(features=DenseVector([0.0042, 0.0071, 0.2247, 0.3433, 0.1456]), prediction=0),\n",
       " Row(features=DenseVector([0.0884, 0.0052, 0.6973, 0.3107, 0.143]), prediction=6),\n",
       " Row(features=DenseVector([0.0007, 0.0019, 0.0566, 0.0922, 0.1418]), prediction=7),\n",
       " Row(features=DenseVector([0.0009, 0.0412, 0.457, 0.2866, 0.0]), prediction=0),\n",
       " Row(features=DenseVector([0.001, 0.052, 0.3968, 0.283, 0.2075]), prediction=0),\n",
       " Row(features=DenseVector([0.0912, 0.0543, 0.7292, 0.5571, 0.183]), prediction=6),\n",
       " Row(features=DenseVector([0.0336, 0.0517, 0.5161, 0.2684, 0.1765]), prediction=6),\n",
       " Row(features=DenseVector([0.0101, 0.047, 0.7562, 0.3084, 0.1649]), prediction=6),\n",
       " Row(features=DenseVector([0.0055, 0.0166, 0.1845, 0.3337, 0.1753]), prediction=0),\n",
       " Row(features=DenseVector([0.0816, 0.0595, 0.6254, 0.474, 0.2358]), prediction=6),\n",
       " Row(features=DenseVector([0.0995, 0.0904, 0.6784, 0.3427, 0.1701]), prediction=6),\n",
       " Row(features=DenseVector([0.0541, 0.0687, 0.8753, 0.375, 0.2204]), prediction=6),\n",
       " Row(features=DenseVector([0.631, 0.2336, 0.4892, 0.3358, 0.2332]), prediction=9),\n",
       " Row(features=DenseVector([1.0, 0.2331, 0.6698, 0.2052, 0.2732]), prediction=3),\n",
       " Row(features=DenseVector([0.4081, 0.0096, 1.0, 0.354, 0.1624]), prediction=8),\n",
       " Row(features=DenseVector([0.336, 0.0043, 0.5455, 0.1612, 0.201]), prediction=9),\n",
       " Row(features=DenseVector([0.2455, 0.0179, 0.6165, 0.2351, 0.1418]), prediction=9),\n",
       " Row(features=DenseVector([0.0095, 0.0318, 0.729, 0.3642, 0.1418]), prediction=6),\n",
       " Row(features=DenseVector([0.0005, 0.0005, 0.3139, 0.0681, 0.1418]), prediction=7),\n",
       " Row(features=DenseVector([0.0071, 0.1316, 0.3395, 0.2216, 0.299]), prediction=0),\n",
       " Row(features=DenseVector([0.1057, 1.0, 0.896, 0.4903, 0.1405]), prediction=2),\n",
       " Row(features=DenseVector([0.1109, 0.4416, 0.7963, 0.337, 0.2423]), prediction=4),\n",
       " Row(features=DenseVector([0.0115, 0.9214, 0.6822, 0.3387, 0.5915]), prediction=2),\n",
       " Row(features=DenseVector([0.1155, 0.8579, 0.5284, 0.3362, 0.2075]), prediction=2)]"
      ]
     },
     "execution_count": 40,
     "metadata": {},
     "output_type": "execute_result"
    },
    {
     "name": "stdout",
     "output_type": "stream",
     "text": [
      "time: 1.37 s\n"
     ]
    }
   ],
   "source": [
    "prediction_df.collect()"
   ]
  },
  {
   "cell_type": "code",
   "execution_count": null,
   "metadata": {
    "collapsed": false,
    "deletable": true,
    "editable": true
   },
   "outputs": [],
   "source": [
    "denormed_centers"
   ]
  },
  {
   "cell_type": "code",
   "execution_count": 58,
   "metadata": {
    "collapsed": false,
    "deletable": true,
    "editable": true
   },
   "outputs": [
    {
     "name": "stdout",
     "output_type": "stream",
     "text": [
      "0 max_elapsed_time\n",
      "1 sum_geo_distance\n",
      "2 avg_heart_rate\n",
      "3 avg_speed\n",
      "4 diff_altitude\n",
      "time: 1.95 ms\n"
     ]
    }
   ],
   "source": [
    "for k,v in scalerModels.iteritems():\n",
    "    print k, v.get_input_col_name()"
   ]
  },
  {
   "cell_type": "code",
   "execution_count": 32,
   "metadata": {
    "collapsed": false,
    "deletable": true,
    "editable": true
   },
   "outputs": [
    {
     "name": "stdout",
     "output_type": "stream",
     "text": [
      "5\n",
      "clustering times\n",
      "0:00:00.003365\n",
      "0:03:33.976420\n",
      "35\n",
      "clustering times\n",
      "0:00:00.003368\n",
      "0:03:32.754669\n",
      "65\n",
      "clustering times\n",
      "0:00:00.003404\n",
      "0:03:32.487441\n",
      "95\n",
      "clustering times\n",
      "0:00:00.003227\n",
      "0:03:32.888310\n",
      "125\n",
      "clustering times\n",
      "0:00:00.003173\n",
      "0:03:31.838358\n",
      "time: 18min 55s\n"
     ]
    }
   ],
   "source": [
    "for i in range(5,130,30):\n",
    "    print i\n",
    "    r_obj = cluster_summary_df(df3, cols_to_cluster, 5, init_var=True)"
   ]
  },
  {
   "cell_type": "code",
   "execution_count": 40,
   "metadata": {
    "collapsed": false,
    "deletable": true,
    "editable": true
   },
   "outputs": [
    {
     "name": "stdout",
     "output_type": "stream",
     "text": [
      "5 ------- max_elapsed_time -------\n",
      "0:00:03.771995\n",
      "0:00:00.031710\n",
      "------- sum_geo_distance -------\n",
      "0:00:03.697294\n",
      "0:00:00.032369\n",
      "------- avg_heart_rate -------\n",
      "0:00:03.684409\n",
      "0:00:00.032021\n",
      "------- avg_speed -------\n",
      "0:00:03.766936\n",
      "0:00:00.032681\n",
      "------- diff_altitude -------\n",
      "0:00:03.927165\n",
      "0:00:00.034656\n",
      "clustering times\n",
      "0:00:00.002907\n",
      "0:00:09.387528\n",
      "10 ------- max_elapsed_time -------\n",
      "0:00:03.722428\n",
      "0:00:00.031690\n",
      "------- sum_geo_distance -------\n",
      "0:00:03.874099\n",
      "0:00:00.033990\n",
      "------- avg_heart_rate -------\n",
      "0:00:03.784784\n",
      "0:00:00.032303\n",
      "------- avg_speed -------\n",
      "0:00:03.747476\n",
      "0:00:00.032486\n",
      "------- diff_altitude -------\n",
      "0:00:03.785116\n",
      "0:00:00.033960\n",
      "clustering times\n",
      "0:00:00.003148\n",
      "0:00:10.384973\n",
      "15 ------- max_elapsed_time -------\n",
      "0:00:03.765619\n",
      "0:00:00.032495\n",
      "------- sum_geo_distance -------\n",
      "0:00:03.701715\n",
      "0:00:00.032304\n",
      "------- avg_heart_rate -------\n",
      "0:00:03.771162\n",
      "0:00:00.032318\n",
      "------- avg_speed -------\n",
      "0:00:03.850454\n",
      "0:00:00.034169\n",
      "------- diff_altitude -------\n",
      "0:00:03.657665\n",
      "0:00:00.033023\n",
      "clustering times\n",
      "0:00:00.002938\n",
      "0:00:09.426464\n",
      "20 ------- max_elapsed_time -------\n",
      "0:00:03.828792\n",
      "0:00:00.036539\n",
      "------- sum_geo_distance -------\n",
      "0:00:03.741562\n",
      "0:00:00.031864\n",
      "------- avg_heart_rate -------\n",
      "0:00:03.744281\n",
      "0:00:00.032542\n",
      "------- avg_speed -------\n",
      "0:00:03.717910\n",
      "0:00:00.032599\n",
      "------- diff_altitude -------\n",
      "0:00:04.021117\n",
      "0:00:00.035155\n",
      "clustering times\n",
      "0:00:00.002858\n"
     ]
    },
    {
     "ename": "KeyboardInterrupt",
     "evalue": "",
     "output_type": "error",
     "traceback": [
      "\u001b[0;31m---------------------------------------------------------------------------\u001b[0m",
      "\u001b[0;31mKeyboardInterrupt\u001b[0m                         Traceback (most recent call last)",
      "\u001b[0;32m<ipython-input-40-92068d9550a7>\u001b[0m in \u001b[0;36m<module>\u001b[0;34m()\u001b[0m\n\u001b[1;32m      2\u001b[0m \u001b[0;32mfor\u001b[0m \u001b[0mi\u001b[0m \u001b[0;32min\u001b[0m \u001b[0mrange\u001b[0m\u001b[0;34m(\u001b[0m\u001b[0;36m5\u001b[0m\u001b[0;34m,\u001b[0m \u001b[0;36m70\u001b[0m\u001b[0;34m,\u001b[0m \u001b[0;36m5\u001b[0m\u001b[0;34m)\u001b[0m\u001b[0;34m:\u001b[0m\u001b[0;34m\u001b[0m\u001b[0m\n\u001b[1;32m      3\u001b[0m     \u001b[0;32mprint\u001b[0m \u001b[0mi\u001b[0m\u001b[0;34m,\u001b[0m\u001b[0;34m\u001b[0m\u001b[0m\n\u001b[0;32m----> 4\u001b[0;31m     \u001b[0mr_obj\u001b[0m \u001b[0;34m=\u001b[0m \u001b[0mcluster_df\u001b[0m\u001b[0;34m(\u001b[0m\u001b[0msumstats\u001b[0m\u001b[0;34m,\u001b[0m \u001b[0mcols_to_cluster\u001b[0m\u001b[0;34m,\u001b[0m \u001b[0mnum_clusters\u001b[0m\u001b[0;34m=\u001b[0m\u001b[0mi\u001b[0m\u001b[0;34m,\u001b[0m                   \u001b[0mreturn_sse\u001b[0m \u001b[0;34m=\u001b[0m \u001b[0mTrue\u001b[0m\u001b[0;34m)\u001b[0m\u001b[0;34m\u001b[0m\u001b[0m\n\u001b[0m\u001b[1;32m      5\u001b[0m     \u001b[0mcluster_to_sse_dict\u001b[0m\u001b[0;34m[\u001b[0m\u001b[0mi\u001b[0m\u001b[0;34m]\u001b[0m \u001b[0;34m=\u001b[0m \u001b[0mr_obj\u001b[0m\u001b[0;34m[\u001b[0m\u001b[0;36m3\u001b[0m\u001b[0;34m]\u001b[0m\u001b[0;34m\u001b[0m\u001b[0m\n",
      "\u001b[0;32m<ipython-input-33-1f5283436160>\u001b[0m in \u001b[0;36mcluster_df\u001b[0;34m(df, cols_to_normalize, num_clusters, return_sse, cols_to_cluster, init_var)\u001b[0m\n\u001b[1;32m    129\u001b[0m     \u001b[0mdf\u001b[0m \u001b[0;34m=\u001b[0m \u001b[0mvectorize_columns\u001b[0m\u001b[0;34m(\u001b[0m\u001b[0mdf\u001b[0m\u001b[0;34m,\u001b[0m \u001b[0mcols_to_normalize\u001b[0m\u001b[0;34m)\u001b[0m\u001b[0;34m\u001b[0m\u001b[0m\n\u001b[1;32m    130\u001b[0m     \u001b[0mdf\u001b[0m\u001b[0;34m,\u001b[0m \u001b[0mscalerModels\u001b[0m \u001b[0;34m=\u001b[0m \u001b[0mnormalize_df\u001b[0m\u001b[0;34m(\u001b[0m\u001b[0mdf\u001b[0m\u001b[0;34m,\u001b[0m \u001b[0mcols_to_cluster\u001b[0m\u001b[0;34m)\u001b[0m\u001b[0;34m\u001b[0m\u001b[0m\n\u001b[0;32m--> 131\u001b[0;31m     \u001b[0mr_obj\u001b[0m \u001b[0;34m=\u001b[0m \u001b[0mcluster_summary_df\u001b[0m\u001b[0;34m(\u001b[0m\u001b[0mdf\u001b[0m\u001b[0;34m,\u001b[0m \u001b[0mcols_to_cluster\u001b[0m\u001b[0;34m,\u001b[0m \u001b[0mnum_clusters\u001b[0m\u001b[0;34m,\u001b[0m \u001b[0minit_var\u001b[0m\u001b[0;34m)\u001b[0m\u001b[0;34m\u001b[0m\u001b[0m\n\u001b[0m\u001b[1;32m    132\u001b[0m     \u001b[0msse\u001b[0m \u001b[0;34m=\u001b[0m \u001b[0;34m'none'\u001b[0m\u001b[0;34m\u001b[0m\u001b[0m\n\u001b[1;32m    133\u001b[0m     \u001b[0;32mif\u001b[0m \u001b[0mreturn_sse\u001b[0m\u001b[0;34m:\u001b[0m\u001b[0;34m\u001b[0m\u001b[0m\n",
      "\u001b[0;32m<ipython-input-33-1f5283436160>\u001b[0m in \u001b[0;36mcluster_summary_df\u001b[0;34m(df, cols_to_cluster, num_clusters, init_var)\u001b[0m\n\u001b[1;32m    111\u001b[0m     \u001b[0;32mprint\u001b[0m \u001b[0mb\u001b[0m \u001b[0;34m-\u001b[0m \u001b[0ma\u001b[0m\u001b[0;34m\u001b[0m\u001b[0m\n\u001b[1;32m    112\u001b[0m \u001b[0;34m\u001b[0m\u001b[0m\n\u001b[0;32m--> 113\u001b[0;31m     \u001b[0mmodel\u001b[0m \u001b[0;34m=\u001b[0m \u001b[0mkmeans\u001b[0m\u001b[0;34m.\u001b[0m\u001b[0mfit\u001b[0m\u001b[0;34m(\u001b[0m\u001b[0mdf_to_cluster\u001b[0m\u001b[0;34m)\u001b[0m\u001b[0;34m\u001b[0m\u001b[0m\n\u001b[0m\u001b[1;32m    114\u001b[0m \u001b[0;34m\u001b[0m\u001b[0m\n\u001b[1;32m    115\u001b[0m     \u001b[0mc\u001b[0m \u001b[0;34m=\u001b[0m \u001b[0mdatetime\u001b[0m\u001b[0;34m.\u001b[0m\u001b[0mnow\u001b[0m\u001b[0;34m(\u001b[0m\u001b[0;34m)\u001b[0m\u001b[0;34m\u001b[0m\u001b[0m\n",
      "\u001b[0;32m/opt/spark/spark-2.1.0-bin-hadoop2.7/python/pyspark/ml/base.pyc\u001b[0m in \u001b[0;36mfit\u001b[0;34m(self, dataset, params)\u001b[0m\n\u001b[1;32m     62\u001b[0m                 \u001b[0;32mreturn\u001b[0m \u001b[0mself\u001b[0m\u001b[0;34m.\u001b[0m\u001b[0mcopy\u001b[0m\u001b[0;34m(\u001b[0m\u001b[0mparams\u001b[0m\u001b[0;34m)\u001b[0m\u001b[0;34m.\u001b[0m\u001b[0m_fit\u001b[0m\u001b[0;34m(\u001b[0m\u001b[0mdataset\u001b[0m\u001b[0;34m)\u001b[0m\u001b[0;34m\u001b[0m\u001b[0m\n\u001b[1;32m     63\u001b[0m             \u001b[0;32melse\u001b[0m\u001b[0;34m:\u001b[0m\u001b[0;34m\u001b[0m\u001b[0m\n\u001b[0;32m---> 64\u001b[0;31m                 \u001b[0;32mreturn\u001b[0m \u001b[0mself\u001b[0m\u001b[0;34m.\u001b[0m\u001b[0m_fit\u001b[0m\u001b[0;34m(\u001b[0m\u001b[0mdataset\u001b[0m\u001b[0;34m)\u001b[0m\u001b[0;34m\u001b[0m\u001b[0m\n\u001b[0m\u001b[1;32m     65\u001b[0m         \u001b[0;32melse\u001b[0m\u001b[0;34m:\u001b[0m\u001b[0;34m\u001b[0m\u001b[0m\n\u001b[1;32m     66\u001b[0m             raise ValueError(\"Params must be either a param map or a list/tuple of param maps, \"\n",
      "\u001b[0;32m/opt/spark/spark-2.1.0-bin-hadoop2.7/python/pyspark/ml/wrapper.pyc\u001b[0m in \u001b[0;36m_fit\u001b[0;34m(self, dataset)\u001b[0m\n\u001b[1;32m    234\u001b[0m \u001b[0;34m\u001b[0m\u001b[0m\n\u001b[1;32m    235\u001b[0m     \u001b[0;32mdef\u001b[0m \u001b[0m_fit\u001b[0m\u001b[0;34m(\u001b[0m\u001b[0mself\u001b[0m\u001b[0;34m,\u001b[0m \u001b[0mdataset\u001b[0m\u001b[0;34m)\u001b[0m\u001b[0;34m:\u001b[0m\u001b[0;34m\u001b[0m\u001b[0m\n\u001b[0;32m--> 236\u001b[0;31m         \u001b[0mjava_model\u001b[0m \u001b[0;34m=\u001b[0m \u001b[0mself\u001b[0m\u001b[0;34m.\u001b[0m\u001b[0m_fit_java\u001b[0m\u001b[0;34m(\u001b[0m\u001b[0mdataset\u001b[0m\u001b[0;34m)\u001b[0m\u001b[0;34m\u001b[0m\u001b[0m\n\u001b[0m\u001b[1;32m    237\u001b[0m         \u001b[0;32mreturn\u001b[0m \u001b[0mself\u001b[0m\u001b[0;34m.\u001b[0m\u001b[0m_create_model\u001b[0m\u001b[0;34m(\u001b[0m\u001b[0mjava_model\u001b[0m\u001b[0;34m)\u001b[0m\u001b[0;34m\u001b[0m\u001b[0m\n\u001b[1;32m    238\u001b[0m \u001b[0;34m\u001b[0m\u001b[0m\n",
      "\u001b[0;32m/opt/spark/spark-2.1.0-bin-hadoop2.7/python/pyspark/ml/wrapper.pyc\u001b[0m in \u001b[0;36m_fit_java\u001b[0;34m(self, dataset)\u001b[0m\n\u001b[1;32m    231\u001b[0m         \"\"\"\n\u001b[1;32m    232\u001b[0m         \u001b[0mself\u001b[0m\u001b[0;34m.\u001b[0m\u001b[0m_transfer_params_to_java\u001b[0m\u001b[0;34m(\u001b[0m\u001b[0;34m)\u001b[0m\u001b[0;34m\u001b[0m\u001b[0m\n\u001b[0;32m--> 233\u001b[0;31m         \u001b[0;32mreturn\u001b[0m \u001b[0mself\u001b[0m\u001b[0;34m.\u001b[0m\u001b[0m_java_obj\u001b[0m\u001b[0;34m.\u001b[0m\u001b[0mfit\u001b[0m\u001b[0;34m(\u001b[0m\u001b[0mdataset\u001b[0m\u001b[0;34m.\u001b[0m\u001b[0m_jdf\u001b[0m\u001b[0;34m)\u001b[0m\u001b[0;34m\u001b[0m\u001b[0m\n\u001b[0m\u001b[1;32m    234\u001b[0m \u001b[0;34m\u001b[0m\u001b[0m\n\u001b[1;32m    235\u001b[0m     \u001b[0;32mdef\u001b[0m \u001b[0m_fit\u001b[0m\u001b[0;34m(\u001b[0m\u001b[0mself\u001b[0m\u001b[0;34m,\u001b[0m \u001b[0mdataset\u001b[0m\u001b[0;34m)\u001b[0m\u001b[0;34m:\u001b[0m\u001b[0;34m\u001b[0m\u001b[0m\n",
      "\u001b[0;32m/opt/spark/spark-2.1.0-bin-hadoop2.7/python/lib/py4j-0.10.4-src.zip/py4j/java_gateway.py\u001b[0m in \u001b[0;36m__call__\u001b[0;34m(self, *args)\u001b[0m\n\u001b[1;32m   1129\u001b[0m             \u001b[0mproto\u001b[0m\u001b[0;34m.\u001b[0m\u001b[0mEND_COMMAND_PART\u001b[0m\u001b[0;34m\u001b[0m\u001b[0m\n\u001b[1;32m   1130\u001b[0m \u001b[0;34m\u001b[0m\u001b[0m\n\u001b[0;32m-> 1131\u001b[0;31m         \u001b[0manswer\u001b[0m \u001b[0;34m=\u001b[0m \u001b[0mself\u001b[0m\u001b[0;34m.\u001b[0m\u001b[0mgateway_client\u001b[0m\u001b[0;34m.\u001b[0m\u001b[0msend_command\u001b[0m\u001b[0;34m(\u001b[0m\u001b[0mcommand\u001b[0m\u001b[0;34m)\u001b[0m\u001b[0;34m\u001b[0m\u001b[0m\n\u001b[0m\u001b[1;32m   1132\u001b[0m         return_value = get_return_value(\n\u001b[1;32m   1133\u001b[0m             answer, self.gateway_client, self.target_id, self.name)\n",
      "\u001b[0;32m/opt/spark/spark-2.1.0-bin-hadoop2.7/python/lib/py4j-0.10.4-src.zip/py4j/java_gateway.py\u001b[0m in \u001b[0;36msend_command\u001b[0;34m(self, command, retry, binary)\u001b[0m\n\u001b[1;32m    881\u001b[0m         \u001b[0mconnection\u001b[0m \u001b[0;34m=\u001b[0m \u001b[0mself\u001b[0m\u001b[0;34m.\u001b[0m\u001b[0m_get_connection\u001b[0m\u001b[0;34m(\u001b[0m\u001b[0;34m)\u001b[0m\u001b[0;34m\u001b[0m\u001b[0m\n\u001b[1;32m    882\u001b[0m         \u001b[0;32mtry\u001b[0m\u001b[0;34m:\u001b[0m\u001b[0;34m\u001b[0m\u001b[0m\n\u001b[0;32m--> 883\u001b[0;31m             \u001b[0mresponse\u001b[0m \u001b[0;34m=\u001b[0m \u001b[0mconnection\u001b[0m\u001b[0;34m.\u001b[0m\u001b[0msend_command\u001b[0m\u001b[0;34m(\u001b[0m\u001b[0mcommand\u001b[0m\u001b[0;34m)\u001b[0m\u001b[0;34m\u001b[0m\u001b[0m\n\u001b[0m\u001b[1;32m    884\u001b[0m             \u001b[0;32mif\u001b[0m \u001b[0mbinary\u001b[0m\u001b[0;34m:\u001b[0m\u001b[0;34m\u001b[0m\u001b[0m\n\u001b[1;32m    885\u001b[0m                 \u001b[0;32mreturn\u001b[0m \u001b[0mresponse\u001b[0m\u001b[0;34m,\u001b[0m \u001b[0mself\u001b[0m\u001b[0;34m.\u001b[0m\u001b[0m_create_connection_guard\u001b[0m\u001b[0;34m(\u001b[0m\u001b[0mconnection\u001b[0m\u001b[0;34m)\u001b[0m\u001b[0;34m\u001b[0m\u001b[0m\n",
      "\u001b[0;32m/opt/spark/spark-2.1.0-bin-hadoop2.7/python/lib/py4j-0.10.4-src.zip/py4j/java_gateway.py\u001b[0m in \u001b[0;36msend_command\u001b[0;34m(self, command)\u001b[0m\n\u001b[1;32m   1026\u001b[0m \u001b[0;34m\u001b[0m\u001b[0m\n\u001b[1;32m   1027\u001b[0m         \u001b[0;32mtry\u001b[0m\u001b[0;34m:\u001b[0m\u001b[0;34m\u001b[0m\u001b[0m\n\u001b[0;32m-> 1028\u001b[0;31m             \u001b[0manswer\u001b[0m \u001b[0;34m=\u001b[0m \u001b[0msmart_decode\u001b[0m\u001b[0;34m(\u001b[0m\u001b[0mself\u001b[0m\u001b[0;34m.\u001b[0m\u001b[0mstream\u001b[0m\u001b[0;34m.\u001b[0m\u001b[0mreadline\u001b[0m\u001b[0;34m(\u001b[0m\u001b[0;34m)\u001b[0m\u001b[0;34m[\u001b[0m\u001b[0;34m:\u001b[0m\u001b[0;34m-\u001b[0m\u001b[0;36m1\u001b[0m\u001b[0;34m]\u001b[0m\u001b[0;34m)\u001b[0m\u001b[0;34m\u001b[0m\u001b[0m\n\u001b[0m\u001b[1;32m   1029\u001b[0m             \u001b[0mlogger\u001b[0m\u001b[0;34m.\u001b[0m\u001b[0mdebug\u001b[0m\u001b[0;34m(\u001b[0m\u001b[0;34m\"Answer received: {0}\"\u001b[0m\u001b[0;34m.\u001b[0m\u001b[0mformat\u001b[0m\u001b[0;34m(\u001b[0m\u001b[0manswer\u001b[0m\u001b[0;34m)\u001b[0m\u001b[0;34m)\u001b[0m\u001b[0;34m\u001b[0m\u001b[0m\n\u001b[1;32m   1030\u001b[0m             \u001b[0;32mif\u001b[0m \u001b[0manswer\u001b[0m\u001b[0;34m.\u001b[0m\u001b[0mstartswith\u001b[0m\u001b[0;34m(\u001b[0m\u001b[0mproto\u001b[0m\u001b[0;34m.\u001b[0m\u001b[0mRETURN_MESSAGE\u001b[0m\u001b[0;34m)\u001b[0m\u001b[0;34m:\u001b[0m\u001b[0;34m\u001b[0m\u001b[0m\n",
      "\u001b[0;32m/usr/lib/python2.7/socket.pyc\u001b[0m in \u001b[0;36mreadline\u001b[0;34m(self, size)\u001b[0m\n\u001b[1;32m    449\u001b[0m             \u001b[0;32mwhile\u001b[0m \u001b[0mTrue\u001b[0m\u001b[0;34m:\u001b[0m\u001b[0;34m\u001b[0m\u001b[0m\n\u001b[1;32m    450\u001b[0m                 \u001b[0;32mtry\u001b[0m\u001b[0;34m:\u001b[0m\u001b[0;34m\u001b[0m\u001b[0m\n\u001b[0;32m--> 451\u001b[0;31m                     \u001b[0mdata\u001b[0m \u001b[0;34m=\u001b[0m \u001b[0mself\u001b[0m\u001b[0;34m.\u001b[0m\u001b[0m_sock\u001b[0m\u001b[0;34m.\u001b[0m\u001b[0mrecv\u001b[0m\u001b[0;34m(\u001b[0m\u001b[0mself\u001b[0m\u001b[0;34m.\u001b[0m\u001b[0m_rbufsize\u001b[0m\u001b[0;34m)\u001b[0m\u001b[0;34m\u001b[0m\u001b[0m\n\u001b[0m\u001b[1;32m    452\u001b[0m                 \u001b[0;32mexcept\u001b[0m \u001b[0merror\u001b[0m\u001b[0;34m,\u001b[0m \u001b[0me\u001b[0m\u001b[0;34m:\u001b[0m\u001b[0;34m\u001b[0m\u001b[0m\n\u001b[1;32m    453\u001b[0m                     \u001b[0;32mif\u001b[0m \u001b[0me\u001b[0m\u001b[0;34m.\u001b[0m\u001b[0margs\u001b[0m\u001b[0;34m[\u001b[0m\u001b[0;36m0\u001b[0m\u001b[0;34m]\u001b[0m \u001b[0;34m==\u001b[0m \u001b[0mEINTR\u001b[0m\u001b[0;34m:\u001b[0m\u001b[0;34m\u001b[0m\u001b[0m\n",
      "\u001b[0;31mKeyboardInterrupt\u001b[0m: "
     ]
    },
    {
     "name": "stdout",
     "output_type": "stream",
     "text": [
      "time: 1min 57s\n"
     ]
    }
   ],
   "source": [
    "cluster_to_sse_dict = {}\n",
    "for i in range(5, 70, 5):\n",
    "    print i, \n",
    "    r_obj = cluster_df(sumstats, cols_to_cluster, num_clusters=i,\\\n",
    "                   return_sse = True)\n",
    "    cluster_to_sse_dict[i] = r_obj[3]"
   ]
  },
  {
   "cell_type": "code",
   "execution_count": null,
   "metadata": {
    "collapsed": true,
    "deletable": true,
    "editable": true
   },
   "outputs": [],
   "source": [
    "import matplotlib.pyplot as plt\n",
    "%matplotlib inline\n",
    "\n",
    "\n",
    "cluster_to_sse_dict[i] = r_obj[3]\n",
    "\n",
    "for k in sorted(cluster_to_sse_dict):\n",
    "    x = k\n",
    "    y = cluster_to_sse_dict5[k]\n",
    "    plt.scatter(x,y)\n",
    "plt.legend()\n",
    "plt.show()"
   ]
  },
  {
   "cell_type": "markdown",
   "metadata": {
    "deletable": true,
    "editable": true
   },
   "source": [
    "\n",
    "# Cluster section\n"
   ]
  },
  {
   "cell_type": "code",
   "execution_count": 33,
   "metadata": {
    "collapsed": false,
    "deletable": true,
    "editable": true
   },
   "outputs": [
    {
     "data": {
      "text/plain": [
       "StructType(List(StructField(altitude,StringType,true),StructField(heart_rate,StringType,true),StructField(latitude,StringType,true),StructField(longitude,StringType,true),StructField(speed,StringType,true),StructField(workoutid,StringType,true),StructField(time,StringType,true),StructField(altitude_first,StringType,true),StructField(altitude_second,StringType,true),StructField(elapsed_time,StringType,true),StructField(speed_first,StringType,true),StructField(geo_distance,StringType,true)))"
      ]
     },
     "execution_count": 33,
     "metadata": {},
     "output_type": "execute_result"
    },
    {
     "name": "stdout",
     "output_type": "stream",
     "text": [
      "time: 2.31 ms\n"
     ]
    }
   ],
   "source": [
    "df_runs.schema"
   ]
  },
  {
   "cell_type": "code",
   "execution_count": 34,
   "metadata": {
    "collapsed": false,
    "deletable": true,
    "editable": true
   },
   "outputs": [
    {
     "name": "stdout",
     "output_type": "stream",
     "text": [
      "['max_elapsed_time', 'sum_geo_distance', 'avg_heart_rate', 'avg_speed', 'diff_altitude']\n",
      "+----------------+--------------------+---------+------------------+------------------+------------------+\n",
      "|max_elapsed_time|    sum_geo_distance|workoutid|    avg_heart_rate|         avg_speed|     diff_altitude|\n",
      "+----------------+--------------------+---------+------------------+------------------+------------------+\n",
      "|             908|0.014136676100000002|202885174|              null|11.894492307692307|              31.4|\n",
      "|            2452|         5.398919E-4|278888647|              null|10.578000000000001|10.199999999999989|\n",
      "|               8|0.028470258399999993|280919215|              null|10.904192307692306|20.599999999999994|\n",
      "|             320|         8.080148E-4|315716952|              null|           11.5902|0.5999999999999659|\n",
      "|             987|        0.0863023672|391330335| 161.9485294117647|15.580270588235297| 98.80000000000001|\n",
      "|             998|  0.3070946213000001|408722698|           170.122|16.148584800000013|              null|\n",
      "|             396|6.466156999999999E-4|491625790|143.33333333333334|           13.4604|11.799999999999997|\n",
      "|             945| 0.04473104770000001|515235094|144.66346153846155|12.796684615384615|             118.0|\n",
      "|             996|0.053830056400000006|610888401|              null| 16.19016774193548|              19.6|\n",
      "|               0|                null|159295393|              null|            3.2796|               0.0|\n",
      "|             857|        0.0060250802|190141694|134.27272727272728|12.316581818181819|              -7.0|\n",
      "|               8|0.002198631799999...|212976740|              null| 9.083907692307692|13.600000000000001|\n",
      "|               0|                null|267716583|              null|           17.3664|               0.0|\n",
      "|               7|         4.077294E-4|272493363|              68.0|            8.3046|               0.0|\n",
      "|             937|        0.0040217941|321490112|138.27272727272728| 9.727036363636365|12.800000000000004|\n",
      "|              48|0.014800855199999997|444572279|              null|14.344199999999999|11.600000000000001|\n",
      "|               9|0.005850487500000001|464651784|130.69767441860466|            9.9576|10.600000000000023|\n",
      "|            2213|         4.491287E-4|482633721|              null|           11.9772|               2.0|\n",
      "|               0|                null|578482929|              92.0|            6.9876|               0.0|\n",
      "|             997| 0.08237899499999998|585097278|           142.872|12.047767200000001|              29.6|\n",
      "+----------------+--------------------+---------+------------------+------------------+------------------+\n",
      "only showing top 20 rows\n",
      "\n",
      "time: 15.7 s\n"
     ]
    }
   ],
   "source": [
    "#define columns to cluster on (they will be normalized)\n",
    "#cols_to_cluster = ['avg_\"heart_rate\"', 'avg_\"speed\"', 'avg_\"altitude\"']\n",
    "#create summary stats for workouts\n",
    "\n",
    "s_conf = [{'elapsed_time': 'max'}, {'geo_distance': 'sum'}, {'heart_rate':'avg'},\\\n",
    "          {'speed':'avg'}, {'altitude': 'diff'}]\n",
    "\n",
    "obj = SummaryStat(df_runs, summary_conf=s_conf)\n",
    "#obj = SummaryStat(sub_df, summary_conf=s_conf)\n",
    "\n",
    "#obj.describe()\n",
    "sumstats = obj.generate_summary()\n",
    "cols_to_cluster = obj.get_new_col_names()\n",
    "print cols_to_cluster\n",
    "sumstats.show()\n",
    "sumstats.count()\n",
    "#clusters = cluster_df(sumstats, cols_to_cluster, 5)\n",
    "#clusters.clusterCenters\n",
    "\n",
    "#rid nulls\n",
    "sumstats = sumstats.na.drop()"
   ]
  },
  {
   "cell_type": "code",
   "execution_count": 35,
   "metadata": {
    "collapsed": false,
    "deletable": true,
    "editable": true
   },
   "outputs": [
    {
     "name": "stdout",
     "output_type": "stream",
     "text": [
      "time: 1.28 ms\n"
     ]
    }
   ],
   "source": [
    "# r_obj = cluster_df(sumstats, cols_to_cluster, num_clusters=2,\\\n",
    "#                    return_sse = True) \n",
    "# kmodel = r_obj[0]\n",
    "# new_df = r_obj[1]\n",
    "# scaler_model_dict = r_obj[2]\n",
    "# error = r_obj[3]\n",
    "# print error"
   ]
  },
  {
   "cell_type": "code",
   "execution_count": 36,
   "metadata": {
    "collapsed": false,
    "deletable": true,
    "editable": true
   },
   "outputs": [
    {
     "name": "stdout",
     "output_type": "stream",
     "text": [
      "5 ------- max_elapsed_time -------\n",
      "0:00:31.305642\n",
      "0:00:00.036586\n",
      "------- sum_geo_distance -------\n",
      "0:00:29.135043\n",
      "0:00:00.036809\n",
      "------- avg_heart_rate -------\n",
      "0:00:27.274570\n",
      "0:00:00.036803\n",
      "------- avg_speed -------\n",
      "0:00:26.355532\n",
      "0:00:00.035894\n",
      "------- diff_altitude -------\n",
      "0:00:26.458103\n",
      "0:00:00.036998\n",
      "clustering times\n",
      "0:00:00.003163\n"
     ]
    },
    {
     "ename": "KeyboardInterrupt",
     "evalue": "",
     "output_type": "error",
     "traceback": [
      "\u001b[0;31m---------------------------------------------------------------------------\u001b[0m",
      "\u001b[0;31mKeyboardInterrupt\u001b[0m                         Traceback (most recent call last)",
      "\u001b[0;32m<ipython-input-36-c066383c6cc4>\u001b[0m in \u001b[0;36m<module>\u001b[0;34m()\u001b[0m\n\u001b[1;32m      2\u001b[0m \u001b[0;32mfor\u001b[0m \u001b[0mi\u001b[0m \u001b[0;32min\u001b[0m \u001b[0mrange\u001b[0m\u001b[0;34m(\u001b[0m\u001b[0;36m5\u001b[0m\u001b[0;34m,\u001b[0m \u001b[0;36m70\u001b[0m\u001b[0;34m,\u001b[0m \u001b[0;36m5\u001b[0m\u001b[0;34m)\u001b[0m\u001b[0;34m:\u001b[0m\u001b[0;34m\u001b[0m\u001b[0m\n\u001b[1;32m      3\u001b[0m     \u001b[0;32mprint\u001b[0m \u001b[0mi\u001b[0m\u001b[0;34m,\u001b[0m\u001b[0;34m\u001b[0m\u001b[0m\n\u001b[0;32m----> 4\u001b[0;31m     \u001b[0mr_obj\u001b[0m \u001b[0;34m=\u001b[0m \u001b[0mcluster_df\u001b[0m\u001b[0;34m(\u001b[0m\u001b[0msumstats\u001b[0m\u001b[0;34m,\u001b[0m \u001b[0mcols_to_cluster\u001b[0m\u001b[0;34m,\u001b[0m \u001b[0mnum_clusters\u001b[0m\u001b[0;34m=\u001b[0m\u001b[0mi\u001b[0m\u001b[0;34m,\u001b[0m                   \u001b[0mreturn_sse\u001b[0m \u001b[0;34m=\u001b[0m \u001b[0mTrue\u001b[0m\u001b[0;34m)\u001b[0m\u001b[0;34m\u001b[0m\u001b[0m\n\u001b[0m\u001b[1;32m      5\u001b[0m     \u001b[0mcluster_to_sse_dict5\u001b[0m\u001b[0;34m[\u001b[0m\u001b[0mi\u001b[0m\u001b[0;34m]\u001b[0m \u001b[0;34m=\u001b[0m \u001b[0mr_obj\u001b[0m\u001b[0;34m[\u001b[0m\u001b[0;36m3\u001b[0m\u001b[0;34m]\u001b[0m\u001b[0;34m\u001b[0m\u001b[0m\n",
      "\u001b[0;32m<ipython-input-27-b39172a0f5b5>\u001b[0m in \u001b[0;36mcluster_df\u001b[0;34m(df, cols_to_normalize, num_clusters, return_sse, cols_to_cluster)\u001b[0m\n\u001b[1;32m    126\u001b[0m     \u001b[0mdf\u001b[0m \u001b[0;34m=\u001b[0m \u001b[0mvectorize_columns\u001b[0m\u001b[0;34m(\u001b[0m\u001b[0mdf\u001b[0m\u001b[0;34m,\u001b[0m \u001b[0mcols_to_normalize\u001b[0m\u001b[0;34m)\u001b[0m\u001b[0;34m\u001b[0m\u001b[0m\n\u001b[1;32m    127\u001b[0m     \u001b[0mdf\u001b[0m\u001b[0;34m,\u001b[0m \u001b[0mscalerModels\u001b[0m \u001b[0;34m=\u001b[0m \u001b[0mnormalize_df\u001b[0m\u001b[0;34m(\u001b[0m\u001b[0mdf\u001b[0m\u001b[0;34m,\u001b[0m \u001b[0mcols_to_cluster\u001b[0m\u001b[0;34m)\u001b[0m\u001b[0;34m\u001b[0m\u001b[0m\n\u001b[0;32m--> 128\u001b[0;31m     \u001b[0mr_obj\u001b[0m \u001b[0;34m=\u001b[0m \u001b[0mcluster_summary_df\u001b[0m\u001b[0;34m(\u001b[0m\u001b[0mdf\u001b[0m\u001b[0;34m,\u001b[0m \u001b[0mcols_to_cluster\u001b[0m\u001b[0;34m,\u001b[0m \u001b[0mnum_clusters\u001b[0m\u001b[0;34m)\u001b[0m\u001b[0;34m\u001b[0m\u001b[0m\n\u001b[0m\u001b[1;32m    129\u001b[0m     \u001b[0msse\u001b[0m \u001b[0;34m=\u001b[0m \u001b[0;34m'none'\u001b[0m\u001b[0;34m\u001b[0m\u001b[0m\n\u001b[1;32m    130\u001b[0m     \u001b[0;32mif\u001b[0m \u001b[0mreturn_sse\u001b[0m\u001b[0;34m:\u001b[0m\u001b[0;34m\u001b[0m\u001b[0m\n",
      "\u001b[0;32m<ipython-input-27-b39172a0f5b5>\u001b[0m in \u001b[0;36mcluster_summary_df\u001b[0;34m(df, cols_to_cluster, num_clusters)\u001b[0m\n\u001b[1;32m    108\u001b[0m     \u001b[0;32mprint\u001b[0m \u001b[0mb\u001b[0m \u001b[0;34m-\u001b[0m \u001b[0ma\u001b[0m\u001b[0;34m\u001b[0m\u001b[0m\n\u001b[1;32m    109\u001b[0m \u001b[0;34m\u001b[0m\u001b[0m\n\u001b[0;32m--> 110\u001b[0;31m     \u001b[0mmodel\u001b[0m \u001b[0;34m=\u001b[0m \u001b[0mkmeans\u001b[0m\u001b[0;34m.\u001b[0m\u001b[0mfit\u001b[0m\u001b[0;34m(\u001b[0m\u001b[0mdf_to_cluster\u001b[0m\u001b[0;34m)\u001b[0m\u001b[0;34m\u001b[0m\u001b[0m\n\u001b[0m\u001b[1;32m    111\u001b[0m \u001b[0;34m\u001b[0m\u001b[0m\n\u001b[1;32m    112\u001b[0m     \u001b[0mc\u001b[0m \u001b[0;34m=\u001b[0m \u001b[0mdatetime\u001b[0m\u001b[0;34m.\u001b[0m\u001b[0mnow\u001b[0m\u001b[0;34m(\u001b[0m\u001b[0;34m)\u001b[0m\u001b[0;34m\u001b[0m\u001b[0m\n",
      "\u001b[0;32m/opt/spark/spark-2.1.0-bin-hadoop2.7/python/pyspark/ml/base.pyc\u001b[0m in \u001b[0;36mfit\u001b[0;34m(self, dataset, params)\u001b[0m\n\u001b[1;32m     62\u001b[0m                 \u001b[0;32mreturn\u001b[0m \u001b[0mself\u001b[0m\u001b[0;34m.\u001b[0m\u001b[0mcopy\u001b[0m\u001b[0;34m(\u001b[0m\u001b[0mparams\u001b[0m\u001b[0;34m)\u001b[0m\u001b[0;34m.\u001b[0m\u001b[0m_fit\u001b[0m\u001b[0;34m(\u001b[0m\u001b[0mdataset\u001b[0m\u001b[0;34m)\u001b[0m\u001b[0;34m\u001b[0m\u001b[0m\n\u001b[1;32m     63\u001b[0m             \u001b[0;32melse\u001b[0m\u001b[0;34m:\u001b[0m\u001b[0;34m\u001b[0m\u001b[0m\n\u001b[0;32m---> 64\u001b[0;31m                 \u001b[0;32mreturn\u001b[0m \u001b[0mself\u001b[0m\u001b[0;34m.\u001b[0m\u001b[0m_fit\u001b[0m\u001b[0;34m(\u001b[0m\u001b[0mdataset\u001b[0m\u001b[0;34m)\u001b[0m\u001b[0;34m\u001b[0m\u001b[0m\n\u001b[0m\u001b[1;32m     65\u001b[0m         \u001b[0;32melse\u001b[0m\u001b[0;34m:\u001b[0m\u001b[0;34m\u001b[0m\u001b[0m\n\u001b[1;32m     66\u001b[0m             raise ValueError(\"Params must be either a param map or a list/tuple of param maps, \"\n",
      "\u001b[0;32m/opt/spark/spark-2.1.0-bin-hadoop2.7/python/pyspark/ml/wrapper.pyc\u001b[0m in \u001b[0;36m_fit\u001b[0;34m(self, dataset)\u001b[0m\n\u001b[1;32m    234\u001b[0m \u001b[0;34m\u001b[0m\u001b[0m\n\u001b[1;32m    235\u001b[0m     \u001b[0;32mdef\u001b[0m \u001b[0m_fit\u001b[0m\u001b[0;34m(\u001b[0m\u001b[0mself\u001b[0m\u001b[0;34m,\u001b[0m \u001b[0mdataset\u001b[0m\u001b[0;34m)\u001b[0m\u001b[0;34m:\u001b[0m\u001b[0;34m\u001b[0m\u001b[0m\n\u001b[0;32m--> 236\u001b[0;31m         \u001b[0mjava_model\u001b[0m \u001b[0;34m=\u001b[0m \u001b[0mself\u001b[0m\u001b[0;34m.\u001b[0m\u001b[0m_fit_java\u001b[0m\u001b[0;34m(\u001b[0m\u001b[0mdataset\u001b[0m\u001b[0;34m)\u001b[0m\u001b[0;34m\u001b[0m\u001b[0m\n\u001b[0m\u001b[1;32m    237\u001b[0m         \u001b[0;32mreturn\u001b[0m \u001b[0mself\u001b[0m\u001b[0;34m.\u001b[0m\u001b[0m_create_model\u001b[0m\u001b[0;34m(\u001b[0m\u001b[0mjava_model\u001b[0m\u001b[0;34m)\u001b[0m\u001b[0;34m\u001b[0m\u001b[0m\n\u001b[1;32m    238\u001b[0m \u001b[0;34m\u001b[0m\u001b[0m\n",
      "\u001b[0;32m/opt/spark/spark-2.1.0-bin-hadoop2.7/python/pyspark/ml/wrapper.pyc\u001b[0m in \u001b[0;36m_fit_java\u001b[0;34m(self, dataset)\u001b[0m\n\u001b[1;32m    231\u001b[0m         \"\"\"\n\u001b[1;32m    232\u001b[0m         \u001b[0mself\u001b[0m\u001b[0;34m.\u001b[0m\u001b[0m_transfer_params_to_java\u001b[0m\u001b[0;34m(\u001b[0m\u001b[0;34m)\u001b[0m\u001b[0;34m\u001b[0m\u001b[0m\n\u001b[0;32m--> 233\u001b[0;31m         \u001b[0;32mreturn\u001b[0m \u001b[0mself\u001b[0m\u001b[0;34m.\u001b[0m\u001b[0m_java_obj\u001b[0m\u001b[0;34m.\u001b[0m\u001b[0mfit\u001b[0m\u001b[0;34m(\u001b[0m\u001b[0mdataset\u001b[0m\u001b[0;34m.\u001b[0m\u001b[0m_jdf\u001b[0m\u001b[0;34m)\u001b[0m\u001b[0;34m\u001b[0m\u001b[0m\n\u001b[0m\u001b[1;32m    234\u001b[0m \u001b[0;34m\u001b[0m\u001b[0m\n\u001b[1;32m    235\u001b[0m     \u001b[0;32mdef\u001b[0m \u001b[0m_fit\u001b[0m\u001b[0;34m(\u001b[0m\u001b[0mself\u001b[0m\u001b[0;34m,\u001b[0m \u001b[0mdataset\u001b[0m\u001b[0;34m)\u001b[0m\u001b[0;34m:\u001b[0m\u001b[0;34m\u001b[0m\u001b[0m\n",
      "\u001b[0;32m/opt/spark/spark-2.1.0-bin-hadoop2.7/python/lib/py4j-0.10.4-src.zip/py4j/java_gateway.py\u001b[0m in \u001b[0;36m__call__\u001b[0;34m(self, *args)\u001b[0m\n\u001b[1;32m   1129\u001b[0m             \u001b[0mproto\u001b[0m\u001b[0;34m.\u001b[0m\u001b[0mEND_COMMAND_PART\u001b[0m\u001b[0;34m\u001b[0m\u001b[0m\n\u001b[1;32m   1130\u001b[0m \u001b[0;34m\u001b[0m\u001b[0m\n\u001b[0;32m-> 1131\u001b[0;31m         \u001b[0manswer\u001b[0m \u001b[0;34m=\u001b[0m \u001b[0mself\u001b[0m\u001b[0;34m.\u001b[0m\u001b[0mgateway_client\u001b[0m\u001b[0;34m.\u001b[0m\u001b[0msend_command\u001b[0m\u001b[0;34m(\u001b[0m\u001b[0mcommand\u001b[0m\u001b[0;34m)\u001b[0m\u001b[0;34m\u001b[0m\u001b[0m\n\u001b[0m\u001b[1;32m   1132\u001b[0m         return_value = get_return_value(\n\u001b[1;32m   1133\u001b[0m             answer, self.gateway_client, self.target_id, self.name)\n",
      "\u001b[0;32m/opt/spark/spark-2.1.0-bin-hadoop2.7/python/lib/py4j-0.10.4-src.zip/py4j/java_gateway.py\u001b[0m in \u001b[0;36msend_command\u001b[0;34m(self, command, retry, binary)\u001b[0m\n\u001b[1;32m    881\u001b[0m         \u001b[0mconnection\u001b[0m \u001b[0;34m=\u001b[0m \u001b[0mself\u001b[0m\u001b[0;34m.\u001b[0m\u001b[0m_get_connection\u001b[0m\u001b[0;34m(\u001b[0m\u001b[0;34m)\u001b[0m\u001b[0;34m\u001b[0m\u001b[0m\n\u001b[1;32m    882\u001b[0m         \u001b[0;32mtry\u001b[0m\u001b[0;34m:\u001b[0m\u001b[0;34m\u001b[0m\u001b[0m\n\u001b[0;32m--> 883\u001b[0;31m             \u001b[0mresponse\u001b[0m \u001b[0;34m=\u001b[0m \u001b[0mconnection\u001b[0m\u001b[0;34m.\u001b[0m\u001b[0msend_command\u001b[0m\u001b[0;34m(\u001b[0m\u001b[0mcommand\u001b[0m\u001b[0;34m)\u001b[0m\u001b[0;34m\u001b[0m\u001b[0m\n\u001b[0m\u001b[1;32m    884\u001b[0m             \u001b[0;32mif\u001b[0m \u001b[0mbinary\u001b[0m\u001b[0;34m:\u001b[0m\u001b[0;34m\u001b[0m\u001b[0m\n\u001b[1;32m    885\u001b[0m                 \u001b[0;32mreturn\u001b[0m \u001b[0mresponse\u001b[0m\u001b[0;34m,\u001b[0m \u001b[0mself\u001b[0m\u001b[0;34m.\u001b[0m\u001b[0m_create_connection_guard\u001b[0m\u001b[0;34m(\u001b[0m\u001b[0mconnection\u001b[0m\u001b[0;34m)\u001b[0m\u001b[0;34m\u001b[0m\u001b[0m\n",
      "\u001b[0;32m/opt/spark/spark-2.1.0-bin-hadoop2.7/python/lib/py4j-0.10.4-src.zip/py4j/java_gateway.py\u001b[0m in \u001b[0;36msend_command\u001b[0;34m(self, command)\u001b[0m\n\u001b[1;32m   1026\u001b[0m \u001b[0;34m\u001b[0m\u001b[0m\n\u001b[1;32m   1027\u001b[0m         \u001b[0;32mtry\u001b[0m\u001b[0;34m:\u001b[0m\u001b[0;34m\u001b[0m\u001b[0m\n\u001b[0;32m-> 1028\u001b[0;31m             \u001b[0manswer\u001b[0m \u001b[0;34m=\u001b[0m \u001b[0msmart_decode\u001b[0m\u001b[0;34m(\u001b[0m\u001b[0mself\u001b[0m\u001b[0;34m.\u001b[0m\u001b[0mstream\u001b[0m\u001b[0;34m.\u001b[0m\u001b[0mreadline\u001b[0m\u001b[0;34m(\u001b[0m\u001b[0;34m)\u001b[0m\u001b[0;34m[\u001b[0m\u001b[0;34m:\u001b[0m\u001b[0;34m-\u001b[0m\u001b[0;36m1\u001b[0m\u001b[0;34m]\u001b[0m\u001b[0;34m)\u001b[0m\u001b[0;34m\u001b[0m\u001b[0m\n\u001b[0m\u001b[1;32m   1029\u001b[0m             \u001b[0mlogger\u001b[0m\u001b[0;34m.\u001b[0m\u001b[0mdebug\u001b[0m\u001b[0;34m(\u001b[0m\u001b[0;34m\"Answer received: {0}\"\u001b[0m\u001b[0;34m.\u001b[0m\u001b[0mformat\u001b[0m\u001b[0;34m(\u001b[0m\u001b[0manswer\u001b[0m\u001b[0;34m)\u001b[0m\u001b[0;34m)\u001b[0m\u001b[0;34m\u001b[0m\u001b[0m\n\u001b[1;32m   1030\u001b[0m             \u001b[0;32mif\u001b[0m \u001b[0manswer\u001b[0m\u001b[0;34m.\u001b[0m\u001b[0mstartswith\u001b[0m\u001b[0;34m(\u001b[0m\u001b[0mproto\u001b[0m\u001b[0;34m.\u001b[0m\u001b[0mRETURN_MESSAGE\u001b[0m\u001b[0;34m)\u001b[0m\u001b[0;34m:\u001b[0m\u001b[0;34m\u001b[0m\u001b[0m\n",
      "\u001b[0;32m/usr/lib/python2.7/socket.pyc\u001b[0m in \u001b[0;36mreadline\u001b[0;34m(self, size)\u001b[0m\n\u001b[1;32m    449\u001b[0m             \u001b[0;32mwhile\u001b[0m \u001b[0mTrue\u001b[0m\u001b[0;34m:\u001b[0m\u001b[0;34m\u001b[0m\u001b[0m\n\u001b[1;32m    450\u001b[0m                 \u001b[0;32mtry\u001b[0m\u001b[0;34m:\u001b[0m\u001b[0;34m\u001b[0m\u001b[0m\n\u001b[0;32m--> 451\u001b[0;31m                     \u001b[0mdata\u001b[0m \u001b[0;34m=\u001b[0m \u001b[0mself\u001b[0m\u001b[0;34m.\u001b[0m\u001b[0m_sock\u001b[0m\u001b[0;34m.\u001b[0m\u001b[0mrecv\u001b[0m\u001b[0;34m(\u001b[0m\u001b[0mself\u001b[0m\u001b[0;34m.\u001b[0m\u001b[0m_rbufsize\u001b[0m\u001b[0;34m)\u001b[0m\u001b[0;34m\u001b[0m\u001b[0m\n\u001b[0m\u001b[1;32m    452\u001b[0m                 \u001b[0;32mexcept\u001b[0m \u001b[0merror\u001b[0m\u001b[0;34m,\u001b[0m \u001b[0me\u001b[0m\u001b[0;34m:\u001b[0m\u001b[0;34m\u001b[0m\u001b[0m\n\u001b[1;32m    453\u001b[0m                     \u001b[0;32mif\u001b[0m \u001b[0me\u001b[0m\u001b[0;34m.\u001b[0m\u001b[0margs\u001b[0m\u001b[0;34m[\u001b[0m\u001b[0;36m0\u001b[0m\u001b[0;34m]\u001b[0m \u001b[0;34m==\u001b[0m \u001b[0mEINTR\u001b[0m\u001b[0;34m:\u001b[0m\u001b[0;34m\u001b[0m\u001b[0m\n",
      "\u001b[0;31mKeyboardInterrupt\u001b[0m: "
     ]
    },
    {
     "name": "stdout",
     "output_type": "stream",
     "text": [
      "time: 3min 19s\n"
     ]
    }
   ],
   "source": [
    "cluster_to_sse_dict5 = {}\n",
    "for i in range(5, 70, 5):\n",
    "    print i, \n",
    "    r_obj = cluster_df(sumstats, cols_to_cluster, num_clusters=i,\\\n",
    "                   return_sse = True)\n",
    "    cluster_to_sse_dict5[i] = r_obj[3]"
   ]
  },
  {
   "cell_type": "code",
   "execution_count": null,
   "metadata": {
    "collapsed": false,
    "deletable": true,
    "editable": true
   },
   "outputs": [],
   "source": [
    "for k in sorted(cluster_to_sse_dict5):\n",
    "    print k, cluster_to_sse_dict5[k]"
   ]
  },
  {
   "cell_type": "code",
   "execution_count": null,
   "metadata": {
    "collapsed": false,
    "deletable": true,
    "editable": true
   },
   "outputs": [],
   "source": [
    "import matplotlib.pyplot as plt\n",
    "%matplotlib inline\n",
    "\n",
    "\n"
   ]
  },
  {
   "cell_type": "code",
   "execution_count": null,
   "metadata": {
    "collapsed": false,
    "deletable": true,
    "editable": true
   },
   "outputs": [],
   "source": [
    "for k in sorted(cluster_to_sse_dict5):\n",
    "    x = k\n",
    "    y = cluster_to_sse_dict5[k]\n",
    "    plt.scatter(x,y)\n",
    "plt.legend()\n",
    "plt.show()"
   ]
  },
  {
   "cell_type": "code",
   "execution_count": null,
   "metadata": {
    "collapsed": false,
    "deletable": true,
    "editable": true
   },
   "outputs": [],
   "source": [
    "#try with a K\n",
    "r_obj = cluster_df(sumstats, cols_to_cluster, num_clusters=5,\\\n",
    "                   return_sse = True)\n"
   ]
  },
  {
   "cell_type": "code",
   "execution_count": null,
   "metadata": {
    "collapsed": false,
    "deletable": true,
    "editable": true
   },
   "outputs": [],
   "source": [
    "kmodel = r_obj[0]\n",
    "df = r_obj[1]\n",
    "scale_model = r_obj[2]\n",
    "sse = r_obj[3]\n",
    "transformed_df = kmodel.transform(df)"
   ]
  },
  {
   "cell_type": "code",
   "execution_count": null,
   "metadata": {
    "collapsed": false,
    "deletable": true,
    "editable": true
   },
   "outputs": [],
   "source": [
    "print s_conf\n",
    "denormed_centers = denormalize_cluster(kmodel.clusterCenters(), scale_model)\n",
    "\n",
    "#df = pd.DataFrame.from_records(sales, columns=labels)\n",
    "pd.DataFrame.from_records(denormed_centers, columns = cols_to_cluster)\n",
    "#write out to csv to visualize better\n",
    "\n",
    "#kmodel.clusterCenters()"
   ]
  },
  {
   "cell_type": "code",
   "execution_count": null,
   "metadata": {
    "collapsed": false,
    "deletable": true,
    "editable": true
   },
   "outputs": [],
   "source": [
    "#count of predictions\n",
    "transformed_df.groupBy('prediction').count().orderBy('prediction').show()"
   ]
  },
  {
   "cell_type": "code",
   "execution_count": null,
   "metadata": {
    "collapsed": true,
    "deletable": true,
    "editable": true
   },
   "outputs": [],
   "source": []
  },
  {
   "cell_type": "code",
   "execution_count": 148,
   "metadata": {
    "collapsed": false,
    "deletable": true,
    "editable": true
   },
   "outputs": [
    {
     "name": "stdout",
     "output_type": "stream",
     "text": [
      "The autotime extension is already loaded. To reload it, use:\n",
      "  %reload_ext autotime\n",
      "time: 166 ms\n"
     ]
    }
   ],
   "source": [
    "#thread test\n",
    "from pyspark import SparkContext\n",
    "import numpy.random as rand\n",
    "import timeit\n",
    "from multiprocessing.pool import ThreadPool\n",
    "tpool = ThreadPool(processes=4)\n",
    "from pyspark.mllib.clustering import KMeans\n",
    "import numpy as np\n",
    "%load_ext autotime"
   ]
  },
  {
   "cell_type": "code",
   "execution_count": 149,
   "metadata": {
    "collapsed": false,
    "deletable": true,
    "editable": true
   },
   "outputs": [
    {
     "name": "stdout",
     "output_type": "stream",
     "text": [
      "time: 4.41 ms\n"
     ]
    }
   ],
   "source": [
    "def error(point, clusters):\n",
    "    center = clusters.centers[clusters.predict(point)]\n",
    "    return np.linalg.norm(point - center)\n",
    "\n",
    "def calc_wssse(i):\n",
    "    clusters = KMeans.train(c_points, i, maxIterations=20,\n",
    "        runs=20, initializationMode=\"random\")\n",
    "    WSSSE = c_points\\\n",
    "        .map(lambda point: error(point, clusters))\\\n",
    "        .reduce(lambda x, y: x + y)\n",
    "    return (i, WSSSE)"
   ]
  },
  {
   "cell_type": "code",
   "execution_count": 153,
   "metadata": {
    "collapsed": false,
    "deletable": true,
    "editable": true
   },
   "outputs": [
    {
     "name": "stdout",
     "output_type": "stream",
     "text": [
      "time: 60.4 ms\n"
     ]
    }
   ],
   "source": [
    "c_points = sc.parallelize([rand.randint(10, size=12) for i in range(10000)])"
   ]
  },
  {
   "cell_type": "code",
   "execution_count": 154,
   "metadata": {
    "collapsed": false,
    "deletable": true,
    "editable": true
   },
   "outputs": [
    {
     "name": "stdout",
     "output_type": "stream",
     "text": [
      "time: 33.4 s\n"
     ]
    }
   ],
   "source": [
    "for i in range(1,30):\n",
    "    calc_wssse(i)"
   ]
  },
  {
   "cell_type": "code",
   "execution_count": 155,
   "metadata": {
    "collapsed": false,
    "deletable": true,
    "editable": true
   },
   "outputs": [
    {
     "name": "stdout",
     "output_type": "stream",
     "text": [
      "time: 19.9 s\n"
     ]
    }
   ],
   "source": [
    "wssse_points = tpool.map(calc_wssse, range(1,30))\n"
   ]
  },
  {
   "cell_type": "code",
   "execution_count": null,
   "metadata": {
    "collapsed": true,
    "deletable": true,
    "editable": true
   },
   "outputs": [],
   "source": []
  },
  {
   "cell_type": "code",
   "execution_count": null,
   "metadata": {
    "collapsed": true,
    "deletable": true,
    "editable": true
   },
   "outputs": [],
   "source": []
  },
  {
   "cell_type": "markdown",
   "metadata": {
    "collapsed": true,
    "deletable": true,
    "editable": true
   },
   "source": [
    " # custering section 2"
   ]
  },
  {
   "cell_type": "code",
   "execution_count": null,
   "metadata": {
    "collapsed": true,
    "deletable": true,
    "editable": true
   },
   "outputs": [],
   "source": [
    "#define columns to cluster on (they will be normalized)\n",
    "#cols_to_cluster = ['avg_\"heart_rate\"', 'avg_\"speed\"', 'avg_\"altitude\"']\n",
    "#create summary stats for workouts\n",
    "\n",
    "s_conf = [{'elapsed_time': 'max'}, {'geo_distance': 'sum'}, \\\n",
    "          {'heart_rate':'avg'}, {'speed':'avg'}]\n",
    "\n",
    "obj = SummaryStat(df_runs, summary_conf=s_conf)\n",
    "#obj = SummaryStat(sub_df, summary_conf=s_conf)\n",
    "\n",
    "#obj.describe()\n",
    "sumstats = obj.generate_summary()\n",
    "cols_to_cluster = obj.get_new_col_names()\n",
    "print cols_to_cluster\n",
    "sumstats.show()\n",
    "sumstats.count()\n",
    "#clusters = cluster_df(sumstats, cols_to_cluster, 5)\n",
    "#clusters.clusterCenters\n",
    "\n",
    "#rid nulls\n",
    "sumstats = sumstats.na.drop()"
   ]
  }
 ],
 "metadata": {
  "kernelspec": {
   "display_name": "Python 2",
   "language": "python",
   "name": "python2"
  },
  "language_info": {
   "codemirror_mode": {
    "name": "ipython",
    "version": 2
   },
   "file_extension": ".py",
   "mimetype": "text/x-python",
   "name": "python",
   "nbconvert_exporter": "python",
   "pygments_lexer": "ipython2",
   "version": "2.7.12"
  }
 },
 "nbformat": 4,
 "nbformat_minor": 2
}
