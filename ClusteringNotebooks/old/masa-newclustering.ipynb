{
 "cells": [
  {
   "cell_type": "code",
   "execution_count": 1,
   "metadata": {
    "collapsed": false,
    "deletable": true,
    "editable": true
   },
   "outputs": [],
   "source": [
    "import time\n",
    "from datetime import datetime\n",
    "sc = SparkContext.getOrCreate()\n",
    "from pyspark.sql.functions import desc\n",
    "#traces\n",
    "import pandas as pd\n",
    "import numpy as np\n",
    "import re\n",
    "import sys\n",
    "import math\n",
    "#for ordered dict for traces implementation\n",
    "from collections import OrderedDict\n",
    "#from pyspark.sql.types import VectorUDT\n",
    "from pyspark.sql.types import FloatType\n",
    "from pyspark.sql.types import StringType\n",
    "\n",
    "from pyspark.sql.functions import udf\n",
    "\n",
    "from datetime import datetime\n",
    "from datetime import timedelta\n",
    "#import sources.endomondolib as endo\n",
    "#import sources.pysparkconvenience as ps\n",
    "from numpy import array\n",
    "from math import sqrt\n",
    "from pyspark.sql.types import DoubleType\n",
    "#for timedelta manipulation\n",
    "from math import fabs\n",
    "\n",
    "from pyspark.sql import Row\n",
    "\n",
    "#kmeans\n",
    "#from pyspark.mllib.clustering import KMeans, KMeansModel\n",
    "#from pyspark.mllib.linalg import Vectors\n",
    "#from pyspark.ml.linalg import Vectors\n",
    "from pyspark.ml.feature import VectorAssembler\n",
    "\n",
    "from  pyspark.ml.feature import MinMaxScaler\n",
    "from pyspark.ml.linalg import Vectors, VectorUDT\n",
    "\n",
    "\n",
    "from pyspark.sql.functions import *\n",
    "#from pyspark.mllib.clustering import KMeans, KMeansModel\n",
    "from pyspark.ml.clustering import KMeans, KMeansModel\n",
    "from pyspark.ml.clustering import BisectingKMeans\n",
    "from pyspark.sql import DataFrameReader\n",
    "from pyspark.sql import DataFrame\n",
    "from pyspark.sql.functions import count\n",
    "from pyspark.sql.window import Window\n",
    "from pyspark.sql import SQLContext\n",
    "from IPython.display import display, HTML\n",
    "from pyspark.sql.functions import col\n",
    "#from pyspark.mllib.linalg import Vectors\n",
    "from pyspark.sql import HiveContext\n",
    "from pyspark.ml.feature import VectorAssembler\n",
    "\n",
    "# Disable warnings, set Matplotlib inline plotting and load Pandas package\n",
    "import warnings\n",
    "warnings.filterwarnings('ignore')\n",
    "\n",
    "%matplotlib inline\n",
    "pd.options.display.mpl_style = 'default'\n",
    "\n",
    "from pyspark.ml.feature import StandardScaler\n",
    "\n",
    "from pyspark import SparkContext\n",
    "#sc =SparkContext()\n",
    "\n",
    "\n",
    "pyspark_submit_args = os.environ.get(\"PYSPARK_SUBMIT_ARGS\", \"\")\n",
    "if not \"pyspark-shell\" in pyspark_submit_args: pyspark_submit_args += \" pyspark-shell\"\n",
    "os.environ[\"PYSPARK_SUBMIT_ARGS\"] = pyspark_submit_args\n",
    "\n",
    "#%load_ext autotime\n",
    "from pyspark.sql import SQLContext\n",
    "sqlContext = SQLContext(sc)\n",
    "\n",
    "#del min\n",
    "#del max\n",
    "\n",
    "data_users='/Users/momori/dse/maomori/thesis/git/fitness_capstone/data/run_with_hr_users.csv'\n",
    "\n",
    "sqlContext = HiveContext(sc)\n",
    "\n"
   ]
  },
  {
   "cell_type": "code",
   "execution_count": 2,
   "metadata": {
    "collapsed": false,
    "deletable": true,
    "editable": true
   },
   "outputs": [],
   "source": [
    "%load_ext autotime\n",
    "from functools import reduce\n",
    "from pyspark.sql import DataFrame\n",
    "\n",
    "def unionAll(*dfs):\n",
    "    return reduce(DataFrame.unionAll, dfs)"
   ]
  },
  {
   "cell_type": "code",
   "execution_count": 3,
   "metadata": {
    "collapsed": false,
    "deletable": true,
    "editable": true
   },
   "outputs": [
    {
     "name": "stdout",
     "output_type": "stream",
     "text": [
      "time: 6.92 ms\n"
     ]
    }
   ],
   "source": [
    "def df_from_csv(csv_file):\n",
    "    text = sc.textFile(csv_file)\\\n",
    "        .map(lambda line: line.split(\",\"))\n",
    "    #didn't work with take(1). believe returns \n",
    "    #different object then first()\n",
    "    schema = text.first()\n",
    "    data = text.filter(lambda x: x != schema)\n",
    "    df = sqlContext.createDataFrame(data, schema)\n",
    "    return df\n",
    "\n",
    "def fix_df(df):\n",
    "    return df.rdd.toDF(df.schema.names)\n",
    "\n",
    "\n",
    "def change_column_names(df, old_names, new_names):\n",
    "    pass\n",
    "    return df;"
   ]
  },
  {
   "cell_type": "code",
   "execution_count": 4,
   "metadata": {
    "collapsed": false,
    "deletable": true,
    "editable": true
   },
   "outputs": [
    {
     "name": "stdout",
     "output_type": "stream",
     "text": [
      "time: 2.57 ms\n"
     ]
    }
   ],
   "source": [
    "#df_from_csv('f_cluster.csv')"
   ]
  },
  {
   "cell_type": "code",
   "execution_count": 5,
   "metadata": {
    "collapsed": false,
    "deletable": true,
    "editable": true
   },
   "outputs": [
    {
     "name": "stdout",
     "output_type": "stream",
     "text": [
      "time: 93.3 ms\n"
     ]
    }
   ],
   "source": [
    "#minMaxScaler wrapper since originalMin/Max is only implemented in 2.0\n",
    "class scaler_wrapper():\n",
    "    mmModel = ''\n",
    "    originalMin = ''\n",
    "    originalMax = ''   \n",
    "    uf = udf(lambda x: 'new_value', StringType())\n",
    "    s_udf = udf(lambda value: value*self.mmModel.getWithStd() + self.mmModel.getWithMean())\n",
    "    scale = 1\n",
    "    \n",
    "    \n",
    "    def __init__(self, inputCol, outputCol, s_min = 0, s_max = 0):\n",
    "        #self.mmModel = MinMaxScaler(inputCol=inputCol, outputCol=outputCol)\n",
    "        self.mmModel = StandardScaler(inputCol=inputCol, outputCol=outputCol)\n",
    "        self.mmModel.setWithMean(True)\n",
    "        #self.mmModel.setMin(s_min)\n",
    "        #self.mmModel.setMax(s_max)\n",
    "        self.in_column = inputCol\n",
    "        self.scale = s_max;\n",
    "        \n",
    "    def get_input_col_name(self):\n",
    "        return self.mmModel.getInputCol()\n",
    "\n",
    "    def getMax(self):\n",
    "        return self.mmModel.getMax()\n",
    "    \n",
    "    def getMin(self):\n",
    "        return self.mmModel.getMin()\n",
    "    \n",
    "    def describe(self):\n",
    "        print 'describe'\n",
    "    \n",
    "    def fit(self, df):\n",
    "        col = self.mmModel.getInputCol()\n",
    "        #self.originalMin = df.select(col).rdd.flatMap(lambda x: x[0]).min()\n",
    "        #self.originalMax = df.select(col).rdd.flatMap(lambda x: x[0]).max()\n",
    "        return self.mmModel.fit(df)\n",
    "    \n",
    "    #denormalize the value\n",
    "    def denormalize(self, value):\n",
    "        #udf = UserDefinedFunction(lambda x: 'new_value', StringType())\n",
    "        print 'deno'\n",
    "        return 5\n",
    "        #return value*self.mmModel.getWithStd() + self.mmModel.getWithMean()\n",
    "        #return 0\n",
    "        #v = (value-self.getMin())*\\\n",
    "        #    (self.originalMax - self.originalMin)*\\\n",
    "        #    (self.getMax()-self.getMin()) + self.originalMin\n",
    "        #if v or v == 0:\n",
    "        #    return v\n",
    "        #else:\n",
    "        #    return -999\n",
    "        \n",
    "    def denormalize_df(self, df):\n",
    "        col = self.mmModel.getInputCol()\n",
    "        print col\n",
    "        \n",
    "        \n",
    "    def normalize(self, value):\n",
    "        pass"
   ]
  },
  {
   "cell_type": "code",
   "execution_count": 6,
   "metadata": {
    "collapsed": false,
    "deletable": true,
    "editable": true
   },
   "outputs": [
    {
     "data": {
      "text/plain": [
       "<pyspark.context.SparkContext at 0x7feba2538210>"
      ]
     },
     "execution_count": 6,
     "metadata": {},
     "output_type": "execute_result"
    },
    {
     "name": "stdout",
     "output_type": "stream",
     "text": [
      "time: 3.13 ms\n"
     ]
    }
   ],
   "source": [
    "sc"
   ]
  },
  {
   "cell_type": "code",
   "execution_count": 45,
   "metadata": {
    "collapsed": false,
    "deletable": true,
    "editable": true
   },
   "outputs": [
    {
     "name": "stdout",
     "output_type": "stream",
     "text": [
      "time: 1.11 s\n"
     ]
    }
   ],
   "source": [
    "#calculate sse\n",
    "def compute_sse(a,b):\n",
    "    total = 0\n",
    "    if len(a) != len(b):\n",
    "        print 'bad input'\n",
    "        return 99999\n",
    "    else:\n",
    "        for i in range(len(a)):\n",
    "            total += math.pow(float(a[i])-float(b[i]),2)\n",
    "    return math.sqrt(total)\n",
    "\n",
    "def change_type_col_double(df, col):\n",
    "    df = df.withColumn(col, df[col].cast(\"double\"))\n",
    "    return df.na.fill(0)\n",
    "\n",
    "#change column type\n",
    "def change_type_cols_double(df, list_cols):\n",
    "    for col_name in list_cols:\n",
    "        df = df.withColumn(col_name, df[col_name].cast(\"float\"))\n",
    "    return df.na.fill(0)\n",
    "\n",
    "def normalize_vectorize_df(df, list_cols, scale_dict={}):\n",
    "    n_df = vectorize_columns(df, list_cols)\n",
    "    n_df, scalerModels = normalize_df(n_df, list_cols, scale_dict)\n",
    "    return n_df, scalerModels\n",
    "#vectorize the column\n",
    "#keeps the original name\n",
    "def vectorize_columns(df, list_cols, debug=False):\n",
    "    a = datetime.now()\n",
    "    tmp_col_name = 'temp'\n",
    "    for col_name in list_cols:\n",
    "        vectorize = udf(lambda vs: Vectors.dense(vs), VectorUDT())\n",
    "        df = df.withColumn(tmp_col_name, vectorize(df[col_name])).drop(col_name)\\\n",
    "            .withColumnRenamed(tmp_col_name, col_name)\n",
    "    b = datetime.now()\n",
    "    print 'vectorize done in:', b-a\n",
    "    return df\n",
    "\n",
    "##scaler wrapper usage\n",
    "#generate normalized dataframe\n",
    "#keep the original column names\n",
    "#returns:\n",
    "#   (df, {col_name:scalerModel, col_name:scalerModel,....})\n",
    "def normalize_df_old(df, list_cols, scale_dict = {}, debug=False):\n",
    "    tmp_col_name = 'temp'\n",
    "    r_dict = {}\n",
    "    index = 0\n",
    "    for col_name in list_cols:\n",
    "        if debug:\n",
    "            print '------- normalize ', col_name,'-------'\n",
    "        a = datetime.now()\n",
    "        scale_value = 1\n",
    "        if col_name in scale_dict:\n",
    "            scale_value = scale_dict[col_name]\n",
    "            print scale_value\n",
    "        #scaler is the wrapper instance\n",
    "        scaler = scaler_wrapper(inputCol=col_name, outputCol=tmp_col_name, s_max = scale_value)\n",
    "        scalerModel = scaler.fit(df)\n",
    "        b = datetime.now()\n",
    "        if debug:\n",
    "            print b-a\n",
    "        df = scalerModel.transform(df).drop(col_name)\\\n",
    "            .withColumnRenamed(tmp_col_name, col_name)\n",
    "        #r_dict[col_name] = scaler\n",
    "        r_dict[index] = scaler\n",
    "        c =datetime.now()\n",
    "        if debug:\n",
    "            print c-b\n",
    "        index+=1\n",
    "    return df, r_dict\n",
    "\n",
    "\n",
    "#   (df, {col_name:scalerModel, col_name:scalerModel,....})\n",
    "def normalize_df(df, list_cols, scale_dict = {}, debug=False):\n",
    "    tmp_col_name = 'temp'\n",
    "    #print 'masa1', df.select(['geo_distance','diff_altitude','workoutid']).describe().show(10,False)\n",
    "\n",
    "    r_dict = {}\n",
    "    index = 0\n",
    "    for col_name in list_cols:\n",
    "        if debug:\n",
    "            print '------- normalize ', col_name,'-------'\n",
    "        a = datetime.now()\n",
    "        scale_value = 1\n",
    "        if col_name in scale_dict:\n",
    "            scale_value = scale_dict[col_name]\n",
    "            print scale_value\n",
    "        #scaler is the wrapper instance\n",
    "        scaler = scaler_wrapper(inputCol=col_name, outputCol=tmp_col_name, s_max = scale_value)\n",
    "        scalerModel = scaler.fit(df)\n",
    "        b = datetime.now()\n",
    "        if debug:\n",
    "            print b-a\n",
    "        df = scalerModel.transform(df).drop(col_name)\\\n",
    "            .withColumnRenamed(tmp_col_name, col_name)\n",
    "        #take out values based on std\n",
    "        #print df.show()\n",
    "        df = df.withColumn(col_name, unvector(df[col_name]))\n",
    "        df = df.filter(df[col_name]<3)\n",
    "\n",
    "        \n",
    "        r_dict[col_name] = scalerModel\n",
    "        c =datetime.now()\n",
    "        if debug:\n",
    "            print c-b\n",
    "        index+=1\n",
    "    return df, r_dict\n",
    "\n",
    "\n",
    "# MinMaxScaler doesn't have originalMin(only supported in 2.0). made one above cell with wrapper class\n",
    "# #generate normalized dataframe\n",
    "# #keep the original column names\n",
    "# #returns:\n",
    "# #   (df, {col_name:scalerModel, col_name:scalerModel,....})\n",
    "# def normalize_df(df, list_cols):\n",
    "#     tmp_col_name = 'temp'\n",
    "#     r_dict = {}\n",
    "#     for col_name in list_cols:\n",
    "#         scaler = MinMaxScaler(inputCol=col_name, outputCol=tmp_col_name)\n",
    "#         scalerModel = scaler.fit(df)\n",
    "#         df = scalerModel.transform(df).drop(col_name)\\\n",
    "#             .withColumnRenamed(tmp_col_name, col_name)\n",
    "#         r_dict[col_name] = [scaler, scalerModel]\n",
    "#     return df, r_dict\n",
    "\n",
    "#input: (MLLIB KMEANS)\n",
    "#   cols_to_cluster: list of column names to cluster\n",
    "# def cluster_summary_df(df, cols_to_cluster, num_clusters = 2):\n",
    "#     vecAssembler = VectorAssembler(inputCols=cols_to_cluster,\\\n",
    "#         outputCol='features')\n",
    "#     df_to_cluster = vecAssembler.transform(df.na.fill(0))\n",
    "#     df_to_cluster = df_to_cluster.select('features')\n",
    "#     df_to_cluster = df_to_cluster.rdd\\\n",
    "#         .map(lambda row : Vectors.dense([item for item in row]))\n",
    "#     clusters = KMeans.train(df_to_cluster, num_clusters,\\\n",
    "#                            maxIterations = 10,\\\n",
    "#                         initializationMode=\"random\")\n",
    "    \n",
    "#     return clusters\n",
    "\n",
    "\n",
    "# #create feature column from list of cols\n",
    "# def create_feature_column(df, cols_to_cluster):\n",
    "#     #make dup columns of the ones that will be vectorized\n",
    "#     normalized_names = [i+'_n' for i in cols_to_cluster]\n",
    "    \n",
    "#     norm_and_woutid = [i+'_n' for i in cols_to_cluster]\n",
    "#     norm_and_woutid.append('workoutid')\n",
    "\n",
    "#     normalized_df = df\n",
    "    \n",
    "#     for c in range(len(cols_to_cluster)):\n",
    "#         normalized_df = normalized_df.withColumnRenamed(\\\n",
    "#                         cols_to_cluster[c], normalized_names[c])\n",
    "#     normalized_df = normalized_df.select(norm_and_woutid)\n",
    "\n",
    "    \n",
    "#     df = df.join(normalized_df, (df['workoutid']==normalized_df['workoutid']),\\\n",
    "#                 'inner').drop(normalized_df['workoutid'])\n",
    "#     #df = df.crossJoin(normalized_df)\n",
    "#     vecAssembler = VectorAssembler(inputCols=normalized_names,\\\n",
    "#         outputCol='features')\n",
    "\n",
    "#     df_to_cluster = vecAssembler.transform(df.na.fill(0))\n",
    "\n",
    "#     #normed_df = df_to_cluster.select(normalized_names)\n",
    "#     return df_to_cluster   \n",
    "    \n",
    "def create_feature_column(df, cols_to_cluster):\n",
    "    vecAssembler = VectorAssembler(inputCols=cols_to_cluster,\\\n",
    "        outputCol='features')\n",
    "\n",
    "    df_to_cluster = vecAssembler.transform(df.na.fill(0))\n",
    "    \n",
    "    #normed_df = df_to_cluster.select(normalized_names)\n",
    "    return df_to_cluster   \n",
    "    \n",
    "    \n",
    "    \n",
    "#ML KMEANS\n",
    "#returns KMeanModel, df_to_cluster\n",
    "def cluster_summary_df(df, cols_to_cluster, num_clusters = 2, init_var=True, bisectingKMean = True,\\\n",
    "                      debug = False):\n",
    "   \n",
    "\n",
    "#     #make dup columns of the ones that will be vectorized\n",
    "#     normalized_names = [i+'_n' for i in cols_to_cluster]\n",
    "    \n",
    "#     norm_and_woutid = [i+'_n' for i in cols_to_cluster]\n",
    "#     norm_and_woutid.append('workoutid')\n",
    "#     #make copy\n",
    "#     a = datetime.now()\n",
    "#     normalized_df = df\n",
    "    \n",
    "#     b = datetime.now()\n",
    "#     print b-a , 'df copy'\n",
    "    \n",
    "#     for c in range(len(cols_to_cluster)):\n",
    "#         normalized_df = normalized_df.withColumnRenamed(\\\n",
    "#                         cols_to_cluster[c], normalized_names[c])\n",
    "#     normalized_df = normalized_df.select(norm_and_woutid)\n",
    "\n",
    "    \n",
    "#     df = df.join(normalized_df, (df['workoutid']==normalized_df['workoutid']),\\\n",
    "#                 'inner').drop(normalized_df['workoutid'])\n",
    "#     #df = df.crossJoin(normalized_df)\n",
    "#     vecAssembler = VectorAssembler(inputCols=normalized_names,\\\n",
    "#         outputCol='features')\n",
    "\n",
    "#     df_to_cluster = vecAssembler.transform(df.na.fill(0))\n",
    "\n",
    "#     normed_df = df_to_cluster.select(normalized_names)\n",
    "    \n",
    "    \n",
    "#    df_to_cluster = df_to_cluster.select(['workoutid','features'])\n",
    "    #df_to_cluster = df_to_cluster.rdd\\\n",
    "     #   .map(lambda row : Vectors.dense([item for item in row]))\n",
    "    #print df.count(), 'masa3'\n",
    "    df_to_cluster = create_feature_column(df, cols_to_cluster)\n",
    "    #print df_to_cluster.count(), 'masa4'\n",
    "    #print 'clustering df on', df_to_cluster.select(cols_to_cluster + ['features']).describe().show()\n",
    "        \n",
    "    if not bisectingKMean:\n",
    "        if not init_var:\n",
    "            kmeans = KMeans(k=num_clusters, seed=1, initMode=\"random\",\\\n",
    "                           featuresCol=cols_to_cluster)\n",
    "        else:\n",
    "            \n",
    "            kmeans = BisectingKMeans().setK(num_clusters)#.setMinDivisibleClusterSize(10)\n",
    "\n",
    "    else:\n",
    "        #kmeans = KMeans(k=num_clusters, initMode=\"k-means||\")\n",
    "        kmeans = KMeans(k=num_clusters)\n",
    "\n",
    "    #print df_to_cluster.show()\n",
    "    df_to_cluster = df_to_cluster.repartition(30)\n",
    "    \n",
    "    a = datetime.now()\n",
    "    model = kmeans.fit(df_to_cluster)\n",
    "    \n",
    "    b = datetime.now()\n",
    "    if debug:\n",
    "        print 'clustering in ', b-a\n",
    "    return model, df_to_cluster\n",
    "\n",
    "\n",
    "\n",
    "# def cluster_summary_df(df, cols_to_cluster, num_clusters = 2, init_var=False):\n",
    "#     #make dup columns of the ones that will be vectorized\n",
    "#     normalized_names = [i+'_n' for i in cols_to_cluster]\n",
    "    \n",
    "#     norm_and_woutid = [i+'_n' for i in cols_to_cluster]\n",
    "#     norm_and_woutid.append('workoutid')\n",
    "#     #make copy\n",
    "#     a = datetime.now()\n",
    "#     normalized_df = df.copy()\n",
    "    \n",
    "#     b = datetime.now()\n",
    "#     print b-a , 'df copy'\n",
    "    \n",
    "#     for c in range(len(cols_to_cluster)):\n",
    "#         normalized_df = normalized_df.withColumnRenamed(\\\n",
    "#                         cols_to_cluster[c], normalized_names[c])\n",
    "#     normalized_df = normalized_df.select(norm_and_woutid)\n",
    "\n",
    "    \n",
    "#     df = df.join(normalized_df, (df['workoutid']==normalized_df['workoutid']),\\\n",
    "#                 'inner').drop(normalized_df['workoutid'])\n",
    "#     #df = df.crossJoin(normalized_df)\n",
    "#     vecAssembler = VectorAssembler(inputCols=normalized_names,\\\n",
    "#         outputCol='features')\n",
    "\n",
    "#     df_to_cluster = vecAssembler.transform(df.na.fill(0))\n",
    "\n",
    "#     normed_df = df_to_cluster.select(normalized_names)\n",
    "    \n",
    "    \n",
    "# #    df_to_cluster = df_to_cluster.select(['workoutid','features'])\n",
    "#     #df_to_cluster = df_to_cluster.rdd\\\n",
    "#      #   .map(lambda row : Vectors.dense([item for item in row]))\n",
    "        \n",
    "#     print 'clustering times'\n",
    "#     a = datetime.now()\n",
    "#     if not init_var:\n",
    "#         kmeans = KMeans(k=num_clusters, seed=1, initMode=\"random\",\\\n",
    "#                        featuresCol=cols_to_cluster)\n",
    "#     else:\n",
    "#         kmeans = KMeans(k=num_clusters, seed=1, initMode=\"k-means||\")\n",
    "#     b = datetime.now()\n",
    "#     print b - a\n",
    "    \n",
    "#     model = kmeans.fit(df_to_cluster)\n",
    "    \n",
    "#     c = datetime.now()\n",
    "#     print c - b\n",
    "#     return model, df_to_cluster\n",
    "\n",
    "def scale_df(df, scale_dict):\n",
    "    for k,v in scale_dict.iteritems():\n",
    "        col = k\n",
    "        scale = v\n",
    "        df = df.withColumn(col, df[col] * scale)\n",
    "    return df\n",
    "    \n",
    "\n",
    "\n",
    "#returns clusters. show cluster centerse by clusters.clusterCenters.\n",
    "#output:\n",
    "#   [0]: KMeanModel\n",
    "#   [1]: DF that will be denormalized\n",
    "#   [2]: ScalerModels\n",
    "#   [3]: error\n",
    "#   [4]: DF with features\n",
    "def cluster_df(df, cols_to_normalize, num_clusters = 2, return_sse = True, cols_to_cluster = [], init_var=True,\\\n",
    "              scale_dict = {}, bisectingKMean = True, debug = False):\n",
    "    print 'cluster start'\n",
    "    if not cols_to_cluster:\n",
    "        cols_to_cluster = cols_to_normalize\n",
    "    df = change_type_cols_double(df, cols_to_normalize)\n",
    "    #print 'masa2', df.select(['geo_distance','diff_altitude','workoutid']).describe().show(10,False)\n",
    "    df = vectorize_columns(df, cols_to_normalize, debug)\n",
    "    #print 'masa3', df.select(['geo_distance','diff_altitude','workoutid']).describe().show(10,False)\n",
    "    df, scalerModels = normalize_df(df, cols_to_cluster, scale_dict, debug)\n",
    "    #print 'masa4', df.select(['geo_distance','diff_altitude','workoutid']).describe().show(10,False)\n",
    "    \n",
    "    unscaled_df = df\n",
    "    \n",
    "    #print 'before scaling*****', df.select(cols_to_cluster).describe().show()\n",
    "\n",
    "    \n",
    "    df = scale_df(df, scale_dict)\n",
    "    \n",
    "    \n",
    "    \n",
    "    ##*******************\n",
    "    #df is object to cluster. if creating kmean models off of subset of cluster, \n",
    "    #make subset here\n",
    "    \n",
    "    ##*******************\n",
    "    #print 'after scaling*****', df.select(cols_to_cluster).describe().show()\n",
    "    \n",
    "    r_obj = cluster_summary_df(df, cols_to_cluster, num_clusters, init_var, bisectingKMean, \\\n",
    "                              debug)\n",
    "    sse = 'none'\n",
    "    if return_sse:\n",
    "        #calculate SSE for this kmean model\n",
    "        kmodel = r_obj[0]\n",
    "        centers = kmodel.clusterCenters()\n",
    "        df_to_cluster = r_obj[1]\n",
    "        centers = kmodel.clusterCenters()\n",
    "        prediction_df = kmodel.transform(df_to_cluster)\n",
    "        #print centers\n",
    "        #print df_to_cluster.select(cols_to_cluster).describe().show()\n",
    "    \n",
    "        #set up rdd\n",
    "        #rdd = prediction_df.rdd.map(lambda (a,b):\\\n",
    "        #                           (a, centers[b]))\n",
    "        rdd = prediction_df.select(['features','prediction']).\\\n",
    "            rdd.map(lambda(a,b): (a, ret_cluster_center(centers, b)))\n",
    "        \n",
    "        \n",
    "        sse = rdd.map(lambda (a,b): compute_sse(a,b)).sum()\n",
    "    return r_obj[0], df, scalerModels, sse, r_obj[1], unscaled_df\n",
    "    #return r_obj[0], r_obj[1], scalerModels, sse\n",
    "\n",
    "def denormalize_centers(list_centers, scaler_models):\n",
    "    new_centers = []\n",
    "    for center in list_centers:\n",
    "        n_center = []\n",
    "        for c in range(len(center)):\n",
    "            n_center.append(scaler_models[c].denormalize(center[c]))\n",
    "        new_centers.append(n_center)\n",
    "    return new_centers\n",
    "\n",
    "\n",
    "#minmax\n",
    "# def denormalize_cluster(cluster_centers, list_scaler_models):\n",
    "#     r_centers = []\n",
    "#     for center in cluster_centers:\n",
    "#         r_center = []\n",
    "#         for index in range(len(center)):\n",
    "#             s_model = list_scaler_models[index]\n",
    "#             r_center.append(s_model.denormalize(center[index]))\n",
    "#         r_centers.append(r_center)\n",
    "#     return r_centers\n",
    "\n",
    "\n",
    "def denormalize_cluster(cluster_centers, list_scaler_models, columns):\n",
    "    r_centers = []\n",
    "    length = len(columns)\n",
    "    for center in cluster_centers:\n",
    "        r_center = []\n",
    "        print center\n",
    "        denormed_center = [0]*length\n",
    "        \n",
    "        #for each scaler models, get index in columns and denorm\n",
    "        for k,v in list_scaler_models.iteritems():\n",
    "            col_name = k\n",
    "            model = v\n",
    "            index = columns.index(col_name)\n",
    "            #print index, 'masa2'\n",
    "            denormed_center[index] = center[index]*model.std+model.mean\n",
    "        r_centers.append(denormed_center)\n",
    "        \n",
    "#         for index in range(len(center)):\n",
    "#             s_model = list_scaler_models[index]\n",
    "#             #model = s_model.mmModel\n",
    "#             denormed_val = center[index]*s_model.std+s_model.mean\n",
    "#             r_center.append(denormed_val)\n",
    "#         r_centers.append(r_center)\n",
    "    return r_centers\n",
    "\n",
    "def get_distribution_of_workouts(transformed_df):\n",
    "    #count of predictions\n",
    "    return transformed_df.groupBy('prediction').count().orderBy('prediction')\n",
    "\n",
    "#transform (add prediction column) to the dataframe based on the kmeamodel input\n",
    "def transform_df_with_kmeamodel(kmeanModel, df, cols_to_cluster, scale_dict={}):\n",
    "    #need to vectorize and normalize the df\n",
    "    df_to_transform, scalerModels = normalize_vectorize_df(big_sumstats, cols_to_cluster, scale_dict)\n",
    "    df_to_transform = create_feature_column(df_to_transform, cols_to_cluster)\n",
    "    return kmeanModel.transform(df_to_transform), scalerModels\n",
    "\n",
    "\n",
    "\n",
    "#\n",
    "def vectorizeData(data):\n",
    "    return data.rdd.map(lambda r: [r[0], r[1], r[2], Vectors.dense(r[3:6]), r[7]]).toDF([\\\n",
    "            'prediction', 'userid', 'workoutid', 'label', 'max_elapsed_time'])\n",
    "\n",
    "# total_df= fix_df(sumstats.join(prediction_df.select('workoutid','prediction'), \\\n",
    "#                                sumstats['workoutid']==prediction_df['workoutid'],'inner').\\\n",
    "#                             drop(prediction_df['workoutid']))\n",
    "\n",
    "def denorm_df_with_standarscaler(dict_scalerModels, df):\n",
    "    for k,v in dict_scalerModels.iteritems():\n",
    "        #print '--denorm ', k, '--'\n",
    "        col_name = k\n",
    "        scaler = v\n",
    "        mean = float(scaler.mean[0])\n",
    "        std = float(scaler.std[0])\n",
    "        denorm_udf = udf(lambda value: value*std + mean, FloatType())\n",
    "        df = df.withColumn(col_name, denorm_udf(df[col_name]))\n",
    "    return df\n",
    "    \n",
    "#     mean = float(scalerModel.mean[0])\n",
    "#     std = float(scalerModel.std[0])\n",
    "#     denorm_udf = udf(lambda value: value*std + mean, FloatType())\n",
    "#     return df.withColumn()\n",
    "    \n",
    "    \n",
    "    \n",
    "    \n",
    "#     def test(scaler, df):\n",
    "#     dist_scaler = scaler\n",
    "#     print df.describe().show(10,False)\n",
    "#     #nd = df.withColumn('geo_distance', dist_scaler.s_udf(df['geo_distance']))\n",
    "#     mean = float(dist_scaler.mean[0])\n",
    "#     std = float(dist_scaler.std[0])\n",
    "#     print mean,std\n",
    "#     denorm_udf = udf(lambda value: value*std + mean, FloatType())\n",
    "#     #denorm_udf = udf(lambda value: value*std, FloatType())\n",
    "\n",
    "#     #denorm_udf = udf(lambda x: 'new_value', StringType())\n",
    "\n",
    "#     r_df = df.withColumn('geo_distance', denorm_udf(df['geo_distance']))\n",
    "\n",
    "def ret_cluster_center(centers, index):\n",
    "    return centers[index]\n",
    "\n",
    "\n",
    "def filter_data(df):\n",
    "    df = df.filter(df['elapsed_time']<21600).filter(df['elapsed_time'] > 499)\n",
    "    df = df.filter(df['geo_distance'] > 0)\n",
    "    #df = df.filter(df['diff_altitude']<5300)\n",
    "    df = df.withColumn('diff_altitude', when(df['diff_altitude']<500, df['diff_altitude'])\\\n",
    "                                            .otherwise(500))\n",
    "    #df = df.withColumn('geo_distance', when(df['geo_distance']<0.7, df['geo_distance'])\\\n",
    "    #                                        .otherwise(0.7))\n",
    "    df = df.filter(df['geo_distance'] <0.5)\n",
    "    df = df.filter(df['speed_avg']<20)\n",
    "\n",
    "    df = df.filter(df['heart_rate_avg'] < 200)\n",
    "    #df = df.filter(df['speed_avg'] > 0)\n",
    "\n",
    "    print df.count()\n",
    "    return df\n"
   ]
  },
  {
   "cell_type": "code",
   "execution_count": 8,
   "metadata": {
    "collapsed": false,
    "deletable": true,
    "editable": true
   },
   "outputs": [
    {
     "name": "stdout",
     "output_type": "stream",
     "text": [
      "time: 7.23 ms\n"
     ]
    }
   ],
   "source": [
    "#magic\n",
    "unvector = udf(lambda value: value[0].item(), FloatType())"
   ]
  },
  {
   "cell_type": "code",
   "execution_count": 9,
   "metadata": {
    "collapsed": false,
    "deletable": true,
    "editable": true
   },
   "outputs": [
    {
     "name": "stdout",
     "output_type": "stream",
     "text": [
      "time: 2.27 ms\n"
     ]
    }
   ],
   "source": [
    "# from pyspark.ml.feature import PCA\n",
    "# ignore = ['gender', 'series_time_delta', 'timezone']\n",
    "\n",
    "# assembler = VectorAssembler(\n",
    "#     inputCols=[x for x in sumstats.columns if x not in ignore],\n",
    "#     outputCol='features')\n",
    "\n",
    "# features_df = assembler.transform(sumstats)\n",
    "\n",
    "# features_df.schema\n",
    "\n",
    "# pca = PCA(k=10, inputCol=\"features\", outputCol=\"pcaFeatures\")\n",
    "# model = pca.fit(features_df)\n",
    "\n",
    "# result = model.transform(features_df).select(\"pcaFeatures\")\n",
    "# #result.show(truncate=False)"
   ]
  },
  {
   "cell_type": "code",
   "execution_count": 10,
   "metadata": {
    "collapsed": false,
    "deletable": true,
    "editable": true
   },
   "outputs": [
    {
     "name": "stdout",
     "output_type": "stream",
     "text": [
      "time: 908 µs\n"
     ]
    }
   ],
   "source": [
    "# print result.limit(2).collect()[0].pcaFeatures\n",
    "# print '\\n'\n",
    "# print model.explainedVariance"
   ]
  },
  {
   "cell_type": "code",
   "execution_count": 11,
   "metadata": {
    "collapsed": false,
    "deletable": true,
    "editable": true
   },
   "outputs": [
    {
     "name": "stdout",
     "output_type": "stream",
     "text": [
      "time: 628 µs\n"
     ]
    }
   ],
   "source": [
    "# df\\\n",
    "# .withColumn('Id_New',when(df.Rank <= 5,df.Id).otherwise('other'))\\"
   ]
  },
  {
   "cell_type": "code",
   "execution_count": 47,
   "metadata": {
    "collapsed": false,
    "deletable": true,
    "editable": true
   },
   "outputs": [
    {
     "data": {
      "text/plain": [
       "DataFrame[gender: string, workoutid: int, userid: int, start_time: int, start_altitude: decimal(20,10), start_latitude: decimal(20,10), start_longitude: decimal(20,10), series_length: int, series_time_delta: array<int>, series_time_delta_average: decimal(20,10), timezone: string, id: int, altitude_max: decimal(20,10), altitude_min: decimal(20,10), calories: decimal(20,10), distance: decimal(20,10), duration: decimal(20,10), heart_rate_avg: decimal(20,10), heart_rate_max: decimal(20,10), hydration: decimal(20,10), speed_avg: decimal(20,10), speed_max: decimal(20,10), humidity: int, temperature: int, wind_speed: int, elapsed_time: int, geo_distance: decimal(15,10), altitude_max2: decimal(20,10), altitude_min2: decimal(20,10), time_since_last_workout: int, speed_avg2: decimal(20,10), speed_max2: decimal(20,10)]"
      ]
     },
     "execution_count": 47,
     "metadata": {},
     "output_type": "execute_result"
    },
    {
     "name": "stdout",
     "output_type": "stream",
     "text": [
      "time: 56.3 ms\n"
     ]
    }
   ],
   "source": [
    "from pyspark.sql import DataFrameReader\n",
    "\n",
    "#url = 'postgresql://34.199.246.37:5432/endomondo_sample'\n",
    "url = 'postgresql://34.199.246.37:5432/endomondo'\n",
    "\n",
    "properties = {'user':'endomondo', 'password': 'End0m0ndo'}\n",
    "\n",
    "df_runs = DataFrameReader(sqlContext).jdbc(url='jdbc:%s' % url, table='run', properties=properties)\n",
    "\n",
    "df_users = DataFrameReader(sqlContext).jdbc(url='jdbc:%s' % url, table='run_by_workout', properties=properties)\n",
    "\n",
    "df_users"
   ]
  },
  {
   "cell_type": "code",
   "execution_count": 13,
   "metadata": {
    "collapsed": false,
    "deletable": true,
    "editable": true
   },
   "outputs": [
    {
     "data": {
      "text/plain": [
       "['altitude',\n",
       " 'heart_rate',\n",
       " 'latitude',\n",
       " 'longitude',\n",
       " 'speed',\n",
       " 'workoutid',\n",
       " 'time',\n",
       " 'altitude_first',\n",
       " 'altitude_second',\n",
       " 'speed_first',\n",
       " 'elapsed_distance',\n",
       " 'elapsed_time',\n",
       " 'heart_rate_ma_25',\n",
       " 'speed_ma_50',\n",
       " 'speed_ma_100',\n",
       " 'geo_distance',\n",
       " 'speed_by_geo',\n",
       " 'altitude2']"
      ]
     },
     "execution_count": 13,
     "metadata": {},
     "output_type": "execute_result"
    },
    {
     "name": "stdout",
     "output_type": "stream",
     "text": [
      "time: 4.17 ms\n"
     ]
    }
   ],
   "source": []
  },
  {
   "cell_type": "code",
   "execution_count": 13,
   "metadata": {
    "collapsed": false,
    "deletable": true,
    "editable": true
   },
   "outputs": [
    {
     "name": "stdout",
     "output_type": "stream",
     "text": [
      "time: 20.5 ms\n"
     ]
    }
   ],
   "source": [
    "df_users = df_users.sample(False, 0.1)"
   ]
  },
  {
   "cell_type": "code",
   "execution_count": 14,
   "metadata": {
    "collapsed": false,
    "deletable": true,
    "editable": true
   },
   "outputs": [
    {
     "data": {
      "text/plain": [
       "['gender',\n",
       " 'workoutid',\n",
       " 'userid',\n",
       " 'start_time',\n",
       " 'start_altitude',\n",
       " 'start_latitude',\n",
       " 'start_longitude',\n",
       " 'series_length',\n",
       " 'series_time_delta',\n",
       " 'series_time_delta_average',\n",
       " 'timezone',\n",
       " 'id',\n",
       " 'altitude_max',\n",
       " 'altitude_min',\n",
       " 'calories',\n",
       " 'distance',\n",
       " 'duration',\n",
       " 'heart_rate_avg',\n",
       " 'heart_rate_max',\n",
       " 'hydration',\n",
       " 'speed_avg',\n",
       " 'speed_max',\n",
       " 'humidity',\n",
       " 'temperature',\n",
       " 'wind_speed',\n",
       " 'elapsed_time',\n",
       " 'geo_distance',\n",
       " 'altitude_max2',\n",
       " 'altitude_min2',\n",
       " 'time_since_last_workout',\n",
       " 'speed_avg2',\n",
       " 'speed_max2']"
      ]
     },
     "execution_count": 14,
     "metadata": {},
     "output_type": "execute_result"
    },
    {
     "name": "stdout",
     "output_type": "stream",
     "text": [
      "time: 5.04 ms\n"
     ]
    }
   ],
   "source": [
    "df_users.schema.names"
   ]
  },
  {
   "cell_type": "code",
   "execution_count": 72,
   "metadata": {
    "collapsed": true,
    "deletable": true,
    "editable": true
   },
   "outputs": [
    {
     "ename": "KeyboardInterrupt",
     "evalue": "",
     "output_type": "error",
     "traceback": [
      "\u001b[0;31m---------------------------------------------------------------------------\u001b[0m",
      "\u001b[0;31mKeyboardInterrupt\u001b[0m                         Traceback (most recent call last)",
      "\u001b[0;32m<ipython-input-72-25b80aaa644c>\u001b[0m in \u001b[0;36m<module>\u001b[0;34m()\u001b[0m\n\u001b[0;32m----> 1\u001b[0;31m \u001b[0mdf_runs\u001b[0m\u001b[0;34m.\u001b[0m\u001b[0mrepartition\u001b[0m\u001b[0;34m(\u001b[0m\u001b[0;36m30\u001b[0m\u001b[0;34m)\u001b[0m\u001b[0;34m.\u001b[0m\u001b[0mselect\u001b[0m\u001b[0;34m(\u001b[0m\u001b[0mdf_runs\u001b[0m\u001b[0;34m.\u001b[0m\u001b[0mworkoutid\u001b[0m\u001b[0;34m==\u001b[0m\u001b[0;36m197900748\u001b[0m\u001b[0;34m)\u001b[0m\u001b[0;34m.\u001b[0m\u001b[0mshow\u001b[0m\u001b[0;34m(\u001b[0m\u001b[0;34m)\u001b[0m\u001b[0;34m\u001b[0m\u001b[0m\n\u001b[0m",
      "\u001b[0;32m/Users/momori/app/spark-2.1.0-bin-hadoop2.7/python/pyspark/sql/dataframe.pyc\u001b[0m in \u001b[0;36mrepartition\u001b[0;34m(self, numPartitions, *cols)\u001b[0m\n\u001b[1;32m    575\u001b[0m         \u001b[0;32mif\u001b[0m \u001b[0misinstance\u001b[0m\u001b[0;34m(\u001b[0m\u001b[0mnumPartitions\u001b[0m\u001b[0;34m,\u001b[0m \u001b[0mint\u001b[0m\u001b[0;34m)\u001b[0m\u001b[0;34m:\u001b[0m\u001b[0;34m\u001b[0m\u001b[0m\n\u001b[1;32m    576\u001b[0m             \u001b[0;32mif\u001b[0m \u001b[0mlen\u001b[0m\u001b[0;34m(\u001b[0m\u001b[0mcols\u001b[0m\u001b[0;34m)\u001b[0m \u001b[0;34m==\u001b[0m \u001b[0;36m0\u001b[0m\u001b[0;34m:\u001b[0m\u001b[0;34m\u001b[0m\u001b[0m\n\u001b[0;32m--> 577\u001b[0;31m                 \u001b[0;32mreturn\u001b[0m \u001b[0mDataFrame\u001b[0m\u001b[0;34m(\u001b[0m\u001b[0mself\u001b[0m\u001b[0;34m.\u001b[0m\u001b[0m_jdf\u001b[0m\u001b[0;34m.\u001b[0m\u001b[0mrepartition\u001b[0m\u001b[0;34m(\u001b[0m\u001b[0mnumPartitions\u001b[0m\u001b[0;34m)\u001b[0m\u001b[0;34m,\u001b[0m \u001b[0mself\u001b[0m\u001b[0;34m.\u001b[0m\u001b[0msql_ctx\u001b[0m\u001b[0;34m)\u001b[0m\u001b[0;34m\u001b[0m\u001b[0m\n\u001b[0m\u001b[1;32m    578\u001b[0m             \u001b[0;32melse\u001b[0m\u001b[0;34m:\u001b[0m\u001b[0;34m\u001b[0m\u001b[0m\n\u001b[1;32m    579\u001b[0m                 return DataFrame(\n",
      "\u001b[0;32m/Users/momori/app/spark-2.1.0-bin-hadoop2.7/python/lib/py4j-0.10.4-src.zip/py4j/java_gateway.py\u001b[0m in \u001b[0;36m__call__\u001b[0;34m(self, *args)\u001b[0m\n\u001b[1;32m   1129\u001b[0m             \u001b[0mproto\u001b[0m\u001b[0;34m.\u001b[0m\u001b[0mEND_COMMAND_PART\u001b[0m\u001b[0;34m\u001b[0m\u001b[0m\n\u001b[1;32m   1130\u001b[0m \u001b[0;34m\u001b[0m\u001b[0m\n\u001b[0;32m-> 1131\u001b[0;31m         \u001b[0manswer\u001b[0m \u001b[0;34m=\u001b[0m \u001b[0mself\u001b[0m\u001b[0;34m.\u001b[0m\u001b[0mgateway_client\u001b[0m\u001b[0;34m.\u001b[0m\u001b[0msend_command\u001b[0m\u001b[0;34m(\u001b[0m\u001b[0mcommand\u001b[0m\u001b[0;34m)\u001b[0m\u001b[0;34m\u001b[0m\u001b[0m\n\u001b[0m\u001b[1;32m   1132\u001b[0m         return_value = get_return_value(\n\u001b[1;32m   1133\u001b[0m             answer, self.gateway_client, self.target_id, self.name)\n",
      "\u001b[0;32m/Users/momori/app/spark-2.1.0-bin-hadoop2.7/python/lib/py4j-0.10.4-src.zip/py4j/java_gateway.py\u001b[0m in \u001b[0;36msend_command\u001b[0;34m(self, command, retry, binary)\u001b[0m\n\u001b[1;32m    881\u001b[0m         \u001b[0mconnection\u001b[0m \u001b[0;34m=\u001b[0m \u001b[0mself\u001b[0m\u001b[0;34m.\u001b[0m\u001b[0m_get_connection\u001b[0m\u001b[0;34m(\u001b[0m\u001b[0;34m)\u001b[0m\u001b[0;34m\u001b[0m\u001b[0m\n\u001b[1;32m    882\u001b[0m         \u001b[0;32mtry\u001b[0m\u001b[0;34m:\u001b[0m\u001b[0;34m\u001b[0m\u001b[0m\n\u001b[0;32m--> 883\u001b[0;31m             \u001b[0mresponse\u001b[0m \u001b[0;34m=\u001b[0m \u001b[0mconnection\u001b[0m\u001b[0;34m.\u001b[0m\u001b[0msend_command\u001b[0m\u001b[0;34m(\u001b[0m\u001b[0mcommand\u001b[0m\u001b[0;34m)\u001b[0m\u001b[0;34m\u001b[0m\u001b[0m\n\u001b[0m\u001b[1;32m    884\u001b[0m             \u001b[0;32mif\u001b[0m \u001b[0mbinary\u001b[0m\u001b[0;34m:\u001b[0m\u001b[0;34m\u001b[0m\u001b[0m\n\u001b[1;32m    885\u001b[0m                 \u001b[0;32mreturn\u001b[0m \u001b[0mresponse\u001b[0m\u001b[0;34m,\u001b[0m \u001b[0mself\u001b[0m\u001b[0;34m.\u001b[0m\u001b[0m_create_connection_guard\u001b[0m\u001b[0;34m(\u001b[0m\u001b[0mconnection\u001b[0m\u001b[0;34m)\u001b[0m\u001b[0;34m\u001b[0m\u001b[0m\n",
      "\u001b[0;32m/Users/momori/app/spark-2.1.0-bin-hadoop2.7/python/lib/py4j-0.10.4-src.zip/py4j/java_gateway.py\u001b[0m in \u001b[0;36msend_command\u001b[0;34m(self, command)\u001b[0m\n\u001b[1;32m   1026\u001b[0m \u001b[0;34m\u001b[0m\u001b[0m\n\u001b[1;32m   1027\u001b[0m         \u001b[0;32mtry\u001b[0m\u001b[0;34m:\u001b[0m\u001b[0;34m\u001b[0m\u001b[0m\n\u001b[0;32m-> 1028\u001b[0;31m             \u001b[0manswer\u001b[0m \u001b[0;34m=\u001b[0m \u001b[0msmart_decode\u001b[0m\u001b[0;34m(\u001b[0m\u001b[0mself\u001b[0m\u001b[0;34m.\u001b[0m\u001b[0mstream\u001b[0m\u001b[0;34m.\u001b[0m\u001b[0mreadline\u001b[0m\u001b[0;34m(\u001b[0m\u001b[0;34m)\u001b[0m\u001b[0;34m[\u001b[0m\u001b[0;34m:\u001b[0m\u001b[0;34m-\u001b[0m\u001b[0;36m1\u001b[0m\u001b[0;34m]\u001b[0m\u001b[0;34m)\u001b[0m\u001b[0;34m\u001b[0m\u001b[0m\n\u001b[0m\u001b[1;32m   1029\u001b[0m             \u001b[0mlogger\u001b[0m\u001b[0;34m.\u001b[0m\u001b[0mdebug\u001b[0m\u001b[0;34m(\u001b[0m\u001b[0;34m\"Answer received: {0}\"\u001b[0m\u001b[0;34m.\u001b[0m\u001b[0mformat\u001b[0m\u001b[0;34m(\u001b[0m\u001b[0manswer\u001b[0m\u001b[0;34m)\u001b[0m\u001b[0;34m)\u001b[0m\u001b[0;34m\u001b[0m\u001b[0m\n\u001b[1;32m   1030\u001b[0m             \u001b[0;32mif\u001b[0m \u001b[0manswer\u001b[0m\u001b[0;34m.\u001b[0m\u001b[0mstartswith\u001b[0m\u001b[0;34m(\u001b[0m\u001b[0mproto\u001b[0m\u001b[0;34m.\u001b[0m\u001b[0mRETURN_MESSAGE\u001b[0m\u001b[0;34m)\u001b[0m\u001b[0;34m:\u001b[0m\u001b[0;34m\u001b[0m\u001b[0m\n",
      "\u001b[0;32m/Users/momori/anaconda/lib/python2.7/socket.pyc\u001b[0m in \u001b[0;36mreadline\u001b[0;34m(self, size)\u001b[0m\n\u001b[1;32m    449\u001b[0m             \u001b[0;32mwhile\u001b[0m \u001b[0mTrue\u001b[0m\u001b[0;34m:\u001b[0m\u001b[0;34m\u001b[0m\u001b[0m\n\u001b[1;32m    450\u001b[0m                 \u001b[0;32mtry\u001b[0m\u001b[0;34m:\u001b[0m\u001b[0;34m\u001b[0m\u001b[0m\n\u001b[0;32m--> 451\u001b[0;31m                     \u001b[0mdata\u001b[0m \u001b[0;34m=\u001b[0m \u001b[0mself\u001b[0m\u001b[0;34m.\u001b[0m\u001b[0m_sock\u001b[0m\u001b[0;34m.\u001b[0m\u001b[0mrecv\u001b[0m\u001b[0;34m(\u001b[0m\u001b[0mself\u001b[0m\u001b[0;34m.\u001b[0m\u001b[0m_rbufsize\u001b[0m\u001b[0;34m)\u001b[0m\u001b[0;34m\u001b[0m\u001b[0m\n\u001b[0m\u001b[1;32m    452\u001b[0m                 \u001b[0;32mexcept\u001b[0m \u001b[0merror\u001b[0m\u001b[0;34m,\u001b[0m \u001b[0me\u001b[0m\u001b[0;34m:\u001b[0m\u001b[0;34m\u001b[0m\u001b[0m\n\u001b[1;32m    453\u001b[0m                     \u001b[0;32mif\u001b[0m \u001b[0me\u001b[0m\u001b[0;34m.\u001b[0m\u001b[0margs\u001b[0m\u001b[0;34m[\u001b[0m\u001b[0;36m0\u001b[0m\u001b[0;34m]\u001b[0m \u001b[0;34m==\u001b[0m \u001b[0mEINTR\u001b[0m\u001b[0;34m:\u001b[0m\u001b[0;34m\u001b[0m\u001b[0m\n",
      "\u001b[0;31mKeyboardInterrupt\u001b[0m: "
     ]
    },
    {
     "name": "stdout",
     "output_type": "stream",
     "text": [
      "time: 5min 5s\n"
     ]
    }
   ],
   "source": [
    "df_runs.repartition(30).select(df_runs.workoutid==197900748).show()"
   ]
  },
  {
   "cell_type": "code",
   "execution_count": null,
   "metadata": {
    "collapsed": true,
    "deletable": true,
    "editable": true
   },
   "outputs": [],
   "source": [
    "df_runs"
   ]
  },
  {
   "cell_type": "code",
   "execution_count": 16,
   "metadata": {
    "collapsed": false,
    "deletable": true,
    "editable": true
   },
   "outputs": [
    {
     "data": {
      "text/plain": [
       "34755"
      ]
     },
     "execution_count": 16,
     "metadata": {},
     "output_type": "execute_result"
    },
    {
     "name": "stdout",
     "output_type": "stream",
     "text": [
      "time: 2.37 s\n"
     ]
    }
   ],
   "source": [
    "df_users.count()"
   ]
  },
  {
   "cell_type": "code",
   "execution_count": 17,
   "metadata": {
    "collapsed": false,
    "deletable": true,
    "editable": true
   },
   "outputs": [
    {
     "name": "stdout",
     "output_type": "stream",
     "text": [
      "time: 480 µs\n"
     ]
    }
   ],
   "source": [
    "#df_users[['altitude_max2','altitude_min2']].describe().show()"
   ]
  },
  {
   "cell_type": "code",
   "execution_count": 48,
   "metadata": {
    "collapsed": false,
    "deletable": true,
    "editable": true
   },
   "outputs": [
    {
     "name": "stdout",
     "output_type": "stream",
     "text": [
      "304630\n",
      "304630\n",
      "time: 1.82 s\n"
     ]
    }
   ],
   "source": [
    "sub_df = df_runs.limit(1000)\n",
    "df_users = df_users.withColumn('diff_altitude', \\\n",
    "                    df_users['altitude_max2'] \\\n",
    "                    -df_users['altitude_min2'])\n",
    "all_cols = ['elapsed_time','diff_altitude'\\\n",
    "            ,'geo_distance','heart_rate_avg','speed_avg']\n",
    "sumstats = change_type_cols_double(df_users, all_cols)\n",
    "sumstats = filter_data(sumstats.repartition(30))\n",
    "print sumstats.count()\n",
    "#sumstats = df_users.limit(2000).repartition(30)"
   ]
  },
  {
   "cell_type": "code",
   "execution_count": 67,
   "metadata": {
    "collapsed": false,
    "deletable": true,
    "editable": true
   },
   "outputs": [
    {
     "data": {
      "text/plain": [
       "['workoutid',\n",
       " 'userid',\n",
       " 'elapsed_time',\n",
       " 'diff_altitude',\n",
       " 'geo_distance',\n",
       " 'heart_rate_avg',\n",
       " 'speed_avg']"
      ]
     },
     "execution_count": 67,
     "metadata": {},
     "output_type": "execute_result"
    },
    {
     "name": "stdout",
     "output_type": "stream",
     "text": [
      "time: 2.99 ms\n"
     ]
    }
   ],
   "source": [
    "c = ['workoutid', 'userid','elapsed_time','diff_altitude'\\\n",
    "            ,'geo_distance','heart_rate_avg','speed_avg']\n",
    "c"
   ]
  },
  {
   "cell_type": "code",
   "execution_count": 70,
   "metadata": {
    "collapsed": false,
    "deletable": true,
    "editable": true
   },
   "outputs": [
    {
     "name": "stdout",
     "output_type": "stream",
     "text": [
      "+---------+-------+------------+-------------+------------+--------------+---------+\n",
      "|workoutid| userid|elapsed_time|diff_altitude|geo_distance|heart_rate_avg|speed_avg|\n",
      "+---------+-------+------------+-------------+------------+--------------+---------+\n",
      "|197900748|1912029|      1618.0|    15.294235|  0.05643702|     195.48166|11.247107|\n",
      "+---------+-------+------------+-------------+------------+--------------+---------+\n",
      "\n",
      "time: 8.19 s\n"
     ]
    }
   ],
   "source": [
    "sumstats.select(c).where(sumstats.heart_rate_avg > 0).where(sumstats.speed_avg > 0)\\\n",
    "    .where(sumstats.workoutid==197900748).show(5)"
   ]
  },
  {
   "cell_type": "code",
   "execution_count": 68,
   "metadata": {
    "collapsed": false,
    "deletable": true,
    "editable": true
   },
   "outputs": [
    {
     "name": "stdout",
     "output_type": "stream",
     "text": [
      "+---------+-------+------------+-------------+------------+--------------+---------+\n",
      "|workoutid| userid|elapsed_time|diff_altitude|geo_distance|heart_rate_avg|speed_avg|\n",
      "+---------+-------+------------+-------------+------------+--------------+---------+\n",
      "|197900748|1912029|      1618.0|    15.294235|  0.05643702|     195.48166|11.247107|\n",
      "|220954943|9345869|      1351.0|    22.245594| 0.046508357|    117.810356|  9.29343|\n",
      "|246808630|1912029|      2154.0|    23.505724|  0.06895277|     169.36867| 8.857457|\n",
      "|260961987|4362441|      4489.0|    63.033417|  0.16640514|     142.12593|11.588177|\n",
      "|273495603| 324779|      3395.0|        169.8|  0.08341786|     150.04448| 8.896097|\n",
      "+---------+-------+------------+-------------+------------+--------------+---------+\n",
      "only showing top 5 rows\n",
      "\n",
      "time: 4.16 s\n"
     ]
    }
   ],
   "source": [
    "sumstats.select(c).where(sumstats.heart_rate_avg > 0).where(sumstats.speed_avg > 0).show(5)"
   ]
  },
  {
   "cell_type": "code",
   "execution_count": 17,
   "metadata": {
    "collapsed": false,
    "deletable": true,
    "editable": true
   },
   "outputs": [
    {
     "name": "stdout",
     "output_type": "stream",
     "text": [
      "time: 1.5 ms\n"
     ]
    }
   ],
   "source": [
    "# ##pca\n",
    "\n",
    "# interest = ['diff_altitude','elapsed_time','geo_distance','heart_rate_avg','speed_avg']\n",
    "\n",
    "# assembler = VectorAssembler(\n",
    "#     inputCols=[x for x in sumstats.columns if x in interest],\n",
    "#     outputCol='features')\n",
    "\n",
    "# df_features = assembler.transform(sumstats)\n",
    "# df_features.schema"
   ]
  },
  {
   "cell_type": "code",
   "execution_count": 18,
   "metadata": {
    "collapsed": false,
    "deletable": true,
    "editable": true
   },
   "outputs": [
    {
     "name": "stdout",
     "output_type": "stream",
     "text": [
      "time: 2.21 ms\n"
     ]
    }
   ],
   "source": [
    "\n",
    "# def estimateCovariance(df):\n",
    "#     \"\"\"Compute the covariance matrix for a given dataframe.\n",
    "\n",
    "#     Note:\n",
    "#         The multi-dimensional covariance array should be calculated using outer products.  Don't\n",
    "#         forget to normalize the data by first subtracting the mean.\n",
    "\n",
    "#     Args:\n",
    "#         df:  A Spark dataframe with a column named 'features', which (column) consists of DenseVectors.\n",
    "\n",
    "#     Returns:\n",
    "#         np.ndarray: A multi-dimensional array where the number of rows and columns both equal the\n",
    "#             length of the arrays in the input dataframe.\n",
    "#     \"\"\"\n",
    "#     m = df.select(df['features']).rdd.map(lambda x: x[0]).mean()\n",
    "#     dfZeroMean = df.select(df['features']).rdd.map(lambda x:   x[0]).map(lambda x: x-m)  # subtract the mean\n",
    "\n",
    "#     return dfZeroMean.map(lambda x: np.outer(x,x)).sum()/df.count()"
   ]
  },
  {
   "cell_type": "code",
   "execution_count": 19,
   "metadata": {
    "collapsed": false,
    "deletable": true,
    "editable": true
   },
   "outputs": [
    {
     "name": "stdout",
     "output_type": "stream",
     "text": [
      "time: 530 µs\n"
     ]
    }
   ],
   "source": [
    "#rd = estimateCovariance(df_features)"
   ]
  },
  {
   "cell_type": "code",
   "execution_count": 20,
   "metadata": {
    "collapsed": false,
    "deletable": true,
    "editable": true
   },
   "outputs": [
    {
     "name": "stdout",
     "output_type": "stream",
     "text": [
      "time: 914 µs\n"
     ]
    }
   ],
   "source": [
    "# for i in rd:\n",
    "#     for j in i:\n",
    "#         print j,\n",
    "#     print '\\n'\n",
    "# interest = ['diff_altitude','elapsed_time','geo_distance','heart_rate_avg','speed_avg']\n"
   ]
  },
  {
   "cell_type": "code",
   "execution_count": 50,
   "metadata": {
    "collapsed": false,
    "deletable": true,
    "editable": true
   },
   "outputs": [
    {
     "name": "stdout",
     "output_type": "stream",
     "text": [
      "time: 18.5 s\n"
     ]
    }
   ],
   "source": [
    "time_hist = sumstats.select('elapsed_time')\\\n",
    "    .select('elapsed_time').rdd.flatMap(lambda x: x).histogram(50)\n",
    "alt_hist = sumstats.select('diff_altitude').rdd.flatMap(lambda x: x).histogram(50)\n",
    "dist_hist = sumstats.select('geo_distance')\\\n",
    "    .select('geo_distance').rdd.flatMap(lambda x: x).histogram(50)\n",
    "hr_hist = sumstats.select('heart_rate_avg')\\\n",
    "    .select('heart_rate_avg').rdd.flatMap(lambda x: x).histogram(50)\n",
    "spd_hist = sumstats.select('speed_avg')\\\n",
    "    .select('speed_avg').rdd.flatMap(lambda x: x).histogram(50)\n"
   ]
  },
  {
   "cell_type": "code",
   "execution_count": 51,
   "metadata": {
    "collapsed": false,
    "deletable": true,
    "editable": true
   },
   "outputs": [
    {
     "data": {
      "text/plain": [
       "<matplotlib.axes._subplots.AxesSubplot at 0x11ee3e2d0>"
      ]
     },
     "execution_count": 51,
     "metadata": {},
     "output_type": "execute_result"
    },
    {
     "data": {
      "image/png": "[encoded data removed]",
      "text/plain": [
       "<matplotlib.figure.Figure at 0x11eb17f90>"
      ]
     },
     "metadata": {},
     "output_type": "display_data"
    },
    {
     "name": "stdout",
     "output_type": "stream",
     "text": [
      "time: 531 ms\n"
     ]
    }
   ],
   "source": [
    "pd.DataFrame(zip(list(time_hist)[0],\n",
    "                     list(time_hist)[1]),columns=['bin','frequency']).set_index('bin')\\\n",
    "                     .plot(kind='bar', title='elapsed_time', figsize=(20,5))"
   ]
  },
  {
   "cell_type": "code",
   "execution_count": 52,
   "metadata": {
    "collapsed": false,
    "deletable": true,
    "editable": true
   },
   "outputs": [
    {
     "data": {
      "text/plain": [
       "<matplotlib.axes._subplots.AxesSubplot at 0x11f2e1210>"
      ]
     },
     "execution_count": 52,
     "metadata": {},
     "output_type": "execute_result"
    },
    {
     "data": {
      "image/png": "[encoded data removed]",
      "text/plain": [
       "<matplotlib.figure.Figure at 0x11ed8d0d0>"
      ]
     },
     "metadata": {},
     "output_type": "display_data"
    },
    {
     "name": "stdout",
     "output_type": "stream",
     "text": [
      "time: 497 ms\n"
     ]
    }
   ],
   "source": [
    "pd.DataFrame(zip(list(alt_hist)[0],\n",
    "                     list(alt_hist)[1]),columns=['bin','frequency']).set_index('bin')\\\n",
    "                     .plot(kind='bar', title='diff_altitude', figsize=(20,5))"
   ]
  },
  {
   "cell_type": "code",
   "execution_count": 53,
   "metadata": {
    "collapsed": false,
    "deletable": true,
    "editable": true
   },
   "outputs": [
    {
     "data": {
      "text/plain": [
       "<matplotlib.axes._subplots.AxesSubplot at 0x11f5a7d90>"
      ]
     },
     "execution_count": 53,
     "metadata": {},
     "output_type": "execute_result"
    },
    {
     "data": {
      "image/png": "[encoded data removed]",
      "text/plain": [
       "<matplotlib.figure.Figure at 0x11efa5dd0>"
      ]
     },
     "metadata": {},
     "output_type": "display_data"
    },
    {
     "name": "stdout",
     "output_type": "stream",
     "text": [
      "time: 561 ms\n"
     ]
    }
   ],
   "source": [
    "pd.DataFrame(zip(list(dist_hist)[0],\n",
    "                     list(dist_hist)[1]),columns=['bin','frequency']).set_index('bin')\\\n",
    "                     .plot(kind='bar', title='geo_distance', figsize=(20,5))"
   ]
  },
  {
   "cell_type": "code",
   "execution_count": 54,
   "metadata": {
    "collapsed": false,
    "deletable": true,
    "editable": true
   },
   "outputs": [
    {
     "data": {
      "text/plain": [
       "<matplotlib.axes._subplots.AxesSubplot at 0x11f7476d0>"
      ]
     },
     "execution_count": 54,
     "metadata": {},
     "output_type": "execute_result"
    },
    {
     "data": {
      "image/png": "[encoded data removed]",
      "text/plain": [
       "<matplotlib.figure.Figure at 0x11efa5bd0>"
      ]
     },
     "metadata": {},
     "output_type": "display_data"
    },
    {
     "name": "stdout",
     "output_type": "stream",
     "text": [
      "time: 564 ms\n"
     ]
    }
   ],
   "source": [
    "pd.DataFrame(zip(list(hr_hist)[0],\n",
    "                     list(hr_hist)[1]),columns=['bin','frequency']).set_index('bin')\\\n",
    "                     .plot(kind='bar', title='heart_rate_avg', figsize=(20,5))"
   ]
  },
  {
   "cell_type": "code",
   "execution_count": 55,
   "metadata": {
    "collapsed": false,
    "deletable": true,
    "editable": true
   },
   "outputs": [
    {
     "data": {
      "text/plain": [
       "<matplotlib.axes._subplots.AxesSubplot at 0x12006a2d0>"
      ]
     },
     "execution_count": 55,
     "metadata": {},
     "output_type": "execute_result"
    },
    {
     "data": {
      "image/png": "[encoded data removed]",
      "text/plain": [
       "<matplotlib.figure.Figure at 0x11ffa09d0>"
      ]
     },
     "metadata": {},
     "output_type": "display_data"
    },
    {
     "name": "stdout",
     "output_type": "stream",
     "text": [
      "time: 721 ms\n"
     ]
    }
   ],
   "source": [
    "pd.DataFrame(zip(list(spd_hist)[0],\n",
    "                     list(spd_hist)[1]),columns=['bin','frequency']).set_index('bin')\\\n",
    "                     .plot(kind='bar', title='speed_avg', figsize=(20,5))"
   ]
  },
  {
   "cell_type": "code",
   "execution_count": null,
   "metadata": {
    "collapsed": true,
    "deletable": true,
    "editable": true
   },
   "outputs": [],
   "source": []
  },
  {
   "cell_type": "code",
   "execution_count": 16,
   "metadata": {
    "collapsed": false,
    "deletable": true,
    "editable": true
   },
   "outputs": [
    {
     "name": "stdout",
     "output_type": "stream",
     "text": [
      "time: 1.17 ms\n"
     ]
    }
   ],
   "source": [
    "route_cols = ['diff_altitude', 'geo_distance']\n",
    "#route_cols = ['diff_altitude']\n"
   ]
  },
  {
   "cell_type": "code",
   "execution_count": 29,
   "metadata": {
    "collapsed": false
   },
   "outputs": [
    {
     "data": {
      "text/plain": [
       "['gender',\n",
       " 'workoutid',\n",
       " 'userid',\n",
       " 'start_time',\n",
       " 'start_altitude',\n",
       " 'start_latitude',\n",
       " 'start_longitude',\n",
       " 'series_length',\n",
       " 'series_time_delta',\n",
       " 'series_time_delta_average',\n",
       " 'timezone',\n",
       " 'id',\n",
       " 'altitude_max',\n",
       " 'altitude_min',\n",
       " 'calories',\n",
       " 'distance',\n",
       " 'duration',\n",
       " 'heart_rate_avg',\n",
       " 'heart_rate_max',\n",
       " 'hydration',\n",
       " 'speed_avg',\n",
       " 'speed_max',\n",
       " 'humidity',\n",
       " 'temperature',\n",
       " 'wind_speed',\n",
       " 'elapsed_time',\n",
       " 'geo_distance',\n",
       " 'altitude_max2',\n",
       " 'altitude_min2',\n",
       " 'time_since_last_workout',\n",
       " 'speed_avg2',\n",
       " 'speed_max2',\n",
       " 'diff_altitude']"
      ]
     },
     "execution_count": 29,
     "metadata": {},
     "output_type": "execute_result"
    },
    {
     "name": "stdout",
     "output_type": "stream",
     "text": [
      "time: 4.69 ms\n"
     ]
    }
   ],
   "source": [
    "sumstats.schema.names"
   ]
  },
  {
   "cell_type": "markdown",
   "metadata": {
    "deletable": true,
    "editable": true
   },
   "source": []
  },
  {
   "cell_type": "code",
   "execution_count": 20,
   "metadata": {
    "collapsed": false,
    "deletable": true,
    "editable": true
   },
   "outputs": [
    {
     "name": "stdout",
     "output_type": "stream",
     "text": [
      "time: 4 s\n"
     ]
    }
   ],
   "source": [
    "sumstats.select(['diff_altitude', 'geo_distance','heart_rate_avg', 'speed_avg', 'elapsed_time'])\\\n",
    "    .toPandas().to_csv('df_for_correlation.csv')"
   ]
  },
  {
   "cell_type": "code",
   "execution_count": 29,
   "metadata": {
    "collapsed": false,
    "deletable": true,
    "editable": true
   },
   "outputs": [
    {
     "name": "stdout",
     "output_type": "stream",
     "text": [
      "time: 897 µs\n"
     ]
    }
   ],
   "source": [
    "# errors = []\n",
    "# for i in [5,7,9,11]:\n",
    "#     r_obj = cluster_df(sumstats, route_cols, i, init_var=True,\\\n",
    "#                   scale_dict=scale_dict, bisectingKMean=True,\\\n",
    "#                   return_sse = True, debug=True)\n",
    "#     errors.append(r_obj[3])\n",
    "    "
   ]
  },
  {
   "cell_type": "code",
   "execution_count": 18,
   "metadata": {
    "collapsed": false,
    "deletable": true,
    "editable": true
   },
   "outputs": [
    {
     "name": "stdout",
     "output_type": "stream",
     "text": [
      "cluster start\n",
      "vectorize done in: 0:00:00.093114\n",
      "------- normalize  diff_altitude -------\n",
      "0:00:08.046836\n",
      "0:00:00.104943\n",
      "------- normalize  geo_distance -------\n",
      "0:00:08.687288\n",
      "0:00:00.081391\n",
      "clustering in  0:01:25.183995\n",
      "done\n",
      "time: 1min 58s\n"
     ]
    }
   ],
   "source": [
    "#scale_dict = {'geo_distance':500}\n",
    "scale_dict = {}\n",
    "\n",
    "r_obj = cluster_df(sumstats, route_cols, 5, init_var=True,\\\n",
    "                  scale_dict=scale_dict, bisectingKMean=True,\\\n",
    "                  return_sse = True, debug=True)\n",
    "print 'done'"
   ]
  },
  {
   "cell_type": "code",
   "execution_count": 55,
   "metadata": {
    "collapsed": false,
    "deletable": true,
    "editable": true
   },
   "outputs": [
    {
     "name": "stdout",
     "output_type": "stream",
     "text": [
      "cluster start\n",
      "vectorize done in: 0:00:00.061725\n",
      "------- normalize  diff_altitude -------\n",
      "0:00:01.856924\n",
      "0:00:00.057310\n",
      "------- normalize  geo_distance -------\n",
      "0:00:27.732705\n",
      "0:00:00.059793\n",
      "clustering in  0:01:34.644497\n",
      "cost -------------- 2002.32396533\n",
      "error isnone\n",
      "error isnone\n",
      "[-0.54601546 -1.48057949]\n",
      "[-0.55068988 -1.34541972]\n",
      "[-0.45195988 -1.3602632 ]\n",
      "[-0.54783509 -1.25803389]\n",
      "[-0.5519806  -1.18511062]\n",
      "[-0.42896189 -1.27996092]\n",
      "[-0.39843866 -1.20464936]\n",
      "[-0.54853513 -1.11462803]\n",
      "[-0.55034615 -1.05040831]\n",
      "[-0.56220557 -0.95438037]\n",
      "[-0.48414004 -0.96262269]\n",
      "[-0.4211225  -1.08987344]\n",
      "[-0.34433916 -1.10584178]\n",
      "[-0.39386061 -0.97045382]\n",
      "[-0.29860005 -0.97753553]\n",
      "[-0.55644307 -0.85384006]\n",
      "[-0.55890418 -0.77548071]\n",
      "[-0.41797362 -0.85087567]\n",
      "[-0.45865211 -0.73528872]\n",
      "[-0.33537432 -0.75222062]\n",
      "[-0.25846354 -0.81780982]\n",
      "[-0.34631044 -0.63802475]\n",
      "[-0.22018842 -0.62660997]\n",
      "[-0.56279061 -0.71536997]\n",
      "[-0.56002957 -0.67223844]\n",
      "[-0.56210703 -0.60978243]\n",
      "[-0.46639976 -0.61988582]\n",
      "[-0.56037045 -0.52903737]\n",
      "[-0.55956578 -0.44766657]\n",
      "[-0.44604427 -0.52561676]\n",
      "[-0.3682136  -0.53414271]\n",
      "[-0.28789511 -1.42442247]\n",
      "[-0.12197833 -1.33155721]\n",
      "[-0.31275561 -1.29857701]\n",
      "[-0.25289121 -1.20303425]\n",
      "[-0.02573052 -1.2366554 ]\n",
      "[ 0.01633531 -1.11465055]\n",
      "[-0.20828058 -1.11230034]\n",
      "[-0.1586176  -1.03310034]\n",
      "[-0.15059437 -0.94820072]\n",
      "[-0.12995576 -0.85992982]\n",
      "[-0.00861524 -0.92327127]\n",
      "[ 0.09387894 -0.94953659]\n",
      "[-0.11377556 -0.76212104]\n",
      "[-0.08185816 -0.66598123]\n",
      "[ 0.06301709 -0.79821328]\n",
      "[ 0.05525213 -0.71390545]\n",
      "[ 0.20907592 -1.27750314]\n",
      "[ 0.29497186 -1.13320898]\n",
      "[ 0.22762519 -0.95174349]\n",
      "[ 0.25060057 -0.82099708]\n",
      "[ 0.43765483 -0.94874585]\n",
      "[ 0.61421501 -1.26998347]\n",
      "[ 0.67489317 -1.03654076]\n",
      "[ 1.32103326 -1.2973084 ]\n",
      "[ 0.98058866 -1.21435767]\n",
      "[ 0.22251416 -0.62556591]\n",
      "[ 0.29276991 -0.42946034]\n",
      "[ 0.38966901 -0.69528886]\n",
      "[ 0.47028353 -0.49685581]\n",
      "[ 0.60297065 -0.76888888]\n",
      "[ 0.85098617 -0.85000167]\n",
      "[ 0.65664292 -0.55473064]\n",
      "[ 0.8937883  -0.62932599]\n",
      "[ 0.33915693 -0.2142092 ]\n",
      "[ 0.51730708 -0.2768427 ]\n",
      "[ 0.57162657 -0.05984112]\n",
      "[ 0.39525817 -0.01934451]\n",
      "[ 0.80267356 -0.35008472]\n",
      "[ 0.76400897 -0.08805541]\n",
      "[ 0.98578836 -0.14413177]\n",
      "[ 1.51514571 -0.89320998]\n",
      "[ 1.17108125 -0.76201278]\n",
      "[ 1.24883966 -0.28480379]\n",
      "[ 1.60075975 -0.32192114]\n",
      "[ 1.99377623 -0.91301927]\n",
      "[ 2.02257827 -0.40798006]\n",
      "[ 2.56037587 -1.00440753]\n",
      "[ 2.57531066 -0.51408242]\n",
      "[-0.29679442 -0.43287937]\n",
      "[-0.18108074 -0.48067095]\n",
      "[-0.23431766 -0.27531698]\n",
      "[-0.10992305 -0.31328541]\n",
      "[-0.05949178 -0.53147656]\n",
      "[ 0.07504724 -0.58506369]\n",
      "[ 0.00742985 -0.3664148 ]\n",
      "[ 0.1337366  -0.40326897]\n",
      "[-0.17459543 -0.10567032]\n",
      "[-0.05429846 -0.14249051]\n",
      "[-0.11438094  0.06504813]\n",
      "[-0.01013889  0.0597056 ]\n",
      "[ 0.0677578  -0.16105432]\n",
      "[ 0.19035628 -0.19414356]\n",
      "[ 0.10405126  0.03711226]\n",
      "[ 0.23951605  0.00740335]\n",
      "[-0.56035127 -0.36801437]\n",
      "[-0.55905504 -0.29097339]\n",
      "[-0.4266698  -0.41010688]\n",
      "[-0.39308614 -0.31039541]\n",
      "[-0.55661418 -0.21012098]\n",
      "[-0.55653579 -0.12109899]\n",
      "[-0.41450305 -0.18271502]\n",
      "[-0.31872277 -0.18352975]\n",
      "[-0.54980124 -0.03777414]\n",
      "[-0.5510473   0.04296244]\n",
      "[-0.551105    0.12431719]\n",
      "[-0.55139563  0.20367603]\n",
      "[-0.37543724 -0.01825344]\n",
      "[-0.26893883 -0.03999998]\n",
      "[-0.33759012  0.14124413]\n",
      "[-0.21556447  0.11219425]\n",
      "[-0.55611591  0.29266262]\n",
      "[-0.55300556  0.38618137]\n",
      "[-0.352407   0.2750016]\n",
      "[-0.31183203  0.37714139]\n",
      "[-0.5540335   0.49248864]\n",
      "[-0.55622668  0.60648377]\n",
      "[-0.31903449  0.48663066]\n",
      "[-0.28952675  0.59002896]\n",
      "[-0.54915021  0.72229384]\n",
      "[-0.55311627  0.84075079]\n",
      "[-0.54668755  0.96365143]\n",
      "[-0.55089576  1.09799556]\n",
      "[-0.28725269  0.70309905]\n",
      "[-0.25443686  0.82585402]\n",
      "[-0.25540191  0.96329862]\n",
      "[-0.22075948  1.10010836]\n",
      "[-0.17069325  0.28708512]\n",
      "[-0.02070243  0.26011401]\n",
      "[ 0.00977315  0.46930895]\n",
      "[-0.13482533  0.50157527]\n",
      "[ 0.13880586  0.23272533]\n",
      "[ 0.17381496  0.43949904]\n",
      "[ 0.33261585  0.2028349 ]\n",
      "[ 0.35031409  0.41159994]\n",
      "[-0.04203032  0.67571212]\n",
      "[-0.02129193  0.81906887]\n",
      "[ 0.19739656  0.68709443]\n",
      "[ 0.38033745  0.6566442 ]\n",
      "[-0.03105576  1.03139627]\n",
      "[ 0.11631588  1.01539924]\n",
      "[ 0.33320171  0.89347693]\n",
      "[ 0.35889687  1.08106112]\n",
      "[ 0.55076444  0.44308372]\n",
      "[ 0.75635357  0.4380218 ]\n",
      "[ 0.54224051  0.19113179]\n",
      "[ 0.74411324  0.19226967]\n",
      "[ 1.07400914  0.10545221]\n",
      "[ 1.13299845  0.3493889 ]\n",
      "[ 0.6773375  0.7171881]\n",
      "[ 0.71441274  1.02455381]\n",
      "[ 1.15146899  0.66595928]\n",
      "[ 1.17840516  1.00794155]\n",
      "[ 1.89188695  0.11264902]\n",
      "[ 1.56603957  0.20172322]\n",
      "[ 1.60791154  0.84483144]\n",
      "[ 1.93179804  0.73305744]\n",
      "[ 2.27108358  0.0986085 ]\n",
      "[ 2.73833413  0.05107754]\n",
      "[ 2.44151369  0.5910028 ]\n",
      "[ 2.54546874  0.99956502]\n",
      "[-0.55520271  1.24337041]\n",
      "[-0.55701447  1.41566367]\n",
      "[-0.55626369  1.60147542]\n",
      "[-0.55856364  1.80391798]\n",
      "[-0.30516804  1.31644066]\n",
      "[-0.31194086  1.65723904]\n",
      "[-0.12920457  1.33882671]\n",
      "[ 0.027424   1.3294779]\n",
      "[ 0.1834883   1.34972277]\n",
      "[ 0.37001699  1.35795971]\n",
      "[-0.07308537  1.60140026]\n",
      "[-0.08100092  1.79883882]\n",
      "[ 0.24579299  1.71584693]\n",
      "[-0.55399345  2.03327962]\n",
      "[-0.30822225  2.03592334]\n",
      "[-0.502798    2.28013653]\n",
      "[-0.50617941  2.53016881]\n",
      "[-0.50471736  2.82083268]\n",
      "[-0.06668966  2.03372555]\n",
      "[-0.05247064  2.27119464]\n",
      "[ 0.25257551  2.12587896]\n",
      "[ 0.07568986  2.52377216]\n",
      "[ 0.07317786  2.82491724]\n",
      "[ 0.64879749  1.35737527]\n",
      "[ 0.65168645  1.73849164]\n",
      "[ 1.14520601  1.3851355 ]\n",
      "[ 1.13163245  1.73629973]\n",
      "[ 0.63382004  2.17389693]\n",
      "[ 1.08639138  2.15306415]\n",
      "[ 0.658086    2.71396971]\n",
      "[ 1.11013968  2.6167738 ]\n",
      "[ 1.71584447  1.40969619]\n",
      "[ 1.7465862   1.81218355]\n",
      "[ 2.22729316  1.49069178]\n",
      "[ 2.6626255   1.43899925]\n",
      "[ 2.52964661  2.03653942]\n",
      "[ 2.68801175  2.58430255]\n",
      "[ 1.81576299  2.28333623]\n",
      "[ 1.84612304  2.75004267]\n",
      "[[0.9789092496237757, 0.004239000906053003], [0.7089759735699595, 0.013584142042489464], [6.41032297024201, 0.012557842630588567], [0.8738312952856262, 0.019626124289344835], [0.634441076148125, 0.024668144093832167], [7.7383849710146, 0.018110057524873366], [9.501005344004238, 0.023317207758280334], [0.8334059638217965, 0.029541412140578246], [0.7288257278929926, 0.03398165609035182], [0.043981471793273386, 0.04062116590230688], [4.552020019918512, 0.04005128018518114], [8.19108498952113, 0.03125297995553451], [12.625081136618284, 0.03014890601942216], [9.76537344414448, 0.03950982444803339], [15.266370844926008, 0.03902018497969548], [0.37674730753138164, 0.047572667842020605], [0.23462592610555077, 0.05299054625840052], [8.372922672653232, 0.04777762990533572], [6.023867713937406, 0.055769478589870275], [13.142772312326496, 0.05459878246489867], [17.584128351617117, 0.050063850525223205], [12.511245921603162, 0.062494449453671504], [19.794396121893328, 0.06328368389879582], [0.010197057351163608, 0.05714668940671725], [0.16963829026996535, 0.06012886576063019], [0.04967141136668829, 0.06444716434324566], [5.57646520950583, 0.06374860119235937], [0.14995349486009957, 0.07002999357597103], [0.19642076965871524, 0.075656087952373], [6.751930790022669, 0.07026649976465268], [11.246407114204828, 0.06967700351310058], [15.884547694073124, 0.008121778071448607], [25.465719760783983, 0.01454261594774002], [14.448931590126062, 0.016822914665476918], [17.905912858022127, 0.023428878827316757], [31.023728023613742, 0.021104263709637514], [33.45289724153011, 0.029539855264478568], [20.482036014831237, 0.029702352115994132], [23.34991732429721, 0.035178353674370555], [23.813233330884085, 0.041048436142866976], [25.00504802546714, 0.04715161319206201], [32.012081812994744, 0.04277209412248173], [37.93079834567468, 0.04095607197691761], [25.939403603352723, 0.053914253399283164], [27.78253308353297, 0.06056149813279938], [36.148623155805645, 0.051418783714787156], [35.700221114213974, 0.05724794828731143], [44.583061073748425, 0.018279991960583095], [49.54328167426458, 0.02825669848827142], [45.654223415592085, 0.04080348401525126], [46.980979450078074, 0.04984347926271865], [57.78277418476998, 0.04101074477803214], [67.97856913758221, 0.018799913133601784], [71.48254204730644, 0.03494047861985118], [108.7951001126564, 0.016910628193126914], [89.13549528588113, 0.022645961251290286], [45.3590774611381, 0.06335587158937626], [49.416125696724976, 0.07691489302936098], [55.01174398504999, 0.058535126537508995], [59.66697912676416, 0.07225507357421293], [67.329243230797, 0.05344631489174343], [81.65135898580154, 0.04783805963026057], [70.42864753439653, 0.06825352407026022], [84.12304768606208, 0.063095894106791], [52.09483067501863, 0.0917976671169001], [62.38244145235443, 0.08746709633623215], [65.5192208932617, 0.10247089859643238], [55.33450086941586, 0.10527089233290511], [78.86145806790728, 0.08240303821178452], [76.62869922953342, 0.10052012184009505], [89.4357613764872, 0.09664292123359046], [120.00448340510363, 0.0448505748863163], [100.13584337853825, 0.05392173854835833], [104.62614690555802, 0.08691665572614815], [124.94842503609104, 0.08435030863561516], [147.64389024676527, 0.04348093211771538], [149.30711785046125, 0.07840007051879153], [180.36323754211494, 0.03716221638796445], [181.2256745397795, 0.07106400063392461], [15.370640177224388, 0.07667849665877832], [22.052741540803858, 0.07337411765942067], [18.97847694324571, 0.08757258696780834], [26.161874196391917, 0.08494739520140862], [29.074121155975778, 0.06986134455434803], [36.843326718676515, 0.0661562536728949], [32.93863490721149, 0.08127395279520386], [40.23245283129271, 0.0787258022388706], [22.427247475134767, 0.09930220151726095], [29.374019054342718, 0.09675640088112904], [25.904445023773743, 0.11110592136291426], [31.92409554369101, 0.11073653098473332], [36.422384418541434, 0.09547287216260654], [43.50206111460072, 0.0931850341982139], [38.51821762466063, 0.10917439507064784], [46.34088311260684, 0.10712027784310624], [0.1510613667843259, 0.08116335619258766], [0.22591437712198825, 0.08649008011412382], [7.870745490420536, 0.07825301925852624], [9.8100965043623, 0.0851472136636443], [0.36686651324889397, 0.09208033243785854], [0.37139338945413414, 0.0982354408313075], [8.57333728532889, 0.09397522001426493], [14.104347098402243, 0.09391888827291513], [0.7602922195897506, 0.10399664152841909], [0.6883364361654465, 0.10957888502834857], [0.6850041655577677, 0.11520386921288045], [0.6682211677962364, 0.12069085357428025], [10.829264805083035, 0.1053463304725626], [16.979213340440058, 0.10384274352171455], [13.01481714711095, 0.11637422224839959], [20.06141457214624, 0.11436567159721166], [0.39563997366732195, 0.12684351484110679], [0.5752531759778314, 0.13330953578942228], [12.15918892593482, 0.12562240674615616], [14.502265424299374, 0.13268449913825736], [0.5158927868936125, 0.1406597739062497], [0.38924346407021915, 0.14854156147940514], [14.086346146004853, 0.14025474488188738], [15.790325512513569, 0.14740385218877447], [0.7978871464568726, 0.15654883634758188], [0.5688595126473928, 0.1647391209522382], [0.940097880259529, 0.1732366480060844], [0.6970870562343414, 0.18252539468280576], [15.921644987322033, 0.1552216808806992], [17.816655959327274, 0.1637091365414709], [17.760927613547615, 0.17321225401100618], [19.761418870252744, 0.18267147644385268], [22.652586349701146, 0.12645787860020982], [31.314084366177536, 0.1245930572869722], [33.07395331979987, 0.13905709644970843], [24.72384570902476, 0.14128803636835563], [40.52518620589358, 0.12269936456155503], [42.54685158948301, 0.1369959963914008], [51.717103966062794, 0.12063269729018931], [52.739121097860036, 0.13506701252922773], [30.082465615175018, 0.15332810889569584], [31.280042319702474, 0.1632400017382501], [43.90861503297362, 0.15411509852880118], [54.47287603557269, 0.15200972596048418], [30.716212239398637, 0.17792062355605676], [39.22646064700851, 0.17681456619424285], [51.750935405694214, 0.1683846816213236], [53.234749767159855, 0.1813545232469433], [64.31449846146714, 0.13724384617358165], [76.18662393806562, 0.13689385774043095], [63.82226835546982, 0.11982352699818179], [75.47978336762299, 0.11990220144569157], [94.53023393371956, 0.11389951733856081], [97.93668126577441, 0.13076565181057417], [71.62369454766063, 0.15619581814741554], [73.76467326393498, 0.17744752590954985], [99.00329711597763, 0.15265378355007478], [100.55877565284399, 0.17629893042648775], [141.76010483148013, 0.11439711524204632], [122.94344390463334, 0.12055583403556511], [125.36141865332942, 0.16502126284737165], [144.0648449968121, 0.15729304701968536], [163.65751795461705, 0.11342633346007627], [190.63976750973703, 0.1101399741460704], [173.4993203864996, 0.1474711844851549], [179.50239764272274, 0.17571976547187035], [0.44837422506775937, 0.19257682112557897], [0.3437507166478184, 0.2044894257035268], [0.387106088844817, 0.21733671754205086], [0.2542911621096309, 0.231333887647249], [14.887090098160414, 0.19762900338904155], [14.495981199487368, 0.2211922946570858], [25.048427313763998, 0.19917680701352652], [34.093234441318714, 0.19853041732797386], [43.10545649178317, 0.19993017668220536], [53.87690181677897, 0.2004996901600678], [28.289134355852482, 0.2173315207421814], [27.832036076889125, 0.23098270752573774], [46.70335689713154, 0.22524452813622772], [0.5182052471013137, 0.24719228168796326], [14.710718916455065, 0.24737507242288442], [3.4745814342118955, 0.26426032425942486], [3.279315551131596, 0.2815479162094836], [3.3637444755995, 0.30164483474026393], [28.65846674724932, 0.24722311395262264], [29.479570304991817, 0.2636420688249011], [47.09502570560235, 0.25359473387551346], [36.88043575067125, 0.2811056424870479], [36.73537579740008, 0.30192724724263553], [69.97559903114379, 0.20045928148271366], [70.1424272970024, 0.2268102161002804], [98.64162925237235, 0.20237866379928493], [97.85779916506286, 0.22665866439912757], [69.11069823127903, 0.25691476527202306], [95.24526951347616, 0.25547435710773525], [70.51198084281438, 0.2942561751717873], [96.6166591165723, 0.2875359102641534], [131.59420549045083, 0.20407682515776748], [133.3694440724595, 0.2319053811841426], [161.12875891942605, 0.2096769770514255], [186.26783192973164, 0.20610288077835914], [178.5887191277527, 0.24741766889561095], [187.73380831873956, 0.28529080118020395], [137.36418557184226, 0.2644815560414958], [139.11738309291988, 0.2967503120523572]]\n",
      "time: 3min 13s\n"
     ]
    }
   ],
   "source": [
    "scale_dict = {}\n",
    "\n",
    "for i in range(1):\n",
    "    r_obj = cluster_df(sumstats, route_cols, 200, init_var=True,\\\n",
    "                  scale_dict=scale_dict, bisectingKMean=False,\\\n",
    "                  return_sse = False, debug=True)  \n",
    "\n",
    "    route_kmodel = r_obj[0] #trained on scaled dataframe\n",
    "\n",
    "    route_df = r_obj[4] ##use this to actually denorm the dataframe, has the features\n",
    "    route_scalerModels = r_obj[2]\n",
    "    df_to_denorm = r_obj[1] ##this is the scaled dataframe\n",
    "    unscaled_df = r_obj[5]\n",
    "    centers = route_kmodel.clusterCenters()\n",
    "    \n",
    "    \n",
    "    print 'cost --------------',  route_kmodel.computeCost(route_df)\n",
    "    \n",
    "    print 'error is' + str(sse)\n",
    "    \n",
    "    sse = r_obj[3]\n",
    "\n",
    "    print 'error is' + str(sse)\n",
    "    \n",
    "    denormed_clusters = denormalize_cluster(route_kmodel.clusterCenters(),  route_scalerModels, route_cols)\n",
    "    #save cluster centers for route\n",
    "    #unvector = udf(lambda value: value[0].item(), FloatType())\n",
    "    route_viz_cols = route_cols\n",
    "    for i in range(len(denormed_clusters)):\n",
    "        for j in range(len(route_viz_cols)):\n",
    "            denormed_clusters[i][j] = float(denormed_clusters[i][j][0])\n",
    "    print denormed_clusters\n",
    "    \n",
    "    \n",
    "    \n",
    "    "
   ]
  },
  {
   "cell_type": "code",
   "execution_count": 56,
   "metadata": {
    "collapsed": false,
    "deletable": true,
    "editable": true
   },
   "outputs": [
    {
     "name": "stdout",
     "output_type": "stream",
     "text": [
      "cluster start\n",
      "vectorize done in: 0:00:00.054829\n",
      "------- normalize  diff_altitude -------\n",
      "0:00:01.841054\n",
      "0:00:00.057183\n",
      "------- normalize  geo_distance -------\n",
      "0:00:27.966320\n",
      "0:00:00.046551\n",
      "clustering in  0:01:12.233347\n",
      "cost -------------- 1606.66192259\n",
      "[-0.11883402 -1.10730766]\n",
      "[-0.559727   -0.19897422]\n",
      "[-0.31772617  1.07123167]\n",
      "[-0.55649463  0.14261088]\n",
      "[ 1.83759874  0.17627984]\n",
      "[ 0.94096304 -0.89114341]\n",
      "[ 0.50350264  0.22162925]\n",
      "[-0.01275191 -0.58020454]\n",
      "[-0.55289434 -1.01213082]\n",
      "[ 2.22003555  0.01617072]\n",
      "[-0.55378816  1.34516319]\n",
      "[-0.27266164 -0.14827218]\n",
      "[ 0.08597156  2.07655245]\n",
      "[-0.54325911  2.84216197]\n",
      "[ 1.1128633  1.8694362]\n",
      "[ 0.43433228 -0.22620786]\n",
      "[ 1.10124627  0.76793402]\n",
      "[-0.55894235 -0.4812053 ]\n",
      "[ 1.00242024 -0.17606808]\n",
      "[ 0.69123498 -1.28124598]\n",
      "[ 1.18587698 -0.47652728]\n",
      "[-0.3065456   0.17468337]\n",
      "[ 2.12551143  2.46973789]\n",
      "[-0.27619554 -1.10948404]\n",
      "[-0.17714502  0.3153136 ]\n",
      "[ 0.28696222  1.4466751 ]\n",
      "[ 0.02939856  0.03332989]\n",
      "[ 0.49040081 -0.67319344]\n",
      "[ 0.71615865  0.5386219 ]\n",
      "[-0.55555787 -0.29683208]\n",
      "[-0.04085115 -1.28111437]\n",
      "[-0.33341144 -0.96346489]\n",
      "[ 0.41538223 -1.20630406]\n",
      "[-0.55602815  0.36408841]\n",
      "[ 1.87405667  0.87653108]\n",
      "[ 0.20817597  1.80474089]\n",
      "[-0.55259927  0.95561052]\n",
      "[ 1.58917727 -1.07907789]\n",
      "[ 0.216042    0.57602242]\n",
      "[-0.20672383 -0.2883559 ]\n",
      "[ 0.28811472  0.25884748]\n",
      "[ 0.67860397 -0.26466746]\n",
      "[ 0.08375518  1.11334246]\n",
      "[-0.5596964   0.78802023]\n",
      "[ 0.47792948  2.75887117]\n",
      "[ 2.35195357 -0.54298355]\n",
      "[-0.53450482 -1.31489424]\n",
      "[ 2.84115199  1.0369261 ]\n",
      "[-0.1006762  -0.42551828]\n",
      "[ 0.48174917 -0.4335607 ]\n",
      "[ 0.01108972  2.41340789]\n",
      "[-0.55039517  1.79799205]\n",
      "[-0.55390507 -0.73309119]\n",
      "[ 0.03251891 -0.11516398]\n",
      "[-0.26418124  1.59615542]\n",
      "[-0.11016762 -0.69093797]\n",
      "[ 0.13169706 -0.89124068]\n",
      "[-0.39655076 -0.45709082]\n",
      "[ 0.2111964 -0.1257048]\n",
      "[ 0.15914224  0.3773008 ]\n",
      "[ 2.56553895  1.37266342]\n",
      "[ 1.4695967   2.70420974]\n",
      "[ 0.51869719  0.92967857]\n",
      "[ 0.12903147 -0.57040622]\n",
      "[ 0.0848323  1.3357752]\n",
      "[-0.55252502  2.30846487]\n",
      "[ 1.47558479 -0.66133723]\n",
      "[ 1.43075754  0.13362106]\n",
      "[ 0.00858893 -0.75811907]\n",
      "[ 1.04277161  2.30803712]\n",
      "[-0.30193544  1.97494423]\n",
      "[ 1.34036586  1.53680067]\n",
      "[-0.33616328  0.52131954]\n",
      "[-0.15623535  0.51465337]\n",
      "[ 0.83216763  1.05026987]\n",
      "[-0.24503238 -0.4425754 ]\n",
      "[-0.24470228 -0.69825871]\n",
      "[ 0.68179512 -0.53579713]\n",
      "[-0.5525088  -1.10975646]\n",
      "[ 0.01188316  1.63552317]\n",
      "[-0.55628594  0.63611228]\n",
      "[ 1.63386742 -0.06409122]\n",
      "[ 2.3641838   0.39089578]\n",
      "[ 2.70432864 -0.06786786]\n",
      "[-0.35048409  0.33872513]\n",
      "[ 0.88939899 -0.40829702]\n",
      "[-0.18822851 -0.97106144]\n",
      "[-0.04270434 -0.92492365]\n",
      "[ 0.81825477 -0.03750456]\n",
      "[ 0.1345239   2.78497291]\n",
      "[-0.56019597  0.02803612]\n",
      "[-0.27196403  1.31909263]\n",
      "[-0.41022905 -1.05443474]\n",
      "[-0.13869243  0.07598544]\n",
      "[-0.12044303 -0.10210786]\n",
      "[ 2.32783116  0.91332337]\n",
      "[ 0.36894844  0.43113275]\n",
      "[ 0.58185459 -0.04883041]\n",
      "[ 1.61379114  0.49353206]\n",
      "[ 2.77316531  0.42247527]\n",
      "[-0.38379895 -1.30363511]\n",
      "[ 0.10867354  0.197766  ]\n",
      "[ 0.36777314 -0.05616135]\n",
      "[-0.03638146  0.9317271 ]\n",
      "[ 2.73833158  2.59295182]\n",
      "[ 0.9641122  -0.66423594]\n",
      "[ 1.23864586 -0.83941764]\n",
      "[ 0.26070619 -0.31145883]\n",
      "[-0.22462797 -1.24450283]\n",
      "[-0.24024518  0.67433748]\n",
      "[ 0.05601353 -0.41823505]\n",
      "[-0.40654186 -1.18844495]\n",
      "[ 0.69468918 -0.76262371]\n",
      "[-0.28558641 -0.58081228]\n",
      "[-0.3834548  -0.70278806]\n",
      "[ 1.18465782  1.13079636]\n",
      "[ 1.10612413  0.11305153]\n",
      "[-0.25428288 -1.4114366 ]\n",
      "[ 2.11091824  1.47300678]\n",
      "[-0.11230082  1.84467814]\n",
      "[ 1.55816392 -0.35765464]\n",
      "[-0.55596079 -0.91402669]\n",
      "[-0.25012241  0.00057102]\n",
      "[-0.15657137  2.74727973]\n",
      "[-0.55645646  0.49392041]\n",
      "[ 1.76756867  1.7292846 ]\n",
      "[ 0.25231659 -0.46186221]\n",
      "[ 1.28629709 -0.16798504]\n",
      "[-0.55205251  1.56069032]\n",
      "[ 0.71381263  1.85883527]\n",
      "[ 2.77468047 -0.74239764]\n",
      "[ 0.71800956  1.44812347]\n",
      "[-0.15846182 -0.56883895]\n",
      "[ 1.94665925 -0.25360934]\n",
      "[-0.56028586 -0.56704128]\n",
      "[ 0.29239669  2.39371265]\n",
      "[ 2.25671627 -1.08971693]\n",
      "[ 0.66861122  2.26677429]\n",
      "[-0.5584955  -0.82137798]\n",
      "[ 0.04588818 -1.07966486]\n",
      "[ 1.60919431  1.20075094]\n",
      "[ 0.00398587  0.49714964]\n",
      "[ 1.58528688  2.13366347]\n",
      "[-0.39855798  0.00924209]\n",
      "[ 0.38216427  0.11255154]\n",
      "[-0.36055016 -0.30804836]\n",
      "[-0.25260318  2.38700864]\n",
      "[ 0.6926723   0.16107181]\n",
      "[ 0.16959489 -1.25408633]\n",
      "[ 1.90496405 -0.7029286 ]\n",
      "[-0.43574249 -0.8454363 ]\n",
      "[-0.0881573   1.44194158]\n",
      "[-0.55442335  0.25223678]\n",
      "[ 0.09856381 -0.25997985]\n",
      "[ 0.4850798   0.63063943]\n",
      "[-0.55312633  2.05789901]\n",
      "[-0.41499513 -0.16817523]\n",
      "[ 2.54167438  1.95359225]\n",
      "[ 0.31858271 -0.62349118]\n",
      "[ 0.07212027  0.68962338]\n",
      "[ 0.31560671  1.11772777]\n",
      "[-0.16007432 -0.82349515]\n",
      "[-0.55157498 -1.21156944]\n",
      "[ 2.02183754  0.49532976]\n",
      "[ 0.99667751  1.45097208]\n",
      "[-0.55896398 -0.08696572]\n",
      "[ 0.46999985  1.66714359]\n",
      "[ 0.73398596 -1.05299098]\n",
      "[ 1.44954895  0.82686729]\n",
      "[-0.29966593 -0.8298732 ]\n",
      "[ 0.31110279  0.77619856]\n",
      "[ 0.61699137  0.3703514 ]\n",
      "[-0.06057954  0.17954152]\n",
      "[ 0.8813482   0.26249988]\n",
      "[ 0.88957565  2.7460551 ]\n",
      "[-0.1333418  2.1549616]\n",
      "[-0.54246464 -1.45312916]\n",
      "[-0.01455249  0.32588036]\n",
      "[ 0.99285712  0.48096249]\n",
      "[ 0.16579601 -0.71464339]\n",
      "[-0.55774865 -0.38927723]\n",
      "[-0.55776989 -0.64928351]\n",
      "[-0.1114391   1.16752813]\n",
      "[ 0.20231815  0.05329047]\n",
      "[-0.06584318 -0.26452646]\n",
      "[-0.08347032  0.7343249 ]\n",
      "[-0.36641627  0.78839912]\n",
      "[-0.55038677  2.56781543]\n",
      "[-0.55547655  1.14273646]\n",
      "[-0.42485515 -0.58986494]\n",
      "[ 0.77007013  0.76654276]\n",
      "[ 0.25956352 -1.04869137]\n",
      "[-0.20705593  0.90720726]\n",
      "[ 0.51250771 -0.9351766 ]\n",
      "[ 1.10287815 -1.19210975]\n",
      "[ 0.53382613  1.26249043]\n",
      "[ 0.38765224  2.06081283]\n",
      "[ 0.15723422  0.9056963 ]\n",
      "[ 1.28218839  0.42917212]\n",
      "[ 0.33087321 -0.83262138]\n",
      "[[25.647293582767254, 0.030047553155175072], [0.18711075710013603, 0.09285103539362186], [14.161897682596166, 0.1806749010072586], [0.37377030527573396, 0.11646872120177687], [138.62513176213108, 0.11879664154140236], [86.84724022196573, 0.04499346061589267], [61.5852780903345, 0.12193216564903406], [31.77320217003981, 0.06649222205045094], [0.581675368198276, 0.03662821684282842], [160.70965430553173, 0.10772646647084469], [0.5300605218953258, 0.19961492046786708], [16.764232371869674, 0.09635664797680346], [37.47417186902359, 0.25018422771583576], [1.1380798394664957, 0.3031195731082742], [96.77393973084557, 0.23586391178393273], [57.59090734571515, 0.09096806254711681], [96.10309248874258, 0.15970446427810164], [0.2324219503946665, 0.0733371720038515], [90.39620010764881, 0.09443479902771663], [72.42623013858407, 0.018021206957511], [100.99025023959723, 0.07366061724516607], [14.807540137580968, 0.11868625968328952], [155.25118399743397, 0.2773696357167252], [16.560161056913596, 0.029897075062868622], [22.280016590468016, 0.12840963648069528], [49.08075007161212, 0.20663360020418903], [34.207259067692775, 0.10891287667682967], [60.82868897806215, 0.060062835554458884], [73.86549410398808, 0.1438494940516175], [0.42786495348457976, 0.08608500229891616], [30.15055944770348, 0.018030306306634256], [13.25612244355284, 0.03999304936522169], [56.49660154510768, 0.023202799433349894], [0.4007077643249275, 0.1317819971789324], [140.73046258705645, 0.16721302168474245], [44.53109226321737, 0.23139078479665698], [0.5987150452523906, 0.17268068769941136], [124.27957333378549, 0.03199940002074342], [44.9853308066637, 0.14643541968978518], [20.57193378582586, 0.0866710577805708], [49.14730358753784, 0.12450548765170003], [71.69682905757071, 0.08830891051085193], [37.34618288251436, 0.1835865015170331], [0.18887804445925838, 0.1610932533956867], [60.10850849063511, 0.2973607271914882], [168.32750525225913, 0.06906573515717485], [1.643612575153714, 0.015694717843041356], [196.57717520374914, 0.1783029638902487], [26.695850571265506, 0.07718745271434907], [60.32908390488288, 0.0766313886926146], [33.14998110724621, 0.27347489782770457], [0.7259945180826755, 0.23092416030457333], [0.5233089081588211, 0.05592141899483515], [34.38744933993245, 0.0986457964726669], [17.253948881515782, 0.2169688852392192], [26.14775114106167, 0.05883595322994136], [40.1146756727232, 0.04498673496381805], [9.61002548313737, 0.07500448191795625], [44.70551253568262, 0.09791698864806311], [41.69954847154965, 0.13269552052295164], [180.661389091978, 0.20151632623443907], [117.37417164584016, 0.2935813570447275], [62.46271592953706, 0.17088771513864723], [39.96074612613394, 0.06716969165418424], [37.40838326792577, 0.19896582146615605], [0.6030026596072844, 0.26621898672473643], [117.71996457368493, 0.06088259089676455], [115.13133228128771, 0.11584715249455774], [33.005568470446235, 0.05419095487123655], [92.72636529543428, 0.2661894114442096], [15.073762360057302, 0.2431588892681596], [109.91149697864722, 0.2128650123663886], [13.097212589768656, 0.14265318375453753], [23.4874847064199, 0.14219227491690795], [80.5646474316283, 0.17922557195213934], [18.359735384700944, 0.07600809893445507], [18.378797717621957, 0.05832978642219671], [71.88110808263514, 0.0695626141652535], [0.603939405717135, 0.02987823970299322], [33.19579959080175, 0.2196908279187757], [0.3858210725845055, 0.15059011892769503], [126.86028888015952, 0.10217704039217691], [169.0337625572242, 0.13363549742690925], [188.67605711263337, 0.10191591811178798], [12.27023063953062, 0.13002834291170895], [83.8695789229314, 0.07837815554952278], [21.639980317062665, 0.03946781269834421], [30.04354353566518, 0.0426578458722395], [79.76122365660196, 0.10401528065041389], [40.27791667669192, 0.29916543872456214], [0.16002945137398683, 0.10854685748992518], [16.804517245576164, 0.19781236475127725], [8.820147383569633, 0.033703263052362584], [24.500533215576418, 0.11186214282142896], [25.554378444649288, 0.0995485155758718], [166.93451174579715, 0.16975689351985151], [53.81519632538733, 0.13641753945503926], [66.10985681767457, 0.10323219469157056], [125.70094661870161, 0.1407319172296103], [192.6511584139069, 0.13581894833579247], [10.346402202287194, 0.016473190003869792], [38.78513977284504, 0.12028222621118159], [53.74732680209443, 0.10272532289952474], [30.4086697224346, 0.17102935381314352], [190.63961981700947, 0.28588882436760754], [88.18403152707022, 0.06068217031823421], [104.03748685570793, 0.04856985460205392], [47.56454716278667, 0.08507368733273901], [19.53802608502499, 0.020561681324762854], [18.636181389007657, 0.15323306462679828], [35.74418982233819, 0.07769102567215563], [9.033071076263361, 0.024437604066402982], [72.62569935789172, 0.05387949758444943], [16.017867738276834, 0.06645020214591395], [10.366275857296767, 0.058016620558708626], [100.91984736046729, 0.18479328897313077], [96.38477379378675, 0.11442494559054761], [17.825548114056197, 0.009019639923384892], [154.40847339196708, 0.2084542103907091], [26.02456567690705, 0.2341521041825555], [122.48864957236128, 0.0818796426432335], [0.4045979807509994, 0.043411277731420866], [18.065801935086597, 0.10664788127125785], [23.468080171927376, 0.2965592782434527], [0.3759740771563358, 0.14075876814581226], [134.58111527200353, 0.22617362823718867], [47.08007374400562, 0.07467458147436586], [106.78919525144735, 0.0949936720287397], [0.630288811520753, 0.2145167769343886], [73.73001870869169, 0.23513094829091474], [192.73865434457264, 0.05527795747327097], [73.97237823779076, 0.20673374301391115], [23.3589130494451, 0.06727805563134891], [144.92303300476283, 0.0890734843303149], [0.15483842658242253, 0.06740234862178723], [49.39457384266315, 0.27211314110331924], [162.82785085444257, 0.03126380132069309], [71.11977934469331, 0.26333643997986655], [0.2582263769295423, 0.0498171427135435], [35.15948268973502, 0.03195881627842709], [125.43549459633195, 0.18963004964450092], [32.739756284158815, 0.14098204229452854], [124.05491540378634, 0.25413296585034656], [9.494114600355978, 0.10724741148497577], [54.57836898056583, 0.11439037528421776], [11.688946892539157, 0.08530949204802146], [17.922545280493686, 0.2716496157256643], [72.50923084120787, 0.11774513674036785], [42.30315620403477, 0.01989906410663153], [142.5152665410756, 0.05800690342506032], [7.346826261197101, 0.04815371622989745], [27.418777643458824, 0.20630631773656086], [0.4933797853577673, 0.12404841411969508], [38.20133480535423, 0.08863301866396375], [60.52141734758668, 0.15021171859241264], [0.5682786863403457, 0.2488945017227711], [8.544921062242828, 0.0949805218891426], [179.28328519250434, 0.241682582442019], [50.90673413551018, 0.06349932142385184], [36.67430350737527, 0.1542899537251561], [50.734879574193684, 0.18388970778049177], [23.265796271128043, 0.049670758916481074], [0.6578643559734907, 0.02283874324442843], [149.26434287550356, 0.14085621320253372], [90.0645760327356, 0.20693069946199721], [0.23117291084295033, 0.10059546440734346], [59.650597466177715, 0.22187710962413137], [74.89496532690302, 0.03380308635691365], [116.21647690263566, 0.16377919519490472], [15.204819508251347, 0.0492297711459248], [50.47479188113382, 0.16027588627247097], [68.1388957367295, 0.13221502943360344], [29.01130656525063, 0.11902215926632252], [83.40467060269332, 0.12475801949657248], [83.87978041570403, 0.2964746054314305], [24.80951477693411, 0.25560554964018734], [1.1839579591120497, 0.006136956479341565], [31.669223970986984, 0.1291402374117553], [89.8439600863704, 0.1398628394370458], [42.08378280686379, 0.05719692607417225], [0.3013542063719612, 0.07969321133640347], [0.3001276130343271, 0.06171600261343264], [26.074326964499054, 0.18733297646212344], [44.19282119544127, 0.11029297966460708], [28.707348158031863, 0.08831865942459095], [27.689436311561156, 0.1573806815315017], [11.35019775973996, 0.1611194507399996], [0.7264795518163787, 0.2841508577897134], [0.43256133149055387, 0.1856188447005332], [7.975535932180037, 0.06582428814829072], [76.97871258193005, 0.1596082704588897], [47.49856124128377, 0.03410036800352925], [20.552755780841665, 0.1693340169469571], [62.105292824603126, 0.04194894222500439], [96.19732865685366, 0.0241842143985172], [63.33636429661959, 0.19389880667505166], [54.895282116936144, 0.24909596737889866], [41.58936646196507, 0.16922954664408296], [106.55193102844632, 0.1362819781470181], [51.616471590278806, 0.04903975831546874]]\n",
      "time: 2min 50s\n"
     ]
    }
   ],
   "source": [
    "scale_dict = {}\n",
    "\n",
    "for i in range(1):\n",
    "    r_obj = cluster_df(sumstats, route_cols, 200, init_var=True,\\\n",
    "                  scale_dict=scale_dict, bisectingKMean=True,\\\n",
    "                  return_sse = False, debug=True)  \n",
    "\n",
    "    route_kmodel = r_obj[0] #trained on scaled dataframe\n",
    "\n",
    "    route_df = r_obj[4] ##use this to actually denorm the dataframe, has the features\n",
    "    route_scalerModels = r_obj[2]\n",
    "    df_to_denorm = r_obj[1] ##this is the scaled dataframe\n",
    "    unscaled_df = r_obj[5]\n",
    "    centers = route_kmodel.clusterCenters()\n",
    "\n",
    "\n",
    "    print 'cost --------------',  route_kmodel.computeCost(route_df)\n",
    "    \n",
    "    \n",
    "    denormed_clusters = denormalize_cluster(route_kmodel.clusterCenters(),  route_scalerModels, route_cols)\n",
    "    #save cluster centers for route\n",
    "    #unvector = udf(lambda value: value[0].item(), FloatType())\n",
    "    route_viz_cols = route_cols\n",
    "    for i in range(len(denormed_clusters)):\n",
    "        for j in range(len(route_viz_cols)):\n",
    "            denormed_clusters[i][j] = float(denormed_clusters[i][j][0])\n",
    "    print denormed_clusters"
   ]
  },
  {
   "cell_type": "code",
   "execution_count": null,
   "metadata": {
    "collapsed": true,
    "deletable": true,
    "editable": true
   },
   "outputs": [],
   "source": [
    "sumstats_sam = sumstats.sample(False, 0.1)\n"
   ]
  },
  {
   "cell_type": "code",
   "execution_count": 19,
   "metadata": {
    "collapsed": false,
    "deletable": true,
    "editable": true
   },
   "outputs": [
    {
     "name": "stdout",
     "output_type": "stream",
     "text": [
      "time: 6.74 ms\n"
     ]
    }
   ],
   "source": [
    "route_kmodel = r_obj[0] #trained on scaled dataframe\n",
    "\n",
    "route_df = r_obj[4] ##use this to actually denorm the dataframe, has the features\n",
    "route_scalerModels = r_obj[2]\n",
    "df_to_denorm = r_obj[1] ##this is the scaled dataframe\n",
    "unscaled_df = r_obj[5]\n",
    "centers = route_kmodel.clusterCenters()\n",
    "\n",
    "sse = r_obj[3]\n",
    "#route_df.count()"
   ]
  },
  {
   "cell_type": "code",
   "execution_count": 32,
   "metadata": {
    "collapsed": false,
    "deletable": true,
    "editable": true
   },
   "outputs": [
    {
     "data": {
      "text/plain": [
       "12229.285835948529"
      ]
     },
     "execution_count": 32,
     "metadata": {},
     "output_type": "execute_result"
    },
    {
     "name": "stdout",
     "output_type": "stream",
     "text": [
      "time: 2 ms\n"
     ]
    }
   ],
   "source": [
    "sse"
   ]
  },
  {
   "cell_type": "code",
   "execution_count": 33,
   "metadata": {
    "collapsed": false,
    "deletable": true,
    "editable": true
   },
   "outputs": [
    {
     "name": "stdout",
     "output_type": "stream",
     "text": [
      "time: 701 µs\n"
     ]
    }
   ],
   "source": [
    "# print df_to_denorm.select(route_cols).describe().show()\n",
    "# print route_df.select(route_cols).describe().show()\n",
    "# print unscaled_df.select(route_cols).describe().show()\n"
   ]
  },
  {
   "cell_type": "code",
   "execution_count": 255,
   "metadata": {
    "collapsed": false,
    "deletable": true,
    "editable": true
   },
   "outputs": [
    {
     "name": "stdout",
     "output_type": "stream",
     "text": [
      "['gender', 'workoutid', 'userid', 'start_time', 'start_altitude', 'start_latitude', 'start_longitude', 'series_length', 'series_time_delta', 'series_time_delta_average', 'timezone', 'id', 'altitude_max', 'altitude_min', 'calories', 'distance', 'duration', 'heart_rate_avg', 'heart_rate_max', 'hydration', 'speed_avg', 'speed_max', 'humidity', 'temperature', 'wind_speed', 'elapsed_time', 'time_since_last_workout', 'diff_altitude', 'geo_distance']\n",
      "['gender', 'workoutid', 'userid', 'start_time', 'start_altitude', 'start_latitude', 'start_longitude', 'series_length', 'series_time_delta', 'series_time_delta_average', 'timezone', 'id', 'altitude_max', 'altitude_min', 'calories', 'distance', 'duration', 'heart_rate_avg', 'heart_rate_max', 'hydration', 'speed_avg', 'speed_max', 'humidity', 'temperature', 'wind_speed', 'elapsed_time', 'time_since_last_workout', 'diff_altitude', 'geo_distance', 'features']\n",
      "time: 3.82 ms\n"
     ]
    }
   ],
   "source": [
    "print df_to_denorm.schema.names\n",
    "print route_df.schema.names"
   ]
  },
  {
   "cell_type": "code",
   "execution_count": 256,
   "metadata": {
    "collapsed": false,
    "deletable": true,
    "editable": true
   },
   "outputs": [
    {
     "name": "stdout",
     "output_type": "stream",
     "text": [
      "geo_distance StandardScaler_4f65bc61e2b7d6e5e3e5\n",
      "diff_altitude StandardScaler_4e11ae001c0d68fd079a\n",
      "time: 1.41 ms\n"
     ]
    }
   ],
   "source": [
    "for k,v in route_scalerModels.iteritems():\n",
    "    print k,v"
   ]
  },
  {
   "cell_type": "code",
   "execution_count": 257,
   "metadata": {
    "collapsed": false,
    "deletable": true,
    "editable": true
   },
   "outputs": [
    {
     "name": "stdout",
     "output_type": "stream",
     "text": [
      "time: 575 µs\n"
     ]
    }
   ],
   "source": [
    "###check if routes make sense\n",
    "#route_df.select(route_cols).toPandas().describe()"
   ]
  },
  {
   "cell_type": "code",
   "execution_count": 20,
   "metadata": {
    "collapsed": false,
    "deletable": true,
    "editable": true
   },
   "outputs": [
    {
     "name": "stdout",
     "output_type": "stream",
     "text": [
      "time: 12.9 s\n"
     ]
    }
   ],
   "source": [
    "route_prediction_df = route_kmodel.transform(route_df)\n",
    "#print route_prediction_df.count()\n",
    "route_prediction_cols = ['route_prediction','route_features']\n",
    "distinct_clusters = route_prediction_df.select('prediction').distinct().collect()\n",
    "route_prediction_df = route_prediction_df.withColumnRenamed('prediction', 'route_prediction')\n",
    "route_prediction_df = route_prediction_df.withColumnRenamed('features', 'route_features')\n",
    "\n",
    "route_prediction_df = denorm_df_with_standarscaler(route_scalerModels, route_prediction_df)\n"
   ]
  },
  {
   "cell_type": "code",
   "execution_count": 26,
   "metadata": {
    "collapsed": false,
    "deletable": true,
    "editable": true
   },
   "outputs": [
    {
     "name": "stdout",
     "output_type": "stream",
     "text": [
      "+-------+------------------+-------------------+\n",
      "|summary|diff_altitude     |geo_distance       |\n",
      "+-------+------------------+-------------------+\n",
      "|count  |29324             |29324              |\n",
      "|mean   |25.881679190930146|0.10199525112995474|\n",
      "|stddev |31.01545638731787 |0.05946394300081676|\n",
      "|min    |1.1260349E-6      |8.336154E-6        |\n",
      "|max    |201.59677         |0.3161977          |\n",
      "+-------+------------------+-------------------+\n",
      "\n",
      "time: 11.9 s\n"
     ]
    }
   ],
   "source": [
    "route_prediction_df.select(route_cols).describe().show(10,False)"
   ]
  },
  {
   "cell_type": "code",
   "execution_count": null,
   "metadata": {
    "collapsed": true,
    "deletable": true,
    "editable": true
   },
   "outputs": [],
   "source": [
    "route_prediction_df.select(['diff_altitude','geo_distance'])."
   ]
  },
  {
   "cell_type": "code",
   "execution_count": 34,
   "metadata": {
    "collapsed": false,
    "deletable": true,
    "editable": true
   },
   "outputs": [
    {
     "name": "stdout",
     "output_type": "stream",
     "text": [
      "+----------------+------------------+--------------------+---------------------+\n",
      "|route_prediction|avg(diff_altitude)|   avg(geo_distance)|avg(route_prediction)|\n",
      "+----------------+------------------+--------------------+---------------------+\n",
      "|               1| 24.30398074361864| 0.15952563095747355|                  1.0|\n",
      "|               3| 30.55235880054157| 0.24229117455594826|                  3.0|\n",
      "|               4| 98.98522567157826| 0.10638206452167355|                  4.0|\n",
      "|               2| 16.48113372680445| 0.10395872559496612|                  2.0|\n",
      "|               0|16.127577447330815|0.047774470214660296|                  0.0|\n",
      "+----------------+------------------+--------------------+---------------------+\n",
      "\n",
      "time: 13.1 s\n"
     ]
    }
   ],
   "source": [
    "route_prediction_df.select(['diff_altitude','geo_distance','route_prediction']).groupby('route_prediction')\\\n",
    ".avg().show()"
   ]
  },
  {
   "cell_type": "code",
   "execution_count": 35,
   "metadata": {
    "collapsed": false,
    "deletable": true,
    "editable": true
   },
   "outputs": [
    {
     "name": "stdout",
     "output_type": "stream",
     "text": [
      "+----------------+-----+\n",
      "|route_prediction|count|\n",
      "+----------------+-----+\n",
      "|               1| 4735|\n",
      "|               3| 2101|\n",
      "|               4| 2581|\n",
      "|               2| 8915|\n",
      "|               0|10992|\n",
      "+----------------+-----+\n",
      "\n",
      "time: 13.6 s\n"
     ]
    }
   ],
   "source": [
    "route_prediction_df.select(['diff_altitude','geo_distance','route_prediction']).groupby('route_prediction')\\\n",
    ".count().show()"
   ]
  },
  {
   "cell_type": "code",
   "execution_count": 19,
   "metadata": {
    "collapsed": false,
    "deletable": true,
    "editable": true
   },
   "outputs": [
    {
     "name": "stdout",
     "output_type": "stream",
     "text": [
      "time: 652 µs\n"
     ]
    }
   ],
   "source": [
    "#route_prediction_df.groupBy('route_prediction').count().show()\n",
    "#route_prediction_df = fix_df(route_prediction_df)"
   ]
  },
  {
   "cell_type": "code",
   "execution_count": 36,
   "metadata": {
    "collapsed": false,
    "deletable": true,
    "editable": true
   },
   "outputs": [
    {
     "data": {
      "text/plain": [
       "[array([-0.03452128,  1.90703461]),\n",
       " array([-0.29317571, -0.93364758]),\n",
       " array([-0.22140951,  0.5833277 ]),\n",
       " array([-0.23296272, -0.23229265]),\n",
       " array([ 1.21485895,  0.10069048])]"
      ]
     },
     "execution_count": 36,
     "metadata": {},
     "output_type": "execute_result"
    },
    {
     "name": "stdout",
     "output_type": "stream",
     "text": [
      "time: 7.22 ms\n"
     ]
    }
   ],
   "source": [
    "route_kmodel.clusterCenters()"
   ]
  },
  {
   "cell_type": "code",
   "execution_count": 20,
   "metadata": {
    "collapsed": false,
    "deletable": true,
    "editable": true
   },
   "outputs": [
    {
     "name": "stdout",
     "output_type": "stream",
     "text": [
      "[-0.28492909 -0.84064899]\n",
      "[-0.10301519  0.7480206 ]\n",
      "[-0.29001081 -0.02719032]\n",
      "[-0.05638096  1.9202533 ]\n",
      "[ 1.19099972 -0.02086711]\n",
      "[[16.200947555564518, 0.04826058749924713], [26.480365890157664, 0.15924813419587366], [15.913794539578674, 0.1050903919181153], [29.11552822863611, 0.24114259012946393], [99.6013325009954, 0.10553214322358877]]\n",
      "time: 71.2 ms\n"
     ]
    }
   ],
   "source": [
    "denormed_clusters = denormalize_cluster(route_kmodel.clusterCenters(),  route_scalerModels, route_cols)\n",
    "#save cluster centers for route\n",
    "#unvector = udf(lambda value: value[0].item(), FloatType())\n",
    "route_viz_cols = route_cols\n",
    "for i in range(len(denormed_clusters)):\n",
    "    for j in range(len(route_viz_cols)):\n",
    "        denormed_clusters[i][j] = float(denormed_clusters[i][j][0])\n",
    "print denormed_clusters"
   ]
  },
  {
   "cell_type": "code",
   "execution_count": 25,
   "metadata": {
    "collapsed": false,
    "deletable": true,
    "editable": true
   },
   "outputs": [
    {
     "ename": "Py4JJavaError",
     "evalue": "An error occurred while calling o300.showString.\n: org.apache.spark.SparkException: Job aborted due to stage failure: Task 0 in stage 92.0 failed 1 times, most recent failure: Lost task 0.0 in stage 92.0 (TID 1839, localhost, executor driver): java.lang.NullPointerException\n\tat org.apache.spark.sql.execution.datasources.jdbc.JdbcUtils$$anonfun$org$apache$spark$sql$execution$datasources$jdbc$JdbcUtils$$makeGetter$13.apply(JdbcUtils.scala:427)\n\tat org.apache.spark.sql.execution.datasources.jdbc.JdbcUtils$$anonfun$org$apache$spark$sql$execution$datasources$jdbc$JdbcUtils$$makeGetter$13.apply(JdbcUtils.scala:425)\n\tat org.apache.spark.sql.execution.datasources.jdbc.JdbcUtils$$anon$1.getNext(JdbcUtils.scala:286)\n\tat org.apache.spark.sql.execution.datasources.jdbc.JdbcUtils$$anon$1.getNext(JdbcUtils.scala:268)\n\tat org.apache.spark.util.NextIterator.hasNext(NextIterator.scala:73)\n\tat org.apache.spark.util.CompletionIterator.hasNext(CompletionIterator.scala:32)\n\tat org.apache.spark.sql.catalyst.expressions.GeneratedClass$GeneratedIterator.processNext(Unknown Source)\n\tat org.apache.spark.sql.execution.BufferedRowIterator.hasNext(BufferedRowIterator.java:43)\n\tat org.apache.spark.sql.execution.WholeStageCodegenExec$$anonfun$8$$anon$1.hasNext(WholeStageCodegenExec.scala:377)\n\tat scala.collection.Iterator$$anon$11.hasNext(Iterator.scala:408)\n\tat scala.collection.Iterator$$anon$11.hasNext(Iterator.scala:408)\n\tat scala.collection.Iterator$GroupedIterator.takeDestructively(Iterator.scala:1075)\n\tat scala.collection.Iterator$GroupedIterator.go(Iterator.scala:1091)\n\tat scala.collection.Iterator$GroupedIterator.fill(Iterator.scala:1128)\n\tat scala.collection.Iterator$GroupedIterator.hasNext(Iterator.scala:1132)\n\tat scala.collection.Iterator$$anon$11.hasNext(Iterator.scala:408)\n\tat scala.collection.Iterator$class.foreach(Iterator.scala:893)\n\tat scala.collection.AbstractIterator.foreach(Iterator.scala:1336)\n\tat org.apache.spark.api.python.PythonRDD$.writeIteratorToStream(PythonRDD.scala:504)\n\tat org.apache.spark.api.python.PythonRunner$WriterThread$$anonfun$run$3.apply(PythonRDD.scala:328)\n\tat org.apache.spark.util.Utils$.logUncaughtExceptions(Utils.scala:1951)\n\tat org.apache.spark.api.python.PythonRunner$WriterThread.run(PythonRDD.scala:269)\n\nDriver stacktrace:\n\tat org.apache.spark.scheduler.DAGScheduler.org$apache$spark$scheduler$DAGScheduler$$failJobAndIndependentStages(DAGScheduler.scala:1435)\n\tat org.apache.spark.scheduler.DAGScheduler$$anonfun$abortStage$1.apply(DAGScheduler.scala:1423)\n\tat org.apache.spark.scheduler.DAGScheduler$$anonfun$abortStage$1.apply(DAGScheduler.scala:1422)\n\tat scala.collection.mutable.ResizableArray$class.foreach(ResizableArray.scala:59)\n\tat scala.collection.mutable.ArrayBuffer.foreach(ArrayBuffer.scala:48)\n\tat org.apache.spark.scheduler.DAGScheduler.abortStage(DAGScheduler.scala:1422)\n\tat org.apache.spark.scheduler.DAGScheduler$$anonfun$handleTaskSetFailed$1.apply(DAGScheduler.scala:802)\n\tat org.apache.spark.scheduler.DAGScheduler$$anonfun$handleTaskSetFailed$1.apply(DAGScheduler.scala:802)\n\tat scala.Option.foreach(Option.scala:257)\n\tat org.apache.spark.scheduler.DAGScheduler.handleTaskSetFailed(DAGScheduler.scala:802)\n\tat org.apache.spark.scheduler.DAGSchedulerEventProcessLoop.doOnReceive(DAGScheduler.scala:1650)\n\tat org.apache.spark.scheduler.DAGSchedulerEventProcessLoop.onReceive(DAGScheduler.scala:1605)\n\tat org.apache.spark.scheduler.DAGSchedulerEventProcessLoop.onReceive(DAGScheduler.scala:1594)\n\tat org.apache.spark.util.EventLoop$$anon$1.run(EventLoop.scala:48)\n\tat org.apache.spark.scheduler.DAGScheduler.runJob(DAGScheduler.scala:628)\n\tat org.apache.spark.SparkContext.runJob(SparkContext.scala:1918)\n\tat org.apache.spark.SparkContext.runJob(SparkContext.scala:1931)\n\tat org.apache.spark.SparkContext.runJob(SparkContext.scala:1944)\n\tat org.apache.spark.sql.execution.SparkPlan.executeTake(SparkPlan.scala:333)\n\tat org.apache.spark.sql.execution.CollectLimitExec.executeCollect(limit.scala:38)\n\tat org.apache.spark.sql.Dataset$$anonfun$org$apache$spark$sql$Dataset$$execute$1$1.apply(Dataset.scala:2371)\n\tat org.apache.spark.sql.execution.SQLExecution$.withNewExecutionId(SQLExecution.scala:57)\n\tat org.apache.spark.sql.Dataset.withNewExecutionId(Dataset.scala:2765)\n\tat org.apache.spark.sql.Dataset.org$apache$spark$sql$Dataset$$execute$1(Dataset.scala:2370)\n\tat org.apache.spark.sql.Dataset.org$apache$spark$sql$Dataset$$collect(Dataset.scala:2377)\n\tat org.apache.spark.sql.Dataset$$anonfun$head$1.apply(Dataset.scala:2113)\n\tat org.apache.spark.sql.Dataset$$anonfun$head$1.apply(Dataset.scala:2112)\n\tat org.apache.spark.sql.Dataset.withTypedCallback(Dataset.scala:2795)\n\tat org.apache.spark.sql.Dataset.head(Dataset.scala:2112)\n\tat org.apache.spark.sql.Dataset.take(Dataset.scala:2327)\n\tat org.apache.spark.sql.Dataset.showString(Dataset.scala:248)\n\tat sun.reflect.NativeMethodAccessorImpl.invoke0(Native Method)\n\tat sun.reflect.NativeMethodAccessorImpl.invoke(NativeMethodAccessorImpl.java:62)\n\tat sun.reflect.DelegatingMethodAccessorImpl.invoke(DelegatingMethodAccessorImpl.java:43)\n\tat java.lang.reflect.Method.invoke(Method.java:497)\n\tat py4j.reflection.MethodInvoker.invoke(MethodInvoker.java:244)\n\tat py4j.reflection.ReflectionEngine.invoke(ReflectionEngine.java:357)\n\tat py4j.Gateway.invoke(Gateway.java:280)\n\tat py4j.commands.AbstractCommand.invokeMethod(AbstractCommand.java:132)\n\tat py4j.commands.CallCommand.execute(CallCommand.java:79)\n\tat py4j.GatewayConnection.run(GatewayConnection.java:214)\n\tat java.lang.Thread.run(Thread.java:745)\nCaused by: java.lang.NullPointerException\n\tat org.apache.spark.sql.execution.datasources.jdbc.JdbcUtils$$anonfun$org$apache$spark$sql$execution$datasources$jdbc$JdbcUtils$$makeGetter$13.apply(JdbcUtils.scala:427)\n\tat org.apache.spark.sql.execution.datasources.jdbc.JdbcUtils$$anonfun$org$apache$spark$sql$execution$datasources$jdbc$JdbcUtils$$makeGetter$13.apply(JdbcUtils.scala:425)\n\tat org.apache.spark.sql.execution.datasources.jdbc.JdbcUtils$$anon$1.getNext(JdbcUtils.scala:286)\n\tat org.apache.spark.sql.execution.datasources.jdbc.JdbcUtils$$anon$1.getNext(JdbcUtils.scala:268)\n\tat org.apache.spark.util.NextIterator.hasNext(NextIterator.scala:73)\n\tat org.apache.spark.util.CompletionIterator.hasNext(CompletionIterator.scala:32)\n\tat org.apache.spark.sql.catalyst.expressions.GeneratedClass$GeneratedIterator.processNext(Unknown Source)\n\tat org.apache.spark.sql.execution.BufferedRowIterator.hasNext(BufferedRowIterator.java:43)\n\tat org.apache.spark.sql.execution.WholeStageCodegenExec$$anonfun$8$$anon$1.hasNext(WholeStageCodegenExec.scala:377)\n\tat scala.collection.Iterator$$anon$11.hasNext(Iterator.scala:408)\n\tat scala.collection.Iterator$$anon$11.hasNext(Iterator.scala:408)\n\tat scala.collection.Iterator$GroupedIterator.takeDestructively(Iterator.scala:1075)\n\tat scala.collection.Iterator$GroupedIterator.go(Iterator.scala:1091)\n\tat scala.collection.Iterator$GroupedIterator.fill(Iterator.scala:1128)\n\tat scala.collection.Iterator$GroupedIterator.hasNext(Iterator.scala:1132)\n\tat scala.collection.Iterator$$anon$11.hasNext(Iterator.scala:408)\n\tat scala.collection.Iterator$class.foreach(Iterator.scala:893)\n\tat scala.collection.AbstractIterator.foreach(Iterator.scala:1336)\n\tat org.apache.spark.api.python.PythonRDD$.writeIteratorToStream(PythonRDD.scala:504)\n\tat org.apache.spark.api.python.PythonRunner$WriterThread$$anonfun$run$3.apply(PythonRDD.scala:328)\n\tat org.apache.spark.util.Utils$.logUncaughtExceptions(Utils.scala:1951)\n\tat org.apache.spark.api.python.PythonRunner$WriterThread.run(PythonRDD.scala:269)\n",
     "output_type": "error",
     "traceback": [
      "\u001b[0;31m---------------------------------------------------------------------------\u001b[0m",
      "\u001b[0;31mPy4JJavaError\u001b[0m                             Traceback (most recent call last)",
      "\u001b[0;32m<ipython-input-25-2e4150b65906>\u001b[0m in \u001b[0;36m<module>\u001b[0;34m()\u001b[0m\n\u001b[0;32m----> 1\u001b[0;31m \u001b[0mroute_prediction_df\u001b[0m\u001b[0;34m.\u001b[0m\u001b[0mshow\u001b[0m\u001b[0;34m(\u001b[0m\u001b[0;34m)\u001b[0m\u001b[0;34m\u001b[0m\u001b[0m\n\u001b[0m",
      "\u001b[0;32m/Users/momori/app/spark-2.1.0-bin-hadoop2.7/python/pyspark/sql/dataframe.pyc\u001b[0m in \u001b[0;36mshow\u001b[0;34m(self, n, truncate)\u001b[0m\n\u001b[1;32m    316\u001b[0m         \"\"\"\n\u001b[1;32m    317\u001b[0m         \u001b[0;32mif\u001b[0m \u001b[0misinstance\u001b[0m\u001b[0;34m(\u001b[0m\u001b[0mtruncate\u001b[0m\u001b[0;34m,\u001b[0m \u001b[0mbool\u001b[0m\u001b[0;34m)\u001b[0m \u001b[0;32mand\u001b[0m \u001b[0mtruncate\u001b[0m\u001b[0;34m:\u001b[0m\u001b[0;34m\u001b[0m\u001b[0m\n\u001b[0;32m--> 318\u001b[0;31m             \u001b[0;32mprint\u001b[0m\u001b[0;34m(\u001b[0m\u001b[0mself\u001b[0m\u001b[0;34m.\u001b[0m\u001b[0m_jdf\u001b[0m\u001b[0;34m.\u001b[0m\u001b[0mshowString\u001b[0m\u001b[0;34m(\u001b[0m\u001b[0mn\u001b[0m\u001b[0;34m,\u001b[0m \u001b[0;36m20\u001b[0m\u001b[0;34m)\u001b[0m\u001b[0;34m)\u001b[0m\u001b[0;34m\u001b[0m\u001b[0m\n\u001b[0m\u001b[1;32m    319\u001b[0m         \u001b[0;32melse\u001b[0m\u001b[0;34m:\u001b[0m\u001b[0;34m\u001b[0m\u001b[0m\n\u001b[1;32m    320\u001b[0m             \u001b[0;32mprint\u001b[0m\u001b[0;34m(\u001b[0m\u001b[0mself\u001b[0m\u001b[0;34m.\u001b[0m\u001b[0m_jdf\u001b[0m\u001b[0;34m.\u001b[0m\u001b[0mshowString\u001b[0m\u001b[0;34m(\u001b[0m\u001b[0mn\u001b[0m\u001b[0;34m,\u001b[0m \u001b[0mint\u001b[0m\u001b[0;34m(\u001b[0m\u001b[0mtruncate\u001b[0m\u001b[0;34m)\u001b[0m\u001b[0;34m)\u001b[0m\u001b[0;34m)\u001b[0m\u001b[0;34m\u001b[0m\u001b[0m\n",
      "\u001b[0;32m/Users/momori/app/spark-2.1.0-bin-hadoop2.7/python/lib/py4j-0.10.4-src.zip/py4j/java_gateway.py\u001b[0m in \u001b[0;36m__call__\u001b[0;34m(self, *args)\u001b[0m\n\u001b[1;32m   1131\u001b[0m         \u001b[0manswer\u001b[0m \u001b[0;34m=\u001b[0m \u001b[0mself\u001b[0m\u001b[0;34m.\u001b[0m\u001b[0mgateway_client\u001b[0m\u001b[0;34m.\u001b[0m\u001b[0msend_command\u001b[0m\u001b[0;34m(\u001b[0m\u001b[0mcommand\u001b[0m\u001b[0;34m)\u001b[0m\u001b[0;34m\u001b[0m\u001b[0m\n\u001b[1;32m   1132\u001b[0m         return_value = get_return_value(\n\u001b[0;32m-> 1133\u001b[0;31m             answer, self.gateway_client, self.target_id, self.name)\n\u001b[0m\u001b[1;32m   1134\u001b[0m \u001b[0;34m\u001b[0m\u001b[0m\n\u001b[1;32m   1135\u001b[0m         \u001b[0;32mfor\u001b[0m \u001b[0mtemp_arg\u001b[0m \u001b[0;32min\u001b[0m \u001b[0mtemp_args\u001b[0m\u001b[0;34m:\u001b[0m\u001b[0;34m\u001b[0m\u001b[0m\n",
      "\u001b[0;32m/Users/momori/app/spark-2.1.0-bin-hadoop2.7/python/pyspark/sql/utils.pyc\u001b[0m in \u001b[0;36mdeco\u001b[0;34m(*a, **kw)\u001b[0m\n\u001b[1;32m     61\u001b[0m     \u001b[0;32mdef\u001b[0m \u001b[0mdeco\u001b[0m\u001b[0;34m(\u001b[0m\u001b[0;34m*\u001b[0m\u001b[0ma\u001b[0m\u001b[0;34m,\u001b[0m \u001b[0;34m**\u001b[0m\u001b[0mkw\u001b[0m\u001b[0;34m)\u001b[0m\u001b[0;34m:\u001b[0m\u001b[0;34m\u001b[0m\u001b[0m\n\u001b[1;32m     62\u001b[0m         \u001b[0;32mtry\u001b[0m\u001b[0;34m:\u001b[0m\u001b[0;34m\u001b[0m\u001b[0m\n\u001b[0;32m---> 63\u001b[0;31m             \u001b[0;32mreturn\u001b[0m \u001b[0mf\u001b[0m\u001b[0;34m(\u001b[0m\u001b[0;34m*\u001b[0m\u001b[0ma\u001b[0m\u001b[0;34m,\u001b[0m \u001b[0;34m**\u001b[0m\u001b[0mkw\u001b[0m\u001b[0;34m)\u001b[0m\u001b[0;34m\u001b[0m\u001b[0m\n\u001b[0m\u001b[1;32m     64\u001b[0m         \u001b[0;32mexcept\u001b[0m \u001b[0mpy4j\u001b[0m\u001b[0;34m.\u001b[0m\u001b[0mprotocol\u001b[0m\u001b[0;34m.\u001b[0m\u001b[0mPy4JJavaError\u001b[0m \u001b[0;32mas\u001b[0m \u001b[0me\u001b[0m\u001b[0;34m:\u001b[0m\u001b[0;34m\u001b[0m\u001b[0m\n\u001b[1;32m     65\u001b[0m             \u001b[0ms\u001b[0m \u001b[0;34m=\u001b[0m \u001b[0me\u001b[0m\u001b[0;34m.\u001b[0m\u001b[0mjava_exception\u001b[0m\u001b[0;34m.\u001b[0m\u001b[0mtoString\u001b[0m\u001b[0;34m(\u001b[0m\u001b[0;34m)\u001b[0m\u001b[0;34m\u001b[0m\u001b[0m\n",
      "\u001b[0;32m/Users/momori/app/spark-2.1.0-bin-hadoop2.7/python/lib/py4j-0.10.4-src.zip/py4j/protocol.py\u001b[0m in \u001b[0;36mget_return_value\u001b[0;34m(answer, gateway_client, target_id, name)\u001b[0m\n\u001b[1;32m    317\u001b[0m                 raise Py4JJavaError(\n\u001b[1;32m    318\u001b[0m                     \u001b[0;34m\"An error occurred while calling {0}{1}{2}.\\n\"\u001b[0m\u001b[0;34m.\u001b[0m\u001b[0;34m\u001b[0m\u001b[0m\n\u001b[0;32m--> 319\u001b[0;31m                     format(target_id, \".\", name), value)\n\u001b[0m\u001b[1;32m    320\u001b[0m             \u001b[0;32melse\u001b[0m\u001b[0;34m:\u001b[0m\u001b[0;34m\u001b[0m\u001b[0m\n\u001b[1;32m    321\u001b[0m                 raise Py4JError(\n",
      "\u001b[0;31mPy4JJavaError\u001b[0m: An error occurred while calling o300.showString.\n: org.apache.spark.SparkException: Job aborted due to stage failure: Task 0 in stage 92.0 failed 1 times, most recent failure: Lost task 0.0 in stage 92.0 (TID 1839, localhost, executor driver): java.lang.NullPointerException\n\tat org.apache.spark.sql.execution.datasources.jdbc.JdbcUtils$$anonfun$org$apache$spark$sql$execution$datasources$jdbc$JdbcUtils$$makeGetter$13.apply(JdbcUtils.scala:427)\n\tat org.apache.spark.sql.execution.datasources.jdbc.JdbcUtils$$anonfun$org$apache$spark$sql$execution$datasources$jdbc$JdbcUtils$$makeGetter$13.apply(JdbcUtils.scala:425)\n\tat org.apache.spark.sql.execution.datasources.jdbc.JdbcUtils$$anon$1.getNext(JdbcUtils.scala:286)\n\tat org.apache.spark.sql.execution.datasources.jdbc.JdbcUtils$$anon$1.getNext(JdbcUtils.scala:268)\n\tat org.apache.spark.util.NextIterator.hasNext(NextIterator.scala:73)\n\tat org.apache.spark.util.CompletionIterator.hasNext(CompletionIterator.scala:32)\n\tat org.apache.spark.sql.catalyst.expressions.GeneratedClass$GeneratedIterator.processNext(Unknown Source)\n\tat org.apache.spark.sql.execution.BufferedRowIterator.hasNext(BufferedRowIterator.java:43)\n\tat org.apache.spark.sql.execution.WholeStageCodegenExec$$anonfun$8$$anon$1.hasNext(WholeStageCodegenExec.scala:377)\n\tat scala.collection.Iterator$$anon$11.hasNext(Iterator.scala:408)\n\tat scala.collection.Iterator$$anon$11.hasNext(Iterator.scala:408)\n\tat scala.collection.Iterator$GroupedIterator.takeDestructively(Iterator.scala:1075)\n\tat scala.collection.Iterator$GroupedIterator.go(Iterator.scala:1091)\n\tat scala.collection.Iterator$GroupedIterator.fill(Iterator.scala:1128)\n\tat scala.collection.Iterator$GroupedIterator.hasNext(Iterator.scala:1132)\n\tat scala.collection.Iterator$$anon$11.hasNext(Iterator.scala:408)\n\tat scala.collection.Iterator$class.foreach(Iterator.scala:893)\n\tat scala.collection.AbstractIterator.foreach(Iterator.scala:1336)\n\tat org.apache.spark.api.python.PythonRDD$.writeIteratorToStream(PythonRDD.scala:504)\n\tat org.apache.spark.api.python.PythonRunner$WriterThread$$anonfun$run$3.apply(PythonRDD.scala:328)\n\tat org.apache.spark.util.Utils$.logUncaughtExceptions(Utils.scala:1951)\n\tat org.apache.spark.api.python.PythonRunner$WriterThread.run(PythonRDD.scala:269)\n\nDriver stacktrace:\n\tat org.apache.spark.scheduler.DAGScheduler.org$apache$spark$scheduler$DAGScheduler$$failJobAndIndependentStages(DAGScheduler.scala:1435)\n\tat org.apache.spark.scheduler.DAGScheduler$$anonfun$abortStage$1.apply(DAGScheduler.scala:1423)\n\tat org.apache.spark.scheduler.DAGScheduler$$anonfun$abortStage$1.apply(DAGScheduler.scala:1422)\n\tat scala.collection.mutable.ResizableArray$class.foreach(ResizableArray.scala:59)\n\tat scala.collection.mutable.ArrayBuffer.foreach(ArrayBuffer.scala:48)\n\tat org.apache.spark.scheduler.DAGScheduler.abortStage(DAGScheduler.scala:1422)\n\tat org.apache.spark.scheduler.DAGScheduler$$anonfun$handleTaskSetFailed$1.apply(DAGScheduler.scala:802)\n\tat org.apache.spark.scheduler.DAGScheduler$$anonfun$handleTaskSetFailed$1.apply(DAGScheduler.scala:802)\n\tat scala.Option.foreach(Option.scala:257)\n\tat org.apache.spark.scheduler.DAGScheduler.handleTaskSetFailed(DAGScheduler.scala:802)\n\tat org.apache.spark.scheduler.DAGSchedulerEventProcessLoop.doOnReceive(DAGScheduler.scala:1650)\n\tat org.apache.spark.scheduler.DAGSchedulerEventProcessLoop.onReceive(DAGScheduler.scala:1605)\n\tat org.apache.spark.scheduler.DAGSchedulerEventProcessLoop.onReceive(DAGScheduler.scala:1594)\n\tat org.apache.spark.util.EventLoop$$anon$1.run(EventLoop.scala:48)\n\tat org.apache.spark.scheduler.DAGScheduler.runJob(DAGScheduler.scala:628)\n\tat org.apache.spark.SparkContext.runJob(SparkContext.scala:1918)\n\tat org.apache.spark.SparkContext.runJob(SparkContext.scala:1931)\n\tat org.apache.spark.SparkContext.runJob(SparkContext.scala:1944)\n\tat org.apache.spark.sql.execution.SparkPlan.executeTake(SparkPlan.scala:333)\n\tat org.apache.spark.sql.execution.CollectLimitExec.executeCollect(limit.scala:38)\n\tat org.apache.spark.sql.Dataset$$anonfun$org$apache$spark$sql$Dataset$$execute$1$1.apply(Dataset.scala:2371)\n\tat org.apache.spark.sql.execution.SQLExecution$.withNewExecutionId(SQLExecution.scala:57)\n\tat org.apache.spark.sql.Dataset.withNewExecutionId(Dataset.scala:2765)\n\tat org.apache.spark.sql.Dataset.org$apache$spark$sql$Dataset$$execute$1(Dataset.scala:2370)\n\tat org.apache.spark.sql.Dataset.org$apache$spark$sql$Dataset$$collect(Dataset.scala:2377)\n\tat org.apache.spark.sql.Dataset$$anonfun$head$1.apply(Dataset.scala:2113)\n\tat org.apache.spark.sql.Dataset$$anonfun$head$1.apply(Dataset.scala:2112)\n\tat org.apache.spark.sql.Dataset.withTypedCallback(Dataset.scala:2795)\n\tat org.apache.spark.sql.Dataset.head(Dataset.scala:2112)\n\tat org.apache.spark.sql.Dataset.take(Dataset.scala:2327)\n\tat org.apache.spark.sql.Dataset.showString(Dataset.scala:248)\n\tat sun.reflect.NativeMethodAccessorImpl.invoke0(Native Method)\n\tat sun.reflect.NativeMethodAccessorImpl.invoke(NativeMethodAccessorImpl.java:62)\n\tat sun.reflect.DelegatingMethodAccessorImpl.invoke(DelegatingMethodAccessorImpl.java:43)\n\tat java.lang.reflect.Method.invoke(Method.java:497)\n\tat py4j.reflection.MethodInvoker.invoke(MethodInvoker.java:244)\n\tat py4j.reflection.ReflectionEngine.invoke(ReflectionEngine.java:357)\n\tat py4j.Gateway.invoke(Gateway.java:280)\n\tat py4j.commands.AbstractCommand.invokeMethod(AbstractCommand.java:132)\n\tat py4j.commands.CallCommand.execute(CallCommand.java:79)\n\tat py4j.GatewayConnection.run(GatewayConnection.java:214)\n\tat java.lang.Thread.run(Thread.java:745)\nCaused by: java.lang.NullPointerException\n\tat org.apache.spark.sql.execution.datasources.jdbc.JdbcUtils$$anonfun$org$apache$spark$sql$execution$datasources$jdbc$JdbcUtils$$makeGetter$13.apply(JdbcUtils.scala:427)\n\tat org.apache.spark.sql.execution.datasources.jdbc.JdbcUtils$$anonfun$org$apache$spark$sql$execution$datasources$jdbc$JdbcUtils$$makeGetter$13.apply(JdbcUtils.scala:425)\n\tat org.apache.spark.sql.execution.datasources.jdbc.JdbcUtils$$anon$1.getNext(JdbcUtils.scala:286)\n\tat org.apache.spark.sql.execution.datasources.jdbc.JdbcUtils$$anon$1.getNext(JdbcUtils.scala:268)\n\tat org.apache.spark.util.NextIterator.hasNext(NextIterator.scala:73)\n\tat org.apache.spark.util.CompletionIterator.hasNext(CompletionIterator.scala:32)\n\tat org.apache.spark.sql.catalyst.expressions.GeneratedClass$GeneratedIterator.processNext(Unknown Source)\n\tat org.apache.spark.sql.execution.BufferedRowIterator.hasNext(BufferedRowIterator.java:43)\n\tat org.apache.spark.sql.execution.WholeStageCodegenExec$$anonfun$8$$anon$1.hasNext(WholeStageCodegenExec.scala:377)\n\tat scala.collection.Iterator$$anon$11.hasNext(Iterator.scala:408)\n\tat scala.collection.Iterator$$anon$11.hasNext(Iterator.scala:408)\n\tat scala.collection.Iterator$GroupedIterator.takeDestructively(Iterator.scala:1075)\n\tat scala.collection.Iterator$GroupedIterator.go(Iterator.scala:1091)\n\tat scala.collection.Iterator$GroupedIterator.fill(Iterator.scala:1128)\n\tat scala.collection.Iterator$GroupedIterator.hasNext(Iterator.scala:1132)\n\tat scala.collection.Iterator$$anon$11.hasNext(Iterator.scala:408)\n\tat scala.collection.Iterator$class.foreach(Iterator.scala:893)\n\tat scala.collection.AbstractIterator.foreach(Iterator.scala:1336)\n\tat org.apache.spark.api.python.PythonRDD$.writeIteratorToStream(PythonRDD.scala:504)\n\tat org.apache.spark.api.python.PythonRunner$WriterThread$$anonfun$run$3.apply(PythonRDD.scala:328)\n\tat org.apache.spark.util.Utils$.logUncaughtExceptions(Utils.scala:1951)\n\tat org.apache.spark.api.python.PythonRunner$WriterThread.run(PythonRDD.scala:269)\n"
     ]
    },
    {
     "name": "stdout",
     "output_type": "stream",
     "text": [
      "time: 1min 5s\n"
     ]
    }
   ],
   "source": [
    "route_prediction_df.show()"
   ]
  },
  {
   "cell_type": "code",
   "execution_count": 44,
   "metadata": {
    "collapsed": false,
    "deletable": true,
    "editable": true
   },
   "outputs": [
    {
     "name": "stdout",
     "output_type": "stream",
     "text": [
      "+------------------+------------------+\n",
      "|          altitude|          distance|\n",
      "+------------------+------------------+\n",
      "|16.200947555564518|2.4130293749623566|\n",
      "|26.480365890157664| 7.962406709793683|\n",
      "|15.913794539578674| 5.254519595905765|\n",
      "| 29.11552822863611|12.057129506473196|\n",
      "|  99.6013325009954| 5.276607161179438|\n",
      "+------------------+------------------+\n",
      "\n",
      "time: 46 ms\n"
     ]
    }
   ],
   "source": [
    "#for presentation\n",
    "p_df = pd.DataFrame(denormed_clusters, columns=['altitude', 'distance'])\n",
    "p_df.distance = p_df.distance * 50\n",
    "p_df = spark.createDataFrame(p_df)\n",
    "p_df.show()"
   ]
  },
  {
   "cell_type": "code",
   "execution_count": 45,
   "metadata": {
    "collapsed": false,
    "deletable": true,
    "editable": true
   },
   "outputs": [
    {
     "name": "stdout",
     "output_type": "stream",
     "text": [
      "time: 83 ms\n"
     ]
    }
   ],
   "source": [
    "#check error in each cluster\n",
    "#define why we used this clustering\n",
    "denormed_clusters\n",
    "\n",
    "rdf = route_prediction_df.select(['diff_altitude', 'geo_distance', 'route_prediction'])\n",
    "df_slices = []\n",
    "for i in range(5):\n",
    "    df_slice = rdf.where(rdf['route_prediction']==i)\n",
    "    df_slices.append(df_slice)\n",
    "\n",
    "\n",
    "\n"
   ]
  },
  {
   "cell_type": "code",
   "execution_count": 66,
   "metadata": {
    "collapsed": false,
    "deletable": true,
    "editable": true
   },
   "outputs": [
    {
     "ename": "Py4JJavaError",
     "evalue": "An error occurred while calling o2727.describe.\n: org.apache.spark.SparkException: Job aborted due to stage failure: Task 0 in stage 1219.0 failed 1 times, most recent failure: Lost task 0.0 in stage 1219.0 (TID 18545, localhost, executor driver): org.postgresql.util.PSQLException: The connection attempt failed.\n\tat org.postgresql.core.v3.ConnectionFactoryImpl.openConnectionImpl(ConnectionFactoryImpl.java:272)\n\tat org.postgresql.core.ConnectionFactory.openConnection(ConnectionFactory.java:52)\n\tat org.postgresql.jdbc.PgConnection.<init>(PgConnection.java:216)\n\tat org.postgresql.Driver.makeConnection(Driver.java:404)\n\tat org.postgresql.Driver.connect(Driver.java:272)\n\tat org.apache.spark.sql.execution.datasources.jdbc.JdbcUtils$$anonfun$createConnectionFactory$1.apply(JdbcUtils.scala:59)\n\tat org.apache.spark.sql.execution.datasources.jdbc.JdbcUtils$$anonfun$createConnectionFactory$1.apply(JdbcUtils.scala:50)\n\tat org.apache.spark.sql.execution.datasources.jdbc.JDBCRDD.compute(JDBCRDD.scala:286)\n\tat org.apache.spark.rdd.RDD.computeOrReadCheckpoint(RDD.scala:323)\n\tat org.apache.spark.rdd.RDD.iterator(RDD.scala:287)\n\tat org.apache.spark.rdd.MapPartitionsRDD.compute(MapPartitionsRDD.scala:38)\n\tat org.apache.spark.rdd.RDD.computeOrReadCheckpoint(RDD.scala:323)\n\tat org.apache.spark.rdd.RDD.iterator(RDD.scala:287)\n\tat org.apache.spark.rdd.MapPartitionsRDD.compute(MapPartitionsRDD.scala:38)\n\tat org.apache.spark.rdd.RDD.computeOrReadCheckpoint(RDD.scala:323)\n\tat org.apache.spark.rdd.RDD.iterator(RDD.scala:287)\n\tat org.apache.spark.rdd.MapPartitionsRDD.compute(MapPartitionsRDD.scala:38)\n\tat org.apache.spark.rdd.RDD.computeOrReadCheckpoint(RDD.scala:323)\n\tat org.apache.spark.rdd.RDD.iterator(RDD.scala:287)\n\tat org.apache.spark.rdd.MapPartitionsRDD.compute(MapPartitionsRDD.scala:38)\n\tat org.apache.spark.rdd.RDD.computeOrReadCheckpoint(RDD.scala:323)\n\tat org.apache.spark.rdd.RDD.iterator(RDD.scala:287)\n\tat org.apache.spark.rdd.MapPartitionsRDD.compute(MapPartitionsRDD.scala:38)\n\tat org.apache.spark.rdd.RDD.computeOrReadCheckpoint(RDD.scala:323)\n\tat org.apache.spark.rdd.RDD.iterator(RDD.scala:287)\n\tat org.apache.spark.rdd.MapPartitionsRDD.compute(MapPartitionsRDD.scala:38)\n\tat org.apache.spark.rdd.RDD.computeOrReadCheckpoint(RDD.scala:323)\n\tat org.apache.spark.rdd.RDD.iterator(RDD.scala:287)\n\tat org.apache.spark.rdd.MapPartitionsRDD.compute(MapPartitionsRDD.scala:38)\n\tat org.apache.spark.rdd.RDD.computeOrReadCheckpoint(RDD.scala:323)\n\tat org.apache.spark.rdd.RDD.iterator(RDD.scala:287)\n\tat org.apache.spark.scheduler.ShuffleMapTask.runTask(ShuffleMapTask.scala:96)\n\tat org.apache.spark.scheduler.ShuffleMapTask.runTask(ShuffleMapTask.scala:53)\n\tat org.apache.spark.scheduler.Task.run(Task.scala:99)\n\tat org.apache.spark.executor.Executor$TaskRunner.run(Executor.scala:282)\n\tat java.util.concurrent.ThreadPoolExecutor.runWorker(ThreadPoolExecutor.java:1142)\n\tat java.util.concurrent.ThreadPoolExecutor$Worker.run(ThreadPoolExecutor.java:617)\n\tat java.lang.Thread.run(Thread.java:745)\nCaused by: java.net.SocketTimeoutException: connect timed out\n\tat java.net.PlainSocketImpl.socketConnect(Native Method)\n\tat java.net.AbstractPlainSocketImpl.doConnect(AbstractPlainSocketImpl.java:350)\n\tat java.net.AbstractPlainSocketImpl.connectToAddress(AbstractPlainSocketImpl.java:206)\n\tat java.net.AbstractPlainSocketImpl.connect(AbstractPlainSocketImpl.java:188)\n\tat java.net.SocksSocketImpl.connect(SocksSocketImpl.java:392)\n\tat java.net.Socket.connect(Socket.java:589)\n\tat org.postgresql.core.PGStream.<init>(PGStream.java:61)\n\tat org.postgresql.core.v3.ConnectionFactoryImpl.openConnectionImpl(ConnectionFactoryImpl.java:144)\n\t... 37 more\n\nDriver stacktrace:\n\tat org.apache.spark.scheduler.DAGScheduler.org$apache$spark$scheduler$DAGScheduler$$failJobAndIndependentStages(DAGScheduler.scala:1435)\n\tat org.apache.spark.scheduler.DAGScheduler$$anonfun$abortStage$1.apply(DAGScheduler.scala:1423)\n\tat org.apache.spark.scheduler.DAGScheduler$$anonfun$abortStage$1.apply(DAGScheduler.scala:1422)\n\tat scala.collection.mutable.ResizableArray$class.foreach(ResizableArray.scala:59)\n\tat scala.collection.mutable.ArrayBuffer.foreach(ArrayBuffer.scala:48)\n\tat org.apache.spark.scheduler.DAGScheduler.abortStage(DAGScheduler.scala:1422)\n\tat org.apache.spark.scheduler.DAGScheduler$$anonfun$handleTaskSetFailed$1.apply(DAGScheduler.scala:802)\n\tat org.apache.spark.scheduler.DAGScheduler$$anonfun$handleTaskSetFailed$1.apply(DAGScheduler.scala:802)\n\tat scala.Option.foreach(Option.scala:257)\n\tat org.apache.spark.scheduler.DAGScheduler.handleTaskSetFailed(DAGScheduler.scala:802)\n\tat org.apache.spark.scheduler.DAGSchedulerEventProcessLoop.doOnReceive(DAGScheduler.scala:1650)\n\tat org.apache.spark.scheduler.DAGSchedulerEventProcessLoop.onReceive(DAGScheduler.scala:1605)\n\tat org.apache.spark.scheduler.DAGSchedulerEventProcessLoop.onReceive(DAGScheduler.scala:1594)\n\tat org.apache.spark.util.EventLoop$$anon$1.run(EventLoop.scala:48)\n\tat org.apache.spark.scheduler.DAGScheduler.runJob(DAGScheduler.scala:628)\n\tat org.apache.spark.SparkContext.runJob(SparkContext.scala:1918)\n\tat org.apache.spark.SparkContext.runJob(SparkContext.scala:1931)\n\tat org.apache.spark.SparkContext.runJob(SparkContext.scala:1944)\n\tat org.apache.spark.sql.execution.SparkPlan.executeTake(SparkPlan.scala:333)\n\tat org.apache.spark.sql.execution.CollectLimitExec.executeCollect(limit.scala:38)\n\tat org.apache.spark.sql.Dataset$$anonfun$org$apache$spark$sql$Dataset$$execute$1$1.apply(Dataset.scala:2371)\n\tat org.apache.spark.sql.execution.SQLExecution$.withNewExecutionId(SQLExecution.scala:57)\n\tat org.apache.spark.sql.Dataset.withNewExecutionId(Dataset.scala:2765)\n\tat org.apache.spark.sql.Dataset.org$apache$spark$sql$Dataset$$execute$1(Dataset.scala:2370)\n\tat org.apache.spark.sql.Dataset.org$apache$spark$sql$Dataset$$collect(Dataset.scala:2377)\n\tat org.apache.spark.sql.Dataset$$anonfun$head$1.apply(Dataset.scala:2113)\n\tat org.apache.spark.sql.Dataset$$anonfun$head$1.apply(Dataset.scala:2112)\n\tat org.apache.spark.sql.Dataset.withTypedCallback(Dataset.scala:2795)\n\tat org.apache.spark.sql.Dataset.head(Dataset.scala:2112)\n\tat org.apache.spark.sql.Dataset.head(Dataset.scala:2121)\n\tat org.apache.spark.sql.Dataset$$anonfun$describe$1.apply(Dataset.scala:2085)\n\tat org.apache.spark.sql.Dataset$$anonfun$describe$1.apply(Dataset.scala:2067)\n\tat org.apache.spark.sql.Dataset.org$apache$spark$sql$Dataset$$withPlan(Dataset.scala:2822)\n\tat org.apache.spark.sql.Dataset.describe(Dataset.scala:2067)\n\tat sun.reflect.NativeMethodAccessorImpl.invoke0(Native Method)\n\tat sun.reflect.NativeMethodAccessorImpl.invoke(NativeMethodAccessorImpl.java:62)\n\tat sun.reflect.DelegatingMethodAccessorImpl.invoke(DelegatingMethodAccessorImpl.java:43)\n\tat java.lang.reflect.Method.invoke(Method.java:497)\n\tat py4j.reflection.MethodInvoker.invoke(MethodInvoker.java:244)\n\tat py4j.reflection.ReflectionEngine.invoke(ReflectionEngine.java:357)\n\tat py4j.Gateway.invoke(Gateway.java:280)\n\tat py4j.commands.AbstractCommand.invokeMethod(AbstractCommand.java:132)\n\tat py4j.commands.CallCommand.execute(CallCommand.java:79)\n\tat py4j.GatewayConnection.run(GatewayConnection.java:214)\n\tat java.lang.Thread.run(Thread.java:745)\nCaused by: org.postgresql.util.PSQLException: The connection attempt failed.\n\tat org.postgresql.core.v3.ConnectionFactoryImpl.openConnectionImpl(ConnectionFactoryImpl.java:272)\n\tat org.postgresql.core.ConnectionFactory.openConnection(ConnectionFactory.java:52)\n\tat org.postgresql.jdbc.PgConnection.<init>(PgConnection.java:216)\n\tat org.postgresql.Driver.makeConnection(Driver.java:404)\n\tat org.postgresql.Driver.connect(Driver.java:272)\n\tat org.apache.spark.sql.execution.datasources.jdbc.JdbcUtils$$anonfun$createConnectionFactory$1.apply(JdbcUtils.scala:59)\n\tat org.apache.spark.sql.execution.datasources.jdbc.JdbcUtils$$anonfun$createConnectionFactory$1.apply(JdbcUtils.scala:50)\n\tat org.apache.spark.sql.execution.datasources.jdbc.JDBCRDD.compute(JDBCRDD.scala:286)\n\tat org.apache.spark.rdd.RDD.computeOrReadCheckpoint(RDD.scala:323)\n\tat org.apache.spark.rdd.RDD.iterator(RDD.scala:287)\n\tat org.apache.spark.rdd.MapPartitionsRDD.compute(MapPartitionsRDD.scala:38)\n\tat org.apache.spark.rdd.RDD.computeOrReadCheckpoint(RDD.scala:323)\n\tat org.apache.spark.rdd.RDD.iterator(RDD.scala:287)\n\tat org.apache.spark.rdd.MapPartitionsRDD.compute(MapPartitionsRDD.scala:38)\n\tat org.apache.spark.rdd.RDD.computeOrReadCheckpoint(RDD.scala:323)\n\tat org.apache.spark.rdd.RDD.iterator(RDD.scala:287)\n\tat org.apache.spark.rdd.MapPartitionsRDD.compute(MapPartitionsRDD.scala:38)\n\tat org.apache.spark.rdd.RDD.computeOrReadCheckpoint(RDD.scala:323)\n\tat org.apache.spark.rdd.RDD.iterator(RDD.scala:287)\n\tat org.apache.spark.rdd.MapPartitionsRDD.compute(MapPartitionsRDD.scala:38)\n\tat org.apache.spark.rdd.RDD.computeOrReadCheckpoint(RDD.scala:323)\n\tat org.apache.spark.rdd.RDD.iterator(RDD.scala:287)\n\tat org.apache.spark.rdd.MapPartitionsRDD.compute(MapPartitionsRDD.scala:38)\n\tat org.apache.spark.rdd.RDD.computeOrReadCheckpoint(RDD.scala:323)\n\tat org.apache.spark.rdd.RDD.iterator(RDD.scala:287)\n\tat org.apache.spark.rdd.MapPartitionsRDD.compute(MapPartitionsRDD.scala:38)\n\tat org.apache.spark.rdd.RDD.computeOrReadCheckpoint(RDD.scala:323)\n\tat org.apache.spark.rdd.RDD.iterator(RDD.scala:287)\n\tat org.apache.spark.rdd.MapPartitionsRDD.compute(MapPartitionsRDD.scala:38)\n\tat org.apache.spark.rdd.RDD.computeOrReadCheckpoint(RDD.scala:323)\n\tat org.apache.spark.rdd.RDD.iterator(RDD.scala:287)\n\tat org.apache.spark.scheduler.ShuffleMapTask.runTask(ShuffleMapTask.scala:96)\n\tat org.apache.spark.scheduler.ShuffleMapTask.runTask(ShuffleMapTask.scala:53)\n\tat org.apache.spark.scheduler.Task.run(Task.scala:99)\n\tat org.apache.spark.executor.Executor$TaskRunner.run(Executor.scala:282)\n\tat java.util.concurrent.ThreadPoolExecutor.runWorker(ThreadPoolExecutor.java:1142)\n\tat java.util.concurrent.ThreadPoolExecutor$Worker.run(ThreadPoolExecutor.java:617)\n\t... 1 more\nCaused by: java.net.SocketTimeoutException: connect timed out\n\tat java.net.PlainSocketImpl.socketConnect(Native Method)\n\tat java.net.AbstractPlainSocketImpl.doConnect(AbstractPlainSocketImpl.java:350)\n\tat java.net.AbstractPlainSocketImpl.connectToAddress(AbstractPlainSocketImpl.java:206)\n\tat java.net.AbstractPlainSocketImpl.connect(AbstractPlainSocketImpl.java:188)\n\tat java.net.SocksSocketImpl.connect(SocksSocketImpl.java:392)\n\tat java.net.Socket.connect(Socket.java:589)\n\tat org.postgresql.core.PGStream.<init>(PGStream.java:61)\n\tat org.postgresql.core.v3.ConnectionFactoryImpl.openConnectionImpl(ConnectionFactoryImpl.java:144)\n\t... 37 more\n",
     "output_type": "error",
     "traceback": [
      "\u001b[0;31m---------------------------------------------------------------------------\u001b[0m",
      "\u001b[0;31mPy4JJavaError\u001b[0m                             Traceback (most recent call last)",
      "\u001b[0;32m<ipython-input-66-bca2d85d1fc5>\u001b[0m in \u001b[0;36m<module>\u001b[0;34m()\u001b[0m\n\u001b[1;32m      1\u001b[0m \u001b[0;32mfor\u001b[0m \u001b[0mdf\u001b[0m \u001b[0;32min\u001b[0m \u001b[0mdf_slices\u001b[0m\u001b[0;34m:\u001b[0m\u001b[0;34m\u001b[0m\u001b[0m\n\u001b[0;32m----> 2\u001b[0;31m     \u001b[0;32mprint\u001b[0m \u001b[0mdf\u001b[0m\u001b[0;34m.\u001b[0m\u001b[0mdescribe\u001b[0m\u001b[0;34m(\u001b[0m\u001b[0;34m)\u001b[0m\u001b[0;34m.\u001b[0m\u001b[0mshow\u001b[0m\u001b[0;34m(\u001b[0m\u001b[0;34m)\u001b[0m\u001b[0;34m\u001b[0m\u001b[0m\n\u001b[0m",
      "\u001b[0;32m/Users/momori/app/spark-2.1.0-bin-hadoop2.7/python/pyspark/sql/dataframe.pyc\u001b[0m in \u001b[0;36mdescribe\u001b[0;34m(self, *cols)\u001b[0m\n\u001b[1;32m    891\u001b[0m         \u001b[0;32mif\u001b[0m \u001b[0mlen\u001b[0m\u001b[0;34m(\u001b[0m\u001b[0mcols\u001b[0m\u001b[0;34m)\u001b[0m \u001b[0;34m==\u001b[0m \u001b[0;36m1\u001b[0m \u001b[0;32mand\u001b[0m \u001b[0misinstance\u001b[0m\u001b[0;34m(\u001b[0m\u001b[0mcols\u001b[0m\u001b[0;34m[\u001b[0m\u001b[0;36m0\u001b[0m\u001b[0;34m]\u001b[0m\u001b[0;34m,\u001b[0m \u001b[0mlist\u001b[0m\u001b[0;34m)\u001b[0m\u001b[0;34m:\u001b[0m\u001b[0;34m\u001b[0m\u001b[0m\n\u001b[1;32m    892\u001b[0m             \u001b[0mcols\u001b[0m \u001b[0;34m=\u001b[0m \u001b[0mcols\u001b[0m\u001b[0;34m[\u001b[0m\u001b[0;36m0\u001b[0m\u001b[0;34m]\u001b[0m\u001b[0;34m\u001b[0m\u001b[0m\n\u001b[0;32m--> 893\u001b[0;31m         \u001b[0mjdf\u001b[0m \u001b[0;34m=\u001b[0m \u001b[0mself\u001b[0m\u001b[0;34m.\u001b[0m\u001b[0m_jdf\u001b[0m\u001b[0;34m.\u001b[0m\u001b[0mdescribe\u001b[0m\u001b[0;34m(\u001b[0m\u001b[0mself\u001b[0m\u001b[0;34m.\u001b[0m\u001b[0m_jseq\u001b[0m\u001b[0;34m(\u001b[0m\u001b[0mcols\u001b[0m\u001b[0;34m)\u001b[0m\u001b[0;34m)\u001b[0m\u001b[0;34m\u001b[0m\u001b[0m\n\u001b[0m\u001b[1;32m    894\u001b[0m         \u001b[0;32mreturn\u001b[0m \u001b[0mDataFrame\u001b[0m\u001b[0;34m(\u001b[0m\u001b[0mjdf\u001b[0m\u001b[0;34m,\u001b[0m \u001b[0mself\u001b[0m\u001b[0;34m.\u001b[0m\u001b[0msql_ctx\u001b[0m\u001b[0;34m)\u001b[0m\u001b[0;34m\u001b[0m\u001b[0m\n\u001b[1;32m    895\u001b[0m \u001b[0;34m\u001b[0m\u001b[0m\n",
      "\u001b[0;32m/Users/momori/app/spark-2.1.0-bin-hadoop2.7/python/lib/py4j-0.10.4-src.zip/py4j/java_gateway.py\u001b[0m in \u001b[0;36m__call__\u001b[0;34m(self, *args)\u001b[0m\n\u001b[1;32m   1131\u001b[0m         \u001b[0manswer\u001b[0m \u001b[0;34m=\u001b[0m \u001b[0mself\u001b[0m\u001b[0;34m.\u001b[0m\u001b[0mgateway_client\u001b[0m\u001b[0;34m.\u001b[0m\u001b[0msend_command\u001b[0m\u001b[0;34m(\u001b[0m\u001b[0mcommand\u001b[0m\u001b[0;34m)\u001b[0m\u001b[0;34m\u001b[0m\u001b[0m\n\u001b[1;32m   1132\u001b[0m         return_value = get_return_value(\n\u001b[0;32m-> 1133\u001b[0;31m             answer, self.gateway_client, self.target_id, self.name)\n\u001b[0m\u001b[1;32m   1134\u001b[0m \u001b[0;34m\u001b[0m\u001b[0m\n\u001b[1;32m   1135\u001b[0m         \u001b[0;32mfor\u001b[0m \u001b[0mtemp_arg\u001b[0m \u001b[0;32min\u001b[0m \u001b[0mtemp_args\u001b[0m\u001b[0;34m:\u001b[0m\u001b[0;34m\u001b[0m\u001b[0m\n",
      "\u001b[0;32m/Users/momori/app/spark-2.1.0-bin-hadoop2.7/python/pyspark/sql/utils.pyc\u001b[0m in \u001b[0;36mdeco\u001b[0;34m(*a, **kw)\u001b[0m\n\u001b[1;32m     61\u001b[0m     \u001b[0;32mdef\u001b[0m \u001b[0mdeco\u001b[0m\u001b[0;34m(\u001b[0m\u001b[0;34m*\u001b[0m\u001b[0ma\u001b[0m\u001b[0;34m,\u001b[0m \u001b[0;34m**\u001b[0m\u001b[0mkw\u001b[0m\u001b[0;34m)\u001b[0m\u001b[0;34m:\u001b[0m\u001b[0;34m\u001b[0m\u001b[0m\n\u001b[1;32m     62\u001b[0m         \u001b[0;32mtry\u001b[0m\u001b[0;34m:\u001b[0m\u001b[0;34m\u001b[0m\u001b[0m\n\u001b[0;32m---> 63\u001b[0;31m             \u001b[0;32mreturn\u001b[0m \u001b[0mf\u001b[0m\u001b[0;34m(\u001b[0m\u001b[0;34m*\u001b[0m\u001b[0ma\u001b[0m\u001b[0;34m,\u001b[0m \u001b[0;34m**\u001b[0m\u001b[0mkw\u001b[0m\u001b[0;34m)\u001b[0m\u001b[0;34m\u001b[0m\u001b[0m\n\u001b[0m\u001b[1;32m     64\u001b[0m         \u001b[0;32mexcept\u001b[0m \u001b[0mpy4j\u001b[0m\u001b[0;34m.\u001b[0m\u001b[0mprotocol\u001b[0m\u001b[0;34m.\u001b[0m\u001b[0mPy4JJavaError\u001b[0m \u001b[0;32mas\u001b[0m \u001b[0me\u001b[0m\u001b[0;34m:\u001b[0m\u001b[0;34m\u001b[0m\u001b[0m\n\u001b[1;32m     65\u001b[0m             \u001b[0ms\u001b[0m \u001b[0;34m=\u001b[0m \u001b[0me\u001b[0m\u001b[0;34m.\u001b[0m\u001b[0mjava_exception\u001b[0m\u001b[0;34m.\u001b[0m\u001b[0mtoString\u001b[0m\u001b[0;34m(\u001b[0m\u001b[0;34m)\u001b[0m\u001b[0;34m\u001b[0m\u001b[0m\n",
      "\u001b[0;32m/Users/momori/app/spark-2.1.0-bin-hadoop2.7/python/lib/py4j-0.10.4-src.zip/py4j/protocol.py\u001b[0m in \u001b[0;36mget_return_value\u001b[0;34m(answer, gateway_client, target_id, name)\u001b[0m\n\u001b[1;32m    317\u001b[0m                 raise Py4JJavaError(\n\u001b[1;32m    318\u001b[0m                     \u001b[0;34m\"An error occurred while calling {0}{1}{2}.\\n\"\u001b[0m\u001b[0;34m.\u001b[0m\u001b[0;34m\u001b[0m\u001b[0m\n\u001b[0;32m--> 319\u001b[0;31m                     format(target_id, \".\", name), value)\n\u001b[0m\u001b[1;32m    320\u001b[0m             \u001b[0;32melse\u001b[0m\u001b[0;34m:\u001b[0m\u001b[0;34m\u001b[0m\u001b[0m\n\u001b[1;32m    321\u001b[0m                 raise Py4JError(\n",
      "\u001b[0;31mPy4JJavaError\u001b[0m: An error occurred while calling o2727.describe.\n: org.apache.spark.SparkException: Job aborted due to stage failure: Task 0 in stage 1219.0 failed 1 times, most recent failure: Lost task 0.0 in stage 1219.0 (TID 18545, localhost, executor driver): org.postgresql.util.PSQLException: The connection attempt failed.\n\tat org.postgresql.core.v3.ConnectionFactoryImpl.openConnectionImpl(ConnectionFactoryImpl.java:272)\n\tat org.postgresql.core.ConnectionFactory.openConnection(ConnectionFactory.java:52)\n\tat org.postgresql.jdbc.PgConnection.<init>(PgConnection.java:216)\n\tat org.postgresql.Driver.makeConnection(Driver.java:404)\n\tat org.postgresql.Driver.connect(Driver.java:272)\n\tat org.apache.spark.sql.execution.datasources.jdbc.JdbcUtils$$anonfun$createConnectionFactory$1.apply(JdbcUtils.scala:59)\n\tat org.apache.spark.sql.execution.datasources.jdbc.JdbcUtils$$anonfun$createConnectionFactory$1.apply(JdbcUtils.scala:50)\n\tat org.apache.spark.sql.execution.datasources.jdbc.JDBCRDD.compute(JDBCRDD.scala:286)\n\tat org.apache.spark.rdd.RDD.computeOrReadCheckpoint(RDD.scala:323)\n\tat org.apache.spark.rdd.RDD.iterator(RDD.scala:287)\n\tat org.apache.spark.rdd.MapPartitionsRDD.compute(MapPartitionsRDD.scala:38)\n\tat org.apache.spark.rdd.RDD.computeOrReadCheckpoint(RDD.scala:323)\n\tat org.apache.spark.rdd.RDD.iterator(RDD.scala:287)\n\tat org.apache.spark.rdd.MapPartitionsRDD.compute(MapPartitionsRDD.scala:38)\n\tat org.apache.spark.rdd.RDD.computeOrReadCheckpoint(RDD.scala:323)\n\tat org.apache.spark.rdd.RDD.iterator(RDD.scala:287)\n\tat org.apache.spark.rdd.MapPartitionsRDD.compute(MapPartitionsRDD.scala:38)\n\tat org.apache.spark.rdd.RDD.computeOrReadCheckpoint(RDD.scala:323)\n\tat org.apache.spark.rdd.RDD.iterator(RDD.scala:287)\n\tat org.apache.spark.rdd.MapPartitionsRDD.compute(MapPartitionsRDD.scala:38)\n\tat org.apache.spark.rdd.RDD.computeOrReadCheckpoint(RDD.scala:323)\n\tat org.apache.spark.rdd.RDD.iterator(RDD.scala:287)\n\tat org.apache.spark.rdd.MapPartitionsRDD.compute(MapPartitionsRDD.scala:38)\n\tat org.apache.spark.rdd.RDD.computeOrReadCheckpoint(RDD.scala:323)\n\tat org.apache.spark.rdd.RDD.iterator(RDD.scala:287)\n\tat org.apache.spark.rdd.MapPartitionsRDD.compute(MapPartitionsRDD.scala:38)\n\tat org.apache.spark.rdd.RDD.computeOrReadCheckpoint(RDD.scala:323)\n\tat org.apache.spark.rdd.RDD.iterator(RDD.scala:287)\n\tat org.apache.spark.rdd.MapPartitionsRDD.compute(MapPartitionsRDD.scala:38)\n\tat org.apache.spark.rdd.RDD.computeOrReadCheckpoint(RDD.scala:323)\n\tat org.apache.spark.rdd.RDD.iterator(RDD.scala:287)\n\tat org.apache.spark.scheduler.ShuffleMapTask.runTask(ShuffleMapTask.scala:96)\n\tat org.apache.spark.scheduler.ShuffleMapTask.runTask(ShuffleMapTask.scala:53)\n\tat org.apache.spark.scheduler.Task.run(Task.scala:99)\n\tat org.apache.spark.executor.Executor$TaskRunner.run(Executor.scala:282)\n\tat java.util.concurrent.ThreadPoolExecutor.runWorker(ThreadPoolExecutor.java:1142)\n\tat java.util.concurrent.ThreadPoolExecutor$Worker.run(ThreadPoolExecutor.java:617)\n\tat java.lang.Thread.run(Thread.java:745)\nCaused by: java.net.SocketTimeoutException: connect timed out\n\tat java.net.PlainSocketImpl.socketConnect(Native Method)\n\tat java.net.AbstractPlainSocketImpl.doConnect(AbstractPlainSocketImpl.java:350)\n\tat java.net.AbstractPlainSocketImpl.connectToAddress(AbstractPlainSocketImpl.java:206)\n\tat java.net.AbstractPlainSocketImpl.connect(AbstractPlainSocketImpl.java:188)\n\tat java.net.SocksSocketImpl.connect(SocksSocketImpl.java:392)\n\tat java.net.Socket.connect(Socket.java:589)\n\tat org.postgresql.core.PGStream.<init>(PGStream.java:61)\n\tat org.postgresql.core.v3.ConnectionFactoryImpl.openConnectionImpl(ConnectionFactoryImpl.java:144)\n\t... 37 more\n\nDriver stacktrace:\n\tat org.apache.spark.scheduler.DAGScheduler.org$apache$spark$scheduler$DAGScheduler$$failJobAndIndependentStages(DAGScheduler.scala:1435)\n\tat org.apache.spark.scheduler.DAGScheduler$$anonfun$abortStage$1.apply(DAGScheduler.scala:1423)\n\tat org.apache.spark.scheduler.DAGScheduler$$anonfun$abortStage$1.apply(DAGScheduler.scala:1422)\n\tat scala.collection.mutable.ResizableArray$class.foreach(ResizableArray.scala:59)\n\tat scala.collection.mutable.ArrayBuffer.foreach(ArrayBuffer.scala:48)\n\tat org.apache.spark.scheduler.DAGScheduler.abortStage(DAGScheduler.scala:1422)\n\tat org.apache.spark.scheduler.DAGScheduler$$anonfun$handleTaskSetFailed$1.apply(DAGScheduler.scala:802)\n\tat org.apache.spark.scheduler.DAGScheduler$$anonfun$handleTaskSetFailed$1.apply(DAGScheduler.scala:802)\n\tat scala.Option.foreach(Option.scala:257)\n\tat org.apache.spark.scheduler.DAGScheduler.handleTaskSetFailed(DAGScheduler.scala:802)\n\tat org.apache.spark.scheduler.DAGSchedulerEventProcessLoop.doOnReceive(DAGScheduler.scala:1650)\n\tat org.apache.spark.scheduler.DAGSchedulerEventProcessLoop.onReceive(DAGScheduler.scala:1605)\n\tat org.apache.spark.scheduler.DAGSchedulerEventProcessLoop.onReceive(DAGScheduler.scala:1594)\n\tat org.apache.spark.util.EventLoop$$anon$1.run(EventLoop.scala:48)\n\tat org.apache.spark.scheduler.DAGScheduler.runJob(DAGScheduler.scala:628)\n\tat org.apache.spark.SparkContext.runJob(SparkContext.scala:1918)\n\tat org.apache.spark.SparkContext.runJob(SparkContext.scala:1931)\n\tat org.apache.spark.SparkContext.runJob(SparkContext.scala:1944)\n\tat org.apache.spark.sql.execution.SparkPlan.executeTake(SparkPlan.scala:333)\n\tat org.apache.spark.sql.execution.CollectLimitExec.executeCollect(limit.scala:38)\n\tat org.apache.spark.sql.Dataset$$anonfun$org$apache$spark$sql$Dataset$$execute$1$1.apply(Dataset.scala:2371)\n\tat org.apache.spark.sql.execution.SQLExecution$.withNewExecutionId(SQLExecution.scala:57)\n\tat org.apache.spark.sql.Dataset.withNewExecutionId(Dataset.scala:2765)\n\tat org.apache.spark.sql.Dataset.org$apache$spark$sql$Dataset$$execute$1(Dataset.scala:2370)\n\tat org.apache.spark.sql.Dataset.org$apache$spark$sql$Dataset$$collect(Dataset.scala:2377)\n\tat org.apache.spark.sql.Dataset$$anonfun$head$1.apply(Dataset.scala:2113)\n\tat org.apache.spark.sql.Dataset$$anonfun$head$1.apply(Dataset.scala:2112)\n\tat org.apache.spark.sql.Dataset.withTypedCallback(Dataset.scala:2795)\n\tat org.apache.spark.sql.Dataset.head(Dataset.scala:2112)\n\tat org.apache.spark.sql.Dataset.head(Dataset.scala:2121)\n\tat org.apache.spark.sql.Dataset$$anonfun$describe$1.apply(Dataset.scala:2085)\n\tat org.apache.spark.sql.Dataset$$anonfun$describe$1.apply(Dataset.scala:2067)\n\tat org.apache.spark.sql.Dataset.org$apache$spark$sql$Dataset$$withPlan(Dataset.scala:2822)\n\tat org.apache.spark.sql.Dataset.describe(Dataset.scala:2067)\n\tat sun.reflect.NativeMethodAccessorImpl.invoke0(Native Method)\n\tat sun.reflect.NativeMethodAccessorImpl.invoke(NativeMethodAccessorImpl.java:62)\n\tat sun.reflect.DelegatingMethodAccessorImpl.invoke(DelegatingMethodAccessorImpl.java:43)\n\tat java.lang.reflect.Method.invoke(Method.java:497)\n\tat py4j.reflection.MethodInvoker.invoke(MethodInvoker.java:244)\n\tat py4j.reflection.ReflectionEngine.invoke(ReflectionEngine.java:357)\n\tat py4j.Gateway.invoke(Gateway.java:280)\n\tat py4j.commands.AbstractCommand.invokeMethod(AbstractCommand.java:132)\n\tat py4j.commands.CallCommand.execute(CallCommand.java:79)\n\tat py4j.GatewayConnection.run(GatewayConnection.java:214)\n\tat java.lang.Thread.run(Thread.java:745)\nCaused by: org.postgresql.util.PSQLException: The connection attempt failed.\n\tat org.postgresql.core.v3.ConnectionFactoryImpl.openConnectionImpl(ConnectionFactoryImpl.java:272)\n\tat org.postgresql.core.ConnectionFactory.openConnection(ConnectionFactory.java:52)\n\tat org.postgresql.jdbc.PgConnection.<init>(PgConnection.java:216)\n\tat org.postgresql.Driver.makeConnection(Driver.java:404)\n\tat org.postgresql.Driver.connect(Driver.java:272)\n\tat org.apache.spark.sql.execution.datasources.jdbc.JdbcUtils$$anonfun$createConnectionFactory$1.apply(JdbcUtils.scala:59)\n\tat org.apache.spark.sql.execution.datasources.jdbc.JdbcUtils$$anonfun$createConnectionFactory$1.apply(JdbcUtils.scala:50)\n\tat org.apache.spark.sql.execution.datasources.jdbc.JDBCRDD.compute(JDBCRDD.scala:286)\n\tat org.apache.spark.rdd.RDD.computeOrReadCheckpoint(RDD.scala:323)\n\tat org.apache.spark.rdd.RDD.iterator(RDD.scala:287)\n\tat org.apache.spark.rdd.MapPartitionsRDD.compute(MapPartitionsRDD.scala:38)\n\tat org.apache.spark.rdd.RDD.computeOrReadCheckpoint(RDD.scala:323)\n\tat org.apache.spark.rdd.RDD.iterator(RDD.scala:287)\n\tat org.apache.spark.rdd.MapPartitionsRDD.compute(MapPartitionsRDD.scala:38)\n\tat org.apache.spark.rdd.RDD.computeOrReadCheckpoint(RDD.scala:323)\n\tat org.apache.spark.rdd.RDD.iterator(RDD.scala:287)\n\tat org.apache.spark.rdd.MapPartitionsRDD.compute(MapPartitionsRDD.scala:38)\n\tat org.apache.spark.rdd.RDD.computeOrReadCheckpoint(RDD.scala:323)\n\tat org.apache.spark.rdd.RDD.iterator(RDD.scala:287)\n\tat org.apache.spark.rdd.MapPartitionsRDD.compute(MapPartitionsRDD.scala:38)\n\tat org.apache.spark.rdd.RDD.computeOrReadCheckpoint(RDD.scala:323)\n\tat org.apache.spark.rdd.RDD.iterator(RDD.scala:287)\n\tat org.apache.spark.rdd.MapPartitionsRDD.compute(MapPartitionsRDD.scala:38)\n\tat org.apache.spark.rdd.RDD.computeOrReadCheckpoint(RDD.scala:323)\n\tat org.apache.spark.rdd.RDD.iterator(RDD.scala:287)\n\tat org.apache.spark.rdd.MapPartitionsRDD.compute(MapPartitionsRDD.scala:38)\n\tat org.apache.spark.rdd.RDD.computeOrReadCheckpoint(RDD.scala:323)\n\tat org.apache.spark.rdd.RDD.iterator(RDD.scala:287)\n\tat org.apache.spark.rdd.MapPartitionsRDD.compute(MapPartitionsRDD.scala:38)\n\tat org.apache.spark.rdd.RDD.computeOrReadCheckpoint(RDD.scala:323)\n\tat org.apache.spark.rdd.RDD.iterator(RDD.scala:287)\n\tat org.apache.spark.scheduler.ShuffleMapTask.runTask(ShuffleMapTask.scala:96)\n\tat org.apache.spark.scheduler.ShuffleMapTask.runTask(ShuffleMapTask.scala:53)\n\tat org.apache.spark.scheduler.Task.run(Task.scala:99)\n\tat org.apache.spark.executor.Executor$TaskRunner.run(Executor.scala:282)\n\tat java.util.concurrent.ThreadPoolExecutor.runWorker(ThreadPoolExecutor.java:1142)\n\tat java.util.concurrent.ThreadPoolExecutor$Worker.run(ThreadPoolExecutor.java:617)\n\t... 1 more\nCaused by: java.net.SocketTimeoutException: connect timed out\n\tat java.net.PlainSocketImpl.socketConnect(Native Method)\n\tat java.net.AbstractPlainSocketImpl.doConnect(AbstractPlainSocketImpl.java:350)\n\tat java.net.AbstractPlainSocketImpl.connectToAddress(AbstractPlainSocketImpl.java:206)\n\tat java.net.AbstractPlainSocketImpl.connect(AbstractPlainSocketImpl.java:188)\n\tat java.net.SocksSocketImpl.connect(SocksSocketImpl.java:392)\n\tat java.net.Socket.connect(Socket.java:589)\n\tat org.postgresql.core.PGStream.<init>(PGStream.java:61)\n\tat org.postgresql.core.v3.ConnectionFactoryImpl.openConnectionImpl(ConnectionFactoryImpl.java:144)\n\t... 37 more\n"
     ]
    },
    {
     "name": "stdout",
     "output_type": "stream",
     "text": [
      "time: 10.2 s\n"
     ]
    }
   ],
   "source": [
    "for df in df_slices:\n",
    "    print df.describe().show()"
   ]
  },
  {
   "cell_type": "code",
   "execution_count": null,
   "metadata": {
    "collapsed": true,
    "deletable": true,
    "editable": true
   },
   "outputs": [],
   "source": []
  },
  {
   "cell_type": "code",
   "execution_count": 25,
   "metadata": {
    "collapsed": false,
    "deletable": true,
    "editable": true
   },
   "outputs": [
    {
     "name": "stdout",
     "output_type": "stream",
     "text": [
      "time: 168 ms\n"
     ]
    }
   ],
   "source": [
    "sc.parallelize(denormed_clusters).toDF(route_viz_cols).toPandas().to_csv('route_clusters_6_2_2017_1.csv')"
   ]
  },
  {
   "cell_type": "markdown",
   "metadata": {
    "collapsed": false,
    "deletable": true,
    "editable": true
   },
   "source": [
    "denormalize_cluster(route_kmodel.clusterCenters(),  route_scalerModels)"
   ]
  },
  {
   "cell_type": "code",
   "execution_count": 221,
   "metadata": {
    "collapsed": false,
    "deletable": true,
    "editable": true
   },
   "outputs": [
    {
     "name": "stdout",
     "output_type": "stream",
     "text": [
      "+----------+-----+\n",
      "|prediction|count|\n",
      "+----------+-----+\n",
      "|         0| 8603|\n",
      "|         1|  210|\n",
      "|         2|  926|\n",
      "|         3|13716|\n",
      "|         4| 1421|\n",
      "+----------+-----+\n",
      "\n",
      "time: 14.5 s\n"
     ]
    }
   ],
   "source": [
    "distribution_df = get_distribution_of_workouts(route_kmodel.transform(route_df))\n",
    "distribution_df.show()"
   ]
  },
  {
   "cell_type": "code",
   "execution_count": 68,
   "metadata": {
    "collapsed": false,
    "deletable": true,
    "editable": true
   },
   "outputs": [
    {
     "name": "stdout",
     "output_type": "stream",
     "text": [
      "time: 782 µs\n"
     ]
    }
   ],
   "source": [
    "#######################end route checker"
   ]
  },
  {
   "cell_type": "code",
   "execution_count": 21,
   "metadata": {
    "collapsed": false,
    "deletable": true,
    "editable": true
   },
   "outputs": [
    {
     "data": {
      "text/plain": [
       "[1, 3, 4, 2, 0]"
      ]
     },
     "execution_count": 21,
     "metadata": {},
     "output_type": "execute_result"
    },
    {
     "name": "stdout",
     "output_type": "stream",
     "text": [
      "time: 2.6 ms\n"
     ]
    }
   ],
   "source": [
    "#get cluster numbers\n",
    "cluster_numbers = [int(distinct_clusters[i][0]) for i in range(len(distinct_clusters))]\n",
    "cluster_numbers"
   ]
  },
  {
   "cell_type": "code",
   "execution_count": 22,
   "metadata": {
    "collapsed": false,
    "deletable": true,
    "editable": true
   },
   "outputs": [
    {
     "name": "stdout",
     "output_type": "stream",
     "text": [
      "time: 47.4 ms\n"
     ]
    }
   ],
   "source": [
    "#create list of dataframes for each route_prediction value\n",
    "list_route_clusters = [route_prediction_df.where(route_prediction_df['route_prediction']==i) \\\n",
    "                      for i in cluster_numbers]"
   ]
  },
  {
   "cell_type": "code",
   "execution_count": null,
   "metadata": {
    "collapsed": true,
    "deletable": true,
    "editable": true
   },
   "outputs": [],
   "source": []
  },
  {
   "cell_type": "code",
   "execution_count": 23,
   "metadata": {
    "collapsed": false,
    "deletable": true,
    "editable": true
   },
   "outputs": [
    {
     "name": "stdout",
     "output_type": "stream",
     "text": [
      "time: 549 µs\n"
     ]
    }
   ],
   "source": [
    "#list_route_clusters[0].select(['diff_altitude','geo_distance','speed_avg']).describe().show(10)"
   ]
  },
  {
   "cell_type": "code",
   "execution_count": 24,
   "metadata": {
    "collapsed": false,
    "deletable": true,
    "editable": true
   },
   "outputs": [
    {
     "name": "stdout",
     "output_type": "stream",
     "text": [
      "+--------+----------------+\n",
      "|features|bucketedFeatures|\n",
      "+--------+----------------+\n",
      "|    -0.5|             1.0|\n",
      "|    -0.3|             1.0|\n",
      "|     0.0|             2.0|\n",
      "|     0.2|             2.0|\n",
      "+--------+----------------+\n",
      "\n",
      "time: 130 ms\n"
     ]
    }
   ],
   "source": [
    "from pyspark.ml.feature import Bucketizer\n",
    "\n",
    "splits = [-float(\"inf\"), -0.5, 0.0, 0.5, float(\"inf\")]\n",
    "\n",
    "data = [(-0.5,), (-0.3,), (0.0,), (0.2,)]\n",
    "dataFrame = sqlContext.createDataFrame(data, [\"features\"])\n",
    "\n",
    "bucketizer = Bucketizer(splits=splits, inputCol=\"features\", outputCol=\"bucketedFeatures\")\n",
    "\n",
    "# Transform original data into its bucket index.\n",
    "bucketedData = bucketizer.transform(dataFrame)\n",
    "bucketedData.show()"
   ]
  },
  {
   "cell_type": "code",
   "execution_count": null,
   "metadata": {
    "collapsed": false,
    "deletable": true,
    "editable": true
   },
   "outputs": [
    {
     "name": "stdout",
     "output_type": "stream",
     "text": [
      "0 cluster start\n",
      "vectorize done in: 0:00:00.134481\n",
      "cluster done 0:02:03.322913\n",
      "elapsed_time StandardScaler_4ceb8f177ffda0bdec8f\n",
      "heart_rate_avg StandardScaler_46d69986ca8c5a765a8d\n",
      "speed_avg StandardScaler_4b459be4b4f2107f4edc\n",
      "transforming\n",
      "[-0.75156074  1.08608799 -0.15834164]\n",
      "[ 1.10765402 -0.74826844 -0.08045024]\n",
      "[-0.87748945 -0.75825435  0.20360648]\n",
      "savingroute0_perf2.csv\n",
      "\n",
      "\n",
      "joined 0:00:00.188139\n",
      "1 cluster start\n",
      "vectorize done in: 0:00:00.117772\n",
      "cluster done 0:01:33.994944\n",
      "elapsed_time StandardScaler_4aa09036b7c91c502eda\n",
      "heart_rate_avg StandardScaler_43819c2fb81aba5d9309\n",
      "speed_avg StandardScaler_4a19ad2b2eafdeddf88e\n",
      "transforming\n",
      "[-1.01924324 -0.79950939  0.00554992]\n",
      "[ 0.96704704 -0.79011615 -0.06256385]\n",
      "[-0.63189334  1.21421104 -0.09947224]\n",
      "savingroute1_perf2.csv\n",
      "\n",
      "\n",
      "joined 0:00:00.171075\n",
      "2 cluster start\n",
      "vectorize done in: 0:00:00.122947\n"
     ]
    }
   ],
   "source": [
    "#got list of dataframes by route cluster. for each of them, create new clusters \n",
    "#add a new column 'performance_prediction' for each cluster\n",
    "\n",
    "performance_cols_to_cluster = ['heart_rate_avg', 'speed_avg', 'elapsed_time']\n",
    "#performance_cols_to_cluster = ['elapsed_time']\n",
    "\n",
    "\n",
    "dict_cluster_to_objs = {}\n",
    "\n",
    "n_list_route_clusters = []\n",
    "\n",
    "perf_centers_df_denormed = []\n",
    "\n",
    "#scale_dict = {'elapsed_time': 3}\n",
    "scale_dict = {}\n",
    "\n",
    "for i in range(len(list_route_clusters)):\n",
    "    print i, \n",
    "#     #cluster\n",
    "#     c_df = list_route_clusters[i]\n",
    "#     r_obj = cluster_df(c_df, performance_cols_to_cluster, 5, init_var=True, \\\n",
    "#                       scale_dict = scale_dict, bisectingKMean=True,\\\n",
    "#                       debug=False)\n",
    "#     dict_cluster_to_objs[i] = r_obj\n",
    "\n",
    "#     #transform the dataset\n",
    "#     p_kmodel = r_obj[0]\n",
    "#     p_df_to_transform = r_obj[1]\n",
    "#     p_scalerModels = r_obj[2]\n",
    "    \n",
    "#     p_kmodel.transform(p_df_to_transform)\n",
    "    c_df = list_route_clusters[i].repartition(20)\n",
    "    #print c_df.select(route_cols + performance_cols_to_cluster).describe().show(10,False)\n",
    "    #cluster within the route cluster dataframe\n",
    "    a = datetime.now()\n",
    "\n",
    "    r_obj = cluster_df(c_df, performance_cols_to_cluster, 3, init_var=True, \\\n",
    "                      scale_dict = scale_dict, bisectingKMean=True,\\\n",
    "                      debug=False)\n",
    "    \n",
    "    b = datetime.now()\n",
    "    print 'cluster done', b-a\n",
    "    dict_cluster_to_objs[i] = r_obj\n",
    "\n",
    "    #transform the dataset\n",
    "    p_kmodel = r_obj[0]\n",
    "    \n",
    "    \n",
    "    ##p_df_to_transform = r_obj[4]\n",
    "\n",
    "    p_out_df = r_obj[4]\n",
    "    p_df_to_transform = r_obj[1]\n",
    "    \n",
    "    p_scalerModels = r_obj[2]\n",
    "    \n",
    "    p_unscaled_df = r_obj[5]\n",
    "    \n",
    "    for k,v in p_scalerModels.iteritems():\n",
    "        print k,v\n",
    "    print 'transforming'\n",
    "    #temp_df = p_kmodel.transform(p_df_to_transform)\n",
    "    temp_df = p_kmodel.transform(p_out_df)\n",
    "    temp_df = temp_df.withColumnRenamed('features', 'perf_features')\n",
    "    temp_df = temp_df.withColumnRenamed('prediction', 'perf_prediction')\n",
    "    #print c_df.schema\n",
    "    \n",
    "    denormed_center = denormalize_cluster(p_kmodel.clusterCenters(),  p_scalerModels, performance_cols_to_cluster)\n",
    "    for k in range(len(denormed_center)):\n",
    "        for j in range(len(performance_cols_to_cluster)):\n",
    "            denormed_center[k][j] = float(denormed_center[k][j][0])\n",
    "        #print 'saving' + 'route'+str(i)+'_perf'+str(k)+'.csv'\n",
    "\n",
    "#         sc.parallelize(denormed_center[k]).map(lambda x: (x, ))\\\n",
    "#             .toDF(performance_cols_to_cluster)\\\n",
    "#             .toPandas().to_csv('route'+str(i)+'_perf'+str(k)+'.csv')\n",
    "    print 'saving' + 'route'+str(i)+'_perf'+str(k)+'.csv'\n",
    "    sc.parallelize(denormed_center)\\\n",
    "                .toDF(performance_cols_to_cluster).toPandas()\\\n",
    "                .to_csv('route'+str(i)+'_perf'+str(k)+'.csv')\n",
    "    perf_centers_df_denormed.append(\\\n",
    "                                    sc.parallelize(denormed_center)\\\n",
    "                                    .toDF(performance_cols_to_cluster))\n",
    "    \n",
    "    \n",
    "    print '\\n'\n",
    "    #transform\n",
    "    c_df = c_df.drop('perf_features')\n",
    "    c_df = c_df.drop('perf_prediction')\n",
    "    a = datetime.now()\n",
    "\n",
    "    #list_route_clusters[i] = c_df.join(temp_df.select('workoutid','perf_prediction', 'perf_features'),\\\n",
    "    #                                  temp_df['workoutid']==c_df['workoutid'], 'inner')\\\n",
    "    #                                    .drop(temp_df['workoutid'])\n",
    "#     n_list_route_clusters.append(c_df.join(temp_df.select('workoutid','perf_prediction', 'perf_features'),\\\n",
    "#                                       temp_df['workoutid']==c_df['workoutid'], 'inner')\\\n",
    "#                                         .drop(temp_df['workoutid']))\n",
    "    \n",
    "    #print r_obj[1].select(route_cols).describe().show(10,False)\n",
    "    #denormed_df = denorm_df_with_standarscaler(p_scalerModels, r_obj[1])\n",
    "    denormed_df = denorm_df_with_standarscaler(p_scalerModels, r_obj[5])\n",
    "    \n",
    "    #denorm route info\n",
    "    #denormed_df = denorm_df_with_standarscaler(route_scalerModels, denormed_df)\n",
    "\n",
    "    \n",
    "    n_list_route_clusters.append(denormed_df.join(temp_df.select('workoutid','perf_prediction', 'perf_features'),\\\n",
    "                                      temp_df['workoutid']==denormed_df['workoutid'], 'inner')\\\n",
    "                                        .drop(temp_df['workoutid']))\n",
    "    \n",
    "    b = datetime.now()\n",
    "    print 'joined', b-a\n",
    "    \n",
    "    #print denormed_df.select(route_cols + performance_cols_to_cluster).describe().show(10,False)\n",
    "    #break\n",
    "    #list_route_clusters[i].show()\n",
    "    #break\n",
    "    \n"
   ]
  },
  {
   "cell_type": "code",
   "execution_count": 60,
   "metadata": {
    "collapsed": false,
    "deletable": true,
    "editable": true
   },
   "outputs": [
    {
     "data": {
      "text/html": [
       "<div>\n",
       "<table border=\"1\" class=\"dataframe\">\n",
       "  <thead>\n",
       "    <tr style=\"text-align: right;\">\n",
       "      <th></th>\n",
       "      <th>heart_rate_avg</th>\n",
       "      <th>speed_avg</th>\n",
       "      <th>elapsed_time</th>\n",
       "    </tr>\n",
       "  </thead>\n",
       "  <tbody>\n",
       "    <tr>\n",
       "      <th>0</th>\n",
       "      <td>151.859609</td>\n",
       "      <td>2.378453</td>\n",
       "      <td>102.715961</td>\n",
       "    </tr>\n",
       "    <tr>\n",
       "      <th>1</th>\n",
       "      <td>0.284129</td>\n",
       "      <td>9.376301</td>\n",
       "      <td>105.593131</td>\n",
       "    </tr>\n",
       "    <tr>\n",
       "      <th>2</th>\n",
       "      <td>67.005163</td>\n",
       "      <td>1.762998</td>\n",
       "      <td>156.588516</td>\n",
       "    </tr>\n",
       "  </tbody>\n",
       "</table>\n",
       "</div>"
      ],
      "text/plain": [
       "   heart_rate_avg  speed_avg  elapsed_time\n",
       "0      151.859609   2.378453    102.715961\n",
       "1        0.284129   9.376301    105.593131\n",
       "2       67.005163   1.762998    156.588516"
      ]
     },
     "execution_count": 60,
     "metadata": {},
     "output_type": "execute_result"
    },
    {
     "name": "stdout",
     "output_type": "stream",
     "text": [
      "time: 43.3 ms\n"
     ]
    }
   ],
   "source": [
    "dd = perf_centers_df_denormed[1].toPandas()\n",
    "dd.elapsed_time = dd.elapsed_time / 60\n",
    "dd"
   ]
  },
  {
   "cell_type": "code",
   "execution_count": 41,
   "metadata": {
    "collapsed": false,
    "deletable": true,
    "editable": true
   },
   "outputs": [
    {
     "name": "stdout",
     "output_type": "stream",
     "text": [
      "time: 1.12 ms\n"
     ]
    }
   ],
   "source": [
    "new_features=[ 'workoutid',\\\n",
    " 'route_prediction',\\\n",
    " 'perf_prediction', 'userid']\n",
    "cols_comp = ['diff_altitude', 'geo_distance', \\\n",
    "             'heart_rate_avg', 'speed_avg', 'elapsed_time']\n"
   ]
  },
  {
   "cell_type": "code",
   "execution_count": 44,
   "metadata": {
    "collapsed": false,
    "deletable": true,
    "editable": true
   },
   "outputs": [
    {
     "name": "stdout",
     "output_type": "stream",
     "text": [
      "time: 195 ms\n"
     ]
    }
   ],
   "source": [
    "list_total_dfs = [i.select(new_features + route_cols + performance_cols_to_cluster) for i in n_list_route_clusters]"
   ]
  },
  {
   "cell_type": "code",
   "execution_count": null,
   "metadata": {
    "collapsed": true,
    "deletable": true,
    "editable": true
   },
   "outputs": [],
   "source": []
  },
  {
   "cell_type": "code",
   "execution_count": null,
   "metadata": {
    "collapsed": true,
    "deletable": true,
    "editable": true
   },
   "outputs": [],
   "source": [
    "#check std of elapsed_time by clusters\n",
    "t_df = unionAll(*list_total_dfs)\n",
    "t_df.toPandas().groupby(['route_prediction', 'perf_prediction'])['elapsed_time'].describe()"
   ]
  },
  {
   "cell_type": "code",
   "execution_count": null,
   "metadata": {
    "collapsed": true,
    "deletable": true,
    "editable": true
   },
   "outputs": [],
   "source": []
  },
  {
   "cell_type": "code",
   "execution_count": 115,
   "metadata": {
    "collapsed": false,
    "deletable": true,
    "editable": true
   },
   "outputs": [
    {
     "name": "stdout",
     "output_type": "stream",
     "text": [
      "time: 954 µs\n"
     ]
    }
   ],
   "source": [
    "#ddf= pd.read_csv('dave_.csv')"
   ]
  },
  {
   "cell_type": "code",
   "execution_count": 116,
   "metadata": {
    "collapsed": false,
    "deletable": true,
    "editable": true
   },
   "outputs": [
    {
     "name": "stdout",
     "output_type": "stream",
     "text": [
      "time: 631 µs\n"
     ]
    }
   ],
   "source": [
    "#ddf.groupby(['route_prediction', 'perf_prediction'])['elapsed_time'].describe()"
   ]
  },
  {
   "cell_type": "code",
   "execution_count": 42,
   "metadata": {
    "collapsed": false,
    "deletable": true,
    "editable": true
   },
   "outputs": [
    {
     "name": "stdout",
     "output_type": "stream",
     "text": [
      "time: 647 µs\n"
     ]
    }
   ],
   "source": [
    "#list_total_dfs[0].select(cols_viz).describe().show()"
   ]
  },
  {
   "cell_type": "code",
   "execution_count": 30,
   "metadata": {
    "collapsed": false,
    "deletable": true,
    "editable": true,
    "scrolled": true
   },
   "outputs": [
    {
     "name": "stdout",
     "output_type": "stream",
     "text": [
      "time: 872 µs\n"
     ]
    }
   ],
   "source": [
    "dd = list_total_dfs[0]"
   ]
  },
  {
   "cell_type": "code",
   "execution_count": 45,
   "metadata": {
    "collapsed": false,
    "deletable": true,
    "editable": true
   },
   "outputs": [
    {
     "name": "stdout",
     "output_type": "stream",
     "text": [
      "time: 3.22 s\n"
     ]
    }
   ],
   "source": [
    "#use total_df to find avg_spd/avg_dist for each user in each cluster\n",
    "# from the predictions, group by userid/clusterid and calculate avg speed and avg distance for each user\n",
    "\n",
    "w = Window.partitionBy('userid', 'route_prediction')\n",
    "\n",
    "new_speed = 'user_avg_speed'\n",
    "new_dist = 'user_avg_dist'\n",
    "\n",
    "for i in range(len(list_total_dfs)):\n",
    "    df = list_total_dfs[i].repartition(30)\n",
    "    df_speed = df.select('userid', 'route_prediction',\\\n",
    "                          avg('speed_avg').over(w).alias(new_speed)).distinct()\n",
    "    df_dist = df.select('userid', 'route_prediction',\\\n",
    "                          avg('geo_distance').over(w).alias(new_dist)).distinct()\n",
    "    total = df_speed.join(df_dist,(df_speed.route_prediction==df_dist.route_prediction)\\\n",
    "                           & (df_speed.userid==df_dist.userid),\\\n",
    "                     'inner').drop(df_speed.route_prediction).drop(df_speed.userid)\n",
    "    \n",
    "    \n",
    "    list_total_dfs[i] = df.join(total, total.userid==df.userid, \\\n",
    "                                'inner').drop(total.route_prediction)\\\n",
    "                                .drop(total.userid)\n",
    "        \n",
    "\n"
   ]
  },
  {
   "cell_type": "code",
   "execution_count": 61,
   "metadata": {
    "collapsed": false,
    "deletable": true,
    "editable": true,
    "scrolled": true
   },
   "outputs": [
    {
     "name": "stdout",
     "output_type": "stream",
     "text": [
      "time: 962 µs\n"
     ]
    }
   ],
   "source": [
    "\n",
    "cols_viz = ['diff_altitude', 'geo_distance', 'heart_rate_avg', 'speed_avg', 'user_avg_dist', 'user_avg_speed']\n",
    "\n",
    "#list_total_dfs[1].select(cols_viz).describe().show(truncate=10)"
   ]
  },
  {
   "cell_type": "code",
   "execution_count": 30,
   "metadata": {
    "collapsed": false,
    "deletable": true,
    "editable": true
   },
   "outputs": [
    {
     "name": "stdout",
     "output_type": "stream",
     "text": [
      "+---------+----------------+---------------+------+-------------+------------+--------------+---------+------------+--------------+-------------+\n",
      "|workoutid|route_prediction|perf_prediction|userid|diff_altitude|geo_distance|heart_rate_avg|speed_avg|elapsed_time|user_avg_speed|user_avg_dist|\n",
      "+---------+----------------+---------------+------+-------------+------------+--------------+---------+------------+--------------+-------------+\n",
      "+---------+----------------+---------------+------+-------------+------------+--------------+---------+------------+--------------+-------------+\n",
      "\n",
      "time: 25.9 s\n"
     ]
    }
   ],
   "source": [
    "###check avg\n",
    "#list_total_dfs[2].where(col('userid')==6601602).show()"
   ]
  },
  {
   "cell_type": "code",
   "execution_count": 47,
   "metadata": {
    "collapsed": false,
    "deletable": true,
    "editable": true
   },
   "outputs": [
    {
     "name": "stdout",
     "output_type": "stream",
     "text": [
      "time: 669 ms\n"
     ]
    }
   ],
   "source": [
    "#make one df from list_total_df\n",
    "new_concat_df = unionAll(*list_total_dfs)"
   ]
  },
  {
   "cell_type": "code",
   "execution_count": 50,
   "metadata": {
    "collapsed": false,
    "deletable": true,
    "editable": true
   },
   "outputs": [
    {
     "name": "stdout",
     "output_type": "stream",
     "text": [
      "time: 288 ms\n"
     ]
    }
   ],
   "source": [
    "new_concat_df = new_concat_df.repartition(20)"
   ]
  },
  {
   "cell_type": "code",
   "execution_count": 62,
   "metadata": {
    "collapsed": false,
    "deletable": true,
    "editable": true
   },
   "outputs": [
    {
     "ename": "KeyboardInterrupt",
     "evalue": "",
     "output_type": "error",
     "traceback": [
      "\u001b[0;31m---------------------------------------------------------------------------\u001b[0m",
      "\u001b[0;31mKeyboardInterrupt\u001b[0m                         Traceback (most recent call last)",
      "\u001b[0;32m<ipython-input-62-44d9b30d4f79>\u001b[0m in \u001b[0;36m<module>\u001b[0;34m()\u001b[0m\n\u001b[0;32m----> 1\u001b[0;31m \u001b[0mnew_concat_df\u001b[0m\u001b[0;34m.\u001b[0m\u001b[0mcount\u001b[0m\u001b[0;34m(\u001b[0m\u001b[0;34m)\u001b[0m\u001b[0;34m\u001b[0m\u001b[0m\n\u001b[0m",
      "\u001b[0;32m/Users/momori/app/spark-2.1.0-bin-hadoop2.7/python/pyspark/sql/dataframe.pyc\u001b[0m in \u001b[0;36mcount\u001b[0;34m(self)\u001b[0m\n\u001b[1;32m    378\u001b[0m         \u001b[0;36m2\u001b[0m\u001b[0;34m\u001b[0m\u001b[0m\n\u001b[1;32m    379\u001b[0m         \"\"\"\n\u001b[0;32m--> 380\u001b[0;31m         \u001b[0;32mreturn\u001b[0m \u001b[0mint\u001b[0m\u001b[0;34m(\u001b[0m\u001b[0mself\u001b[0m\u001b[0;34m.\u001b[0m\u001b[0m_jdf\u001b[0m\u001b[0;34m.\u001b[0m\u001b[0mcount\u001b[0m\u001b[0;34m(\u001b[0m\u001b[0;34m)\u001b[0m\u001b[0;34m)\u001b[0m\u001b[0;34m\u001b[0m\u001b[0m\n\u001b[0m\u001b[1;32m    381\u001b[0m \u001b[0;34m\u001b[0m\u001b[0m\n\u001b[1;32m    382\u001b[0m     \u001b[0;34m@\u001b[0m\u001b[0mignore_unicode_prefix\u001b[0m\u001b[0;34m\u001b[0m\u001b[0m\n",
      "\u001b[0;32m/Users/momori/app/spark-2.1.0-bin-hadoop2.7/python/lib/py4j-0.10.4-src.zip/py4j/java_gateway.py\u001b[0m in \u001b[0;36m__call__\u001b[0;34m(self, *args)\u001b[0m\n\u001b[1;32m   1129\u001b[0m             \u001b[0mproto\u001b[0m\u001b[0;34m.\u001b[0m\u001b[0mEND_COMMAND_PART\u001b[0m\u001b[0;34m\u001b[0m\u001b[0m\n\u001b[1;32m   1130\u001b[0m \u001b[0;34m\u001b[0m\u001b[0m\n\u001b[0;32m-> 1131\u001b[0;31m         \u001b[0manswer\u001b[0m \u001b[0;34m=\u001b[0m \u001b[0mself\u001b[0m\u001b[0;34m.\u001b[0m\u001b[0mgateway_client\u001b[0m\u001b[0;34m.\u001b[0m\u001b[0msend_command\u001b[0m\u001b[0;34m(\u001b[0m\u001b[0mcommand\u001b[0m\u001b[0;34m)\u001b[0m\u001b[0;34m\u001b[0m\u001b[0m\n\u001b[0m\u001b[1;32m   1132\u001b[0m         return_value = get_return_value(\n\u001b[1;32m   1133\u001b[0m             answer, self.gateway_client, self.target_id, self.name)\n",
      "\u001b[0;32m/Users/momori/app/spark-2.1.0-bin-hadoop2.7/python/lib/py4j-0.10.4-src.zip/py4j/java_gateway.py\u001b[0m in \u001b[0;36msend_command\u001b[0;34m(self, command, retry, binary)\u001b[0m\n\u001b[1;32m    881\u001b[0m         \u001b[0mconnection\u001b[0m \u001b[0;34m=\u001b[0m \u001b[0mself\u001b[0m\u001b[0;34m.\u001b[0m\u001b[0m_get_connection\u001b[0m\u001b[0;34m(\u001b[0m\u001b[0;34m)\u001b[0m\u001b[0;34m\u001b[0m\u001b[0m\n\u001b[1;32m    882\u001b[0m         \u001b[0;32mtry\u001b[0m\u001b[0;34m:\u001b[0m\u001b[0;34m\u001b[0m\u001b[0m\n\u001b[0;32m--> 883\u001b[0;31m             \u001b[0mresponse\u001b[0m \u001b[0;34m=\u001b[0m \u001b[0mconnection\u001b[0m\u001b[0;34m.\u001b[0m\u001b[0msend_command\u001b[0m\u001b[0;34m(\u001b[0m\u001b[0mcommand\u001b[0m\u001b[0;34m)\u001b[0m\u001b[0;34m\u001b[0m\u001b[0m\n\u001b[0m\u001b[1;32m    884\u001b[0m             \u001b[0;32mif\u001b[0m \u001b[0mbinary\u001b[0m\u001b[0;34m:\u001b[0m\u001b[0;34m\u001b[0m\u001b[0m\n\u001b[1;32m    885\u001b[0m                 \u001b[0;32mreturn\u001b[0m \u001b[0mresponse\u001b[0m\u001b[0;34m,\u001b[0m \u001b[0mself\u001b[0m\u001b[0;34m.\u001b[0m\u001b[0m_create_connection_guard\u001b[0m\u001b[0;34m(\u001b[0m\u001b[0mconnection\u001b[0m\u001b[0;34m)\u001b[0m\u001b[0;34m\u001b[0m\u001b[0m\n",
      "\u001b[0;32m/Users/momori/app/spark-2.1.0-bin-hadoop2.7/python/lib/py4j-0.10.4-src.zip/py4j/java_gateway.py\u001b[0m in \u001b[0;36msend_command\u001b[0;34m(self, command)\u001b[0m\n\u001b[1;32m   1026\u001b[0m \u001b[0;34m\u001b[0m\u001b[0m\n\u001b[1;32m   1027\u001b[0m         \u001b[0;32mtry\u001b[0m\u001b[0;34m:\u001b[0m\u001b[0;34m\u001b[0m\u001b[0m\n\u001b[0;32m-> 1028\u001b[0;31m             \u001b[0manswer\u001b[0m \u001b[0;34m=\u001b[0m \u001b[0msmart_decode\u001b[0m\u001b[0;34m(\u001b[0m\u001b[0mself\u001b[0m\u001b[0;34m.\u001b[0m\u001b[0mstream\u001b[0m\u001b[0;34m.\u001b[0m\u001b[0mreadline\u001b[0m\u001b[0;34m(\u001b[0m\u001b[0;34m)\u001b[0m\u001b[0;34m[\u001b[0m\u001b[0;34m:\u001b[0m\u001b[0;34m-\u001b[0m\u001b[0;36m1\u001b[0m\u001b[0;34m]\u001b[0m\u001b[0;34m)\u001b[0m\u001b[0;34m\u001b[0m\u001b[0m\n\u001b[0m\u001b[1;32m   1029\u001b[0m             \u001b[0mlogger\u001b[0m\u001b[0;34m.\u001b[0m\u001b[0mdebug\u001b[0m\u001b[0;34m(\u001b[0m\u001b[0;34m\"Answer received: {0}\"\u001b[0m\u001b[0;34m.\u001b[0m\u001b[0mformat\u001b[0m\u001b[0;34m(\u001b[0m\u001b[0manswer\u001b[0m\u001b[0;34m)\u001b[0m\u001b[0;34m)\u001b[0m\u001b[0;34m\u001b[0m\u001b[0m\n\u001b[1;32m   1030\u001b[0m             \u001b[0;32mif\u001b[0m \u001b[0manswer\u001b[0m\u001b[0;34m.\u001b[0m\u001b[0mstartswith\u001b[0m\u001b[0;34m(\u001b[0m\u001b[0mproto\u001b[0m\u001b[0;34m.\u001b[0m\u001b[0mRETURN_MESSAGE\u001b[0m\u001b[0;34m)\u001b[0m\u001b[0;34m:\u001b[0m\u001b[0;34m\u001b[0m\u001b[0m\n",
      "\u001b[0;32m/Users/momori/anaconda/lib/python2.7/socket.pyc\u001b[0m in \u001b[0;36mreadline\u001b[0;34m(self, size)\u001b[0m\n\u001b[1;32m    449\u001b[0m             \u001b[0;32mwhile\u001b[0m \u001b[0mTrue\u001b[0m\u001b[0;34m:\u001b[0m\u001b[0;34m\u001b[0m\u001b[0m\n\u001b[1;32m    450\u001b[0m                 \u001b[0;32mtry\u001b[0m\u001b[0;34m:\u001b[0m\u001b[0;34m\u001b[0m\u001b[0m\n\u001b[0;32m--> 451\u001b[0;31m                     \u001b[0mdata\u001b[0m \u001b[0;34m=\u001b[0m \u001b[0mself\u001b[0m\u001b[0;34m.\u001b[0m\u001b[0m_sock\u001b[0m\u001b[0;34m.\u001b[0m\u001b[0mrecv\u001b[0m\u001b[0;34m(\u001b[0m\u001b[0mself\u001b[0m\u001b[0;34m.\u001b[0m\u001b[0m_rbufsize\u001b[0m\u001b[0;34m)\u001b[0m\u001b[0;34m\u001b[0m\u001b[0m\n\u001b[0m\u001b[1;32m    452\u001b[0m                 \u001b[0;32mexcept\u001b[0m \u001b[0merror\u001b[0m\u001b[0;34m,\u001b[0m \u001b[0me\u001b[0m\u001b[0;34m:\u001b[0m\u001b[0;34m\u001b[0m\u001b[0m\n\u001b[1;32m    453\u001b[0m                     \u001b[0;32mif\u001b[0m \u001b[0me\u001b[0m\u001b[0;34m.\u001b[0m\u001b[0margs\u001b[0m\u001b[0;34m[\u001b[0m\u001b[0;36m0\u001b[0m\u001b[0;34m]\u001b[0m \u001b[0;34m==\u001b[0m \u001b[0mEINTR\u001b[0m\u001b[0;34m:\u001b[0m\u001b[0;34m\u001b[0m\u001b[0m\n",
      "\u001b[0;31mKeyboardInterrupt\u001b[0m: "
     ]
    },
    {
     "name": "stdout",
     "output_type": "stream",
     "text": [
      "time: 5.98 s\n"
     ]
    }
   ],
   "source": [
    "new_concat_df.count()"
   ]
  },
  {
   "cell_type": "code",
   "execution_count": null,
   "metadata": {
    "collapsed": false,
    "deletable": true,
    "editable": true
   },
   "outputs": [],
   "source": [
    "#dd = new_concat_df.select(cols_viz)"
   ]
  },
  {
   "cell_type": "code",
   "execution_count": null,
   "metadata": {
    "collapsed": false,
    "deletable": true,
    "editable": true
   },
   "outputs": [],
   "source": [
    "#dd.describe().show(10, True)"
   ]
  },
  {
   "cell_type": "code",
   "execution_count": null,
   "metadata": {
    "collapsed": false,
    "deletable": true,
    "editable": true
   },
   "outputs": [
    {
     "name": "stdout",
     "output_type": "stream",
     "text": [
      "+-------+--------------------+------------------+------------------+------------------+-----------------+-------------------+-----------------+-----------------+-----------------+------------------+---------------------+\n",
      "|summary|workoutid           |route_prediction  |perf_prediction   |userid            |diff_altitude    |geo_distance       |heart_rate_avg   |speed_avg        |elapsed_time     |user_avg_speed    |user_avg_dist        |\n",
      "+-------+--------------------+------------------+------------------+------------------+-----------------+-------------------+-----------------+-----------------+-----------------+------------------+---------------------+\n",
      "|count  |290975              |290975            |290975            |290975            |290975           |290975             |290975           |290975           |290975           |290975            |290975               |\n",
      "|mean   |3.2038066254063064E8|1.3998659678666552|0.7865074319099579|4433361.7512363605|25.81443743407765|0.10184699770900764|68.15372500236977|5.197703903495799|3073.208454334565|5.1977039034958485|0.10184699770900768  |\n",
      "|stddev |1.732203150561256E8 |1.4113603697653694|0.7520312299369021|3741215.4137514723|31.01131355231903|0.05928382364051555|75.33234028578298|5.643609653895848|1731.225682827659|3.2569747047771536|0.054527421207998535 |\n",
      "|min    |873                 |0                 |0                 |69                |4.7795555E-7     |8.3300165E-6       |0.0              |0.0              |500.0            |0.0               |3.2525244751013815E-4|\n",
      "|max    |674628540           |4                 |2                 |15481421          |205.87035        |0.3152129          |241.25307        |22.968975        |12186.0          |22.92784881591797 |0.30926424264907837  |\n",
      "+-------+--------------------+------------------+------------------+------------------+-----------------+-------------------+-----------------+-----------------+-----------------+------------------+---------------------+\n",
      "\n",
      "time: 9min 8s\n"
     ]
    }
   ],
   "source": [
    "new_concat_df.describe().show(10,False)"
   ]
  },
  {
   "cell_type": "code",
   "execution_count": null,
   "metadata": {
    "collapsed": false,
    "deletable": true,
    "editable": true
   },
   "outputs": [
    {
     "name": "stdout",
     "output_type": "stream",
     "text": [
      "0_output.png\t\t  endo_sample_6_1_1.csv\n",
      "0_output_shape_only.png   f_cluster.csv\n",
      "10_output.png\t\t  Jason-Loading-Visualizing-Endomondo.ipynb\n",
      "10_output_shape_only.png  Larger Cluster Regression.ipynb\n",
      "11_output.png\t\t  masa-cluster series.ipynb\n",
      "11_output_shape_only.png  masa-cluster summary.ipynb\n",
      "12_output.png\t\t  masa-newclustering-Copy1.ipynb\n",
      "12_output_shape_only.png  masa-newclustering-Copy2.ipynb\n",
      "13_output.png\t\t  masa-newclustering.ipynb\n",
      "13_output_shape_only.png  metastore_db.old\n",
      "14_output.png\t\t  mmscaler_wrapper.ipynb\n",
      "14_output_shape_only.png  mmscaler_wrapper.py\n",
      "1_output.png\t\t  mmscaler_wrapper.pyc\n",
      "1_output_shape_only.png   mycert.pem\n",
      "2015_team5.pem\t\t  mykey.key\n",
      "2_output.png\t\t  new_run2.csv\n",
      "2_output_shape_only.png   README.md\n",
      "3_output.png\t\t  Regression \n",
      "3_output_shape_only.png   Regression 1st Iteration\n",
      "4_output.png\t\t  Regression_2nd_Iteration\n",
      "4_output_shape_only.png   Regression_3rd_Iteration\n",
      "5_output.png\t\t  Regression_4th_Iteration\n",
      "5_output_shape_only.png   Regression_5th_Iteration\n",
      "6_output.png\t\t  route0_perf2.csv\n",
      "6_output_shape_only.png   route1_perf2.csv\n",
      "7_output.png\t\t  route2_perf2.csv\n",
      "7_output_shape_only.png   route3_perf2.csv\n",
      "8_output.png\t\t  route4_perf2.csv\n",
      "8_output_shape_only.png   route_clusters_6_1_2017_1.csv\n",
      "9_output.png\t\t  route_clusters_6_2_2017_1.csv\n",
      "9_output_shape_only.png   route_clusters.csv\n",
      "autotime.py\t\t  route_clusters_esam.csv\n",
      "autotime.pyc\t\t  route_perf_clusters.csv\n",
      "cluster_centers_gt10.csv  route_perf_clusters_JG.csv\n",
      "dave2.csv\t\t  run_data_with_hr_spd.csv\n",
      "dave_.csv\t\t  Spider Chart Visualization of Cluster Centers.ipynb\n",
      "derby.log\t\t  test.csv\n",
      "df_for_correlation.csv\t  visualize_cluster.ipynb\n",
      "endomondo_clusters.csv\t  visualize_clusters.html\n",
      "time: 134 ms\n"
     ]
    }
   ],
   "source": [
    "!ls"
   ]
  },
  {
   "cell_type": "code",
   "execution_count": 130,
   "metadata": {
    "collapsed": true,
    "deletable": true,
    "editable": true
   },
   "outputs": [
    {
     "ename": "KeyboardInterrupt",
     "evalue": "",
     "output_type": "error",
     "traceback": [
      "\u001b[0;31m---------------------------------------------------------------------------\u001b[0m",
      "\u001b[0;31mKeyboardInterrupt\u001b[0m                         Traceback (most recent call last)",
      "\u001b[0;32m<ipython-input-130-84c81ae73471>\u001b[0m in \u001b[0;36m<module>\u001b[0;34m()\u001b[0m\n\u001b[1;32m      1\u001b[0m \u001b[0;31m#pyspark export df.write.csv('mycsv.csv')\u001b[0m\u001b[0;34m\u001b[0m\u001b[0;34m\u001b[0m\u001b[0m\n\u001b[0;32m----> 2\u001b[0;31m \u001b[0mnew_concat_df\u001b[0m\u001b[0;34m.\u001b[0m\u001b[0mwrite\u001b[0m\u001b[0;34m.\u001b[0m\u001b[0mcsv\u001b[0m\u001b[0;34m(\u001b[0m\u001b[0;34m'spk_endo_5_29_1.csv'\u001b[0m\u001b[0;34m)\u001b[0m\u001b[0;34m\u001b[0m\u001b[0m\n\u001b[0m",
      "\u001b[0;32m/Users/momori/app/spark-2.1.0-bin-hadoop2.7/python/pyspark/sql/readwriter.pyc\u001b[0m in \u001b[0;36mcsv\u001b[0;34m(self, path, mode, compression, sep, quote, escape, header, nullValue, escapeQuotes, quoteAll, dateFormat, timestampFormat)\u001b[0m\n\u001b[1;32m    709\u001b[0m                        \u001b[0mnullValue\u001b[0m\u001b[0;34m=\u001b[0m\u001b[0mnullValue\u001b[0m\u001b[0;34m,\u001b[0m \u001b[0mescapeQuotes\u001b[0m\u001b[0;34m=\u001b[0m\u001b[0mescapeQuotes\u001b[0m\u001b[0;34m,\u001b[0m \u001b[0mquoteAll\u001b[0m\u001b[0;34m=\u001b[0m\u001b[0mquoteAll\u001b[0m\u001b[0;34m,\u001b[0m\u001b[0;34m\u001b[0m\u001b[0m\n\u001b[1;32m    710\u001b[0m                        dateFormat=dateFormat, timestampFormat=timestampFormat)\n\u001b[0;32m--> 711\u001b[0;31m         \u001b[0mself\u001b[0m\u001b[0;34m.\u001b[0m\u001b[0m_jwrite\u001b[0m\u001b[0;34m.\u001b[0m\u001b[0mcsv\u001b[0m\u001b[0;34m(\u001b[0m\u001b[0mpath\u001b[0m\u001b[0;34m)\u001b[0m\u001b[0;34m\u001b[0m\u001b[0m\n\u001b[0m\u001b[1;32m    712\u001b[0m \u001b[0;34m\u001b[0m\u001b[0m\n\u001b[1;32m    713\u001b[0m     \u001b[0;34m@\u001b[0m\u001b[0msince\u001b[0m\u001b[0;34m(\u001b[0m\u001b[0;36m1.5\u001b[0m\u001b[0;34m)\u001b[0m\u001b[0;34m\u001b[0m\u001b[0m\n",
      "\u001b[0;32m/Users/momori/app/spark-2.1.0-bin-hadoop2.7/python/lib/py4j-0.10.4-src.zip/py4j/java_gateway.py\u001b[0m in \u001b[0;36m__call__\u001b[0;34m(self, *args)\u001b[0m\n\u001b[1;32m   1129\u001b[0m             \u001b[0mproto\u001b[0m\u001b[0;34m.\u001b[0m\u001b[0mEND_COMMAND_PART\u001b[0m\u001b[0;34m\u001b[0m\u001b[0m\n\u001b[1;32m   1130\u001b[0m \u001b[0;34m\u001b[0m\u001b[0m\n\u001b[0;32m-> 1131\u001b[0;31m         \u001b[0manswer\u001b[0m \u001b[0;34m=\u001b[0m \u001b[0mself\u001b[0m\u001b[0;34m.\u001b[0m\u001b[0mgateway_client\u001b[0m\u001b[0;34m.\u001b[0m\u001b[0msend_command\u001b[0m\u001b[0;34m(\u001b[0m\u001b[0mcommand\u001b[0m\u001b[0;34m)\u001b[0m\u001b[0;34m\u001b[0m\u001b[0m\n\u001b[0m\u001b[1;32m   1132\u001b[0m         return_value = get_return_value(\n\u001b[1;32m   1133\u001b[0m             answer, self.gateway_client, self.target_id, self.name)\n",
      "\u001b[0;32m/Users/momori/app/spark-2.1.0-bin-hadoop2.7/python/lib/py4j-0.10.4-src.zip/py4j/java_gateway.py\u001b[0m in \u001b[0;36msend_command\u001b[0;34m(self, command, retry, binary)\u001b[0m\n\u001b[1;32m    881\u001b[0m         \u001b[0mconnection\u001b[0m \u001b[0;34m=\u001b[0m \u001b[0mself\u001b[0m\u001b[0;34m.\u001b[0m\u001b[0m_get_connection\u001b[0m\u001b[0;34m(\u001b[0m\u001b[0;34m)\u001b[0m\u001b[0;34m\u001b[0m\u001b[0m\n\u001b[1;32m    882\u001b[0m         \u001b[0;32mtry\u001b[0m\u001b[0;34m:\u001b[0m\u001b[0;34m\u001b[0m\u001b[0m\n\u001b[0;32m--> 883\u001b[0;31m             \u001b[0mresponse\u001b[0m \u001b[0;34m=\u001b[0m \u001b[0mconnection\u001b[0m\u001b[0;34m.\u001b[0m\u001b[0msend_command\u001b[0m\u001b[0;34m(\u001b[0m\u001b[0mcommand\u001b[0m\u001b[0;34m)\u001b[0m\u001b[0;34m\u001b[0m\u001b[0m\n\u001b[0m\u001b[1;32m    884\u001b[0m             \u001b[0;32mif\u001b[0m \u001b[0mbinary\u001b[0m\u001b[0;34m:\u001b[0m\u001b[0;34m\u001b[0m\u001b[0m\n\u001b[1;32m    885\u001b[0m                 \u001b[0;32mreturn\u001b[0m \u001b[0mresponse\u001b[0m\u001b[0;34m,\u001b[0m \u001b[0mself\u001b[0m\u001b[0;34m.\u001b[0m\u001b[0m_create_connection_guard\u001b[0m\u001b[0;34m(\u001b[0m\u001b[0mconnection\u001b[0m\u001b[0;34m)\u001b[0m\u001b[0;34m\u001b[0m\u001b[0m\n",
      "\u001b[0;32m/Users/momori/app/spark-2.1.0-bin-hadoop2.7/python/lib/py4j-0.10.4-src.zip/py4j/java_gateway.py\u001b[0m in \u001b[0;36msend_command\u001b[0;34m(self, command)\u001b[0m\n\u001b[1;32m   1026\u001b[0m \u001b[0;34m\u001b[0m\u001b[0m\n\u001b[1;32m   1027\u001b[0m         \u001b[0;32mtry\u001b[0m\u001b[0;34m:\u001b[0m\u001b[0;34m\u001b[0m\u001b[0m\n\u001b[0;32m-> 1028\u001b[0;31m             \u001b[0manswer\u001b[0m \u001b[0;34m=\u001b[0m \u001b[0msmart_decode\u001b[0m\u001b[0;34m(\u001b[0m\u001b[0mself\u001b[0m\u001b[0;34m.\u001b[0m\u001b[0mstream\u001b[0m\u001b[0;34m.\u001b[0m\u001b[0mreadline\u001b[0m\u001b[0;34m(\u001b[0m\u001b[0;34m)\u001b[0m\u001b[0;34m[\u001b[0m\u001b[0;34m:\u001b[0m\u001b[0;34m-\u001b[0m\u001b[0;36m1\u001b[0m\u001b[0;34m]\u001b[0m\u001b[0;34m)\u001b[0m\u001b[0;34m\u001b[0m\u001b[0m\n\u001b[0m\u001b[1;32m   1029\u001b[0m             \u001b[0mlogger\u001b[0m\u001b[0;34m.\u001b[0m\u001b[0mdebug\u001b[0m\u001b[0;34m(\u001b[0m\u001b[0;34m\"Answer received: {0}\"\u001b[0m\u001b[0;34m.\u001b[0m\u001b[0mformat\u001b[0m\u001b[0;34m(\u001b[0m\u001b[0manswer\u001b[0m\u001b[0;34m)\u001b[0m\u001b[0;34m)\u001b[0m\u001b[0;34m\u001b[0m\u001b[0m\n\u001b[1;32m   1030\u001b[0m             \u001b[0;32mif\u001b[0m \u001b[0manswer\u001b[0m\u001b[0;34m.\u001b[0m\u001b[0mstartswith\u001b[0m\u001b[0;34m(\u001b[0m\u001b[0mproto\u001b[0m\u001b[0;34m.\u001b[0m\u001b[0mRETURN_MESSAGE\u001b[0m\u001b[0;34m)\u001b[0m\u001b[0;34m:\u001b[0m\u001b[0;34m\u001b[0m\u001b[0m\n",
      "\u001b[0;32m/Users/momori/anaconda/lib/python2.7/socket.pyc\u001b[0m in \u001b[0;36mreadline\u001b[0;34m(self, size)\u001b[0m\n\u001b[1;32m    449\u001b[0m             \u001b[0;32mwhile\u001b[0m \u001b[0mTrue\u001b[0m\u001b[0;34m:\u001b[0m\u001b[0;34m\u001b[0m\u001b[0m\n\u001b[1;32m    450\u001b[0m                 \u001b[0;32mtry\u001b[0m\u001b[0;34m:\u001b[0m\u001b[0;34m\u001b[0m\u001b[0m\n\u001b[0;32m--> 451\u001b[0;31m                     \u001b[0mdata\u001b[0m \u001b[0;34m=\u001b[0m \u001b[0mself\u001b[0m\u001b[0;34m.\u001b[0m\u001b[0m_sock\u001b[0m\u001b[0;34m.\u001b[0m\u001b[0mrecv\u001b[0m\u001b[0;34m(\u001b[0m\u001b[0mself\u001b[0m\u001b[0;34m.\u001b[0m\u001b[0m_rbufsize\u001b[0m\u001b[0;34m)\u001b[0m\u001b[0;34m\u001b[0m\u001b[0m\n\u001b[0m\u001b[1;32m    452\u001b[0m                 \u001b[0;32mexcept\u001b[0m \u001b[0merror\u001b[0m\u001b[0;34m,\u001b[0m \u001b[0me\u001b[0m\u001b[0;34m:\u001b[0m\u001b[0;34m\u001b[0m\u001b[0m\n\u001b[1;32m    453\u001b[0m                     \u001b[0;32mif\u001b[0m \u001b[0me\u001b[0m\u001b[0;34m.\u001b[0m\u001b[0margs\u001b[0m\u001b[0;34m[\u001b[0m\u001b[0;36m0\u001b[0m\u001b[0;34m]\u001b[0m \u001b[0;34m==\u001b[0m \u001b[0mEINTR\u001b[0m\u001b[0;34m:\u001b[0m\u001b[0;34m\u001b[0m\u001b[0m\n",
      "\u001b[0;31mKeyboardInterrupt\u001b[0m: "
     ]
    },
    {
     "name": "stdout",
     "output_type": "stream",
     "text": [
      "time: 2min 5s\n"
     ]
    }
   ],
   "source": [
    "# pyspark export df.write.csv('mycsv.csv')\n",
    "# new_concat_df.write.csv('spk_endo_5_29_1.csv')"
   ]
  },
  {
   "cell_type": "code",
   "execution_count": null,
   "metadata": {
    "collapsed": false,
    "deletable": true,
    "editable": true
   },
   "outputs": [
    {
     "name": "stdout",
     "output_type": "stream",
     "text": [
      "time: 9min 53s\n"
     ]
    }
   ],
   "source": [
    "new_concat_df.toPandas().to_csv('endo_sample_6_2_1.csv')"
   ]
  },
  {
   "cell_type": "code",
   "execution_count": 195,
   "metadata": {
    "collapsed": false,
    "deletable": true,
    "editable": true
   },
   "outputs": [
    {
     "name": "stdout",
     "output_type": "stream",
     "text": [
      "/Users/momori/dse/maomori/thesis/git/fitness_capstone\n",
      "time: 125 ms\n"
     ]
    }
   ],
   "source": [
    "!pwd"
   ]
  },
  {
   "cell_type": "code",
   "execution_count": 36,
   "metadata": {
    "collapsed": false,
    "deletable": true,
    "editable": true
   },
   "outputs": [
    {
     "name": "stdout",
     "output_type": "stream",
     "text": [
      "+----------------+---------------+-----+\n",
      "|route_prediction|perf_prediction|count|\n",
      "+----------------+---------------+-----+\n",
      "|               1|              1| 8764|\n",
      "|               3|              1|   77|\n",
      "|               3|              0|  125|\n",
      "|               2|              0| 1582|\n",
      "|               0|              0| 3100|\n",
      "|               0|              1|  788|\n",
      "|               1|              2| 1688|\n",
      "|               2|              2|   62|\n",
      "|               2|              1|   70|\n",
      "|               4|              2|  617|\n",
      "|               4|              1|   68|\n",
      "|               3|              2|   10|\n",
      "|               1|              0| 4560|\n",
      "|               0|              2| 3106|\n",
      "|               4|              0|   77|\n",
      "+----------------+---------------+-----+\n",
      "\n",
      "time: 1min 7s\n"
     ]
    }
   ],
   "source": [
    "new_concat_df.groupby(['route_prediction','perf_prediction'])\\\n",
    "    .count().show()"
   ]
  },
  {
   "cell_type": "code",
   "execution_count": null,
   "metadata": {
    "collapsed": true,
    "deletable": true,
    "editable": true
   },
   "outputs": [],
   "source": [
    "new_concat_df.gropuby(['route_prediction', 'perf_prediction'])"
   ]
  },
  {
   "cell_type": "code",
   "execution_count": null,
   "metadata": {
    "collapsed": true,
    "deletable": true,
    "editable": true
   },
   "outputs": [],
   "source": []
  },
  {
   "cell_type": "code",
   "execution_count": 111,
   "metadata": {
    "collapsed": false,
    "deletable": true,
    "editable": true
   },
   "outputs": [
    {
     "name": "stdout",
     "output_type": "stream",
     "text": [
      "+-------+------------------+\n",
      "|summary|speed_avg         |\n",
      "+-------+------------------+\n",
      "|count  |24654             |\n",
      "|mean   |10.785569427380436|\n",
      "|stddev |2.3250990751402534|\n",
      "|min    |-3.2287147        |\n",
      "|max    |23.394915         |\n",
      "+-------+------------------+\n",
      "\n",
      "time: 1min 28s\n"
     ]
    }
   ],
   "source": [
    "new_concat_df.select('speed_avg').describe().show(10,False)"
   ]
  },
  {
   "cell_type": "code",
   "execution_count": null,
   "metadata": {
    "collapsed": true,
    "deletable": true,
    "editable": true
   },
   "outputs": [],
   "source": []
  },
  {
   "cell_type": "code",
   "execution_count": null,
   "metadata": {
    "collapsed": true,
    "deletable": true,
    "editable": true
   },
   "outputs": [],
   "source": []
  },
  {
   "cell_type": "code",
   "execution_count": null,
   "metadata": {
    "collapsed": true,
    "deletable": true,
    "editable": true
   },
   "outputs": [],
   "source": []
  },
  {
   "cell_type": "code",
   "execution_count": null,
   "metadata": {
    "collapsed": true,
    "deletable": true,
    "editable": true
   },
   "outputs": [],
   "source": []
  },
  {
   "cell_type": "code",
   "execution_count": null,
   "metadata": {
    "collapsed": true,
    "deletable": true,
    "editable": true
   },
   "outputs": [],
   "source": []
  },
  {
   "cell_type": "code",
   "execution_count": null,
   "metadata": {
    "collapsed": true,
    "deletable": true,
    "editable": true
   },
   "outputs": [],
   "source": []
  },
  {
   "cell_type": "code",
   "execution_count": null,
   "metadata": {
    "collapsed": true,
    "deletable": true,
    "editable": true
   },
   "outputs": [],
   "source": []
  },
  {
   "cell_type": "code",
   "execution_count": null,
   "metadata": {
    "collapsed": true,
    "deletable": true,
    "editable": true
   },
   "outputs": [],
   "source": []
  },
  {
   "cell_type": "code",
   "execution_count": 26,
   "metadata": {
    "collapsed": false,
    "deletable": true,
    "editable": true
   },
   "outputs": [
    {
     "name": "stdout",
     "output_type": "stream",
     "text": [
      "time: 809 µs\n"
     ]
    }
   ],
   "source": [
    "prediction_columns = ['route_prediction', 'perf_prediction']\n",
    "#frames = [df.toPandas() for df in n_list_route_clusters]"
   ]
  },
  {
   "cell_type": "code",
   "execution_count": 27,
   "metadata": {
    "collapsed": false,
    "deletable": true,
    "editable": true
   },
   "outputs": [
    {
     "name": "stdout",
     "output_type": "stream",
     "text": [
      "time: 543 µs\n"
     ]
    }
   ],
   "source": [
    "#new_concat_df = sqlContext.createDataFrame(pd.concat(frames))"
   ]
  },
  {
   "cell_type": "code",
   "execution_count": 28,
   "metadata": {
    "collapsed": false,
    "deletable": true,
    "editable": true
   },
   "outputs": [
    {
     "name": "stdout",
     "output_type": "stream",
     "text": [
      "perf_clusters0.csv\n",
      "+-----------------+------------------+-----------------+\n",
      "|   heart_rate_avg|         speed_avg|     elapsed_time|\n",
      "+-----------------+------------------+-----------------+\n",
      "|134.4350000154713|11.513321991868393|6562.666684570312|\n",
      "+-----------------+------------------+-----------------+\n",
      "\n",
      "None\n",
      "perf_clusters1.csv\n",
      "+-----------------+-----------------+-----------------+\n",
      "|   heart_rate_avg|        speed_avg|     elapsed_time|\n",
      "+-----------------+-----------------+-----------------+\n",
      "|162.6259991907229|15.18740863941769|6259.999990805761|\n",
      "+-----------------+-----------------+-----------------+\n",
      "\n",
      "None\n",
      "time: 62.4 ms\n"
     ]
    }
   ],
   "source": [
    "index = 0\n",
    "for i in perf_centers_df_denormed:\n",
    "    name='perf_clusters'+str(index)+'.csv'\n",
    "    print name\n",
    "    i.toPandas().to_csv(name)\n",
    "    print i.show()\n",
    "    index+=1"
   ]
  },
  {
   "cell_type": "code",
   "execution_count": 31,
   "metadata": {
    "collapsed": false,
    "deletable": true,
    "editable": true
   },
   "outputs": [
    {
     "name": "stdout",
     "output_type": "stream",
     "text": [
      "time: 25.8 ms\n"
     ]
    }
   ],
   "source": [
    "new_concat_df = unionAll(*n_list_route_clusters)"
   ]
  },
  {
   "cell_type": "code",
   "execution_count": 32,
   "metadata": {
    "collapsed": false,
    "deletable": true,
    "editable": true
   },
   "outputs": [
    {
     "name": "stdout",
     "output_type": "stream",
     "text": [
      "+----------------+---------------+-----+\n",
      "|route_prediction|perf_prediction|count|\n",
      "+----------------+---------------+-----+\n",
      "|               1|              0|    3|\n",
      "|               3|              0|    1|\n",
      "+----------------+---------------+-----+\n",
      "\n",
      "time: 3.88 s\n"
     ]
    }
   ],
   "source": [
    "new_concat_df.groupBy(['route_prediction','perf_prediction']).count()\\\n",
    ".orderBy(['route_prediction', 'perf_prediction']).show()"
   ]
  },
  {
   "cell_type": "code",
   "execution_count": 75,
   "metadata": {
    "collapsed": false,
    "deletable": true,
    "editable": true
   },
   "outputs": [
    {
     "name": "stdout",
     "output_type": "stream",
     "text": [
      "time: 65.5 ms\n"
     ]
    }
   ],
   "source": [
    "#remove small clusters, might be outliers\n",
    "new_concat_df = new_concat_df.where(\n",
    "    ((new_concat_df['route_prediction']!= 4) | (new_concat_df['perf_prediction']!= 0))\n",
    ")"
   ]
  },
  {
   "cell_type": "code",
   "execution_count": 33,
   "metadata": {
    "collapsed": false,
    "deletable": true,
    "editable": true
   },
   "outputs": [
    {
     "name": "stdout",
     "output_type": "stream",
     "text": [
      "['route_prediction', 'perf_prediction', 'diff_altitude', 'geo_distance', 'userid', 'workoutid', 'heart_rate_avg', 'speed_avg', 'elapsed_time']\n",
      "time: 1.16 ms\n"
     ]
    }
   ],
   "source": [
    "select_cols = prediction_columns+route_cols+['userid','workoutid']+performance_cols_to_cluster\n",
    "print select_cols"
   ]
  },
  {
   "cell_type": "code",
   "execution_count": 34,
   "metadata": {
    "collapsed": false,
    "deletable": true,
    "editable": true
   },
   "outputs": [
    {
     "name": "stdout",
     "output_type": "stream",
     "text": [
      "time: 720 µs\n"
     ]
    }
   ],
   "source": [
    "sum_cols = route_cols+performance_cols_to_cluster+['workoutid']\n"
   ]
  },
  {
   "cell_type": "code",
   "execution_count": 35,
   "metadata": {
    "collapsed": false,
    "deletable": true,
    "editable": true
   },
   "outputs": [
    {
     "name": "stdout",
     "output_type": "stream",
     "text": [
      "+----------------+---------------+------------------+------------------+--------+---------+--------------------+--------------------+------------+\n",
      "|route_prediction|perf_prediction|     diff_altitude|      geo_distance|  userid|workoutid|      heart_rate_avg|           speed_avg|elapsed_time|\n",
      "+----------------+---------------+------------------+------------------+--------+---------+--------------------+--------------------+------------+\n",
      "|               1|              0|0.2209971696138382|0.7775065898895264|  431375|608308965|141.0000000000000...|12.01837677640000...|        6493|\n",
      "|               1|              0|0.2412315011024475| 0.919242799282074| 9286593|367180538|122.3050000000000...|11.40694893660000...|        6317|\n",
      "|               1|              0|0.2264968752861023|0.7706879377365112| 6828710|475598541|140.0000000000000...|11.11464029460000...|        6878|\n",
      "|               3|              0|0.6398912072181702|1.7554370164871216|13276532|376398864|162.6260000000000...|15.18740872950000...|        6260|\n",
      "+----------------+---------------+------------------+------------------+--------+---------+--------------------+--------------------+------------+\n",
      "\n",
      "time: 2.86 s\n"
     ]
    }
   ],
   "source": [
    "new_concat_df.select(select_cols).show()\n"
   ]
  },
  {
   "cell_type": "code",
   "execution_count": 36,
   "metadata": {
    "collapsed": false,
    "deletable": true,
    "editable": true
   },
   "outputs": [
    {
     "name": "stdout",
     "output_type": "stream",
     "text": [
      "time: 75.4 ms\n"
     ]
    }
   ],
   "source": [
    "f_cluster_df = new_concat_df.select(select_cols)\n",
    "f_cluster_df = f_cluster_df.withColumn('diff_altitude', unvector(f_cluster_df['diff_altitude']))\n",
    "f_cluster_df = f_cluster_df.withColumn('geo_distance', unvector(f_cluster_df['geo_distance']))\n",
    "\n"
   ]
  },
  {
   "cell_type": "code",
   "execution_count": 37,
   "metadata": {
    "collapsed": false,
    "deletable": true,
    "editable": true
   },
   "outputs": [
    {
     "name": "stdout",
     "output_type": "stream",
     "text": [
      "time: 2.3 s\n"
     ]
    }
   ],
   "source": [
    "new_df = fix_df(new_concat_df.select(select_cols))"
   ]
  },
  {
   "cell_type": "code",
   "execution_count": 85,
   "metadata": {
    "collapsed": false,
    "deletable": true,
    "editable": true
   },
   "outputs": [
    {
     "name": "stdout",
     "output_type": "stream",
     "text": [
      "time: 9.44 s\n"
     ]
    }
   ],
   "source": [
    "viz_selection_route = ['geo_distance', 'diff_altitude']\n",
    "\n",
    "new_df.select(viz_selection_route).toPandas().to_csv('f_clusters6.csv')"
   ]
  },
  {
   "cell_type": "code",
   "execution_count": 86,
   "metadata": {
    "collapsed": false,
    "deletable": true,
    "editable": true
   },
   "outputs": [
    {
     "name": "stdout",
     "output_type": "stream",
     "text": [
      "+--------------------+--------------------+\n",
      "|        geo_distance|       diff_altitude|\n",
      "+--------------------+--------------------+\n",
      "|-0.23650439083576202|-0.18164116144180298|\n",
      "| -0.2968972623348236| 0.23747123777866364|\n",
      "| -0.2613212466239929|-0.11914194375276566|\n",
      "| -0.2013634741306305| 0.12644322216510773|\n",
      "|-0.24943852424621582|-0.10811267048120499|\n",
      "|-0.26658928394317627|-0.18164116144180298|\n",
      "|-0.37416771054267883|  0.3808518052101135|\n",
      "| -0.2730995714664459|-0.11473023146390915|\n",
      "|-0.28780242800712585|-0.09703560173511505|\n",
      "|-0.23023466765880585|-0.13568584620952606|\n",
      "| -0.1474791318178177| -0.1125243753194809|\n",
      "| -0.1570734828710556|-0.03237832337617874|\n",
      "|-0.04410969838500023| 0.47202712297439575|\n",
      "|-0.14297319948673248|-0.10664209723472595|\n",
      "|-0.15701673924922943|-0.18164116144180298|\n",
      "| -0.1453741192817688|-0.13458292186260223|\n",
      "|-0.28630220890045166| 0.12864907085895538|\n",
      "|-0.15556730329990387|-0.02943718247115612|\n",
      "|-0.22201518714427948|-0.13642114400863647|\n",
      "|-0.24090249836444855|  0.3514403998851776|\n",
      "+--------------------+--------------------+\n",
      "only showing top 20 rows\n",
      "\n",
      "time: 360 ms\n"
     ]
    }
   ],
   "source": [
    "new_df.select(viz_selection_route).show()"
   ]
  },
  {
   "cell_type": "code",
   "execution_count": 83,
   "metadata": {
    "collapsed": false,
    "deletable": true,
    "editable": true
   },
   "outputs": [
    {
     "name": "stdout",
     "output_type": "stream",
     "text": [
      "time: 19 s\n"
     ]
    }
   ],
   "source": [
    "new_df.write.csv('f_clusters7.csv')"
   ]
  },
  {
   "cell_type": "code",
   "execution_count": 94,
   "metadata": {
    "collapsed": false,
    "deletable": true,
    "editable": true
   },
   "outputs": [
    {
     "ename": "Py4JJavaError",
     "evalue": "An error occurred while calling o2274.collectToPython.\n: org.apache.spark.SparkException: Job aborted due to stage failure: Task 23 in stage 2376.0 failed 4 times, most recent failure: Lost task 23.3 in stage 2376.0 (TID 145990, 172.31.42.143, executor 1): org.apache.spark.api.python.PythonException: Traceback (most recent call last):\n  File \"/opt/spark/spark-2.1.0-bin-hadoop2.7/python/lib/pyspark.zip/pyspark/worker.py\", line 174, in main\n    process()\n  File \"/opt/spark/spark-2.1.0-bin-hadoop2.7/python/lib/pyspark.zip/pyspark/worker.py\", line 169, in process\n    serializer.dump_stream(func(split_index, iterator), outfile)\n  File \"/opt/spark/spark-2.1.0-bin-hadoop2.7/python/lib/pyspark.zip/pyspark/worker.py\", line 106, in <lambda>\n    func = lambda _, it: map(mapper, it)\n  File \"<string>\", line 1, in <lambda>\n  File \"/opt/spark/spark-2.1.0-bin-hadoop2.7/python/lib/pyspark.zip/pyspark/worker.py\", line 70, in <lambda>\n    return lambda *a: f(*a)\n  File \"<ipython-input-54-6c52063ef3db>\", line 2, in <lambda>\nTypeError: 'float' object has no attribute '__getitem__'\n\n\tat org.apache.spark.api.python.PythonRunner$$anon$1.read(PythonRDD.scala:193)\n\tat org.apache.spark.api.python.PythonRunner$$anon$1.<init>(PythonRDD.scala:234)\n\tat org.apache.spark.api.python.PythonRunner.compute(PythonRDD.scala:152)\n\tat org.apache.spark.sql.execution.python.BatchEvalPythonExec$$anonfun$doExecute$1.apply(BatchEvalPythonExec.scala:144)\n\tat org.apache.spark.sql.execution.python.BatchEvalPythonExec$$anonfun$doExecute$1.apply(BatchEvalPythonExec.scala:87)\n\tat org.apache.spark.rdd.RDD$$anonfun$mapPartitions$1$$anonfun$apply$23.apply(RDD.scala:796)\n\tat org.apache.spark.rdd.RDD$$anonfun$mapPartitions$1$$anonfun$apply$23.apply(RDD.scala:796)\n\tat org.apache.spark.rdd.MapPartitionsRDD.compute(MapPartitionsRDD.scala:38)\n\tat org.apache.spark.rdd.RDD.computeOrReadCheckpoint(RDD.scala:323)\n\tat org.apache.spark.rdd.RDD.iterator(RDD.scala:287)\n\tat org.apache.spark.rdd.MapPartitionsRDD.compute(MapPartitionsRDD.scala:38)\n\tat org.apache.spark.rdd.RDD.computeOrReadCheckpoint(RDD.scala:323)\n\tat org.apache.spark.rdd.RDD.iterator(RDD.scala:287)\n\tat org.apache.spark.rdd.MapPartitionsRDD.compute(MapPartitionsRDD.scala:38)\n\tat org.apache.spark.rdd.RDD.computeOrReadCheckpoint(RDD.scala:323)\n\tat org.apache.spark.rdd.RDD.iterator(RDD.scala:287)\n\tat org.apache.spark.scheduler.ResultTask.runTask(ResultTask.scala:87)\n\tat org.apache.spark.scheduler.Task.run(Task.scala:99)\n\tat org.apache.spark.executor.Executor$TaskRunner.run(Executor.scala:282)\n\tat java.util.concurrent.ThreadPoolExecutor.runWorker(ThreadPoolExecutor.java:1142)\n\tat java.util.concurrent.ThreadPoolExecutor$Worker.run(ThreadPoolExecutor.java:617)\n\tat java.lang.Thread.run(Thread.java:745)\n\nDriver stacktrace:\n\tat org.apache.spark.scheduler.DAGScheduler.org$apache$spark$scheduler$DAGScheduler$$failJobAndIndependentStages(DAGScheduler.scala:1435)\n\tat org.apache.spark.scheduler.DAGScheduler$$anonfun$abortStage$1.apply(DAGScheduler.scala:1423)\n\tat org.apache.spark.scheduler.DAGScheduler$$anonfun$abortStage$1.apply(DAGScheduler.scala:1422)\n\tat scala.collection.mutable.ResizableArray$class.foreach(ResizableArray.scala:59)\n\tat scala.collection.mutable.ArrayBuffer.foreach(ArrayBuffer.scala:48)\n\tat org.apache.spark.scheduler.DAGScheduler.abortStage(DAGScheduler.scala:1422)\n\tat org.apache.spark.scheduler.DAGScheduler$$anonfun$handleTaskSetFailed$1.apply(DAGScheduler.scala:802)\n\tat org.apache.spark.scheduler.DAGScheduler$$anonfun$handleTaskSetFailed$1.apply(DAGScheduler.scala:802)\n\tat scala.Option.foreach(Option.scala:257)\n\tat org.apache.spark.scheduler.DAGScheduler.handleTaskSetFailed(DAGScheduler.scala:802)\n\tat org.apache.spark.scheduler.DAGSchedulerEventProcessLoop.doOnReceive(DAGScheduler.scala:1650)\n\tat org.apache.spark.scheduler.DAGSchedulerEventProcessLoop.onReceive(DAGScheduler.scala:1605)\n\tat org.apache.spark.scheduler.DAGSchedulerEventProcessLoop.onReceive(DAGScheduler.scala:1594)\n\tat org.apache.spark.util.EventLoop$$anon$1.run(EventLoop.scala:48)\n\tat org.apache.spark.scheduler.DAGScheduler.runJob(DAGScheduler.scala:628)\n\tat org.apache.spark.SparkContext.runJob(SparkContext.scala:1918)\n\tat org.apache.spark.SparkContext.runJob(SparkContext.scala:1931)\n\tat org.apache.spark.SparkContext.runJob(SparkContext.scala:1944)\n\tat org.apache.spark.SparkContext.runJob(SparkContext.scala:1958)\n\tat org.apache.spark.rdd.RDD$$anonfun$collect$1.apply(RDD.scala:935)\n\tat org.apache.spark.rdd.RDDOperationScope$.withScope(RDDOperationScope.scala:151)\n\tat org.apache.spark.rdd.RDDOperationScope$.withScope(RDDOperationScope.scala:112)\n\tat org.apache.spark.rdd.RDD.withScope(RDD.scala:362)\n\tat org.apache.spark.rdd.RDD.collect(RDD.scala:934)\n\tat org.apache.spark.sql.execution.SparkPlan.executeCollect(SparkPlan.scala:275)\n\tat org.apache.spark.sql.Dataset$$anonfun$collectToPython$1.apply$mcI$sp(Dataset.scala:2745)\n\tat org.apache.spark.sql.Dataset$$anonfun$collectToPython$1.apply(Dataset.scala:2742)\n\tat org.apache.spark.sql.Dataset$$anonfun$collectToPython$1.apply(Dataset.scala:2742)\n\tat org.apache.spark.sql.execution.SQLExecution$.withNewExecutionId(SQLExecution.scala:57)\n\tat org.apache.spark.sql.Dataset.withNewExecutionId(Dataset.scala:2765)\n\tat org.apache.spark.sql.Dataset.collectToPython(Dataset.scala:2742)\n\tat sun.reflect.GeneratedMethodAccessor57.invoke(Unknown Source)\n\tat sun.reflect.DelegatingMethodAccessorImpl.invoke(DelegatingMethodAccessorImpl.java:43)\n\tat java.lang.reflect.Method.invoke(Method.java:498)\n\tat py4j.reflection.MethodInvoker.invoke(MethodInvoker.java:244)\n\tat py4j.reflection.ReflectionEngine.invoke(ReflectionEngine.java:357)\n\tat py4j.Gateway.invoke(Gateway.java:280)\n\tat py4j.commands.AbstractCommand.invokeMethod(AbstractCommand.java:132)\n\tat py4j.commands.CallCommand.execute(CallCommand.java:79)\n\tat py4j.GatewayConnection.run(GatewayConnection.java:214)\n\tat java.lang.Thread.run(Thread.java:745)\nCaused by: org.apache.spark.api.python.PythonException: Traceback (most recent call last):\n  File \"/opt/spark/spark-2.1.0-bin-hadoop2.7/python/lib/pyspark.zip/pyspark/worker.py\", line 174, in main\n    process()\n  File \"/opt/spark/spark-2.1.0-bin-hadoop2.7/python/lib/pyspark.zip/pyspark/worker.py\", line 169, in process\n    serializer.dump_stream(func(split_index, iterator), outfile)\n  File \"/opt/spark/spark-2.1.0-bin-hadoop2.7/python/lib/pyspark.zip/pyspark/worker.py\", line 106, in <lambda>\n    func = lambda _, it: map(mapper, it)\n  File \"<string>\", line 1, in <lambda>\n  File \"/opt/spark/spark-2.1.0-bin-hadoop2.7/python/lib/pyspark.zip/pyspark/worker.py\", line 70, in <lambda>\n    return lambda *a: f(*a)\n  File \"<ipython-input-54-6c52063ef3db>\", line 2, in <lambda>\nTypeError: 'float' object has no attribute '__getitem__'\n\n\tat org.apache.spark.api.python.PythonRunner$$anon$1.read(PythonRDD.scala:193)\n\tat org.apache.spark.api.python.PythonRunner$$anon$1.<init>(PythonRDD.scala:234)\n\tat org.apache.spark.api.python.PythonRunner.compute(PythonRDD.scala:152)\n\tat org.apache.spark.sql.execution.python.BatchEvalPythonExec$$anonfun$doExecute$1.apply(BatchEvalPythonExec.scala:144)\n\tat org.apache.spark.sql.execution.python.BatchEvalPythonExec$$anonfun$doExecute$1.apply(BatchEvalPythonExec.scala:87)\n\tat org.apache.spark.rdd.RDD$$anonfun$mapPartitions$1$$anonfun$apply$23.apply(RDD.scala:796)\n\tat org.apache.spark.rdd.RDD$$anonfun$mapPartitions$1$$anonfun$apply$23.apply(RDD.scala:796)\n\tat org.apache.spark.rdd.MapPartitionsRDD.compute(MapPartitionsRDD.scala:38)\n\tat org.apache.spark.rdd.RDD.computeOrReadCheckpoint(RDD.scala:323)\n\tat org.apache.spark.rdd.RDD.iterator(RDD.scala:287)\n\tat org.apache.spark.rdd.MapPartitionsRDD.compute(MapPartitionsRDD.scala:38)\n\tat org.apache.spark.rdd.RDD.computeOrReadCheckpoint(RDD.scala:323)\n\tat org.apache.spark.rdd.RDD.iterator(RDD.scala:287)\n\tat org.apache.spark.rdd.MapPartitionsRDD.compute(MapPartitionsRDD.scala:38)\n\tat org.apache.spark.rdd.RDD.computeOrReadCheckpoint(RDD.scala:323)\n\tat org.apache.spark.rdd.RDD.iterator(RDD.scala:287)\n\tat org.apache.spark.scheduler.ResultTask.runTask(ResultTask.scala:87)\n\tat org.apache.spark.scheduler.Task.run(Task.scala:99)\n\tat org.apache.spark.executor.Executor$TaskRunner.run(Executor.scala:282)\n\tat java.util.concurrent.ThreadPoolExecutor.runWorker(ThreadPoolExecutor.java:1142)\n\tat java.util.concurrent.ThreadPoolExecutor$Worker.run(ThreadPoolExecutor.java:617)\n\t... 1 more\n",
     "output_type": "error",
     "traceback": [
      "\u001b[0;31m---------------------------------------------------------------------------\u001b[0m",
      "\u001b[0;31mPy4JJavaError\u001b[0m                             Traceback (most recent call last)",
      "\u001b[0;32m<ipython-input-94-b1838449548b>\u001b[0m in \u001b[0;36m<module>\u001b[0;34m()\u001b[0m\n\u001b[0;32m----> 1\u001b[0;31m \u001b[0mf_cluster_df\u001b[0m\u001b[0;34m.\u001b[0m\u001b[0mtoPandas\u001b[0m\u001b[0;34m(\u001b[0m\u001b[0;34m)\u001b[0m\u001b[0;34m.\u001b[0m\u001b[0mto_csv\u001b[0m\u001b[0;34m(\u001b[0m\u001b[0;34m'f_clusters5.csv'\u001b[0m\u001b[0;34m)\u001b[0m\u001b[0;34m\u001b[0m\u001b[0m\n\u001b[0m",
      "\u001b[0;32m/opt/spark/spark-2.1.0-bin-hadoop2.7/python/pyspark/sql/dataframe.pyc\u001b[0m in \u001b[0;36mtoPandas\u001b[0;34m(self)\u001b[0m\n\u001b[1;32m   1574\u001b[0m         \"\"\"\n\u001b[1;32m   1575\u001b[0m         \u001b[0;32mimport\u001b[0m \u001b[0mpandas\u001b[0m \u001b[0;32mas\u001b[0m \u001b[0mpd\u001b[0m\u001b[0;34m\u001b[0m\u001b[0m\n\u001b[0;32m-> 1576\u001b[0;31m         \u001b[0;32mreturn\u001b[0m \u001b[0mpd\u001b[0m\u001b[0;34m.\u001b[0m\u001b[0mDataFrame\u001b[0m\u001b[0;34m.\u001b[0m\u001b[0mfrom_records\u001b[0m\u001b[0;34m(\u001b[0m\u001b[0mself\u001b[0m\u001b[0;34m.\u001b[0m\u001b[0mcollect\u001b[0m\u001b[0;34m(\u001b[0m\u001b[0;34m)\u001b[0m\u001b[0;34m,\u001b[0m \u001b[0mcolumns\u001b[0m\u001b[0;34m=\u001b[0m\u001b[0mself\u001b[0m\u001b[0;34m.\u001b[0m\u001b[0mcolumns\u001b[0m\u001b[0;34m)\u001b[0m\u001b[0;34m\u001b[0m\u001b[0m\n\u001b[0m\u001b[1;32m   1577\u001b[0m \u001b[0;34m\u001b[0m\u001b[0m\n\u001b[1;32m   1578\u001b[0m     \u001b[0;31m##########################################################################################\u001b[0m\u001b[0;34m\u001b[0m\u001b[0;34m\u001b[0m\u001b[0m\n",
      "\u001b[0;32m/opt/spark/spark-2.1.0-bin-hadoop2.7/python/pyspark/sql/dataframe.pyc\u001b[0m in \u001b[0;36mcollect\u001b[0;34m(self)\u001b[0m\n\u001b[1;32m    389\u001b[0m         \"\"\"\n\u001b[1;32m    390\u001b[0m         \u001b[0;32mwith\u001b[0m \u001b[0mSCCallSiteSync\u001b[0m\u001b[0;34m(\u001b[0m\u001b[0mself\u001b[0m\u001b[0;34m.\u001b[0m\u001b[0m_sc\u001b[0m\u001b[0;34m)\u001b[0m \u001b[0;32mas\u001b[0m \u001b[0mcss\u001b[0m\u001b[0;34m:\u001b[0m\u001b[0;34m\u001b[0m\u001b[0m\n\u001b[0;32m--> 391\u001b[0;31m             \u001b[0mport\u001b[0m \u001b[0;34m=\u001b[0m \u001b[0mself\u001b[0m\u001b[0;34m.\u001b[0m\u001b[0m_jdf\u001b[0m\u001b[0;34m.\u001b[0m\u001b[0mcollectToPython\u001b[0m\u001b[0;34m(\u001b[0m\u001b[0;34m)\u001b[0m\u001b[0;34m\u001b[0m\u001b[0m\n\u001b[0m\u001b[1;32m    392\u001b[0m         \u001b[0;32mreturn\u001b[0m \u001b[0mlist\u001b[0m\u001b[0;34m(\u001b[0m\u001b[0m_load_from_socket\u001b[0m\u001b[0;34m(\u001b[0m\u001b[0mport\u001b[0m\u001b[0;34m,\u001b[0m \u001b[0mBatchedSerializer\u001b[0m\u001b[0;34m(\u001b[0m\u001b[0mPickleSerializer\u001b[0m\u001b[0;34m(\u001b[0m\u001b[0;34m)\u001b[0m\u001b[0;34m)\u001b[0m\u001b[0;34m)\u001b[0m\u001b[0;34m)\u001b[0m\u001b[0;34m\u001b[0m\u001b[0m\n\u001b[1;32m    393\u001b[0m \u001b[0;34m\u001b[0m\u001b[0m\n",
      "\u001b[0;32m/opt/spark/spark-2.1.0-bin-hadoop2.7/python/lib/py4j-0.10.4-src.zip/py4j/java_gateway.py\u001b[0m in \u001b[0;36m__call__\u001b[0;34m(self, *args)\u001b[0m\n\u001b[1;32m   1131\u001b[0m         \u001b[0manswer\u001b[0m \u001b[0;34m=\u001b[0m \u001b[0mself\u001b[0m\u001b[0;34m.\u001b[0m\u001b[0mgateway_client\u001b[0m\u001b[0;34m.\u001b[0m\u001b[0msend_command\u001b[0m\u001b[0;34m(\u001b[0m\u001b[0mcommand\u001b[0m\u001b[0;34m)\u001b[0m\u001b[0;34m\u001b[0m\u001b[0m\n\u001b[1;32m   1132\u001b[0m         return_value = get_return_value(\n\u001b[0;32m-> 1133\u001b[0;31m             answer, self.gateway_client, self.target_id, self.name)\n\u001b[0m\u001b[1;32m   1134\u001b[0m \u001b[0;34m\u001b[0m\u001b[0m\n\u001b[1;32m   1135\u001b[0m         \u001b[0;32mfor\u001b[0m \u001b[0mtemp_arg\u001b[0m \u001b[0;32min\u001b[0m \u001b[0mtemp_args\u001b[0m\u001b[0;34m:\u001b[0m\u001b[0;34m\u001b[0m\u001b[0m\n",
      "\u001b[0;32m/opt/spark/spark-2.1.0-bin-hadoop2.7/python/pyspark/sql/utils.pyc\u001b[0m in \u001b[0;36mdeco\u001b[0;34m(*a, **kw)\u001b[0m\n\u001b[1;32m     61\u001b[0m     \u001b[0;32mdef\u001b[0m \u001b[0mdeco\u001b[0m\u001b[0;34m(\u001b[0m\u001b[0;34m*\u001b[0m\u001b[0ma\u001b[0m\u001b[0;34m,\u001b[0m \u001b[0;34m**\u001b[0m\u001b[0mkw\u001b[0m\u001b[0;34m)\u001b[0m\u001b[0;34m:\u001b[0m\u001b[0;34m\u001b[0m\u001b[0m\n\u001b[1;32m     62\u001b[0m         \u001b[0;32mtry\u001b[0m\u001b[0;34m:\u001b[0m\u001b[0;34m\u001b[0m\u001b[0m\n\u001b[0;32m---> 63\u001b[0;31m             \u001b[0;32mreturn\u001b[0m \u001b[0mf\u001b[0m\u001b[0;34m(\u001b[0m\u001b[0;34m*\u001b[0m\u001b[0ma\u001b[0m\u001b[0;34m,\u001b[0m \u001b[0;34m**\u001b[0m\u001b[0mkw\u001b[0m\u001b[0;34m)\u001b[0m\u001b[0;34m\u001b[0m\u001b[0m\n\u001b[0m\u001b[1;32m     64\u001b[0m         \u001b[0;32mexcept\u001b[0m \u001b[0mpy4j\u001b[0m\u001b[0;34m.\u001b[0m\u001b[0mprotocol\u001b[0m\u001b[0;34m.\u001b[0m\u001b[0mPy4JJavaError\u001b[0m \u001b[0;32mas\u001b[0m \u001b[0me\u001b[0m\u001b[0;34m:\u001b[0m\u001b[0;34m\u001b[0m\u001b[0m\n\u001b[1;32m     65\u001b[0m             \u001b[0ms\u001b[0m \u001b[0;34m=\u001b[0m \u001b[0me\u001b[0m\u001b[0;34m.\u001b[0m\u001b[0mjava_exception\u001b[0m\u001b[0;34m.\u001b[0m\u001b[0mtoString\u001b[0m\u001b[0;34m(\u001b[0m\u001b[0;34m)\u001b[0m\u001b[0;34m\u001b[0m\u001b[0m\n",
      "\u001b[0;32m/opt/spark/spark-2.1.0-bin-hadoop2.7/python/lib/py4j-0.10.4-src.zip/py4j/protocol.py\u001b[0m in \u001b[0;36mget_return_value\u001b[0;34m(answer, gateway_client, target_id, name)\u001b[0m\n\u001b[1;32m    317\u001b[0m                 raise Py4JJavaError(\n\u001b[1;32m    318\u001b[0m                     \u001b[0;34m\"An error occurred while calling {0}{1}{2}.\\n\"\u001b[0m\u001b[0;34m.\u001b[0m\u001b[0;34m\u001b[0m\u001b[0m\n\u001b[0;32m--> 319\u001b[0;31m                     format(target_id, \".\", name), value)\n\u001b[0m\u001b[1;32m    320\u001b[0m             \u001b[0;32melse\u001b[0m\u001b[0;34m:\u001b[0m\u001b[0;34m\u001b[0m\u001b[0m\n\u001b[1;32m    321\u001b[0m                 raise Py4JError(\n",
      "\u001b[0;31mPy4JJavaError\u001b[0m: An error occurred while calling o2274.collectToPython.\n: org.apache.spark.SparkException: Job aborted due to stage failure: Task 23 in stage 2376.0 failed 4 times, most recent failure: Lost task 23.3 in stage 2376.0 (TID 145990, 172.31.42.143, executor 1): org.apache.spark.api.python.PythonException: Traceback (most recent call last):\n  File \"/opt/spark/spark-2.1.0-bin-hadoop2.7/python/lib/pyspark.zip/pyspark/worker.py\", line 174, in main\n    process()\n  File \"/opt/spark/spark-2.1.0-bin-hadoop2.7/python/lib/pyspark.zip/pyspark/worker.py\", line 169, in process\n    serializer.dump_stream(func(split_index, iterator), outfile)\n  File \"/opt/spark/spark-2.1.0-bin-hadoop2.7/python/lib/pyspark.zip/pyspark/worker.py\", line 106, in <lambda>\n    func = lambda _, it: map(mapper, it)\n  File \"<string>\", line 1, in <lambda>\n  File \"/opt/spark/spark-2.1.0-bin-hadoop2.7/python/lib/pyspark.zip/pyspark/worker.py\", line 70, in <lambda>\n    return lambda *a: f(*a)\n  File \"<ipython-input-54-6c52063ef3db>\", line 2, in <lambda>\nTypeError: 'float' object has no attribute '__getitem__'\n\n\tat org.apache.spark.api.python.PythonRunner$$anon$1.read(PythonRDD.scala:193)\n\tat org.apache.spark.api.python.PythonRunner$$anon$1.<init>(PythonRDD.scala:234)\n\tat org.apache.spark.api.python.PythonRunner.compute(PythonRDD.scala:152)\n\tat org.apache.spark.sql.execution.python.BatchEvalPythonExec$$anonfun$doExecute$1.apply(BatchEvalPythonExec.scala:144)\n\tat org.apache.spark.sql.execution.python.BatchEvalPythonExec$$anonfun$doExecute$1.apply(BatchEvalPythonExec.scala:87)\n\tat org.apache.spark.rdd.RDD$$anonfun$mapPartitions$1$$anonfun$apply$23.apply(RDD.scala:796)\n\tat org.apache.spark.rdd.RDD$$anonfun$mapPartitions$1$$anonfun$apply$23.apply(RDD.scala:796)\n\tat org.apache.spark.rdd.MapPartitionsRDD.compute(MapPartitionsRDD.scala:38)\n\tat org.apache.spark.rdd.RDD.computeOrReadCheckpoint(RDD.scala:323)\n\tat org.apache.spark.rdd.RDD.iterator(RDD.scala:287)\n\tat org.apache.spark.rdd.MapPartitionsRDD.compute(MapPartitionsRDD.scala:38)\n\tat org.apache.spark.rdd.RDD.computeOrReadCheckpoint(RDD.scala:323)\n\tat org.apache.spark.rdd.RDD.iterator(RDD.scala:287)\n\tat org.apache.spark.rdd.MapPartitionsRDD.compute(MapPartitionsRDD.scala:38)\n\tat org.apache.spark.rdd.RDD.computeOrReadCheckpoint(RDD.scala:323)\n\tat org.apache.spark.rdd.RDD.iterator(RDD.scala:287)\n\tat org.apache.spark.scheduler.ResultTask.runTask(ResultTask.scala:87)\n\tat org.apache.spark.scheduler.Task.run(Task.scala:99)\n\tat org.apache.spark.executor.Executor$TaskRunner.run(Executor.scala:282)\n\tat java.util.concurrent.ThreadPoolExecutor.runWorker(ThreadPoolExecutor.java:1142)\n\tat java.util.concurrent.ThreadPoolExecutor$Worker.run(ThreadPoolExecutor.java:617)\n\tat java.lang.Thread.run(Thread.java:745)\n\nDriver stacktrace:\n\tat org.apache.spark.scheduler.DAGScheduler.org$apache$spark$scheduler$DAGScheduler$$failJobAndIndependentStages(DAGScheduler.scala:1435)\n\tat org.apache.spark.scheduler.DAGScheduler$$anonfun$abortStage$1.apply(DAGScheduler.scala:1423)\n\tat org.apache.spark.scheduler.DAGScheduler$$anonfun$abortStage$1.apply(DAGScheduler.scala:1422)\n\tat scala.collection.mutable.ResizableArray$class.foreach(ResizableArray.scala:59)\n\tat scala.collection.mutable.ArrayBuffer.foreach(ArrayBuffer.scala:48)\n\tat org.apache.spark.scheduler.DAGScheduler.abortStage(DAGScheduler.scala:1422)\n\tat org.apache.spark.scheduler.DAGScheduler$$anonfun$handleTaskSetFailed$1.apply(DAGScheduler.scala:802)\n\tat org.apache.spark.scheduler.DAGScheduler$$anonfun$handleTaskSetFailed$1.apply(DAGScheduler.scala:802)\n\tat scala.Option.foreach(Option.scala:257)\n\tat org.apache.spark.scheduler.DAGScheduler.handleTaskSetFailed(DAGScheduler.scala:802)\n\tat org.apache.spark.scheduler.DAGSchedulerEventProcessLoop.doOnReceive(DAGScheduler.scala:1650)\n\tat org.apache.spark.scheduler.DAGSchedulerEventProcessLoop.onReceive(DAGScheduler.scala:1605)\n\tat org.apache.spark.scheduler.DAGSchedulerEventProcessLoop.onReceive(DAGScheduler.scala:1594)\n\tat org.apache.spark.util.EventLoop$$anon$1.run(EventLoop.scala:48)\n\tat org.apache.spark.scheduler.DAGScheduler.runJob(DAGScheduler.scala:628)\n\tat org.apache.spark.SparkContext.runJob(SparkContext.scala:1918)\n\tat org.apache.spark.SparkContext.runJob(SparkContext.scala:1931)\n\tat org.apache.spark.SparkContext.runJob(SparkContext.scala:1944)\n\tat org.apache.spark.SparkContext.runJob(SparkContext.scala:1958)\n\tat org.apache.spark.rdd.RDD$$anonfun$collect$1.apply(RDD.scala:935)\n\tat org.apache.spark.rdd.RDDOperationScope$.withScope(RDDOperationScope.scala:151)\n\tat org.apache.spark.rdd.RDDOperationScope$.withScope(RDDOperationScope.scala:112)\n\tat org.apache.spark.rdd.RDD.withScope(RDD.scala:362)\n\tat org.apache.spark.rdd.RDD.collect(RDD.scala:934)\n\tat org.apache.spark.sql.execution.SparkPlan.executeCollect(SparkPlan.scala:275)\n\tat org.apache.spark.sql.Dataset$$anonfun$collectToPython$1.apply$mcI$sp(Dataset.scala:2745)\n\tat org.apache.spark.sql.Dataset$$anonfun$collectToPython$1.apply(Dataset.scala:2742)\n\tat org.apache.spark.sql.Dataset$$anonfun$collectToPython$1.apply(Dataset.scala:2742)\n\tat org.apache.spark.sql.execution.SQLExecution$.withNewExecutionId(SQLExecution.scala:57)\n\tat org.apache.spark.sql.Dataset.withNewExecutionId(Dataset.scala:2765)\n\tat org.apache.spark.sql.Dataset.collectToPython(Dataset.scala:2742)\n\tat sun.reflect.GeneratedMethodAccessor57.invoke(Unknown Source)\n\tat sun.reflect.DelegatingMethodAccessorImpl.invoke(DelegatingMethodAccessorImpl.java:43)\n\tat java.lang.reflect.Method.invoke(Method.java:498)\n\tat py4j.reflection.MethodInvoker.invoke(MethodInvoker.java:244)\n\tat py4j.reflection.ReflectionEngine.invoke(ReflectionEngine.java:357)\n\tat py4j.Gateway.invoke(Gateway.java:280)\n\tat py4j.commands.AbstractCommand.invokeMethod(AbstractCommand.java:132)\n\tat py4j.commands.CallCommand.execute(CallCommand.java:79)\n\tat py4j.GatewayConnection.run(GatewayConnection.java:214)\n\tat java.lang.Thread.run(Thread.java:745)\nCaused by: org.apache.spark.api.python.PythonException: Traceback (most recent call last):\n  File \"/opt/spark/spark-2.1.0-bin-hadoop2.7/python/lib/pyspark.zip/pyspark/worker.py\", line 174, in main\n    process()\n  File \"/opt/spark/spark-2.1.0-bin-hadoop2.7/python/lib/pyspark.zip/pyspark/worker.py\", line 169, in process\n    serializer.dump_stream(func(split_index, iterator), outfile)\n  File \"/opt/spark/spark-2.1.0-bin-hadoop2.7/python/lib/pyspark.zip/pyspark/worker.py\", line 106, in <lambda>\n    func = lambda _, it: map(mapper, it)\n  File \"<string>\", line 1, in <lambda>\n  File \"/opt/spark/spark-2.1.0-bin-hadoop2.7/python/lib/pyspark.zip/pyspark/worker.py\", line 70, in <lambda>\n    return lambda *a: f(*a)\n  File \"<ipython-input-54-6c52063ef3db>\", line 2, in <lambda>\nTypeError: 'float' object has no attribute '__getitem__'\n\n\tat org.apache.spark.api.python.PythonRunner$$anon$1.read(PythonRDD.scala:193)\n\tat org.apache.spark.api.python.PythonRunner$$anon$1.<init>(PythonRDD.scala:234)\n\tat org.apache.spark.api.python.PythonRunner.compute(PythonRDD.scala:152)\n\tat org.apache.spark.sql.execution.python.BatchEvalPythonExec$$anonfun$doExecute$1.apply(BatchEvalPythonExec.scala:144)\n\tat org.apache.spark.sql.execution.python.BatchEvalPythonExec$$anonfun$doExecute$1.apply(BatchEvalPythonExec.scala:87)\n\tat org.apache.spark.rdd.RDD$$anonfun$mapPartitions$1$$anonfun$apply$23.apply(RDD.scala:796)\n\tat org.apache.spark.rdd.RDD$$anonfun$mapPartitions$1$$anonfun$apply$23.apply(RDD.scala:796)\n\tat org.apache.spark.rdd.MapPartitionsRDD.compute(MapPartitionsRDD.scala:38)\n\tat org.apache.spark.rdd.RDD.computeOrReadCheckpoint(RDD.scala:323)\n\tat org.apache.spark.rdd.RDD.iterator(RDD.scala:287)\n\tat org.apache.spark.rdd.MapPartitionsRDD.compute(MapPartitionsRDD.scala:38)\n\tat org.apache.spark.rdd.RDD.computeOrReadCheckpoint(RDD.scala:323)\n\tat org.apache.spark.rdd.RDD.iterator(RDD.scala:287)\n\tat org.apache.spark.rdd.MapPartitionsRDD.compute(MapPartitionsRDD.scala:38)\n\tat org.apache.spark.rdd.RDD.computeOrReadCheckpoint(RDD.scala:323)\n\tat org.apache.spark.rdd.RDD.iterator(RDD.scala:287)\n\tat org.apache.spark.scheduler.ResultTask.runTask(ResultTask.scala:87)\n\tat org.apache.spark.scheduler.Task.run(Task.scala:99)\n\tat org.apache.spark.executor.Executor$TaskRunner.run(Executor.scala:282)\n\tat java.util.concurrent.ThreadPoolExecutor.runWorker(ThreadPoolExecutor.java:1142)\n\tat java.util.concurrent.ThreadPoolExecutor$Worker.run(ThreadPoolExecutor.java:617)\n\t... 1 more\n"
     ]
    },
    {
     "name": "stdout",
     "output_type": "stream",
     "text": [
      "time: 1.93 s\n"
     ]
    }
   ],
   "source": [
    "f_cluster_df.toPandas().to_csv('f_clusters5.csv')"
   ]
  },
  {
   "cell_type": "code",
   "execution_count": 93,
   "metadata": {
    "collapsed": false,
    "deletable": true,
    "editable": true
   },
   "outputs": [
    {
     "ename": "Py4JJavaError",
     "evalue": "An error occurred while calling o2275.csv.\n: org.apache.spark.SparkException: Job aborted.\n\tat org.apache.spark.sql.execution.datasources.FileFormatWriter$$anonfun$write$1.apply$mcV$sp(FileFormatWriter.scala:147)\n\tat org.apache.spark.sql.execution.datasources.FileFormatWriter$$anonfun$write$1.apply(FileFormatWriter.scala:121)\n\tat org.apache.spark.sql.execution.datasources.FileFormatWriter$$anonfun$write$1.apply(FileFormatWriter.scala:121)\n\tat org.apache.spark.sql.execution.SQLExecution$.withNewExecutionId(SQLExecution.scala:57)\n\tat org.apache.spark.sql.execution.datasources.FileFormatWriter$.write(FileFormatWriter.scala:121)\n\tat org.apache.spark.sql.execution.datasources.InsertIntoHadoopFsRelationCommand.run(InsertIntoHadoopFsRelationCommand.scala:101)\n\tat org.apache.spark.sql.execution.command.ExecutedCommandExec.sideEffectResult$lzycompute(commands.scala:58)\n\tat org.apache.spark.sql.execution.command.ExecutedCommandExec.sideEffectResult(commands.scala:56)\n\tat org.apache.spark.sql.execution.command.ExecutedCommandExec.doExecute(commands.scala:74)\n\tat org.apache.spark.sql.execution.SparkPlan$$anonfun$execute$1.apply(SparkPlan.scala:114)\n\tat org.apache.spark.sql.execution.SparkPlan$$anonfun$execute$1.apply(SparkPlan.scala:114)\n\tat org.apache.spark.sql.execution.SparkPlan$$anonfun$executeQuery$1.apply(SparkPlan.scala:135)\n\tat org.apache.spark.rdd.RDDOperationScope$.withScope(RDDOperationScope.scala:151)\n\tat org.apache.spark.sql.execution.SparkPlan.executeQuery(SparkPlan.scala:132)\n\tat org.apache.spark.sql.execution.SparkPlan.execute(SparkPlan.scala:113)\n\tat org.apache.spark.sql.execution.QueryExecution.toRdd$lzycompute(QueryExecution.scala:87)\n\tat org.apache.spark.sql.execution.QueryExecution.toRdd(QueryExecution.scala:87)\n\tat org.apache.spark.sql.execution.datasources.DataSource.write(DataSource.scala:492)\n\tat org.apache.spark.sql.DataFrameWriter.save(DataFrameWriter.scala:215)\n\tat org.apache.spark.sql.DataFrameWriter.save(DataFrameWriter.scala:198)\n\tat org.apache.spark.sql.DataFrameWriter.csv(DataFrameWriter.scala:579)\n\tat sun.reflect.NativeMethodAccessorImpl.invoke0(Native Method)\n\tat sun.reflect.NativeMethodAccessorImpl.invoke(NativeMethodAccessorImpl.java:62)\n\tat sun.reflect.DelegatingMethodAccessorImpl.invoke(DelegatingMethodAccessorImpl.java:43)\n\tat java.lang.reflect.Method.invoke(Method.java:498)\n\tat py4j.reflection.MethodInvoker.invoke(MethodInvoker.java:244)\n\tat py4j.reflection.ReflectionEngine.invoke(ReflectionEngine.java:357)\n\tat py4j.Gateway.invoke(Gateway.java:280)\n\tat py4j.commands.AbstractCommand.invokeMethod(AbstractCommand.java:132)\n\tat py4j.commands.CallCommand.execute(CallCommand.java:79)\n\tat py4j.GatewayConnection.run(GatewayConnection.java:214)\n\tat java.lang.Thread.run(Thread.java:745)\nCaused by: org.apache.spark.SparkException: Job aborted due to stage failure: Task 9 in stage 2375.0 failed 4 times, most recent failure: Lost task 9.3 in stage 2375.0 (TID 145899, 172.31.42.143, executor 1): org.apache.spark.api.python.PythonException: Traceback (most recent call last):\n  File \"/opt/spark/spark-2.1.0-bin-hadoop2.7/python/lib/pyspark.zip/pyspark/worker.py\", line 174, in main\n    process()\n  File \"/opt/spark/spark-2.1.0-bin-hadoop2.7/python/lib/pyspark.zip/pyspark/worker.py\", line 169, in process\n    serializer.dump_stream(func(split_index, iterator), outfile)\n  File \"/opt/spark/spark-2.1.0-bin-hadoop2.7/python/lib/pyspark.zip/pyspark/worker.py\", line 106, in <lambda>\n    func = lambda _, it: map(mapper, it)\n  File \"<string>\", line 1, in <lambda>\n  File \"/opt/spark/spark-2.1.0-bin-hadoop2.7/python/lib/pyspark.zip/pyspark/worker.py\", line 70, in <lambda>\n    return lambda *a: f(*a)\n  File \"<ipython-input-54-6c52063ef3db>\", line 2, in <lambda>\nTypeError: 'float' object has no attribute '__getitem__'\n\n\tat org.apache.spark.api.python.PythonRunner$$anon$1.read(PythonRDD.scala:193)\n\tat org.apache.spark.api.python.PythonRunner$$anon$1.<init>(PythonRDD.scala:234)\n\tat org.apache.spark.api.python.PythonRunner.compute(PythonRDD.scala:152)\n\tat org.apache.spark.sql.execution.python.BatchEvalPythonExec$$anonfun$doExecute$1.apply(BatchEvalPythonExec.scala:144)\n\tat org.apache.spark.sql.execution.python.BatchEvalPythonExec$$anonfun$doExecute$1.apply(BatchEvalPythonExec.scala:87)\n\tat org.apache.spark.rdd.RDD$$anonfun$mapPartitions$1$$anonfun$apply$23.apply(RDD.scala:796)\n\tat org.apache.spark.rdd.RDD$$anonfun$mapPartitions$1$$anonfun$apply$23.apply(RDD.scala:796)\n\tat org.apache.spark.rdd.MapPartitionsRDD.compute(MapPartitionsRDD.scala:38)\n\tat org.apache.spark.rdd.RDD.computeOrReadCheckpoint(RDD.scala:323)\n\tat org.apache.spark.rdd.RDD.iterator(RDD.scala:287)\n\tat org.apache.spark.rdd.MapPartitionsRDD.compute(MapPartitionsRDD.scala:38)\n\tat org.apache.spark.rdd.RDD.computeOrReadCheckpoint(RDD.scala:323)\n\tat org.apache.spark.rdd.RDD.iterator(RDD.scala:287)\n\tat org.apache.spark.scheduler.ResultTask.runTask(ResultTask.scala:87)\n\tat org.apache.spark.scheduler.Task.run(Task.scala:99)\n\tat org.apache.spark.executor.Executor$TaskRunner.run(Executor.scala:282)\n\tat java.util.concurrent.ThreadPoolExecutor.runWorker(ThreadPoolExecutor.java:1142)\n\tat java.util.concurrent.ThreadPoolExecutor$Worker.run(ThreadPoolExecutor.java:617)\n\tat java.lang.Thread.run(Thread.java:745)\n\nDriver stacktrace:\n\tat org.apache.spark.scheduler.DAGScheduler.org$apache$spark$scheduler$DAGScheduler$$failJobAndIndependentStages(DAGScheduler.scala:1435)\n\tat org.apache.spark.scheduler.DAGScheduler$$anonfun$abortStage$1.apply(DAGScheduler.scala:1423)\n\tat org.apache.spark.scheduler.DAGScheduler$$anonfun$abortStage$1.apply(DAGScheduler.scala:1422)\n\tat scala.collection.mutable.ResizableArray$class.foreach(ResizableArray.scala:59)\n\tat scala.collection.mutable.ArrayBuffer.foreach(ArrayBuffer.scala:48)\n\tat org.apache.spark.scheduler.DAGScheduler.abortStage(DAGScheduler.scala:1422)\n\tat org.apache.spark.scheduler.DAGScheduler$$anonfun$handleTaskSetFailed$1.apply(DAGScheduler.scala:802)\n\tat org.apache.spark.scheduler.DAGScheduler$$anonfun$handleTaskSetFailed$1.apply(DAGScheduler.scala:802)\n\tat scala.Option.foreach(Option.scala:257)\n\tat org.apache.spark.scheduler.DAGScheduler.handleTaskSetFailed(DAGScheduler.scala:802)\n\tat org.apache.spark.scheduler.DAGSchedulerEventProcessLoop.doOnReceive(DAGScheduler.scala:1650)\n\tat org.apache.spark.scheduler.DAGSchedulerEventProcessLoop.onReceive(DAGScheduler.scala:1605)\n\tat org.apache.spark.scheduler.DAGSchedulerEventProcessLoop.onReceive(DAGScheduler.scala:1594)\n\tat org.apache.spark.util.EventLoop$$anon$1.run(EventLoop.scala:48)\n\tat org.apache.spark.scheduler.DAGScheduler.runJob(DAGScheduler.scala:628)\n\tat org.apache.spark.SparkContext.runJob(SparkContext.scala:1918)\n\tat org.apache.spark.SparkContext.runJob(SparkContext.scala:1931)\n\tat org.apache.spark.SparkContext.runJob(SparkContext.scala:1951)\n\tat org.apache.spark.sql.execution.datasources.FileFormatWriter$$anonfun$write$1.apply$mcV$sp(FileFormatWriter.scala:127)\n\t... 31 more\nCaused by: org.apache.spark.api.python.PythonException: Traceback (most recent call last):\n  File \"/opt/spark/spark-2.1.0-bin-hadoop2.7/python/lib/pyspark.zip/pyspark/worker.py\", line 174, in main\n    process()\n  File \"/opt/spark/spark-2.1.0-bin-hadoop2.7/python/lib/pyspark.zip/pyspark/worker.py\", line 169, in process\n    serializer.dump_stream(func(split_index, iterator), outfile)\n  File \"/opt/spark/spark-2.1.0-bin-hadoop2.7/python/lib/pyspark.zip/pyspark/worker.py\", line 106, in <lambda>\n    func = lambda _, it: map(mapper, it)\n  File \"<string>\", line 1, in <lambda>\n  File \"/opt/spark/spark-2.1.0-bin-hadoop2.7/python/lib/pyspark.zip/pyspark/worker.py\", line 70, in <lambda>\n    return lambda *a: f(*a)\n  File \"<ipython-input-54-6c52063ef3db>\", line 2, in <lambda>\nTypeError: 'float' object has no attribute '__getitem__'\n\n\tat org.apache.spark.api.python.PythonRunner$$anon$1.read(PythonRDD.scala:193)\n\tat org.apache.spark.api.python.PythonRunner$$anon$1.<init>(PythonRDD.scala:234)\n\tat org.apache.spark.api.python.PythonRunner.compute(PythonRDD.scala:152)\n\tat org.apache.spark.sql.execution.python.BatchEvalPythonExec$$anonfun$doExecute$1.apply(BatchEvalPythonExec.scala:144)\n\tat org.apache.spark.sql.execution.python.BatchEvalPythonExec$$anonfun$doExecute$1.apply(BatchEvalPythonExec.scala:87)\n\tat org.apache.spark.rdd.RDD$$anonfun$mapPartitions$1$$anonfun$apply$23.apply(RDD.scala:796)\n\tat org.apache.spark.rdd.RDD$$anonfun$mapPartitions$1$$anonfun$apply$23.apply(RDD.scala:796)\n\tat org.apache.spark.rdd.MapPartitionsRDD.compute(MapPartitionsRDD.scala:38)\n\tat org.apache.spark.rdd.RDD.computeOrReadCheckpoint(RDD.scala:323)\n\tat org.apache.spark.rdd.RDD.iterator(RDD.scala:287)\n\tat org.apache.spark.rdd.MapPartitionsRDD.compute(MapPartitionsRDD.scala:38)\n\tat org.apache.spark.rdd.RDD.computeOrReadCheckpoint(RDD.scala:323)\n\tat org.apache.spark.rdd.RDD.iterator(RDD.scala:287)\n\tat org.apache.spark.scheduler.ResultTask.runTask(ResultTask.scala:87)\n\tat org.apache.spark.scheduler.Task.run(Task.scala:99)\n\tat org.apache.spark.executor.Executor$TaskRunner.run(Executor.scala:282)\n\tat java.util.concurrent.ThreadPoolExecutor.runWorker(ThreadPoolExecutor.java:1142)\n\tat java.util.concurrent.ThreadPoolExecutor$Worker.run(ThreadPoolExecutor.java:617)\n\t... 1 more\n",
     "output_type": "error",
     "traceback": [
      "\u001b[0;31m---------------------------------------------------------------------------\u001b[0m",
      "\u001b[0;31mPy4JJavaError\u001b[0m                             Traceback (most recent call last)",
      "\u001b[0;32m<ipython-input-93-e7b805800940>\u001b[0m in \u001b[0;36m<module>\u001b[0;34m()\u001b[0m\n\u001b[0;32m----> 1\u001b[0;31m \u001b[0mf_cluster_df\u001b[0m\u001b[0;34m.\u001b[0m\u001b[0mwrite\u001b[0m\u001b[0;34m.\u001b[0m\u001b[0mcsv\u001b[0m\u001b[0;34m(\u001b[0m\u001b[0;34m'f_clusters5.csv'\u001b[0m\u001b[0;34m)\u001b[0m\u001b[0;34m\u001b[0m\u001b[0m\n\u001b[0m",
      "\u001b[0;32m/opt/spark/spark-2.1.0-bin-hadoop2.7/python/pyspark/sql/readwriter.pyc\u001b[0m in \u001b[0;36mcsv\u001b[0;34m(self, path, mode, compression, sep, quote, escape, header, nullValue, escapeQuotes, quoteAll, dateFormat, timestampFormat)\u001b[0m\n\u001b[1;32m    709\u001b[0m                        \u001b[0mnullValue\u001b[0m\u001b[0;34m=\u001b[0m\u001b[0mnullValue\u001b[0m\u001b[0;34m,\u001b[0m \u001b[0mescapeQuotes\u001b[0m\u001b[0;34m=\u001b[0m\u001b[0mescapeQuotes\u001b[0m\u001b[0;34m,\u001b[0m \u001b[0mquoteAll\u001b[0m\u001b[0;34m=\u001b[0m\u001b[0mquoteAll\u001b[0m\u001b[0;34m,\u001b[0m\u001b[0;34m\u001b[0m\u001b[0m\n\u001b[1;32m    710\u001b[0m                        dateFormat=dateFormat, timestampFormat=timestampFormat)\n\u001b[0;32m--> 711\u001b[0;31m         \u001b[0mself\u001b[0m\u001b[0;34m.\u001b[0m\u001b[0m_jwrite\u001b[0m\u001b[0;34m.\u001b[0m\u001b[0mcsv\u001b[0m\u001b[0;34m(\u001b[0m\u001b[0mpath\u001b[0m\u001b[0;34m)\u001b[0m\u001b[0;34m\u001b[0m\u001b[0m\n\u001b[0m\u001b[1;32m    712\u001b[0m \u001b[0;34m\u001b[0m\u001b[0m\n\u001b[1;32m    713\u001b[0m     \u001b[0;34m@\u001b[0m\u001b[0msince\u001b[0m\u001b[0;34m(\u001b[0m\u001b[0;36m1.5\u001b[0m\u001b[0;34m)\u001b[0m\u001b[0;34m\u001b[0m\u001b[0m\n",
      "\u001b[0;32m/opt/spark/spark-2.1.0-bin-hadoop2.7/python/lib/py4j-0.10.4-src.zip/py4j/java_gateway.py\u001b[0m in \u001b[0;36m__call__\u001b[0;34m(self, *args)\u001b[0m\n\u001b[1;32m   1131\u001b[0m         \u001b[0manswer\u001b[0m \u001b[0;34m=\u001b[0m \u001b[0mself\u001b[0m\u001b[0;34m.\u001b[0m\u001b[0mgateway_client\u001b[0m\u001b[0;34m.\u001b[0m\u001b[0msend_command\u001b[0m\u001b[0;34m(\u001b[0m\u001b[0mcommand\u001b[0m\u001b[0;34m)\u001b[0m\u001b[0;34m\u001b[0m\u001b[0m\n\u001b[1;32m   1132\u001b[0m         return_value = get_return_value(\n\u001b[0;32m-> 1133\u001b[0;31m             answer, self.gateway_client, self.target_id, self.name)\n\u001b[0m\u001b[1;32m   1134\u001b[0m \u001b[0;34m\u001b[0m\u001b[0m\n\u001b[1;32m   1135\u001b[0m         \u001b[0;32mfor\u001b[0m \u001b[0mtemp_arg\u001b[0m \u001b[0;32min\u001b[0m \u001b[0mtemp_args\u001b[0m\u001b[0;34m:\u001b[0m\u001b[0;34m\u001b[0m\u001b[0m\n",
      "\u001b[0;32m/opt/spark/spark-2.1.0-bin-hadoop2.7/python/pyspark/sql/utils.pyc\u001b[0m in \u001b[0;36mdeco\u001b[0;34m(*a, **kw)\u001b[0m\n\u001b[1;32m     61\u001b[0m     \u001b[0;32mdef\u001b[0m \u001b[0mdeco\u001b[0m\u001b[0;34m(\u001b[0m\u001b[0;34m*\u001b[0m\u001b[0ma\u001b[0m\u001b[0;34m,\u001b[0m \u001b[0;34m**\u001b[0m\u001b[0mkw\u001b[0m\u001b[0;34m)\u001b[0m\u001b[0;34m:\u001b[0m\u001b[0;34m\u001b[0m\u001b[0m\n\u001b[1;32m     62\u001b[0m         \u001b[0;32mtry\u001b[0m\u001b[0;34m:\u001b[0m\u001b[0;34m\u001b[0m\u001b[0m\n\u001b[0;32m---> 63\u001b[0;31m             \u001b[0;32mreturn\u001b[0m \u001b[0mf\u001b[0m\u001b[0;34m(\u001b[0m\u001b[0;34m*\u001b[0m\u001b[0ma\u001b[0m\u001b[0;34m,\u001b[0m \u001b[0;34m**\u001b[0m\u001b[0mkw\u001b[0m\u001b[0;34m)\u001b[0m\u001b[0;34m\u001b[0m\u001b[0m\n\u001b[0m\u001b[1;32m     64\u001b[0m         \u001b[0;32mexcept\u001b[0m \u001b[0mpy4j\u001b[0m\u001b[0;34m.\u001b[0m\u001b[0mprotocol\u001b[0m\u001b[0;34m.\u001b[0m\u001b[0mPy4JJavaError\u001b[0m \u001b[0;32mas\u001b[0m \u001b[0me\u001b[0m\u001b[0;34m:\u001b[0m\u001b[0;34m\u001b[0m\u001b[0m\n\u001b[1;32m     65\u001b[0m             \u001b[0ms\u001b[0m \u001b[0;34m=\u001b[0m \u001b[0me\u001b[0m\u001b[0;34m.\u001b[0m\u001b[0mjava_exception\u001b[0m\u001b[0;34m.\u001b[0m\u001b[0mtoString\u001b[0m\u001b[0;34m(\u001b[0m\u001b[0;34m)\u001b[0m\u001b[0;34m\u001b[0m\u001b[0m\n",
      "\u001b[0;32m/opt/spark/spark-2.1.0-bin-hadoop2.7/python/lib/py4j-0.10.4-src.zip/py4j/protocol.py\u001b[0m in \u001b[0;36mget_return_value\u001b[0;34m(answer, gateway_client, target_id, name)\u001b[0m\n\u001b[1;32m    317\u001b[0m                 raise Py4JJavaError(\n\u001b[1;32m    318\u001b[0m                     \u001b[0;34m\"An error occurred while calling {0}{1}{2}.\\n\"\u001b[0m\u001b[0;34m.\u001b[0m\u001b[0;34m\u001b[0m\u001b[0m\n\u001b[0;32m--> 319\u001b[0;31m                     format(target_id, \".\", name), value)\n\u001b[0m\u001b[1;32m    320\u001b[0m             \u001b[0;32melse\u001b[0m\u001b[0;34m:\u001b[0m\u001b[0;34m\u001b[0m\u001b[0m\n\u001b[1;32m    321\u001b[0m                 raise Py4JError(\n",
      "\u001b[0;31mPy4JJavaError\u001b[0m: An error occurred while calling o2275.csv.\n: org.apache.spark.SparkException: Job aborted.\n\tat org.apache.spark.sql.execution.datasources.FileFormatWriter$$anonfun$write$1.apply$mcV$sp(FileFormatWriter.scala:147)\n\tat org.apache.spark.sql.execution.datasources.FileFormatWriter$$anonfun$write$1.apply(FileFormatWriter.scala:121)\n\tat org.apache.spark.sql.execution.datasources.FileFormatWriter$$anonfun$write$1.apply(FileFormatWriter.scala:121)\n\tat org.apache.spark.sql.execution.SQLExecution$.withNewExecutionId(SQLExecution.scala:57)\n\tat org.apache.spark.sql.execution.datasources.FileFormatWriter$.write(FileFormatWriter.scala:121)\n\tat org.apache.spark.sql.execution.datasources.InsertIntoHadoopFsRelationCommand.run(InsertIntoHadoopFsRelationCommand.scala:101)\n\tat org.apache.spark.sql.execution.command.ExecutedCommandExec.sideEffectResult$lzycompute(commands.scala:58)\n\tat org.apache.spark.sql.execution.command.ExecutedCommandExec.sideEffectResult(commands.scala:56)\n\tat org.apache.spark.sql.execution.command.ExecutedCommandExec.doExecute(commands.scala:74)\n\tat org.apache.spark.sql.execution.SparkPlan$$anonfun$execute$1.apply(SparkPlan.scala:114)\n\tat org.apache.spark.sql.execution.SparkPlan$$anonfun$execute$1.apply(SparkPlan.scala:114)\n\tat org.apache.spark.sql.execution.SparkPlan$$anonfun$executeQuery$1.apply(SparkPlan.scala:135)\n\tat org.apache.spark.rdd.RDDOperationScope$.withScope(RDDOperationScope.scala:151)\n\tat org.apache.spark.sql.execution.SparkPlan.executeQuery(SparkPlan.scala:132)\n\tat org.apache.spark.sql.execution.SparkPlan.execute(SparkPlan.scala:113)\n\tat org.apache.spark.sql.execution.QueryExecution.toRdd$lzycompute(QueryExecution.scala:87)\n\tat org.apache.spark.sql.execution.QueryExecution.toRdd(QueryExecution.scala:87)\n\tat org.apache.spark.sql.execution.datasources.DataSource.write(DataSource.scala:492)\n\tat org.apache.spark.sql.DataFrameWriter.save(DataFrameWriter.scala:215)\n\tat org.apache.spark.sql.DataFrameWriter.save(DataFrameWriter.scala:198)\n\tat org.apache.spark.sql.DataFrameWriter.csv(DataFrameWriter.scala:579)\n\tat sun.reflect.NativeMethodAccessorImpl.invoke0(Native Method)\n\tat sun.reflect.NativeMethodAccessorImpl.invoke(NativeMethodAccessorImpl.java:62)\n\tat sun.reflect.DelegatingMethodAccessorImpl.invoke(DelegatingMethodAccessorImpl.java:43)\n\tat java.lang.reflect.Method.invoke(Method.java:498)\n\tat py4j.reflection.MethodInvoker.invoke(MethodInvoker.java:244)\n\tat py4j.reflection.ReflectionEngine.invoke(ReflectionEngine.java:357)\n\tat py4j.Gateway.invoke(Gateway.java:280)\n\tat py4j.commands.AbstractCommand.invokeMethod(AbstractCommand.java:132)\n\tat py4j.commands.CallCommand.execute(CallCommand.java:79)\n\tat py4j.GatewayConnection.run(GatewayConnection.java:214)\n\tat java.lang.Thread.run(Thread.java:745)\nCaused by: org.apache.spark.SparkException: Job aborted due to stage failure: Task 9 in stage 2375.0 failed 4 times, most recent failure: Lost task 9.3 in stage 2375.0 (TID 145899, 172.31.42.143, executor 1): org.apache.spark.api.python.PythonException: Traceback (most recent call last):\n  File \"/opt/spark/spark-2.1.0-bin-hadoop2.7/python/lib/pyspark.zip/pyspark/worker.py\", line 174, in main\n    process()\n  File \"/opt/spark/spark-2.1.0-bin-hadoop2.7/python/lib/pyspark.zip/pyspark/worker.py\", line 169, in process\n    serializer.dump_stream(func(split_index, iterator), outfile)\n  File \"/opt/spark/spark-2.1.0-bin-hadoop2.7/python/lib/pyspark.zip/pyspark/worker.py\", line 106, in <lambda>\n    func = lambda _, it: map(mapper, it)\n  File \"<string>\", line 1, in <lambda>\n  File \"/opt/spark/spark-2.1.0-bin-hadoop2.7/python/lib/pyspark.zip/pyspark/worker.py\", line 70, in <lambda>\n    return lambda *a: f(*a)\n  File \"<ipython-input-54-6c52063ef3db>\", line 2, in <lambda>\nTypeError: 'float' object has no attribute '__getitem__'\n\n\tat org.apache.spark.api.python.PythonRunner$$anon$1.read(PythonRDD.scala:193)\n\tat org.apache.spark.api.python.PythonRunner$$anon$1.<init>(PythonRDD.scala:234)\n\tat org.apache.spark.api.python.PythonRunner.compute(PythonRDD.scala:152)\n\tat org.apache.spark.sql.execution.python.BatchEvalPythonExec$$anonfun$doExecute$1.apply(BatchEvalPythonExec.scala:144)\n\tat org.apache.spark.sql.execution.python.BatchEvalPythonExec$$anonfun$doExecute$1.apply(BatchEvalPythonExec.scala:87)\n\tat org.apache.spark.rdd.RDD$$anonfun$mapPartitions$1$$anonfun$apply$23.apply(RDD.scala:796)\n\tat org.apache.spark.rdd.RDD$$anonfun$mapPartitions$1$$anonfun$apply$23.apply(RDD.scala:796)\n\tat org.apache.spark.rdd.MapPartitionsRDD.compute(MapPartitionsRDD.scala:38)\n\tat org.apache.spark.rdd.RDD.computeOrReadCheckpoint(RDD.scala:323)\n\tat org.apache.spark.rdd.RDD.iterator(RDD.scala:287)\n\tat org.apache.spark.rdd.MapPartitionsRDD.compute(MapPartitionsRDD.scala:38)\n\tat org.apache.spark.rdd.RDD.computeOrReadCheckpoint(RDD.scala:323)\n\tat org.apache.spark.rdd.RDD.iterator(RDD.scala:287)\n\tat org.apache.spark.scheduler.ResultTask.runTask(ResultTask.scala:87)\n\tat org.apache.spark.scheduler.Task.run(Task.scala:99)\n\tat org.apache.spark.executor.Executor$TaskRunner.run(Executor.scala:282)\n\tat java.util.concurrent.ThreadPoolExecutor.runWorker(ThreadPoolExecutor.java:1142)\n\tat java.util.concurrent.ThreadPoolExecutor$Worker.run(ThreadPoolExecutor.java:617)\n\tat java.lang.Thread.run(Thread.java:745)\n\nDriver stacktrace:\n\tat org.apache.spark.scheduler.DAGScheduler.org$apache$spark$scheduler$DAGScheduler$$failJobAndIndependentStages(DAGScheduler.scala:1435)\n\tat org.apache.spark.scheduler.DAGScheduler$$anonfun$abortStage$1.apply(DAGScheduler.scala:1423)\n\tat org.apache.spark.scheduler.DAGScheduler$$anonfun$abortStage$1.apply(DAGScheduler.scala:1422)\n\tat scala.collection.mutable.ResizableArray$class.foreach(ResizableArray.scala:59)\n\tat scala.collection.mutable.ArrayBuffer.foreach(ArrayBuffer.scala:48)\n\tat org.apache.spark.scheduler.DAGScheduler.abortStage(DAGScheduler.scala:1422)\n\tat org.apache.spark.scheduler.DAGScheduler$$anonfun$handleTaskSetFailed$1.apply(DAGScheduler.scala:802)\n\tat org.apache.spark.scheduler.DAGScheduler$$anonfun$handleTaskSetFailed$1.apply(DAGScheduler.scala:802)\n\tat scala.Option.foreach(Option.scala:257)\n\tat org.apache.spark.scheduler.DAGScheduler.handleTaskSetFailed(DAGScheduler.scala:802)\n\tat org.apache.spark.scheduler.DAGSchedulerEventProcessLoop.doOnReceive(DAGScheduler.scala:1650)\n\tat org.apache.spark.scheduler.DAGSchedulerEventProcessLoop.onReceive(DAGScheduler.scala:1605)\n\tat org.apache.spark.scheduler.DAGSchedulerEventProcessLoop.onReceive(DAGScheduler.scala:1594)\n\tat org.apache.spark.util.EventLoop$$anon$1.run(EventLoop.scala:48)\n\tat org.apache.spark.scheduler.DAGScheduler.runJob(DAGScheduler.scala:628)\n\tat org.apache.spark.SparkContext.runJob(SparkContext.scala:1918)\n\tat org.apache.spark.SparkContext.runJob(SparkContext.scala:1931)\n\tat org.apache.spark.SparkContext.runJob(SparkContext.scala:1951)\n\tat org.apache.spark.sql.execution.datasources.FileFormatWriter$$anonfun$write$1.apply$mcV$sp(FileFormatWriter.scala:127)\n\t... 31 more\nCaused by: org.apache.spark.api.python.PythonException: Traceback (most recent call last):\n  File \"/opt/spark/spark-2.1.0-bin-hadoop2.7/python/lib/pyspark.zip/pyspark/worker.py\", line 174, in main\n    process()\n  File \"/opt/spark/spark-2.1.0-bin-hadoop2.7/python/lib/pyspark.zip/pyspark/worker.py\", line 169, in process\n    serializer.dump_stream(func(split_index, iterator), outfile)\n  File \"/opt/spark/spark-2.1.0-bin-hadoop2.7/python/lib/pyspark.zip/pyspark/worker.py\", line 106, in <lambda>\n    func = lambda _, it: map(mapper, it)\n  File \"<string>\", line 1, in <lambda>\n  File \"/opt/spark/spark-2.1.0-bin-hadoop2.7/python/lib/pyspark.zip/pyspark/worker.py\", line 70, in <lambda>\n    return lambda *a: f(*a)\n  File \"<ipython-input-54-6c52063ef3db>\", line 2, in <lambda>\nTypeError: 'float' object has no attribute '__getitem__'\n\n\tat org.apache.spark.api.python.PythonRunner$$anon$1.read(PythonRDD.scala:193)\n\tat org.apache.spark.api.python.PythonRunner$$anon$1.<init>(PythonRDD.scala:234)\n\tat org.apache.spark.api.python.PythonRunner.compute(PythonRDD.scala:152)\n\tat org.apache.spark.sql.execution.python.BatchEvalPythonExec$$anonfun$doExecute$1.apply(BatchEvalPythonExec.scala:144)\n\tat org.apache.spark.sql.execution.python.BatchEvalPythonExec$$anonfun$doExecute$1.apply(BatchEvalPythonExec.scala:87)\n\tat org.apache.spark.rdd.RDD$$anonfun$mapPartitions$1$$anonfun$apply$23.apply(RDD.scala:796)\n\tat org.apache.spark.rdd.RDD$$anonfun$mapPartitions$1$$anonfun$apply$23.apply(RDD.scala:796)\n\tat org.apache.spark.rdd.MapPartitionsRDD.compute(MapPartitionsRDD.scala:38)\n\tat org.apache.spark.rdd.RDD.computeOrReadCheckpoint(RDD.scala:323)\n\tat org.apache.spark.rdd.RDD.iterator(RDD.scala:287)\n\tat org.apache.spark.rdd.MapPartitionsRDD.compute(MapPartitionsRDD.scala:38)\n\tat org.apache.spark.rdd.RDD.computeOrReadCheckpoint(RDD.scala:323)\n\tat org.apache.spark.rdd.RDD.iterator(RDD.scala:287)\n\tat org.apache.spark.scheduler.ResultTask.runTask(ResultTask.scala:87)\n\tat org.apache.spark.scheduler.Task.run(Task.scala:99)\n\tat org.apache.spark.executor.Executor$TaskRunner.run(Executor.scala:282)\n\tat java.util.concurrent.ThreadPoolExecutor.runWorker(ThreadPoolExecutor.java:1142)\n\tat java.util.concurrent.ThreadPoolExecutor$Worker.run(ThreadPoolExecutor.java:617)\n\t... 1 more\n"
     ]
    },
    {
     "name": "stdout",
     "output_type": "stream",
     "text": [
      "time: 2.33 s\n"
     ]
    }
   ],
   "source": [
    "f_cluster_df.write.csv('f_clusters5.csv')"
   ]
  },
  {
   "cell_type": "code",
   "execution_count": 98,
   "metadata": {
    "collapsed": false,
    "deletable": true,
    "editable": true
   },
   "outputs": [
    {
     "data": {
      "text/html": [
       "<div>\n",
       "<table border=\"1\" class=\"dataframe\">\n",
       "  <thead>\n",
       "    <tr style=\"text-align: right;\">\n",
       "      <th></th>\n",
       "      <th>route_prediction</th>\n",
       "      <th>perf_prediction</th>\n",
       "      <th>diff_altitude</th>\n",
       "      <th>geo_distance</th>\n",
       "      <th>userid</th>\n",
       "      <th>workoutid</th>\n",
       "      <th>elapsed_time</th>\n",
       "    </tr>\n",
       "  </thead>\n",
       "  <tbody>\n",
       "    <tr>\n",
       "      <th>count</th>\n",
       "      <td>1000.000000</td>\n",
       "      <td>1000.000000</td>\n",
       "      <td>1000.000000</td>\n",
       "      <td>1000.000000</td>\n",
       "      <td>1.000000e+03</td>\n",
       "      <td>1.000000e+03</td>\n",
       "      <td>1000.000000</td>\n",
       "    </tr>\n",
       "    <tr>\n",
       "      <th>mean</th>\n",
       "      <td>1.606000</td>\n",
       "      <td>1.231000</td>\n",
       "      <td>0.005290</td>\n",
       "      <td>0.035301</td>\n",
       "      <td>4.742135e+06</td>\n",
       "      <td>4.056705e+08</td>\n",
       "      <td>3622.448000</td>\n",
       "    </tr>\n",
       "    <tr>\n",
       "      <th>std</th>\n",
       "      <td>1.102715</td>\n",
       "      <td>0.745785</td>\n",
       "      <td>0.032204</td>\n",
       "      <td>0.040235</td>\n",
       "      <td>3.977771e+06</td>\n",
       "      <td>1.524253e+08</td>\n",
       "      <td>3754.103925</td>\n",
       "    </tr>\n",
       "    <tr>\n",
       "      <th>min</th>\n",
       "      <td>0.000000</td>\n",
       "      <td>0.000000</td>\n",
       "      <td>0.000000</td>\n",
       "      <td>0.000000</td>\n",
       "      <td>6.900000e+01</td>\n",
       "      <td>9.894440e+05</td>\n",
       "      <td>506.000000</td>\n",
       "    </tr>\n",
       "    <tr>\n",
       "      <th>25%</th>\n",
       "      <td>1.000000</td>\n",
       "      <td>1.000000</td>\n",
       "      <td>0.000000</td>\n",
       "      <td>0.019071</td>\n",
       "      <td>1.607905e+06</td>\n",
       "      <td>3.126698e+08</td>\n",
       "      <td>2134.500000</td>\n",
       "    </tr>\n",
       "    <tr>\n",
       "      <th>50%</th>\n",
       "      <td>2.000000</td>\n",
       "      <td>1.000000</td>\n",
       "      <td>0.002490</td>\n",
       "      <td>0.031582</td>\n",
       "      <td>3.575734e+06</td>\n",
       "      <td>4.162176e+08</td>\n",
       "      <td>3093.000000</td>\n",
       "    </tr>\n",
       "    <tr>\n",
       "      <th>75%</th>\n",
       "      <td>3.000000</td>\n",
       "      <td>2.000000</td>\n",
       "      <td>0.005310</td>\n",
       "      <td>0.044650</td>\n",
       "      <td>7.482039e+06</td>\n",
       "      <td>5.252203e+08</td>\n",
       "      <td>4217.500000</td>\n",
       "    </tr>\n",
       "    <tr>\n",
       "      <th>max</th>\n",
       "      <td>3.000000</td>\n",
       "      <td>2.000000</td>\n",
       "      <td>1.000000</td>\n",
       "      <td>1.000000</td>\n",
       "      <td>1.548142e+07</td>\n",
       "      <td>6.551612e+08</td>\n",
       "      <td>84174.000000</td>\n",
       "    </tr>\n",
       "  </tbody>\n",
       "</table>\n",
       "</div>"
      ],
      "text/plain": [
       "       route_prediction  perf_prediction  diff_altitude  geo_distance  \\\n",
       "count       1000.000000      1000.000000    1000.000000   1000.000000   \n",
       "mean           1.606000         1.231000       0.005290      0.035301   \n",
       "std            1.102715         0.745785       0.032204      0.040235   \n",
       "min            0.000000         0.000000       0.000000      0.000000   \n",
       "25%            1.000000         1.000000       0.000000      0.019071   \n",
       "50%            2.000000         1.000000       0.002490      0.031582   \n",
       "75%            3.000000         2.000000       0.005310      0.044650   \n",
       "max            3.000000         2.000000       1.000000      1.000000   \n",
       "\n",
       "             userid     workoutid  elapsed_time  \n",
       "count  1.000000e+03  1.000000e+03   1000.000000  \n",
       "mean   4.742135e+06  4.056705e+08   3622.448000  \n",
       "std    3.977771e+06  1.524253e+08   3754.103925  \n",
       "min    6.900000e+01  9.894440e+05    506.000000  \n",
       "25%    1.607905e+06  3.126698e+08   2134.500000  \n",
       "50%    3.575734e+06  4.162176e+08   3093.000000  \n",
       "75%    7.482039e+06  5.252203e+08   4217.500000  \n",
       "max    1.548142e+07  6.551612e+08  84174.000000  "
      ]
     },
     "execution_count": 98,
     "metadata": {},
     "output_type": "execute_result"
    },
    {
     "name": "stdout",
     "output_type": "stream",
     "text": [
      "time: 282 ms\n"
     ]
    }
   ],
   "source": [
    "f_cluster_df.toPandas().describe()"
   ]
  },
  {
   "cell_type": "code",
   "execution_count": null,
   "metadata": {
    "collapsed": true,
    "deletable": true,
    "editable": true
   },
   "outputs": [],
   "source": []
  },
  {
   "cell_type": "code",
   "execution_count": null,
   "metadata": {
    "collapsed": true,
    "deletable": true,
    "editable": true
   },
   "outputs": [],
   "source": []
  },
  {
   "cell_type": "code",
   "execution_count": 42,
   "metadata": {
    "collapsed": false,
    "deletable": true,
    "editable": true
   },
   "outputs": [
    {
     "name": "stdout",
     "output_type": "stream",
     "text": [
      "time: 3.56 s\n"
     ]
    }
   ],
   "source": [
    "f_cluster_df.write.csv('f_cluster2.csv')"
   ]
  },
  {
   "cell_type": "code",
   "execution_count": 45,
   "metadata": {
    "collapsed": false,
    "deletable": true,
    "editable": true
   },
   "outputs": [
    {
     "name": "stdout",
     "output_type": "stream",
     "text": [
      "time: 3.41 s\n"
     ]
    }
   ],
   "source": [
    "f_cluster_df.write.parquet('f_cluster3.csv')"
   ]
  },
  {
   "cell_type": "code",
   "execution_count": 49,
   "metadata": {
    "collapsed": false,
    "deletable": true,
    "editable": true
   },
   "outputs": [
    {
     "name": "stdout",
     "output_type": "stream",
     "text": [
      "time: 1.1 ms\n"
     ]
    }
   ],
   "source": [
    "schema=f_cluster_df.schema.names"
   ]
  },
  {
   "cell_type": "code",
   "execution_count": 55,
   "metadata": {
    "collapsed": false,
    "deletable": true,
    "editable": true
   },
   "outputs": [
    {
     "ename": "AnalysisException",
     "evalue": "u'Unable to infer schema for Parquet. It must be specified manually.;'",
     "output_type": "error",
     "traceback": [
      "\u001b[0;31m---------------------------------------------------------------------------\u001b[0m",
      "\u001b[0;31mAnalysisException\u001b[0m                         Traceback (most recent call last)",
      "\u001b[0;32m<ipython-input-55-2dd5d4b21c0b>\u001b[0m in \u001b[0;36m<module>\u001b[0;34m()\u001b[0m\n\u001b[0;32m----> 1\u001b[0;31m \u001b[0msqlContext\u001b[0m\u001b[0;34m.\u001b[0m\u001b[0mread\u001b[0m\u001b[0;34m.\u001b[0m\u001b[0mparquet\u001b[0m\u001b[0;34m(\u001b[0m\u001b[0;34m'f_cluster3.csv'\u001b[0m\u001b[0;34m)\u001b[0m\u001b[0;34m\u001b[0m\u001b[0m\n\u001b[0m",
      "\u001b[0;32m/opt/spark/spark-2.1.0-bin-hadoop2.7/python/pyspark/sql/readwriter.pyc\u001b[0m in \u001b[0;36mparquet\u001b[0;34m(self, *paths)\u001b[0m\n\u001b[1;32m    272\u001b[0m         \u001b[0;34m[\u001b[0m\u001b[0;34m(\u001b[0m\u001b[0;34m'name'\u001b[0m\u001b[0;34m,\u001b[0m \u001b[0;34m'string'\u001b[0m\u001b[0;34m)\u001b[0m\u001b[0;34m,\u001b[0m \u001b[0;34m(\u001b[0m\u001b[0;34m'year'\u001b[0m\u001b[0;34m,\u001b[0m \u001b[0;34m'int'\u001b[0m\u001b[0;34m)\u001b[0m\u001b[0;34m,\u001b[0m \u001b[0;34m(\u001b[0m\u001b[0;34m'month'\u001b[0m\u001b[0;34m,\u001b[0m \u001b[0;34m'int'\u001b[0m\u001b[0;34m)\u001b[0m\u001b[0;34m,\u001b[0m \u001b[0;34m(\u001b[0m\u001b[0;34m'day'\u001b[0m\u001b[0;34m,\u001b[0m \u001b[0;34m'int'\u001b[0m\u001b[0;34m)\u001b[0m\u001b[0;34m]\u001b[0m\u001b[0;34m\u001b[0m\u001b[0m\n\u001b[1;32m    273\u001b[0m         \"\"\"\n\u001b[0;32m--> 274\u001b[0;31m         \u001b[0;32mreturn\u001b[0m \u001b[0mself\u001b[0m\u001b[0;34m.\u001b[0m\u001b[0m_df\u001b[0m\u001b[0;34m(\u001b[0m\u001b[0mself\u001b[0m\u001b[0;34m.\u001b[0m\u001b[0m_jreader\u001b[0m\u001b[0;34m.\u001b[0m\u001b[0mparquet\u001b[0m\u001b[0;34m(\u001b[0m\u001b[0m_to_seq\u001b[0m\u001b[0;34m(\u001b[0m\u001b[0mself\u001b[0m\u001b[0;34m.\u001b[0m\u001b[0m_spark\u001b[0m\u001b[0;34m.\u001b[0m\u001b[0m_sc\u001b[0m\u001b[0;34m,\u001b[0m \u001b[0mpaths\u001b[0m\u001b[0;34m)\u001b[0m\u001b[0;34m)\u001b[0m\u001b[0;34m)\u001b[0m\u001b[0;34m\u001b[0m\u001b[0m\n\u001b[0m\u001b[1;32m    275\u001b[0m \u001b[0;34m\u001b[0m\u001b[0m\n\u001b[1;32m    276\u001b[0m     \u001b[0;34m@\u001b[0m\u001b[0mignore_unicode_prefix\u001b[0m\u001b[0;34m\u001b[0m\u001b[0m\n",
      "\u001b[0;32m/opt/spark/spark-2.1.0-bin-hadoop2.7/python/lib/py4j-0.10.4-src.zip/py4j/java_gateway.py\u001b[0m in \u001b[0;36m__call__\u001b[0;34m(self, *args)\u001b[0m\n\u001b[1;32m   1131\u001b[0m         \u001b[0manswer\u001b[0m \u001b[0;34m=\u001b[0m \u001b[0mself\u001b[0m\u001b[0;34m.\u001b[0m\u001b[0mgateway_client\u001b[0m\u001b[0;34m.\u001b[0m\u001b[0msend_command\u001b[0m\u001b[0;34m(\u001b[0m\u001b[0mcommand\u001b[0m\u001b[0;34m)\u001b[0m\u001b[0;34m\u001b[0m\u001b[0m\n\u001b[1;32m   1132\u001b[0m         return_value = get_return_value(\n\u001b[0;32m-> 1133\u001b[0;31m             answer, self.gateway_client, self.target_id, self.name)\n\u001b[0m\u001b[1;32m   1134\u001b[0m \u001b[0;34m\u001b[0m\u001b[0m\n\u001b[1;32m   1135\u001b[0m         \u001b[0;32mfor\u001b[0m \u001b[0mtemp_arg\u001b[0m \u001b[0;32min\u001b[0m \u001b[0mtemp_args\u001b[0m\u001b[0;34m:\u001b[0m\u001b[0;34m\u001b[0m\u001b[0m\n",
      "\u001b[0;32m/opt/spark/spark-2.1.0-bin-hadoop2.7/python/pyspark/sql/utils.pyc\u001b[0m in \u001b[0;36mdeco\u001b[0;34m(*a, **kw)\u001b[0m\n\u001b[1;32m     67\u001b[0m                                              e.java_exception.getStackTrace()))\n\u001b[1;32m     68\u001b[0m             \u001b[0;32mif\u001b[0m \u001b[0ms\u001b[0m\u001b[0;34m.\u001b[0m\u001b[0mstartswith\u001b[0m\u001b[0;34m(\u001b[0m\u001b[0;34m'org.apache.spark.sql.AnalysisException: '\u001b[0m\u001b[0;34m)\u001b[0m\u001b[0;34m:\u001b[0m\u001b[0;34m\u001b[0m\u001b[0m\n\u001b[0;32m---> 69\u001b[0;31m                 \u001b[0;32mraise\u001b[0m \u001b[0mAnalysisException\u001b[0m\u001b[0;34m(\u001b[0m\u001b[0ms\u001b[0m\u001b[0;34m.\u001b[0m\u001b[0msplit\u001b[0m\u001b[0;34m(\u001b[0m\u001b[0;34m': '\u001b[0m\u001b[0;34m,\u001b[0m \u001b[0;36m1\u001b[0m\u001b[0;34m)\u001b[0m\u001b[0;34m[\u001b[0m\u001b[0;36m1\u001b[0m\u001b[0;34m]\u001b[0m\u001b[0;34m,\u001b[0m \u001b[0mstackTrace\u001b[0m\u001b[0;34m)\u001b[0m\u001b[0;34m\u001b[0m\u001b[0m\n\u001b[0m\u001b[1;32m     70\u001b[0m             \u001b[0;32mif\u001b[0m \u001b[0ms\u001b[0m\u001b[0;34m.\u001b[0m\u001b[0mstartswith\u001b[0m\u001b[0;34m(\u001b[0m\u001b[0;34m'org.apache.spark.sql.catalyst.analysis'\u001b[0m\u001b[0;34m)\u001b[0m\u001b[0;34m:\u001b[0m\u001b[0;34m\u001b[0m\u001b[0m\n\u001b[1;32m     71\u001b[0m                 \u001b[0;32mraise\u001b[0m \u001b[0mAnalysisException\u001b[0m\u001b[0;34m(\u001b[0m\u001b[0ms\u001b[0m\u001b[0;34m.\u001b[0m\u001b[0msplit\u001b[0m\u001b[0;34m(\u001b[0m\u001b[0;34m': '\u001b[0m\u001b[0;34m,\u001b[0m \u001b[0;36m1\u001b[0m\u001b[0;34m)\u001b[0m\u001b[0;34m[\u001b[0m\u001b[0;36m1\u001b[0m\u001b[0;34m]\u001b[0m\u001b[0;34m,\u001b[0m \u001b[0mstackTrace\u001b[0m\u001b[0;34m)\u001b[0m\u001b[0;34m\u001b[0m\u001b[0m\n",
      "\u001b[0;31mAnalysisException\u001b[0m: u'Unable to infer schema for Parquet. It must be specified manually.;'"
     ]
    },
    {
     "name": "stdout",
     "output_type": "stream",
     "text": [
      "time: 75 ms\n"
     ]
    }
   ],
   "source": [
    "sqlContext.read.parquet('f_cluster3.csv')"
   ]
  },
  {
   "cell_type": "code",
   "execution_count": 58,
   "metadata": {
    "collapsed": false,
    "deletable": true,
    "editable": true
   },
   "outputs": [
    {
     "name": "stdout",
     "output_type": "stream",
     "text": [
      "time: 3.56 s\n"
     ]
    }
   ],
   "source": [
    "f_cluster_df.toPandas().to_csv('f_clusters4.csv')"
   ]
  },
  {
   "cell_type": "code",
   "execution_count": 59,
   "metadata": {
    "collapsed": false,
    "deletable": true,
    "editable": true
   },
   "outputs": [
    {
     "data": {
      "text/html": [
       "<div>\n",
       "<table border=\"1\" class=\"dataframe\">\n",
       "  <thead>\n",
       "    <tr style=\"text-align: right;\">\n",
       "      <th></th>\n",
       "      <th>Unnamed: 0</th>\n",
       "      <th>route_prediction</th>\n",
       "      <th>perf_prediction</th>\n",
       "      <th>diff_altitude</th>\n",
       "      <th>geo_distance</th>\n",
       "      <th>userid</th>\n",
       "      <th>workoutid</th>\n",
       "      <th>heart_rate_avg</th>\n",
       "      <th>speed_avg</th>\n",
       "      <th>elapsed_time</th>\n",
       "    </tr>\n",
       "  </thead>\n",
       "  <tbody>\n",
       "    <tr>\n",
       "      <th>0</th>\n",
       "      <td>0</td>\n",
       "      <td>1</td>\n",
       "      <td>2</td>\n",
       "      <td>0.000000</td>\n",
       "      <td>0.050324</td>\n",
       "      <td>43462</td>\n",
       "      <td>22952825</td>\n",
       "      <td>179.000</td>\n",
       "      <td>9.931427</td>\n",
       "      <td>0</td>\n",
       "    </tr>\n",
       "    <tr>\n",
       "      <th>1</th>\n",
       "      <td>1</td>\n",
       "      <td>1</td>\n",
       "      <td>2</td>\n",
       "      <td>0.003118</td>\n",
       "      <td>0.049722</td>\n",
       "      <td>1038205</td>\n",
       "      <td>29839134</td>\n",
       "      <td>176.577</td>\n",
       "      <td>14.940946</td>\n",
       "      <td>1016534</td>\n",
       "    </tr>\n",
       "    <tr>\n",
       "      <th>2</th>\n",
       "      <td>2</td>\n",
       "      <td>1</td>\n",
       "      <td>2</td>\n",
       "      <td>0.004915</td>\n",
       "      <td>0.049018</td>\n",
       "      <td>114073</td>\n",
       "      <td>33675191</td>\n",
       "      <td>168.000</td>\n",
       "      <td>14.060335</td>\n",
       "      <td>25389273</td>\n",
       "    </tr>\n",
       "    <tr>\n",
       "      <th>3</th>\n",
       "      <td>3</td>\n",
       "      <td>1</td>\n",
       "      <td>2</td>\n",
       "      <td>0.002494</td>\n",
       "      <td>0.054654</td>\n",
       "      <td>3276737</td>\n",
       "      <td>56085342</td>\n",
       "      <td>162.796</td>\n",
       "      <td>10.481048</td>\n",
       "      <td>14255297</td>\n",
       "    </tr>\n",
       "    <tr>\n",
       "      <th>4</th>\n",
       "      <td>4</td>\n",
       "      <td>1</td>\n",
       "      <td>2</td>\n",
       "      <td>0.011665</td>\n",
       "      <td>0.047487</td>\n",
       "      <td>324779</td>\n",
       "      <td>60963533</td>\n",
       "      <td>155.061</td>\n",
       "      <td>9.609221</td>\n",
       "      <td>15717111</td>\n",
       "    </tr>\n",
       "    <tr>\n",
       "      <th>5</th>\n",
       "      <td>5</td>\n",
       "      <td>1</td>\n",
       "      <td>2</td>\n",
       "      <td>0.000000</td>\n",
       "      <td>0.050781</td>\n",
       "      <td>860533</td>\n",
       "      <td>97645888</td>\n",
       "      <td>164.549</td>\n",
       "      <td>11.894138</td>\n",
       "      <td>2190253</td>\n",
       "    </tr>\n",
       "    <tr>\n",
       "      <th>6</th>\n",
       "      <td>6</td>\n",
       "      <td>1</td>\n",
       "      <td>2</td>\n",
       "      <td>0.004655</td>\n",
       "      <td>0.054519</td>\n",
       "      <td>2255761</td>\n",
       "      <td>100089344</td>\n",
       "      <td>151.000</td>\n",
       "      <td>10.962511</td>\n",
       "      <td>18987867</td>\n",
       "    </tr>\n",
       "    <tr>\n",
       "      <th>7</th>\n",
       "      <td>7</td>\n",
       "      <td>1</td>\n",
       "      <td>1</td>\n",
       "      <td>0.018911</td>\n",
       "      <td>0.061267</td>\n",
       "      <td>81753</td>\n",
       "      <td>156154748</td>\n",
       "      <td>159.129</td>\n",
       "      <td>10.201762</td>\n",
       "      <td>112583114</td>\n",
       "    </tr>\n",
       "    <tr>\n",
       "      <th>8</th>\n",
       "      <td>8</td>\n",
       "      <td>1</td>\n",
       "      <td>2</td>\n",
       "      <td>0.000000</td>\n",
       "      <td>0.049694</td>\n",
       "      <td>5325166</td>\n",
       "      <td>172545666</td>\n",
       "      <td>147.000</td>\n",
       "      <td>8.590226</td>\n",
       "      <td>22200235</td>\n",
       "    </tr>\n",
       "    <tr>\n",
       "      <th>9</th>\n",
       "      <td>9</td>\n",
       "      <td>1</td>\n",
       "      <td>1</td>\n",
       "      <td>0.002854</td>\n",
       "      <td>0.055214</td>\n",
       "      <td>983950</td>\n",
       "      <td>181978674</td>\n",
       "      <td>146.923</td>\n",
       "      <td>13.294408</td>\n",
       "      <td>63173301</td>\n",
       "    </tr>\n",
       "    <tr>\n",
       "      <th>10</th>\n",
       "      <td>10</td>\n",
       "      <td>1</td>\n",
       "      <td>2</td>\n",
       "      <td>0.000901</td>\n",
       "      <td>0.050270</td>\n",
       "      <td>3055418</td>\n",
       "      <td>205641648</td>\n",
       "      <td>148.103</td>\n",
       "      <td>12.646851</td>\n",
       "      <td>0</td>\n",
       "    </tr>\n",
       "    <tr>\n",
       "      <th>11</th>\n",
       "      <td>11</td>\n",
       "      <td>1</td>\n",
       "      <td>2</td>\n",
       "      <td>0.006487</td>\n",
       "      <td>0.050633</td>\n",
       "      <td>4007546</td>\n",
       "      <td>217545028</td>\n",
       "      <td>148.947</td>\n",
       "      <td>10.807348</td>\n",
       "      <td>21332383</td>\n",
       "    </tr>\n",
       "    <tr>\n",
       "      <th>12</th>\n",
       "      <td>12</td>\n",
       "      <td>1</td>\n",
       "      <td>2</td>\n",
       "      <td>0.000000</td>\n",
       "      <td>0.049694</td>\n",
       "      <td>7516129</td>\n",
       "      <td>231192788</td>\n",
       "      <td>120.000</td>\n",
       "      <td>12.464891</td>\n",
       "      <td>25786842</td>\n",
       "    </tr>\n",
       "    <tr>\n",
       "      <th>13</th>\n",
       "      <td>13</td>\n",
       "      <td>1</td>\n",
       "      <td>2</td>\n",
       "      <td>0.002289</td>\n",
       "      <td>0.049942</td>\n",
       "      <td>2568526</td>\n",
       "      <td>245267463</td>\n",
       "      <td>161.000</td>\n",
       "      <td>12.000000</td>\n",
       "      <td>5467964</td>\n",
       "    </tr>\n",
       "    <tr>\n",
       "      <th>14</th>\n",
       "      <td>14</td>\n",
       "      <td>1</td>\n",
       "      <td>0</td>\n",
       "      <td>0.001588</td>\n",
       "      <td>0.049743</td>\n",
       "      <td>8632256</td>\n",
       "      <td>278967805</td>\n",
       "      <td>0.000</td>\n",
       "      <td>10.609412</td>\n",
       "      <td>0</td>\n",
       "    </tr>\n",
       "    <tr>\n",
       "      <th>15</th>\n",
       "      <td>15</td>\n",
       "      <td>1</td>\n",
       "      <td>2</td>\n",
       "      <td>0.002854</td>\n",
       "      <td>0.058381</td>\n",
       "      <td>7123482</td>\n",
       "      <td>307957840</td>\n",
       "      <td>162.000</td>\n",
       "      <td>9.694527</td>\n",
       "      <td>0</td>\n",
       "    </tr>\n",
       "    <tr>\n",
       "      <th>16</th>\n",
       "      <td>16</td>\n",
       "      <td>1</td>\n",
       "      <td>0</td>\n",
       "      <td>0.000000</td>\n",
       "      <td>0.058614</td>\n",
       "      <td>2046947</td>\n",
       "      <td>323189037</td>\n",
       "      <td>0.000</td>\n",
       "      <td>10.500258</td>\n",
       "      <td>74726938</td>\n",
       "    </tr>\n",
       "    <tr>\n",
       "      <th>17</th>\n",
       "      <td>17</td>\n",
       "      <td>1</td>\n",
       "      <td>2</td>\n",
       "      <td>0.000000</td>\n",
       "      <td>0.052808</td>\n",
       "      <td>14544270</td>\n",
       "      <td>324052089</td>\n",
       "      <td>162.000</td>\n",
       "      <td>10.433578</td>\n",
       "      <td>2120257</td>\n",
       "    </tr>\n",
       "    <tr>\n",
       "      <th>18</th>\n",
       "      <td>18</td>\n",
       "      <td>1</td>\n",
       "      <td>2</td>\n",
       "      <td>0.001877</td>\n",
       "      <td>0.055774</td>\n",
       "      <td>8662931</td>\n",
       "      <td>334228990</td>\n",
       "      <td>150.917</td>\n",
       "      <td>13.797078</td>\n",
       "      <td>10636094</td>\n",
       "    </tr>\n",
       "    <tr>\n",
       "      <th>19</th>\n",
       "      <td>19</td>\n",
       "      <td>1</td>\n",
       "      <td>1</td>\n",
       "      <td>0.002274</td>\n",
       "      <td>0.049942</td>\n",
       "      <td>1481127</td>\n",
       "      <td>341948953</td>\n",
       "      <td>124.000</td>\n",
       "      <td>12.047904</td>\n",
       "      <td>116859704</td>\n",
       "    </tr>\n",
       "    <tr>\n",
       "      <th>20</th>\n",
       "      <td>20</td>\n",
       "      <td>1</td>\n",
       "      <td>2</td>\n",
       "      <td>0.002976</td>\n",
       "      <td>0.055724</td>\n",
       "      <td>3324472</td>\n",
       "      <td>344828496</td>\n",
       "      <td>153.083</td>\n",
       "      <td>16.196518</td>\n",
       "      <td>41686324</td>\n",
       "    </tr>\n",
       "    <tr>\n",
       "      <th>21</th>\n",
       "      <td>21</td>\n",
       "      <td>1</td>\n",
       "      <td>0</td>\n",
       "      <td>0.000000</td>\n",
       "      <td>0.050060</td>\n",
       "      <td>7967148</td>\n",
       "      <td>357292847</td>\n",
       "      <td>0.000</td>\n",
       "      <td>16.995595</td>\n",
       "      <td>43442345</td>\n",
       "    </tr>\n",
       "    <tr>\n",
       "      <th>22</th>\n",
       "      <td>22</td>\n",
       "      <td>1</td>\n",
       "      <td>1</td>\n",
       "      <td>0.005892</td>\n",
       "      <td>0.049729</td>\n",
       "      <td>1601558</td>\n",
       "      <td>385182528</td>\n",
       "      <td>150.000</td>\n",
       "      <td>11.404743</td>\n",
       "      <td>79374806</td>\n",
       "    </tr>\n",
       "    <tr>\n",
       "      <th>23</th>\n",
       "      <td>23</td>\n",
       "      <td>1</td>\n",
       "      <td>1</td>\n",
       "      <td>0.002662</td>\n",
       "      <td>0.049375</td>\n",
       "      <td>8221442</td>\n",
       "      <td>413323359</td>\n",
       "      <td>136.499</td>\n",
       "      <td>10.163268</td>\n",
       "      <td>78623135</td>\n",
       "    </tr>\n",
       "    <tr>\n",
       "      <th>24</th>\n",
       "      <td>24</td>\n",
       "      <td>1</td>\n",
       "      <td>1</td>\n",
       "      <td>0.000000</td>\n",
       "      <td>0.052297</td>\n",
       "      <td>13165320</td>\n",
       "      <td>414704172</td>\n",
       "      <td>144.000</td>\n",
       "      <td>13.556877</td>\n",
       "      <td>195609592</td>\n",
       "    </tr>\n",
       "    <tr>\n",
       "      <th>25</th>\n",
       "      <td>25</td>\n",
       "      <td>1</td>\n",
       "      <td>2</td>\n",
       "      <td>0.000000</td>\n",
       "      <td>0.050496</td>\n",
       "      <td>6828710</td>\n",
       "      <td>438993545</td>\n",
       "      <td>134.000</td>\n",
       "      <td>8.811808</td>\n",
       "      <td>54115776</td>\n",
       "    </tr>\n",
       "    <tr>\n",
       "      <th>26</th>\n",
       "      <td>26</td>\n",
       "      <td>1</td>\n",
       "      <td>1</td>\n",
       "      <td>0.003358</td>\n",
       "      <td>0.049682</td>\n",
       "      <td>751448</td>\n",
       "      <td>448951587</td>\n",
       "      <td>147.000</td>\n",
       "      <td>10.854042</td>\n",
       "      <td>158112304</td>\n",
       "    </tr>\n",
       "    <tr>\n",
       "      <th>27</th>\n",
       "      <td>27</td>\n",
       "      <td>1</td>\n",
       "      <td>1</td>\n",
       "      <td>0.003633</td>\n",
       "      <td>0.053413</td>\n",
       "      <td>907015</td>\n",
       "      <td>457325097</td>\n",
       "      <td>127.003</td>\n",
       "      <td>10.963228</td>\n",
       "      <td>124599456</td>\n",
       "    </tr>\n",
       "    <tr>\n",
       "      <th>28</th>\n",
       "      <td>28</td>\n",
       "      <td>1</td>\n",
       "      <td>1</td>\n",
       "      <td>0.001755</td>\n",
       "      <td>0.050199</td>\n",
       "      <td>4264744</td>\n",
       "      <td>474206692</td>\n",
       "      <td>141.783</td>\n",
       "      <td>11.081486</td>\n",
       "      <td>63799984</td>\n",
       "    </tr>\n",
       "    <tr>\n",
       "      <th>29</th>\n",
       "      <td>29</td>\n",
       "      <td>1</td>\n",
       "      <td>1</td>\n",
       "      <td>0.004899</td>\n",
       "      <td>0.057764</td>\n",
       "      <td>3702346</td>\n",
       "      <td>482380491</td>\n",
       "      <td>149.000</td>\n",
       "      <td>10.170138</td>\n",
       "      <td>136925610</td>\n",
       "    </tr>\n",
       "    <tr>\n",
       "      <th>...</th>\n",
       "      <td>...</td>\n",
       "      <td>...</td>\n",
       "      <td>...</td>\n",
       "      <td>...</td>\n",
       "      <td>...</td>\n",
       "      <td>...</td>\n",
       "      <td>...</td>\n",
       "      <td>...</td>\n",
       "      <td>...</td>\n",
       "      <td>...</td>\n",
       "    </tr>\n",
       "    <tr>\n",
       "      <th>24612</th>\n",
       "      <td>24612</td>\n",
       "      <td>0</td>\n",
       "      <td>1</td>\n",
       "      <td>0.001175</td>\n",
       "      <td>0.025870</td>\n",
       "      <td>5407179</td>\n",
       "      <td>293806370</td>\n",
       "      <td>174.855</td>\n",
       "      <td>9.218582</td>\n",
       "      <td>15595756</td>\n",
       "    </tr>\n",
       "    <tr>\n",
       "      <th>24613</th>\n",
       "      <td>24613</td>\n",
       "      <td>0</td>\n",
       "      <td>2</td>\n",
       "      <td>0.000321</td>\n",
       "      <td>0.000000</td>\n",
       "      <td>136171</td>\n",
       "      <td>318781800</td>\n",
       "      <td>116.000</td>\n",
       "      <td>0.000000</td>\n",
       "      <td>97714109</td>\n",
       "    </tr>\n",
       "    <tr>\n",
       "      <th>24614</th>\n",
       "      <td>24614</td>\n",
       "      <td>0</td>\n",
       "      <td>0</td>\n",
       "      <td>0.000000</td>\n",
       "      <td>0.042333</td>\n",
       "      <td>875281</td>\n",
       "      <td>331643924</td>\n",
       "      <td>0.000</td>\n",
       "      <td>11.051783</td>\n",
       "      <td>7094829</td>\n",
       "    </tr>\n",
       "    <tr>\n",
       "      <th>24615</th>\n",
       "      <td>24615</td>\n",
       "      <td>0</td>\n",
       "      <td>1</td>\n",
       "      <td>0.001206</td>\n",
       "      <td>0.024852</td>\n",
       "      <td>11884453</td>\n",
       "      <td>343264984</td>\n",
       "      <td>162.646</td>\n",
       "      <td>12.772590</td>\n",
       "      <td>24274934</td>\n",
       "    </tr>\n",
       "    <tr>\n",
       "      <th>24616</th>\n",
       "      <td>24616</td>\n",
       "      <td>0</td>\n",
       "      <td>1</td>\n",
       "      <td>0.001587</td>\n",
       "      <td>0.042406</td>\n",
       "      <td>10568980</td>\n",
       "      <td>362999773</td>\n",
       "      <td>160.000</td>\n",
       "      <td>12.081657</td>\n",
       "      <td>21943668</td>\n",
       "    </tr>\n",
       "    <tr>\n",
       "      <th>24617</th>\n",
       "      <td>24617</td>\n",
       "      <td>0</td>\n",
       "      <td>2</td>\n",
       "      <td>0.002289</td>\n",
       "      <td>0.042350</td>\n",
       "      <td>1342020</td>\n",
       "      <td>389685109</td>\n",
       "      <td>160.247</td>\n",
       "      <td>11.683026</td>\n",
       "      <td>138804482</td>\n",
       "    </tr>\n",
       "    <tr>\n",
       "      <th>24618</th>\n",
       "      <td>24618</td>\n",
       "      <td>0</td>\n",
       "      <td>0</td>\n",
       "      <td>0.000794</td>\n",
       "      <td>0.044034</td>\n",
       "      <td>13705737</td>\n",
       "      <td>395730773</td>\n",
       "      <td>0.000</td>\n",
       "      <td>12.336463</td>\n",
       "      <td>16438472</td>\n",
       "    </tr>\n",
       "    <tr>\n",
       "      <th>24619</th>\n",
       "      <td>24619</td>\n",
       "      <td>0</td>\n",
       "      <td>1</td>\n",
       "      <td>0.000992</td>\n",
       "      <td>0.025554</td>\n",
       "      <td>3630588</td>\n",
       "      <td>405364522</td>\n",
       "      <td>150.000</td>\n",
       "      <td>9.681834</td>\n",
       "      <td>12861001</td>\n",
       "    </tr>\n",
       "    <tr>\n",
       "      <th>24620</th>\n",
       "      <td>24620</td>\n",
       "      <td>0</td>\n",
       "      <td>1</td>\n",
       "      <td>0.000321</td>\n",
       "      <td>0.029815</td>\n",
       "      <td>14204020</td>\n",
       "      <td>412533726</td>\n",
       "      <td>137.940</td>\n",
       "      <td>8.055731</td>\n",
       "      <td>19949857</td>\n",
       "    </tr>\n",
       "    <tr>\n",
       "      <th>24621</th>\n",
       "      <td>24621</td>\n",
       "      <td>0</td>\n",
       "      <td>1</td>\n",
       "      <td>0.000000</td>\n",
       "      <td>0.040221</td>\n",
       "      <td>7430612</td>\n",
       "      <td>424658051</td>\n",
       "      <td>144.000</td>\n",
       "      <td>6.390744</td>\n",
       "      <td>36704012</td>\n",
       "    </tr>\n",
       "    <tr>\n",
       "      <th>24622</th>\n",
       "      <td>24622</td>\n",
       "      <td>0</td>\n",
       "      <td>1</td>\n",
       "      <td>0.001252</td>\n",
       "      <td>0.038236</td>\n",
       "      <td>10917968</td>\n",
       "      <td>436534436</td>\n",
       "      <td>141.000</td>\n",
       "      <td>11.553000</td>\n",
       "      <td>24609522</td>\n",
       "    </tr>\n",
       "    <tr>\n",
       "      <th>24623</th>\n",
       "      <td>24623</td>\n",
       "      <td>0</td>\n",
       "      <td>1</td>\n",
       "      <td>0.001709</td>\n",
       "      <td>0.026247</td>\n",
       "      <td>14066703</td>\n",
       "      <td>440991836</td>\n",
       "      <td>110.000</td>\n",
       "      <td>5.573852</td>\n",
       "      <td>17878312</td>\n",
       "    </tr>\n",
       "    <tr>\n",
       "      <th>24624</th>\n",
       "      <td>24624</td>\n",
       "      <td>0</td>\n",
       "      <td>1</td>\n",
       "      <td>0.000000</td>\n",
       "      <td>0.033659</td>\n",
       "      <td>3055418</td>\n",
       "      <td>446480438</td>\n",
       "      <td>167.000</td>\n",
       "      <td>12.173566</td>\n",
       "      <td>46542590</td>\n",
       "    </tr>\n",
       "    <tr>\n",
       "      <th>24625</th>\n",
       "      <td>24625</td>\n",
       "      <td>0</td>\n",
       "      <td>1</td>\n",
       "      <td>0.006258</td>\n",
       "      <td>0.045299</td>\n",
       "      <td>2071522</td>\n",
       "      <td>453823384</td>\n",
       "      <td>138.000</td>\n",
       "      <td>8.263177</td>\n",
       "      <td>53224152</td>\n",
       "    </tr>\n",
       "    <tr>\n",
       "      <th>24626</th>\n",
       "      <td>24626</td>\n",
       "      <td>0</td>\n",
       "      <td>1</td>\n",
       "      <td>0.001572</td>\n",
       "      <td>0.037828</td>\n",
       "      <td>5407179</td>\n",
       "      <td>461520942</td>\n",
       "      <td>136.746</td>\n",
       "      <td>9.130300</td>\n",
       "      <td>45753260</td>\n",
       "    </tr>\n",
       "    <tr>\n",
       "      <th>24627</th>\n",
       "      <td>24627</td>\n",
       "      <td>0</td>\n",
       "      <td>1</td>\n",
       "      <td>0.001007</td>\n",
       "      <td>0.033055</td>\n",
       "      <td>10177904</td>\n",
       "      <td>463509097</td>\n",
       "      <td>132.947</td>\n",
       "      <td>7.000633</td>\n",
       "      <td>52514019</td>\n",
       "    </tr>\n",
       "    <tr>\n",
       "      <th>24628</th>\n",
       "      <td>24628</td>\n",
       "      <td>0</td>\n",
       "      <td>2</td>\n",
       "      <td>0.002808</td>\n",
       "      <td>0.044729</td>\n",
       "      <td>3091798</td>\n",
       "      <td>471653292</td>\n",
       "      <td>149.000</td>\n",
       "      <td>11.752661</td>\n",
       "      <td>69203011</td>\n",
       "    </tr>\n",
       "    <tr>\n",
       "      <th>24629</th>\n",
       "      <td>24629</td>\n",
       "      <td>0</td>\n",
       "      <td>1</td>\n",
       "      <td>0.001542</td>\n",
       "      <td>0.046218</td>\n",
       "      <td>10028940</td>\n",
       "      <td>483490146</td>\n",
       "      <td>140.000</td>\n",
       "      <td>9.735862</td>\n",
       "      <td>45197458</td>\n",
       "    </tr>\n",
       "    <tr>\n",
       "      <th>24630</th>\n",
       "      <td>24630</td>\n",
       "      <td>0</td>\n",
       "      <td>2</td>\n",
       "      <td>0.004197</td>\n",
       "      <td>0.033989</td>\n",
       "      <td>431375</td>\n",
       "      <td>495353301</td>\n",
       "      <td>150.000</td>\n",
       "      <td>12.981242</td>\n",
       "      <td>142720359</td>\n",
       "    </tr>\n",
       "    <tr>\n",
       "      <th>24631</th>\n",
       "      <td>24631</td>\n",
       "      <td>0</td>\n",
       "      <td>2</td>\n",
       "      <td>0.002106</td>\n",
       "      <td>0.033755</td>\n",
       "      <td>818925</td>\n",
       "      <td>501915815</td>\n",
       "      <td>158.807</td>\n",
       "      <td>10.226917</td>\n",
       "      <td>67384700</td>\n",
       "    </tr>\n",
       "    <tr>\n",
       "      <th>24632</th>\n",
       "      <td>24632</td>\n",
       "      <td>0</td>\n",
       "      <td>2</td>\n",
       "      <td>0.000000</td>\n",
       "      <td>0.045333</td>\n",
       "      <td>3235195</td>\n",
       "      <td>531829036</td>\n",
       "      <td>138.668</td>\n",
       "      <td>11.263830</td>\n",
       "      <td>83035204</td>\n",
       "    </tr>\n",
       "    <tr>\n",
       "      <th>24633</th>\n",
       "      <td>24633</td>\n",
       "      <td>0</td>\n",
       "      <td>1</td>\n",
       "      <td>0.000504</td>\n",
       "      <td>0.045869</td>\n",
       "      <td>10057948</td>\n",
       "      <td>549001668</td>\n",
       "      <td>136.000</td>\n",
       "      <td>8.965123</td>\n",
       "      <td>29883418</td>\n",
       "    </tr>\n",
       "    <tr>\n",
       "      <th>24634</th>\n",
       "      <td>24634</td>\n",
       "      <td>0</td>\n",
       "      <td>1</td>\n",
       "      <td>0.018178</td>\n",
       "      <td>0.042105</td>\n",
       "      <td>1058434</td>\n",
       "      <td>586404536</td>\n",
       "      <td>169.000</td>\n",
       "      <td>9.196492</td>\n",
       "      <td>49414127</td>\n",
       "    </tr>\n",
       "    <tr>\n",
       "      <th>24635</th>\n",
       "      <td>24635</td>\n",
       "      <td>0</td>\n",
       "      <td>1</td>\n",
       "      <td>0.004594</td>\n",
       "      <td>0.032048</td>\n",
       "      <td>6796415</td>\n",
       "      <td>595027908</td>\n",
       "      <td>133.000</td>\n",
       "      <td>12.161567</td>\n",
       "      <td>50709917</td>\n",
       "    </tr>\n",
       "    <tr>\n",
       "      <th>24636</th>\n",
       "      <td>24636</td>\n",
       "      <td>0</td>\n",
       "      <td>1</td>\n",
       "      <td>0.006716</td>\n",
       "      <td>0.033409</td>\n",
       "      <td>4164701</td>\n",
       "      <td>595733242</td>\n",
       "      <td>141.065</td>\n",
       "      <td>9.925042</td>\n",
       "      <td>45610756</td>\n",
       "    </tr>\n",
       "    <tr>\n",
       "      <th>24637</th>\n",
       "      <td>24637</td>\n",
       "      <td>0</td>\n",
       "      <td>2</td>\n",
       "      <td>0.000839</td>\n",
       "      <td>0.035668</td>\n",
       "      <td>2692363</td>\n",
       "      <td>619012388</td>\n",
       "      <td>145.000</td>\n",
       "      <td>10.550808</td>\n",
       "      <td>94402472</td>\n",
       "    </tr>\n",
       "    <tr>\n",
       "      <th>24638</th>\n",
       "      <td>24638</td>\n",
       "      <td>0</td>\n",
       "      <td>1</td>\n",
       "      <td>0.000000</td>\n",
       "      <td>0.045722</td>\n",
       "      <td>6716410</td>\n",
       "      <td>621586730</td>\n",
       "      <td>167.000</td>\n",
       "      <td>10.261841</td>\n",
       "      <td>44348845</td>\n",
       "    </tr>\n",
       "    <tr>\n",
       "      <th>24639</th>\n",
       "      <td>24639</td>\n",
       "      <td>0</td>\n",
       "      <td>0</td>\n",
       "      <td>0.002885</td>\n",
       "      <td>0.013025</td>\n",
       "      <td>885462</td>\n",
       "      <td>631384733</td>\n",
       "      <td>0.000</td>\n",
       "      <td>12.426982</td>\n",
       "      <td>97302610</td>\n",
       "    </tr>\n",
       "    <tr>\n",
       "      <th>24640</th>\n",
       "      <td>24640</td>\n",
       "      <td>0</td>\n",
       "      <td>1</td>\n",
       "      <td>0.004121</td>\n",
       "      <td>0.033549</td>\n",
       "      <td>5386323</td>\n",
       "      <td>637964005</td>\n",
       "      <td>97.000</td>\n",
       "      <td>7.560915</td>\n",
       "      <td>50130575</td>\n",
       "    </tr>\n",
       "    <tr>\n",
       "      <th>24641</th>\n",
       "      <td>24641</td>\n",
       "      <td>0</td>\n",
       "      <td>2</td>\n",
       "      <td>0.001175</td>\n",
       "      <td>0.026687</td>\n",
       "      <td>9336459</td>\n",
       "      <td>638057350</td>\n",
       "      <td>128.533</td>\n",
       "      <td>12.437240</td>\n",
       "      <td>56859618</td>\n",
       "    </tr>\n",
       "  </tbody>\n",
       "</table>\n",
       "<p>24642 rows × 10 columns</p>\n",
       "</div>"
      ],
      "text/plain": [
       "       Unnamed: 0  route_prediction  perf_prediction  diff_altitude  \\\n",
       "0               0                 1                2       0.000000   \n",
       "1               1                 1                2       0.003118   \n",
       "2               2                 1                2       0.004915   \n",
       "3               3                 1                2       0.002494   \n",
       "4               4                 1                2       0.011665   \n",
       "5               5                 1                2       0.000000   \n",
       "6               6                 1                2       0.004655   \n",
       "7               7                 1                1       0.018911   \n",
       "8               8                 1                2       0.000000   \n",
       "9               9                 1                1       0.002854   \n",
       "10             10                 1                2       0.000901   \n",
       "11             11                 1                2       0.006487   \n",
       "12             12                 1                2       0.000000   \n",
       "13             13                 1                2       0.002289   \n",
       "14             14                 1                0       0.001588   \n",
       "15             15                 1                2       0.002854   \n",
       "16             16                 1                0       0.000000   \n",
       "17             17                 1                2       0.000000   \n",
       "18             18                 1                2       0.001877   \n",
       "19             19                 1                1       0.002274   \n",
       "20             20                 1                2       0.002976   \n",
       "21             21                 1                0       0.000000   \n",
       "22             22                 1                1       0.005892   \n",
       "23             23                 1                1       0.002662   \n",
       "24             24                 1                1       0.000000   \n",
       "25             25                 1                2       0.000000   \n",
       "26             26                 1                1       0.003358   \n",
       "27             27                 1                1       0.003633   \n",
       "28             28                 1                1       0.001755   \n",
       "29             29                 1                1       0.004899   \n",
       "...           ...               ...              ...            ...   \n",
       "24612       24612                 0                1       0.001175   \n",
       "24613       24613                 0                2       0.000321   \n",
       "24614       24614                 0                0       0.000000   \n",
       "24615       24615                 0                1       0.001206   \n",
       "24616       24616                 0                1       0.001587   \n",
       "24617       24617                 0                2       0.002289   \n",
       "24618       24618                 0                0       0.000794   \n",
       "24619       24619                 0                1       0.000992   \n",
       "24620       24620                 0                1       0.000321   \n",
       "24621       24621                 0                1       0.000000   \n",
       "24622       24622                 0                1       0.001252   \n",
       "24623       24623                 0                1       0.001709   \n",
       "24624       24624                 0                1       0.000000   \n",
       "24625       24625                 0                1       0.006258   \n",
       "24626       24626                 0                1       0.001572   \n",
       "24627       24627                 0                1       0.001007   \n",
       "24628       24628                 0                2       0.002808   \n",
       "24629       24629                 0                1       0.001542   \n",
       "24630       24630                 0                2       0.004197   \n",
       "24631       24631                 0                2       0.002106   \n",
       "24632       24632                 0                2       0.000000   \n",
       "24633       24633                 0                1       0.000504   \n",
       "24634       24634                 0                1       0.018178   \n",
       "24635       24635                 0                1       0.004594   \n",
       "24636       24636                 0                1       0.006716   \n",
       "24637       24637                 0                2       0.000839   \n",
       "24638       24638                 0                1       0.000000   \n",
       "24639       24639                 0                0       0.002885   \n",
       "24640       24640                 0                1       0.004121   \n",
       "24641       24641                 0                2       0.001175   \n",
       "\n",
       "       geo_distance    userid  workoutid  heart_rate_avg  speed_avg  \\\n",
       "0          0.050324     43462   22952825         179.000   9.931427   \n",
       "1          0.049722   1038205   29839134         176.577  14.940946   \n",
       "2          0.049018    114073   33675191         168.000  14.060335   \n",
       "3          0.054654   3276737   56085342         162.796  10.481048   \n",
       "4          0.047487    324779   60963533         155.061   9.609221   \n",
       "5          0.050781    860533   97645888         164.549  11.894138   \n",
       "6          0.054519   2255761  100089344         151.000  10.962511   \n",
       "7          0.061267     81753  156154748         159.129  10.201762   \n",
       "8          0.049694   5325166  172545666         147.000   8.590226   \n",
       "9          0.055214    983950  181978674         146.923  13.294408   \n",
       "10         0.050270   3055418  205641648         148.103  12.646851   \n",
       "11         0.050633   4007546  217545028         148.947  10.807348   \n",
       "12         0.049694   7516129  231192788         120.000  12.464891   \n",
       "13         0.049942   2568526  245267463         161.000  12.000000   \n",
       "14         0.049743   8632256  278967805           0.000  10.609412   \n",
       "15         0.058381   7123482  307957840         162.000   9.694527   \n",
       "16         0.058614   2046947  323189037           0.000  10.500258   \n",
       "17         0.052808  14544270  324052089         162.000  10.433578   \n",
       "18         0.055774   8662931  334228990         150.917  13.797078   \n",
       "19         0.049942   1481127  341948953         124.000  12.047904   \n",
       "20         0.055724   3324472  344828496         153.083  16.196518   \n",
       "21         0.050060   7967148  357292847           0.000  16.995595   \n",
       "22         0.049729   1601558  385182528         150.000  11.404743   \n",
       "23         0.049375   8221442  413323359         136.499  10.163268   \n",
       "24         0.052297  13165320  414704172         144.000  13.556877   \n",
       "25         0.050496   6828710  438993545         134.000   8.811808   \n",
       "26         0.049682    751448  448951587         147.000  10.854042   \n",
       "27         0.053413    907015  457325097         127.003  10.963228   \n",
       "28         0.050199   4264744  474206692         141.783  11.081486   \n",
       "29         0.057764   3702346  482380491         149.000  10.170138   \n",
       "...             ...       ...        ...             ...        ...   \n",
       "24612      0.025870   5407179  293806370         174.855   9.218582   \n",
       "24613      0.000000    136171  318781800         116.000   0.000000   \n",
       "24614      0.042333    875281  331643924           0.000  11.051783   \n",
       "24615      0.024852  11884453  343264984         162.646  12.772590   \n",
       "24616      0.042406  10568980  362999773         160.000  12.081657   \n",
       "24617      0.042350   1342020  389685109         160.247  11.683026   \n",
       "24618      0.044034  13705737  395730773           0.000  12.336463   \n",
       "24619      0.025554   3630588  405364522         150.000   9.681834   \n",
       "24620      0.029815  14204020  412533726         137.940   8.055731   \n",
       "24621      0.040221   7430612  424658051         144.000   6.390744   \n",
       "24622      0.038236  10917968  436534436         141.000  11.553000   \n",
       "24623      0.026247  14066703  440991836         110.000   5.573852   \n",
       "24624      0.033659   3055418  446480438         167.000  12.173566   \n",
       "24625      0.045299   2071522  453823384         138.000   8.263177   \n",
       "24626      0.037828   5407179  461520942         136.746   9.130300   \n",
       "24627      0.033055  10177904  463509097         132.947   7.000633   \n",
       "24628      0.044729   3091798  471653292         149.000  11.752661   \n",
       "24629      0.046218  10028940  483490146         140.000   9.735862   \n",
       "24630      0.033989    431375  495353301         150.000  12.981242   \n",
       "24631      0.033755    818925  501915815         158.807  10.226917   \n",
       "24632      0.045333   3235195  531829036         138.668  11.263830   \n",
       "24633      0.045869  10057948  549001668         136.000   8.965123   \n",
       "24634      0.042105   1058434  586404536         169.000   9.196492   \n",
       "24635      0.032048   6796415  595027908         133.000  12.161567   \n",
       "24636      0.033409   4164701  595733242         141.065   9.925042   \n",
       "24637      0.035668   2692363  619012388         145.000  10.550808   \n",
       "24638      0.045722   6716410  621586730         167.000  10.261841   \n",
       "24639      0.013025    885462  631384733           0.000  12.426982   \n",
       "24640      0.033549   5386323  637964005          97.000   7.560915   \n",
       "24641      0.026687   9336459  638057350         128.533  12.437240   \n",
       "\n",
       "       elapsed_time  \n",
       "0                 0  \n",
       "1           1016534  \n",
       "2          25389273  \n",
       "3          14255297  \n",
       "4          15717111  \n",
       "5           2190253  \n",
       "6          18987867  \n",
       "7         112583114  \n",
       "8          22200235  \n",
       "9          63173301  \n",
       "10                0  \n",
       "11         21332383  \n",
       "12         25786842  \n",
       "13          5467964  \n",
       "14                0  \n",
       "15                0  \n",
       "16         74726938  \n",
       "17          2120257  \n",
       "18         10636094  \n",
       "19        116859704  \n",
       "20         41686324  \n",
       "21         43442345  \n",
       "22         79374806  \n",
       "23         78623135  \n",
       "24        195609592  \n",
       "25         54115776  \n",
       "26        158112304  \n",
       "27        124599456  \n",
       "28         63799984  \n",
       "29        136925610  \n",
       "...             ...  \n",
       "24612      15595756  \n",
       "24613      97714109  \n",
       "24614       7094829  \n",
       "24615      24274934  \n",
       "24616      21943668  \n",
       "24617     138804482  \n",
       "24618      16438472  \n",
       "24619      12861001  \n",
       "24620      19949857  \n",
       "24621      36704012  \n",
       "24622      24609522  \n",
       "24623      17878312  \n",
       "24624      46542590  \n",
       "24625      53224152  \n",
       "24626      45753260  \n",
       "24627      52514019  \n",
       "24628      69203011  \n",
       "24629      45197458  \n",
       "24630     142720359  \n",
       "24631      67384700  \n",
       "24632      83035204  \n",
       "24633      29883418  \n",
       "24634      49414127  \n",
       "24635      50709917  \n",
       "24636      45610756  \n",
       "24637      94402472  \n",
       "24638      44348845  \n",
       "24639      97302610  \n",
       "24640      50130575  \n",
       "24641      56859618  \n",
       "\n",
       "[24642 rows x 10 columns]"
      ]
     },
     "execution_count": 59,
     "metadata": {},
     "output_type": "execute_result"
    },
    {
     "name": "stdout",
     "output_type": "stream",
     "text": [
      "time: 107 ms\n"
     ]
    }
   ],
   "source": [
    "pd.read_csv('f_clusters4.csv')"
   ]
  },
  {
   "cell_type": "code",
   "execution_count": 6,
   "metadata": {
    "collapsed": false,
    "deletable": true,
    "editable": true
   },
   "outputs": [
    {
     "ename": "IllegalArgumentException",
     "evalue": "u'Can not create a Path from an empty string'",
     "output_type": "error",
     "traceback": [
      "\u001b[0;31m---------------------------------------------------------------------------\u001b[0m",
      "\u001b[0;31mIllegalArgumentException\u001b[0m                  Traceback (most recent call last)",
      "\u001b[0;32m<ipython-input-6-5a4bef8769f9>\u001b[0m in \u001b[0;36m<module>\u001b[0;34m()\u001b[0m\n\u001b[0;32m----> 1\u001b[0;31m \u001b[0mspark\u001b[0m\u001b[0;34m.\u001b[0m\u001b[0mread\u001b[0m\u001b[0;34m.\u001b[0m\u001b[0mcsv\u001b[0m\u001b[0;34m(\u001b[0m\u001b[0;34m'f_cluster.csv'\u001b[0m\u001b[0;34m)\u001b[0m\u001b[0;34m\u001b[0m\u001b[0m\n\u001b[0m",
      "\u001b[0;32m/opt/spark/spark-2.1.0-bin-hadoop2.7/python/pyspark/sql/readwriter.pyc\u001b[0m in \u001b[0;36mcsv\u001b[0;34m(self, path, schema, sep, encoding, quote, escape, comment, header, inferSchema, ignoreLeadingWhiteSpace, ignoreTrailingWhiteSpace, nullValue, nanValue, positiveInf, negativeInf, dateFormat, timestampFormat, maxColumns, maxCharsPerColumn, maxMalformedLogPerPartition, mode)\u001b[0m\n\u001b[1;32m    378\u001b[0m         \u001b[0;32mif\u001b[0m \u001b[0misinstance\u001b[0m\u001b[0;34m(\u001b[0m\u001b[0mpath\u001b[0m\u001b[0;34m,\u001b[0m \u001b[0mbasestring\u001b[0m\u001b[0;34m)\u001b[0m\u001b[0;34m:\u001b[0m\u001b[0;34m\u001b[0m\u001b[0m\n\u001b[1;32m    379\u001b[0m             \u001b[0mpath\u001b[0m \u001b[0;34m=\u001b[0m \u001b[0;34m[\u001b[0m\u001b[0mpath\u001b[0m\u001b[0;34m]\u001b[0m\u001b[0;34m\u001b[0m\u001b[0m\n\u001b[0;32m--> 380\u001b[0;31m         \u001b[0;32mreturn\u001b[0m \u001b[0mself\u001b[0m\u001b[0;34m.\u001b[0m\u001b[0m_df\u001b[0m\u001b[0;34m(\u001b[0m\u001b[0mself\u001b[0m\u001b[0;34m.\u001b[0m\u001b[0m_jreader\u001b[0m\u001b[0;34m.\u001b[0m\u001b[0mcsv\u001b[0m\u001b[0;34m(\u001b[0m\u001b[0mself\u001b[0m\u001b[0;34m.\u001b[0m\u001b[0m_spark\u001b[0m\u001b[0;34m.\u001b[0m\u001b[0m_sc\u001b[0m\u001b[0;34m.\u001b[0m\u001b[0m_jvm\u001b[0m\u001b[0;34m.\u001b[0m\u001b[0mPythonUtils\u001b[0m\u001b[0;34m.\u001b[0m\u001b[0mtoSeq\u001b[0m\u001b[0;34m(\u001b[0m\u001b[0mpath\u001b[0m\u001b[0;34m)\u001b[0m\u001b[0;34m)\u001b[0m\u001b[0;34m)\u001b[0m\u001b[0;34m\u001b[0m\u001b[0m\n\u001b[0m\u001b[1;32m    381\u001b[0m \u001b[0;34m\u001b[0m\u001b[0m\n\u001b[1;32m    382\u001b[0m     \u001b[0;34m@\u001b[0m\u001b[0msince\u001b[0m\u001b[0;34m(\u001b[0m\u001b[0;36m1.5\u001b[0m\u001b[0;34m)\u001b[0m\u001b[0;34m\u001b[0m\u001b[0m\n",
      "\u001b[0;32m/opt/spark/spark-2.1.0-bin-hadoop2.7/python/lib/py4j-0.10.4-src.zip/py4j/java_gateway.py\u001b[0m in \u001b[0;36m__call__\u001b[0;34m(self, *args)\u001b[0m\n\u001b[1;32m   1131\u001b[0m         \u001b[0manswer\u001b[0m \u001b[0;34m=\u001b[0m \u001b[0mself\u001b[0m\u001b[0;34m.\u001b[0m\u001b[0mgateway_client\u001b[0m\u001b[0;34m.\u001b[0m\u001b[0msend_command\u001b[0m\u001b[0;34m(\u001b[0m\u001b[0mcommand\u001b[0m\u001b[0;34m)\u001b[0m\u001b[0;34m\u001b[0m\u001b[0m\n\u001b[1;32m   1132\u001b[0m         return_value = get_return_value(\n\u001b[0;32m-> 1133\u001b[0;31m             answer, self.gateway_client, self.target_id, self.name)\n\u001b[0m\u001b[1;32m   1134\u001b[0m \u001b[0;34m\u001b[0m\u001b[0m\n\u001b[1;32m   1135\u001b[0m         \u001b[0;32mfor\u001b[0m \u001b[0mtemp_arg\u001b[0m \u001b[0;32min\u001b[0m \u001b[0mtemp_args\u001b[0m\u001b[0;34m:\u001b[0m\u001b[0;34m\u001b[0m\u001b[0m\n",
      "\u001b[0;32m/opt/spark/spark-2.1.0-bin-hadoop2.7/python/pyspark/sql/utils.pyc\u001b[0m in \u001b[0;36mdeco\u001b[0;34m(*a, **kw)\u001b[0m\n\u001b[1;32m     77\u001b[0m                 \u001b[0;32mraise\u001b[0m \u001b[0mQueryExecutionException\u001b[0m\u001b[0;34m(\u001b[0m\u001b[0ms\u001b[0m\u001b[0;34m.\u001b[0m\u001b[0msplit\u001b[0m\u001b[0;34m(\u001b[0m\u001b[0;34m': '\u001b[0m\u001b[0;34m,\u001b[0m \u001b[0;36m1\u001b[0m\u001b[0;34m)\u001b[0m\u001b[0;34m[\u001b[0m\u001b[0;36m1\u001b[0m\u001b[0;34m]\u001b[0m\u001b[0;34m,\u001b[0m \u001b[0mstackTrace\u001b[0m\u001b[0;34m)\u001b[0m\u001b[0;34m\u001b[0m\u001b[0m\n\u001b[1;32m     78\u001b[0m             \u001b[0;32mif\u001b[0m \u001b[0ms\u001b[0m\u001b[0;34m.\u001b[0m\u001b[0mstartswith\u001b[0m\u001b[0;34m(\u001b[0m\u001b[0;34m'java.lang.IllegalArgumentException: '\u001b[0m\u001b[0;34m)\u001b[0m\u001b[0;34m:\u001b[0m\u001b[0;34m\u001b[0m\u001b[0m\n\u001b[0;32m---> 79\u001b[0;31m                 \u001b[0;32mraise\u001b[0m \u001b[0mIllegalArgumentException\u001b[0m\u001b[0;34m(\u001b[0m\u001b[0ms\u001b[0m\u001b[0;34m.\u001b[0m\u001b[0msplit\u001b[0m\u001b[0;34m(\u001b[0m\u001b[0;34m': '\u001b[0m\u001b[0;34m,\u001b[0m \u001b[0;36m1\u001b[0m\u001b[0;34m)\u001b[0m\u001b[0;34m[\u001b[0m\u001b[0;36m1\u001b[0m\u001b[0;34m]\u001b[0m\u001b[0;34m,\u001b[0m \u001b[0mstackTrace\u001b[0m\u001b[0;34m)\u001b[0m\u001b[0;34m\u001b[0m\u001b[0m\n\u001b[0m\u001b[1;32m     80\u001b[0m             \u001b[0;32mraise\u001b[0m\u001b[0;34m\u001b[0m\u001b[0m\n\u001b[1;32m     81\u001b[0m     \u001b[0;32mreturn\u001b[0m \u001b[0mdeco\u001b[0m\u001b[0;34m\u001b[0m\u001b[0m\n",
      "\u001b[0;31mIllegalArgumentException\u001b[0m: u'Can not create a Path from an empty string'"
     ]
    },
    {
     "name": "stdout",
     "output_type": "stream",
     "text": [
      "time: 505 ms\n"
     ]
    }
   ],
   "source": [
    "df_fro"
   ]
  },
  {
   "cell_type": "code",
   "execution_count": 56,
   "metadata": {
    "collapsed": false,
    "deletable": true,
    "editable": true
   },
   "outputs": [
    {
     "name": "stdout",
     "output_type": "stream",
     "text": [
      "None\n",
      "time: 1.19 ms\n"
     ]
    }
   ],
   "source": [
    "print c"
   ]
  },
  {
   "cell_type": "code",
   "execution_count": null,
   "metadata": {
    "collapsed": true,
    "deletable": true,
    "editable": true
   },
   "outputs": [],
   "source": []
  },
  {
   "cell_type": "code",
   "execution_count": null,
   "metadata": {
    "collapsed": true,
    "deletable": true,
    "editable": true
   },
   "outputs": [],
   "source": []
  },
  {
   "cell_type": "code",
   "execution_count": 49,
   "metadata": {
    "collapsed": false,
    "deletable": true,
    "editable": true
   },
   "outputs": [
    {
     "name": "stdout",
     "output_type": "stream",
     "text": [
      "+-------------+------------+\n",
      "|diff_altitude|geo_distance|\n",
      "+-------------+------------+\n",
      "|  0.014819317| 4.512356E-6|\n",
      "| 0.0105275875|2.9843734E-6|\n",
      "|  0.004059953| 2.551286E-6|\n",
      "|  0.005942405|1.9085373E-6|\n",
      "| 0.0028244788|3.0166398E-6|\n",
      "| 0.0020299766|1.8026603E-6|\n",
      "| 0.0014347194|2.0295515E-6|\n",
      "| 0.0027931256|1.8971801E-6|\n",
      "| 0.0025310297|  2.81416E-6|\n",
      "| 0.0022742606|1.3907281E-6|\n",
      "| 6.2578224E-4| 5.473361E-6|\n",
      "|  0.002129186|4.9994883E-6|\n",
      "| 0.0039683753| 2.141207E-6|\n",
      "| 0.0025947068|5.0974104E-6|\n",
      "| 0.0025676913|3.7508262E-6|\n",
      "| 0.0026786532|1.2864327E-6|\n",
      "| 0.0022436583| 2.459735E-6|\n",
      "| 0.0035104856|3.0550423E-6|\n",
      "| 0.0017247169|2.2072018E-6|\n",
      "|  0.004075216|1.9128806E-6|\n",
      "+-------------+------------+\n",
      "only showing top 20 rows\n",
      "\n",
      "time: 887 ms\n"
     ]
    }
   ],
   "source": [
    "unv_df = route_df.select(['diff_altitude', 'geo_distance'])\n",
    "unv_df = unv_df.withColumn('diff_altitude', unvector(route_df['diff_altitude']))\n",
    "unv_df = unv_df.withColumn('geo_distance', unvector(route_df['geo_distance']))\n",
    "\n",
    "unv_df.show()"
   ]
  },
  {
   "cell_type": "code",
   "execution_count": 55,
   "metadata": {
    "collapsed": false,
    "deletable": true,
    "editable": true
   },
   "outputs": [
    {
     "name": "stdout",
     "output_type": "stream",
     "text": [
      "time: 2.7 s\n"
     ]
    }
   ],
   "source": [
    "p_df = unv_df.select(['diff_altitude', 'geo_distance']).toPandas()"
   ]
  },
  {
   "cell_type": "code",
   "execution_count": 56,
   "metadata": {
    "collapsed": false,
    "deletable": true,
    "editable": true
   },
   "outputs": [
    {
     "data": {
      "text/html": [
       "<div>\n",
       "<table border=\"1\" class=\"dataframe\">\n",
       "  <thead>\n",
       "    <tr style=\"text-align: right;\">\n",
       "      <th></th>\n",
       "      <th>diff_altitude</th>\n",
       "      <th>geo_distance</th>\n",
       "    </tr>\n",
       "  </thead>\n",
       "  <tbody>\n",
       "    <tr>\n",
       "      <th>count</th>\n",
       "      <td>25000.000000</td>\n",
       "      <td>25000.000000</td>\n",
       "    </tr>\n",
       "    <tr>\n",
       "      <th>mean</th>\n",
       "      <td>0.005473</td>\n",
       "      <td>0.000003</td>\n",
       "    </tr>\n",
       "    <tr>\n",
       "      <th>std</th>\n",
       "      <td>0.030250</td>\n",
       "      <td>0.000014</td>\n",
       "    </tr>\n",
       "    <tr>\n",
       "      <th>min</th>\n",
       "      <td>0.000000</td>\n",
       "      <td>0.000000</td>\n",
       "    </tr>\n",
       "    <tr>\n",
       "      <th>25%</th>\n",
       "      <td>0.000626</td>\n",
       "      <td>0.000002</td>\n",
       "    </tr>\n",
       "    <tr>\n",
       "      <th>50%</th>\n",
       "      <td>0.002366</td>\n",
       "      <td>0.000002</td>\n",
       "    </tr>\n",
       "    <tr>\n",
       "      <th>75%</th>\n",
       "      <td>0.004579</td>\n",
       "      <td>0.000003</td>\n",
       "    </tr>\n",
       "    <tr>\n",
       "      <th>max</th>\n",
       "      <td>1.000000</td>\n",
       "      <td>0.001570</td>\n",
       "    </tr>\n",
       "  </tbody>\n",
       "</table>\n",
       "</div>"
      ],
      "text/plain": [
       "       diff_altitude  geo_distance\n",
       "count   25000.000000  25000.000000\n",
       "mean        0.005473      0.000003\n",
       "std         0.030250      0.000014\n",
       "min         0.000000      0.000000\n",
       "25%         0.000626      0.000002\n",
       "50%         0.002366      0.000002\n",
       "75%         0.004579      0.000003\n",
       "max         1.000000      0.001570"
      ]
     },
     "execution_count": 56,
     "metadata": {},
     "output_type": "execute_result"
    },
    {
     "name": "stdout",
     "output_type": "stream",
     "text": [
      "time: 15.8 ms\n"
     ]
    }
   ],
   "source": [
    "p_df.describe()"
   ]
  },
  {
   "cell_type": "code",
   "execution_count": 57,
   "metadata": {
    "collapsed": false,
    "deletable": true,
    "editable": true
   },
   "outputs": [
    {
     "data": {
      "text/html": [
       "<div>\n",
       "<table border=\"1\" class=\"dataframe\">\n",
       "  <thead>\n",
       "    <tr style=\"text-align: right;\">\n",
       "      <th></th>\n",
       "      <th>diff_altitude</th>\n",
       "      <th>geo_distance</th>\n",
       "    </tr>\n",
       "  </thead>\n",
       "  <tbody>\n",
       "    <tr>\n",
       "      <th>0</th>\n",
       "      <td>0.014819</td>\n",
       "      <td>0.000005</td>\n",
       "    </tr>\n",
       "    <tr>\n",
       "      <th>1</th>\n",
       "      <td>0.010528</td>\n",
       "      <td>0.000003</td>\n",
       "    </tr>\n",
       "    <tr>\n",
       "      <th>2</th>\n",
       "      <td>0.004060</td>\n",
       "      <td>0.000003</td>\n",
       "    </tr>\n",
       "    <tr>\n",
       "      <th>3</th>\n",
       "      <td>0.005942</td>\n",
       "      <td>0.000002</td>\n",
       "    </tr>\n",
       "    <tr>\n",
       "      <th>4</th>\n",
       "      <td>0.002824</td>\n",
       "      <td>0.000003</td>\n",
       "    </tr>\n",
       "    <tr>\n",
       "      <th>5</th>\n",
       "      <td>0.002030</td>\n",
       "      <td>0.000002</td>\n",
       "    </tr>\n",
       "    <tr>\n",
       "      <th>6</th>\n",
       "      <td>0.001435</td>\n",
       "      <td>0.000002</td>\n",
       "    </tr>\n",
       "    <tr>\n",
       "      <th>7</th>\n",
       "      <td>0.002793</td>\n",
       "      <td>0.000002</td>\n",
       "    </tr>\n",
       "    <tr>\n",
       "      <th>8</th>\n",
       "      <td>0.002531</td>\n",
       "      <td>0.000003</td>\n",
       "    </tr>\n",
       "    <tr>\n",
       "      <th>9</th>\n",
       "      <td>0.002274</td>\n",
       "      <td>0.000001</td>\n",
       "    </tr>\n",
       "  </tbody>\n",
       "</table>\n",
       "</div>"
      ],
      "text/plain": [
       "   diff_altitude  geo_distance\n",
       "0       0.014819      0.000005\n",
       "1       0.010528      0.000003\n",
       "2       0.004060      0.000003\n",
       "3       0.005942      0.000002\n",
       "4       0.002824      0.000003\n",
       "5       0.002030      0.000002\n",
       "6       0.001435      0.000002\n",
       "7       0.002793      0.000002\n",
       "8       0.002531      0.000003\n",
       "9       0.002274      0.000001"
      ]
     },
     "execution_count": 57,
     "metadata": {},
     "output_type": "execute_result"
    },
    {
     "name": "stdout",
     "output_type": "stream",
     "text": [
      "time: 8.06 ms\n"
     ]
    }
   ],
   "source": [
    "p_df.head(10)"
   ]
  },
  {
   "cell_type": "code",
   "execution_count": 65,
   "metadata": {
    "collapsed": false,
    "deletable": true,
    "editable": true
   },
   "outputs": [
    {
     "name": "stdout",
     "output_type": "stream",
     "text": [
      "vectorize done in 0:00:00.050535\n"
     ]
    },
    {
     "data": {
      "text/plain": [
       "['gender',\n",
       " 'workoutid',\n",
       " 'userid',\n",
       " 'start_time',\n",
       " 'start_altitude',\n",
       " 'start_latitude',\n",
       " 'start_longitude',\n",
       " 'series_length',\n",
       " 'series_time_delta',\n",
       " 'series_time_delta_average',\n",
       " 'timezone',\n",
       " 'id',\n",
       " 'altitude_max',\n",
       " 'altitude_min',\n",
       " 'calories',\n",
       " 'distance',\n",
       " 'duration',\n",
       " 'heart_rate_avg',\n",
       " 'heart_rate_max',\n",
       " 'hydration',\n",
       " 'speed_avg',\n",
       " 'speed_max',\n",
       " 'humidity',\n",
       " 'temperature',\n",
       " 'wind_speed',\n",
       " 'elapsed_time',\n",
       " 'diff_altitude',\n",
       " 'geo_distance']"
      ]
     },
     "execution_count": 65,
     "metadata": {},
     "output_type": "execute_result"
    },
    {
     "name": "stdout",
     "output_type": "stream",
     "text": [
      "time: 56.1 ms\n"
     ]
    }
   ],
   "source": [
    "route_cols = ['diff_altitude', 'geo_distance']\n",
    "df = vectorize_columns(sumstats, route_cols)\n",
    "df.schema.names"
   ]
  },
  {
   "cell_type": "code",
   "execution_count": 64,
   "metadata": {
    "collapsed": false,
    "deletable": true,
    "editable": true
   },
   "outputs": [
    {
     "name": "stdout",
     "output_type": "stream",
     "text": [
      "------- normalize  diff_altitude -------\n"
     ]
    },
    {
     "ename": "ValueError",
     "evalue": "Can not reduce() empty RDD",
     "output_type": "error",
     "traceback": [
      "\u001b[0;31m---------------------------------------------------------------------------\u001b[0m",
      "\u001b[0;31mValueError\u001b[0m                                Traceback (most recent call last)",
      "\u001b[0;32m<ipython-input-64-cb0afad428bd>\u001b[0m in \u001b[0;36m<module>\u001b[0;34m()\u001b[0m\n\u001b[0;32m----> 1\u001b[0;31m \u001b[0mnormalize_df4\u001b[0m\u001b[0;34m(\u001b[0m\u001b[0mdf\u001b[0m\u001b[0;34m,\u001b[0m \u001b[0mroute_cols\u001b[0m\u001b[0;34m,\u001b[0m \u001b[0mdebug\u001b[0m\u001b[0;34m=\u001b[0m\u001b[0mTrue\u001b[0m\u001b[0;34m)\u001b[0m\u001b[0;34m\u001b[0m\u001b[0m\n\u001b[0m",
      "\u001b[0;32m<ipython-input-58-64ab07e38761>\u001b[0m in \u001b[0;36mnormalize_df4\u001b[0;34m(df, list_cols, scale_dict, debug)\u001b[0m\n\u001b[1;32m     13\u001b[0m         \u001b[0;31m#scaler is the wrapper instance\u001b[0m\u001b[0;34m\u001b[0m\u001b[0;34m\u001b[0m\u001b[0m\n\u001b[1;32m     14\u001b[0m         \u001b[0mscaler\u001b[0m \u001b[0;34m=\u001b[0m \u001b[0mscaler_wrapper\u001b[0m\u001b[0;34m(\u001b[0m\u001b[0minputCol\u001b[0m\u001b[0;34m=\u001b[0m\u001b[0mcol_name\u001b[0m\u001b[0;34m,\u001b[0m \u001b[0moutputCol\u001b[0m\u001b[0;34m=\u001b[0m\u001b[0mtmp_col_name\u001b[0m\u001b[0;34m,\u001b[0m \u001b[0ms_max\u001b[0m \u001b[0;34m=\u001b[0m \u001b[0mscale_value\u001b[0m\u001b[0;34m)\u001b[0m\u001b[0;34m\u001b[0m\u001b[0m\n\u001b[0;32m---> 15\u001b[0;31m         \u001b[0mscalerModel\u001b[0m \u001b[0;34m=\u001b[0m \u001b[0mscaler\u001b[0m\u001b[0;34m.\u001b[0m\u001b[0mfit\u001b[0m\u001b[0;34m(\u001b[0m\u001b[0mdf\u001b[0m\u001b[0;34m)\u001b[0m\u001b[0;34m\u001b[0m\u001b[0m\n\u001b[0m\u001b[1;32m     16\u001b[0m         \u001b[0mb\u001b[0m \u001b[0;34m=\u001b[0m \u001b[0mdatetime\u001b[0m\u001b[0;34m.\u001b[0m\u001b[0mnow\u001b[0m\u001b[0;34m(\u001b[0m\u001b[0;34m)\u001b[0m\u001b[0;34m\u001b[0m\u001b[0m\n\u001b[1;32m     17\u001b[0m         \u001b[0;32mif\u001b[0m \u001b[0mdebug\u001b[0m\u001b[0;34m:\u001b[0m\u001b[0;34m\u001b[0m\u001b[0m\n",
      "\u001b[0;32m<ipython-input-6-a863d3c06d90>\u001b[0m in \u001b[0;36mfit\u001b[0;34m(self, df)\u001b[0m\n\u001b[1;32m     25\u001b[0m     \u001b[0;32mdef\u001b[0m \u001b[0mfit\u001b[0m\u001b[0;34m(\u001b[0m\u001b[0mself\u001b[0m\u001b[0;34m,\u001b[0m \u001b[0mdf\u001b[0m\u001b[0;34m)\u001b[0m\u001b[0;34m:\u001b[0m\u001b[0;34m\u001b[0m\u001b[0m\n\u001b[1;32m     26\u001b[0m         \u001b[0mcol\u001b[0m \u001b[0;34m=\u001b[0m \u001b[0mself\u001b[0m\u001b[0;34m.\u001b[0m\u001b[0mmmModel\u001b[0m\u001b[0;34m.\u001b[0m\u001b[0mgetInputCol\u001b[0m\u001b[0;34m(\u001b[0m\u001b[0;34m)\u001b[0m\u001b[0;34m\u001b[0m\u001b[0m\n\u001b[0;32m---> 27\u001b[0;31m         \u001b[0mself\u001b[0m\u001b[0;34m.\u001b[0m\u001b[0moriginalMin\u001b[0m \u001b[0;34m=\u001b[0m \u001b[0mdf\u001b[0m\u001b[0;34m.\u001b[0m\u001b[0mselect\u001b[0m\u001b[0;34m(\u001b[0m\u001b[0mcol\u001b[0m\u001b[0;34m)\u001b[0m\u001b[0;34m.\u001b[0m\u001b[0mrdd\u001b[0m\u001b[0;34m.\u001b[0m\u001b[0mflatMap\u001b[0m\u001b[0;34m(\u001b[0m\u001b[0;32mlambda\u001b[0m \u001b[0mx\u001b[0m\u001b[0;34m:\u001b[0m \u001b[0mx\u001b[0m\u001b[0;34m[\u001b[0m\u001b[0;36m0\u001b[0m\u001b[0;34m]\u001b[0m\u001b[0;34m)\u001b[0m\u001b[0;34m.\u001b[0m\u001b[0mmin\u001b[0m\u001b[0;34m(\u001b[0m\u001b[0;34m)\u001b[0m\u001b[0;34m\u001b[0m\u001b[0m\n\u001b[0m\u001b[1;32m     28\u001b[0m         \u001b[0mself\u001b[0m\u001b[0;34m.\u001b[0m\u001b[0moriginalMax\u001b[0m \u001b[0;34m=\u001b[0m \u001b[0mdf\u001b[0m\u001b[0;34m.\u001b[0m\u001b[0mselect\u001b[0m\u001b[0;34m(\u001b[0m\u001b[0mcol\u001b[0m\u001b[0;34m)\u001b[0m\u001b[0;34m.\u001b[0m\u001b[0mrdd\u001b[0m\u001b[0;34m.\u001b[0m\u001b[0mflatMap\u001b[0m\u001b[0;34m(\u001b[0m\u001b[0;32mlambda\u001b[0m \u001b[0mx\u001b[0m\u001b[0;34m:\u001b[0m \u001b[0mx\u001b[0m\u001b[0;34m[\u001b[0m\u001b[0;36m0\u001b[0m\u001b[0;34m]\u001b[0m\u001b[0;34m)\u001b[0m\u001b[0;34m.\u001b[0m\u001b[0mmax\u001b[0m\u001b[0;34m(\u001b[0m\u001b[0;34m)\u001b[0m\u001b[0;34m\u001b[0m\u001b[0m\n\u001b[1;32m     29\u001b[0m         \u001b[0;32mreturn\u001b[0m \u001b[0mself\u001b[0m\u001b[0;34m.\u001b[0m\u001b[0mmmModel\u001b[0m\u001b[0;34m.\u001b[0m\u001b[0mfit\u001b[0m\u001b[0;34m(\u001b[0m\u001b[0mdf\u001b[0m\u001b[0;34m)\u001b[0m\u001b[0;34m\u001b[0m\u001b[0m\n",
      "\u001b[0;32m/opt/spark/spark-2.1.0-bin-hadoop2.7/python/pyspark/rdd.pyc\u001b[0m in \u001b[0;36mmin\u001b[0;34m(self, key)\u001b[0m\n\u001b[1;32m   1020\u001b[0m         \"\"\"\n\u001b[1;32m   1021\u001b[0m         \u001b[0;32mif\u001b[0m \u001b[0mkey\u001b[0m \u001b[0;32mis\u001b[0m \u001b[0mNone\u001b[0m\u001b[0;34m:\u001b[0m\u001b[0;34m\u001b[0m\u001b[0m\n\u001b[0;32m-> 1022\u001b[0;31m             \u001b[0;32mreturn\u001b[0m \u001b[0mself\u001b[0m\u001b[0;34m.\u001b[0m\u001b[0mreduce\u001b[0m\u001b[0;34m(\u001b[0m\u001b[0mmin\u001b[0m\u001b[0;34m)\u001b[0m\u001b[0;34m\u001b[0m\u001b[0m\n\u001b[0m\u001b[1;32m   1023\u001b[0m         \u001b[0;32mreturn\u001b[0m \u001b[0mself\u001b[0m\u001b[0;34m.\u001b[0m\u001b[0mreduce\u001b[0m\u001b[0;34m(\u001b[0m\u001b[0;32mlambda\u001b[0m \u001b[0ma\u001b[0m\u001b[0;34m,\u001b[0m \u001b[0mb\u001b[0m\u001b[0;34m:\u001b[0m \u001b[0mmin\u001b[0m\u001b[0;34m(\u001b[0m\u001b[0ma\u001b[0m\u001b[0;34m,\u001b[0m \u001b[0mb\u001b[0m\u001b[0;34m,\u001b[0m \u001b[0mkey\u001b[0m\u001b[0;34m=\u001b[0m\u001b[0mkey\u001b[0m\u001b[0;34m)\u001b[0m\u001b[0;34m)\u001b[0m\u001b[0;34m\u001b[0m\u001b[0m\n\u001b[1;32m   1024\u001b[0m \u001b[0;34m\u001b[0m\u001b[0m\n",
      "\u001b[0;32m/opt/spark/spark-2.1.0-bin-hadoop2.7/python/pyspark/rdd.pyc\u001b[0m in \u001b[0;36mreduce\u001b[0;34m(self, f)\u001b[0m\n\u001b[1;32m    836\u001b[0m         \u001b[0;32mif\u001b[0m \u001b[0mvals\u001b[0m\u001b[0;34m:\u001b[0m\u001b[0;34m\u001b[0m\u001b[0m\n\u001b[1;32m    837\u001b[0m             \u001b[0;32mreturn\u001b[0m \u001b[0mreduce\u001b[0m\u001b[0;34m(\u001b[0m\u001b[0mf\u001b[0m\u001b[0;34m,\u001b[0m \u001b[0mvals\u001b[0m\u001b[0;34m)\u001b[0m\u001b[0;34m\u001b[0m\u001b[0m\n\u001b[0;32m--> 838\u001b[0;31m         \u001b[0;32mraise\u001b[0m \u001b[0mValueError\u001b[0m\u001b[0;34m(\u001b[0m\u001b[0;34m\"Can not reduce() empty RDD\"\u001b[0m\u001b[0;34m)\u001b[0m\u001b[0;34m\u001b[0m\u001b[0m\n\u001b[0m\u001b[1;32m    839\u001b[0m \u001b[0;34m\u001b[0m\u001b[0m\n\u001b[1;32m    840\u001b[0m     \u001b[0;32mdef\u001b[0m \u001b[0mtreeReduce\u001b[0m\u001b[0;34m(\u001b[0m\u001b[0mself\u001b[0m\u001b[0;34m,\u001b[0m \u001b[0mf\u001b[0m\u001b[0;34m,\u001b[0m \u001b[0mdepth\u001b[0m\u001b[0;34m=\u001b[0m\u001b[0;36m2\u001b[0m\u001b[0;34m)\u001b[0m\u001b[0;34m:\u001b[0m\u001b[0;34m\u001b[0m\u001b[0m\n",
      "\u001b[0;31mValueError\u001b[0m: Can not reduce() empty RDD"
     ]
    },
    {
     "name": "stdout",
     "output_type": "stream",
     "text": [
      "time: 2.21 s\n"
     ]
    }
   ],
   "source": [
    "normalize_df4(df, route_cols, debug=True)"
   ]
  },
  {
   "cell_type": "code",
   "execution_count": 58,
   "metadata": {
    "collapsed": false,
    "deletable": true,
    "editable": true
   },
   "outputs": [
    {
     "name": "stdout",
     "output_type": "stream",
     "text": [
      "time: 13.6 ms\n"
     ]
    }
   ],
   "source": [
    "def normalize_df4(df, list_cols, scale_dict = {}, debug=False):\n",
    "    tmp_col_name = 'temp'\n",
    "    r_dict = {}\n",
    "    index = 0\n",
    "    for col_name in list_cols:\n",
    "        if debug:\n",
    "            print '------- normalize ', col_name,'-------'\n",
    "        a = datetime.now()\n",
    "        scale_value = 1\n",
    "        if col_name in scale_dict:\n",
    "            scale_value = scale_dict[col_name]\n",
    "            print scale_value\n",
    "        #scaler is the wrapper instance\n",
    "        scaler = scaler_wrapper(inputCol=col_name, outputCol=tmp_col_name, s_max = scale_value)\n",
    "        scalerModel = scaler.fit(df)\n",
    "        b = datetime.now()\n",
    "        if debug:\n",
    "            print b-a\n",
    "        df = scalerModel.transform(df).drop(col_name)\\\n",
    "            .withColumnRenamed(tmp_col_name, col_name)\n",
    "        #r_dict[col_name] = scaler\n",
    "        r_dict[index] = scaler\n",
    "        c =datetime.now()\n",
    "        if debug:\n",
    "            print c-b\n",
    "        index+=1\n",
    "    return df, r_dict"
   ]
  },
  {
   "cell_type": "code",
   "execution_count": null,
   "metadata": {
    "collapsed": true,
    "deletable": true,
    "editable": true
   },
   "outputs": [],
   "source": []
  },
  {
   "cell_type": "code",
   "execution_count": null,
   "metadata": {
    "collapsed": true,
    "deletable": true,
    "editable": true
   },
   "outputs": [],
   "source": []
  },
  {
   "cell_type": "code",
   "execution_count": null,
   "metadata": {
    "collapsed": true,
    "deletable": true,
    "editable": true
   },
   "outputs": [],
   "source": [
    "f_cluster_df = f_cluster_df.withColumn('diff_altitude', unvector(f_cluster_df['diff_altitude']))\n",
    "f_cluster_df = f_cluster_df.withColumn('geo_distance', unvector(f_cluster_df['geo_distance']))"
   ]
  }
 ],
 "metadata": {
  "kernelspec": {
   "display_name": "Python 2",
   "language": "python",
   "name": "python2"
  },
  "language_info": {
   "codemirror_mode": {
    "name": "ipython",
    "version": 2
   },
   "file_extension": ".py",
   "mimetype": "text/x-python",
   "name": "python",
   "nbconvert_exporter": "python",
   "pygments_lexer": "ipython2",
   "version": "2.7.12"
  }
 },
 "nbformat": 4,
 "nbformat_minor": 2
}
