{
 "cells": [
  {
   "cell_type": "code",
   "execution_count": 1,
   "metadata": {
    "collapsed": false,
    "deletable": true,
    "editable": true
   },
   "outputs": [],
   "source": [
    "import pandas as pd\n",
    "import numpy as np\n",
    "import sys\n",
    "#import sources.endomondolib as endo\n",
    "#import sources.pysparkconvenience as ps\n",
    "from numpy import array\n",
    "from math import sqrt\n",
    "from pyspark.sql.functions import *\n",
    "from pyspark.mllib.clustering import KMeans, KMeansModel\n",
    "from pyspark.sql import DataFrameReader\n",
    "from pyspark.sql import SQLContext\n",
    "from IPython.display import display, HTML\n",
    "from pyspark.sql.functions import col, mean, min, max\n",
    "from pyspark.ml.linalg import Vectors\n",
    "from pyspark.ml import Pipeline\n",
    "from pyspark.ml.regression import LinearRegression, DecisionTreeRegressor, GBTRegressor, RandomForestRegressor\n",
    "from pyspark.ml.feature import StringIndexer, VectorIndexer\n",
    "from pyspark.ml.classification import DecisionTreeClassifier\n",
    "from pyspark.ml.tuning import CrossValidator, ParamGridBuilder\n",
    "from pyspark.ml.evaluation import MulticlassClassificationEvaluator, RegressionEvaluator\n",
    "\n",
    "from pyspark.ml.feature import VectorAssembler\n",
    "\n",
    "# Disable warnings, set Matplotlib inline plotting and load Pandas package\n",
    "import warnings\n",
    "warnings.filterwarnings('ignore')\n",
    "\n",
    "%matplotlib inline\n",
    "pd.options.display.mpl_style = 'default'\n",
    "\n",
    "%load_ext autotime"
   ]
  },
  {
   "cell_type": "code",
   "execution_count": 2,
   "metadata": {
    "collapsed": false,
    "deletable": true,
    "editable": true
   },
   "outputs": [
    {
     "name": "stdout",
     "output_type": "stream",
     "text": [
      "/home/ubuntu/Regression_3rd_Iteration\n",
      "time: 109 ms\n"
     ]
    }
   ],
   "source": [
    "!pwd"
   ]
  },
  {
   "cell_type": "code",
   "execution_count": 3,
   "metadata": {
    "collapsed": false,
    "deletable": true,
    "editable": true
   },
   "outputs": [
    {
     "name": "stdout",
     "output_type": "stream",
     "text": [
      "time: 4.01 s\n"
     ]
    }
   ],
   "source": [
    "#sc = SQLContext()\n",
    "#create pyspark dataframe from csv\n",
    "def df_from_csv(csv_file):\n",
    "    text = sc.textFile(csv_file)\\\n",
    "       .map(lambda line: line.split(','))\n",
    "   #didn’t work with take(1). believe returns\n",
    "   #different object then first()\n",
    "    schema = text.first()\n",
    "    data = text.filter(lambda x: x != schema)\n",
    "    df = sqlContext.createDataFrame(data, schema)\n",
    "    return df\n",
    "\n",
    "#here’s the new vectorizer function:\n",
    "\n",
    "def vectorizeData(data):\n",
    "        return data.rdd.map(lambda r: [r[0], r[1], r[2], r[3], Vectors.dense(r[4:-1]),float(r[-1])])\\\n",
    "            .toDF(['route cluster', 'performance cluster', 'userid', 'workoutid', 'features', 'label'])\n",
    "\n",
    "#load cluster csv\n",
    "pandas_df = pd.read_csv('/home/ubuntu/dave_.csv')\n",
    "df = sqlContext.createDataFrame(pandas_df)"
   ]
  },
  {
   "cell_type": "code",
   "execution_count": 4,
   "metadata": {
    "collapsed": false,
    "deletable": true,
    "editable": true
   },
   "outputs": [
    {
     "data": {
      "text/plain": [
       "Index([u'Unnamed: 0', u'workoutid', u'route_prediction', u'perf_prediction',\n",
       "       u'userid', u'diff_altitude', u'geo_distance', u'heart_rate_avg',\n",
       "       u'speed_avg', u'elapsed_time', u'user_avg_speed', u'user_avg_dist'],\n",
       "      dtype='object')"
      ]
     },
     "execution_count": 4,
     "metadata": {},
     "output_type": "execute_result"
    },
    {
     "name": "stdout",
     "output_type": "stream",
     "text": [
      "time: 4.39 ms\n"
     ]
    }
   ],
   "source": [
    "pandas_df.columns"
   ]
  },
  {
   "cell_type": "code",
   "execution_count": 5,
   "metadata": {
    "collapsed": false,
    "deletable": true,
    "editable": true
   },
   "outputs": [
    {
     "name": "stdout",
     "output_type": "stream",
     "text": [
      "+----------+---------+----------------+---------------+------+-------------+-------------------+--------------+------------------+------------+------------------+--------------+\n",
      "|Unnamed: 0|workoutid|route_prediction|perf_prediction|userid|diff_altitude|       geo_distance|heart_rate_avg|         speed_avg|elapsed_time|    user_avg_speed| user_avg_dist|\n",
      "+----------+---------+----------------+---------------+------+-------------+-------------------+--------------+------------------+------------+------------------+--------------+\n",
      "|         0|648850318|               1|              0|777141|       1241.0|0.17005605995700002|         151.0|3.4945409297900003|     17012.0|6.5983478171500005|0.197148312681|\n",
      "|         1|466379138|               1|              0|777141|       1195.0|      0.12637206912|         157.0|     5.69710731506|      7304.0|6.5983478171500005|0.197148312681|\n",
      "|         2|638160311|               1|              0|777141|       1208.0|     0.173314318061|         151.0| 5.861344337459999|      9906.0|6.5983478171500005|0.197148312681|\n",
      "|         3|413162801|               1|              0|777141|        622.0|     0.220686927438|         142.0| 8.293762207030001|      9118.0|6.5983478171500005|0.197148312681|\n",
      "|         4|375807698|               1|              0|777141|       1084.0|     0.119585588574|         150.0|     5.47458553314|      7352.0|6.5983478171500005|0.197148312681|\n",
      "+----------+---------+----------------+---------------+------+-------------+-------------------+--------------+------------------+------------+------------------+--------------+\n",
      "only showing top 5 rows\n",
      "\n",
      "time: 1.35 s\n"
     ]
    }
   ],
   "source": [
    "df.show(5)"
   ]
  },
  {
   "cell_type": "code",
   "execution_count": 6,
   "metadata": {
    "collapsed": false,
    "deletable": true,
    "editable": true,
    "scrolled": true
   },
   "outputs": [
    {
     "data": {
      "text/plain": [
       "StructType(List(StructField(Unnamed: 0,LongType,true),StructField(workoutid,LongType,true),StructField(route_prediction,LongType,true),StructField(perf_prediction,LongType,true),StructField(userid,LongType,true),StructField(diff_altitude,DoubleType,true),StructField(geo_distance,DoubleType,true),StructField(heart_rate_avg,DoubleType,true),StructField(speed_avg,DoubleType,true),StructField(elapsed_time,DoubleType,true),StructField(user_avg_speed,DoubleType,true),StructField(user_avg_dist,DoubleType,true)))"
      ]
     },
     "execution_count": 6,
     "metadata": {},
     "output_type": "execute_result"
    },
    {
     "name": "stdout",
     "output_type": "stream",
     "text": [
      "time: 2.51 ms\n"
     ]
    }
   ],
   "source": [
    "df.schema"
   ]
  },
  {
   "cell_type": "code",
   "execution_count": 7,
   "metadata": {
    "collapsed": false,
    "deletable": true,
    "editable": true
   },
   "outputs": [
    {
     "name": "stdout",
     "output_type": "stream",
     "text": [
      "time: 352 ms\n"
     ]
    }
   ],
   "source": [
    "select_columns = ['route_prediction', 'perf_prediction','userid', 'workoutid', 'geo_distance', 'diff_altitude', \\\n",
    "                'speed_avg', 'heart_rate_avg','user_avg_dist', 'user_avg_speed', 'elapsed_time']\n",
    "\n",
    "reg_df = vectorizeData(df.select(select_columns))"
   ]
  },
  {
   "cell_type": "code",
   "execution_count": 8,
   "metadata": {
    "collapsed": false,
    "deletable": true,
    "editable": true
   },
   "outputs": [
    {
     "name": "stdout",
     "output_type": "stream",
     "text": [
      "time: 2.9 s\n"
     ]
    }
   ],
   "source": [
    "route_clusters = reg_df.select('route cluster').distinct().collect()\n",
    "perf_clusters = reg_df.select('performance cluster').distinct().collect()\n",
    "route_cluster_numbers = [int(route_clusters[i][0]) for i in range(len(route_clusters))]\n",
    "perf_cluster_numbers = [int(perf_clusters[i][0]) for i in range(len(perf_clusters))]"
   ]
  },
  {
   "cell_type": "code",
   "execution_count": null,
   "metadata": {
    "collapsed": true
   },
   "outputs": [],
   "source": []
  },
  {
   "cell_type": "code",
   "execution_count": 14,
   "metadata": {
    "collapsed": false,
    "scrolled": true
   },
   "outputs": [
    {
     "name": "stdout",
     "output_type": "stream",
     "text": [
      "Cluster Summaries\n",
      "Route0_Perf0:\n",
      "+-------+------------------+\n",
      "|summary|             label|\n",
      "+-------+------------------+\n",
      "|  count|              9805|\n",
      "|   mean|  3360.91320754717|\n",
      "| stddev|12036.634522262244|\n",
      "|    min|             501.0|\n",
      "|    max|         1108301.0|\n",
      "+-------+------------------+\n",
      "\n",
      "Route1_Perf0:\n",
      "+-------+------------------+\n",
      "|summary|             label|\n",
      "+-------+------------------+\n",
      "|  count|                92|\n",
      "|   mean|11549.630434782608|\n",
      "| stddev| 5243.639149698458|\n",
      "|    min|            2075.0|\n",
      "|    max|           34754.0|\n",
      "+-------+------------------+\n",
      "\n",
      "Route3_Perf0:\n",
      "+-------+------------------+\n",
      "|summary|             label|\n",
      "+-------+------------------+\n",
      "|  count|              2340|\n",
      "|   mean|4041.7226495726495|\n",
      "| stddev|1739.6052218586065|\n",
      "|    min|             613.0|\n",
      "|    max|           42681.0|\n",
      "+-------+------------------+\n",
      "\n",
      "Route2_Perf0:\n",
      "+-------+-----------------+\n",
      "|summary|            label|\n",
      "+-------+-----------------+\n",
      "|  count|              199|\n",
      "|   mean|9337.391959798995|\n",
      "| stddev|3737.281606353416|\n",
      "|    min|            805.0|\n",
      "|    max|          19263.0|\n",
      "+-------+-----------------+\n",
      "\n",
      "Route4_Perf0:\n",
      "+-------+-----------------+\n",
      "|summary|            label|\n",
      "+-------+-----------------+\n",
      "|  count|             1072|\n",
      "|   mean|6702.214552238806|\n",
      "| stddev| 2200.11364205533|\n",
      "|    min|           2451.0|\n",
      "|    max|          36208.0|\n",
      "+-------+-----------------+\n",
      "\n",
      "Route0_Perf1:\n",
      "+-------+------------------+\n",
      "|summary|             label|\n",
      "+-------+------------------+\n",
      "|  count|              1963|\n",
      "|   mean|3550.9256240448294|\n",
      "| stddev| 5795.355550503246|\n",
      "|    min|             504.0|\n",
      "|    max|          242830.0|\n",
      "+-------+------------------+\n",
      "\n",
      "Route1_Perf1:\n",
      "+-------+-----------------+\n",
      "|summary|            label|\n",
      "+-------+-----------------+\n",
      "|  count|                2|\n",
      "|   mean|          17529.5|\n",
      "| stddev|3492.400392280358|\n",
      "|    min|          15060.0|\n",
      "|    max|          19999.0|\n",
      "+-------+-----------------+\n",
      "\n",
      "Route3_Perf1:\n",
      "+-------+-----------------+\n",
      "|summary|            label|\n",
      "+-------+-----------------+\n",
      "|  count|             1819|\n",
      "|   mean|4940.653655854865|\n",
      "| stddev|4311.069472102147|\n",
      "|    min|            506.0|\n",
      "|    max|          95900.0|\n",
      "+-------+-----------------+\n",
      "\n",
      "Route2_Perf1:\n",
      "+-------+-----------------+\n",
      "|summary|            label|\n",
      "+-------+-----------------+\n",
      "|  count|              367|\n",
      "|   mean|4959.400544959128|\n",
      "| stddev|2090.217608432384|\n",
      "|    min|            732.0|\n",
      "|    max|          13239.0|\n",
      "+-------+-----------------+\n",
      "\n",
      "Route4_Perf1:\n",
      "+-------+-----------------+\n",
      "|summary|            label|\n",
      "+-------+-----------------+\n",
      "|  count|             1252|\n",
      "|   mean|10213.05910543131|\n",
      "| stddev|5068.557559376709|\n",
      "|    min|           4130.0|\n",
      "|    max|          41685.0|\n",
      "+-------+-----------------+\n",
      "\n",
      "Route0_Perf2:\n",
      "+-------+------------------+\n",
      "|summary|             label|\n",
      "+-------+------------------+\n",
      "|  count|              4986|\n",
      "|   mean|4063.8646209386284|\n",
      "| stddev|  9248.96072456671|\n",
      "|    min|             512.0|\n",
      "|    max|          434461.0|\n",
      "+-------+------------------+\n",
      "\n",
      "Route1_Perf2:\n",
      "+-------+------------------+\n",
      "|summary|             label|\n",
      "+-------+------------------+\n",
      "|  count|                42|\n",
      "|   mean| 6227.333333333333|\n",
      "| stddev|3540.7253540087418|\n",
      "|    min|            2394.0|\n",
      "|    max|           17789.0|\n",
      "+-------+------------------+\n",
      "\n",
      "Route3_Perf2:\n",
      "+-------+------------------+\n",
      "|summary|             label|\n",
      "+-------+------------------+\n",
      "|  count|               383|\n",
      "|   mean| 4380.375979112271|\n",
      "| stddev|1734.9518724249701|\n",
      "|    min|             597.0|\n",
      "|    max|           15113.0|\n",
      "+-------+------------------+\n",
      "\n",
      "Route2_Perf2:\n",
      "+-------+-----------------+\n",
      "|summary|            label|\n",
      "+-------+-----------------+\n",
      "|  count|               45|\n",
      "|   mean|5821.622222222222|\n",
      "| stddev|2929.588741606831|\n",
      "|    min|           2051.0|\n",
      "|    max|          16042.0|\n",
      "+-------+-----------------+\n",
      "\n",
      "Route4_Perf2:\n",
      "+-------+-----------------+\n",
      "|summary|            label|\n",
      "+-------+-----------------+\n",
      "|  count|              287|\n",
      "|   mean| 8379.97212543554|\n",
      "| stddev|4936.635037728006|\n",
      "|    min|           3760.0|\n",
      "|    max|          46745.0|\n",
      "+-------+-----------------+\n",
      "\n",
      "time: 2.48 s\n"
     ]
    }
   ],
   "source": [
    "print \"Cluster Summaries\"\n",
    "for n in perf_cluster_numbers:\n",
    "    for i in route_cluster_numbers:\n",
    "        temp_df = reg_df[(reg_df['route cluster'] == i) & (reg_df['performance cluster'] == n)]\n",
    "        print 'Route%d_Perf%d:' % (i, n)\n",
    "        temp_df.describe('label').show()"
   ]
  },
  {
   "cell_type": "code",
   "execution_count": 15,
   "metadata": {
    "collapsed": false,
    "deletable": true,
    "editable": true
   },
   "outputs": [
    {
     "name": "stdout",
     "output_type": "stream",
     "text": [
      "time: 24.7 ms\n"
     ]
    }
   ],
   "source": [
    "#model_dictionary\n",
    "model_dict = {}\n",
    "model_dict['lr'] = {'model': LinearRegression(featuresCol=\"features\", labelCol=\"label\"),\\\n",
    "                    'param': \"ParamGridBuilder() \\\n",
    "                    .addGrid(temp_lr.maxIter, [5, 10, 100]) \\\n",
    "                    .addGrid(temp_lr.regParam, [0, 0.1, 0.01]) \\\n",
    "                    .build()\"}\n",
    "\n",
    "model_dict['dt'] = {'model': DecisionTreeRegressor(featuresCol=\"features\", labelCol=\"label\",maxMemoryInMB=1028),\\\n",
    "                    'param': \"ParamGridBuilder() \\\n",
    "                    .addGrid(temp_lr.maxDepth, [3, 5]) \\\n",
    "                    .addGrid(temp_lr.minInfoGain, [0, 0.1, 1]) \\\n",
    "                    .build()\"}\n",
    "\n",
    "model_dict['gbt'] = {'model': GBTRegressor(featuresCol=\"features\", labelCol=\"label\", maxMemoryInMB=2056),\\\n",
    "                    'param': \"ParamGridBuilder() \\\n",
    "                    .addGrid(temp_lr.maxDepth, [3, 5]) \\\n",
    "                    .addGrid(temp_lr.maxIter, [10,20,40]) \\\n",
    "                    .build()\"}\n",
    "\n",
    "model_dict['rfr'] = {'model': RandomForestRegressor(featuresCol=\"features\", labelCol=\"label\", maxMemoryInMB = 2056),\\\n",
    "                    'param': \"ParamGridBuilder() \\\n",
    "                    .addGrid(temp_lr.maxDepth, [3, 5]) \\\n",
    "                    .addGrid(temp_lr.numTrees, [10,20,40]) \\\n",
    "                    .build()\"}"
   ]
  },
  {
   "cell_type": "code",
   "execution_count": null,
   "metadata": {
    "collapsed": false,
    "deletable": true,
    "editable": true
   },
   "outputs": [
    {
     "name": "stdout",
     "output_type": "stream",
     "text": [
      "(Route, Perf, Model): (0, 0, 'rfr'): 9568.41014068\n",
      "RandomForestRegressionModel (uid=rfr_ff9f3c88410b) with 10 trees\n",
      "(Route, Perf, Model): (1, 0, 'rfr'): 1637.62926781\n",
      "RandomForestRegressionModel (uid=rfr_8dffc6767cde) with 40 trees\n",
      "(Route, Perf, Model): (3, 0, 'rfr'): 1165.53119808\n",
      "RandomForestRegressionModel (uid=rfr_b31bf5067dbd) with 20 trees\n",
      "(Route, Perf, Model): (2, 0, 'rfr'): 1282.36900448\n",
      "RandomForestRegressionModel (uid=rfr_9367f7278fdf) with 40 trees\n",
      "(Route, Perf, Model): (4, 0, 'rfr'): 1053.22211969\n",
      "RandomForestRegressionModel (uid=rfr_ae8318994727) with 10 trees\n",
      "(Route, Perf, Model): (0, 1, 'rfr'): 4234.50563267\n",
      "RandomForestRegressionModel (uid=rfr_aeca23bdaee1) with 10 trees\n",
      "Cluster pair dropped: Route1_Perf1_rfr\n",
      "(Route, Perf, Model): (3, 1, 'rfr'): 2978.92605866\n",
      "RandomForestRegressionModel (uid=rfr_3a816a3e03e1) with 20 trees\n",
      "(Route, Perf, Model): (2, 1, 'rfr'): 748.043557009\n",
      "RandomForestRegressionModel (uid=rfr_d4305c16d849) with 10 trees\n",
      "(Route, Perf, Model): (4, 1, 'rfr'): 2200.44256293\n",
      "RandomForestRegressionModel (uid=rfr_ab0a0f95d394) with 10 trees\n",
      "(Route, Perf, Model): (0, 2, 'rfr'): 7155.51885575\n",
      "RandomForestRegressionModel (uid=rfr_d2df810e156b) with 10 trees\n",
      "(Route, Perf, Model): (1, 2, 'rfr'): 749.897178147\n",
      "RandomForestRegressionModel (uid=rfr_83feaeaed511) with 20 trees\n",
      "(Route, Perf, Model): (3, 2, 'rfr'): 771.330839058\n",
      "RandomForestRegressionModel (uid=rfr_6c1099e164d2) with 40 trees\n",
      "(Route, Perf, Model): (2, 2, 'rfr'): 825.621961021\n",
      "RandomForestRegressionModel (uid=rfr_ef84ee7043e2) with 20 trees\n",
      "(Route, Perf, Model): (4, 2, 'rfr'): 1829.46366918\n",
      "RandomForestRegressionModel (uid=rfr_ff3866ffae8f) with 40 trees\n",
      "(Route, Perf, Model): (0, 0, 'dt'): 11410.8141911\n",
      "DecisionTreeRegressionModel (uid=DecisionTreeRegressor_4d66bf62853c5e8efeb8) of depth 3 with 15 nodes\n",
      "(Route, Perf, Model): (1, 0, 'dt'): 888.263564776\n",
      "DecisionTreeRegressionModel (uid=DecisionTreeRegressor_4d66bf62853c5e8efeb8) of depth 5 with 45 nodes\n",
      "(Route, Perf, Model): (3, 0, 'dt'): 1187.47220064\n",
      "DecisionTreeRegressionModel (uid=DecisionTreeRegressor_4d66bf62853c5e8efeb8) of depth 5 with 61 nodes\n",
      "(Route, Perf, Model): (2, 0, 'dt'): 1035.74512237\n",
      "DecisionTreeRegressionModel (uid=DecisionTreeRegressor_4d66bf62853c5e8efeb8) of depth 5 with 57 nodes\n",
      "(Route, Perf, Model): (4, 0, 'dt'): 874.461821699\n",
      "DecisionTreeRegressionModel (uid=DecisionTreeRegressor_4d66bf62853c5e8efeb8) of depth 5 with 55 nodes\n",
      "(Route, Perf, Model): (0, 1, 'dt'): 5331.74903511\n",
      "DecisionTreeRegressionModel (uid=DecisionTreeRegressor_4d66bf62853c5e8efeb8) of depth 5 with 47 nodes\n",
      "Cluster pair dropped: Route1_Perf1_dt\n",
      "(Route, Perf, Model): (3, 1, 'dt'): 2426.6568753\n",
      "DecisionTreeRegressionModel (uid=DecisionTreeRegressor_4d66bf62853c5e8efeb8) of depth 5 with 53 nodes\n",
      "(Route, Perf, Model): (2, 1, 'dt'): 711.077225668\n",
      "DecisionTreeRegressionModel (uid=DecisionTreeRegressor_4d66bf62853c5e8efeb8) of depth 5 with 57 nodes\n",
      "(Route, Perf, Model): (4, 1, 'dt'): 2129.72045815\n",
      "DecisionTreeRegressionModel (uid=DecisionTreeRegressor_4d66bf62853c5e8efeb8) of depth 5 with 57 nodes\n",
      "(Route, Perf, Model): (0, 2, 'dt'): 8811.25065958\n",
      "DecisionTreeRegressionModel (uid=DecisionTreeRegressor_4d66bf62853c5e8efeb8) of depth 3 with 15 nodes\n",
      "(Route, Perf, Model): (1, 2, 'dt'): 285.143959047\n",
      "DecisionTreeRegressionModel (uid=DecisionTreeRegressor_4d66bf62853c5e8efeb8) of depth 5 with 43 nodes\n",
      "(Route, Perf, Model): (3, 2, 'dt'): 663.773720433\n",
      "DecisionTreeRegressionModel (uid=DecisionTreeRegressor_4d66bf62853c5e8efeb8) of depth 5 with 41 nodes\n",
      "(Route, Perf, Model): (2, 2, 'dt'): 401.019779383\n",
      "DecisionTreeRegressionModel (uid=DecisionTreeRegressor_4d66bf62853c5e8efeb8) of depth 5 with 33 nodes\n",
      "(Route, Perf, Model): (4, 2, 'dt'): 1833.37455904\n",
      "DecisionTreeRegressionModel (uid=DecisionTreeRegressor_4d66bf62853c5e8efeb8) of depth 5 with 51 nodes\n",
      "(Route, Perf, Model): (0, 0, 'lr'): 11998.8290955\n",
      "LinearRegression_46f39585e68c4102c9de\n",
      "(Route, Perf, Model): (1, 0, 'lr'): 1804.42044577\n",
      "LinearRegression_46f39585e68c4102c9de\n",
      "(Route, Perf, Model): (3, 0, 'lr'): 1356.02879151\n",
      "LinearRegression_46f39585e68c4102c9de\n",
      "(Route, Perf, Model): (2, 0, 'lr'): 1609.72654098\n",
      "LinearRegression_46f39585e68c4102c9de\n",
      "(Route, Perf, Model): (4, 0, 'lr'): 1277.96798045\n",
      "LinearRegression_46f39585e68c4102c9de\n",
      "(Route, Perf, Model): (0, 1, 'lr'): 5616.18549755\n",
      "LinearRegression_46f39585e68c4102c9de\n",
      "Cluster pair dropped: Route1_Perf1_lr\n",
      "(Route, Perf, Model): (3, 1, 'lr'): 3861.81471837\n",
      "LinearRegression_46f39585e68c4102c9de\n",
      "(Route, Perf, Model): (2, 1, 'lr'): 836.981729603\n",
      "LinearRegression_46f39585e68c4102c9de\n",
      "(Route, Perf, Model): (4, 1, 'lr'): 2539.15209496\n",
      "LinearRegression_46f39585e68c4102c9de\n",
      "(Route, Perf, Model): (0, 2, 'lr'): 9123.80819928\n",
      "LinearRegression_46f39585e68c4102c9de\n",
      "(Route, Perf, Model): (1, 2, 'lr'): 817.77868241\n",
      "LinearRegression_46f39585e68c4102c9de\n",
      "(Route, Perf, Model): (3, 2, 'lr'): 924.036544763\n",
      "LinearRegression_46f39585e68c4102c9de\n",
      "(Route, Perf, Model): (2, 2, 'lr'): 1257.44482627\n",
      "LinearRegression_46f39585e68c4102c9de\n",
      "(Route, Perf, Model): (4, 0, 'gbt'): 370.224010317\n",
      "GBTRegressionModel (uid=GBTRegressor_4a4eb3a19892499a9a4e) with 40 trees\n",
      "(Route, Perf, Model): (0, 1, 'gbt'): 578.467109082\n",
      "GBTRegressionModel (uid=GBTRegressor_4a4eb3a19892499a9a4e) with 40 trees\n",
      "Cluster pair dropped: Route1_Perf1_gbt\n",
      "(Route, Perf, Model): (3, 1, 'gbt'): 678.102724032\n",
      "GBTRegressionModel (uid=GBTRegressor_4a4eb3a19892499a9a4e) with 40 trees\n",
      "(Route, Perf, Model): (2, 1, 'gbt'): 496.722454784\n",
      "GBTRegressionModel (uid=GBTRegressor_4a4eb3a19892499a9a4e) with 40 trees\n",
      "(Route, Perf, Model): (4, 1, 'gbt'): 1671.50922267\n",
      "GBTRegressionModel (uid=GBTRegressor_4a4eb3a19892499a9a4e) with 40 trees\n",
      "(Route, Perf, Model): (0, 2, 'gbt'): 8155.54114986\n",
      "GBTRegressionModel (uid=GBTRegressor_4a4eb3a19892499a9a4e) with 10 trees\n",
      "(Route, Perf, Model): (1, 2, 'gbt'): 49.2684691878\n",
      "GBTRegressionModel (uid=GBTRegressor_4a4eb3a19892499a9a4e) with 10 trees\n",
      "(Route, Perf, Model): (3, 2, 'gbt'): 451.652339903\n",
      "GBTRegressionModel (uid=GBTRegressor_4a4eb3a19892499a9a4e) with 40 trees\n",
      "(Route, Perf, Model): (2, 2, 'gbt'): 128.992041577\n",
      "GBTRegressionModel (uid=GBTRegressor_4a4eb3a19892499a9a4e) with 10 trees\n",
      "(Route, Perf, Model): (4, 2, 'gbt'): 281.87150874\n",
      "GBTRegressionModel (uid=GBTRegressor_4a4eb3a19892499a9a4e) with 40 trees\n",
      "time: 3h 21min 58s\n"
     ]
    }
   ],
   "source": [
    "for m in model_dict.keys():\n",
    "    for n in perf_cluster_numbers:\n",
    "        for i in route_cluster_numbers:\n",
    "            temp_df = reg_df[(reg_df['route cluster'] == i) & (reg_df['performance cluster'] == n)]\n",
    "            #temp_df1 = reg_df[reg_df['route cluster']==i]\n",
    "            #temp_df = temp_df1[reg_df['performance cluster']==n]\n",
    "            temp_df_cv = temp_df\n",
    "\n",
    "            if temp_df.count() < 5:\n",
    "                print \"Cluster pair dropped: Route%d_Perf%d_%s\" % (i,n,m)\n",
    "                pass\n",
    "\n",
    "            else:\n",
    "                temp_lr = model_dict[m]['model']\n",
    "                temp_lrModel = temp_lr.fit(temp_df['label','features'])\n",
    "                temp_df = temp_lrModel.transform(temp_df)\n",
    "\n",
    "                paramGrid = eval(model_dict[m]['param'])\n",
    "                #paramGrid = ParamGridBuilder() \\\n",
    "                #.addGrid(temp_lr.maxDepth, [3, 5]) \\\n",
    "                #.addGrid(temp_lr.numTrees, [10,20,40]) \\\n",
    "                #.build()\n",
    "\n",
    "\n",
    "                evaluator = RegressionEvaluator(\n",
    "                    labelCol=\"label\", predictionCol=\"prediction\", metricName=\"mae\")\n",
    "\n",
    "                crossval = CrossValidator(estimator=temp_lr,\n",
    "                                          estimatorParamMaps=paramGrid,\n",
    "                                          evaluator=evaluator,\n",
    "                                          numFolds=10)  # use 3+ folds in practice\n",
    "\n",
    "                # Run cross-validation, and choose the best set of parameters.\n",
    "                cvModel = crossval.fit(temp_df_cv)\n",
    "\n",
    "                pred = cvModel.transform(temp_df_cv)\n",
    "\n",
    "\n",
    "                #print(\"For \" + str(type(temp_lr)) + \" and cluster \" + str(i))\n",
    "                #print(cvModel.explainParams())\n",
    "\n",
    "                #Print the coefficients and intercept for linear regression\n",
    "                #print(\"Coefficients: \" + str(temp_lrModel.coefficients))\n",
    "                #print(\"Intercept: \" + str(temp_lrModel.intercept))\n",
    "\n",
    "\n",
    "                \n",
    "                mae = evaluator.evaluate(pred)\n",
    "                rmse = evaluator.evaluate(pred,{evaluator.metricName: \"rmse\"})\n",
    "                r2 = evaluator.evaluate(pred, {evaluator.metricName: \"r2\"})\n",
    "\n",
    "                model_dict[m]['Route%d_Perf%d_%s' % (i,n,m)]={}\n",
    "                model_dict[m]['Route%d_Perf%d_%s' % (i,n,m)]['mae'] = mae\n",
    "                model_dict[m]['Route%d_Perf%d_%s' % (i,n,m)]['rmse'] = rmse\n",
    "                model_dict[m]['Route%d_Perf%d_%s' % (i,n,m)]['r2'] = r2\n",
    "                \n",
    "\n",
    "                \n",
    "                print(\"(Route, Perf, Model): \" + str((i,n,m)) +\": \" + str(rmse))\n",
    "                print(cvModel.bestModel)\n",
    "                #print(cvModel.bestModel.weights)\n",
    "                #print(cvModel.bestModel.coefficients)\n",
    "                basePath = \"/home/ubuntu/Regression_3rd_Iteration/Models/\"\n",
    "                cvModel.bestModel.save(basePath +\"Route%d_Perf%d_%s\" % (i,n,m))\n",
    "                \n",
    "                model_dict[m]['Route%d_Perf%d_%s' % (i,n,m)][\"path\"] = basePath +\"Route%d_Perf%d_%s\" % (n,i,m)\n",
    " "
   ]
  },
  {
   "cell_type": "code",
   "execution_count": null,
   "metadata": {
    "collapsed": true,
    "deletable": true,
    "editable": true
   },
   "outputs": [],
   "source": []
  },
  {
   "cell_type": "code",
   "execution_count": 19,
   "metadata": {
    "collapsed": false,
    "deletable": true,
    "editable": true
   },
   "outputs": [
    {
     "data": {
      "text/plain": [
       "{'dt': {'model': DecisionTreeRegressor_426499ec401addfaeb24,\n",
       "  'param': 'ParamGridBuilder()                     .addGrid(temp_lr.maxDepth, [3, 5])                     .addGrid(temp_lr.minInfoGain, [0, 0.1, 1])                     .build()'},\n",
       " 'gbt': {'model': GBTRegressor_42f999530c37f3942c76,\n",
       "  'param': 'ParamGridBuilder()                     .addGrid(temp_lr.maxDepth, [3, 5])                     .addGrid(temp_lr.maxIter, [10,20,40])                     .build()'},\n",
       " 'lr': {'model': LinearRegression_49659c48deb692fb1ee5,\n",
       "  'param': 'ParamGridBuilder()                     .addGrid(temp_lr.maxIter, [5, 10, 100])                     .addGrid(temp_lr.regParam, [0, 0.1, 0.01])                     .build()'},\n",
       " 'rfr': {'Route0_Perf0_rfr': {'mae': 657.809552076408,\n",
       "   'path': '/home/ubuntu/Regression_3rd_Iteration/Models/Route0_Perf0_rfr',\n",
       "   'r2': 0.3680048973549237,\n",
       "   'rmse': 9568.410140684518},\n",
       "  'Route0_Perf1_rfr': {'mae': 1263.0098279317867,\n",
       "   'path': '/home/ubuntu/Regression_3rd_Iteration/Models/Route0_Perf1_rfr',\n",
       "   'r2': 0.9013920288464362,\n",
       "   'rmse': 1637.6292678094776},\n",
       "  'Route0_Perf2_rfr': {'mae': 987.9201999124714,\n",
       "   'path': '/home/ubuntu/Regression_3rd_Iteration/Models/Route0_Perf2_rfr',\n",
       "   'r2': 0.8816679838823246,\n",
       "   'rmse': 1282.3690044848256},\n",
       "  'Route0_Perf3_rfr': {'mae': 544.521284719874,\n",
       "   'path': '/home/ubuntu/Regression_3rd_Iteration/Models/Route0_Perf3_rfr',\n",
       "   'r2': 0.5509113944646755,\n",
       "   'rmse': 1165.5311980837473},\n",
       "  'Route0_Perf4_rfr': {'mae': 657.2045838945978,\n",
       "   'path': '/home/ubuntu/Regression_3rd_Iteration/Models/Route0_Perf4_rfr',\n",
       "   'r2': 0.770620273931538,\n",
       "   'rmse': 1053.222119688404},\n",
       "  'Route1_Perf0_rfr': {'mae': 786.763614260681,\n",
       "   'path': '/home/ubuntu/Regression_3rd_Iteration/Models/Route1_Perf0_rfr',\n",
       "   'r2': 0.4658459133930175,\n",
       "   'rmse': 4234.505632668466},\n",
       "  'model': RandomForestRegressor_4685b2b45726636f7a2f,\n",
       "  'param': 'ParamGridBuilder()                     .addGrid(temp_lr.maxDepth, [3, 5])                     .addGrid(temp_lr.numTrees, [10,20,40])                     .build()'}}"
      ]
     },
     "execution_count": 19,
     "metadata": {},
     "output_type": "execute_result"
    },
    {
     "name": "stdout",
     "output_type": "stream",
     "text": [
      "time: 4.72 ms\n"
     ]
    }
   ],
   "source": [
    "model_dict"
   ]
  },
  {
   "cell_type": "code",
   "execution_count": 35,
   "metadata": {
    "collapsed": false,
    "deletable": true,
    "editable": true
   },
   "outputs": [
    {
     "name": "stdout",
     "output_type": "stream",
     "text": [
      "/home/ubuntu/Regression 2nd Iteration\n",
      "time: 128 ms\n"
     ]
    }
   ],
   "source": [
    "!pwd"
   ]
  },
  {
   "cell_type": "code",
   "execution_count": 37,
   "metadata": {
    "collapsed": false,
    "deletable": true,
    "editable": true
   },
   "outputs": [
    {
     "name": "stdout",
     "output_type": "stream",
     "text": [
      "time: 1.24 ms\n"
     ]
    }
   ],
   "source": [
    "path = basePath+\"Route%d_Perf%d_%s\" % (n,i,m)"
   ]
  },
  {
   "cell_type": "code",
   "execution_count": 48,
   "metadata": {
    "collapsed": false,
    "deletable": true,
    "editable": true
   },
   "outputs": [
    {
     "data": {
      "text/plain": [
       "'/home/ubuntu/Regression\\\\ 2nd\\\\ Iteration/Models/'"
      ]
     },
     "execution_count": 48,
     "metadata": {},
     "output_type": "execute_result"
    },
    {
     "name": "stdout",
     "output_type": "stream",
     "text": [
      "time: 2.36 ms\n"
     ]
    }
   ],
   "source": [
    "basePath"
   ]
  },
  {
   "cell_type": "code",
   "execution_count": 41,
   "metadata": {
    "collapsed": false,
    "deletable": true,
    "editable": true
   },
   "outputs": [
    {
     "data": {
      "text/plain": [
       "'/home/ubuntu/Regression\\\\ 2nd\\\\ Iteration/Models/Route0_Perf0_rfr'"
      ]
     },
     "execution_count": 41,
     "metadata": {},
     "output_type": "execute_result"
    },
    {
     "name": "stdout",
     "output_type": "stream",
     "text": [
      "time: 2.3 ms\n"
     ]
    }
   ],
   "source": [
    "path"
   ]
  },
  {
   "cell_type": "code",
   "execution_count": 36,
   "metadata": {
    "collapsed": false,
    "deletable": true,
    "editable": true
   },
   "outputs": [
    {
     "name": "stdout",
     "output_type": "stream",
     "text": [
      "/bin/sh: 1: Syntax error: \"(\" unexpected\n",
      "time: 125 ms\n"
     ]
    }
   ],
   "source": [
    "!mkdir basePath+\"Route%d_Perf%d_%s\" % (n,i,m)"
   ]
  },
  {
   "cell_type": "code",
   "execution_count": 47,
   "metadata": {
    "collapsed": false,
    "deletable": true,
    "editable": true
   },
   "outputs": [
    {
     "ename": "Py4JJavaError",
     "evalue": "An error occurred while calling o22162.save.\n: java.io.IOException: Path /home/ubuntu/Regression\\ 2nd\\ Iteration/Models/Route0_Perf0_rfr already exists. Please use write.overwrite().save(path) to overwrite it.\n\tat org.apache.spark.ml.util.MLWriter.save(ReadWrite.scala:107)\n\tat sun.reflect.NativeMethodAccessorImpl.invoke0(Native Method)\n\tat sun.reflect.NativeMethodAccessorImpl.invoke(NativeMethodAccessorImpl.java:62)\n\tat sun.reflect.DelegatingMethodAccessorImpl.invoke(DelegatingMethodAccessorImpl.java:43)\n\tat java.lang.reflect.Method.invoke(Method.java:498)\n\tat py4j.reflection.MethodInvoker.invoke(MethodInvoker.java:244)\n\tat py4j.reflection.ReflectionEngine.invoke(ReflectionEngine.java:357)\n\tat py4j.Gateway.invoke(Gateway.java:280)\n\tat py4j.commands.AbstractCommand.invokeMethod(AbstractCommand.java:132)\n\tat py4j.commands.CallCommand.execute(CallCommand.java:79)\n\tat py4j.GatewayConnection.run(GatewayConnection.java:214)\n\tat java.lang.Thread.run(Thread.java:745)\n",
     "output_type": "error",
     "traceback": [
      "\u001b[0;31m---------------------------------------------------------------------------\u001b[0m",
      "\u001b[0;31mPy4JJavaError\u001b[0m                             Traceback (most recent call last)",
      "\u001b[0;32m<ipython-input-47-8375cfd14366>\u001b[0m in \u001b[0;36m<module>\u001b[0;34m()\u001b[0m\n\u001b[1;32m      1\u001b[0m \u001b[0mbasePath\u001b[0m \u001b[0;34m=\u001b[0m \u001b[0;34m\"/home/ubuntu/Regression\\ 2nd\\ Iteration/Models/\"\u001b[0m\u001b[0;34m\u001b[0m\u001b[0m\n\u001b[0;32m----> 2\u001b[0;31m \u001b[0mcvModel\u001b[0m\u001b[0;34m.\u001b[0m\u001b[0mbestModel\u001b[0m\u001b[0;34m.\u001b[0m\u001b[0msave\u001b[0m\u001b[0;34m(\u001b[0m\u001b[0mbasePath\u001b[0m \u001b[0;34m+\u001b[0m\u001b[0;34m\"Route%d_Perf%d_%s\"\u001b[0m \u001b[0;34m%\u001b[0m \u001b[0;34m(\u001b[0m\u001b[0mn\u001b[0m\u001b[0;34m,\u001b[0m\u001b[0mi\u001b[0m\u001b[0;34m,\u001b[0m\u001b[0mm\u001b[0m\u001b[0;34m)\u001b[0m\u001b[0;34m)\u001b[0m\u001b[0;34m\u001b[0m\u001b[0m\n\u001b[0m\u001b[1;32m      3\u001b[0m \u001b[0;34m\u001b[0m\u001b[0m\n",
      "\u001b[0;32m/opt/spark/spark-2.1.0-bin-hadoop2.7/python/pyspark/ml/util.pyc\u001b[0m in \u001b[0;36msave\u001b[0;34m(self, path)\u001b[0m\n\u001b[1;32m    139\u001b[0m     \u001b[0;32mdef\u001b[0m \u001b[0msave\u001b[0m\u001b[0;34m(\u001b[0m\u001b[0mself\u001b[0m\u001b[0;34m,\u001b[0m \u001b[0mpath\u001b[0m\u001b[0;34m)\u001b[0m\u001b[0;34m:\u001b[0m\u001b[0;34m\u001b[0m\u001b[0m\n\u001b[1;32m    140\u001b[0m         \u001b[0;34m\"\"\"Save this ML instance to the given path, a shortcut of `write().save(path)`.\"\"\"\u001b[0m\u001b[0;34m\u001b[0m\u001b[0m\n\u001b[0;32m--> 141\u001b[0;31m         \u001b[0mself\u001b[0m\u001b[0;34m.\u001b[0m\u001b[0mwrite\u001b[0m\u001b[0;34m(\u001b[0m\u001b[0;34m)\u001b[0m\u001b[0;34m.\u001b[0m\u001b[0msave\u001b[0m\u001b[0;34m(\u001b[0m\u001b[0mpath\u001b[0m\u001b[0;34m)\u001b[0m\u001b[0;34m\u001b[0m\u001b[0m\n\u001b[0m\u001b[1;32m    142\u001b[0m \u001b[0;34m\u001b[0m\u001b[0m\n\u001b[1;32m    143\u001b[0m \u001b[0;34m\u001b[0m\u001b[0m\n",
      "\u001b[0;32m/opt/spark/spark-2.1.0-bin-hadoop2.7/python/pyspark/ml/util.pyc\u001b[0m in \u001b[0;36msave\u001b[0;34m(self, path)\u001b[0m\n\u001b[1;32m    103\u001b[0m         \u001b[0;32mif\u001b[0m \u001b[0;32mnot\u001b[0m \u001b[0misinstance\u001b[0m\u001b[0;34m(\u001b[0m\u001b[0mpath\u001b[0m\u001b[0;34m,\u001b[0m \u001b[0mbasestring\u001b[0m\u001b[0;34m)\u001b[0m\u001b[0;34m:\u001b[0m\u001b[0;34m\u001b[0m\u001b[0m\n\u001b[1;32m    104\u001b[0m             \u001b[0;32mraise\u001b[0m \u001b[0mTypeError\u001b[0m\u001b[0;34m(\u001b[0m\u001b[0;34m\"path should be a basestring, got type %s\"\u001b[0m \u001b[0;34m%\u001b[0m \u001b[0mtype\u001b[0m\u001b[0;34m(\u001b[0m\u001b[0mpath\u001b[0m\u001b[0;34m)\u001b[0m\u001b[0;34m)\u001b[0m\u001b[0;34m\u001b[0m\u001b[0m\n\u001b[0;32m--> 105\u001b[0;31m         \u001b[0mself\u001b[0m\u001b[0;34m.\u001b[0m\u001b[0m_jwrite\u001b[0m\u001b[0;34m.\u001b[0m\u001b[0msave\u001b[0m\u001b[0;34m(\u001b[0m\u001b[0mpath\u001b[0m\u001b[0;34m)\u001b[0m\u001b[0;34m\u001b[0m\u001b[0m\n\u001b[0m\u001b[1;32m    106\u001b[0m \u001b[0;34m\u001b[0m\u001b[0m\n\u001b[1;32m    107\u001b[0m     \u001b[0;32mdef\u001b[0m \u001b[0moverwrite\u001b[0m\u001b[0;34m(\u001b[0m\u001b[0mself\u001b[0m\u001b[0;34m)\u001b[0m\u001b[0;34m:\u001b[0m\u001b[0;34m\u001b[0m\u001b[0m\n",
      "\u001b[0;32m/opt/spark/spark-2.1.0-bin-hadoop2.7/python/lib/py4j-0.10.4-src.zip/py4j/java_gateway.py\u001b[0m in \u001b[0;36m__call__\u001b[0;34m(self, *args)\u001b[0m\n\u001b[1;32m   1131\u001b[0m         \u001b[0manswer\u001b[0m \u001b[0;34m=\u001b[0m \u001b[0mself\u001b[0m\u001b[0;34m.\u001b[0m\u001b[0mgateway_client\u001b[0m\u001b[0;34m.\u001b[0m\u001b[0msend_command\u001b[0m\u001b[0;34m(\u001b[0m\u001b[0mcommand\u001b[0m\u001b[0;34m)\u001b[0m\u001b[0;34m\u001b[0m\u001b[0m\n\u001b[1;32m   1132\u001b[0m         return_value = get_return_value(\n\u001b[0;32m-> 1133\u001b[0;31m             answer, self.gateway_client, self.target_id, self.name)\n\u001b[0m\u001b[1;32m   1134\u001b[0m \u001b[0;34m\u001b[0m\u001b[0m\n\u001b[1;32m   1135\u001b[0m         \u001b[0;32mfor\u001b[0m \u001b[0mtemp_arg\u001b[0m \u001b[0;32min\u001b[0m \u001b[0mtemp_args\u001b[0m\u001b[0;34m:\u001b[0m\u001b[0;34m\u001b[0m\u001b[0m\n",
      "\u001b[0;32m/opt/spark/spark-2.1.0-bin-hadoop2.7/python/pyspark/sql/utils.pyc\u001b[0m in \u001b[0;36mdeco\u001b[0;34m(*a, **kw)\u001b[0m\n\u001b[1;32m     61\u001b[0m     \u001b[0;32mdef\u001b[0m \u001b[0mdeco\u001b[0m\u001b[0;34m(\u001b[0m\u001b[0;34m*\u001b[0m\u001b[0ma\u001b[0m\u001b[0;34m,\u001b[0m \u001b[0;34m**\u001b[0m\u001b[0mkw\u001b[0m\u001b[0;34m)\u001b[0m\u001b[0;34m:\u001b[0m\u001b[0;34m\u001b[0m\u001b[0m\n\u001b[1;32m     62\u001b[0m         \u001b[0;32mtry\u001b[0m\u001b[0;34m:\u001b[0m\u001b[0;34m\u001b[0m\u001b[0m\n\u001b[0;32m---> 63\u001b[0;31m             \u001b[0;32mreturn\u001b[0m \u001b[0mf\u001b[0m\u001b[0;34m(\u001b[0m\u001b[0;34m*\u001b[0m\u001b[0ma\u001b[0m\u001b[0;34m,\u001b[0m \u001b[0;34m**\u001b[0m\u001b[0mkw\u001b[0m\u001b[0;34m)\u001b[0m\u001b[0;34m\u001b[0m\u001b[0m\n\u001b[0m\u001b[1;32m     64\u001b[0m         \u001b[0;32mexcept\u001b[0m \u001b[0mpy4j\u001b[0m\u001b[0;34m.\u001b[0m\u001b[0mprotocol\u001b[0m\u001b[0;34m.\u001b[0m\u001b[0mPy4JJavaError\u001b[0m \u001b[0;32mas\u001b[0m \u001b[0me\u001b[0m\u001b[0;34m:\u001b[0m\u001b[0;34m\u001b[0m\u001b[0m\n\u001b[1;32m     65\u001b[0m             \u001b[0ms\u001b[0m \u001b[0;34m=\u001b[0m \u001b[0me\u001b[0m\u001b[0;34m.\u001b[0m\u001b[0mjava_exception\u001b[0m\u001b[0;34m.\u001b[0m\u001b[0mtoString\u001b[0m\u001b[0;34m(\u001b[0m\u001b[0;34m)\u001b[0m\u001b[0;34m\u001b[0m\u001b[0m\n",
      "\u001b[0;32m/opt/spark/spark-2.1.0-bin-hadoop2.7/python/lib/py4j-0.10.4-src.zip/py4j/protocol.py\u001b[0m in \u001b[0;36mget_return_value\u001b[0;34m(answer, gateway_client, target_id, name)\u001b[0m\n\u001b[1;32m    317\u001b[0m                 raise Py4JJavaError(\n\u001b[1;32m    318\u001b[0m                     \u001b[0;34m\"An error occurred while calling {0}{1}{2}.\\n\"\u001b[0m\u001b[0;34m.\u001b[0m\u001b[0;34m\u001b[0m\u001b[0m\n\u001b[0;32m--> 319\u001b[0;31m                     format(target_id, \".\", name), value)\n\u001b[0m\u001b[1;32m    320\u001b[0m             \u001b[0;32melse\u001b[0m\u001b[0;34m:\u001b[0m\u001b[0;34m\u001b[0m\u001b[0m\n\u001b[1;32m    321\u001b[0m                 raise Py4JError(\n",
      "\u001b[0;31mPy4JJavaError\u001b[0m: An error occurred while calling o22162.save.\n: java.io.IOException: Path /home/ubuntu/Regression\\ 2nd\\ Iteration/Models/Route0_Perf0_rfr already exists. Please use write.overwrite().save(path) to overwrite it.\n\tat org.apache.spark.ml.util.MLWriter.save(ReadWrite.scala:107)\n\tat sun.reflect.NativeMethodAccessorImpl.invoke0(Native Method)\n\tat sun.reflect.NativeMethodAccessorImpl.invoke(NativeMethodAccessorImpl.java:62)\n\tat sun.reflect.DelegatingMethodAccessorImpl.invoke(DelegatingMethodAccessorImpl.java:43)\n\tat java.lang.reflect.Method.invoke(Method.java:498)\n\tat py4j.reflection.MethodInvoker.invoke(MethodInvoker.java:244)\n\tat py4j.reflection.ReflectionEngine.invoke(ReflectionEngine.java:357)\n\tat py4j.Gateway.invoke(Gateway.java:280)\n\tat py4j.commands.AbstractCommand.invokeMethod(AbstractCommand.java:132)\n\tat py4j.commands.CallCommand.execute(CallCommand.java:79)\n\tat py4j.GatewayConnection.run(GatewayConnection.java:214)\n\tat java.lang.Thread.run(Thread.java:745)\n"
     ]
    },
    {
     "name": "stdout",
     "output_type": "stream",
     "text": [
      "time: 25.2 ms\n"
     ]
    }
   ],
   "source": [
    "basePath = \"/home/ubuntu/Regression\\ 2nd\\ Iteration/Models/\"\n",
    "cvModel.bestModel.save(basePath +\"Route%d_Perf%d_%s\" % (n,i,m))\n",
    "                "
   ]
  },
  {
   "cell_type": "code",
   "execution_count": null,
   "metadata": {
    "collapsed": true,
    "deletable": true,
    "editable": true
   },
   "outputs": [],
   "source": []
  }
 ],
 "metadata": {
  "kernelspec": {
   "display_name": "Python 2",
   "language": "python",
   "name": "python2"
  },
  "language_info": {
   "codemirror_mode": {
    "name": "ipython",
    "version": 2
   },
   "file_extension": ".py",
   "mimetype": "text/x-python",
   "name": "python",
   "nbconvert_exporter": "python",
   "pygments_lexer": "ipython2",
   "version": "2.7.12"
  }
 },
 "nbformat": 4,
 "nbformat_minor": 2
}
