{
 "cells": [
  {
   "cell_type": "code",
   "execution_count": 1,
   "metadata": {
    "collapsed": false,
    "deletable": true,
    "editable": true
   },
   "outputs": [],
   "source": [
    "import pandas as pd\n",
    "import numpy as np\n",
    "import sys\n",
    "#import sources.endomondolib as endo\n",
    "#import sources.pysparkconvenience as ps\n",
    "from numpy import array\n",
    "from math import sqrt\n",
    "from pyspark.sql.functions import *\n",
    "from pyspark.mllib.clustering import KMeans, KMeansModel\n",
    "from pyspark.sql import DataFrameReader\n",
    "from pyspark.sql import SQLContext\n",
    "from IPython.display import display, HTML\n",
    "from pyspark.sql.functions import col, mean, min, max\n",
    "from pyspark.ml.linalg import Vectors\n",
    "from pyspark.ml import Pipeline\n",
    "from pyspark.ml.regression import LinearRegression, DecisionTreeRegressor, GBTRegressor, RandomForestRegressor\n",
    "from pyspark.ml.regression import LinearRegressionModel, DecisionTreeRegressionModel, GBTRegressionModel, RandomForestRegressionModel\n",
    "from pyspark.ml.feature import StringIndexer, VectorIndexer\n",
    "from pyspark.ml.classification import DecisionTreeClassifier\n",
    "from pyspark.ml.tuning import CrossValidator, ParamGridBuilder\n",
    "from pyspark.ml.evaluation import MulticlassClassificationEvaluator, RegressionEvaluator\n",
    "\n",
    "from pyspark.ml.feature import VectorAssembler\n",
    "\n",
    "# Disable warnings, set Matplotlib inline plotting and load Pandas package\n",
    "import warnings\n",
    "warnings.filterwarnings('ignore')\n",
    "\n",
    "%matplotlib inline\n",
    "pd.options.display.mpl_style = 'default'\n",
    "\n",
    "%load_ext autotime"
   ]
  },
  {
   "cell_type": "code",
   "execution_count": 2,
   "metadata": {
    "collapsed": false,
    "deletable": true,
    "editable": true
   },
   "outputs": [
    {
     "name": "stdout",
     "output_type": "stream",
     "text": [
      "time: 2.37 ms\n"
     ]
    }
   ],
   "source": [
    "def vectorizeData(data):\n",
    "        return data.rdd.map(lambda r: [r[0], r[1], r[2], r[3], Vectors.dense(r[4:-1]),float(r[-1])])\\\n",
    "            .toDF(['route cluster', 'performance cluster', 'userid', 'workoutid', 'features', 'label'])"
   ]
  },
  {
   "cell_type": "code",
   "execution_count": 3,
   "metadata": {
    "collapsed": false,
    "deletable": true,
    "editable": true
   },
   "outputs": [
    {
     "name": "stdout",
     "output_type": "stream",
     "text": [
      "time: 3.94 ms\n"
     ]
    }
   ],
   "source": [
    "#sc = SQLContext()\n",
    "#create pyspark dataframe from csv\n",
    "def df_from_csv(csv_file):\n",
    "    text = sc.textFile(csv_file)\\\n",
    "       .map(lambda line: line.split(','))\n",
    "   #didn’t work with take(1). believe returns\n",
    "   #different object then first()\n",
    "    schema = text.first()\n",
    "    data = text.filter(lambda x: x != schema)\n",
    "    df = sqlContext.createDataFrame(data, schema)\n",
    "    return df"
   ]
  },
  {
   "cell_type": "code",
   "execution_count": 4,
   "metadata": {
    "collapsed": false,
    "deletable": true,
    "editable": true
   },
   "outputs": [
    {
     "name": "stdout",
     "output_type": "stream",
     "text": [
      "autotime.py\t\t   pats_run_results.csv\n",
      "autotime.pyc\t\t   Regression Results Analysis.ipynb\n",
      "derby.log\t\t   Regression with Model Saving.ipynb\n",
      "fit_model_df.csv\t   results_df.csv\n",
      "fit_model_evaluations.csv  rmse.html\n",
      "Models\t\t\t   Stacking_Models\n",
      "Pat_Prediction.ipynb\t   Stacking Playground.ipynb\n",
      "pats_run.csv\t\t   test_save\n",
      "Pats_run_prediction.csv\n",
      "time: 110 ms\n"
     ]
    }
   ],
   "source": [
    "!ls"
   ]
  },
  {
   "cell_type": "code",
   "execution_count": 5,
   "metadata": {
    "collapsed": false,
    "deletable": true,
    "editable": true
   },
   "outputs": [
    {
     "name": "stdout",
     "output_type": "stream",
     "text": [
      "time: 1.57 s\n"
     ]
    }
   ],
   "source": [
    "pats_run_df = pd.read_csv('pats_run.csv')\n",
    "df = sqlContext.createDataFrame(pats_run_df)"
   ]
  },
  {
   "cell_type": "code",
   "execution_count": 6,
   "metadata": {
    "collapsed": false,
    "deletable": true,
    "editable": true,
    "scrolled": true
   },
   "outputs": [
    {
     "name": "stdout",
     "output_type": "stream",
     "text": [
      "+----------+---------+----------------+---------------+------+-------------+--------------+--------------+-----------+------------+------------------+-------------------+\n",
      "|Unnamed: 0|workoutid|route_prediction|perf_prediction|userid|diff_altitude|  geo_distance|heart_rate_avg|  speed_avg|elapsed_time|    user_avg_speed|      user_avg_dist|\n",
      "+----------+---------+----------------+---------------+------+-------------+--------------+--------------+-----------+------------+------------------+-------------------+\n",
      "|         0|871971752|               0|              2|212295|         16.3|0.161706242812|             0|11.96088883|     4844.59|10.025832880518179|0.14012889348074767|\n",
      "+----------+---------+----------------+---------------+------+-------------+--------------+--------------+-----------+------------+------------------+-------------------+\n",
      "\n",
      "time: 2.29 s\n"
     ]
    }
   ],
   "source": [
    "df.show(5)"
   ]
  },
  {
   "cell_type": "code",
   "execution_count": 7,
   "metadata": {
    "collapsed": false,
    "deletable": true,
    "editable": true
   },
   "outputs": [
    {
     "name": "stdout",
     "output_type": "stream",
     "text": [
      "time: 658 ms\n"
     ]
    }
   ],
   "source": [
    "select_columns = ['route_prediction', 'perf_prediction','userid', 'workoutid', 'geo_distance', 'diff_altitude', \\\n",
    "                'user_avg_dist', 'user_avg_speed', 'elapsed_time']\n",
    "\n",
    "df_for_pred = vectorizeData(df.select(select_columns))"
   ]
  },
  {
   "cell_type": "code",
   "execution_count": 8,
   "metadata": {
    "collapsed": false,
    "deletable": true,
    "editable": true
   },
   "outputs": [
    {
     "name": "stdout",
     "output_type": "stream",
     "text": [
      "time: 3.59 ms\n"
     ]
    }
   ],
   "source": [
    "fit_model_df = pd.DataFrame.from_csv('fit_model_evaluations.csv')"
   ]
  },
  {
   "cell_type": "code",
   "execution_count": 9,
   "metadata": {
    "collapsed": false,
    "deletable": true,
    "editable": true
   },
   "outputs": [
    {
     "data": {
      "text/html": [
       "<div>\n",
       "<table border=\"1\" class=\"dataframe\">\n",
       "  <thead>\n",
       "    <tr style=\"text-align: right;\">\n",
       "      <th></th>\n",
       "      <th>route cluster</th>\n",
       "      <th>performance cluster</th>\n",
       "      <th>index</th>\n",
       "      <th>path</th>\n",
       "      <th>mae</th>\n",
       "      <th>r2</th>\n",
       "      <th>rmse</th>\n",
       "      <th>cluster mean</th>\n",
       "      <th>cluster standard deviation</th>\n",
       "      <th>std - rmse</th>\n",
       "      <th>std - mae</th>\n",
       "      <th>% drop of std - rmse vs mean</th>\n",
       "      <th>% drop of std - mae vs mean</th>\n",
       "      <th>% std</th>\n",
       "      <th>% rmse</th>\n",
       "      <th>% mae</th>\n",
       "      <th>model type</th>\n",
       "    </tr>\n",
       "  </thead>\n",
       "  <tbody>\n",
       "    <tr>\n",
       "      <th>5</th>\n",
       "      <td>0</td>\n",
       "      <td>1</td>\n",
       "      <td>Route0_Perf1_gbt</td>\n",
       "      <td>/home/ubuntu/Regression_5th_Iteration/Route0_P...</td>\n",
       "      <td>432.063304</td>\n",
       "      <td>0.598188</td>\n",
       "      <td>592.279257</td>\n",
       "      <td>3675.835313</td>\n",
       "      <td>934.374180</td>\n",
       "      <td>342.094923</td>\n",
       "      <td>502.310876</td>\n",
       "      <td>0.093066</td>\n",
       "      <td>0.136652</td>\n",
       "      <td>0.254194</td>\n",
       "      <td>0.161128</td>\n",
       "      <td>0.117542</td>\n",
       "      <td>gbt</td>\n",
       "    </tr>\n",
       "    <tr>\n",
       "      <th>1</th>\n",
       "      <td>0</td>\n",
       "      <td>0</td>\n",
       "      <td>Route0_Perf0_gbt</td>\n",
       "      <td>/home/ubuntu/Regression_5th_Iteration/Route0_P...</td>\n",
       "      <td>431.621336</td>\n",
       "      <td>0.556981</td>\n",
       "      <td>591.385644</td>\n",
       "      <td>3555.609900</td>\n",
       "      <td>888.516473</td>\n",
       "      <td>297.130829</td>\n",
       "      <td>456.895137</td>\n",
       "      <td>0.083567</td>\n",
       "      <td>0.128500</td>\n",
       "      <td>0.249891</td>\n",
       "      <td>0.166325</td>\n",
       "      <td>0.121392</td>\n",
       "      <td>gbt</td>\n",
       "    </tr>\n",
       "    <tr>\n",
       "      <th>9</th>\n",
       "      <td>0</td>\n",
       "      <td>2</td>\n",
       "      <td>Route0_Perf2_gbt</td>\n",
       "      <td>/home/ubuntu/Regression_5th_Iteration/Route0_P...</td>\n",
       "      <td>453.266263</td>\n",
       "      <td>0.595519</td>\n",
       "      <td>630.684104</td>\n",
       "      <td>3760.843542</td>\n",
       "      <td>991.693316</td>\n",
       "      <td>361.009211</td>\n",
       "      <td>538.427053</td>\n",
       "      <td>0.095992</td>\n",
       "      <td>0.143167</td>\n",
       "      <td>0.263689</td>\n",
       "      <td>0.167698</td>\n",
       "      <td>0.120522</td>\n",
       "      <td>gbt</td>\n",
       "    </tr>\n",
       "    <tr>\n",
       "      <th>3</th>\n",
       "      <td>0</td>\n",
       "      <td>0</td>\n",
       "      <td>Route0_Perf0_rfr</td>\n",
       "      <td>/home/ubuntu/Regression_5th_Iteration/Route0_P...</td>\n",
       "      <td>526.111130</td>\n",
       "      <td>0.392530</td>\n",
       "      <td>692.503826</td>\n",
       "      <td>3555.609900</td>\n",
       "      <td>888.516473</td>\n",
       "      <td>196.012647</td>\n",
       "      <td>362.405343</td>\n",
       "      <td>0.055128</td>\n",
       "      <td>0.101925</td>\n",
       "      <td>0.249891</td>\n",
       "      <td>0.194764</td>\n",
       "      <td>0.147966</td>\n",
       "      <td>rfr</td>\n",
       "    </tr>\n",
       "    <tr>\n",
       "      <th>7</th>\n",
       "      <td>0</td>\n",
       "      <td>1</td>\n",
       "      <td>Route0_Perf1_rfr</td>\n",
       "      <td>/home/ubuntu/Regression_5th_Iteration/Route0_P...</td>\n",
       "      <td>546.291741</td>\n",
       "      <td>0.410981</td>\n",
       "      <td>717.100507</td>\n",
       "      <td>3675.835313</td>\n",
       "      <td>934.374180</td>\n",
       "      <td>217.273672</td>\n",
       "      <td>388.082439</td>\n",
       "      <td>0.059109</td>\n",
       "      <td>0.105577</td>\n",
       "      <td>0.254194</td>\n",
       "      <td>0.195085</td>\n",
       "      <td>0.148617</td>\n",
       "      <td>rfr</td>\n",
       "    </tr>\n",
       "    <tr>\n",
       "      <th>4</th>\n",
       "      <td>0</td>\n",
       "      <td>1</td>\n",
       "      <td>Route0_Perf1_dt</td>\n",
       "      <td>/home/ubuntu/Regression_5th_Iteration/Route0_P...</td>\n",
       "      <td>545.740507</td>\n",
       "      <td>0.407843</td>\n",
       "      <td>719.008217</td>\n",
       "      <td>3675.835313</td>\n",
       "      <td>934.374180</td>\n",
       "      <td>215.365963</td>\n",
       "      <td>388.633672</td>\n",
       "      <td>0.058590</td>\n",
       "      <td>0.105727</td>\n",
       "      <td>0.254194</td>\n",
       "      <td>0.195604</td>\n",
       "      <td>0.148467</td>\n",
       "      <td>dt</td>\n",
       "    </tr>\n",
       "    <tr>\n",
       "      <th>0</th>\n",
       "      <td>0</td>\n",
       "      <td>0</td>\n",
       "      <td>Route0_Perf0_dt</td>\n",
       "      <td>/home/ubuntu/Regression_5th_Iteration/Route0_P...</td>\n",
       "      <td>529.494504</td>\n",
       "      <td>0.384126</td>\n",
       "      <td>697.277770</td>\n",
       "      <td>3555.609900</td>\n",
       "      <td>888.516473</td>\n",
       "      <td>191.238703</td>\n",
       "      <td>359.021969</td>\n",
       "      <td>0.053785</td>\n",
       "      <td>0.100973</td>\n",
       "      <td>0.249891</td>\n",
       "      <td>0.196106</td>\n",
       "      <td>0.148918</td>\n",
       "      <td>dt</td>\n",
       "    </tr>\n",
       "    <tr>\n",
       "      <th>2</th>\n",
       "      <td>0</td>\n",
       "      <td>0</td>\n",
       "      <td>Route0_Perf0_lr</td>\n",
       "      <td>/home/ubuntu/Regression_5th_Iteration/Route0_P...</td>\n",
       "      <td>544.488171</td>\n",
       "      <td>0.354878</td>\n",
       "      <td>713.642488</td>\n",
       "      <td>3555.609900</td>\n",
       "      <td>888.516473</td>\n",
       "      <td>174.873985</td>\n",
       "      <td>344.028302</td>\n",
       "      <td>0.049183</td>\n",
       "      <td>0.096756</td>\n",
       "      <td>0.249891</td>\n",
       "      <td>0.200709</td>\n",
       "      <td>0.153135</td>\n",
       "      <td>lr</td>\n",
       "    </tr>\n",
       "    <tr>\n",
       "      <th>6</th>\n",
       "      <td>0</td>\n",
       "      <td>1</td>\n",
       "      <td>Route0_Perf1_lr</td>\n",
       "      <td>/home/ubuntu/Regression_5th_Iteration/Route0_P...</td>\n",
       "      <td>566.879338</td>\n",
       "      <td>0.372516</td>\n",
       "      <td>740.144526</td>\n",
       "      <td>3675.835313</td>\n",
       "      <td>934.374180</td>\n",
       "      <td>194.229653</td>\n",
       "      <td>367.494841</td>\n",
       "      <td>0.052840</td>\n",
       "      <td>0.099976</td>\n",
       "      <td>0.254194</td>\n",
       "      <td>0.201354</td>\n",
       "      <td>0.154218</td>\n",
       "      <td>lr</td>\n",
       "    </tr>\n",
       "    <tr>\n",
       "      <th>11</th>\n",
       "      <td>0</td>\n",
       "      <td>2</td>\n",
       "      <td>Route0_Perf2_rfr</td>\n",
       "      <td>/home/ubuntu/Regression_5th_Iteration/Route0_P...</td>\n",
       "      <td>576.398601</td>\n",
       "      <td>0.403789</td>\n",
       "      <td>765.707938</td>\n",
       "      <td>3760.843542</td>\n",
       "      <td>991.693316</td>\n",
       "      <td>225.985378</td>\n",
       "      <td>415.294715</td>\n",
       "      <td>0.060089</td>\n",
       "      <td>0.110426</td>\n",
       "      <td>0.263689</td>\n",
       "      <td>0.203600</td>\n",
       "      <td>0.153263</td>\n",
       "      <td>rfr</td>\n",
       "    </tr>\n",
       "    <tr>\n",
       "      <th>8</th>\n",
       "      <td>0</td>\n",
       "      <td>2</td>\n",
       "      <td>Route0_Perf2_dt</td>\n",
       "      <td>/home/ubuntu/Regression_5th_Iteration/Route0_P...</td>\n",
       "      <td>580.078532</td>\n",
       "      <td>0.387892</td>\n",
       "      <td>775.848934</td>\n",
       "      <td>3760.843542</td>\n",
       "      <td>991.693316</td>\n",
       "      <td>215.844382</td>\n",
       "      <td>411.614784</td>\n",
       "      <td>0.057393</td>\n",
       "      <td>0.109447</td>\n",
       "      <td>0.263689</td>\n",
       "      <td>0.206297</td>\n",
       "      <td>0.154242</td>\n",
       "      <td>dt</td>\n",
       "    </tr>\n",
       "    <tr>\n",
       "      <th>10</th>\n",
       "      <td>0</td>\n",
       "      <td>2</td>\n",
       "      <td>Route0_Perf2_lr</td>\n",
       "      <td>/home/ubuntu/Regression_5th_Iteration/Route0_P...</td>\n",
       "      <td>611.246608</td>\n",
       "      <td>0.343029</td>\n",
       "      <td>803.778046</td>\n",
       "      <td>3760.843542</td>\n",
       "      <td>991.693316</td>\n",
       "      <td>187.915270</td>\n",
       "      <td>380.446707</td>\n",
       "      <td>0.049966</td>\n",
       "      <td>0.101160</td>\n",
       "      <td>0.263689</td>\n",
       "      <td>0.213723</td>\n",
       "      <td>0.162529</td>\n",
       "      <td>lr</td>\n",
       "    </tr>\n",
       "  </tbody>\n",
       "</table>\n",
       "</div>"
      ],
      "text/plain": [
       "    route cluster  performance cluster             index  \\\n",
       "5               0                    1  Route0_Perf1_gbt   \n",
       "1               0                    0  Route0_Perf0_gbt   \n",
       "9               0                    2  Route0_Perf2_gbt   \n",
       "3               0                    0  Route0_Perf0_rfr   \n",
       "7               0                    1  Route0_Perf1_rfr   \n",
       "4               0                    1   Route0_Perf1_dt   \n",
       "0               0                    0   Route0_Perf0_dt   \n",
       "2               0                    0   Route0_Perf0_lr   \n",
       "6               0                    1   Route0_Perf1_lr   \n",
       "11              0                    2  Route0_Perf2_rfr   \n",
       "8               0                    2   Route0_Perf2_dt   \n",
       "10              0                    2   Route0_Perf2_lr   \n",
       "\n",
       "                                                 path         mae        r2  \\\n",
       "5   /home/ubuntu/Regression_5th_Iteration/Route0_P...  432.063304  0.598188   \n",
       "1   /home/ubuntu/Regression_5th_Iteration/Route0_P...  431.621336  0.556981   \n",
       "9   /home/ubuntu/Regression_5th_Iteration/Route0_P...  453.266263  0.595519   \n",
       "3   /home/ubuntu/Regression_5th_Iteration/Route0_P...  526.111130  0.392530   \n",
       "7   /home/ubuntu/Regression_5th_Iteration/Route0_P...  546.291741  0.410981   \n",
       "4   /home/ubuntu/Regression_5th_Iteration/Route0_P...  545.740507  0.407843   \n",
       "0   /home/ubuntu/Regression_5th_Iteration/Route0_P...  529.494504  0.384126   \n",
       "2   /home/ubuntu/Regression_5th_Iteration/Route0_P...  544.488171  0.354878   \n",
       "6   /home/ubuntu/Regression_5th_Iteration/Route0_P...  566.879338  0.372516   \n",
       "11  /home/ubuntu/Regression_5th_Iteration/Route0_P...  576.398601  0.403789   \n",
       "8   /home/ubuntu/Regression_5th_Iteration/Route0_P...  580.078532  0.387892   \n",
       "10  /home/ubuntu/Regression_5th_Iteration/Route0_P...  611.246608  0.343029   \n",
       "\n",
       "          rmse  cluster mean  cluster standard deviation  std - rmse  \\\n",
       "5   592.279257   3675.835313                  934.374180  342.094923   \n",
       "1   591.385644   3555.609900                  888.516473  297.130829   \n",
       "9   630.684104   3760.843542                  991.693316  361.009211   \n",
       "3   692.503826   3555.609900                  888.516473  196.012647   \n",
       "7   717.100507   3675.835313                  934.374180  217.273672   \n",
       "4   719.008217   3675.835313                  934.374180  215.365963   \n",
       "0   697.277770   3555.609900                  888.516473  191.238703   \n",
       "2   713.642488   3555.609900                  888.516473  174.873985   \n",
       "6   740.144526   3675.835313                  934.374180  194.229653   \n",
       "11  765.707938   3760.843542                  991.693316  225.985378   \n",
       "8   775.848934   3760.843542                  991.693316  215.844382   \n",
       "10  803.778046   3760.843542                  991.693316  187.915270   \n",
       "\n",
       "     std - mae  % drop of std - rmse vs mean  % drop of std - mae vs mean  \\\n",
       "5   502.310876                      0.093066                     0.136652   \n",
       "1   456.895137                      0.083567                     0.128500   \n",
       "9   538.427053                      0.095992                     0.143167   \n",
       "3   362.405343                      0.055128                     0.101925   \n",
       "7   388.082439                      0.059109                     0.105577   \n",
       "4   388.633672                      0.058590                     0.105727   \n",
       "0   359.021969                      0.053785                     0.100973   \n",
       "2   344.028302                      0.049183                     0.096756   \n",
       "6   367.494841                      0.052840                     0.099976   \n",
       "11  415.294715                      0.060089                     0.110426   \n",
       "8   411.614784                      0.057393                     0.109447   \n",
       "10  380.446707                      0.049966                     0.101160   \n",
       "\n",
       "       % std    % rmse     % mae model type  \n",
       "5   0.254194  0.161128  0.117542        gbt  \n",
       "1   0.249891  0.166325  0.121392        gbt  \n",
       "9   0.263689  0.167698  0.120522        gbt  \n",
       "3   0.249891  0.194764  0.147966        rfr  \n",
       "7   0.254194  0.195085  0.148617        rfr  \n",
       "4   0.254194  0.195604  0.148467         dt  \n",
       "0   0.249891  0.196106  0.148918         dt  \n",
       "2   0.249891  0.200709  0.153135         lr  \n",
       "6   0.254194  0.201354  0.154218         lr  \n",
       "11  0.263689  0.203600  0.153263        rfr  \n",
       "8   0.263689  0.206297  0.154242         dt  \n",
       "10  0.263689  0.213723  0.162529         lr  "
      ]
     },
     "execution_count": 9,
     "metadata": {},
     "output_type": "execute_result"
    },
    {
     "name": "stdout",
     "output_type": "stream",
     "text": [
      "time: 34.2 ms\n"
     ]
    }
   ],
   "source": [
    "fit_model_df[fit_model_df['route cluster'] == 0]"
   ]
  },
  {
   "cell_type": "code",
   "execution_count": 13,
   "metadata": {
    "collapsed": false,
    "deletable": true,
    "editable": true
   },
   "outputs": [
    {
     "name": "stdout",
     "output_type": "stream",
     "text": [
      "time: 28.7 s\n"
     ]
    }
   ],
   "source": [
    "#load cluster csv\n",
    "pandas_df = pd.read_csv('/home/ubuntu/endo_sample_6_2_1.csv')\n",
    "df = sqlContext.createDataFrame(pandas_df)\n",
    "\n",
    "select_columns = ['route_prediction', 'perf_prediction','userid', 'workoutid', 'geo_distance', 'diff_altitude', \\\n",
    "                'user_avg_dist', 'user_avg_speed', 'elapsed_time']\n",
    "\n",
    "reg_df = vectorizeData(df.select(select_columns))\n",
    "\n",
    "route = 0\n",
    "perf = 2\n",
    "\n",
    "#model_dictionary\n",
    "model_dict = {}\n",
    "model_dict['lr'] = {'model': LinearRegression(featuresCol=\"features\", labelCol=\"label\"),\\\n",
    "                    'param': \"ParamGridBuilder() \\\n",
    "                    .addGrid(temp_lr.maxIter, [5, 10]) \\\n",
    "                    .addGrid(temp_lr.regParam, [0, 0.1, 1,10]) \\\n",
    "                    .addGrid(temp_lr.elasticNetParam, [0,0.5,1]) \\\n",
    "                    .build()\"}\n",
    "\n",
    "model_dict['dt'] = {'model': DecisionTreeRegressor(featuresCol=\"features\", labelCol=\"label\",maxMemoryInMB=1028),\\\n",
    "                    'param': \"ParamGridBuilder() \\\n",
    "                    .addGrid(temp_lr.maxDepth, [3, 5]) \\\n",
    "                    .addGrid(temp_lr.minInfoGain, [0, 0.1, 1]) \\\n",
    "                    .build()\"}\n",
    "\n",
    "model_dict['gbt'] = {'model': GBTRegressor(featuresCol=\"features\", labelCol=\"label\", maxMemoryInMB=2056),\\\n",
    "                    'param': \"ParamGridBuilder() \\\n",
    "                    .addGrid(temp_lr.maxDepth, [3, 5]) \\\n",
    "                    .addGrid(temp_lr.maxIter, [10,20,40]) \\\n",
    "                    .build()\"}\n",
    "\n",
    "model_dict['rfr'] = {'model': RandomForestRegressor(featuresCol=\"features\", labelCol=\"label\", maxMemoryInMB = 2056),\\\n",
    "                    'param': \"ParamGridBuilder() \\\n",
    "                    .addGrid(temp_lr.maxDepth, [3, 5]) \\\n",
    "                    .addGrid(temp_lr.numTrees, [10,20,40]) \\\n",
    "                    .build()\"}"
   ]
  },
  {
   "cell_type": "code",
   "execution_count": 14,
   "metadata": {
    "collapsed": false,
    "deletable": true,
    "editable": true
   },
   "outputs": [
    {
     "name": "stdout",
     "output_type": "stream",
     "text": [
      "time: 3.6 s\n"
     ]
    }
   ],
   "source": [
    "route_clusters = reg_df.select('route cluster').distinct().collect()\n",
    "perf_clusters = reg_df.select('performance cluster').distinct().collect()\n",
    "route_cluster_numbers = [int(route_clusters[i][0]) for i in range(len(route_clusters))]\n",
    "perf_cluster_numbers = [int(perf_clusters[i][0]) for i in range(len(perf_clusters))]"
   ]
  },
  {
   "cell_type": "code",
   "execution_count": 15,
   "metadata": {
    "collapsed": false,
    "deletable": true,
    "editable": true
   },
   "outputs": [
    {
     "data": {
      "text/plain": [
       "['rfr', 'dt', 'lr', 'gbt']"
      ]
     },
     "execution_count": 15,
     "metadata": {},
     "output_type": "execute_result"
    },
    {
     "name": "stdout",
     "output_type": "stream",
     "text": [
      "time: 2.36 ms\n"
     ]
    }
   ],
   "source": [
    "model_dict.keys()"
   ]
  },
  {
   "cell_type": "code",
   "execution_count": 16,
   "metadata": {
    "collapsed": false,
    "deletable": true,
    "editable": true
   },
   "outputs": [
    {
     "name": "stdout",
     "output_type": "stream",
     "text": [
      "time: 2.99 ms\n"
     ]
    }
   ],
   "source": [
    "predictions = {}"
   ]
  },
  {
   "cell_type": "code",
   "execution_count": null,
   "metadata": {
    "collapsed": false,
    "deletable": true,
    "editable": true
   },
   "outputs": [
    {
     "data": {
      "text/plain": [
       "DataFrame[features: vector]"
      ]
     },
     "execution_count": 17,
     "metadata": {},
     "output_type": "execute_result"
    },
    {
     "name": "stdout",
     "output_type": "stream",
     "text": [
      "time: 61.1 ms\n"
     ]
    }
   ],
   "source": [
    "reg_df[(reg_df['route cluster'] == route) & (reg_df['performance cluster'] == 0)].select('features')"
   ]
  },
  {
   "cell_type": "code",
   "execution_count": null,
   "metadata": {
    "collapsed": false,
    "deletable": true,
    "editable": true
   },
   "outputs": [
    {
     "name": "stdout",
     "output_type": "stream",
     "text": [
      "RandomForestRegressionModel (uid=rfr_07c822e8ea05) with 10 trees\n",
      "4337.07587444\n",
      "RandomForestRegressionModel (uid=rfr_afb0deeb6536) with 20 trees\n",
      "4157.74448082\n",
      "RandomForestRegressionModel (uid=rfr_0c7f4ec839cc) with 20 trees\n",
      "4307.5369603\n",
      "DecisionTreeRegressionModel (uid=DecisionTreeRegressor_4c9e928060a523d500bd) of depth 5 with 63 nodes\n",
      "4354.36585366\n"
     ]
    }
   ],
   "source": [
    "for m in model_dict.keys():\n",
    "    for n in perf_cluster_numbers:\n",
    "        temp_df = reg_df[(reg_df['route cluster'] == route) & (reg_df['performance cluster'] == n)]\n",
    "        #temp_df1 = reg_df[reg_df['route cluster']==i]\n",
    "        #temp_df = temp_df1[reg_df['performance cluster']==n]\n",
    "        temp_df_cv = temp_df\n",
    "\n",
    "\n",
    "        temp_lr = model_dict[m]['model']\n",
    "        #temp_lrModel = temp_lr.fit(temp_df['label','features'])\n",
    "        #temp_df = temp_lrModel.transform(temp_df)\n",
    "\n",
    "        paramGrid = eval(model_dict[m]['param'])\n",
    "        #paramGrid = ParamGridBuilder() \\\n",
    "        #.addGrid(temp_lr.maxDepth, [3, 5]) \\\n",
    "        #.addGrid(temp_lr.numTrees, [10,20,40]) \\\n",
    "        #.build()\n",
    "\n",
    "\n",
    "        evaluator = RegressionEvaluator(\n",
    "            labelCol=\"label\", predictionCol=\"prediction\", metricName=\"mae\")\n",
    "\n",
    "        crossval = CrossValidator(estimator=temp_lr,\n",
    "                                  estimatorParamMaps=paramGrid,\n",
    "                                  evaluator=evaluator,\n",
    "                                  numFolds=10)  \n",
    "\n",
    "        # Run cross-validation, and choose the best set of parameters.\n",
    "        cvModel = crossval.fit(temp_df_cv)\n",
    "\n",
    "        pred = cvModel.transform(df_for_pred)\n",
    "        predictions['Route%d_Perf%d_%s' % (route,n,m)] = pred.collect()[0]['prediction']\n",
    "        \n",
    "        print(cvModel.bestModel)\n",
    "        print(pred.collect()[0]['prediction'])\n",
    "        #print(cvModel.bestModel.weights)\n",
    "        #print(cvModel.bestModel.coefficients)\n",
    "        #basePath = \"/nfs/Regression_5th_Iteration/Models/\"\n",
    "        #cvModel.bestModel.save(basePath +\"Route%d_Perf%d_%s\" % (route,n,m))\n"
   ]
  },
  {
   "cell_type": "code",
   "execution_count": 24,
   "metadata": {
    "collapsed": false,
    "deletable": true,
    "editable": true
   },
   "outputs": [
    {
     "data": {
      "text/plain": [
       "DenseVector([0.1617, 16.3, 0.1401, 10.0258])"
      ]
     },
     "execution_count": 24,
     "metadata": {},
     "output_type": "execute_result"
    },
    {
     "name": "stdout",
     "output_type": "stream",
     "text": [
      "time: 190 ms\n"
     ]
    }
   ],
   "source": [
    "df_for_pred.collect()[0]['features']"
   ]
  },
  {
   "cell_type": "code",
   "execution_count": 25,
   "metadata": {
    "collapsed": false,
    "deletable": true,
    "editable": true,
    "scrolled": true
   },
   "outputs": [
    {
     "data": {
      "text/plain": [
       "{'Route0_Perf0_dt': 4354.365853658536,\n",
       " 'Route0_Perf0_gbt': 4209.290215692983,\n",
       " 'Route0_Perf0_lr': 3980.1753294565538,\n",
       " 'Route0_Perf0_rfr': 4337.075874436801,\n",
       " 'Route0_Perf1_dt': 4362.796153846154,\n",
       " 'Route0_Perf1_gbt': 4235.363481009007,\n",
       " 'Route0_Perf1_lr': 3889.3321480597847,\n",
       " 'Route0_Perf1_rfr': 4157.744480819445,\n",
       " 'Route0_Perf2_dt': 4264.911016949152,\n",
       " 'Route0_Perf2_gbt': 4287.823380825726,\n",
       " 'Route0_Perf2_lr': 4219.455707819292,\n",
       " 'Route0_Perf2_rfr': 4307.536960304069}"
      ]
     },
     "execution_count": 25,
     "metadata": {},
     "output_type": "execute_result"
    },
    {
     "name": "stdout",
     "output_type": "stream",
     "text": [
      "time: 3.01 ms\n"
     ]
    }
   ],
   "source": [
    "predictions"
   ]
  },
  {
   "cell_type": "code",
   "execution_count": 26,
   "metadata": {
    "collapsed": false,
    "deletable": true,
    "editable": true
   },
   "outputs": [
    {
     "name": "stdout",
     "output_type": "stream",
     "text": [
      "time: 1.41 ms\n"
     ]
    }
   ],
   "source": [
    "pandas_pred = pd.DataFrame.from_dict(predictions, orient = 'index')"
   ]
  },
  {
   "cell_type": "code",
   "execution_count": 51,
   "metadata": {
    "collapsed": false,
    "deletable": true,
    "editable": true
   },
   "outputs": [
    {
     "data": {
      "text/plain": [
       "0     4354.365854\n",
       "1     4264.911017\n",
       "2     4287.823381\n",
       "3     4362.796154\n",
       "4     4219.455708\n",
       "5     3889.332148\n",
       "6     4235.363481\n",
       "7     4307.536960\n",
       "8     4337.075874\n",
       "9     4209.290216\n",
       "10    4157.744481\n",
       "11    3980.175329\n",
       "Name: 0, dtype: float64"
      ]
     },
     "execution_count": 51,
     "metadata": {},
     "output_type": "execute_result"
    },
    {
     "name": "stdout",
     "output_type": "stream",
     "text": [
      "time: 4.54 ms\n"
     ]
    }
   ],
   "source": [
    "pandas_pred.reset_index()[0]"
   ]
  },
  {
   "cell_type": "code",
   "execution_count": null,
   "metadata": {
    "collapsed": false,
    "deletable": true,
    "editable": true
   },
   "outputs": [],
   "source": [
    "pandas_pred.to_csv('pats_run_results.csv')"
   ]
  },
  {
   "cell_type": "code",
   "execution_count": 52,
   "metadata": {
    "collapsed": false,
    "deletable": true,
    "editable": true
   },
   "outputs": [
    {
     "data": {
      "text/html": [
       "<div>\n",
       "<table border=\"1\" class=\"dataframe\">\n",
       "  <thead>\n",
       "    <tr style=\"text-align: right;\">\n",
       "      <th></th>\n",
       "      <th>route</th>\n",
       "      <th>perf</th>\n",
       "      <th>model_type</th>\n",
       "      <th>prediction</th>\n",
       "    </tr>\n",
       "  </thead>\n",
       "  <tbody>\n",
       "    <tr>\n",
       "      <th>0</th>\n",
       "      <td>0</td>\n",
       "      <td>0</td>\n",
       "      <td>dt</td>\n",
       "      <td>4354.365854</td>\n",
       "    </tr>\n",
       "    <tr>\n",
       "      <th>1</th>\n",
       "      <td>0</td>\n",
       "      <td>2</td>\n",
       "      <td>dt</td>\n",
       "      <td>4264.911017</td>\n",
       "    </tr>\n",
       "    <tr>\n",
       "      <th>2</th>\n",
       "      <td>0</td>\n",
       "      <td>2</td>\n",
       "      <td>gbt</td>\n",
       "      <td>4287.823381</td>\n",
       "    </tr>\n",
       "    <tr>\n",
       "      <th>3</th>\n",
       "      <td>0</td>\n",
       "      <td>1</td>\n",
       "      <td>dt</td>\n",
       "      <td>4362.796154</td>\n",
       "    </tr>\n",
       "    <tr>\n",
       "      <th>4</th>\n",
       "      <td>0</td>\n",
       "      <td>2</td>\n",
       "      <td>lr</td>\n",
       "      <td>4219.455708</td>\n",
       "    </tr>\n",
       "    <tr>\n",
       "      <th>5</th>\n",
       "      <td>0</td>\n",
       "      <td>1</td>\n",
       "      <td>lr</td>\n",
       "      <td>3889.332148</td>\n",
       "    </tr>\n",
       "    <tr>\n",
       "      <th>6</th>\n",
       "      <td>0</td>\n",
       "      <td>1</td>\n",
       "      <td>gbt</td>\n",
       "      <td>4235.363481</td>\n",
       "    </tr>\n",
       "    <tr>\n",
       "      <th>7</th>\n",
       "      <td>0</td>\n",
       "      <td>2</td>\n",
       "      <td>rfr</td>\n",
       "      <td>4307.536960</td>\n",
       "    </tr>\n",
       "    <tr>\n",
       "      <th>8</th>\n",
       "      <td>0</td>\n",
       "      <td>0</td>\n",
       "      <td>rfr</td>\n",
       "      <td>4337.075874</td>\n",
       "    </tr>\n",
       "    <tr>\n",
       "      <th>9</th>\n",
       "      <td>0</td>\n",
       "      <td>0</td>\n",
       "      <td>gbt</td>\n",
       "      <td>4209.290216</td>\n",
       "    </tr>\n",
       "    <tr>\n",
       "      <th>10</th>\n",
       "      <td>0</td>\n",
       "      <td>1</td>\n",
       "      <td>rfr</td>\n",
       "      <td>4157.744481</td>\n",
       "    </tr>\n",
       "    <tr>\n",
       "      <th>11</th>\n",
       "      <td>0</td>\n",
       "      <td>0</td>\n",
       "      <td>lr</td>\n",
       "      <td>3980.175329</td>\n",
       "    </tr>\n",
       "  </tbody>\n",
       "</table>\n",
       "</div>"
      ],
      "text/plain": [
       "   route perf model_type   prediction\n",
       "0      0    0         dt  4354.365854\n",
       "1      0    2         dt  4264.911017\n",
       "2      0    2        gbt  4287.823381\n",
       "3      0    1         dt  4362.796154\n",
       "4      0    2         lr  4219.455708\n",
       "5      0    1         lr  3889.332148\n",
       "6      0    1        gbt  4235.363481\n",
       "7      0    2        rfr  4307.536960\n",
       "8      0    0        rfr  4337.075874\n",
       "9      0    0        gbt  4209.290216\n",
       "10     0    1        rfr  4157.744481\n",
       "11     0    0         lr  3980.175329"
      ]
     },
     "execution_count": 52,
     "metadata": {},
     "output_type": "execute_result"
    },
    {
     "name": "stdout",
     "output_type": "stream",
     "text": [
      "time: 19.7 ms\n"
     ]
    }
   ],
   "source": [
    "pandas_pred2 = pd.DataFrame()\n",
    "pandas_pred2['route'] = pandas_pred.reset_index()['index'].str[5]\n",
    "pandas_pred2['perf'] = pandas_pred.reset_index()['index'].str[11]\n",
    "pandas_pred2['model_type'] = pandas_pred.reset_index()['index'].str[13:]\n",
    "pandas_pred2['prediction'] = pandas_pred.reset_index()[0]\n",
    "pandas_pred2"
   ]
  },
  {
   "cell_type": "code",
   "execution_count": 55,
   "metadata": {
    "collapsed": false,
    "deletable": true,
    "editable": true
   },
   "outputs": [
    {
     "data": {
      "text/html": [
       "<div>\n",
       "<table border=\"1\" class=\"dataframe\">\n",
       "  <thead>\n",
       "    <tr style=\"text-align: right;\">\n",
       "      <th>model_type</th>\n",
       "      <th>route</th>\n",
       "      <th>perf</th>\n",
       "      <th>dt</th>\n",
       "      <th>gbt</th>\n",
       "      <th>lr</th>\n",
       "      <th>rfr</th>\n",
       "    </tr>\n",
       "  </thead>\n",
       "  <tbody>\n",
       "    <tr>\n",
       "      <th>0</th>\n",
       "      <td>0</td>\n",
       "      <td>0</td>\n",
       "      <td>4354.365854</td>\n",
       "      <td>4209.290216</td>\n",
       "      <td>3980.175329</td>\n",
       "      <td>4337.075874</td>\n",
       "    </tr>\n",
       "    <tr>\n",
       "      <th>1</th>\n",
       "      <td>0</td>\n",
       "      <td>1</td>\n",
       "      <td>4362.796154</td>\n",
       "      <td>4235.363481</td>\n",
       "      <td>3889.332148</td>\n",
       "      <td>4157.744481</td>\n",
       "    </tr>\n",
       "    <tr>\n",
       "      <th>2</th>\n",
       "      <td>0</td>\n",
       "      <td>2</td>\n",
       "      <td>4264.911017</td>\n",
       "      <td>4287.823381</td>\n",
       "      <td>4219.455708</td>\n",
       "      <td>4307.536960</td>\n",
       "    </tr>\n",
       "  </tbody>\n",
       "</table>\n",
       "</div>"
      ],
      "text/plain": [
       "model_type route perf           dt          gbt           lr          rfr\n",
       "0              0    0  4354.365854  4209.290216  3980.175329  4337.075874\n",
       "1              0    1  4362.796154  4235.363481  3889.332148  4157.744481\n",
       "2              0    2  4264.911017  4287.823381  4219.455708  4307.536960"
      ]
     },
     "execution_count": 55,
     "metadata": {},
     "output_type": "execute_result"
    },
    {
     "name": "stdout",
     "output_type": "stream",
     "text": [
      "time: 17.2 ms\n"
     ]
    }
   ],
   "source": [
    "pandas_pred3 = pd.pivot_table(pandas_pred2, values = 'prediction', index = ['route', 'perf'], columns = 'model_type').reset_index()\n",
    "pandas_pred3\n"
   ]
  },
  {
   "cell_type": "code",
   "execution_count": 57,
   "metadata": {
    "collapsed": false,
    "deletable": true,
    "editable": true
   },
   "outputs": [
    {
     "data": {
      "text/html": [
       "<div>\n",
       "<table border=\"1\" class=\"dataframe\">\n",
       "  <thead>\n",
       "    <tr style=\"text-align: right;\">\n",
       "      <th>model_type</th>\n",
       "      <th>route</th>\n",
       "      <th>perf</th>\n",
       "      <th>dt</th>\n",
       "      <th>gbt</th>\n",
       "      <th>lr</th>\n",
       "      <th>rfr</th>\n",
       "      <th>label</th>\n",
       "    </tr>\n",
       "  </thead>\n",
       "  <tbody>\n",
       "    <tr>\n",
       "      <th>0</th>\n",
       "      <td>0</td>\n",
       "      <td>0</td>\n",
       "      <td>4354.365854</td>\n",
       "      <td>4209.290216</td>\n",
       "      <td>3980.175329</td>\n",
       "      <td>4337.075874</td>\n",
       "      <td>4844.59</td>\n",
       "    </tr>\n",
       "    <tr>\n",
       "      <th>1</th>\n",
       "      <td>0</td>\n",
       "      <td>1</td>\n",
       "      <td>4362.796154</td>\n",
       "      <td>4235.363481</td>\n",
       "      <td>3889.332148</td>\n",
       "      <td>4157.744481</td>\n",
       "      <td>4844.59</td>\n",
       "    </tr>\n",
       "    <tr>\n",
       "      <th>2</th>\n",
       "      <td>0</td>\n",
       "      <td>2</td>\n",
       "      <td>4264.911017</td>\n",
       "      <td>4287.823381</td>\n",
       "      <td>4219.455708</td>\n",
       "      <td>4307.536960</td>\n",
       "      <td>4844.59</td>\n",
       "    </tr>\n",
       "  </tbody>\n",
       "</table>\n",
       "</div>"
      ],
      "text/plain": [
       "model_type route perf           dt          gbt           lr          rfr  \\\n",
       "0              0    0  4354.365854  4209.290216  3980.175329  4337.075874   \n",
       "1              0    1  4362.796154  4235.363481  3889.332148  4157.744481   \n",
       "2              0    2  4264.911017  4287.823381  4219.455708  4307.536960   \n",
       "\n",
       "model_type    label  \n",
       "0           4844.59  \n",
       "1           4844.59  \n",
       "2           4844.59  "
      ]
     },
     "execution_count": 57,
     "metadata": {},
     "output_type": "execute_result"
    },
    {
     "name": "stdout",
     "output_type": "stream",
     "text": [
      "time: 203 ms\n"
     ]
    }
   ],
   "source": [
    "pandas_pred3['label'] = df_for_pred.collect()[0]['label']\n",
    "pandas_pred3"
   ]
  },
  {
   "cell_type": "code",
   "execution_count": 58,
   "metadata": {
    "collapsed": false,
    "deletable": true,
    "editable": true,
    "scrolled": true
   },
   "outputs": [
    {
     "name": "stdout",
     "output_type": "stream",
     "text": [
      "time: 1.87 ms\n"
     ]
    }
   ],
   "source": [
    "pandas_pred3.to_csv('pats_run_results3.csv')"
   ]
  },
  {
   "cell_type": "code",
   "execution_count": 2,
   "metadata": {
    "collapsed": false,
    "deletable": true,
    "editable": true
   },
   "outputs": [
    {
     "name": "stdout",
     "output_type": "stream",
     "text": [
      "time: 4.59 ms\n"
     ]
    }
   ],
   "source": [
    "pandas_pred3 = pd.DataFrame.from_csv('pats_run_results3.csv')"
   ]
  },
  {
   "cell_type": "code",
   "execution_count": 3,
   "metadata": {
    "collapsed": false,
    "deletable": true,
    "editable": true
   },
   "outputs": [
    {
     "name": "stdout",
     "output_type": "stream",
     "text": [
      "+-----+----+--------------------+-------+\n",
      "|route|perf|            features|  label|\n",
      "+-----+----+--------------------+-------+\n",
      "|    0|   0|[4354.36585366,42...|4844.59|\n",
      "|    0|   1|[4362.79615385,42...|4844.59|\n",
      "|    0|   2|[4264.91101695,42...|4844.59|\n",
      "+-----+----+--------------------+-------+\n",
      "\n",
      "time: 9.51 s\n"
     ]
    }
   ],
   "source": [
    "stacking_model = LinearRegressionModel.load('/nfs/Regression_5th_Iteration/Stacking_Models/lr stack/')\n",
    "new_df = sqlContext.createDataFrame(pandas_pred3)\n",
    "\n",
    "def vectorize_for_stacking(data):\n",
    "    return data.rdd.map(lambda r: [r[0], r[1],Vectors.dense(r[2:-1]),float(r[-1])])\\\n",
    "            .toDF(['route', 'perf', 'features', 'label'])\n",
    "\n",
    "stacking_df = vectorize_for_stacking(new_df)\n",
    "stacking_df.show()"
   ]
  },
  {
   "cell_type": "code",
   "execution_count": 4,
   "metadata": {
    "collapsed": false,
    "deletable": true,
    "editable": true
   },
   "outputs": [
    {
     "data": {
      "text/plain": [
       "Row(route=0, perf=0, features=DenseVector([4354.3659, 4209.2902, 3980.1753, 4337.0759]), label=4844.59)"
      ]
     },
     "execution_count": 4,
     "metadata": {},
     "output_type": "execute_result"
    },
    {
     "name": "stdout",
     "output_type": "stream",
     "text": [
      "time: 210 ms\n"
     ]
    }
   ],
   "source": [
    "stacking_df.collect()[0]"
   ]
  },
  {
   "cell_type": "code",
   "execution_count": 5,
   "metadata": {
    "collapsed": false,
    "deletable": true,
    "editable": true
   },
   "outputs": [
    {
     "name": "stdout",
     "output_type": "stream",
     "text": [
      "+-----+----+--------------------+-------+------------------+\n",
      "|route|perf|            features|  label|        prediction|\n",
      "+-----+----+--------------------+-------+------------------+\n",
      "|    0|   0|[4354.36585366,42...|4844.59|3820.4278529432804|\n",
      "|    0|   1|[4362.79615385,42...|4844.59|3777.2885825445655|\n",
      "|    0|   2|[4264.91101695,42...|4844.59| 4179.765046042364|\n",
      "+-----+----+--------------------+-------+------------------+\n",
      "\n",
      "time: 923 ms\n"
     ]
    }
   ],
   "source": [
    "stacking_df = stacking_model.transform(stacking_df)\n",
    "stacking_df.show()"
   ]
  },
  {
   "cell_type": "code",
   "execution_count": 6,
   "metadata": {
    "collapsed": false,
    "deletable": true,
    "editable": true
   },
   "outputs": [
    {
     "data": {
      "text/html": [
       "<div>\n",
       "<table border=\"1\" class=\"dataframe\">\n",
       "  <thead>\n",
       "    <tr style=\"text-align: right;\">\n",
       "      <th></th>\n",
       "      <th>route</th>\n",
       "      <th>perf</th>\n",
       "      <th>features</th>\n",
       "      <th>label</th>\n",
       "      <th>prediction</th>\n",
       "      <th>% error</th>\n",
       "      <th>abs error</th>\n",
       "    </tr>\n",
       "  </thead>\n",
       "  <tbody>\n",
       "    <tr>\n",
       "      <th>0</th>\n",
       "      <td>0</td>\n",
       "      <td>0</td>\n",
       "      <td>[4354.36585366, 4209.29021569, 3980.17532946, ...</td>\n",
       "      <td>4844.59</td>\n",
       "      <td>3820.427853</td>\n",
       "      <td>0.211403</td>\n",
       "      <td>1024.162147</td>\n",
       "    </tr>\n",
       "    <tr>\n",
       "      <th>1</th>\n",
       "      <td>0</td>\n",
       "      <td>1</td>\n",
       "      <td>[4362.79615385, 4235.36348101, 3889.33214806, ...</td>\n",
       "      <td>4844.59</td>\n",
       "      <td>3777.288583</td>\n",
       "      <td>0.220308</td>\n",
       "      <td>1067.301417</td>\n",
       "    </tr>\n",
       "    <tr>\n",
       "      <th>2</th>\n",
       "      <td>0</td>\n",
       "      <td>2</td>\n",
       "      <td>[4264.91101695, 4287.82338083, 4219.45570782, ...</td>\n",
       "      <td>4844.59</td>\n",
       "      <td>4179.765046</td>\n",
       "      <td>0.137230</td>\n",
       "      <td>664.824954</td>\n",
       "    </tr>\n",
       "  </tbody>\n",
       "</table>\n",
       "</div>"
      ],
      "text/plain": [
       "   route  perf                                           features    label  \\\n",
       "0      0     0  [4354.36585366, 4209.29021569, 3980.17532946, ...  4844.59   \n",
       "1      0     1  [4362.79615385, 4235.36348101, 3889.33214806, ...  4844.59   \n",
       "2      0     2  [4264.91101695, 4287.82338083, 4219.45570782, ...  4844.59   \n",
       "\n",
       "    prediction   % error    abs error  \n",
       "0  3820.427853  0.211403  1024.162147  \n",
       "1  3777.288583  0.220308  1067.301417  \n",
       "2  4179.765046  0.137230   664.824954  "
      ]
     },
     "execution_count": 6,
     "metadata": {},
     "output_type": "execute_result"
    },
    {
     "name": "stdout",
     "output_type": "stream",
     "text": [
      "time: 183 ms\n"
     ]
    }
   ],
   "source": [
    "stacking_pd_df = stacking_df.toPandas()\n",
    "stacking_pd_df['% error'] = (stacking_pd_df['label'] - stacking_pd_df['prediction'])/stacking_pd_df['label']\n",
    "stacking_pd_df['abs error'] = (stacking_pd_df['label'] - stacking_pd_df['prediction'])\n",
    "stacking_pd_df.head()"
   ]
  },
  {
   "cell_type": "code",
   "execution_count": 16,
   "metadata": {
    "collapsed": false,
    "deletable": true,
    "editable": true
   },
   "outputs": [
    {
     "name": "stdout",
     "output_type": "stream",
     "text": [
      "time: 1.39 ms\n"
     ]
    }
   ],
   "source": [
    "stacking_pd_df.columns = ['Route Cluster', 'Performance Cluster', 'Features', 'Actual Value', 'Predicted Value', '% Error', 'Absolute Error']"
   ]
  },
  {
   "cell_type": "code",
   "execution_count": 17,
   "metadata": {
    "collapsed": false
   },
   "outputs": [
    {
     "data": {
      "text/html": [
       "<div>\n",
       "<table border=\"1\" class=\"dataframe\">\n",
       "  <thead>\n",
       "    <tr style=\"text-align: right;\">\n",
       "      <th></th>\n",
       "      <th>Route Cluster</th>\n",
       "      <th>Performance Cluster</th>\n",
       "      <th>Features</th>\n",
       "      <th>Actual Value</th>\n",
       "      <th>Predicted Value</th>\n",
       "      <th>% Error</th>\n",
       "      <th>Absolute Error</th>\n",
       "    </tr>\n",
       "  </thead>\n",
       "  <tbody>\n",
       "    <tr>\n",
       "      <th>0</th>\n",
       "      <td>0</td>\n",
       "      <td>0</td>\n",
       "      <td>[4354.36585366, 4209.29021569, 3980.17532946, ...</td>\n",
       "      <td>4844.59</td>\n",
       "      <td>3820.427853</td>\n",
       "      <td>0.211403</td>\n",
       "      <td>1024.162147</td>\n",
       "    </tr>\n",
       "    <tr>\n",
       "      <th>1</th>\n",
       "      <td>0</td>\n",
       "      <td>1</td>\n",
       "      <td>[4362.79615385, 4235.36348101, 3889.33214806, ...</td>\n",
       "      <td>4844.59</td>\n",
       "      <td>3777.288583</td>\n",
       "      <td>0.220308</td>\n",
       "      <td>1067.301417</td>\n",
       "    </tr>\n",
       "    <tr>\n",
       "      <th>2</th>\n",
       "      <td>0</td>\n",
       "      <td>2</td>\n",
       "      <td>[4264.91101695, 4287.82338083, 4219.45570782, ...</td>\n",
       "      <td>4844.59</td>\n",
       "      <td>4179.765046</td>\n",
       "      <td>0.137230</td>\n",
       "      <td>664.824954</td>\n",
       "    </tr>\n",
       "  </tbody>\n",
       "</table>\n",
       "</div>"
      ],
      "text/plain": [
       "   Route Cluster  Performance Cluster  \\\n",
       "0              0                    0   \n",
       "1              0                    1   \n",
       "2              0                    2   \n",
       "\n",
       "                                            Features  Actual Value  \\\n",
       "0  [4354.36585366, 4209.29021569, 3980.17532946, ...       4844.59   \n",
       "1  [4362.79615385, 4235.36348101, 3889.33214806, ...       4844.59   \n",
       "2  [4264.91101695, 4287.82338083, 4219.45570782, ...       4844.59   \n",
       "\n",
       "   Predicted Value   % Error  Absolute Error  \n",
       "0      3820.427853  0.211403     1024.162147  \n",
       "1      3777.288583  0.220308     1067.301417  \n",
       "2      4179.765046  0.137230      664.824954  "
      ]
     },
     "execution_count": 17,
     "metadata": {},
     "output_type": "execute_result"
    },
    {
     "name": "stdout",
     "output_type": "stream",
     "text": [
      "time: 13.6 ms\n"
     ]
    }
   ],
   "source": [
    "stacking_pd_df"
   ]
  },
  {
   "cell_type": "code",
   "execution_count": 19,
   "metadata": {
    "collapsed": false,
    "deletable": true,
    "editable": true,
    "scrolled": true
   },
   "outputs": [
    {
     "data": {
      "text/html": [
       "<div>\n",
       "<table border=\"1\" class=\"dataframe\">\n",
       "  <thead>\n",
       "    <tr style=\"text-align: right;\">\n",
       "      <th></th>\n",
       "      <th></th>\n",
       "      <th>Actual Value</th>\n",
       "      <th>Predicted Value</th>\n",
       "      <th>% Error</th>\n",
       "      <th>Absolute Error</th>\n",
       "    </tr>\n",
       "    <tr>\n",
       "      <th>Route Cluster</th>\n",
       "      <th>Performance Cluster</th>\n",
       "      <th></th>\n",
       "      <th></th>\n",
       "      <th></th>\n",
       "      <th></th>\n",
       "    </tr>\n",
       "  </thead>\n",
       "  <tbody>\n",
       "    <tr>\n",
       "      <th rowspan=\"3\" valign=\"top\">0</th>\n",
       "      <th>0</th>\n",
       "      <td>4844.59</td>\n",
       "      <td>3820.427853</td>\n",
       "      <td>0.211403</td>\n",
       "      <td>1024.162147</td>\n",
       "    </tr>\n",
       "    <tr>\n",
       "      <th>1</th>\n",
       "      <td>4844.59</td>\n",
       "      <td>3777.288583</td>\n",
       "      <td>0.220308</td>\n",
       "      <td>1067.301417</td>\n",
       "    </tr>\n",
       "    <tr>\n",
       "      <th>2</th>\n",
       "      <td>4844.59</td>\n",
       "      <td>4179.765046</td>\n",
       "      <td>0.137230</td>\n",
       "      <td>664.824954</td>\n",
       "    </tr>\n",
       "  </tbody>\n",
       "</table>\n",
       "</div>"
      ],
      "text/plain": [
       "                                   Actual Value  Predicted Value   % Error  \\\n",
       "Route Cluster Performance Cluster                                            \n",
       "0             0                         4844.59      3820.427853  0.211403   \n",
       "              1                         4844.59      3777.288583  0.220308   \n",
       "              2                         4844.59      4179.765046  0.137230   \n",
       "\n",
       "                                   Absolute Error  \n",
       "Route Cluster Performance Cluster                  \n",
       "0             0                       1024.162147  \n",
       "              1                       1067.301417  \n",
       "              2                        664.824954  "
      ]
     },
     "execution_count": 19,
     "metadata": {},
     "output_type": "execute_result"
    },
    {
     "name": "stdout",
     "output_type": "stream",
     "text": [
      "time: 14.7 ms\n"
     ]
    }
   ],
   "source": [
    "stacking_pd_df[['Route Cluster', 'Performance Cluster', 'Actual Value', 'Predicted Value', '% Error', 'Absolute Error']].set_index(['Route Cluster', 'Performance Cluster'])"
   ]
  },
  {
   "cell_type": "code",
   "execution_count": 9,
   "metadata": {
    "collapsed": false,
    "deletable": true,
    "editable": true
   },
   "outputs": [
    {
     "name": "stdout",
     "output_type": "stream",
     "text": [
      "time: 1.71 ms\n"
     ]
    }
   ],
   "source": [
    "stacking_pd_df.to_csv('run_predictions_for_publication.csv')"
   ]
  },
  {
   "cell_type": "code",
   "execution_count": null,
   "metadata": {
    "collapsed": true,
    "deletable": true,
    "editable": true
   },
   "outputs": [],
   "source": [
    "stacking_pd_df.from_csv('run_predictions_for_publication.csv')"
   ]
  }
 ],
 "metadata": {
  "kernelspec": {
   "display_name": "Python 2",
   "language": "python",
   "name": "python2"
  },
  "language_info": {
   "codemirror_mode": {
    "name": "ipython",
    "version": 2
   },
   "file_extension": ".py",
   "mimetype": "text/x-python",
   "name": "python",
   "nbconvert_exporter": "python",
   "pygments_lexer": "ipython2",
   "version": "2.7.12"
  }
 },
 "nbformat": 4,
 "nbformat_minor": 2
}
