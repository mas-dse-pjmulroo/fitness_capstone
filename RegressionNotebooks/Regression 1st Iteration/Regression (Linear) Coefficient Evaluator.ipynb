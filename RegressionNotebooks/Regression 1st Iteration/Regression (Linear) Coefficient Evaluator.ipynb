{
 "cells": [
  {
   "cell_type": "code",
   "execution_count": 1,
   "metadata": {
    "collapsed": true
   },
   "outputs": [],
   "source": [
    "import pandas as pd\n",
    "import numpy as np\n",
    "import sys\n",
    "#import sources.endomondolib as endo\n",
    "#import sources.pysparkconvenience as ps\n",
    "from numpy import array\n",
    "from math import sqrt\n",
    "from pyspark.sql.functions import *\n",
    "from pyspark.mllib.clustering import KMeans, KMeansModel\n",
    "from pyspark.sql import DataFrameReader\n",
    "from pyspark.sql import SQLContext\n",
    "from IPython.display import display, HTML\n",
    "from pyspark.sql.functions import col, mean, min, max\n",
    "from pyspark.ml.linalg import Vectors\n",
    "from pyspark.ml import Pipeline\n",
    "from pyspark.ml.regression import LinearRegression, DecisionTreeRegressor, GBTRegressor, RandomForestRegressor\n",
    "from pyspark.ml.feature import StringIndexer, VectorIndexer\n",
    "from pyspark.ml.classification import DecisionTreeClassifier\n",
    "from pyspark.ml.tuning import CrossValidator, ParamGridBuilder\n",
    "from pyspark.ml.evaluation import MulticlassClassificationEvaluator, RegressionEvaluator\n",
    "\n",
    "from pyspark.ml.feature import VectorAssembler\n",
    "\n",
    "# Disable warnings, set Matplotlib inline plotting and load Pandas package\n",
    "import warnings\n",
    "warnings.filterwarnings('ignore')\n",
    "\n",
    "%matplotlib inline\n",
    "pd.options.display.mpl_style = 'default'\n",
    "\n",
    "%load_ext autotime"
   ]
  },
  {
   "cell_type": "code",
   "execution_count": 9,
   "metadata": {
    "collapsed": false
   },
   "outputs": [
    {
     "name": "stdout",
     "output_type": "stream",
     "text": [
      "time: 605 ms\n"
     ]
    }
   ],
   "source": [
    "#sc = SQLContext()\n",
    "#create pyspark dataframe from csv\n",
    "def df_from_csv(csv_file):\n",
    "    text = sc.textFile(csv_file)\\\n",
    "       .map(lambda line: line.split(','))\n",
    "   #didn’t work with take(1). believe returns\n",
    "   #different object then first()\n",
    "    schema = text.first()\n",
    "    data = text.filter(lambda x: x != schema)\n",
    "    df = sqlContext.createDataFrame(data, schema)\n",
    "    return df\n",
    "\n",
    "df = df_from_csv('dave2.csv')\n",
    "\n",
    "#here’s the new vectorizer function:\n",
    "\n",
    "def vectorizeData(data):\n",
    "    return data.rdd.map(lambda r: [r[0], r[1], r[2], Vectors.dense(r[3:7]), float(r[7])]).toDF([\\\n",
    "           'cluster', 'userid', 'workoutid', 'features', 'label'])"
   ]
  },
  {
   "cell_type": "code",
   "execution_count": 10,
   "metadata": {
    "collapsed": false
   },
   "outputs": [
    {
     "name": "stdout",
     "output_type": "stream",
     "text": [
      "time: 16.3 ms\n"
     ]
    }
   ],
   "source": [
    "select_columns = ['prediction', 'userid', 'workoutid', 'sum_geo_distance', 'diff_altitude', \\\n",
    "                'new_avg_speed', 'new_avg_dist', 'max_elapsed_time']\n",
    "df = df.select(select_columns)"
   ]
  },
  {
   "cell_type": "code",
   "execution_count": 11,
   "metadata": {
    "collapsed": false
   },
   "outputs": [
    {
     "data": {
      "text/plain": [
       "StructType(List(StructField(prediction,StringType,true),StructField(userid,StringType,true),StructField(workoutid,StringType,true),StructField(sum_geo_distance,StringType,true),StructField(diff_altitude,StringType,true),StructField(new_avg_speed,StringType,true),StructField(new_avg_dist,StringType,true),StructField(max_elapsed_time,StringType,true)))"
      ]
     },
     "execution_count": 11,
     "metadata": {},
     "output_type": "execute_result"
    },
    {
     "name": "stdout",
     "output_type": "stream",
     "text": [
      "time: 2.58 ms\n"
     ]
    }
   ],
   "source": [
    "df.schema"
   ]
  },
  {
   "cell_type": "code",
   "execution_count": 12,
   "metadata": {
    "collapsed": false
   },
   "outputs": [
    {
     "name": "stdout",
     "output_type": "stream",
     "text": [
      "time: 2.52 s\n"
     ]
    }
   ],
   "source": [
    "reg_df = vectorizeData(df)\n",
    "\n",
    "distinct_clusters = reg_df.select('cluster').distinct().collect()\n",
    "cluster_numbers = [int(distinct_clusters[i][0]) for i in range(len(distinct_clusters))]\n",
    "\n"
   ]
  },
  {
   "cell_type": "code",
   "execution_count": 13,
   "metadata": {
    "collapsed": false
   },
   "outputs": [
    {
     "data": {
      "text/plain": [
       "StructType(List(StructField(cluster,StringType,true),StructField(userid,StringType,true),StructField(workoutid,StringType,true),StructField(features,VectorUDT,true),StructField(label,DoubleType,true)))"
      ]
     },
     "execution_count": 13,
     "metadata": {},
     "output_type": "execute_result"
    },
    {
     "name": "stdout",
     "output_type": "stream",
     "text": [
      "time: 2.35 ms\n"
     ]
    }
   ],
   "source": [
    "reg_df.schema"
   ]
  },
  {
   "cell_type": "code",
   "execution_count": 19,
   "metadata": {
    "collapsed": false
   },
   "outputs": [
    {
     "name": "stdout",
     "output_type": "stream",
     "text": [
      "Cluster Number: 7\n",
      "Cofficient Names: sum_geo_distance, diff_altitude, new_avg_speed, and new_avg_dist\n",
      "Coefficients: [3371.05498911,-5.33534616802,67.1954453654,-5643.85718678]\n",
      "Intercept: 371.586509259\n",
      "numIterations: 1\n",
      "objectiveHistory: [0.0]\n",
      "+-------------------+\n",
      "|          residuals|\n",
      "+-------------------+\n",
      "| 156.01259681030615|\n",
      "| 39.435247933869505|\n",
      "| -868.1724709247669|\n",
      "| 149.67942055607136|\n",
      "| 27.949032281379687|\n",
      "|-1.5072025920067063|\n",
      "|  117.8963535923906|\n",
      "| -159.4057651565156|\n",
      "| 115.66900286070882|\n",
      "|    77.997713894031|\n",
      "|-47.704130043186524|\n",
      "|  71.14905659891792|\n",
      "|-505.05286987415616|\n",
      "|  9.281628307533083|\n",
      "|  416.2458516045906|\n",
      "|  20.15526917955799|\n",
      "| -48.20298888803427|\n",
      "|  131.1805400851099|\n",
      "|-410.02352665733457|\n",
      "| 187.31366513570765|\n",
      "+-------------------+\n",
      "only showing top 20 rows\n",
      "\n",
      "RMSE: 265.155389\n",
      "r2: 0.228409\n",
      "\n",
      "\n",
      "\n",
      "Cluster Number: 3\n",
      "Cofficient Names: sum_geo_distance, diff_altitude, new_avg_speed, and new_avg_dist\n",
      "Coefficients: [20831.4884412,0.532920058793,26.2181478057,20831.4884412]\n",
      "Intercept: -461.752859923\n",
      "numIterations: 9\n",
      "objectiveHistory: [0.4999999999999998, 0.22181371809514316, 0.05608311983856229, 0.04999389959756395, 0.04104728116712231, 0.04097686873903239, 0.040975375758789845, 0.04097536943567626, 0.040975369433682296]\n",
      "+------------------+\n",
      "|         residuals|\n",
      "+------------------+\n",
      "|34.687623525351626|\n",
      "|21.174647511276532|\n",
      "|35.710400258008065|\n",
      "| -6.59416331963763|\n",
      "| -81.8226208022532|\n",
      "|-3.155887172745281|\n",
      "+------------------+\n",
      "\n",
      "RMSE: 40.156389\n",
      "r2: 0.918049\n",
      "\n",
      "\n",
      "\n",
      "Cluster Number: 8\n",
      "Cofficient Names: sum_geo_distance, diff_altitude, new_avg_speed, and new_avg_dist\n",
      "Coefficients: [69871.0037131,-7.89746287965,-818.52721014,23190.1621007]\n",
      "Intercept: 12429.0439683\n",
      "numIterations: 1\n",
      "objectiveHistory: [0.0]\n",
      "+-------------------+\n",
      "|          residuals|\n",
      "+-------------------+\n",
      "|  401.4891629553722|\n",
      "| -764.3931067455187|\n",
      "|-61.552218205595636|\n",
      "| -550.5657270519832|\n",
      "|  1511.772092438323|\n",
      "|-159.17247551053697|\n",
      "| -543.5541655553043|\n",
      "| -595.5733871206749|\n",
      "|-322.00284340207145|\n",
      "| -479.0262999762508|\n",
      "|  370.0098596772259|\n",
      "|  777.0871774125262|\n",
      "| 415.48193108450596|\n",
      "+-------------------+\n",
      "\n",
      "RMSE: 636.087816\n",
      "r2: 0.821100\n",
      "\n",
      "\n",
      "\n",
      "Cluster Number: 0\n",
      "Cofficient Names: sum_geo_distance, diff_altitude, new_avg_speed, and new_avg_dist\n",
      "Coefficients: [-3250.3510058,0.671549419587,-1.7809944431,15759.3526812]\n",
      "Intercept: 181.501952813\n",
      "numIterations: 1\n",
      "objectiveHistory: [0.0]\n",
      "+-------------------+\n",
      "|          residuals|\n",
      "+-------------------+\n",
      "|-175.62850300177072|\n",
      "| -6.409468255293547|\n",
      "|  631.9975976188923|\n",
      "|-252.34282182829702|\n",
      "|  592.7120316745797|\n",
      "| -567.2120000172406|\n",
      "| -192.2427001700756|\n",
      "| -286.5497769021603|\n",
      "|-359.12123422217337|\n",
      "|-454.17926182118447|\n",
      "| -184.6683621942233|\n",
      "|-184.68606198062537|\n",
      "|-182.57314511171907|\n",
      "| -95.12102005059432|\n",
      "|-126.82124771119436|\n",
      "|-159.15895778498546|\n",
      "|-161.71352086164939|\n",
      "|  -158.293938923668|\n",
      "| 49.206327639700845|\n",
      "|-135.97809951085128|\n",
      "+-------------------+\n",
      "only showing top 20 rows\n",
      "\n",
      "RMSE: 545.568503\n",
      "r2: 0.074103\n",
      "\n",
      "\n",
      "\n",
      "Cluster Number: 5\n",
      "Cofficient Names: sum_geo_distance, diff_altitude, new_avg_speed, and new_avg_dist\n",
      "Coefficients: [-24030.075954,3.6975866457,-91.1567985925,5404.97580018]\n",
      "Intercept: 2278.65745265\n",
      "numIterations: 1\n",
      "objectiveHistory: [0.0]\n",
      "+-------------------+\n",
      "|          residuals|\n",
      "+-------------------+\n",
      "| -909.8933753209617|\n",
      "| -317.1692309378809|\n",
      "| -913.5458532086884|\n",
      "|-13.620631453272154|\n",
      "|-15.616076625803998|\n",
      "|-1135.3832884915128|\n",
      "| -775.2162153306497|\n",
      "| -311.0565115216268|\n",
      "| -282.5201881270407|\n",
      "|-1288.6947445538253|\n",
      "|-25.974871814190692|\n",
      "| 1656.7855524282306|\n",
      "|  529.6969404070069|\n",
      "| -194.8944289329247|\n",
      "|  -1168.73235118878|\n",
      "| 1970.8208564922486|\n",
      "| 1319.0667942815164|\n",
      "|  379.8680606564858|\n",
      "|  606.5508124239116|\n",
      "|-1389.2564316457479|\n",
      "+-------------------+\n",
      "only showing top 20 rows\n",
      "\n",
      "RMSE: 823.158862\n",
      "r2: 0.141359\n",
      "\n",
      "\n",
      "\n",
      "Cluster Number: 6\n",
      "Cofficient Names: sum_geo_distance, diff_altitude, new_avg_speed, and new_avg_dist\n",
      "Coefficients: [69632.9040075,-19.3087225361,-112.726569516,-35986.3782475]\n",
      "Intercept: 1582.50517793\n",
      "numIterations: 1\n",
      "objectiveHistory: [0.0]\n",
      "+-------------------+\n",
      "|          residuals|\n",
      "+-------------------+\n",
      "| 40.903073393952354|\n",
      "| 243.02069965985356|\n",
      "| 132.48770333263678|\n",
      "| 163.69955462513133|\n",
      "| -417.6905500057262|\n",
      "| 154.14611892193034|\n",
      "| -309.1167032089111|\n",
      "|-28.726471201858658|\n",
      "|  145.8389449624458|\n",
      "| -92.06690181268004|\n",
      "|    78.459516766982|\n",
      "|-110.95498543375629|\n",
      "+-------------------+\n",
      "\n",
      "RMSE: 193.196714\n",
      "r2: 0.620800\n",
      "\n",
      "\n",
      "\n",
      "Cluster Number: 2\n",
      "Cofficient Names: sum_geo_distance, diff_altitude, new_avg_speed, and new_avg_dist\n",
      "Coefficients: [8958.06360569,1.19764810569,-8.57815920294,-5583.51020132]\n",
      "Intercept: 440.988282006\n",
      "numIterations: 1\n",
      "objectiveHistory: [0.0]\n",
      "+-------------------+\n",
      "|          residuals|\n",
      "+-------------------+\n",
      "| 434.61733025280466|\n",
      "|  54.24558012470942|\n",
      "|-364.54419327587095|\n",
      "| -332.7577283136465|\n",
      "| -61.61646168881077|\n",
      "| -331.2820640148411|\n",
      "| 1701.4304817639872|\n",
      "|-239.24617862438447|\n",
      "|-287.52796609604445|\n",
      "| 338.19847262584904|\n",
      "|  153.6232919624132|\n",
      "|  523.0382422975565|\n",
      "| 165.64329918887927|\n",
      "|  514.5285747903619|\n",
      "|-248.87974850263106|\n",
      "|  480.7741702212421|\n",
      "| 165.91198783427308|\n",
      "| -179.7996967720735|\n",
      "|-414.03955874179564|\n",
      "|  46.91827683823243|\n",
      "+-------------------+\n",
      "only showing top 20 rows\n",
      "\n",
      "RMSE: 442.248369\n",
      "r2: 0.048583\n",
      "\n",
      "\n",
      "\n",
      "time: 1min 15s\n"
     ]
    }
   ],
   "source": [
    "for i in cluster_numbers:\n",
    "        temp_df = reg_df[reg_df['cluster']==i]\n",
    "        temp_lr = LinearRegression()\n",
    "        temp_lrModel = temp_lr.fit(temp_df['label','features'])\n",
    "        temp_df = temp_lrModel.transform(temp_df)\n",
    "        \n",
    "        print(\"Cluster Number: \" + str(i))\n",
    "        #Print the coefficients and intercept for linear regression\n",
    "        print(\"Cofficient Names: \" + 'sum_geo_distance, diff_altitude, new_avg_speed, and new_avg_dist')\n",
    "        print(\"Coefficients: \" + str(temp_lrModel.coefficients))\n",
    "        print(\"Intercept: \" + str(temp_lrModel.intercept))\n",
    "        \n",
    "        # Summarize the model over the training set and print out some metrics\n",
    "        trainingSummary = temp_lrModel.summary\n",
    "        print(\"numIterations: %d\" % trainingSummary.totalIterations)\n",
    "        print(\"objectiveHistory: %s\" % str(trainingSummary.objectiveHistory))\n",
    "        trainingSummary.residuals.show()\n",
    "        print(\"RMSE: %f\" % trainingSummary.rootMeanSquaredError)\n",
    "        print(\"r2: %f\" % trainingSummary.r2)\n",
    "        print(\"\\n\\n\")"
   ]
  },
  {
   "cell_type": "markdown",
   "metadata": {},
   "source": [
    "Above results show huge (opposite) coefficients for sum_geo_distance and new_avg_dist\n",
    "\n",
    "This indicates probable colinearity, which could be solved by replacing new_avg_dist with sum_geo_distance-new_avg_dist. \n",
    "\n",
    "Another solution could be to dissolve the new_avg_dist by new_avg_speed to create a new_avg_time variable; however, it may be better to create this variable rather than the other two."
   ]
  },
  {
   "cell_type": "code",
   "execution_count": null,
   "metadata": {
    "collapsed": true
   },
   "outputs": [],
   "source": [
    "for i in cluster_numbers:\n",
    "        temp_df = reg_df[reg_df['cluster']==i]\n",
    "        temp_lr = LinearRegression()\n",
    "        temp_lrModel = temp_lr.fit(temp_df['label','features'])\n",
    "        temp_df = temp_lrModel.transform(temp_df)\n",
    "        \n",
    "        print(\"Cluster Number: \" + str(i))\n",
    "        #Print the coefficients and intercept for linear regression\n",
    "        print(\"Cofficient Names: \" + 'sum_geo_distance, diff_altitude, new_avg_speed, and new_avg_dist')\n",
    "        print(\"Coefficients: \" + str(temp_lrModel.coefficients))\n",
    "        print(\"Intercept: \" + str(temp_lrModel.intercept))\n",
    "        \n",
    "        # Summarize the model over the training set and print out some metrics\n",
    "        trainingSummary = temp_lrModel.summary\n",
    "        print(\"numIterations: %d\" % trainingSummary.totalIterations)\n",
    "        print(\"objectiveHistory: %s\" % str(trainingSummary.objectiveHistory))\n",
    "        trainingSummary.residuals.show()\n",
    "        print(\"RMSE: %f\" % trainingSummary.rootMeanSquaredError)\n",
    "        print(\"r2: %f\" % trainingSummary.r2)\n",
    "        print(\"\\n\\n\")"
   ]
  }
 ],
 "metadata": {
  "kernelspec": {
   "display_name": "Python 2",
   "language": "python",
   "name": "python2"
  },
  "language_info": {
   "codemirror_mode": {
    "name": "ipython",
    "version": 2
   },
   "file_extension": ".py",
   "mimetype": "text/x-python",
   "name": "python",
   "nbconvert_exporter": "python",
   "pygments_lexer": "ipython2",
   "version": "2.7.12"
  }
 },
 "nbformat": 4,
 "nbformat_minor": 2
}
