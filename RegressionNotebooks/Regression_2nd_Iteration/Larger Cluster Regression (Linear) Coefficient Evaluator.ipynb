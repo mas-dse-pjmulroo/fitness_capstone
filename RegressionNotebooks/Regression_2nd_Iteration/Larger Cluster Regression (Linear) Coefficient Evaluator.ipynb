{
 "cells": [
  {
   "cell_type": "code",
   "execution_count": 1,
   "metadata": {
    "collapsed": false,
    "deletable": true,
    "editable": true
   },
   "outputs": [],
   "source": [
    "import pandas as pd\n",
    "import numpy as np\n",
    "import sys\n",
    "#import sources.endomondolib as endo\n",
    "#import sources.pysparkconvenience as ps\n",
    "from numpy import array\n",
    "from math import sqrt\n",
    "from pyspark.sql.functions import *\n",
    "from pyspark.mllib.clustering import KMeans, KMeansModel\n",
    "from pyspark.sql import DataFrameReader\n",
    "from pyspark.sql import SQLContext\n",
    "from IPython.display import display, HTML\n",
    "from pyspark.sql.functions import col, mean, min, max\n",
    "from pyspark.ml.linalg import Vectors\n",
    "from pyspark.ml import Pipeline\n",
    "from pyspark.ml.regression import LinearRegression, DecisionTreeRegressor, GBTRegressor, RandomForestRegressor\n",
    "from pyspark.ml.feature import StringIndexer, VectorIndexer\n",
    "from pyspark.ml.classification import DecisionTreeClassifier\n",
    "from pyspark.ml.tuning import CrossValidator, ParamGridBuilder\n",
    "from pyspark.ml.evaluation import MulticlassClassificationEvaluator, RegressionEvaluator\n",
    "\n",
    "from pyspark.ml.feature import VectorAssembler\n",
    "\n",
    "# Disable warnings, set Matplotlib inline plotting and load Pandas package\n",
    "import warnings\n",
    "warnings.filterwarnings('ignore')\n",
    "\n",
    "%matplotlib inline\n",
    "pd.options.display.mpl_style = 'default'\n",
    "\n",
    "%load_ext autotime"
   ]
  },
  {
   "cell_type": "code",
   "execution_count": 3,
   "metadata": {
    "collapsed": false,
    "deletable": true,
    "editable": true
   },
   "outputs": [
    {
     "name": "stdout",
     "output_type": "stream",
     "text": [
      "time: 3.67 s\n"
     ]
    }
   ],
   "source": [
    "# sc = SQLContext()\n",
    "#create pyspark dataframe from csv\n",
    "def df_from_csv(csv_file):\n",
    "    text = sc.textFile(csv_file)\\\n",
    "       .map(lambda line: line.split(','))\n",
    "   #didn’t work with take(1). believe returns\n",
    "   #different object then first()\n",
    "    schema = text.first()\n",
    "    data = text.filter(lambda x: x != schema)\n",
    "    df = sqlContext.createDataFrame(data, schema)\n",
    "    return df\n",
    "\n",
    "\n",
    "pandas_df = pd.read_csv('f_clusters6.csv')\n",
    "df = sqlContext.createDataFrame(pandas_df)\n",
    "\n",
    "#here’s the new vectorizer function:\n",
    "\n",
    "def vectorizeData(data):\n",
    "        return data.rdd.map(lambda r: [r[0], r[1], r[2], r[3], Vectors.dense(r[4:-1]),float(r[-1])])\\\n",
    "            .toDF(['route cluster', 'performance cluster', 'userid', 'workoutid', 'features', 'label'])"
   ]
  },
  {
   "cell_type": "code",
   "execution_count": 4,
   "metadata": {
    "collapsed": false,
    "deletable": true,
    "editable": true
   },
   "outputs": [
    {
     "data": {
      "text/plain": [
       "StructType(List(StructField(Unnamed: 0,LongType,true),StructField(route_prediction,LongType,true),StructField(perf_prediction,LongType,true),StructField(diff_altitude,DoubleType,true),StructField(geo_distance,DoubleType,true),StructField(userid,LongType,true),StructField(workoutid,LongType,true),StructField(heart_rate_avg,DoubleType,true),StructField(speed_avg,DoubleType,true),StructField(elapsed_time,LongType,true)))"
      ]
     },
     "execution_count": 4,
     "metadata": {},
     "output_type": "execute_result"
    },
    {
     "name": "stdout",
     "output_type": "stream",
     "text": [
      "time: 3.25 ms\n"
     ]
    }
   ],
   "source": [
    "df.schema"
   ]
  },
  {
   "cell_type": "code",
   "execution_count": 5,
   "metadata": {
    "collapsed": false,
    "deletable": true,
    "editable": true
   },
   "outputs": [
    {
     "name": "stdout",
     "output_type": "stream",
     "text": [
      "time: 68.4 ms\n"
     ]
    }
   ],
   "source": [
    "select_columns = ['route_prediction', 'perf_prediction','userid', 'workoutid', 'geo_distance', 'diff_altitude', \\\n",
    "                'speed_avg', 'heart_rate_avg', 'elapsed_time']\n",
    "df = df.select(select_columns)"
   ]
  },
  {
   "cell_type": "code",
   "execution_count": 6,
   "metadata": {
    "collapsed": false,
    "deletable": true,
    "editable": true
   },
   "outputs": [
    {
     "data": {
      "text/plain": [
       "StructType(List(StructField(route_prediction,LongType,true),StructField(perf_prediction,LongType,true),StructField(userid,LongType,true),StructField(workoutid,LongType,true),StructField(geo_distance,DoubleType,true),StructField(diff_altitude,DoubleType,true),StructField(speed_avg,DoubleType,true),StructField(heart_rate_avg,DoubleType,true),StructField(elapsed_time,LongType,true)))"
      ]
     },
     "execution_count": 6,
     "metadata": {},
     "output_type": "execute_result"
    },
    {
     "name": "stdout",
     "output_type": "stream",
     "text": [
      "time: 22 ms\n"
     ]
    }
   ],
   "source": [
    "df.schema"
   ]
  },
  {
   "cell_type": "code",
   "execution_count": 7,
   "metadata": {
    "collapsed": false,
    "deletable": true,
    "editable": true
   },
   "outputs": [
    {
     "name": "stdout",
     "output_type": "stream",
     "text": [
      "time: 1.49 s\n"
     ]
    }
   ],
   "source": [
    "reg_df = vectorizeData(df)"
   ]
  },
  {
   "cell_type": "code",
   "execution_count": 8,
   "metadata": {
    "collapsed": false,
    "deletable": true,
    "editable": true
   },
   "outputs": [
    {
     "data": {
      "text/plain": [
       "StructType(List(StructField(route cluster,LongType,true),StructField(performance cluster,LongType,true),StructField(userid,LongType,true),StructField(workoutid,LongType,true),StructField(features,VectorUDT,true),StructField(label,DoubleType,true)))"
      ]
     },
     "execution_count": 8,
     "metadata": {},
     "output_type": "execute_result"
    },
    {
     "name": "stdout",
     "output_type": "stream",
     "text": [
      "time: 2.38 ms\n"
     ]
    }
   ],
   "source": [
    "reg_df.schema"
   ]
  },
  {
   "cell_type": "code",
   "execution_count": 9,
   "metadata": {
    "collapsed": false,
    "deletable": true,
    "editable": true
   },
   "outputs": [
    {
     "data": {
      "text/plain": [
       "24642"
      ]
     },
     "execution_count": 9,
     "metadata": {},
     "output_type": "execute_result"
    },
    {
     "name": "stdout",
     "output_type": "stream",
     "text": [
      "time: 1.91 s\n"
     ]
    }
   ],
   "source": [
    "reg_df.rdd.count()"
   ]
  },
  {
   "cell_type": "code",
   "execution_count": 10,
   "metadata": {
    "collapsed": false,
    "deletable": true,
    "editable": true
   },
   "outputs": [
    {
     "data": {
      "text/plain": [
       "24642"
      ]
     },
     "execution_count": 10,
     "metadata": {},
     "output_type": "execute_result"
    },
    {
     "name": "stdout",
     "output_type": "stream",
     "text": [
      "time: 526 ms\n"
     ]
    }
   ],
   "source": [
    "reg_df.count()"
   ]
  },
  {
   "cell_type": "code",
   "execution_count": 11,
   "metadata": {
    "collapsed": false,
    "deletable": true,
    "editable": true
   },
   "outputs": [
    {
     "data": {
      "text/plain": [
       "DataFrame[route cluster: bigint, performance cluster: bigint, userid: bigint, workoutid: bigint, features: vector, label: double]"
      ]
     },
     "execution_count": 11,
     "metadata": {},
     "output_type": "execute_result"
    },
    {
     "name": "stdout",
     "output_type": "stream",
     "text": [
      "time: 2.28 ms\n"
     ]
    }
   ],
   "source": [
    "reg_df"
   ]
  },
  {
   "cell_type": "code",
   "execution_count": 12,
   "metadata": {
    "collapsed": false,
    "deletable": true,
    "editable": true,
    "scrolled": false
   },
   "outputs": [
    {
     "data": {
      "text/plain": [
       "5"
      ]
     },
     "execution_count": 12,
     "metadata": {},
     "output_type": "execute_result"
    },
    {
     "name": "stdout",
     "output_type": "stream",
     "text": [
      "time: 625 ms\n"
     ]
    }
   ],
   "source": [
    "reg_df.select('route cluster').rdd.distinct().count()"
   ]
  },
  {
   "cell_type": "code",
   "execution_count": 13,
   "metadata": {
    "collapsed": false,
    "deletable": true,
    "editable": true,
    "scrolled": true
   },
   "outputs": [
    {
     "name": "stdout",
     "output_type": "stream",
     "text": [
      "+-------------+-------------------+-----+\n",
      "|route cluster|performance cluster|count|\n",
      "+-------------+-------------------+-----+\n",
      "|            0|                  0| 1903|\n",
      "|            0|                  1| 4831|\n",
      "|            0|                  2| 9150|\n",
      "|            1|                  0|  342|\n",
      "|            1|                  1| 1629|\n",
      "|            1|                  2| 2151|\n",
      "|            2|                  0|  414|\n",
      "|            2|                  1| 1818|\n",
      "|            2|                  2| 1764|\n",
      "|            3|                  0|   36|\n",
      "|            3|                  1|  175|\n",
      "|            3|                  2|  295|\n",
      "|            4|                  1|   80|\n",
      "|            4|                  2|   54|\n",
      "+-------------+-------------------+-----+\n",
      "\n",
      "time: 896 ms\n"
     ]
    }
   ],
   "source": [
    "reg_df.groupBy(['route cluster','performance cluster']).count()\\\n",
    "    .orderBy(['route cluster', 'performance cluster']).show()"
   ]
  },
  {
   "cell_type": "code",
   "execution_count": null,
   "metadata": {
    "collapsed": true
   },
   "outputs": [],
   "source": [
    "reg_df[['route cluster','performance clsuter']]"
   ]
  },
  {
   "cell_type": "code",
   "execution_count": 14,
   "metadata": {
    "collapsed": false,
    "deletable": true,
    "editable": true,
    "scrolled": true
   },
   "outputs": [
    {
     "data": {
      "text/plain": [
       "[Row(route cluster=3, performance cluster=0),\n",
       " Row(route cluster=1, performance cluster=0),\n",
       " Row(route cluster=1, performance cluster=1),\n",
       " Row(route cluster=0, performance cluster=1),\n",
       " Row(route cluster=4, performance cluster=2),\n",
       " Row(route cluster=3, performance cluster=2),\n",
       " Row(route cluster=2, performance cluster=2),\n",
       " Row(route cluster=4, performance cluster=1),\n",
       " Row(route cluster=2, performance cluster=0),\n",
       " Row(route cluster=0, performance cluster=0),\n",
       " Row(route cluster=1, performance cluster=2),\n",
       " Row(route cluster=0, performance cluster=2),\n",
       " Row(route cluster=2, performance cluster=1),\n",
       " Row(route cluster=3, performance cluster=1)]"
      ]
     },
     "execution_count": 14,
     "metadata": {},
     "output_type": "execute_result"
    },
    {
     "name": "stdout",
     "output_type": "stream",
     "text": [
      "time: 475 ms\n"
     ]
    }
   ],
   "source": [
    "reg_df.select(['route cluster','performance cluster']).distinct().collect()"
   ]
  },
  {
   "cell_type": "code",
   "execution_count": 15,
   "metadata": {
    "collapsed": false,
    "deletable": true,
    "editable": true,
    "scrolled": true
   },
   "outputs": [
    {
     "name": "stdout",
     "output_type": "stream",
     "text": [
      "time: 886 ms\n"
     ]
    }
   ],
   "source": [
    "#distinct_clusters = reg_df.select('cluster').distinct().collect()\n",
    "#cluster_numbers = [int(distinct_clusters[i][0]) for i in range(len(distinct_clusters))]\n",
    "\n",
    "route_clusters = reg_df.select('route cluster').distinct().collect()\n",
    "perf_clusters = reg_df.select('performance cluster').distinct().collect()\n",
    "route_cluster_numbers = [int(route_clusters[i][0]) for i in range(len(route_clusters))]\n",
    "perf_cluster_numbers = [int(perf_clusters[i][0]) for i in range(len(perf_clusters))]"
   ]
  },
  {
   "cell_type": "code",
   "execution_count": 16,
   "metadata": {
    "collapsed": false,
    "deletable": true,
    "editable": true
   },
   "outputs": [
    {
     "data": {
      "text/plain": [
       "[Row(route cluster=0),\n",
       " Row(route cluster=1),\n",
       " Row(route cluster=3),\n",
       " Row(route cluster=2),\n",
       " Row(route cluster=4)]"
      ]
     },
     "execution_count": 16,
     "metadata": {},
     "output_type": "execute_result"
    },
    {
     "name": "stdout",
     "output_type": "stream",
     "text": [
      "time: 313 ms\n"
     ]
    }
   ],
   "source": [
    "reg_df.select('route cluster').distinct().collect()"
   ]
  },
  {
   "cell_type": "code",
   "execution_count": 17,
   "metadata": {
    "collapsed": false,
    "deletable": true,
    "editable": true,
    "scrolled": true
   },
   "outputs": [
    {
     "data": {
      "text/plain": [
       "[0, 1, 2]"
      ]
     },
     "execution_count": 17,
     "metadata": {},
     "output_type": "execute_result"
    },
    {
     "name": "stdout",
     "output_type": "stream",
     "text": [
      "time: 2.28 ms\n"
     ]
    }
   ],
   "source": [
    "perf_cluster_numbers"
   ]
  },
  {
   "cell_type": "code",
   "execution_count": 18,
   "metadata": {
    "collapsed": false,
    "deletable": true,
    "editable": true
   },
   "outputs": [
    {
     "name": "stdout",
     "output_type": "stream",
     "text": [
      "506\n",
      "[Row(performance cluster=0), Row(performance cluster=1), Row(performance cluster=2)]\n"
     ]
    },
    {
     "data": {
      "text/plain": [
       "36"
      ]
     },
     "execution_count": 18,
     "metadata": {},
     "output_type": "execute_result"
    },
    {
     "name": "stdout",
     "output_type": "stream",
     "text": [
      "time: 901 ms\n"
     ]
    }
   ],
   "source": [
    "d = reg_df[reg_df['route cluster']==3]\n",
    "print d.count()\n",
    "print d.select('performance cluster').distinct().collect()\n",
    "d2 = d[d['performance cluster']==0]\n",
    "d2.count()"
   ]
  },
  {
   "cell_type": "code",
   "execution_count": 19,
   "metadata": {
    "collapsed": false,
    "deletable": true,
    "editable": true
   },
   "outputs": [
    {
     "name": "stdout",
     "output_type": "stream",
     "text": [
      "+-------------+-------------------+------+---------+--------+-----+\n",
      "|route cluster|performance cluster|userid|workoutid|features|label|\n",
      "+-------------+-------------------+------+---------+--------+-----+\n",
      "+-------------+-------------------+------+---------+--------+-----+\n",
      "\n",
      "time: 377 ms\n"
     ]
    }
   ],
   "source": [
    "reg_df[reg_df['performance cluster'] == 3].show()"
   ]
  },
  {
   "cell_type": "code",
   "execution_count": 20,
   "metadata": {
    "collapsed": false,
    "deletable": true,
    "editable": true
   },
   "outputs": [
    {
     "data": {
      "text/plain": [
       "24642"
      ]
     },
     "execution_count": 20,
     "metadata": {},
     "output_type": "execute_result"
    },
    {
     "name": "stdout",
     "output_type": "stream",
     "text": [
      "time: 444 ms\n"
     ]
    }
   ],
   "source": [
    "reg_df.rdd.count()"
   ]
  },
  {
   "cell_type": "code",
   "execution_count": 21,
   "metadata": {
    "collapsed": false,
    "deletable": true,
    "editable": true,
    "scrolled": false
   },
   "outputs": [
    {
     "name": "stdout",
     "output_type": "stream",
     "text": [
      "(Route, Perf) Cluster Pair: (0, 0)\n",
      "Cofficient Names: sum_geo_distance, diff_altitude, new_avg_speed, and new_avg_dist\n",
      "Coefficients: [13767.7299132,-5493.35880407,-381.903510974,-0.822899247926]\n",
      "Intercept: 7901.35281739\n",
      "numIterations: 1\n",
      "objectiveHistory: [0.0]\n",
      "+-------------------+\n",
      "|          residuals|\n",
      "+-------------------+\n",
      "| -629.9844780102812|\n",
      "|-276.02662983343726|\n",
      "|-125.37377866523275|\n",
      "| -838.7108867512316|\n",
      "|  186.4439517303099|\n",
      "| -695.7664456845296|\n",
      "|  -312.377185852959|\n",
      "| 2488.4190254294026|\n",
      "| 1473.7085458678448|\n",
      "|  234.7716115522844|\n",
      "| -866.7419970147221|\n",
      "| 315.12692251756425|\n",
      "| -393.6958035329826|\n",
      "|-224.72746372736492|\n",
      "| -966.8309479989066|\n",
      "| -363.4450093438809|\n",
      "| 3912.5576837758163|\n",
      "| 131.66699439077274|\n",
      "| -648.4994352789081|\n",
      "|-180.68216532177848|\n",
      "+-------------------+\n",
      "only showing top 20 rows\n",
      "\n",
      "RMSE: 5708.407586\n",
      "r2: 0.052187\n",
      "\n",
      "\n",
      "\n",
      "(Route, Perf) Cluster Pair: (0, 1)\n",
      "Cofficient Names: sum_geo_distance, diff_altitude, new_avg_speed, and new_avg_dist\n",
      "Coefficients: [14684.198449,-431.027591438,-401.818870208,4.01181773639]\n",
      "Intercept: 8772.27256683\n",
      "numIterations: 1\n",
      "objectiveHistory: [0.0]\n",
      "+-------------------+\n",
      "|          residuals|\n",
      "+-------------------+\n",
      "| 144.47463117690404|\n",
      "| -558.5742679779605|\n",
      "| 187.56141290568485|\n",
      "|-120.56220913005563|\n",
      "| -2.497289126216856|\n",
      "|-56.843071102542126|\n",
      "|  552.0317052708997|\n",
      "| -836.1802980107395|\n",
      "| -303.8612282070517|\n",
      "| 330.76987916988764|\n",
      "|-1116.9338563174824|\n",
      "| 155.19344713090777|\n",
      "| -487.6843918189761|\n",
      "| -732.2668176951738|\n",
      "|  127.6780029133406|\n",
      "| -559.9500385828478|\n",
      "|  959.9430590218526|\n",
      "| 0.5583955446700202|\n",
      "| -79.93137897489123|\n",
      "|-418.62559240849714|\n",
      "+-------------------+\n",
      "only showing top 20 rows\n",
      "\n",
      "RMSE: 866.367219\n",
      "r2: 0.601953\n",
      "\n",
      "\n",
      "\n",
      "(Route, Perf) Cluster Pair: (0, 3)\n",
      "Cofficient Names: sum_geo_distance, diff_altitude, new_avg_speed, and new_avg_dist\n",
      "Coefficients: [14523.4517556,1047.83427734,-490.308362532,0.0]\n",
      "Intercept: 9454.1329321\n",
      "numIterations: 9\n",
      "objectiveHistory: [0.5000000000000004, 0.07641157781058538, 0.06070880847155635, 0.05939088859950559, 0.059162754492673386, 0.05915332976554488, 0.0591533189071316, 0.05915331890171416, 0.05915331890170972]\n",
      "+-------------------+\n",
      "|          residuals|\n",
      "+-------------------+\n",
      "|  886.6900787255272|\n",
      "| -781.9254137729522|\n",
      "| 1320.9913653407693|\n",
      "| 2186.7807528492194|\n",
      "|  431.2530664004644|\n",
      "| 317.89259344816037|\n",
      "| 252.76651180611952|\n",
      "| -483.0141784213156|\n",
      "| -868.3230169672361|\n",
      "| 194.98880707964054|\n",
      "| 12.923206705558187|\n",
      "| -731.0335611429873|\n",
      "| -787.5415603431029|\n",
      "| -6.745765950594432|\n",
      "| -786.4830356720049|\n",
      "|-435.07849084993086|\n",
      "| -858.9700150505614|\n",
      "|-1870.0253042882778|\n",
      "|  909.0912545828351|\n",
      "|  883.7019730829597|\n",
      "+-------------------+\n",
      "only showing top 20 rows\n",
      "\n",
      "RMSE: 1000.640710\n",
      "r2: 0.881693\n",
      "\n",
      "\n",
      "\n",
      "(Route, Perf) Cluster Pair: (0, 2)\n",
      "Cofficient Names: sum_geo_distance, diff_altitude, new_avg_speed, and new_avg_dist\n",
      "Coefficients: [15495.4281319,-631.615331221,-974.327205137,19.6453328309]\n",
      "Intercept: 15325.3149271\n",
      "numIterations: 1\n",
      "objectiveHistory: [0.0]\n",
      "+-------------------+\n",
      "|          residuals|\n",
      "+-------------------+\n",
      "| 1003.8592574003997|\n",
      "|   528.093851716154|\n",
      "| -568.4700248065419|\n",
      "| -1182.083603661773|\n",
      "| -541.7483831751779|\n",
      "|-1882.9297304187749|\n",
      "|  -992.255904849937|\n",
      "| -687.3894448415649|\n",
      "| 191.58330667550763|\n",
      "|   203.561556758983|\n",
      "|  1338.645759508263|\n",
      "|  46.91276793313045|\n",
      "| 116.60846647513063|\n",
      "| -214.7464766558369|\n",
      "|  436.0242387594244|\n",
      "| -429.9105302687658|\n",
      "| -928.3103349304747|\n",
      "| -248.7060135168922|\n",
      "|-1723.5769757718172|\n",
      "| -397.6162768549366|\n",
      "+-------------------+\n",
      "only showing top 20 rows\n",
      "\n",
      "RMSE: 2333.123145\n",
      "r2: 0.649709\n",
      "\n",
      "\n",
      "\n",
      "(Route, Perf) Cluster Pair: (0, 4)\n",
      "Cluster pair dropped\n",
      "\n",
      "\n",
      "\n",
      "(Route, Perf) Cluster Pair: (1, 0)\n",
      "Cofficient Names: sum_geo_distance, diff_altitude, new_avg_speed, and new_avg_dist\n",
      "Coefficients: [16880.2323329,-4320.96808036,-596.412352156,4.08477385998]\n",
      "Intercept: 9651.02940342\n",
      "numIterations: 1\n",
      "objectiveHistory: [0.0]\n",
      "+-------------------+\n",
      "|          residuals|\n",
      "+-------------------+\n",
      "|-1289.3763833754838|\n",
      "| -202.8969625224754|\n",
      "|-1171.8817108276498|\n",
      "| 441.20597489559714|\n",
      "| 460.96888631136426|\n",
      "| -434.1279267297941|\n",
      "|-1479.6176696780067|\n",
      "| -785.8315359365406|\n",
      "| 1097.3539623483512|\n",
      "| -1032.909841768078|\n",
      "|-401.97541548934896|\n",
      "| -958.8462918522055|\n",
      "| -438.7899252614716|\n",
      "|-155.68513697327944|\n",
      "| -685.4525146136039|\n",
      "|-1669.9354840635187|\n",
      "| -798.5570569979946|\n",
      "| -595.7126082964069|\n",
      "| -2193.435477435257|\n",
      "| -98.73265401485332|\n",
      "+-------------------+\n",
      "only showing top 20 rows\n",
      "\n",
      "RMSE: 9271.035669\n",
      "r2: 0.023929\n",
      "\n",
      "\n",
      "\n",
      "(Route, Perf) Cluster Pair: (1, 1)\n",
      "Cofficient Names: sum_geo_distance, diff_altitude, new_avg_speed, and new_avg_dist\n",
      "Coefficients: [16336.6125949,675.897528024,-554.686611897,1.67472591516]\n",
      "Intercept: 9889.87234405\n",
      "numIterations: 1\n",
      "objectiveHistory: [0.0]\n",
      "+-------------------+\n",
      "|          residuals|\n",
      "+-------------------+\n",
      "|  55.06691125981524|\n",
      "|-1569.4268631636405|\n",
      "| -167.5620842053977|\n",
      "|-112.11573266772302|\n",
      "|  51.73536571959812|\n",
      "|-254.51199123458355|\n",
      "| -418.4377941552966|\n",
      "| -361.2963400292829|\n",
      "| 255.37534680555746|\n",
      "|  264.1825064120749|\n",
      "|  421.4248208958479|\n",
      "|  96.31115962239346|\n",
      "|  47.57411783264797|\n",
      "|-1197.0836004208868|\n",
      "| -681.6909084998397|\n",
      "|-188.96025457529413|\n",
      "| -631.4201503815984|\n",
      "| 167.44846740659523|\n",
      "|  61.76917135878557|\n",
      "|-1178.7492556159696|\n",
      "+-------------------+\n",
      "only showing top 20 rows\n",
      "\n",
      "RMSE: 2989.918820\n",
      "r2: 0.139812\n",
      "\n",
      "\n",
      "\n",
      "(Route, Perf) Cluster Pair: (1, 3)\n",
      "Cofficient Names: sum_geo_distance, diff_altitude, new_avg_speed, and new_avg_dist\n",
      "Coefficients: [19277.041242,2423.17303885,-935.598077377,-3.2231296419]\n",
      "Intercept: 12661.4670565\n",
      "numIterations: 1\n",
      "objectiveHistory: [0.0]\n",
      "+-------------------+\n",
      "|          residuals|\n",
      "+-------------------+\n",
      "|  2090.726989674048|\n",
      "|  454.2490290459864|\n",
      "|   3038.74277957479|\n",
      "| -62.26298292862339|\n",
      "| 2504.5224266687474|\n",
      "|  666.3910861383065|\n",
      "|-3376.0576306720322|\n",
      "| 1583.3811785565858|\n",
      "|  3373.847264853506|\n",
      "| 1072.1828658841532|\n",
      "| -663.2432804262598|\n",
      "| 1346.6011557211732|\n",
      "|  902.4467667888639|\n",
      "|-15.226287429850345|\n",
      "|-210.13316816688712|\n",
      "| -911.8587746889871|\n",
      "| -839.7342560479556|\n",
      "| -1501.054515445605|\n",
      "|-477.19549226807794|\n",
      "|-487.87164533568284|\n",
      "+-------------------+\n",
      "only showing top 20 rows\n",
      "\n",
      "RMSE: 1659.234414\n",
      "r2: 0.816456\n",
      "\n",
      "\n",
      "\n",
      "(Route, Perf) Cluster Pair: (1, 2)\n",
      "Cofficient Names: sum_geo_distance, diff_altitude, new_avg_speed, and new_avg_dist\n",
      "Coefficients: [13988.4712077,-850.588015302,-1602.73361565,2.23003045697]\n",
      "Intercept: 21070.4844219\n",
      "numIterations: 1\n",
      "objectiveHistory: [0.0]\n",
      "+-------------------+\n",
      "|          residuals|\n",
      "+-------------------+\n",
      "|  913.7974127961024|\n",
      "|-216.45407225390227|\n",
      "|-1760.8282114604863|\n",
      "|  448.5426443093602|\n",
      "| 183.71151765126706|\n",
      "| -898.4324139771034|\n",
      "|  7591.098091463864|\n",
      "|-1812.6843279626082|\n",
      "|  -871.840329662853|\n",
      "|  483.3628743902591|\n",
      "|  2108.709688174731|\n",
      "| -355.7273785646903|\n",
      "| 1440.0806144642283|\n",
      "|-450.34487408707537|\n",
      "|-1103.4585539455256|\n",
      "| 39.907755565058324|\n",
      "| 1428.6920070124252|\n",
      "|  164.4547439315047|\n",
      "|-1809.6565320850168|\n",
      "| -267.4450694993848|\n",
      "+-------------------+\n",
      "only showing top 20 rows\n",
      "\n",
      "RMSE: 2392.208863\n",
      "r2: 0.726388\n",
      "\n",
      "\n",
      "\n",
      "(Route, Perf) Cluster Pair: (1, 4)\n",
      "Cofficient Names: sum_geo_distance, diff_altitude, new_avg_speed, and new_avg_dist\n",
      "Coefficients: [24536.1149211,-230.190511595,-1768.71622584,6.61093944601]\n",
      "Intercept: 19403.7098011\n",
      "numIterations: 1\n",
      "objectiveHistory: [0.0]\n",
      "+-------------------+\n",
      "|          residuals|\n",
      "+-------------------+\n",
      "|-1072.0578106227076|\n",
      "|   609.030049465995|\n",
      "| -118.3361247546527|\n",
      "| -381.2223269287533|\n",
      "| 3005.2463025365323|\n",
      "|-1508.2276105195597|\n",
      "|  853.2468988828896|\n",
      "| 245.22789668434234|\n",
      "| -983.8387143952023|\n",
      "|-177.42740462630172|\n",
      "| -762.2213037163128|\n",
      "|-2539.2607601710897|\n",
      "|-353.61256155191404|\n",
      "| 2924.0451459063006|\n",
      "|-1579.1402859672635|\n",
      "| -2523.516076609674|\n",
      "|   4381.88294389256|\n",
      "|-1317.1417835913853|\n",
      "|  -955.981346660732|\n",
      "| -241.9635373760193|\n",
      "+-------------------+\n",
      "only showing top 20 rows\n",
      "\n",
      "RMSE: 1955.907712\n",
      "r2: 0.868901\n",
      "\n",
      "\n",
      "\n",
      "(Route, Perf) Cluster Pair: (2, 0)\n",
      "Cofficient Names: sum_geo_distance, diff_altitude, new_avg_speed, and new_avg_dist\n",
      "Coefficients: [9524.23895859,-3258.53424087,-336.807733422,8.63323648269]\n",
      "Intercept: 6171.44369667\n",
      "numIterations: 1\n",
      "objectiveHistory: [0.0]\n",
      "+-------------------+\n",
      "|          residuals|\n",
      "+-------------------+\n",
      "| -579.4815997234418|\n",
      "| -25.87260378162864|\n",
      "|  59.00872662314214|\n",
      "| -66.21995714569039|\n",
      "|    182.31429703506|\n",
      "| 1534.7219722489926|\n",
      "| 222.52694978242835|\n",
      "|-250.43334299501203|\n",
      "| -994.1434556639006|\n",
      "|-404.32067980651664|\n",
      "| -661.1908469539185|\n",
      "|-293.07077599697413|\n",
      "| -382.5633072460796|\n",
      "| -799.8192098829531|\n",
      "|-1049.8770057089932|\n",
      "|  455.9025750879928|\n",
      "|-1025.7009922304242|\n",
      "| -873.9504622880831|\n",
      "|-202.56903720907167|\n",
      "|  -64.6563122787461|\n",
      "+-------------------+\n",
      "only showing top 20 rows\n",
      "\n",
      "RMSE: 12476.201842\n",
      "r2: 0.004920\n",
      "\n",
      "\n",
      "\n",
      "(Route, Perf) Cluster Pair: (2, 1)\n",
      "Cofficient Names: sum_geo_distance, diff_altitude, new_avg_speed, and new_avg_dist\n",
      "Coefficients: [11631.3903162,517.839363819,-235.470964808,-3.6469003859]\n",
      "Intercept: 7165.561053\n",
      "numIterations: 1\n",
      "objectiveHistory: [0.0]\n",
      "+-------------------+\n",
      "|          residuals|\n",
      "+-------------------+\n",
      "|-170.08319135962392|\n",
      "| -341.6750438099898|\n",
      "| -703.5582636209783|\n",
      "| -401.2060243526007|\n",
      "| -443.0827954479687|\n",
      "| -556.7407463977902|\n",
      "| 435.78566161194976|\n",
      "| -674.7512530537724|\n",
      "|  958.5122977048673|\n",
      "| -770.0482473385323|\n",
      "|    672.58311477608|\n",
      "| -849.3274378620144|\n",
      "|  260.9723731274189|\n",
      "| -241.1566695140118|\n",
      "|-156.08564319295374|\n",
      "|-460.63691453171396|\n",
      "|  31.48761503431433|\n",
      "| 397.53078126360106|\n",
      "|  249.9562934866508|\n",
      "| -671.9076590250088|\n",
      "+-------------------+\n",
      "only showing top 20 rows\n",
      "\n",
      "RMSE: 1286.441330\n",
      "r2: 0.257819\n",
      "\n",
      "\n",
      "\n",
      "(Route, Perf) Cluster Pair: (2, 3)\n",
      "Cofficient Names: sum_geo_distance, diff_altitude, new_avg_speed, and new_avg_dist\n",
      "Coefficients: [12611.8025428,167.970882748,-363.194271288,-5.4644378991]\n",
      "Intercept: 9092.31945835\n",
      "numIterations: 1\n",
      "objectiveHistory: [0.0]\n",
      "+-------------------+\n",
      "|          residuals|\n",
      "+-------------------+\n",
      "| -173.1755314272832|\n",
      "|-194.40029510152453|\n",
      "|-196.39362152825288|\n",
      "|  557.8446221300801|\n",
      "|-244.74683741452736|\n",
      "| -564.5980165117899|\n",
      "|-103.94006670058297|\n",
      "|  526.2324197869348|\n",
      "|-1369.8967387606153|\n",
      "| -769.0684827179812|\n",
      "|  952.1415521488298|\n",
      "| -783.9909043455309|\n",
      "|   260.613824762504|\n",
      "| -586.9007775103191|\n",
      "| 1015.4612310681568|\n",
      "| -308.9723258290287|\n",
      "| -586.3675943474964|\n",
      "|-244.19023617481344|\n",
      "| -1225.587606546851|\n",
      "| -634.8150142233771|\n",
      "+-------------------+\n",
      "only showing top 20 rows\n",
      "\n",
      "RMSE: 874.709262\n",
      "r2: 0.841666\n",
      "\n",
      "\n",
      "\n",
      "(Route, Perf) Cluster Pair: (2, 2)\n",
      "Cofficient Names: sum_geo_distance, diff_altitude, new_avg_speed, and new_avg_dist\n",
      "Coefficients: [10844.6662595,470.516253243,-355.536367195,4.48499612256]\n",
      "Intercept: 7576.79114252\n",
      "numIterations: 1\n",
      "objectiveHistory: [0.0]\n",
      "+-------------------+\n",
      "|          residuals|\n",
      "+-------------------+\n",
      "|  7.025735696473021|\n",
      "|  671.8900715006621|\n",
      "| -775.0987965896511|\n",
      "| -842.1898349850162|\n",
      "|  327.2986631592903|\n",
      "|-298.72216068517446|\n",
      "|-1181.0300651925854|\n",
      "| 15.708663687342778|\n",
      "| 198.23114436302058|\n",
      "| -588.7160771729696|\n",
      "| 106.37832047645406|\n",
      "| 144.94645609925556|\n",
      "|-1406.4250224076059|\n",
      "|  812.0605402519832|\n",
      "| -796.2873159729425|\n",
      "| 510.13363640120133|\n",
      "|  853.4170496596043|\n",
      "| 438.41369385378675|\n",
      "|  805.3967364772498|\n",
      "|   75.9696392473179|\n",
      "+-------------------+\n",
      "only showing top 20 rows\n",
      "\n",
      "RMSE: 1103.895780\n",
      "r2: 0.671494\n",
      "\n",
      "\n",
      "\n",
      "(Route, Perf) Cluster Pair: (2, 4)\n",
      "Cofficient Names: sum_geo_distance, diff_altitude, new_avg_speed, and new_avg_dist\n",
      "Coefficients: [15779.5303068,228.399410781,-783.004176777,6.81157990804]\n",
      "Intercept: 11586.670024\n",
      "numIterations: 1\n",
      "objectiveHistory: [0.0]\n",
      "+-------------------+\n",
      "|          residuals|\n",
      "+-------------------+\n",
      "|-38.211360987445005|\n",
      "| -194.9220532862746|\n",
      "|  552.0917004636867|\n",
      "| -2033.785214675645|\n",
      "|  943.6574595079455|\n",
      "|  872.2214714870825|\n",
      "|  1265.161045787012|\n",
      "|  568.7247171181334|\n",
      "| -444.5742876422337|\n",
      "| -805.6327861355294|\n",
      "| -584.4556298147945|\n",
      "|-1319.3186994173811|\n",
      "|-1722.5340603144377|\n",
      "|   629.165047300874|\n",
      "|-1424.4502283896436|\n",
      "|  -69.8667776505481|\n",
      "| 1351.6400203343437|\n",
      "|-40.265574602794004|\n",
      "|  -552.302021526868|\n",
      "|-12.351199145428836|\n",
      "+-------------------+\n",
      "only showing top 20 rows\n",
      "\n",
      "RMSE: 1037.023853\n",
      "r2: 0.925980\n",
      "\n",
      "\n",
      "\n",
      "time: 24.1 s\n"
     ]
    }
   ],
   "source": [
    "#add two\n",
    "for n in perf_cluster_numbers:\n",
    "    for i in route_cluster_numbers:\n",
    "            print(\"(Route, Perf) Cluster Pair: \" + str((n,i)))\n",
    "            temp_df1 = reg_df[reg_df['route cluster']==i]\n",
    "            temp_df = temp_df1[reg_df['performance cluster']==n]\n",
    "            \n",
    "            if temp_df.count() == 0:\n",
    "                print \"Cluster pair dropped\"\n",
    "                print \"\\n\\n\"\n",
    "                pass\n",
    "            else:\n",
    "                temp_lr = LinearRegression()\n",
    "                #temp_df.show(5)\n",
    "                temp_lrModel = temp_lr.fit(temp_df['label','features'])\n",
    "                temp_df = temp_lrModel.transform(temp_df)\n",
    "\n",
    "                #Print the coefficients and intercept for linear regression\n",
    "                print(\"Cofficient Names: \" + 'sum_geo_distance, diff_altitude, new_avg_speed, and new_avg_dist')\n",
    "                print(\"Coefficients: \" + str(temp_lrModel.coefficients))\n",
    "                print(\"Intercept: \" + str(temp_lrModel.intercept))\n",
    "\n",
    "                # Summarize the model over the training set and print out some metrics\n",
    "                trainingSummary = temp_lrModel.summary\n",
    "                print(\"numIterations: %d\" % trainingSummary.totalIterations)\n",
    "                print(\"objectiveHistory: %s\" % str(trainingSummary.objectiveHistory))\n",
    "                trainingSummary.residuals.show()\n",
    "                print(\"RMSE: %f\" % trainingSummary.rootMeanSquaredError)\n",
    "                print(\"r2: %f\" % trainingSummary.r2)\n",
    "                print(\"\\n\\n\")"
   ]
  }
 ],
 "metadata": {
  "kernelspec": {
   "display_name": "Python 2",
   "language": "python",
   "name": "python2"
  },
  "language_info": {
   "codemirror_mode": {
    "name": "ipython",
    "version": 2
   },
   "file_extension": ".py",
   "mimetype": "text/x-python",
   "name": "python",
   "nbconvert_exporter": "python",
   "pygments_lexer": "ipython2",
   "version": "2.7.12"
  }
 },
 "nbformat": 4,
 "nbformat_minor": 2
}
