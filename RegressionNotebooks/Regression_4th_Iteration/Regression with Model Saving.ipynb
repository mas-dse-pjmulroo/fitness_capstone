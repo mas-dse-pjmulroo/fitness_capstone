{
 "cells": [
  {
   "cell_type": "code",
   "execution_count": 1,
   "metadata": {
    "collapsed": false,
    "deletable": true,
    "editable": true
   },
   "outputs": [],
   "source": [
    "import pandas as pd\n",
    "import numpy as np\n",
    "import sys\n",
    "#import sources.endomondolib as endo\n",
    "#import sources.pysparkconvenience as ps\n",
    "from numpy import array\n",
    "from math import sqrt\n",
    "from pyspark.sql.functions import *\n",
    "from pyspark.mllib.clustering import KMeans, KMeansModel\n",
    "from pyspark.sql import DataFrameReader\n",
    "from pyspark.sql import SQLContext\n",
    "from IPython.display import display, HTML\n",
    "from pyspark.sql.functions import col, mean, min, max\n",
    "from pyspark.ml.linalg import Vectors\n",
    "from pyspark.ml import Pipeline\n",
    "from pyspark.ml.regression import LinearRegression, DecisionTreeRegressor, GBTRegressor, RandomForestRegressor\n",
    "from pyspark.ml.feature import StringIndexer, VectorIndexer\n",
    "from pyspark.ml.classification import DecisionTreeClassifier\n",
    "from pyspark.ml.tuning import CrossValidator, ParamGridBuilder\n",
    "from pyspark.ml.evaluation import MulticlassClassificationEvaluator, RegressionEvaluator\n",
    "\n",
    "from pyspark.ml.feature import VectorAssembler\n",
    "\n",
    "# Disable warnings, set Matplotlib inline plotting and load Pandas package\n",
    "import warnings\n",
    "warnings.filterwarnings('ignore')\n",
    "\n",
    "%matplotlib inline\n",
    "pd.options.display.mpl_style = 'default'\n",
    "\n",
    "%load_ext autotime"
   ]
  },
  {
   "cell_type": "code",
   "execution_count": 2,
   "metadata": {
    "collapsed": false,
    "deletable": true,
    "editable": true
   },
   "outputs": [
    {
     "name": "stdout",
     "output_type": "stream",
     "text": [
      "/home/ubuntu/Regression_4th_Iteration\n",
      "time: 109 ms\n"
     ]
    }
   ],
   "source": [
    "!pwd"
   ]
  },
  {
   "cell_type": "code",
   "execution_count": 3,
   "metadata": {
    "collapsed": false,
    "deletable": true,
    "editable": true
   },
   "outputs": [
    {
     "name": "stdout",
     "output_type": "stream",
     "text": [
      "time: 35.1 s\n"
     ]
    }
   ],
   "source": [
    "#sc = SQLContext()\n",
    "#create pyspark dataframe from csv\n",
    "def df_from_csv(csv_file):\n",
    "    text = sc.textFile(csv_file)\\\n",
    "       .map(lambda line: line.split(','))\n",
    "   #didn’t work with take(1). believe returns\n",
    "   #different object then first()\n",
    "    schema = text.first()\n",
    "    data = text.filter(lambda x: x != schema)\n",
    "    df = sqlContext.createDataFrame(data, schema)\n",
    "    return df\n",
    "\n",
    "#here’s the new vectorizer function:\n",
    "\n",
    "def vectorizeData(data):\n",
    "        return data.rdd.map(lambda r: [r[0], r[1], r[2], r[3], Vectors.dense(r[4:-1]),float(r[-1])])\\\n",
    "            .toDF(['route cluster', 'performance cluster', 'userid', 'workoutid', 'features', 'label'])\n",
    "\n",
    "#load cluster csv\n",
    "pandas_df = pd.read_csv('/home/ubuntu/endomondo_clusters.csv')\n",
    "df = sqlContext.createDataFrame(pandas_df)"
   ]
  },
  {
   "cell_type": "code",
   "execution_count": 4,
   "metadata": {
    "collapsed": false,
    "deletable": true,
    "editable": true
   },
   "outputs": [
    {
     "data": {
      "text/plain": [
       "Index([u'Unnamed: 0', u'workoutid', u'route_prediction', u'perf_prediction',\n",
       "       u'userid', u'diff_altitude', u'geo_distance', u'heart_rate_avg',\n",
       "       u'speed_avg', u'elapsed_time', u'user_avg_speed', u'user_avg_dist'],\n",
       "      dtype='object')"
      ]
     },
     "execution_count": 4,
     "metadata": {},
     "output_type": "execute_result"
    },
    {
     "name": "stdout",
     "output_type": "stream",
     "text": [
      "time: 3.71 ms\n"
     ]
    }
   ],
   "source": [
    "pandas_df.columns"
   ]
  },
  {
   "cell_type": "code",
   "execution_count": 5,
   "metadata": {
    "collapsed": false,
    "deletable": true,
    "editable": true
   },
   "outputs": [
    {
     "name": "stdout",
     "output_type": "stream",
     "text": [
      "+----------+---------+----------------+---------------+--------+-------------+--------------------+--------------+-------------+------------+--------------+--------------------+\n",
      "|Unnamed: 0|workoutid|route_prediction|perf_prediction|  userid|diff_altitude|        geo_distance|heart_rate_avg|    speed_avg|elapsed_time|user_avg_speed|       user_avg_dist|\n",
      "+----------+---------+----------------+---------------+--------+-------------+--------------------+--------------+-------------+------------+--------------+--------------------+\n",
      "|         0|595437630|               1|              2| 7967148|660.200012207|0.037654705345600004|           0.0|          0.0|       476.0|           0.0|0.037654705345600004|\n",
      "|         1|601204749|               1|              2|11314348|        848.0|      0.520372331142|           0.0|          0.0|     12204.0|           0.0| 0.38692112266999995|\n",
      "|         2|561312883|               1|              0|11314348|594.400024414| 0.25346991419799997| 138.860244751|          0.0|      8435.0|           0.0| 0.38692112266999995|\n",
      "|         3|505699296|               1|              0| 3439813|        659.0|      0.308718383312| 165.867233276|          0.0|     11664.0|  3.3534339269|  0.4296673039600001|\n",
      "|         4|593016980|               1|              1| 3439813|        590.0|      0.614166200161|           0.0|10.0603017807|     20808.0|  3.3534339269|  0.4296673039600001|\n",
      "+----------+---------+----------------+---------------+--------+-------------+--------------------+--------------+-------------+------------+--------------+--------------------+\n",
      "only showing top 5 rows\n",
      "\n",
      "time: 1.38 s\n"
     ]
    }
   ],
   "source": [
    "df.show(5)"
   ]
  },
  {
   "cell_type": "code",
   "execution_count": 6,
   "metadata": {
    "collapsed": false,
    "deletable": true,
    "editable": true,
    "scrolled": true
   },
   "outputs": [
    {
     "data": {
      "text/plain": [
       "StructType(List(StructField(Unnamed: 0,LongType,true),StructField(workoutid,LongType,true),StructField(route_prediction,LongType,true),StructField(perf_prediction,LongType,true),StructField(userid,LongType,true),StructField(diff_altitude,DoubleType,true),StructField(geo_distance,DoubleType,true),StructField(heart_rate_avg,DoubleType,true),StructField(speed_avg,DoubleType,true),StructField(elapsed_time,DoubleType,true),StructField(user_avg_speed,DoubleType,true),StructField(user_avg_dist,DoubleType,true)))"
      ]
     },
     "execution_count": 6,
     "metadata": {},
     "output_type": "execute_result"
    },
    {
     "name": "stdout",
     "output_type": "stream",
     "text": [
      "time: 2.45 ms\n"
     ]
    }
   ],
   "source": [
    "df.schema"
   ]
  },
  {
   "cell_type": "code",
   "execution_count": 7,
   "metadata": {
    "collapsed": false,
    "deletable": true,
    "editable": true
   },
   "outputs": [
    {
     "name": "stdout",
     "output_type": "stream",
     "text": [
      "time: 1.15 s\n"
     ]
    }
   ],
   "source": [
    "select_columns = ['route_prediction', 'perf_prediction','userid', 'workoutid', 'geo_distance', 'diff_altitude', \\\n",
    "                'speed_avg', 'heart_rate_avg','user_avg_dist', 'user_avg_speed', 'elapsed_time']\n",
    "\n",
    "reg_df = vectorizeData(df.select(select_columns))"
   ]
  },
  {
   "cell_type": "code",
   "execution_count": 8,
   "metadata": {
    "collapsed": false,
    "deletable": true,
    "editable": true
   },
   "outputs": [
    {
     "name": "stdout",
     "output_type": "stream",
     "text": [
      "time: 4.95 s\n"
     ]
    }
   ],
   "source": [
    "route_clusters = reg_df.select('route cluster').distinct().collect()\n",
    "perf_clusters = reg_df.select('performance cluster').distinct().collect()\n",
    "route_cluster_numbers = [int(route_clusters[i][0]) for i in range(len(route_clusters))]\n",
    "perf_cluster_numbers = [int(perf_clusters[i][0]) for i in range(len(perf_clusters))]"
   ]
  },
  {
   "cell_type": "code",
   "execution_count": 9,
   "metadata": {
    "collapsed": false,
    "deletable": true,
    "editable": true,
    "scrolled": true
   },
   "outputs": [
    {
     "name": "stdout",
     "output_type": "stream",
     "text": [
      "Cluster Summaries\n",
      "Route0_Perf0:\n",
      "+-------+------------------+\n",
      "|summary|             label|\n",
      "+-------+------------------+\n",
      "|  count|            103009|\n",
      "|   mean|2098.6224698812725|\n",
      "| stddev|1559.3188434959077|\n",
      "|    min|               0.0|\n",
      "|    max|           15453.0|\n",
      "+-------+------------------+\n",
      "\n",
      "Route1_Perf0:\n",
      "+-------+-----------------+\n",
      "|summary|            label|\n",
      "+-------+-----------------+\n",
      "|  count|              517|\n",
      "|   mean| 9742.01160541586|\n",
      "| stddev|6157.416510295563|\n",
      "|    min|            198.0|\n",
      "|    max|          30839.0|\n",
      "+-------+-----------------+\n",
      "\n",
      "Route3_Perf0:\n",
      "+-------+------------------+\n",
      "|summary|             label|\n",
      "+-------+------------------+\n",
      "|  count|             41915|\n",
      "|   mean|  4537.61619945127|\n",
      "| stddev|2406.2365123232585|\n",
      "|    min|               8.0|\n",
      "|    max|           14334.0|\n",
      "+-------+------------------+\n",
      "\n",
      "Route2_Perf0:\n",
      "+-------+-----------------+\n",
      "|summary|            label|\n",
      "+-------+-----------------+\n",
      "|  count|             9136|\n",
      "|   mean|4239.021891418564|\n",
      "| stddev|  2506.3782324451|\n",
      "|    min|             11.0|\n",
      "|    max|          15818.0|\n",
      "+-------+-----------------+\n",
      "\n",
      "Route4_Perf0:\n",
      "+-------+-----------------+\n",
      "|summary|            label|\n",
      "+-------+-----------------+\n",
      "|  count|             1795|\n",
      "|   mean|6632.059610027855|\n",
      "| stddev|4165.125906428287|\n",
      "|    min|             48.0|\n",
      "|    max|          24522.0|\n",
      "+-------+-----------------+\n",
      "\n",
      "Route0_Perf1:\n",
      "+-------+------------------+\n",
      "|summary|             label|\n",
      "+-------+------------------+\n",
      "|  count|             87688|\n",
      "|   mean| 2341.371042788067|\n",
      "| stddev|1606.8854005493401|\n",
      "|    min|               0.0|\n",
      "|    max|           15356.0|\n",
      "+-------+------------------+\n",
      "\n",
      "Route1_Perf1:\n",
      "+-------+----------------+\n",
      "|summary|           label|\n",
      "+-------+----------------+\n",
      "|  count|             143|\n",
      "|   mean|26609.3006993007|\n",
      "| stddev|7489.68398798835|\n",
      "|    min|         15153.0|\n",
      "|    max|         43003.0|\n",
      "+-------+----------------+\n",
      "\n",
      "Route3_Perf1:\n",
      "+-------+-----------------+\n",
      "|summary|            label|\n",
      "+-------+-----------------+\n",
      "|  count|            47519|\n",
      "|   mean|3925.794145499695|\n",
      "| stddev|2097.901932668559|\n",
      "|    min|             20.0|\n",
      "|    max|          14334.0|\n",
      "+-------+-----------------+\n",
      "\n",
      "Route2_Perf1:\n",
      "+-------+------------------+\n",
      "|summary|             label|\n",
      "+-------+------------------+\n",
      "|  count|              7727|\n",
      "|   mean|  4472.27526853889|\n",
      "| stddev|2521.3060910572644|\n",
      "|    min|              18.0|\n",
      "|    max|           15876.0|\n",
      "+-------+------------------+\n",
      "\n",
      "Route4_Perf1:\n",
      "+-------+--------------------+\n",
      "|summary|               label|\n",
      "+-------+--------------------+\n",
      "|  count|                1700|\n",
      "|   mean|   6414.228235294117|\n",
      "| stddev|   4392.768952328043|\n",
      "|    min|9.094947017730001...|\n",
      "|    max|             23966.0|\n",
      "+-------+--------------------+\n",
      "\n",
      "Route0_Perf2:\n",
      "+-------+------------------+\n",
      "|summary|             label|\n",
      "+-------+------------------+\n",
      "|  count|             17853|\n",
      "|   mean| 2331.823110961743|\n",
      "| stddev|1556.8814401904037|\n",
      "|    min|               0.0|\n",
      "|    max|           13930.0|\n",
      "+-------+------------------+\n",
      "\n",
      "Route1_Perf2:\n",
      "+-------+------------------+\n",
      "|summary|             label|\n",
      "+-------+------------------+\n",
      "|  count|               601|\n",
      "|   mean| 8080.747088186356|\n",
      "| stddev|4240.5067349625015|\n",
      "|    min|              28.0|\n",
      "|    max|           19839.0|\n",
      "+-------+------------------+\n",
      "\n",
      "Route3_Perf2:\n",
      "+-------+------------------+\n",
      "|summary|             label|\n",
      "+-------+------------------+\n",
      "|  count|             18233|\n",
      "|   mean|  4267.83595678166|\n",
      "| stddev|2284.0721170414336|\n",
      "|    min|               2.0|\n",
      "|    max|           14328.0|\n",
      "+-------+------------------+\n",
      "\n",
      "Route2_Perf2:\n",
      "+-------+-----------------+\n",
      "|summary|            label|\n",
      "+-------+-----------------+\n",
      "|  count|             3830|\n",
      "|   mean|4636.082245430809|\n",
      "| stddev|2842.737989760204|\n",
      "|    min|              1.0|\n",
      "|    max|          15866.0|\n",
      "+-------+-----------------+\n",
      "\n",
      "Route4_Perf2:\n",
      "+-------+-----------------+\n",
      "|summary|            label|\n",
      "+-------+-----------------+\n",
      "|  count|              758|\n",
      "|   mean|6187.346965699208|\n",
      "| stddev|4398.739505973367|\n",
      "|    min|             53.0|\n",
      "|    max|          24283.0|\n",
      "+-------+-----------------+\n",
      "\n",
      "time: 20.5 s\n"
     ]
    }
   ],
   "source": [
    "print \"Cluster Summaries\"\n",
    "for n in perf_cluster_numbers:\n",
    "    for i in route_cluster_numbers:\n",
    "        temp_df = reg_df[(reg_df['route cluster'] == i) & (reg_df['performance cluster'] == n)]\n",
    "        print 'Route%d_Perf%d:' % (i, n)\n",
    "        temp_df.describe('label').show()"
   ]
  },
  {
   "cell_type": "code",
   "execution_count": null,
   "metadata": {
    "collapsed": false,
    "deletable": true,
    "editable": true
   },
   "outputs": [
    {
     "name": "stdout",
     "output_type": "stream",
     "text": [
      "time: 63.8 ms\n"
     ]
    }
   ],
   "source": [
    "#model_dictionary\n",
    "model_dict = {}\n",
    "model_dict['lr'] = {'model': LinearRegression(featuresCol=\"features\", labelCol=\"label\"),\\\n",
    "                    'param': \"ParamGridBuilder() \\\n",
    "                    .addGrid(temp_lr.maxIter, [5, 10, 100]) \\\n",
    "                    .addGrid(temp_lr.regParam, [0, 0.1, 0.01]) \\\n",
    "                    .build()\"}\n",
    "\n",
    "model_dict['dt'] = {'model': DecisionTreeRegressor(featuresCol=\"features\", labelCol=\"label\",maxMemoryInMB=1028),\\\n",
    "                    'param': \"ParamGridBuilder() \\\n",
    "                    .addGrid(temp_lr.maxDepth, [3, 5]) \\\n",
    "                    .addGrid(temp_lr.minInfoGain, [0, 0.1, 1]) \\\n",
    "                    .build()\"}\n",
    "\n",
    "model_dict['gbt'] = {'model': GBTRegressor(featuresCol=\"features\", labelCol=\"label\", maxMemoryInMB=2056),\\\n",
    "                    'param': \"ParamGridBuilder() \\\n",
    "                    .addGrid(temp_lr.maxDepth, [3, 5]) \\\n",
    "                    .addGrid(temp_lr.maxIter, [10,20,40]) \\\n",
    "                    .build()\"}\n",
    "\n",
    "model_dict['rfr'] = {'model': RandomForestRegressor(featuresCol=\"features\", labelCol=\"label\", maxMemoryInMB = 2056),\\\n",
    "                    'param': \"ParamGridBuilder() \\\n",
    "                    .addGrid(temp_lr.maxDepth, [3, 5]) \\\n",
    "                    .addGrid(temp_lr.numTrees, [10,20,40]) \\\n",
    "                    .build()\"}"
   ]
  },
  {
   "cell_type": "code",
   "execution_count": null,
   "metadata": {
    "collapsed": false,
    "deletable": true,
    "editable": true
   },
   "outputs": [
    {
     "name": "stdout",
     "output_type": "stream",
     "text": [
      "(Route, Perf, Model): (0, 0, 'rfr'): 960.56020737\n",
      "RandomForestRegressionModel (uid=rfr_421be768b91e) with 20 trees\n",
      "(Route, Perf, Model): (2, 0, 'lr'): 1177.94838983\n",
      "LinearRegression_4f2c8fa7300214f1210b\n",
      "(Route, Perf, Model): (4, 0, 'lr'): 2790.57792829\n",
      "LinearRegression_4f2c8fa7300214f1210b\n",
      "(Route, Perf, Model): (0, 1, 'lr'): 1060.52086606\n",
      "LinearRegression_4f2c8fa7300214f1210b\n",
      "(Route, Perf, Model): (1, 1, 'lr'): 5477.98221579\n",
      "LinearRegression_4f2c8fa7300214f1210b\n",
      "(Route, Perf, Model): (3, 1, 'lr'): 989.361385875\n",
      "LinearRegression_4f2c8fa7300214f1210b\n",
      "(Route, Perf, Model): (2, 1, 'lr'): 1465.48737067\n",
      "LinearRegression_4f2c8fa7300214f1210b\n",
      "(Route, Perf, Model): (4, 1, 'lr'): 2469.00265376\n",
      "LinearRegression_4f2c8fa7300214f1210b\n",
      "(Route, Perf, Model): (0, 2, 'lr'): 803.561676308\n",
      "LinearRegression_4f2c8fa7300214f1210b\n",
      "(Route, Perf, Model): (1, 2, 'lr'): 3135.22991931\n",
      "LinearRegression_4f2c8fa7300214f1210b\n",
      "(Route, Perf, Model): (3, 2, 'lr'): 1369.01025686\n",
      "LinearRegression_4f2c8fa7300214f1210b\n",
      "(Route, Perf, Model): (4, 1, 'gbt'): 886.488543788\n",
      "GBTRegressionModel (uid=GBTRegressor_402c95ecea30c204527f) with 40 trees\n"
     ]
    }
   ],
   "source": [
    "for m in model_dict.keys():\n",
    "    for n in perf_cluster_numbers:\n",
    "        for i in route_cluster_numbers:\n",
    "            temp_df = reg_df[(reg_df['route cluster'] == i) & (reg_df['performance cluster'] == n)]\n",
    "            #temp_df1 = reg_df[reg_df['route cluster']==i]\n",
    "            #temp_df = temp_df1[reg_df['performance cluster']==n]\n",
    "            temp_df_cv = temp_df\n",
    "\n",
    "            if temp_df.count() < 5:\n",
    "                print \"Cluster pair dropped: Route%d_Perf%d_%s\" % (i,n,m)\n",
    "                pass\n",
    "\n",
    "            else:\n",
    "                temp_lr = model_dict[m]['model']\n",
    "                temp_lrModel = temp_lr.fit(temp_df['label','features'])\n",
    "                temp_df = temp_lrModel.transform(temp_df)\n",
    "\n",
    "                paramGrid = eval(model_dict[m]['param'])\n",
    "                #paramGrid = ParamGridBuilder() \\\n",
    "                #.addGrid(temp_lr.maxDepth, [3, 5]) \\\n",
    "                #.addGrid(temp_lr.numTrees, [10,20,40]) \\\n",
    "                #.build()\n",
    "\n",
    "\n",
    "                evaluator = RegressionEvaluator(\n",
    "                    labelCol=\"label\", predictionCol=\"prediction\", metricName=\"mae\")\n",
    "\n",
    "                crossval = CrossValidator(estimator=temp_lr,\n",
    "                                          estimatorParamMaps=paramGrid,\n",
    "                                          evaluator=evaluator,\n",
    "                                          numFolds=10)  # use 3+ folds in practice\n",
    "\n",
    "                # Run cross-validation, and choose the best set of parameters.\n",
    "                cvModel = crossval.fit(temp_df_cv)\n",
    "\n",
    "                pred = cvModel.transform(temp_df_cv)\n",
    "\n",
    "\n",
    "                #print(\"For \" + str(type(temp_lr)) + \" and cluster \" + str(i))\n",
    "                #print(cvModel.explainParams())\n",
    "\n",
    "                #Print the coefficients and intercept for linear regression\n",
    "                #print(\"Coefficients: \" + str(temp_lrModel.coefficients))\n",
    "                #print(\"Intercept: \" + str(temp_lrModel.intercept))\n",
    "\n",
    "\n",
    "                \n",
    "                mae = evaluator.evaluate(pred)\n",
    "                rmse = evaluator.evaluate(pred,{evaluator.metricName: \"rmse\"})\n",
    "                r2 = evaluator.evaluate(pred, {evaluator.metricName: \"r2\"})\n",
    "\n",
    "                model_dict[m]['Route%d_Perf%d_%s' % (i,n,m)]={}\n",
    "                model_dict[m]['Route%d_Perf%d_%s' % (i,n,m)]['mae'] = mae\n",
    "                model_dict[m]['Route%d_Perf%d_%s' % (i,n,m)]['rmse'] = rmse\n",
    "                model_dict[m]['Route%d_Perf%d_%s' % (i,n,m)]['r2'] = r2\n",
    "                \n",
    "\n",
    "                \n",
    "                print(\"(Route, Perf, Model): \" + str((i,n,m)) +\": \" + str(rmse))\n",
    "                print(cvModel.bestModel)\n",
    "                #print(cvModel.bestModel.weights)\n",
    "                #print(cvModel.bestModel.coefficients)\n",
    "                basePath = \"/home/ubuntu/Regression_4th_Iteration/Models/\"\n",
    "                cvModel.bestModel.save(basePath +\"Route%d_Perf%d_%s\" % (i,n,m))\n",
    "                \n",
    "                model_dict[m]['Route%d_Perf%d_%s' % (i,n,m)][\"path\"] = basePath +\"Route%d_Perf%d_%s\" % (n,i,m)\n",
    " "
   ]
  },
  {
   "cell_type": "code",
   "execution_count": 15,
   "metadata": {
    "collapsed": false,
    "deletable": true,
    "editable": true
   },
   "outputs": [
    {
     "data": {
      "text/plain": [
       "{'dt': {'Route0_Perf0_dt': {'mae': 526.2860448281214,\n",
       "   'path': '/home/ubuntu/Regression_4th_Iteration/Models/Route0_Perf0_dt',\n",
       "   'r2': 0.653202242038257,\n",
       "   'rmse': 918.2711915465923},\n",
       "  'Route0_Perf1_dt': {'mae': 598.5095908286135,\n",
       "   'path': '/home/ubuntu/Regression_4th_Iteration/Models/Route1_Perf0_dt',\n",
       "   'r2': 0.6601933338824966,\n",
       "   'rmse': 936.6953747407589},\n",
       "  'Route0_Perf2_dt': {'mae': 362.2477960766258,\n",
       "   'path': '/home/ubuntu/Regression_4th_Iteration/Models/Route2_Perf0_dt',\n",
       "   'r2': 0.8631485301130457,\n",
       "   'rmse': 575.927891213726},\n",
       "  'Route1_Perf0_dt': {'mae': 2281.4506561327416,\n",
       "   'path': '/home/ubuntu/Regression_4th_Iteration/Models/Route0_Perf1_dt',\n",
       "   'r2': 0.7331699692337391,\n",
       "   'rmse': 3177.572470732732},\n",
       "  'Route1_Perf1_dt': {'mae': 4010.716879502928,\n",
       "   'path': '/home/ubuntu/Regression_4th_Iteration/Models/Route1_Perf1_dt',\n",
       "   'r2': 0.5268307056311299,\n",
       "   'rmse': 5133.906138575599},\n",
       "  'Route1_Perf2_dt': {'mae': 1531.5838930965754,\n",
       "   'path': '/home/ubuntu/Regression_4th_Iteration/Models/Route2_Perf1_dt',\n",
       "   'r2': 0.7537457435847843,\n",
       "   'rmse': 2102.558167452976},\n",
       "  'Route2_Perf0_dt': {'mae': 719.3068065932431,\n",
       "   'path': '/home/ubuntu/Regression_4th_Iteration/Models/Route0_Perf2_dt',\n",
       "   'r2': 0.7962833460574841,\n",
       "   'rmse': 1131.191433662649},\n",
       "  'Route2_Perf1_dt': {'mae': 894.2484346512161,\n",
       "   'path': '/home/ubuntu/Regression_4th_Iteration/Models/Route1_Perf2_dt',\n",
       "   'r2': 0.7308088156934902,\n",
       "   'rmse': 1308.0606628149128},\n",
       "  'Route2_Perf2_dt': {'mae': 1183.4897886581748,\n",
       "   'path': '/home/ubuntu/Regression_4th_Iteration/Models/Route2_Perf2_dt',\n",
       "   'r2': 0.6373233280643269,\n",
       "   'rmse': 1711.7484388861708},\n",
       "  'Route3_Perf0_dt': {'mae': 811.0379994913451,\n",
       "   'path': '/home/ubuntu/Regression_4th_Iteration/Models/Route0_Perf3_dt',\n",
       "   'r2': 0.7581729986982573,\n",
       "   'rmse': 1183.2745590335196},\n",
       "  'Route3_Perf1_dt': {'mae': 600.0809811104112,\n",
       "   'path': '/home/ubuntu/Regression_4th_Iteration/Models/Route1_Perf3_dt',\n",
       "   'r2': 0.8069679713889332,\n",
       "   'rmse': 921.7121251845856},\n",
       "  'Route3_Perf2_dt': {'mae': 837.8556266926679,\n",
       "   'path': '/home/ubuntu/Regression_4th_Iteration/Models/Route2_Perf3_dt',\n",
       "   'r2': 0.6906041491793037,\n",
       "   'rmse': 1270.44288364169},\n",
       "  'Route4_Perf0_dt': {'mae': 1568.8396135829946,\n",
       "   'path': '/home/ubuntu/Regression_4th_Iteration/Models/Route0_Perf4_dt',\n",
       "   'r2': 0.7108234719904776,\n",
       "   'rmse': 2239.178144470197},\n",
       "  'Route4_Perf1_dt': {'mae': 1075.7932027775105,\n",
       "   'path': '/home/ubuntu/Regression_4th_Iteration/Models/Route1_Perf4_dt',\n",
       "   'r2': 0.8469142749384042,\n",
       "   'rmse': 1718.216707354531},\n",
       "  'Route4_Perf2_dt': {'mae': 1719.6193601061532,\n",
       "   'path': '/home/ubuntu/Regression_4th_Iteration/Models/Route2_Perf4_dt',\n",
       "   'r2': 0.6877064690435757,\n",
       "   'rmse': 2456.5356703238763},\n",
       "  'model': DecisionTreeRegressor_4116baa40279c7c31f75,\n",
       "  'param': 'ParamGridBuilder()                     .addGrid(temp_lr.maxDepth, [3, 5])                     .addGrid(temp_lr.minInfoGain, [0, 0.1, 1])                     .build()'},\n",
       " 'gbt': {'Route0_Perf0_gbt': {'mae': 425.9028372970174,\n",
       "   'path': '/home/ubuntu/Regression_4th_Iteration/Models/Route0_Perf0_gbt',\n",
       "   'r2': 0.7470213510275467,\n",
       "   'rmse': 784.2865252950589},\n",
       "  'Route0_Perf1_gbt': {'mae': 495.6377663233053,\n",
       "   'path': '/home/ubuntu/Regression_4th_Iteration/Models/Route1_Perf0_gbt',\n",
       "   'r2': 0.746177584798309,\n",
       "   'rmse': 809.5569671096243},\n",
       "  'Route0_Perf2_gbt': {'mae': 264.02211490691707,\n",
       "   'path': '/home/ubuntu/Regression_4th_Iteration/Models/Route2_Perf0_gbt',\n",
       "   'r2': 0.9175953477808106,\n",
       "   'rmse': 446.909146820659},\n",
       "  'Route1_Perf0_gbt': {'mae': 1747.7091327841747,\n",
       "   'path': '/home/ubuntu/Regression_4th_Iteration/Models/Route0_Perf1_gbt',\n",
       "   'r2': 0.84810154285431,\n",
       "   'rmse': 2397.4788933891764},\n",
       "  'Route1_Perf1_gbt': {'mae': 1580.6718649584243,\n",
       "   'path': '/home/ubuntu/Regression_4th_Iteration/Models/Route1_Perf1_gbt',\n",
       "   'r2': 0.911062257177,\n",
       "   'rmse': 2225.782374243733},\n",
       "  'Route1_Perf2_gbt': {'mae': 1176.3070873914219,\n",
       "   'path': '/home/ubuntu/Regression_4th_Iteration/Models/Route2_Perf1_gbt',\n",
       "   'r2': 0.8690655549472512,\n",
       "   'rmse': 1533.144546145021},\n",
       "  'Route2_Perf0_gbt': {'mae': 518.2636694873084,\n",
       "   'path': '/home/ubuntu/Regression_4th_Iteration/Models/Route0_Perf2_gbt',\n",
       "   'r2': 0.8901431506709233,\n",
       "   'rmse': 830.6850801001895},\n",
       "  'Route2_Perf1_gbt': {'mae': 672.0813200136876,\n",
       "   'path': '/home/ubuntu/Regression_4th_Iteration/Models/Route1_Perf2_gbt',\n",
       "   'r2': 0.8432238523208314,\n",
       "   'rmse': 998.2457345163278},\n",
       "  'Route2_Perf2_gbt': {'mae': 732.4158813955294,\n",
       "   'path': '/home/ubuntu/Regression_4th_Iteration/Models/Route2_Perf2_gbt',\n",
       "   'r2': 0.8458484020095388,\n",
       "   'rmse': 1115.9741763037619},\n",
       "  'Route3_Perf0_gbt': {'mae': 645.0528093601931,\n",
       "   'path': '/home/ubuntu/Regression_4th_Iteration/Models/Route0_Perf3_gbt',\n",
       "   'r2': 0.8365089504059079,\n",
       "   'rmse': 972.9267019777849},\n",
       "  'Route3_Perf1_gbt': {'mae': 480.8410324917434,\n",
       "   'path': '/home/ubuntu/Regression_4th_Iteration/Models/Route1_Perf3_gbt',\n",
       "   'r2': 0.8633895763018693,\n",
       "   'rmse': 775.394172020089},\n",
       "  'Route3_Perf2_gbt': {'mae': 642.9137502636431,\n",
       "   'path': '/home/ubuntu/Regression_4th_Iteration/Models/Route2_Perf3_gbt',\n",
       "   'r2': 0.8069143714982197,\n",
       "   'rmse': 1003.6282501086374},\n",
       "  'Route4_Perf0_gbt': {'mae': 867.9597039130414,\n",
       "   'path': '/home/ubuntu/Regression_4th_Iteration/Models/Route0_Perf4_gbt',\n",
       "   'r2': 0.9129054329261392,\n",
       "   'rmse': 1228.8607113880225},\n",
       "  'Route4_Perf1_gbt': {'mae': 595.4570238857366,\n",
       "   'path': '/home/ubuntu/Regression_4th_Iteration/Models/Route1_Perf4_gbt',\n",
       "   'r2': 0.9592502381251554,\n",
       "   'rmse': 886.4885437878557},\n",
       "  'Route4_Perf2_gbt': {'mae': 1440.3792605010515,\n",
       "   'path': '/home/ubuntu/Regression_4th_Iteration/Models/Route2_Perf4_gbt',\n",
       "   'r2': 0.7796012685253746,\n",
       "   'rmse': 2063.6979177416747},\n",
       "  'model': GBTRegressor_402c95ecea30c204527f,\n",
       "  'param': 'ParamGridBuilder()                     .addGrid(temp_lr.maxDepth, [3, 5])                     .addGrid(temp_lr.maxIter, [10,20,40])                     .build()'},\n",
       " 'lr': {'Route0_Perf0_lr': {'mae': 551.5783950798719,\n",
       "   'path': '/home/ubuntu/Regression_4th_Iteration/Models/Route0_Perf0_lr',\n",
       "   'r2': 0.6357584229632541,\n",
       "   'rmse': 941.0822407830996},\n",
       "  'Route0_Perf1_lr': {'mae': 710.5044424546605,\n",
       "   'path': '/home/ubuntu/Regression_4th_Iteration/Models/Route1_Perf0_lr',\n",
       "   'r2': 0.5644143353696387,\n",
       "   'rmse': 1060.5208660587555},\n",
       "  'Route0_Perf2_lr': {'mae': 485.4513627068919,\n",
       "   'path': '/home/ubuntu/Regression_4th_Iteration/Models/Route2_Perf0_lr',\n",
       "   'r2': 0.7335892923099856,\n",
       "   'rmse': 803.5616763079986},\n",
       "  'Route1_Perf0_lr': {'mae': 3157.465950687154,\n",
       "   'path': '/home/ubuntu/Regression_4th_Iteration/Models/Route0_Perf1_lr',\n",
       "   'r2': 0.4911504620262602,\n",
       "   'rmse': 4388.062486903189},\n",
       "  'Route1_Perf1_lr': {'mae': 4235.861468563838,\n",
       "   'path': '/home/ubuntu/Regression_4th_Iteration/Models/Route1_Perf1_lr',\n",
       "   'r2': 0.4612814362012039,\n",
       "   'rmse': 5477.982215794996},\n",
       "  'Route1_Perf2_lr': {'mae': 2384.9625469652724,\n",
       "   'path': '/home/ubuntu/Regression_4th_Iteration/Models/Route2_Perf1_lr',\n",
       "   'r2': 0.45244657877306416,\n",
       "   'rmse': 3135.2299193115523},\n",
       "  'Route2_Perf0_lr': {'mae': 689.3903591868573,\n",
       "   'path': '/home/ubuntu/Regression_4th_Iteration/Models/Route0_Perf2_lr',\n",
       "   'r2': 0.7790943393321826,\n",
       "   'rmse': 1177.948389833822},\n",
       "  'Route2_Perf1_lr': {'mae': 967.0923306880577,\n",
       "   'path': '/home/ubuntu/Regression_4th_Iteration/Models/Route1_Perf2_lr',\n",
       "   'r2': 0.662114758478558,\n",
       "   'rmse': 1465.4873706672727},\n",
       "  'Route2_Perf2_lr': {'mae': 1242.627139236909,\n",
       "   'path': '/home/ubuntu/Regression_4th_Iteration/Models/Route2_Perf2_lr',\n",
       "   'r2': 0.5634172624441669,\n",
       "   'rmse': 1878.0770662740504},\n",
       "  'Route3_Perf0_lr': {'mae': 851.5099410554541,\n",
       "   'path': '/home/ubuntu/Regression_4th_Iteration/Models/Route0_Perf3_lr',\n",
       "   'r2': 0.686161053822042,\n",
       "   'rmse': 1347.9896268759753},\n",
       "  'Route3_Perf1_lr': {'mae': 552.8797197012249,\n",
       "   'path': '/home/ubuntu/Regression_4th_Iteration/Models/Route1_Perf3_lr',\n",
       "   'r2': 0.7775928803659677,\n",
       "   'rmse': 989.361385874757},\n",
       "  'Route3_Perf2_lr': {'mae': 869.7135383728396,\n",
       "   'path': '/home/ubuntu/Regression_4th_Iteration/Models/Route2_Perf3_lr',\n",
       "   'r2': 0.6407327750644034,\n",
       "   'rmse': 1369.01025685899},\n",
       "  'Route4_Perf0_lr': {'mae': 1985.6623446697627,\n",
       "   'path': '/home/ubuntu/Regression_4th_Iteration/Models/Route0_Perf4_lr',\n",
       "   'r2': 0.5508679412544362,\n",
       "   'rmse': 2790.5779282928174},\n",
       "  'Route4_Perf1_lr': {'mae': 1436.371661626858,\n",
       "   'path': '/home/ubuntu/Regression_4th_Iteration/Models/Route1_Perf4_lr',\n",
       "   'r2': 0.6839018648855393,\n",
       "   'rmse': 2469.002653756465},\n",
       "  'Route4_Perf2_lr': {'mae': 2481.808622430824,\n",
       "   'path': '/home/ubuntu/Regression_4th_Iteration/Models/Route2_Perf4_lr',\n",
       "   'r2': 0.3404319539550189,\n",
       "   'rmse': 3570.02604365948},\n",
       "  'model': LinearRegression_4f2c8fa7300214f1210b,\n",
       "  'param': 'ParamGridBuilder()                     .addGrid(temp_lr.maxIter, [5, 10, 100])                     .addGrid(temp_lr.regParam, [0, 0.1, 0.01])                     .build()'},\n",
       " 'rfr': {'Route0_Perf0_rfr': {'mae': 578.6454373540787,\n",
       "   'path': '/home/ubuntu/Regression_4th_Iteration/Models/Route0_Perf0_rfr',\n",
       "   'r2': 0.6205246723570512,\n",
       "   'rmse': 960.5602073699389},\n",
       "  'Route0_Perf1_rfr': {'mae': 647.1821174613553,\n",
       "   'path': '/home/ubuntu/Regression_4th_Iteration/Models/Route1_Perf0_rfr',\n",
       "   'r2': 0.6334550447837877,\n",
       "   'rmse': 972.8503778576463},\n",
       "  'Route0_Perf2_rfr': {'mae': 475.70067913318496,\n",
       "   'path': '/home/ubuntu/Regression_4th_Iteration/Models/Route2_Perf0_rfr',\n",
       "   'r2': 0.8058591076864429,\n",
       "   'rmse': 685.9648916778915},\n",
       "  'Route1_Perf0_rfr': {'mae': 2262.637997223345,\n",
       "   'path': '/home/ubuntu/Regression_4th_Iteration/Models/Route0_Perf1_rfr',\n",
       "   'r2': 0.7439789631376118,\n",
       "   'rmse': 3112.5471369051997},\n",
       "  'Route1_Perf1_rfr': {'mae': 3000.7702196259706,\n",
       "   'path': '/home/ubuntu/Regression_4th_Iteration/Models/Route1_Perf1_rfr',\n",
       "   'r2': 0.7364468723246169,\n",
       "   'rmse': 3831.543271511385},\n",
       "  'Route1_Perf2_rfr': {'mae': 1630.1725424372933,\n",
       "   'path': '/home/ubuntu/Regression_4th_Iteration/Models/Route2_Perf1_rfr',\n",
       "   'r2': 0.7530550437422576,\n",
       "   'rmse': 2105.5047555137976},\n",
       "  'Route2_Perf0_rfr': {'mae': 787.3480768755393,\n",
       "   'path': '/home/ubuntu/Regression_4th_Iteration/Models/Route0_Perf2_rfr',\n",
       "   'r2': 0.7627267471668904,\n",
       "   'rmse': 1220.8076233203215},\n",
       "  'Route2_Perf1_rfr': {'mae': 972.5772836530238,\n",
       "   'path': '/home/ubuntu/Regression_4th_Iteration/Models/Route1_Perf2_rfr',\n",
       "   'r2': 0.6984363264120073,\n",
       "   'rmse': 1384.480940403791},\n",
       "  'Route2_Perf2_rfr': {'mae': 1254.8281599037928,\n",
       "   'path': '/home/ubuntu/Regression_4th_Iteration/Models/Route2_Perf2_rfr',\n",
       "   'r2': 0.617612635839889,\n",
       "   'rmse': 1757.6479660462644},\n",
       "  'Route3_Perf0_rfr': {'mae': 898.9969832901173,\n",
       "   'path': '/home/ubuntu/Regression_4th_Iteration/Models/Route0_Perf3_rfr',\n",
       "   'r2': 0.7203525779565529,\n",
       "   'rmse': 1272.4436004200813},\n",
       "  'Route3_Perf1_rfr': {'mae': 695.2913147905995,\n",
       "   'path': '/home/ubuntu/Regression_4th_Iteration/Models/Route1_Perf3_rfr',\n",
       "   'r2': 0.7558100786368511,\n",
       "   'rmse': 1036.6794289267743},\n",
       "  'Route3_Perf2_rfr': {'mae': 937.5773328256287,\n",
       "   'path': '/home/ubuntu/Regression_4th_Iteration/Models/Route2_Perf3_rfr',\n",
       "   'r2': 0.6476331553113222,\n",
       "   'rmse': 1355.7993489201465},\n",
       "  'Route4_Perf0_rfr': {'mae': 1580.1316332519832,\n",
       "   'path': '/home/ubuntu/Regression_4th_Iteration/Models/Route0_Perf4_rfr',\n",
       "   'r2': 0.7086779344805061,\n",
       "   'rmse': 2247.4695545743957},\n",
       "  'Route4_Perf1_rfr': {'mae': 1161.2316630520804,\n",
       "   'path': '/home/ubuntu/Regression_4th_Iteration/Models/Route1_Perf4_rfr',\n",
       "   'r2': 0.8310987630207882,\n",
       "   'rmse': 1804.7913674205688},\n",
       "  'Route4_Perf2_rfr': {'mae': 1860.6662140330336,\n",
       "   'path': '/home/ubuntu/Regression_4th_Iteration/Models/Route2_Perf4_rfr',\n",
       "   'r2': 0.6458977865326316,\n",
       "   'rmse': 2615.808227575415},\n",
       "  'model': RandomForestRegressor_4c22bc3c9c722fb1d3e1,\n",
       "  'param': 'ParamGridBuilder()                     .addGrid(temp_lr.maxDepth, [3, 5])                     .addGrid(temp_lr.numTrees, [10,20,40])                     .build()'}}"
      ]
     },
     "execution_count": 15,
     "metadata": {},
     "output_type": "execute_result"
    },
    {
     "name": "stdout",
     "output_type": "stream",
     "text": [
      "time: 13.7 ms\n"
     ]
    }
   ],
   "source": [
    "model_dict"
   ]
  },
  {
   "cell_type": "code",
   "execution_count": 16,
   "metadata": {
    "collapsed": false
   },
   "outputs": [
    {
     "name": "stdout",
     "output_type": "stream",
     "text": [
      "/home/ubuntu/Regression_4th_Iteration\n",
      "time: 124 ms\n"
     ]
    }
   ],
   "source": [
    "!pwd"
   ]
  },
  {
   "cell_type": "code",
   "execution_count": 19,
   "metadata": {
    "collapsed": false
   },
   "outputs": [
    {
     "data": {
      "text/plain": [
       "['rfr', 'dt', 'lr', 'gbt']"
      ]
     },
     "execution_count": 19,
     "metadata": {},
     "output_type": "execute_result"
    },
    {
     "name": "stdout",
     "output_type": "stream",
     "text": [
      "time: 2.63 ms\n"
     ]
    }
   ],
   "source": [
    "model_dict.keys()"
   ]
  },
  {
   "cell_type": "code",
   "execution_count": 21,
   "metadata": {
    "collapsed": false
   },
   "outputs": [
    {
     "name": "stdout",
     "output_type": "stream",
     "text": [
      "time: 892 µs\n"
     ]
    }
   ],
   "source": [
    "model_dict.pop('model', None)"
   ]
  },
  {
   "cell_type": "code",
   "execution_count": 22,
   "metadata": {
    "collapsed": false
   },
   "outputs": [
    {
     "data": {
      "text/plain": [
       "['Route4_Perf1_rfr',\n",
       " 'Route2_Perf1_rfr',\n",
       " 'Route3_Perf1_rfr',\n",
       " 'Route0_Perf2_rfr',\n",
       " 'param',\n",
       " 'Route3_Perf2_rfr',\n",
       " 'Route1_Perf1_rfr',\n",
       " 'Route2_Perf2_rfr',\n",
       " 'Route1_Perf2_rfr',\n",
       " 'Route1_Perf0_rfr',\n",
       " 'Route2_Perf0_rfr',\n",
       " 'Route0_Perf0_rfr',\n",
       " 'model',\n",
       " 'Route3_Perf0_rfr',\n",
       " 'Route4_Perf0_rfr',\n",
       " 'Route0_Perf1_rfr',\n",
       " 'Route4_Perf2_rfr']"
      ]
     },
     "execution_count": 22,
     "metadata": {},
     "output_type": "execute_result"
    },
    {
     "name": "stdout",
     "output_type": "stream",
     "text": [
      "time: 2.92 ms\n"
     ]
    }
   ],
   "source": [
    "model_dict['rfr'].keys()"
   ]
  },
  {
   "cell_type": "code",
   "execution_count": 23,
   "metadata": {
    "collapsed": false
   },
   "outputs": [
    {
     "data": {
      "text/plain": [
       "RandomForestRegressor_4c22bc3c9c722fb1d3e1"
      ]
     },
     "execution_count": 23,
     "metadata": {},
     "output_type": "execute_result"
    },
    {
     "name": "stdout",
     "output_type": "stream",
     "text": [
      "time: 2.84 ms\n"
     ]
    }
   ],
   "source": [
    "model_dict['rfr'].pop('model', None)"
   ]
  },
  {
   "cell_type": "code",
   "execution_count": 24,
   "metadata": {
    "collapsed": false
   },
   "outputs": [
    {
     "data": {
      "text/plain": [
       "DecisionTreeRegressor_4116baa40279c7c31f75"
      ]
     },
     "execution_count": 24,
     "metadata": {},
     "output_type": "execute_result"
    },
    {
     "name": "stdout",
     "output_type": "stream",
     "text": [
      "time: 3.57 ms\n"
     ]
    }
   ],
   "source": [
    "model_dict['gbt'].pop('model', None)\n",
    "model_dict['lr'].pop('model', None)\n",
    "model_dict['dt'].pop('model', None)"
   ]
  },
  {
   "cell_type": "code",
   "execution_count": 25,
   "metadata": {
    "collapsed": false,
    "deletable": true,
    "editable": true
   },
   "outputs": [
    {
     "name": "stdout",
     "output_type": "stream",
     "text": [
      "time: 2.97 ms\n"
     ]
    }
   ],
   "source": [
    "import json\n",
    " \n",
    " \n",
    "json = json.dumps(model_dict)\n",
    "f = open(\"model_dict.json\",\"w\")\n",
    "f.write(json)\n",
    "f.close()\n",
    "\n"
   ]
  },
  {
   "cell_type": "code",
   "execution_count": 26,
   "metadata": {
    "collapsed": false
   },
   "outputs": [
    {
     "name": "stdout",
     "output_type": "stream",
     "text": [
      "time: 3.51 ms\n"
     ]
    }
   ],
   "source": [
    "import pickle\n",
    "f = open(\"model_dict.pkl\",\"wb\")\n",
    "pickle.dump(model_dict,f)\n",
    "f.close()"
   ]
  },
  {
   "cell_type": "code",
   "execution_count": null,
   "metadata": {
    "collapsed": true
   },
   "outputs": [],
   "source": []
  }
 ],
 "metadata": {
  "kernelspec": {
   "display_name": "Python 2",
   "language": "python",
   "name": "python2"
  },
  "language_info": {
   "codemirror_mode": {
    "name": "ipython",
    "version": 2
   },
   "file_extension": ".py",
   "mimetype": "text/x-python",
   "name": "python",
   "nbconvert_exporter": "python",
   "pygments_lexer": "ipython2",
   "version": "2.7.12"
  }
 },
 "nbformat": 4,
 "nbformat_minor": 2
}
